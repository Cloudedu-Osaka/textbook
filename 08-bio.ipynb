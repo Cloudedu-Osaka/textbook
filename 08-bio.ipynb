{
 "cells": [
  {
   "cell_type": "markdown",
   "id": "6e4f2da9-2101-49eb-8865-f90a1e56bc58",
   "metadata": {},
   "source": [
    "## 高校生物"
   ]
  },
  {
   "cell_type": "markdown",
   "id": "66e05848-8413-4d50-8e05-458a1659b233",
   "metadata": {},
   "source": [
    "* 核酸\n",
    "  - [Nucleic acid - Wikipedia](https://en.wikipedia.org/wiki/Nucleic_acid)\n",
    "    - [DNA - Wikipedia](https://en.wikipedia.org/wiki/DNA)\n",
    "    - [RNA - Wikipedia](https://en.wikipedia.org/wiki/RNA)\n",
    "  - [Nucleotide - Wikipedia](https://en.wikipedia.org/wiki/Nucleotide)\n",
    "    - [Nucleoside - Wikipedia](https://en.wikipedia.org/wiki/Nucleoside)\n",
    "        - [Nucleobase - Wikipedia](https://en.wikipedia.org/wiki/Nucleobase)\n",
    "        - [Pentose - Wikipedia](https://en.wikipedia.org/wiki/Pentose)\n",
    "          - [Ribose - Wikipedia](https://en.wikipedia.org/wiki/Ribose)\n",
    "          - [Deoxyribose - Wikipedia](https://en.wikipedia.org/wiki/Deoxyribose)\n",
    "    - [Phosphate - Wikipedia](https://en.wikipedia.org/wiki/Phosphate)\n",
    "* 塩基対\n",
    "  - [Base pair - Wikipedia](https://en.wikipedia.org/wiki/Base_pair)\n",
    "* コドン表\n",
    "  - [Genetic code - Wikipedia](https://en.wikipedia.org/wiki/Genetic_code#Codons)#Codons\n",
    "  - [DNA and RNA codon tables - Wikipedia](https://en.wikipedia.org/wiki/DNA_and_RNA_codon_tables)\n",
    "* [Genetic code - Wikipedia](https://en.wikipedia.org/wiki/Genetic_code)\n",
    "  - Reading frame\n",
    "    - [Open reading frame - Wikipedia](https://en.wikipedia.org/wiki/Open_reading_frame)\n",
    "  - Start and stop codons\n",
    "    - [Start codon - Wikipedia](https://en.wikipedia.org/wiki/Start_codon)\n",
    "    - [Stop codon - Wikipedia](https://en.wikipedia.org/wiki/Stop_codon)\n",
    "* 転写\n",
    "   - [Transcription (biology) - Wikipedia](https://en.wikipedia.org/wiki/Transcription_%28biology%29)\n",
    "     - [RNA polymerase - Wikipedia](https://en.wikipedia.org/wiki/RNA_polymerase)\n",
    "     - DNA: [Operon - Wikipedia](https://en.wikipedia.org/wiki/Operon)\n",
    "       - [Activator (genetics) - Wikipedia](https://en.wikipedia.org/wiki/Activator_%28genetics%29)\n",
    "         - [Catabolite activator protein - Wikipedia](https://en.wikipedia.org/wiki/Catabolite_activator_protein)\n",
    "       - [Promoter (genetics) - Wikipedia](https://en.wikipedia.org/wiki/Promoter_%28genetics%29)\n",
    "       - Operator\n",
    "       - [Enhancer (genetics) - Wikipedia](https://en.wikipedia.org/wiki/Enhancer_%28genetics%29)\n",
    "       - [Intrinsic termination - Wikipedia](https://en.wikipedia.org/wiki/Intrinsic_termination)\n",
    "         - [Rhodopsin - Wikipedia](https://en.wikipedia.org/wiki/Rhodopsin)\n",
    "* 翻訳\n",
    "  - [Ribosome - Wikipedia](https://en.wikipedia.org/wiki/Ribosome)"
   ]
  },
  {
   "cell_type": "markdown",
   "id": "cd38cc70-0c9e-40b1-8f6a-69ed18e05ad1",
   "metadata": {},
   "source": [
    "* [NHK高校講座 | 生物基礎 | 第12回 DNAの正確な複製](https://www.nhk.or.jp/kokokoza/tv/seibutsukiso/archive/resume012.html)\n",
    "* [NHK高校講座 | 生物基礎 | 第13回 DNAとタンパク質合成](https://www.nhk.or.jp/kokokoza/tv/seibutsukiso/archive/resume013.html)\n",
    "* [NHK高校講座 | 生物基礎 | 第14回 セントラルドグマ](https://www.nhk.or.jp/kokokoza/tv/seibutsukiso/archive/resume014.html)"
   ]
  },
  {
   "cell_type": "markdown",
   "id": "71d89ea3-88ed-48a9-94bf-d5daedbac760",
   "metadata": {},
   "source": [
    "* [tutorials.dna.promoter.ipynb - Colaboratory](https://colab.research.google.com/github/DarkMatterAI/mrl/blob/master/nbs/tutorials/tutorials.dna.promoter.ipynb)\n",
    "\n",
    "\n",
    "* [DNAからmRNAへ転写される反応のメカニズムを世界で初めて解明 －分子生物学のセントラルドグマ解明の手がかりをつかむ－ — SPring-8 Web Site](http://www.spring8.or.jp/ja/news_publications/research_highlights/no_14/)"
   ]
  },
  {
   "cell_type": "markdown",
   "id": "c113f2bb-6661-49f9-b496-4f328b8166ad",
   "metadata": {},
   "source": [
    "## DNA map\n",
    "\n",
    "* [E.coli lactose operon with lacI, lacZ, lacY and lacA genes - Nucleotide - NCBI](https://www.ncbi.nlm.nih.gov/nucleotide/146575)\n",
    "* [Escherichia coli K-12 substr. MG1655 lacZ](https://biocyc.org/ECOLI/NEW-IMAGE?type=LOCUS-POSITION&object=EG10527&chromosome=COLI-K12#)"
   ]
  }
 ],
 "metadata": {
  "kernelspec": {
   "display_name": "Python 3 (ipykernel)",
   "language": "python",
   "name": "python3"
  },
  "language_info": {
   "codemirror_mode": {
    "name": "ipython",
    "version": 3
   },
   "file_extension": ".py",
   "mimetype": "text/x-python",
   "name": "python",
   "nbconvert_exporter": "python",
   "pygments_lexer": "ipython3",
   "version": "3.9.12"
  },
  "toc": {
   "base_numbering": 1,
   "nav_menu": {},
   "number_sections": true,
   "sideBar": true,
   "skip_h1_title": false,
   "title_cell": "Table of Contents",
   "title_sidebar": "Contents",
   "toc_cell": false,
   "toc_position": {},
   "toc_section_display": true,
   "toc_window_display": false
  }
 },
 "nbformat": 4,
 "nbformat_minor": 5
}
