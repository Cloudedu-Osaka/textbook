{
 "cells": [
  {
   "cell_type": "code",
   "execution_count": 148,
   "id": "97a50252",
   "metadata": {},
   "outputs": [],
   "source": [
    "import sqlalchemy\n",
    "engine = sqlalchemy.create_engine('sqlite:///jovyan.db')"
   ]
  },
  {
   "cell_type": "code",
   "execution_count": 149,
   "id": "72a882ba",
   "metadata": {},
   "outputs": [
    {
     "data": {
      "text/plain": [
       "[]"
      ]
     },
     "execution_count": 149,
     "metadata": {},
     "output_type": "execute_result"
    }
   ],
   "source": [
    "inspector = sqlalchemy.inspect(engine)\n",
    "inspector.get_table_names()"
   ]
  },
  {
   "cell_type": "code",
   "execution_count": 150,
   "id": "afe28504",
   "metadata": {},
   "outputs": [],
   "source": [
    "import os\n",
    "from datetime import datetime as dt\n",
    "\n",
    "def logfile(user=os.environ.get('JUPYTERHUB_USER') or 'jovyan', \n",
    "            date=dt.now().strftime('%Y%m%d'),\n",
    "            sfx='.log'):\n",
    "    prefix='/srv'\n",
    "    if os.path.isdir(prefix) and os.access(prefix, os.W_OK):\n",
    "        prefix+=('/'+user)\n",
    "        if not os.path.isdir(prefix):\n",
    "            os.makedirs(prefix)\n",
    "    else:\n",
    "        prefix='.'\n",
    "    return prefix+'/'+date+sfx"
   ]
  },
  {
   "cell_type": "code",
   "execution_count": 151,
   "id": "99964b31",
   "metadata": {},
   "outputs": [],
   "source": [
    "import pandas as pd\n",
    "import numpy as np\n",
    "from datetime import datetime as dt\n",
    "import datetime"
   ]
  },
  {
   "cell_type": "code",
   "execution_count": 152,
   "id": "d8ec6a13",
   "metadata": {},
   "outputs": [
    {
     "data": {
      "text/plain": [
       "datetime.datetime(1, 1, 1, 0, 0)"
      ]
     },
     "execution_count": 152,
     "metadata": {},
     "output_type": "execute_result"
    }
   ],
   "source": [
    "dt.min"
   ]
  },
  {
   "cell_type": "code",
   "execution_count": 153,
   "id": "9af2ec98",
   "metadata": {},
   "outputs": [],
   "source": [
    "import re\n",
    "\n",
    "pat = re.compile(r'(\\d{4})-(\\d{2})-(\\d{2}) (\\d{2}):(\\d{2}):(\\d{2}).*:summary: \\((\\d+), (\\d+), (\\d+)\\)')\n",
    "\n",
    "def activity(user=os.environ.get('JUPYTERHUB_USER') or 'jovyan'):\n",
    "    try:\n",
    "        df = pd.read_sql('''select * from nbgrader''',\n",
    "                        engine, parse_dates=['index'])\n",
    "        df.set_index('index', drop=True, inplace=True)\n",
    "        df.index.name = 'time'\n",
    "        latest_index = df.index.to_pydatetime()[-1]\n",
    "    except sqlalchemy.exc.SQLAlchemyError:\n",
    "        latest_index = dt.min\n",
    "    \n",
    "    #dt.now().strftime('%Y%m%d')\n",
    "    for date in ['20220516']:\n",
    "        try:\n",
    "            with open(logfile(user, date, '-nbg.log'), 'r') as f:\n",
    "                for l in f:\n",
    "                    r = pat.search(l)\n",
    "                    if r:\n",
    "                        dy, dm, dd, th, tm, ts, c, p, f = (int(s) for s in r.groups())\n",
    "                        d = dt.combine(datetime.date(dy, dm, dd),\n",
    "                                       datetime.time(th, tm, ts))\n",
    "                        #print(pd.Timestamp(d), c, p, f)\n",
    "                        if d > latest_index and (int(p)+int(f))> 0:\n",
    "                            ts_data = np.array((1.,(3*p+f)/(p+f)))\n",
    "                            df_new = pd.DataFrame([ts_data])\n",
    "                            df_new.index = [pd.Timestamp(d)]\n",
    "                            df_new = pd.DataFrame([[1., (3*p+f)/(p+f)]], \n",
    "                                                  columns=[\"y\", \"pass\"],\n",
    "                                                  index=[pd.Timestamp(d)])\n",
    "                            df_new.to_sql('nbgrader', engine, if_exists='append')\n",
    "        except:\n",
    "            pass\n",
    "    #return df"
   ]
  },
  {
   "cell_type": "code",
   "execution_count": 154,
   "id": "65e120e8",
   "metadata": {
    "scrolled": false
   },
   "outputs": [],
   "source": [
    "activity()"
   ]
  },
  {
   "cell_type": "code",
   "execution_count": 155,
   "id": "a8d80b28",
   "metadata": {},
   "outputs": [
    {
     "data": {
      "text/html": [
       "<div>\n",
       "<style scoped>\n",
       "    .dataframe tbody tr th:only-of-type {\n",
       "        vertical-align: middle;\n",
       "    }\n",
       "\n",
       "    .dataframe tbody tr th {\n",
       "        vertical-align: top;\n",
       "    }\n",
       "\n",
       "    .dataframe thead th {\n",
       "        text-align: right;\n",
       "    }\n",
       "</style>\n",
       "<table border=\"1\" class=\"dataframe\">\n",
       "  <thead>\n",
       "    <tr style=\"text-align: right;\">\n",
       "      <th></th>\n",
       "      <th>y</th>\n",
       "      <th>pass</th>\n",
       "    </tr>\n",
       "    <tr>\n",
       "      <th>time</th>\n",
       "      <th></th>\n",
       "      <th></th>\n",
       "    </tr>\n",
       "  </thead>\n",
       "  <tbody>\n",
       "    <tr>\n",
       "      <th>2022-05-16 18:56:30</th>\n",
       "      <td>1.0</td>\n",
       "      <td>3.0</td>\n",
       "    </tr>\n",
       "    <tr>\n",
       "      <th>2022-05-16 18:57:07</th>\n",
       "      <td>1.0</td>\n",
       "      <td>3.0</td>\n",
       "    </tr>\n",
       "    <tr>\n",
       "      <th>2022-05-16 18:57:47</th>\n",
       "      <td>1.0</td>\n",
       "      <td>3.0</td>\n",
       "    </tr>\n",
       "    <tr>\n",
       "      <th>2022-05-16 18:58:39</th>\n",
       "      <td>1.0</td>\n",
       "      <td>3.0</td>\n",
       "    </tr>\n",
       "    <tr>\n",
       "      <th>2022-05-16 22:20:03</th>\n",
       "      <td>1.0</td>\n",
       "      <td>1.0</td>\n",
       "    </tr>\n",
       "    <tr>\n",
       "      <th>2022-05-16 22:22:10</th>\n",
       "      <td>1.0</td>\n",
       "      <td>3.0</td>\n",
       "    </tr>\n",
       "  </tbody>\n",
       "</table>\n",
       "</div>"
      ],
      "text/plain": [
       "                       y  pass\n",
       "time                          \n",
       "2022-05-16 18:56:30  1.0   3.0\n",
       "2022-05-16 18:57:07  1.0   3.0\n",
       "2022-05-16 18:57:47  1.0   3.0\n",
       "2022-05-16 18:58:39  1.0   3.0\n",
       "2022-05-16 22:20:03  1.0   1.0\n",
       "2022-05-16 22:22:10  1.0   3.0"
      ]
     },
     "execution_count": 155,
     "metadata": {},
     "output_type": "execute_result"
    }
   ],
   "source": [
    "df = pd.read_sql('''select * from nbgrader''',\n",
    "                    engine, parse_dates=['index'])\n",
    "df.set_index('index', drop=True, inplace=True)\n",
    "df.index.name = 'time'\n",
    "df"
   ]
  },
  {
   "cell_type": "code",
   "execution_count": 138,
   "id": "50ba6c9f",
   "metadata": {},
   "outputs": [
    {
     "data": {
      "text/plain": [
       "array([3., 3., 3., 3., 1., 3.])"
      ]
     },
     "execution_count": 138,
     "metadata": {},
     "output_type": "execute_result"
    }
   ],
   "source": [
    "df.iloc[:,1].values"
   ]
  },
  {
   "cell_type": "code",
   "execution_count": 116,
   "id": "13f95b13",
   "metadata": {},
   "outputs": [],
   "source": [
    "import matplotlib.pyplot as plt\n",
    "import seaborn as sns\n",
    "\n",
    "sns.set()\n",
    "\n",
    "def plot_ax(ax, user=os.environ.get('JUPYTERHUB_USER') or 'jovyan'):\n",
    "    df = pd.read_sql('''select * from nbgrader''',\n",
    "                     engine, parse_dates=['index'])\n",
    "    df.set_index('index', drop=True, inplace=True)\n",
    "    df.index.name = 'time'\n",
    "    if len(df)>0:\n",
    "        cmap = plt.cm.Spectral\n",
    "        ax.scatter(\n",
    "            x=df.index, y=df['y'].values, \n",
    "            c=df['pass'].values, s=df['pass'].values*500,\n",
    "            cmap='Spectral',\n",
    "            alpha=0.4, edgecolor='none'\n",
    "        )\n",
    "    ax.set_ylabel(user, rotation=0, ha=\"right\", va=\"center\")"
   ]
  },
  {
   "cell_type": "code",
   "execution_count": 117,
   "id": "e4046a31",
   "metadata": {},
   "outputs": [
    {
     "data": {
      "image/png": "[encoded data removed]",
      "text/plain": [
       "<Figure size 720x72 with 1 Axes>"
      ]
     },
     "metadata": {},
     "output_type": "display_data"
    }
   ],
   "source": [
    "from datetime import date\n",
    "from datetime import time\n",
    "\n",
    "fig = plt.figure(figsize=(10,1))\n",
    "ax = fig.add_subplot(1,1,1)\n",
    "\n",
    "plt.setp(ax, xlim=(pd.Timestamp(dt.combine(date.today(),time(dt.now().hour-1,))), \n",
    "                   pd.Timestamp(dt.combine(date.today(),time(dt.now().hour,59,59)))))\n",
    "plt.setp(ax, ylim=(0,2))\n",
    "plt.setp(ax, xticklabels=[])\n",
    "plt.setp(ax, yticklabels=[])\n",
    "plot_ax(ax)"
   ]
  },
  {
   "cell_type": "code",
   "execution_count": null,
   "id": "3779e47a",
   "metadata": {},
   "outputs": [],
   "source": []
  }
 ],
 "metadata": {
  "kernelspec": {
   "display_name": "Python 3 (ipykernel)",
   "language": "python",
   "name": "python3"
  },
  "language_info": {
   "codemirror_mode": {
    "name": "ipython",
    "version": 3
   },
   "file_extension": ".py",
   "mimetype": "text/x-python",
   "name": "python",
   "nbconvert_exporter": "python",
   "pygments_lexer": "ipython3",
   "version": "3.9.12"
  },
  "toc": {
   "base_numbering": 1,
   "nav_menu": {},
   "number_sections": true,
   "sideBar": true,
   "skip_h1_title": false,
   "title_cell": "Table of Contents",
   "title_sidebar": "Contents",
   "toc_cell": false,
   "toc_position": {},
   "toc_section_display": true,
   "toc_window_display": false
  }
 },
 "nbformat": 4,
 "nbformat_minor": 5
}
