{
 "cells": [
  {
   "cell_type": "code",
   "execution_count": null,
   "id": "01a289a1-dfb2-438d-ab31-7555efcd798e",
   "metadata": {
    "hide_input": true,
    "init_cell": true,
    "tags": [
     "remove-input"
    ]
   },
   "outputs": [],
   "source": [
    "# initialization for my classroom\n",
    "import os\n",
    "from datetime import datetime as dt\n",
    "\n",
    "def logfile(user=os.environ.get('JUPYTERHUB_USER') or 'jovyan'):\n",
    "    prefix='/srv'\n",
    "    if os.path.isdir(prefix) and os.access(prefix, os.W_OK):\n",
    "        prefix+=('/'+user)\n",
    "        if not os.path.isdir(prefix):\n",
    "            os.makedirs(prefix)\n",
    "    else:\n",
    "        prefix='.'\n",
    "    return prefix+'/'+dt.now().strftime('%Y%m%d')+'.log'\n",
    "\n",
    "path=logfile()\n",
    "#%logstop\n",
    "%logstart -otq $path append\n",
    "\n",
    "# [python - cannot override sys.excepthook - Stack Overflow](https://stackoverflow.com/questions/1261668/cannot-override-sys-excepthook/28758396)\n",
    "# https://github.com/ipython/ipython/blob/e6432249582e05f438303ce73d082a0351bb383e/IPython/core/interactiveshell.py#L1952\n",
    "\n",
    "import sys\n",
    "import traceback\n",
    "import IPython\n",
    "\n",
    "try:\n",
    "    _showtraceback\n",
    "except NameError:\n",
    "    _showtraceback=IPython.core.interactiveshell.InteractiveShell.showtraceback\n",
    "\n",
    "try:\n",
    "    _showsyntaxerror\n",
    "except NameError:\n",
    "    _showsyntaxerror=IPython.core.interactiveshell.InteractiveShell.showsyntaxerror\n",
    "\n",
    "import logging\n",
    "logging.basicConfig(filename=path.replace('.log','-exc.log'), format='%(asctime)s %(message)s', level=logging.ERROR, force=True)\n",
    "\n",
    "import sys\n",
    "import traceback\n",
    "import IPython\n",
    "\n",
    "def showtraceback(self, *args, **kwargs):\n",
    "    etype, value, tb = self._get_exc_info(kwargs.get('exc_tuple'))\n",
    "    stb = self.InteractiveTB.structured_traceback(\n",
    "        etype, value, tb, tb_offset=kwargs.get('tb_offset'))\n",
    "    logging.error(os.environ.get('JUPYTERHUB_USER') or 'jovyan')\n",
    "    logging.error(self.InteractiveTB.stb2text(stb))\n",
    "    _showtraceback(self, *args, **kwargs)\n",
    "\n",
    "def showsyntaxerror(self, *args, **kwargs):\n",
    "    etype, value, last_traceback = self._get_exc_info()\n",
    "    elist = traceback.extract_tb(last_traceback) if kwargs.get('running_compiled_code') else []\n",
    "    stb = self.SyntaxTB.structured_traceback(etype, value, elist)\n",
    "    logging.error(os.environ.get('JUPYTERHUB_USER') or 'jovyan')\n",
    "    logging.error(self.InteractiveTB.stb2text(stb))\n",
    "    _showsyntaxerror(self, *args, **kwargs)\n",
    "\n",
    "IPython.core.interactiveshell.InteractiveShell.showtraceback = showtraceback\n",
    "IPython.core.interactiveshell.InteractiveShell.showsyntaxerror = showsyntaxerror"
   ]
  },
  {
   "cell_type": "markdown",
   "id": "4a826d6b-eeb1-46cf-b225-9f5d6fa9d9dd",
   "metadata": {},
   "source": [
    "# Bioinfomatics"
   ]
  },
  {
   "cell_type": "markdown",
   "id": "880edd1d-002d-4b76-a0f1-70d8e7b7f20e",
   "metadata": {},
   "source": [
    "* (1970 &ndash; ) [Bioinformatics - Wikipedia](https://en.wikipedia.org/wiki/Bioinformatics)"
   ]
  },
  {
   "cell_type": "markdown",
   "id": "4db67757-2514-4cbc-b811-0c79bfcdd4ea",
   "metadata": {},
   "source": [
    "![fig-1](https://upload.wikimedia.org/wikipedia/commons/a/a0/Example_DNA_sequence.png)"
   ]
  },
  {
   "cell_type": "code",
   "execution_count": 4,
   "id": "8147eec7-94d5-461e-953f-454a93cba9aa",
   "metadata": {},
   "outputs": [],
   "source": [
    "import itertools"
   ]
  },
  {
   "cell_type": "code",
   "execution_count": 20,
   "id": "e1555cbc-305e-4068-89ea-e315cee85d4f",
   "metadata": {},
   "outputs": [
    {
     "data": {
      "text/plain": [
       "['TTT',\n",
       " 'TTC',\n",
       " 'TTA',\n",
       " 'TTG',\n",
       " 'TCT',\n",
       " 'TCC',\n",
       " 'TCA',\n",
       " 'TCG',\n",
       " 'TAT',\n",
       " 'TAC',\n",
       " 'TAA',\n",
       " 'TAG',\n",
       " 'TGT',\n",
       " 'TGC',\n",
       " 'TGA',\n",
       " 'TGG',\n",
       " 'CTT',\n",
       " 'CTC',\n",
       " 'CTA',\n",
       " 'CTG',\n",
       " 'CCT',\n",
       " 'CCC',\n",
       " 'CCA',\n",
       " 'CCG',\n",
       " 'CAT',\n",
       " 'CAC',\n",
       " 'CAA',\n",
       " 'CAG',\n",
       " 'CGT',\n",
       " 'CGC',\n",
       " 'CGA',\n",
       " 'CGG',\n",
       " 'ATT',\n",
       " 'ATC',\n",
       " 'ATA',\n",
       " 'ATG',\n",
       " 'ACT',\n",
       " 'ACC',\n",
       " 'ACA',\n",
       " 'ACG',\n",
       " 'AAT',\n",
       " 'AAC',\n",
       " 'AAA',\n",
       " 'AAG',\n",
       " 'AGT',\n",
       " 'AGC',\n",
       " 'AGA',\n",
       " 'AGG',\n",
       " 'GTT',\n",
       " 'GTC',\n",
       " 'GTA',\n",
       " 'GTG',\n",
       " 'GCT',\n",
       " 'GCC',\n",
       " 'GCA',\n",
       " 'GCG',\n",
       " 'GAT',\n",
       " 'GAC',\n",
       " 'GAA',\n",
       " 'GAG',\n",
       " 'GGT',\n",
       " 'GGC',\n",
       " 'GGA',\n",
       " 'GGG']"
      ]
     },
     "execution_count": 20,
     "metadata": {},
     "output_type": "execute_result"
    }
   ],
   "source": [
    "[''.join((i,j,k)) for i,j,k in itertools.product('TCAG', repeat=3)]"
   ]
  },
  {
   "cell_type": "code",
   "execution_count": 21,
   "id": "9db1d96c-f740-4d2f-8a79-acb2b0a2e417",
   "metadata": {},
   "outputs": [
    {
     "data": {
      "text/plain": [
       "64"
      ]
     },
     "execution_count": 21,
     "metadata": {},
     "output_type": "execute_result"
    }
   ],
   "source": [
    "len(_)"
   ]
  },
  {
   "cell_type": "markdown",
   "id": "472d0460-8a29-4b8d-a98f-361885af0b95",
   "metadata": {
    "tags": []
   },
   "source": [
    "# codon table\n",
    "\n",
    "* [DNA and RNA codon tables - Wikipedia](https://en.wikipedia.org/wiki/DNA_and_RNA_codon_tables)\n",
    "  - [Amino acid - Wikipedia](https://en.wikipedia.org/wiki/Amino_acid)\n",
    "    - タンパク質の構成要素: 22種類 + (start, stop)"
   ]
  },
  {
   "cell_type": "markdown",
   "id": "450b056e-260b-416b-a064-d12d426c4219",
   "metadata": {},
   "source": [
    "![fig-2](https://upload.wikimedia.org/wikipedia/commons/4/4f/ProteinogenicAminoAcids.svg)"
   ]
  },
  {
   "cell_type": "markdown",
   "id": "b4a9ac1f-ac28-47cb-89e5-c3234940a8e4",
   "metadata": {},
   "source": [
    "![fig-4](https://upload.wikimedia.org/wikipedia/commons/d/d6/GeneticCode21-version-2.svg)"
   ]
  },
  {
   "cell_type": "markdown",
   "id": "1db30b18-1663-48a8-a5f7-a1bb2be22e35",
   "metadata": {},
   "source": [
    "![fig-3](https://upload.wikimedia.org/wikipedia/commons/7/70/Aminoacids_table.svg)"
   ]
  },
  {
   "cell_type": "code",
   "execution_count": 23,
   "id": "f2b292cd",
   "metadata": {},
   "outputs": [],
   "source": [
    "import Bio.Data.CodonTable"
   ]
  },
  {
   "cell_type": "code",
   "execution_count": 24,
   "id": "50a14bd0",
   "metadata": {},
   "outputs": [
    {
     "name": "stdout",
     "output_type": "stream",
     "text": [
      "Table 1 Standard, SGC0\n",
      "\n",
      "  |  T      |  C      |  A      |  G      |\n",
      "--+---------+---------+---------+---------+--\n",
      "T | TTT F   | TCT S   | TAT Y   | TGT C   | T\n",
      "T | TTC F   | TCC S   | TAC Y   | TGC C   | C\n",
      "T | TTA L   | TCA S   | TAA Stop| TGA Stop| A\n",
      "T | TTG L(s)| TCG S   | TAG Stop| TGG W   | G\n",
      "--+---------+---------+---------+---------+--\n",
      "C | CTT L   | CCT P   | CAT H   | CGT R   | T\n",
      "C | CTC L   | CCC P   | CAC H   | CGC R   | C\n",
      "C | CTA L   | CCA P   | CAA Q   | CGA R   | A\n",
      "C | CTG L(s)| CCG P   | CAG Q   | CGG R   | G\n",
      "--+---------+---------+---------+---------+--\n",
      "A | ATT I   | ACT T   | AAT N   | AGT S   | T\n",
      "A | ATC I   | ACC T   | AAC N   | AGC S   | C\n",
      "A | ATA I   | ACA T   | AAA K   | AGA R   | A\n",
      "A | ATG M(s)| ACG T   | AAG K   | AGG R   | G\n",
      "--+---------+---------+---------+---------+--\n",
      "G | GTT V   | GCT A   | GAT D   | GGT G   | T\n",
      "G | GTC V   | GCC A   | GAC D   | GGC G   | C\n",
      "G | GTA V   | GCA A   | GAA E   | GGA G   | A\n",
      "G | GTG V   | GCG A   | GAG E   | GGG G   | G\n",
      "--+---------+---------+---------+---------+--\n"
     ]
    }
   ],
   "source": [
    "print(Bio.Data.CodonTable.standard_dna_table)"
   ]
  },
  {
   "cell_type": "code",
   "execution_count": 26,
   "id": "0ed40965-9a84-4efe-84d3-c2753722c276",
   "metadata": {},
   "outputs": [],
   "source": [
    "from Bio.Seq import Seq"
   ]
  },
  {
   "cell_type": "code",
   "execution_count": 27,
   "id": "6c7a33fe",
   "metadata": {},
   "outputs": [
    {
     "data": {
      "text/plain": [
       "['TTG', 'CTG', 'ATG']"
      ]
     },
     "execution_count": 27,
     "metadata": {},
     "output_type": "execute_result"
    }
   ],
   "source": [
    "Bio.Data.CodonTable.standard_dna_table.start_codons"
   ]
  },
  {
   "cell_type": "code",
   "execution_count": 28,
   "id": "03d0462e-c12c-447f-92b8-083296b77ad1",
   "metadata": {},
   "outputs": [
    {
     "name": "stdout",
     "output_type": "stream",
     "text": [
      "L\n",
      "L\n",
      "M\n"
     ]
    }
   ],
   "source": [
    "for c in Bio.Data.CodonTable.standard_dna_table.start_codons:\n",
    "    print(Seq(c).translate())"
   ]
  },
  {
   "cell_type": "code",
   "execution_count": 32,
   "id": "2c9d9bf6",
   "metadata": {},
   "outputs": [
    {
     "data": {
      "text/plain": [
       "['TAA', 'TAG', 'TGA']"
      ]
     },
     "execution_count": 32,
     "metadata": {},
     "output_type": "execute_result"
    }
   ],
   "source": [
    "Bio.Data.CodonTable.standard_dna_table.stop_codons"
   ]
  },
  {
   "cell_type": "code",
   "execution_count": 29,
   "id": "11cc633f-c1a9-44c7-8ea2-6ae033af3231",
   "metadata": {},
   "outputs": [
    {
     "name": "stdout",
     "output_type": "stream",
     "text": [
      "*\n",
      "*\n",
      "*\n"
     ]
    }
   ],
   "source": [
    "for c in Bio.Data.CodonTable.standard_dna_table.stop_codons:\n",
    "    print(Seq(c).translate())"
   ]
  },
  {
   "cell_type": "code",
   "execution_count": 7,
   "id": "2aa4008c-48cb-4af6-a506-cf576cc4ad37",
   "metadata": {},
   "outputs": [
    {
     "name": "stdout",
     "output_type": "stream",
     "text": [
      "TTT F\n",
      "TTC F\n",
      "TTA L\n",
      "TTG L\n",
      "TCT S\n",
      "TCC S\n",
      "TCA S\n",
      "TCG S\n",
      "TAT Y\n",
      "TAC Y\n",
      "TAA *\n",
      "TAG *\n",
      "TGT C\n",
      "TGC C\n",
      "TGA *\n",
      "TGG W\n",
      "CTT L\n",
      "CTC L\n",
      "CTA L\n",
      "CTG L\n",
      "CCT P\n",
      "CCC P\n",
      "CCA P\n",
      "CCG P\n",
      "CAT H\n",
      "CAC H\n",
      "CAA Q\n",
      "CAG Q\n",
      "CGT R\n",
      "CGC R\n",
      "CGA R\n",
      "CGG R\n",
      "ATT I\n",
      "ATC I\n",
      "ATA I\n",
      "ATG M\n",
      "ACT T\n",
      "ACC T\n",
      "ACA T\n",
      "ACG T\n",
      "AAT N\n",
      "AAC N\n",
      "AAA K\n",
      "AAG K\n",
      "AGT S\n",
      "AGC S\n",
      "AGA R\n",
      "AGG R\n",
      "GTT V\n",
      "GTC V\n",
      "GTA V\n",
      "GTG V\n",
      "GCT A\n",
      "GCC A\n",
      "GCA A\n",
      "GCG A\n",
      "GAT D\n",
      "GAC D\n",
      "GAA E\n",
      "GAG E\n",
      "GGT G\n",
      "GGC G\n",
      "GGA G\n",
      "GGG G\n"
     ]
    }
   ],
   "source": [
    "for c in [''.join((i,j,k)) for i,j,k in itertools.product('TCAG', repeat=3)]:\n",
    "    print(c, Seq(c).translate())"
   ]
  },
  {
   "cell_type": "markdown",
   "id": "f2fafbc3-3693-484a-a5a6-78ef0888e83c",
   "metadata": {},
   "source": [
    "![fig-1](https://upload.wikimedia.org/wikipedia/commons/a/a0/Example_DNA_sequence.png)"
   ]
  },
  {
   "cell_type": "code",
   "execution_count": 10,
   "id": "5680a938-58b1-4735-9dd5-d51e324b5ed6",
   "metadata": {},
   "outputs": [],
   "source": [
    "seq = \"ATGACGTGGGA\""
   ]
  },
  {
   "cell_type": "code",
   "execution_count": 16,
   "id": "af367999-fd90-4c79-892a-2596a0ebcbd1",
   "metadata": {},
   "outputs": [
    {
     "data": {
      "text/plain": [
       "Seq('MTW')"
      ]
     },
     "execution_count": 16,
     "metadata": {},
     "output_type": "execute_result"
    }
   ],
   "source": [
    "Seq(seq).translate()"
   ]
  },
  {
   "cell_type": "code",
   "execution_count": 15,
   "id": "394f2cf5-91c3-46a8-be14-fb616052329b",
   "metadata": {},
   "outputs": [
    {
     "name": "stdout",
     "output_type": "stream",
     "text": [
      "MTW\n",
      "*RG\n",
      "DVG\n"
     ]
    }
   ],
   "source": [
    "for i in range(3):\n",
    "    print(Seq(seq[i:]).translate())"
   ]
  },
  {
   "cell_type": "code",
   "execution_count": 17,
   "id": "c746d720-4341-4806-9ee6-f78cded87e8c",
   "metadata": {},
   "outputs": [
    {
     "name": "stdout",
     "output_type": "stream",
     "text": [
      "RVQ\n",
      "RVQ\n",
      "RVQ\n"
     ]
    }
   ],
   "source": [
    "for i in range(3):\n",
    "    print(Seq(seq[i:][::-1]).translate())"
   ]
  },
  {
   "cell_type": "code",
   "execution_count": 18,
   "id": "d14500ec-7d4f-4c30-a5ed-546e2ebd5634",
   "metadata": {},
   "outputs": [
    {
     "name": "stdout",
     "output_type": "stream",
     "text": [
      "YCT\n",
      "TAP\n",
      "LHP\n"
     ]
    }
   ],
   "source": [
    "for i in range(3):\n",
    "    print(Seq(seq[i:]).complement().translate())"
   ]
  },
  {
   "cell_type": "code",
   "execution_count": 19,
   "id": "6de7f3cc-b10d-4386-8ef1-4867413d98d3",
   "metadata": {},
   "outputs": [
    {
     "name": "stdout",
     "output_type": "stream",
     "text": [
      "SHV\n",
      "SHV\n",
      "SHV\n"
     ]
    }
   ],
   "source": [
    "for i in range(3):\n",
    "    print(Seq(seq[i:][::-1]).complement().translate())"
   ]
  },
  {
   "cell_type": "markdown",
   "id": "229d4bbc-1514-43f7-ac26-fb556938baa7",
   "metadata": {},
   "source": [
    "## Gene"
   ]
  },
  {
   "cell_type": "markdown",
   "id": "aa33b370-4237-461a-b3bb-64c811341413",
   "metadata": {},
   "source": [
    "* [Gene - Wikipedia](https://en.wikipedia.org/wiki/Gene#DNA)\n",
    "    - \"A gene is a region of *DNA* that encodes function. A *chromosome* consists of a long strand of DNA containing many genes. A human chromosome can have up to 500 million base pairs of DNA with thousands of genes.\""
   ]
  },
  {
   "cell_type": "code",
   "execution_count": null,
   "id": "26ad5d07-1040-4229-9480-7f40d97fd60b",
   "metadata": {},
   "outputs": [],
   "source": []
  }
 ],
 "metadata": {
  "kernelspec": {
   "display_name": "Python 3 (ipykernel)",
   "language": "python",
   "name": "python3"
  },
  "language_info": {
   "codemirror_mode": {
    "name": "ipython",
    "version": 3
   },
   "file_extension": ".py",
   "mimetype": "text/x-python",
   "name": "python",
   "nbconvert_exporter": "python",
   "pygments_lexer": "ipython3",
   "version": "3.9.12"
  },
  "toc": {
   "base_numbering": 1,
   "nav_menu": {},
   "number_sections": true,
   "sideBar": true,
   "skip_h1_title": false,
   "title_cell": "Table of Contents",
   "title_sidebar": "Contents",
   "toc_cell": false,
   "toc_position": {},
   "toc_section_display": true,
   "toc_window_display": false
  }
 },
 "nbformat": 4,
 "nbformat_minor": 5
}
