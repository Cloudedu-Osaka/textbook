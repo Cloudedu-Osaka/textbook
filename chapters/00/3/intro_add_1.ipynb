{
 "cells": [
  {
   "cell_type": "markdown",
   "id": "8aac7254",
   "metadata": {},
   "source": [
    "# Notebook additional setting"
   ]
  },
  {
   "cell_type": "markdown",
   "id": "944c9f9c",
   "metadata": {},
   "source": [
    "## ノートブック拡張設定の追加\n",
    "\n",
    "この講義でのみ使っている行動記録用の設定セルを非表示とするため、次の操作をお願いします:\n",
    "* 左上の \"Jupyter\" アイコンをクリックし、ダッシュボードを開く。アイコンにマウスカーソルを合わせると \"dashboard\" と表示されます。\n",
    "* \"Nbextensions\" タブを選択する。\n",
    "* \"disable configuration for nbextensions without explicit compatibility (they may break your notebook environment, but can be useful to show for nbextension development)\" チェックボックスを外す。\n",
    "* \"Hide input\" をチェックする。\n",
    "* \"Initialization cells\" がチェックされていることを確認する。\n",
    "* 念のため、上で外した \"disable configuration...\" を再度チェックする。"
   ]
  },
  {
   "cell_type": "markdown",
   "id": "adca6f03",
   "metadata": {},
   "source": [
    "![fig-3.png](fig-3.png)\n",
    "![fig-4.png](fig-4.png)\n",
    "![fig-5.png](fig-5.png)\n",
    "![fig-6.png](fig-6.png)"
   ]
  }
 ],
 "metadata": {
  "kernelspec": {
   "display_name": "Python 3 (ipykernel)",
   "language": "python",
   "name": "python3"
  },
  "language_info": {
   "codemirror_mode": {
    "name": "ipython",
    "version": 3
   },
   "file_extension": ".py",
   "mimetype": "text/x-python",
   "name": "python",
   "nbconvert_exporter": "python",
   "pygments_lexer": "ipython3",
   "version": "3.9.12"
  },
  "toc": {
   "base_numbering": 1,
   "nav_menu": {},
   "number_sections": true,
   "sideBar": true,
   "skip_h1_title": false,
   "title_cell": "Table of Contents",
   "title_sidebar": "Contents",
   "toc_cell": false,
   "toc_position": {},
   "toc_section_display": true,
   "toc_window_display": false
  }
 },
 "nbformat": 4,
 "nbformat_minor": 5
}
