{
 "cells": [
  {
   "cell_type": "code",
   "execution_count": 1,
   "id": "3f1b169c",
   "metadata": {
    "hide_input": true,
    "init_cell": true,
    "tags": [
     "remove-input"
    ]
   },
   "outputs": [],
   "source": [
    "# initialization for my classroom\n",
    "import os\n",
    "from datetime import datetime as dt\n",
    "\n",
    "def logfile(user=os.environ.get('JUPYTERHUB_USER') or 'jovyan'):\n",
    "    prefix='/srv'\n",
    "    if os.path.isdir(prefix) and os.access(prefix, os.W_OK):\n",
    "        prefix+=('/'+user)\n",
    "        if not os.path.isdir(prefix):\n",
    "            os.makedirs(prefix)\n",
    "    else:\n",
    "        prefix='.'\n",
    "    return prefix+'/'+dt.now().strftime('%Y%m%d')+'.log'\n",
    "\n",
    "path=logfile()\n",
    "#%logstop\n",
    "%logstart -otq $path append\n",
    "\n",
    "# [python - cannot override sys.excepthook - Stack Overflow](https://stackoverflow.com/questions/1261668/cannot-override-sys-excepthook/28758396)\n",
    "# https://github.com/ipython/ipython/blob/e6432249582e05f438303ce73d082a0351bb383e/IPython/core/interactiveshell.py#L1952\n",
    "\n",
    "import sys\n",
    "import traceback\n",
    "import IPython\n",
    "\n",
    "try:\n",
    "    _showtraceback\n",
    "except NameError:\n",
    "    _showtraceback=IPython.core.interactiveshell.InteractiveShell.showtraceback\n",
    "\n",
    "try:\n",
    "    _showsyntaxerror\n",
    "except NameError:\n",
    "    _showsyntaxerror=IPython.core.interactiveshell.InteractiveShell.showsyntaxerror\n",
    "\n",
    "import logging\n",
    "logging.basicConfig(filename=path.replace('.log','-exc.log'), format='%(asctime)s %(message)s', level=logging.ERROR, force=True)\n",
    "\n",
    "import sys\n",
    "import traceback\n",
    "import IPython\n",
    "\n",
    "def showtraceback(self, *args, **kwargs):\n",
    "    etype, value, tb = self._get_exc_info(kwargs.get('exc_tuple'))\n",
    "    stb = self.InteractiveTB.structured_traceback(\n",
    "        etype, value, tb, tb_offset=kwargs.get('tb_offset'))\n",
    "    logging.error(os.environ.get('JUPYTERHUB_USER') or 'jovyan')\n",
    "    logging.error(self.InteractiveTB.stb2text(stb))\n",
    "    _showtraceback(self, *args, **kwargs)\n",
    "\n",
    "def showsyntaxerror(self, *args, **kwargs):\n",
    "    etype, value, last_traceback = self._get_exc_info()\n",
    "    elist = traceback.extract_tb(last_traceback) if kwargs.get('running_compiled_code') else []\n",
    "    stb = self.SyntaxTB.structured_traceback(etype, value, elist)\n",
    "    logging.error(os.environ.get('JUPYTERHUB_USER') or 'jovyan')\n",
    "    logging.error(self.InteractiveTB.stb2text(stb))\n",
    "    _showsyntaxerror(self, *args, **kwargs)\n",
    "\n",
    "IPython.core.interactiveshell.InteractiveShell.showtraceback = showtraceback\n",
    "IPython.core.interactiveshell.InteractiveShell.showsyntaxerror = showsyntaxerror"
   ]
  },
  {
   "cell_type": "markdown",
   "id": "f5a31238",
   "metadata": {},
   "source": [
    "# Plimpton 322 の解読 (2)"
   ]
  },
  {
   "cell_type": "markdown",
   "id": "4293139a",
   "metadata": {},
   "source": [
    "## YBC 6967 に基づく解釈"
   ]
  },
  {
   "cell_type": "markdown",
   "id": "0a99bfbb",
   "metadata": {},
   "source": [
    "$c$を定数とする二次方程式\n",
    "\n",
    "$$\n",
    "x - \\frac{1}{x} = c\n",
    "$$\n",
    "\n",
    "について、\n",
    "$v_{1} = \\frac{c}{2}$、\n",
    "$v_{3} = 1 + {v_{1}}^2 = 1 + (\\frac{c}{2})^2$、\n",
    "$v_{4} = \\sqrt{v_{3}} = \\sqrt{1 + (\\frac{c}{2})^2}$ と置くと、次の連立方程式が成り立つ:\n",
    "\n",
    "$$\n",
    "  \\begin{align}\n",
    "    x &= v_{4} + v_{1} \\\\\n",
    "    \\frac{1}{x} &= v_{4} - v_{1}\n",
    "  \\end{align}\n",
    "$$"
   ]
  },
  {
   "cell_type": "markdown",
   "id": "b7ac2e83",
   "metadata": {},
   "source": [
    "さらに、この連立方程式を$v_{1}$, $v_{4}$ について解くと、\n",
    "\n",
    "$$\n",
    "  \\begin{align}\n",
    "    v_{1} &= \\frac{1}{2}(x-\\frac{1}{x}) \\\\\n",
    "    v_{4} &= \\frac{1}{2}(x+\\frac{1}{x})\n",
    "  \\end{align}\n",
    "$$\n",
    "\n",
    "である。\n",
    "\n",
    "$v_{1}$, $1$, $v_{4}$ はピタゴラスの三数であり、${v_{1}}^2 + 1^2 = {v_{4}}^2$が成り立つ。\n",
    "\n",
    "* [Pythagorean triple - Wikipedia](https://en.wikipedia.org/wiki/Pythagorean_triple)"
   ]
  },
  {
   "cell_type": "markdown",
   "id": "6022805f",
   "metadata": {},
   "source": [
    "後で説明する $a$ という係数を用いると、Plimpton 322は次表のように解釈できる:"
   ]
  },
  {
   "cell_type": "markdown",
   "id": "8c97f93d",
   "metadata": {},
   "source": [
    "|#1 |#2 |#3 |\n",
    "|:-:|:-:|:-:|\n",
    "|$$1+{v_{1}}^2 = {v_{4}}^2$$|$$a\\cdot v_{1}$$|$$a\\cdot v_{4}$$|\n",
    "|$$1+\\left(\\frac{c}{2}\\right)^2$$|$$\\frac{a}{2}\\left(x-\\frac{1}{x}\\right)$$|$$\\frac{a}{2}\\left(x+\\frac{1}{x}\\right)$$|"
   ]
  },
  {
   "cell_type": "markdown",
   "id": "14e446ac",
   "metadata": {},
   "source": [
    "10進法で表記したPlimpton 322の11行目に着目する:"
   ]
  },
  {
   "cell_type": "code",
   "execution_count": null,
   "id": "97a41db3",
   "metadata": {
    "hide_input": true
   },
   "outputs": [],
   "source": [
    "import pandas as pd\n",
    "import requests\n",
    "\n",
    "res = requests.get(\"https://en.wikipedia.org/wiki/Plimpton_322\").text\n",
    "\n",
    "df2=pd.read_html(res)[1]\n",
    "df2.take([10])"
   ]
  },
  {
   "cell_type": "markdown",
   "id": "9a51a32b",
   "metadata": {},
   "source": [
    "係数 $a$ は 60進法の $1\\ 0$:"
   ]
  },
  {
   "cell_type": "code",
   "execution_count": null,
   "id": "f521b6aa",
   "metadata": {},
   "outputs": [],
   "source": [
    "import math\n",
    "math.sqrt(v4**2 - v1**2)"
   ]
  },
  {
   "cell_type": "code",
   "execution_count": null,
   "id": "69983d16",
   "metadata": {},
   "outputs": [],
   "source": [
    "v1, v4 = 45, 75"
   ]
  },
  {
   "cell_type": "code",
   "execution_count": null,
   "id": "70d6a6b7",
   "metadata": {},
   "outputs": [],
   "source": [
    "c = v1*2\n",
    "c"
   ]
  },
  {
   "cell_type": "code",
   "execution_count": null,
   "id": "2face288",
   "metadata": {},
   "outputs": [],
   "source": [
    "(v1/60), (v4/60)"
   ]
  },
  {
   "cell_type": "code",
   "execution_count": null,
   "id": "f9795ee5",
   "metadata": {},
   "outputs": [],
   "source": [
    "(v1/60)**2, (v4/60)**2"
   ]
  },
  {
   "cell_type": "markdown",
   "id": "0d63120b",
   "metadata": {},
   "source": [
    "$x$ と $\\frac{1}{x}$ を求める:"
   ]
  },
  {
   "cell_type": "code",
   "execution_count": null,
   "id": "03ddf4ea",
   "metadata": {},
   "outputs": [],
   "source": [
    "v4+v1, v4-v1"
   ]
  },
  {
   "cell_type": "code",
   "execution_count": null,
   "id": "4db5dc7a",
   "metadata": {},
   "outputs": [],
   "source": [
    "def inverse(n, base=10):\n",
    "    denominator = n\n",
    "    remainder   = 1 # initial remainder\n",
    "    quotient    = 0 # dummy\n",
    "    repeat = set()\n",
    "    l = []\n",
    "    while not quotient in repeat:\n",
    "        repeat.add(quotient)\n",
    "        numerator = remainder * base\n",
    "        quotient, remainder = divmod(numerator, denominator)\n",
    "        l.append(quotient)\n",
    "        if remainder == 0:\n",
    "            l.append(0)\n",
    "            break\n",
    "    return l"
   ]
  },
  {
   "cell_type": "code",
   "execution_count": null,
   "id": "c366b1dc",
   "metadata": {},
   "outputs": [],
   "source": [
    "inverse(2, 60), inverse(30, 60)"
   ]
  },
  {
   "cell_type": "code",
   "execution_count": null,
   "id": "b831e496",
   "metadata": {},
   "outputs": [],
   "source": []
  }
 ],
 "metadata": {
  "kernelspec": {
   "display_name": "Python 3 (ipykernel)",
   "language": "python",
   "name": "python3"
  },
  "language_info": {
   "codemirror_mode": {
    "name": "ipython",
    "version": 3
   },
   "file_extension": ".py",
   "mimetype": "text/x-python",
   "name": "python",
   "nbconvert_exporter": "python",
   "pygments_lexer": "ipython3",
   "version": "3.9.12"
  },
  "toc": {
   "base_numbering": 1,
   "nav_menu": {},
   "number_sections": true,
   "sideBar": true,
   "skip_h1_title": false,
   "title_cell": "Table of Contents",
   "title_sidebar": "Contents",
   "toc_cell": false,
   "toc_position": {},
   "toc_section_display": true,
   "toc_window_display": false
  }
 },
 "nbformat": 4,
 "nbformat_minor": 5
}
