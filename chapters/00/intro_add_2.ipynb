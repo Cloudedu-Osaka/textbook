{
 "cells": [
  {
   "cell_type": "markdown",
   "id": "5033b4cb",
   "metadata": {},
   "source": [
    "# 補足 1"
   ]
  },
  {
   "cell_type": "markdown",
   "id": "275083b5",
   "metadata": {},
   "source": [
    "```{attention}\n",
    "この講義では、受講者の操作を記録し、授業進行の指標とします。\n",
    "そのためノートブックの最初に初期化セルを埋め込んでいます。\n",
    "ノートブックを読み込んだときに、\n",
    "初期化セルが自動実行されるように付加情報を埋め込んでいますが、\n",
    "それが機能するように、最初に一回だけ次のセルを実行する必要があります。\n",
    "```"
   ]
  },
  {
   "cell_type": "code",
   "execution_count": null,
   "id": "f81520d4",
   "metadata": {},
   "outputs": [],
   "source": [
    "!find textbook/chapters -name \\*.ipynb -not -path '*/.*' -exec jupyter trust {} \\;"
   ]
  },
  {
   "cell_type": "markdown",
   "id": "19b9a3f2",
   "metadata": {},
   "source": [
    "```{note}\n",
    "ノートブックを最初に読み込んだときに、右肩に \"Not Trusted\" と表示されています。\n",
    "今回の授業で配信するノートブックを予め信頼し \"Trusted\" 状態にする必要があります。\n",
    "\n",
    "詳細は次のリンクを参照してください:\n",
    "* [Security in the Jupyter notebook server — Jupyter Notebook 6.4.10 documentation](https://jupyter-notebook.readthedocs.io/en/stable/security.html#security-in-notebook-documents)\n",
    "```"
   ]
  }
 ],
 "metadata": {
  "celltoolbar": "Tags",
  "jupytext": {
   "cell_metadata_filter": "-all",
   "main_language": "python",
   "notebook_metadata_filter": "-all"
  },
  "kernelspec": {
   "display_name": "Python 3 (ipykernel)",
   "language": "python",
   "name": "python3"
  },
  "language_info": {
   "codemirror_mode": {
    "name": "ipython",
    "version": 3
   },
   "file_extension": ".py",
   "mimetype": "text/x-python",
   "name": "python",
   "nbconvert_exporter": "python",
   "pygments_lexer": "ipython3",
   "version": "3.9.12"
  },
  "toc": {
   "base_numbering": 1,
   "nav_menu": {},
   "number_sections": true,
   "sideBar": true,
   "skip_h1_title": false,
   "title_cell": "Table of Contents",
   "title_sidebar": "Contents",
   "toc_cell": false,
   "toc_position": {},
   "toc_section_display": true,
   "toc_window_display": false
  }
 },
 "nbformat": 4,
 "nbformat_minor": 5
}
