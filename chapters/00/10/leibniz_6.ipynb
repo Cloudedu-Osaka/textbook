{
 "cells": [
  {
   "cell_type": "code",
   "execution_count": null,
   "id": "ff1498d7",
   "metadata": {
    "hide_input": true,
    "init_cell": true,
    "tags": [
     "remove-input"
    ]
   },
   "outputs": [],
   "source": [
    "# initialization for my classroom\n",
    "import os\n",
    "from datetime import datetime as dt\n",
    "\n",
    "def logfile(user=os.environ.get('JUPYTERHUB_USER') or 'jovyan'):\n",
    "    prefix='/srv'\n",
    "    if os.path.isdir(prefix) and os.access(prefix, os.W_OK):\n",
    "        prefix+=('/'+user)\n",
    "        if not os.path.isdir(prefix):\n",
    "            os.makedirs(prefix)\n",
    "    else:\n",
    "        prefix='.'\n",
    "    return prefix+'/'+dt.now().strftime('%Y%m%d')+'.log'\n",
    "\n",
    "path=logfile()\n",
    "#%logstop\n",
    "%logstart -otq $path append\n",
    "\n",
    "# [python - cannot override sys.excepthook - Stack Overflow](https://stackoverflow.com/questions/1261668/cannot-override-sys-excepthook/28758396)\n",
    "# https://github.com/ipython/ipython/blob/e6432249582e05f438303ce73d082a0351bb383e/IPython/core/interactiveshell.py#L1952\n",
    "\n",
    "import sys\n",
    "import traceback\n",
    "import IPython\n",
    "\n",
    "try:\n",
    "    _showtraceback\n",
    "except NameError:\n",
    "    _showtraceback=IPython.core.interactiveshell.InteractiveShell.showtraceback\n",
    "\n",
    "try:\n",
    "    _showsyntaxerror\n",
    "except NameError:\n",
    "    _showsyntaxerror=IPython.core.interactiveshell.InteractiveShell.showsyntaxerror\n",
    "\n",
    "import logging\n",
    "logging.basicConfig(filename=path.replace('.log','-exc.log'), format='%(asctime)s %(message)s', level=logging.ERROR, force=True)\n",
    "\n",
    "import sys\n",
    "import traceback\n",
    "import IPython\n",
    "\n",
    "def showtraceback(self, *args, **kwargs):\n",
    "    etype, value, tb = self._get_exc_info(kwargs.get('exc_tuple'))\n",
    "    stb = self.InteractiveTB.structured_traceback(\n",
    "        etype, value, tb, tb_offset=kwargs.get('tb_offset'))\n",
    "    logging.error(os.environ.get('JUPYTERHUB_USER') or 'jovyan')\n",
    "    logging.error(self.InteractiveTB.stb2text(stb))\n",
    "    _showtraceback(self, *args, **kwargs)\n",
    "\n",
    "def showsyntaxerror(self, *args, **kwargs):\n",
    "    etype, value, last_traceback = self._get_exc_info()\n",
    "    elist = traceback.extract_tb(last_traceback) if kwargs.get('running_compiled_code') else []\n",
    "    stb = self.SyntaxTB.structured_traceback(etype, value, elist)\n",
    "    logging.error(os.environ.get('JUPYTERHUB_USER') or 'jovyan')\n",
    "    logging.error(self.InteractiveTB.stb2text(stb))\n",
    "    _showsyntaxerror(self, *args, **kwargs)\n",
    "\n",
    "IPython.core.interactiveshell.InteractiveShell.showtraceback = showtraceback\n",
    "IPython.core.interactiveshell.InteractiveShell.showsyntaxerror = showsyntaxerror"
   ]
  },
  {
   "cell_type": "markdown",
   "id": "bca971c1",
   "metadata": {},
   "source": [
    "# プログラミングのない世界 (2)"
   ]
  },
  {
   "cell_type": "markdown",
   "id": "77c4c7ca",
   "metadata": {},
   "source": [
    "## 自動的にプログラムを作成する (論理合成、定理証明)\n",
    "\n",
    "* [Logic synthesis - Wikipedia](https://en.wikipedia.org/wiki/Logic_synthesis)\n",
    "* [Automated theorem proving - Wikipedia](https://en.wikipedia.org/wiki/Automated_theorem_proving)"
   ]
  },
  {
   "cell_type": "markdown",
   "id": "7ae3a8fe",
   "metadata": {},
   "source": [
    "剰余 ``divmod`` と等価な論理演算"
   ]
  },
  {
   "cell_type": "code",
   "execution_count": 16,
   "id": "f8279501",
   "metadata": {},
   "outputs": [],
   "source": [
    "import itertools"
   ]
  },
  {
   "cell_type": "code",
   "execution_count": 68,
   "id": "515d4ab0",
   "metadata": {},
   "outputs": [
    {
     "name": "stdout",
     "output_type": "stream",
     "text": [
      "0+0=00\n",
      "0+1=01\n",
      "1+0=01\n",
      "1+1=10\n"
     ]
    }
   ],
   "source": [
    "for i,j in itertools.product([0,1], repeat=2):\n",
    "    print(\"{:d}+{:d}={:02b}\".format(i,j,i+j))"
   ]
  },
  {
   "cell_type": "code",
   "execution_count": 106,
   "id": "1357580a",
   "metadata": {
    "scrolled": true
   },
   "outputs": [
    {
     "name": "stdout",
     "output_type": "stream",
     "text": [
      "0+0=00 (0,0)\n",
      "0+1=01 (0,1)\n",
      "1+0=01 (0,1)\n",
      "1+1=10 (1,0)\n"
     ]
    }
   ],
   "source": [
    "for i,j in itertools.product([0,1], repeat=2):\n",
    "    print(\"{:d}+{:d}={:02b} \".format(i,j,i+j), end=\"\")\n",
    "    print(\"({:d},{:d})\".format(*divmod(i+j,2)))"
   ]
  },
  {
   "cell_type": "markdown",
   "id": "9fd709ee",
   "metadata": {},
   "source": [
    "### Boolean Function\n",
    "* [Logic — SymPy 1.10.1 documentation](https://docs.sympy.org/latest/modules/logic.html#boolean-functions)\n",
    "  * [BooleanFunction—Wolfram Language Documentation](https://reference.wolfram.com/language/ref/BooleanFunction.html.en)"
   ]
  },
  {
   "cell_type": "markdown",
   "id": "f583ed8b",
   "metadata": {},
   "source": [
    "前回、繰り上がりについて ``not(a^b)&(a|b)`` などとコーディングしてしまったが、簡約化すると ``a&b``"
   ]
  },
  {
   "cell_type": "code",
   "execution_count": null,
   "id": "5b604a1f",
   "metadata": {},
   "outputs": [],
   "source": [
    "def binary_add(a, b):\n",
    "    if not (a >=0 and b >= 0 and a < 2 and b < 2):\n",
    "        raise ValueError\n",
    "    # YOUR CODE HERE\n",
    "    #return [(a+b)//2, (a+b)%2]\n",
    "    #return list(divmod(a+b, 2))\n",
    "    return [(not(a^b))&(a|b), a^b]"
   ]
  },
  {
   "cell_type": "code",
   "execution_count": 2,
   "id": "2cefbc4e",
   "metadata": {},
   "outputs": [],
   "source": [
    "from sympy.abc import x,y,z\n",
    "from sympy.logic import simplify_logic"
   ]
  },
  {
   "cell_type": "code",
   "execution_count": 42,
   "id": "a3e5cd06",
   "metadata": {},
   "outputs": [
    {
     "data": {
      "text/latex": [
       "$\\displaystyle x \\wedge y$"
      ],
      "text/plain": [
       "x & y"
      ]
     },
     "execution_count": 42,
     "metadata": {},
     "output_type": "execute_result"
    }
   ],
   "source": [
    "simplify_logic(~(x^y)&(x|y))"
   ]
  },
  {
   "cell_type": "code",
   "execution_count": 110,
   "id": "ee52039c",
   "metadata": {},
   "outputs": [
    {
     "name": "stdout",
     "output_type": "stream",
     "text": [
      "0+0=00 (0,0)\n",
      "0+1=01 (0,1)\n",
      "1+0=01 (0,1)\n",
      "1+1=10 (1,0)\n"
     ]
    }
   ],
   "source": [
    "for i,j in itertools.product([0,1], repeat=2):\n",
    "    print(\"{:d}+{:d}={:02b} \".format(i,j,i+j), end=\"\")\n",
    "    print(\"({:d},{:d})\".format(i&j, i^j))"
   ]
  },
  {
   "cell_type": "markdown",
   "id": "58d3c3e9",
   "metadata": {},
   "source": [
    "すなわち、`divmod(i+j,2)` と `(i&j, i^j)` は「相等 (equal)」\n",
    "* [Function (mathematics) - Wikipedia](https://en.wikipedia.org/wiki/Function_%28mathematics%29)"
   ]
  },
  {
   "cell_type": "code",
   "execution_count": null,
   "id": "92165e32",
   "metadata": {},
   "outputs": [],
   "source": []
  },
  {
   "cell_type": "code",
   "execution_count": null,
   "id": "9491854b",
   "metadata": {},
   "outputs": [],
   "source": []
  },
  {
   "cell_type": "code",
   "execution_count": null,
   "id": "5618bfb8",
   "metadata": {},
   "outputs": [],
   "source": []
  },
  {
   "cell_type": "markdown",
   "id": "c985b4b5",
   "metadata": {},
   "source": [
    "### CNF and DNF, ANF\n",
    "\n",
    "論理演算には相等な表現が無数に存在する。ある規約の下で「標準形」へ簡略化が可能:\n",
    "\n",
    "* [Conjunctive normal form - Wikipedia](https://en.wikipedia.org/wiki/Conjunctive_normal_form)\n",
    "  - \"**P**roduct **o**f **S**ums\"\n",
    "  - \"**an AND of ORs**\"\n",
    "  - [Logical conjunction - Wikipedia](https://en.wikipedia.org/wiki/Logical_conjunction)\n",
    "    - 「連言 (論理積)」\n",
    "* [Disjunctive normal form - Wikipedia](https://en.wikipedia.org/wiki/Disjunctive_normal_form)\n",
    "  - \"**S**um **o**f **P**roducts\"\"\n",
    "  - \"**an OR of ANDs**\"\n",
    "  - [Logical disjunction - Wikipedia](https://en.wikipedia.org/wiki/Logical_disjunction)\n",
    "    - 「選言 (論理和)」\n",
    "* [Algebraic normal form - Wikipedia](https://en.wikipedia.org/wiki/Algebraic_normal_form)\n",
    "  - One or more variables are **AND**ed together into a *term*,\n",
    "  - then one or more terms are **XOR**ed together into *ANF*.\n",
    "  - *No **NOT**s are permitted*"
   ]
  },
  {
   "cell_type": "markdown",
   "id": "97ace5d7",
   "metadata": {},
   "source": [
    "論理演算関数 (Boolean Function) では、出力が決まれば論理演算を決定できる"
   ]
  },
  {
   "cell_type": "code",
   "execution_count": 122,
   "id": "31544811",
   "metadata": {},
   "outputs": [
    {
     "data": {
      "text/plain": [
       "[(0, 0), (0, 1), (1, 0), (1, 1)]"
      ]
     },
     "execution_count": 122,
     "metadata": {},
     "output_type": "execute_result"
    }
   ],
   "source": [
    "list(itertools.product([0,1],repeat=2))"
   ]
  },
  {
   "cell_type": "code",
   "execution_count": 30,
   "id": "42cf9cbb",
   "metadata": {},
   "outputs": [],
   "source": [
    "from sympy.logic.boolalg import ANFform, to_cnf, to_dnf"
   ]
  },
  {
   "cell_type": "code",
   "execution_count": 118,
   "id": "1f74c6c4",
   "metadata": {},
   "outputs": [
    {
     "data": {
      "text/latex": [
       "$\\displaystyle \\text{False}$"
      ],
      "text/plain": [
       "False"
      ]
     },
     "execution_count": 118,
     "metadata": {},
     "output_type": "execute_result"
    }
   ],
   "source": [
    "ANFform([x,y], [0,0,0,0])"
   ]
  },
  {
   "cell_type": "code",
   "execution_count": 119,
   "id": "2fd6e700",
   "metadata": {},
   "outputs": [
    {
     "data": {
      "text/latex": [
       "$\\displaystyle \\text{True}$"
      ],
      "text/plain": [
       "True"
      ]
     },
     "execution_count": 119,
     "metadata": {},
     "output_type": "execute_result"
    }
   ],
   "source": [
    "ANFform([x,y], [1,1,1,1])"
   ]
  },
  {
   "cell_type": "code",
   "execution_count": 123,
   "id": "08b4503a",
   "metadata": {},
   "outputs": [
    {
     "data": {
      "text/latex": [
       "$\\displaystyle x \\wedge y$"
      ],
      "text/plain": [
       "x & y"
      ]
     },
     "execution_count": 123,
     "metadata": {},
     "output_type": "execute_result"
    }
   ],
   "source": [
    "ANFform([x,y], [0,0,0,1])"
   ]
  },
  {
   "cell_type": "code",
   "execution_count": 125,
   "id": "255a4386",
   "metadata": {},
   "outputs": [
    {
     "data": {
      "text/latex": [
       "$\\displaystyle x \\veebar y$"
      ],
      "text/plain": [
       "x ^ y"
      ]
     },
     "execution_count": 125,
     "metadata": {},
     "output_type": "execute_result"
    }
   ],
   "source": [
    "ANFform([x,y], [0,1,1,0])"
   ]
  },
  {
   "cell_type": "code",
   "execution_count": 124,
   "id": "8033a56e",
   "metadata": {
    "scrolled": true
   },
   "outputs": [
    {
     "data": {
      "text/latex": [
       "$\\displaystyle x \\veebar y \\veebar \\left(x \\wedge y\\right)$"
      ],
      "text/plain": [
       "x ^ y ^ (x & y)"
      ]
     },
     "execution_count": 124,
     "metadata": {},
     "output_type": "execute_result"
    }
   ],
   "source": [
    "ANFform([x,y], [0,1,1,1])"
   ]
  },
  {
   "cell_type": "code",
   "execution_count": 6,
   "id": "0e4d137f",
   "metadata": {},
   "outputs": [
    {
     "data": {
      "text/latex": [
       "$\\displaystyle x \\vee y$"
      ],
      "text/plain": [
       "x | y"
      ]
     },
     "execution_count": 6,
     "metadata": {},
     "output_type": "execute_result"
    }
   ],
   "source": [
    "simplify_logic(x^y^(x&y), form='cnf')"
   ]
  },
  {
   "cell_type": "code",
   "execution_count": 7,
   "id": "141fe9b0",
   "metadata": {},
   "outputs": [
    {
     "data": {
      "text/latex": [
       "$\\displaystyle x \\vee y$"
      ],
      "text/plain": [
       "x | y"
      ]
     },
     "execution_count": 7,
     "metadata": {},
     "output_type": "execute_result"
    }
   ],
   "source": [
    "simplify_logic(x^y^(x&y), form='dnf')"
   ]
  },
  {
   "cell_type": "code",
   "execution_count": null,
   "id": "26572357",
   "metadata": {},
   "outputs": [],
   "source": []
  },
  {
   "cell_type": "code",
   "execution_count": null,
   "id": "a24652de",
   "metadata": {},
   "outputs": [],
   "source": []
  },
  {
   "cell_type": "code",
   "execution_count": null,
   "id": "11d41652",
   "metadata": {},
   "outputs": [],
   "source": []
  },
  {
   "cell_type": "markdown",
   "id": "3514440f",
   "metadata": {},
   "source": [
    "まとめ)"
   ]
  },
  {
   "cell_type": "code",
   "execution_count": 114,
   "id": "089ae219",
   "metadata": {},
   "outputs": [],
   "source": [
    "import operator"
   ]
  },
  {
   "cell_type": "code",
   "execution_count": 115,
   "id": "47970ca1",
   "metadata": {},
   "outputs": [
    {
     "name": "stdout",
     "output_type": "stream",
     "text": [
      "[0, 0, 0, 1]\n",
      "[0, 1, 1, 1]\n",
      "[0, 1, 1, 0]\n"
     ]
    }
   ],
   "source": [
    "for op in [operator.and_, operator.or_, operator.xor]:\n",
    "    print([op(i,j) for i,j in itertools.product([0,1],repeat=2)])"
   ]
  },
  {
   "cell_type": "code",
   "execution_count": 117,
   "id": "7cadd018",
   "metadata": {},
   "outputs": [
    {
     "name": "stdout",
     "output_type": "stream",
     "text": [
      "x & y\n",
      "x ^ y ^ (x & y)\n",
      "x ^ y\n"
     ]
    }
   ],
   "source": [
    "for op in [operator.and_, operator.or_, operator.xor]:\n",
    "    print(ANFform([x,y], [op(i,j) for i,j in itertools.product([0,1],repeat=2)]))"
   ]
  },
  {
   "cell_type": "code",
   "execution_count": null,
   "id": "823fc11a",
   "metadata": {},
   "outputs": [],
   "source": []
  },
  {
   "cell_type": "code",
   "execution_count": null,
   "id": "a9479521",
   "metadata": {},
   "outputs": [],
   "source": []
  },
  {
   "cell_type": "code",
   "execution_count": null,
   "id": "3c3a88f8",
   "metadata": {},
   "outputs": [],
   "source": []
  },
  {
   "cell_type": "markdown",
   "id": "71f91abd",
   "metadata": {},
   "source": [
    "## 一桁の二進数の加算と等価な論理演算"
   ]
  },
  {
   "cell_type": "code",
   "execution_count": 106,
   "id": "f7018176",
   "metadata": {
    "scrolled": true
   },
   "outputs": [
    {
     "name": "stdout",
     "output_type": "stream",
     "text": [
      "0+0=00 (0,0)\n",
      "0+1=01 (0,1)\n",
      "1+0=01 (0,1)\n",
      "1+1=10 (1,0)\n"
     ]
    }
   ],
   "source": [
    "for i,j in itertools.product([0,1], repeat=2):\n",
    "    print(\"{:d}+{:d}={:02b} \".format(i,j,i+j), end=\"\")\n",
    "    print(\"({:d},{:d})\".format(*divmod(i+j,2)))"
   ]
  },
  {
   "cell_type": "code",
   "execution_count": 103,
   "id": "381f584b",
   "metadata": {},
   "outputs": [
    {
     "data": {
      "text/plain": [
       "[(0, 0, 0, 1), (0, 1, 1, 0)]"
      ]
     },
     "execution_count": 103,
     "metadata": {},
     "output_type": "execute_result"
    }
   ],
   "source": [
    "list(zip(*[divmod(i+j,2) for i,j in itertools.product([0,1], repeat=2)]))"
   ]
  },
  {
   "cell_type": "code",
   "execution_count": 105,
   "id": "d4d191c4",
   "metadata": {},
   "outputs": [
    {
     "name": "stdout",
     "output_type": "stream",
     "text": [
      "x & y\n",
      "x ^ y\n"
     ]
    }
   ],
   "source": [
    "for qr in zip(*[divmod(i+j,2) for i,j in itertools.product([0,1], repeat=2)]):\n",
    "    print(ANFform([x,y], qr))"
   ]
  },
  {
   "cell_type": "markdown",
   "id": "8e8b1cfc",
   "metadata": {},
   "source": [
    "xor (``^``) を用いずに CNF や DNF で表現すると"
   ]
  },
  {
   "cell_type": "code",
   "execution_count": 40,
   "id": "c418cbba",
   "metadata": {},
   "outputs": [
    {
     "name": "stdout",
     "output_type": "stream",
     "text": [
      "x & y\n",
      "(x | y) & (~x | ~y)\n"
     ]
    }
   ],
   "source": [
    "for qr in zip(*[divmod(i+j,2) for i,j in itertools.product([0,1], repeat=2)]):\n",
    "    print(to_cnf(ANFform([x,y], qr), simplify=True))"
   ]
  },
  {
   "cell_type": "code",
   "execution_count": 39,
   "id": "fe2b52d9",
   "metadata": {},
   "outputs": [
    {
     "name": "stdout",
     "output_type": "stream",
     "text": [
      "x & y\n",
      "(x & ~y) | (y & ~x)\n"
     ]
    }
   ],
   "source": [
    "for qr in zip(*[divmod(i+j,2) for i,j in itertools.product([0,1], repeat=2)]):\n",
    "    print(to_dnf(ANFform([x,y], qr), simplify=True))"
   ]
  },
  {
   "cell_type": "code",
   "execution_count": null,
   "id": "262d52ea",
   "metadata": {},
   "outputs": [],
   "source": []
  },
  {
   "cell_type": "code",
   "execution_count": null,
   "id": "7915a264",
   "metadata": {},
   "outputs": [],
   "source": []
  },
  {
   "cell_type": "code",
   "execution_count": null,
   "id": "52f05a41",
   "metadata": {},
   "outputs": [],
   "source": []
  },
  {
   "cell_type": "markdown",
   "id": "0cbe75d0",
   "metadata": {},
   "source": [
    "### 繰り上がりを考慮した一桁の二進数の加算"
   ]
  },
  {
   "cell_type": "code",
   "execution_count": 17,
   "id": "2498c22d",
   "metadata": {
    "scrolled": true
   },
   "outputs": [
    {
     "name": "stdout",
     "output_type": "stream",
     "text": [
      "0+0+0=00 (0,0)\n",
      "0+0+1=01 (0,1)\n",
      "0+1+0=01 (0,1)\n",
      "0+1+1=10 (1,0)\n",
      "1+0+0=01 (0,1)\n",
      "1+0+1=10 (1,0)\n",
      "1+1+0=10 (1,0)\n",
      "1+1+1=11 (1,1)\n"
     ]
    }
   ],
   "source": [
    "import itertools\n",
    "for i,j,k in itertools.product([0,1], repeat=3):\n",
    "    print(\"{:d}+{:d}+{:d}={:02b} \".format(i,j,k,i+j+k), end=\"\")\n",
    "    print(\"({:d},{:d})\".format(*divmod(i+j+k,2)))"
   ]
  },
  {
   "cell_type": "code",
   "execution_count": 20,
   "id": "2aaaaee1",
   "metadata": {},
   "outputs": [
    {
     "data": {
      "text/plain": [
       "[(0, 0, 0, 1, 0, 1, 1, 1), (0, 1, 1, 0, 1, 0, 0, 1)]"
      ]
     },
     "execution_count": 20,
     "metadata": {},
     "output_type": "execute_result"
    }
   ],
   "source": [
    "list(zip(*[divmod(i+j+k,2) for i,j,k in itertools.product([0,1], repeat=3)]))"
   ]
  },
  {
   "cell_type": "code",
   "execution_count": 22,
   "id": "b7436091",
   "metadata": {},
   "outputs": [
    {
     "name": "stdout",
     "output_type": "stream",
     "text": [
      "(x & y) ^ (x & z) ^ (y & z)\n",
      "x ^ y ^ z\n"
     ]
    }
   ],
   "source": [
    "for qr in zip(*[divmod(i+j+k,2) for i,j,k in itertools.product([0,1], repeat=3)]):\n",
    "    print(ANFform([x,y,z], qr))"
   ]
  },
  {
   "cell_type": "markdown",
   "id": "d3276886",
   "metadata": {},
   "source": [
    "xor (``^``) を用いずにCNFやDNFで表現すると煩雑な表現になる (xor演算がが重用される理由) :"
   ]
  },
  {
   "cell_type": "code",
   "execution_count": 36,
   "id": "2309d652",
   "metadata": {},
   "outputs": [
    {
     "name": "stdout",
     "output_type": "stream",
     "text": [
      "(x | y) & (x | z) & (y | z)\n",
      "(x | y | z) & (x | ~y | ~z) & (y | ~x | ~z) & (z | ~x | ~y)\n"
     ]
    }
   ],
   "source": [
    "for qr in zip(*[divmod(i+j+k,2) for i,j,k in itertools.product([0,1], repeat=3)]):\n",
    "    print(to_cnf(ANFform([x,y,z], qr), simplify=True))"
   ]
  },
  {
   "cell_type": "code",
   "execution_count": 35,
   "id": "d923cdb5",
   "metadata": {},
   "outputs": [
    {
     "name": "stdout",
     "output_type": "stream",
     "text": [
      "(x & y) | (x & z) | (y & z)\n",
      "(x & y & z) | (x & ~y & ~z) | (y & ~x & ~z) | (z & ~x & ~y)\n"
     ]
    }
   ],
   "source": [
    "for qr in zip(*[divmod(i+j+k,2) for i,j,k in itertools.product([0,1], repeat=3)]):\n",
    "    print(to_dnf(ANFform([x,y,z], qr), simplify=True))"
   ]
  },
  {
   "cell_type": "code",
   "execution_count": null,
   "id": "7713ca0a",
   "metadata": {},
   "outputs": [],
   "source": []
  },
  {
   "cell_type": "code",
   "execution_count": null,
   "id": "3b6e58eb",
   "metadata": {},
   "outputs": [],
   "source": []
  },
  {
   "cell_type": "code",
   "execution_count": null,
   "id": "f2040411",
   "metadata": {},
   "outputs": [],
   "source": []
  }
 ],
 "metadata": {
  "kernelspec": {
   "display_name": "Python 3 (ipykernel)",
   "language": "python",
   "name": "python3"
  },
  "language_info": {
   "codemirror_mode": {
    "name": "ipython",
    "version": 3
   },
   "file_extension": ".py",
   "mimetype": "text/x-python",
   "name": "python",
   "nbconvert_exporter": "python",
   "pygments_lexer": "ipython3",
   "version": "3.9.12"
  },
  "toc": {
   "base_numbering": 1,
   "nav_menu": {},
   "number_sections": true,
   "sideBar": true,
   "skip_h1_title": false,
   "title_cell": "Table of Contents",
   "title_sidebar": "Contents",
   "toc_cell": false,
   "toc_position": {},
   "toc_section_display": true,
   "toc_window_display": false
  }
 },
 "nbformat": 4,
 "nbformat_minor": 5
}
