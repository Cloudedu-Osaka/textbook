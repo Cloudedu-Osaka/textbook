{
 "cells": [
  {
   "cell_type": "code",
   "execution_count": null,
   "id": "e06990e9",
   "metadata": {},
   "outputs": [],
   "source": []
  },
  {
   "cell_type": "code",
   "execution_count": null,
   "id": "ae6f745a",
   "metadata": {},
   "outputs": [],
   "source": []
  },
  {
   "cell_type": "code",
   "execution_count": null,
   "id": "aa9d1ebd",
   "metadata": {},
   "outputs": [],
   "source": []
  },
  {
   "cell_type": "markdown",
   "id": "51ab4036",
   "metadata": {},
   "source": [
    "# Napier's Logarithms: 九九のない世界"
   ]
  },
  {
   "cell_type": "markdown",
   "id": "d76c60b5",
   "metadata": {},
   "source": [
    "## 表を作る"
   ]
  },
  {
   "cell_type": "code",
   "execution_count": 3,
   "id": "07fcfd76",
   "metadata": {},
   "outputs": [],
   "source": [
    "from astropy.coordinates import Angle\n",
    "from astropy import units"
   ]
  },
  {
   "cell_type": "code",
   "execution_count": 4,
   "id": "69edc4bc",
   "metadata": {},
   "outputs": [
    {
     "data": {
      "text/plain": [
       "0.018049613347708025"
      ]
     },
     "execution_count": 4,
     "metadata": {},
     "output_type": "execute_result"
    }
   ],
   "source": [
    "Angle('{:d}°{:d}′{:d}″'.format(1,2,3)).radian"
   ]
  },
  {
   "cell_type": "code",
   "execution_count": 17,
   "id": "ae00de74",
   "metadata": {},
   "outputs": [],
   "source": [
    "import math\n",
    "import numpy as np\n",
    "from scoping import scoping\n",
    "import pandas as pd"
   ]
  },
  {
   "cell_type": "code",
   "execution_count": 59,
   "id": "0a14fe8c",
   "metadata": {
    "scrolled": false
   },
   "outputs": [],
   "source": [
    "def napier(dms_d=0, r=7):\n",
    "    for dms_m in range(60):\n",
    "        a = Angle('{:d}°{:d}′{:d}″'.format(dms_d,dms_m,0))\n",
    "        yield (a,\n",
    "               \"{:8.0f}\".format(math.sin(a.radian)*10**r),\n",
    "               \"{:8.0f}\".format(math.log(math.sin(a.radian), 1-1/(10**r)) if a.radian else float('inf')),\n",
    "               \"{:8.0f}\".format(math.log(math.tan(a.radian), 1-1/(10**r)) if a.radian else float('inf')),\n",
    "               \"{:8.0f}\".format(math.log(math.cos(a.radian), 1-1/(10**r))),\n",
    "               \"{:8.0f}\".format(math.cos(a.radian)*10**r),\n",
    "               Angle('{:d}°{:d}′{:d}″'.format(90,0,0))-Angle('{:d}°{:d}′{:d}″'.format(dms_d,dms_m,0)))"
   ]
  },
  {
   "cell_type": "code",
   "execution_count": 67,
   "id": "11b808aa",
   "metadata": {},
   "outputs": [
    {
     "data": {
      "text/html": [
       "<div>\n",
       "<style scoped>\n",
       "    .dataframe tbody tr th:only-of-type {\n",
       "        vertical-align: middle;\n",
       "    }\n",
       "\n",
       "    .dataframe tbody tr th {\n",
       "        vertical-align: top;\n",
       "    }\n",
       "\n",
       "    .dataframe thead th {\n",
       "        text-align: right;\n",
       "    }\n",
       "</style>\n",
       "<table border=\"1\" class=\"dataframe\">\n",
       "  <thead>\n",
       "    <tr style=\"text-align: right;\">\n",
       "      <th></th>\n",
       "      <th>d</th>\n",
       "      <th>sin</th>\n",
       "      <th>log(sin(d))</th>\n",
       "      <th>log(tan(d))</th>\n",
       "      <th>log(cos(d))</th>\n",
       "      <th>cos(d)</th>\n",
       "      <th>90-d</th>\n",
       "    </tr>\n",
       "  </thead>\n",
       "  <tbody>\n",
       "    <tr>\n",
       "      <th>0</th>\n",
       "      <td>0d00m00s</td>\n",
       "      <td>0</td>\n",
       "      <td>inf</td>\n",
       "      <td>inf</td>\n",
       "      <td>-0</td>\n",
       "      <td>10000000</td>\n",
       "      <td>90d00m00s</td>\n",
       "    </tr>\n",
       "    <tr>\n",
       "      <th>1</th>\n",
       "      <td>0d01m00s</td>\n",
       "      <td>2909</td>\n",
       "      <td>81425711</td>\n",
       "      <td>81425711</td>\n",
       "      <td>0</td>\n",
       "      <td>10000000</td>\n",
       "      <td>89d59m00s</td>\n",
       "    </tr>\n",
       "    <tr>\n",
       "      <th>2</th>\n",
       "      <td>0d02m00s</td>\n",
       "      <td>5818</td>\n",
       "      <td>74494240</td>\n",
       "      <td>74494239</td>\n",
       "      <td>2</td>\n",
       "      <td>9999998</td>\n",
       "      <td>89d58m00s</td>\n",
       "    </tr>\n",
       "    <tr>\n",
       "      <th>3</th>\n",
       "      <td>0d03m00s</td>\n",
       "      <td>8727</td>\n",
       "      <td>70439590</td>\n",
       "      <td>70439586</td>\n",
       "      <td>4</td>\n",
       "      <td>9999996</td>\n",
       "      <td>89d57m00s</td>\n",
       "    </tr>\n",
       "    <tr>\n",
       "      <th>4</th>\n",
       "      <td>0d04m00s</td>\n",
       "      <td>11636</td>\n",
       "      <td>67562771</td>\n",
       "      <td>67562764</td>\n",
       "      <td>7</td>\n",
       "      <td>9999993</td>\n",
       "      <td>89d56m00s</td>\n",
       "    </tr>\n",
       "    <tr>\n",
       "      <th>5</th>\n",
       "      <td>0d05m00s</td>\n",
       "      <td>14544</td>\n",
       "      <td>65331336</td>\n",
       "      <td>65331326</td>\n",
       "      <td>11</td>\n",
       "      <td>9999989</td>\n",
       "      <td>89d55m00s</td>\n",
       "    </tr>\n",
       "    <tr>\n",
       "      <th>6</th>\n",
       "      <td>0d06m00s</td>\n",
       "      <td>17453</td>\n",
       "      <td>63508123</td>\n",
       "      <td>63508107</td>\n",
       "      <td>15</td>\n",
       "      <td>9999985</td>\n",
       "      <td>89d54m00s</td>\n",
       "    </tr>\n",
       "    <tr>\n",
       "      <th>7</th>\n",
       "      <td>0d07m00s</td>\n",
       "      <td>20362</td>\n",
       "      <td>61966618</td>\n",
       "      <td>61966597</td>\n",
       "      <td>21</td>\n",
       "      <td>9999979</td>\n",
       "      <td>89d53m00s</td>\n",
       "    </tr>\n",
       "    <tr>\n",
       "      <th>8</th>\n",
       "      <td>0d08m00s</td>\n",
       "      <td>23271</td>\n",
       "      <td>60631306</td>\n",
       "      <td>60631279</td>\n",
       "      <td>27</td>\n",
       "      <td>9999973</td>\n",
       "      <td>89d52m00s</td>\n",
       "    </tr>\n",
       "    <tr>\n",
       "      <th>9</th>\n",
       "      <td>0d09m00s</td>\n",
       "      <td>26180</td>\n",
       "      <td>59453478</td>\n",
       "      <td>59453444</td>\n",
       "      <td>34</td>\n",
       "      <td>9999966</td>\n",
       "      <td>89d51m00s</td>\n",
       "    </tr>\n",
       "    <tr>\n",
       "      <th>10</th>\n",
       "      <td>0d10m00s</td>\n",
       "      <td>29089</td>\n",
       "      <td>58399876</td>\n",
       "      <td>58399833</td>\n",
       "      <td>42</td>\n",
       "      <td>9999958</td>\n",
       "      <td>89d50m00s</td>\n",
       "    </tr>\n",
       "    <tr>\n",
       "      <th>11</th>\n",
       "      <td>0d11m00s</td>\n",
       "      <td>31998</td>\n",
       "      <td>57446777</td>\n",
       "      <td>57446726</td>\n",
       "      <td>51</td>\n",
       "      <td>9999949</td>\n",
       "      <td>89d49m00s</td>\n",
       "    </tr>\n",
       "    <tr>\n",
       "      <th>12</th>\n",
       "      <td>0d12m00s</td>\n",
       "      <td>34907</td>\n",
       "      <td>56576666</td>\n",
       "      <td>56576605</td>\n",
       "      <td>61</td>\n",
       "      <td>9999939</td>\n",
       "      <td>89d48m00s</td>\n",
       "    </tr>\n",
       "    <tr>\n",
       "      <th>13</th>\n",
       "      <td>0d13m00s</td>\n",
       "      <td>37815</td>\n",
       "      <td>55776243</td>\n",
       "      <td>55776171</td>\n",
       "      <td>72</td>\n",
       "      <td>9999928</td>\n",
       "      <td>89d47m00s</td>\n",
       "    </tr>\n",
       "    <tr>\n",
       "      <th>14</th>\n",
       "      <td>0d14m00s</td>\n",
       "      <td>40724</td>\n",
       "      <td>55035167</td>\n",
       "      <td>55035084</td>\n",
       "      <td>83</td>\n",
       "      <td>9999917</td>\n",
       "      <td>89d46m00s</td>\n",
       "    </tr>\n",
       "    <tr>\n",
       "      <th>15</th>\n",
       "      <td>0d15m00s</td>\n",
       "      <td>43633</td>\n",
       "      <td>54345242</td>\n",
       "      <td>54345147</td>\n",
       "      <td>95</td>\n",
       "      <td>9999905</td>\n",
       "      <td>89d45m00s</td>\n",
       "    </tr>\n",
       "    <tr>\n",
       "      <th>16</th>\n",
       "      <td>0d16m00s</td>\n",
       "      <td>46542</td>\n",
       "      <td>53699861</td>\n",
       "      <td>53699753</td>\n",
       "      <td>108</td>\n",
       "      <td>9999892</td>\n",
       "      <td>89d44m00s</td>\n",
       "    </tr>\n",
       "    <tr>\n",
       "      <th>17</th>\n",
       "      <td>0d17m00s</td>\n",
       "      <td>49451</td>\n",
       "      <td>53093620</td>\n",
       "      <td>53093498</td>\n",
       "      <td>122</td>\n",
       "      <td>9999878</td>\n",
       "      <td>89d43m00s</td>\n",
       "    </tr>\n",
       "    <tr>\n",
       "      <th>18</th>\n",
       "      <td>0d18m00s</td>\n",
       "      <td>52360</td>\n",
       "      <td>52522041</td>\n",
       "      <td>52521904</td>\n",
       "      <td>137</td>\n",
       "      <td>9999863</td>\n",
       "      <td>89d42m00s</td>\n",
       "    </tr>\n",
       "    <tr>\n",
       "      <th>19</th>\n",
       "      <td>0d19m00s</td>\n",
       "      <td>55268</td>\n",
       "      <td>51981374</td>\n",
       "      <td>51981221</td>\n",
       "      <td>153</td>\n",
       "      <td>9999847</td>\n",
       "      <td>89d41m00s</td>\n",
       "    </tr>\n",
       "    <tr>\n",
       "      <th>20</th>\n",
       "      <td>0d20m00s</td>\n",
       "      <td>58177</td>\n",
       "      <td>51468446</td>\n",
       "      <td>51468277</td>\n",
       "      <td>169</td>\n",
       "      <td>9999831</td>\n",
       "      <td>89d40m00s</td>\n",
       "    </tr>\n",
       "    <tr>\n",
       "      <th>21</th>\n",
       "      <td>0d21m00s</td>\n",
       "      <td>61086</td>\n",
       "      <td>50980551</td>\n",
       "      <td>50980364</td>\n",
       "      <td>187</td>\n",
       "      <td>9999813</td>\n",
       "      <td>89d39m00s</td>\n",
       "    </tr>\n",
       "    <tr>\n",
       "      <th>22</th>\n",
       "      <td>0d22m00s</td>\n",
       "      <td>63995</td>\n",
       "      <td>50515356</td>\n",
       "      <td>50515152</td>\n",
       "      <td>205</td>\n",
       "      <td>9999795</td>\n",
       "      <td>89d38m00s</td>\n",
       "    </tr>\n",
       "    <tr>\n",
       "      <th>23</th>\n",
       "      <td>0d23m00s</td>\n",
       "      <td>66904</td>\n",
       "      <td>50070845</td>\n",
       "      <td>50070621</td>\n",
       "      <td>224</td>\n",
       "      <td>9999776</td>\n",
       "      <td>89d37m00s</td>\n",
       "    </tr>\n",
       "    <tr>\n",
       "      <th>24</th>\n",
       "      <td>0d24m00s</td>\n",
       "      <td>69813</td>\n",
       "      <td>49645256</td>\n",
       "      <td>49645012</td>\n",
       "      <td>244</td>\n",
       "      <td>9999756</td>\n",
       "      <td>89d36m00s</td>\n",
       "    </tr>\n",
       "    <tr>\n",
       "      <th>25</th>\n",
       "      <td>0d25m00s</td>\n",
       "      <td>72721</td>\n",
       "      <td>49237043</td>\n",
       "      <td>49236778</td>\n",
       "      <td>264</td>\n",
       "      <td>9999736</td>\n",
       "      <td>89d35m00s</td>\n",
       "    </tr>\n",
       "    <tr>\n",
       "      <th>26</th>\n",
       "      <td>0d26m00s</td>\n",
       "      <td>75630</td>\n",
       "      <td>48844843</td>\n",
       "      <td>48844557</td>\n",
       "      <td>286</td>\n",
       "      <td>9999714</td>\n",
       "      <td>89d34m00s</td>\n",
       "    </tr>\n",
       "    <tr>\n",
       "      <th>27</th>\n",
       "      <td>0d27m00s</td>\n",
       "      <td>78539</td>\n",
       "      <td>48467447</td>\n",
       "      <td>48467139</td>\n",
       "      <td>308</td>\n",
       "      <td>9999692</td>\n",
       "      <td>89d33m00s</td>\n",
       "    </tr>\n",
       "    <tr>\n",
       "      <th>28</th>\n",
       "      <td>0d28m00s</td>\n",
       "      <td>81448</td>\n",
       "      <td>48103778</td>\n",
       "      <td>48103447</td>\n",
       "      <td>332</td>\n",
       "      <td>9999668</td>\n",
       "      <td>89d32m00s</td>\n",
       "    </tr>\n",
       "    <tr>\n",
       "      <th>29</th>\n",
       "      <td>0d29m00s</td>\n",
       "      <td>84357</td>\n",
       "      <td>47752873</td>\n",
       "      <td>47752517</td>\n",
       "      <td>356</td>\n",
       "      <td>9999644</td>\n",
       "      <td>89d31m00s</td>\n",
       "    </tr>\n",
       "    <tr>\n",
       "      <th>30</th>\n",
       "      <td>0d30m00s</td>\n",
       "      <td>87265</td>\n",
       "      <td>47413866</td>\n",
       "      <td>47413485</td>\n",
       "      <td>381</td>\n",
       "      <td>9999619</td>\n",
       "      <td>89d30m00s</td>\n",
       "    </tr>\n",
       "    <tr>\n",
       "      <th>31</th>\n",
       "      <td>0d31m00s</td>\n",
       "      <td>90174</td>\n",
       "      <td>47085976</td>\n",
       "      <td>47085570</td>\n",
       "      <td>407</td>\n",
       "      <td>9999593</td>\n",
       "      <td>89d29m00s</td>\n",
       "    </tr>\n",
       "    <tr>\n",
       "      <th>32</th>\n",
       "      <td>0d32m00s</td>\n",
       "      <td>93083</td>\n",
       "      <td>46768498</td>\n",
       "      <td>46768065</td>\n",
       "      <td>433</td>\n",
       "      <td>9999567</td>\n",
       "      <td>89d28m00s</td>\n",
       "    </tr>\n",
       "    <tr>\n",
       "      <th>33</th>\n",
       "      <td>0d33m00s</td>\n",
       "      <td>95992</td>\n",
       "      <td>46460791</td>\n",
       "      <td>46460330</td>\n",
       "      <td>461</td>\n",
       "      <td>9999539</td>\n",
       "      <td>89d27m00s</td>\n",
       "    </tr>\n",
       "    <tr>\n",
       "      <th>34</th>\n",
       "      <td>0d34m00s</td>\n",
       "      <td>98900</td>\n",
       "      <td>46162271</td>\n",
       "      <td>46161782</td>\n",
       "      <td>489</td>\n",
       "      <td>9999511</td>\n",
       "      <td>89d26m00s</td>\n",
       "    </tr>\n",
       "    <tr>\n",
       "      <th>35</th>\n",
       "      <td>0d35m00s</td>\n",
       "      <td>101809</td>\n",
       "      <td>45872405</td>\n",
       "      <td>45871887</td>\n",
       "      <td>518</td>\n",
       "      <td>9999482</td>\n",
       "      <td>89d25m00s</td>\n",
       "    </tr>\n",
       "    <tr>\n",
       "      <th>36</th>\n",
       "      <td>0d36m00s</td>\n",
       "      <td>104718</td>\n",
       "      <td>45590706</td>\n",
       "      <td>45590158</td>\n",
       "      <td>548</td>\n",
       "      <td>9999452</td>\n",
       "      <td>89d24m00s</td>\n",
       "    </tr>\n",
       "    <tr>\n",
       "      <th>37</th>\n",
       "      <td>0d37m00s</td>\n",
       "      <td>107627</td>\n",
       "      <td>45316727</td>\n",
       "      <td>45316148</td>\n",
       "      <td>579</td>\n",
       "      <td>9999421</td>\n",
       "      <td>89d23m00s</td>\n",
       "    </tr>\n",
       "    <tr>\n",
       "      <th>38</th>\n",
       "      <td>0d38m00s</td>\n",
       "      <td>110535</td>\n",
       "      <td>45050055</td>\n",
       "      <td>45049444</td>\n",
       "      <td>611</td>\n",
       "      <td>9999389</td>\n",
       "      <td>89d22m00s</td>\n",
       "    </tr>\n",
       "    <tr>\n",
       "      <th>39</th>\n",
       "      <td>0d39m00s</td>\n",
       "      <td>113444</td>\n",
       "      <td>44790311</td>\n",
       "      <td>44789668</td>\n",
       "      <td>644</td>\n",
       "      <td>9999357</td>\n",
       "      <td>89d21m00s</td>\n",
       "    </tr>\n",
       "    <tr>\n",
       "      <th>40</th>\n",
       "      <td>0d40m00s</td>\n",
       "      <td>116353</td>\n",
       "      <td>44537144</td>\n",
       "      <td>44536467</td>\n",
       "      <td>677</td>\n",
       "      <td>9999323</td>\n",
       "      <td>89d20m00s</td>\n",
       "    </tr>\n",
       "    <tr>\n",
       "      <th>41</th>\n",
       "      <td>0d41m00s</td>\n",
       "      <td>119261</td>\n",
       "      <td>44290229</td>\n",
       "      <td>44289518</td>\n",
       "      <td>711</td>\n",
       "      <td>9999289</td>\n",
       "      <td>89d19m00s</td>\n",
       "    </tr>\n",
       "    <tr>\n",
       "      <th>42</th>\n",
       "      <td>0d42m00s</td>\n",
       "      <td>122170</td>\n",
       "      <td>44049266</td>\n",
       "      <td>44048519</td>\n",
       "      <td>746</td>\n",
       "      <td>9999254</td>\n",
       "      <td>89d18m00s</td>\n",
       "    </tr>\n",
       "    <tr>\n",
       "      <th>43</th>\n",
       "      <td>0d43m00s</td>\n",
       "      <td>125079</td>\n",
       "      <td>43813973</td>\n",
       "      <td>43813190</td>\n",
       "      <td>782</td>\n",
       "      <td>9999218</td>\n",
       "      <td>89d17m00s</td>\n",
       "    </tr>\n",
       "    <tr>\n",
       "      <th>44</th>\n",
       "      <td>0d44m00s</td>\n",
       "      <td>127987</td>\n",
       "      <td>43584090</td>\n",
       "      <td>43583271</td>\n",
       "      <td>819</td>\n",
       "      <td>9999181</td>\n",
       "      <td>89d16m00s</td>\n",
       "    </tr>\n",
       "    <tr>\n",
       "      <th>45</th>\n",
       "      <td>0d45m00s</td>\n",
       "      <td>130896</td>\n",
       "      <td>43359374</td>\n",
       "      <td>43358517</td>\n",
       "      <td>857</td>\n",
       "      <td>9999143</td>\n",
       "      <td>89d15m00s</td>\n",
       "    </tr>\n",
       "    <tr>\n",
       "      <th>46</th>\n",
       "      <td>0d46m00s</td>\n",
       "      <td>133805</td>\n",
       "      <td>43139598</td>\n",
       "      <td>43138702</td>\n",
       "      <td>895</td>\n",
       "      <td>9999105</td>\n",
       "      <td>89d14m00s</td>\n",
       "    </tr>\n",
       "    <tr>\n",
       "      <th>47</th>\n",
       "      <td>0d47m00s</td>\n",
       "      <td>136713</td>\n",
       "      <td>42924549</td>\n",
       "      <td>42923614</td>\n",
       "      <td>935</td>\n",
       "      <td>9999065</td>\n",
       "      <td>89d13m00s</td>\n",
       "    </tr>\n",
       "    <tr>\n",
       "      <th>48</th>\n",
       "      <td>0d48m00s</td>\n",
       "      <td>139622</td>\n",
       "      <td>42714028</td>\n",
       "      <td>42713053</td>\n",
       "      <td>975</td>\n",
       "      <td>9999025</td>\n",
       "      <td>89d12m00s</td>\n",
       "    </tr>\n",
       "    <tr>\n",
       "      <th>49</th>\n",
       "      <td>0d49m00s</td>\n",
       "      <td>142530</td>\n",
       "      <td>42507849</td>\n",
       "      <td>42506833</td>\n",
       "      <td>1016</td>\n",
       "      <td>9998984</td>\n",
       "      <td>89d11m00s</td>\n",
       "    </tr>\n",
       "    <tr>\n",
       "      <th>50</th>\n",
       "      <td>0d50m00s</td>\n",
       "      <td>145439</td>\n",
       "      <td>42305836</td>\n",
       "      <td>42304778</td>\n",
       "      <td>1058</td>\n",
       "      <td>9998942</td>\n",
       "      <td>89d10m00s</td>\n",
       "    </tr>\n",
       "    <tr>\n",
       "      <th>51</th>\n",
       "      <td>0d51m00s</td>\n",
       "      <td>148348</td>\n",
       "      <td>42107824</td>\n",
       "      <td>42106723</td>\n",
       "      <td>1100</td>\n",
       "      <td>9998900</td>\n",
       "      <td>89d09m00s</td>\n",
       "    </tr>\n",
       "    <tr>\n",
       "      <th>52</th>\n",
       "      <td>0d52m00s</td>\n",
       "      <td>151256</td>\n",
       "      <td>41913657</td>\n",
       "      <td>41912513</td>\n",
       "      <td>1144</td>\n",
       "      <td>9998856</td>\n",
       "      <td>89d08m00s</td>\n",
       "    </tr>\n",
       "    <tr>\n",
       "      <th>53</th>\n",
       "      <td>0d53m00s</td>\n",
       "      <td>154165</td>\n",
       "      <td>41723190</td>\n",
       "      <td>41722002</td>\n",
       "      <td>1188</td>\n",
       "      <td>9998812</td>\n",
       "      <td>89d07m00s</td>\n",
       "    </tr>\n",
       "    <tr>\n",
       "      <th>54</th>\n",
       "      <td>0d54m00s</td>\n",
       "      <td>157073</td>\n",
       "      <td>41536284</td>\n",
       "      <td>41535050</td>\n",
       "      <td>1234</td>\n",
       "      <td>9998766</td>\n",
       "      <td>89d06m00s</td>\n",
       "    </tr>\n",
       "    <tr>\n",
       "      <th>55</th>\n",
       "      <td>0d55m00s</td>\n",
       "      <td>159982</td>\n",
       "      <td>41352808</td>\n",
       "      <td>41351528</td>\n",
       "      <td>1280</td>\n",
       "      <td>9998720</td>\n",
       "      <td>89d05m00s</td>\n",
       "    </tr>\n",
       "    <tr>\n",
       "      <th>56</th>\n",
       "      <td>0d56m00s</td>\n",
       "      <td>162890</td>\n",
       "      <td>41172639</td>\n",
       "      <td>41171312</td>\n",
       "      <td>1327</td>\n",
       "      <td>9998673</td>\n",
       "      <td>89d04m00s</td>\n",
       "    </tr>\n",
       "    <tr>\n",
       "      <th>57</th>\n",
       "      <td>0d57m00s</td>\n",
       "      <td>165799</td>\n",
       "      <td>40995659</td>\n",
       "      <td>40994284</td>\n",
       "      <td>1375</td>\n",
       "      <td>9998625</td>\n",
       "      <td>89d03m00s</td>\n",
       "    </tr>\n",
       "    <tr>\n",
       "      <th>58</th>\n",
       "      <td>0d58m00s</td>\n",
       "      <td>168707</td>\n",
       "      <td>40821758</td>\n",
       "      <td>40820334</td>\n",
       "      <td>1423</td>\n",
       "      <td>9998577</td>\n",
       "      <td>89d02m00s</td>\n",
       "    </tr>\n",
       "    <tr>\n",
       "      <th>59</th>\n",
       "      <td>0d59m00s</td>\n",
       "      <td>171616</td>\n",
       "      <td>40650830</td>\n",
       "      <td>40649357</td>\n",
       "      <td>1473</td>\n",
       "      <td>9998527</td>\n",
       "      <td>89d01m00s</td>\n",
       "    </tr>\n",
       "  </tbody>\n",
       "</table>\n",
       "</div>"
      ],
      "text/plain": [
       "           d       sin log(sin(d)) log(tan(d)) log(cos(d))    cos(d)  \\\n",
       "0   0d00m00s         0         inf         inf          -0  10000000   \n",
       "1   0d01m00s      2909    81425711    81425711           0  10000000   \n",
       "2   0d02m00s      5818    74494240    74494239           2   9999998   \n",
       "3   0d03m00s      8727    70439590    70439586           4   9999996   \n",
       "4   0d04m00s     11636    67562771    67562764           7   9999993   \n",
       "5   0d05m00s     14544    65331336    65331326          11   9999989   \n",
       "6   0d06m00s     17453    63508123    63508107          15   9999985   \n",
       "7   0d07m00s     20362    61966618    61966597          21   9999979   \n",
       "8   0d08m00s     23271    60631306    60631279          27   9999973   \n",
       "9   0d09m00s     26180    59453478    59453444          34   9999966   \n",
       "10  0d10m00s     29089    58399876    58399833          42   9999958   \n",
       "11  0d11m00s     31998    57446777    57446726          51   9999949   \n",
       "12  0d12m00s     34907    56576666    56576605          61   9999939   \n",
       "13  0d13m00s     37815    55776243    55776171          72   9999928   \n",
       "14  0d14m00s     40724    55035167    55035084          83   9999917   \n",
       "15  0d15m00s     43633    54345242    54345147          95   9999905   \n",
       "16  0d16m00s     46542    53699861    53699753         108   9999892   \n",
       "17  0d17m00s     49451    53093620    53093498         122   9999878   \n",
       "18  0d18m00s     52360    52522041    52521904         137   9999863   \n",
       "19  0d19m00s     55268    51981374    51981221         153   9999847   \n",
       "20  0d20m00s     58177    51468446    51468277         169   9999831   \n",
       "21  0d21m00s     61086    50980551    50980364         187   9999813   \n",
       "22  0d22m00s     63995    50515356    50515152         205   9999795   \n",
       "23  0d23m00s     66904    50070845    50070621         224   9999776   \n",
       "24  0d24m00s     69813    49645256    49645012         244   9999756   \n",
       "25  0d25m00s     72721    49237043    49236778         264   9999736   \n",
       "26  0d26m00s     75630    48844843    48844557         286   9999714   \n",
       "27  0d27m00s     78539    48467447    48467139         308   9999692   \n",
       "28  0d28m00s     81448    48103778    48103447         332   9999668   \n",
       "29  0d29m00s     84357    47752873    47752517         356   9999644   \n",
       "30  0d30m00s     87265    47413866    47413485         381   9999619   \n",
       "31  0d31m00s     90174    47085976    47085570         407   9999593   \n",
       "32  0d32m00s     93083    46768498    46768065         433   9999567   \n",
       "33  0d33m00s     95992    46460791    46460330         461   9999539   \n",
       "34  0d34m00s     98900    46162271    46161782         489   9999511   \n",
       "35  0d35m00s    101809    45872405    45871887         518   9999482   \n",
       "36  0d36m00s    104718    45590706    45590158         548   9999452   \n",
       "37  0d37m00s    107627    45316727    45316148         579   9999421   \n",
       "38  0d38m00s    110535    45050055    45049444         611   9999389   \n",
       "39  0d39m00s    113444    44790311    44789668         644   9999357   \n",
       "40  0d40m00s    116353    44537144    44536467         677   9999323   \n",
       "41  0d41m00s    119261    44290229    44289518         711   9999289   \n",
       "42  0d42m00s    122170    44049266    44048519         746   9999254   \n",
       "43  0d43m00s    125079    43813973    43813190         782   9999218   \n",
       "44  0d44m00s    127987    43584090    43583271         819   9999181   \n",
       "45  0d45m00s    130896    43359374    43358517         857   9999143   \n",
       "46  0d46m00s    133805    43139598    43138702         895   9999105   \n",
       "47  0d47m00s    136713    42924549    42923614         935   9999065   \n",
       "48  0d48m00s    139622    42714028    42713053         975   9999025   \n",
       "49  0d49m00s    142530    42507849    42506833        1016   9998984   \n",
       "50  0d50m00s    145439    42305836    42304778        1058   9998942   \n",
       "51  0d51m00s    148348    42107824    42106723        1100   9998900   \n",
       "52  0d52m00s    151256    41913657    41912513        1144   9998856   \n",
       "53  0d53m00s    154165    41723190    41722002        1188   9998812   \n",
       "54  0d54m00s    157073    41536284    41535050        1234   9998766   \n",
       "55  0d55m00s    159982    41352808    41351528        1280   9998720   \n",
       "56  0d56m00s    162890    41172639    41171312        1327   9998673   \n",
       "57  0d57m00s    165799    40995659    40994284        1375   9998625   \n",
       "58  0d58m00s    168707    40821758    40820334        1423   9998577   \n",
       "59  0d59m00s    171616    40650830    40649357        1473   9998527   \n",
       "\n",
       "         90-d  \n",
       "0   90d00m00s  \n",
       "1   89d59m00s  \n",
       "2   89d58m00s  \n",
       "3   89d57m00s  \n",
       "4   89d56m00s  \n",
       "5   89d55m00s  \n",
       "6   89d54m00s  \n",
       "7   89d53m00s  \n",
       "8   89d52m00s  \n",
       "9   89d51m00s  \n",
       "10  89d50m00s  \n",
       "11  89d49m00s  \n",
       "12  89d48m00s  \n",
       "13  89d47m00s  \n",
       "14  89d46m00s  \n",
       "15  89d45m00s  \n",
       "16  89d44m00s  \n",
       "17  89d43m00s  \n",
       "18  89d42m00s  \n",
       "19  89d41m00s  \n",
       "20  89d40m00s  \n",
       "21  89d39m00s  \n",
       "22  89d38m00s  \n",
       "23  89d37m00s  \n",
       "24  89d36m00s  \n",
       "25  89d35m00s  \n",
       "26  89d34m00s  \n",
       "27  89d33m00s  \n",
       "28  89d32m00s  \n",
       "29  89d31m00s  \n",
       "30  89d30m00s  \n",
       "31  89d29m00s  \n",
       "32  89d28m00s  \n",
       "33  89d27m00s  \n",
       "34  89d26m00s  \n",
       "35  89d25m00s  \n",
       "36  89d24m00s  \n",
       "37  89d23m00s  \n",
       "38  89d22m00s  \n",
       "39  89d21m00s  \n",
       "40  89d20m00s  \n",
       "41  89d19m00s  \n",
       "42  89d18m00s  \n",
       "43  89d17m00s  \n",
       "44  89d16m00s  \n",
       "45  89d15m00s  \n",
       "46  89d14m00s  \n",
       "47  89d13m00s  \n",
       "48  89d12m00s  \n",
       "49  89d11m00s  \n",
       "50  89d10m00s  \n",
       "51  89d09m00s  \n",
       "52  89d08m00s  \n",
       "53  89d07m00s  \n",
       "54  89d06m00s  \n",
       "55  89d05m00s  \n",
       "56  89d04m00s  \n",
       "57  89d03m00s  \n",
       "58  89d02m00s  \n",
       "59  89d01m00s  "
      ]
     },
     "execution_count": 67,
     "metadata": {},
     "output_type": "execute_result"
    }
   ],
   "source": [
    "pd.DataFrame(napier(dms_d=0), columns=['d','sin','log(sin(d))','log(tan(d))','log(cos(d))', 'cos(d)', '90-d'])"
   ]
  },
  {
   "cell_type": "code",
   "execution_count": null,
   "id": "5c5ce71f",
   "metadata": {},
   "outputs": [],
   "source": []
  },
  {
   "cell_type": "code",
   "execution_count": null,
   "id": "8d4372a6",
   "metadata": {},
   "outputs": [],
   "source": []
  },
  {
   "cell_type": "code",
   "execution_count": null,
   "id": "1f3ec032",
   "metadata": {},
   "outputs": [],
   "source": []
  },
  {
   "cell_type": "markdown",
   "id": "5e46269f",
   "metadata": {},
   "source": [
    "## 計算する"
   ]
  },
  {
   "cell_type": "markdown",
   "id": "92e8dcef",
   "metadata": {},
   "source": [
    "* [John Napier - Wikipedia](https://en.wikipedia.org/wiki/John_Napier)\n",
    "  * [Napierian logarithm - Wikipedia](https://en.wikipedia.org/wiki/Napierian_logarithm#:~:text=The%20term%20Napierian%20logarithm%20or,it%20is%20named%20after%20him.)\n",
    "  * [Logarithms: The Early History of a Familiar Function - John Napier Introduces Logarithms | Mathematical Association of America](https://www.maa.org/press/periodicals/convergence/logarithms-the-early-history-of-a-familiar-function-john-napier-introduces-logarithms)"
   ]
  },
  {
   "cell_type": "markdown",
   "id": "5914adf3",
   "metadata": {},
   "source": [
    "$$\n",
    "  \\frac{N}{10^R} = \\left(1-\\frac{1}{10^{R}}\\right)^{L}\n",
    "$$"
   ]
  },
  {
   "cell_type": "markdown",
   "id": "9d4e88ce",
   "metadata": {},
   "source": [
    "$$\n",
    "  L = log_{1-10^{-R}} \\frac{N}{10^R} = \\frac{\\log_{e}\\frac{N}{10^R}}{\\log_{e}(1-10^{-R})} \\approx -10^R \\log_{e}\\frac{N}{10^R}\n",
    "$$"
   ]
  },
  {
   "cell_type": "markdown",
   "id": "a33793fc",
   "metadata": {},
   "source": [
    "$R=7$ の場合の数表を作成した。"
   ]
  },
  {
   "cell_type": "code",
   "execution_count": 3,
   "id": "6234a290",
   "metadata": {},
   "outputs": [
    {
     "data": {
      "text/plain": [
       "(-9999999.50526355, -10000000)"
      ]
     },
     "execution_count": 3,
     "metadata": {},
     "output_type": "execute_result"
    }
   ],
   "source": [
    "import math\n",
    "1/math.log(1-10**-7), -10**7"
   ]
  },
  {
   "cell_type": "markdown",
   "id": "f16c7fd4",
   "metadata": {},
   "source": [
    "* [e (mathematical constant) - Wikipedia](https://en.wikipedia.org/wiki/E_%28mathematical_constant%29)\n",
    "\n",
    "$R$ を大きくすると、後にEulerが導入した $e$ を底とする自然対数と一致する。"
   ]
  },
  {
   "cell_type": "markdown",
   "id": "63aa797b",
   "metadata": {},
   "source": [
    "$$\n",
    "  \\lim_{n\\rightarrow\\infty} \\left( 1-\\frac{1}{n} \\right)^n = \\frac{1}{e}\n",
    "$$"
   ]
  },
  {
   "cell_type": "code",
   "execution_count": 8,
   "id": "8537dae2",
   "metadata": {},
   "outputs": [],
   "source": [
    "from sympy import *\n",
    "x = Symbol('x')"
   ]
  },
  {
   "cell_type": "code",
   "execution_count": 14,
   "id": "5f956b2d",
   "metadata": {},
   "outputs": [
    {
     "data": {
      "text/latex": [
       "$\\displaystyle 1 + x + \\frac{x^{2}}{2} + \\frac{x^{3}}{6} + \\frac{x^{4}}{24} + \\frac{x^{5}}{120} + \\frac{x^{6}}{720} + \\frac{x^{7}}{5040} + \\frac{x^{8}}{40320} + \\frac{x^{9}}{362880} + O\\left(x^{10}\\right)$"
      ],
      "text/plain": [
       "1 + x + x**2/2 + x**3/6 + x**4/24 + x**5/120 + x**6/720 + x**7/5040 + x**8/40320 + x**9/362880 + O(x**10)"
      ]
     },
     "execution_count": 14,
     "metadata": {},
     "output_type": "execute_result"
    }
   ],
   "source": [
    "series(E**x, x, 0, 10)"
   ]
  },
  {
   "cell_type": "code",
   "execution_count": 22,
   "id": "8460d6bd",
   "metadata": {},
   "outputs": [
    {
     "data": {
      "text/plain": [
       "2.7182815255731922"
      ]
     },
     "execution_count": 22,
     "metadata": {},
     "output_type": "execute_result"
    }
   ],
   "source": [
    "float(series(E**x, x, 0, 10).removeO().subs(x, 1))"
   ]
  },
  {
   "cell_type": "code",
   "execution_count": 19,
   "id": "3b5e722d",
   "metadata": {},
   "outputs": [
    {
     "data": {
      "text/latex": [
       "$\\displaystyle x - \\frac{x^{2}}{2} + \\frac{x^{3}}{3} - \\frac{x^{4}}{4} + \\frac{x^{5}}{5} - \\frac{x^{6}}{6} + \\frac{x^{7}}{7} - \\frac{x^{8}}{8} + \\frac{x^{9}}{9} + O\\left(x^{10}\\right)$"
      ],
      "text/plain": [
       "x - x**2/2 + x**3/3 - x**4/4 + x**5/5 - x**6/6 + x**7/7 - x**8/8 + x**9/9 + O(x**10)"
      ]
     },
     "execution_count": 19,
     "metadata": {},
     "output_type": "execute_result"
    }
   ],
   "source": [
    "series(log(1+x), x, 0, 10)"
   ]
  },
  {
   "cell_type": "code",
   "execution_count": 13,
   "id": "211490c0",
   "metadata": {},
   "outputs": [
    {
     "data": {
      "text/latex": [
       "$\\displaystyle x - \\frac{x^{3}}{6} + \\frac{x^{5}}{120} - \\frac{x^{7}}{5040} + \\frac{x^{9}}{362880} + O\\left(x^{10}\\right)$"
      ],
      "text/plain": [
       "x - x**3/6 + x**5/120 - x**7/5040 + x**9/362880 + O(x**10)"
      ]
     },
     "execution_count": 13,
     "metadata": {},
     "output_type": "execute_result"
    }
   ],
   "source": [
    "series(sin(x), x, 0, 10)"
   ]
  },
  {
   "cell_type": "code",
   "execution_count": 12,
   "id": "0221097d",
   "metadata": {},
   "outputs": [
    {
     "data": {
      "text/latex": [
       "$\\displaystyle 1 - \\frac{x^{2}}{2} + \\frac{x^{4}}{24} - \\frac{x^{6}}{720} + \\frac{x^{8}}{40320} + O\\left(x^{10}\\right)$"
      ],
      "text/plain": [
       "1 - x**2/2 + x**4/24 - x**6/720 + x**8/40320 + O(x**10)"
      ]
     },
     "execution_count": 12,
     "metadata": {},
     "output_type": "execute_result"
    }
   ],
   "source": [
    "series(cos(x), x, 0, 10)"
   ]
  },
  {
   "cell_type": "markdown",
   "id": "903c8e0c",
   "metadata": {},
   "source": [
    "* [Euler's formula - Wikipedia](https://en.wikipedia.org/wiki/Euler%27s_formula)\n",
    "\n",
    "自乗すると $-1$ となる数 $i$ を導入する: $i^2 = -1$\n",
    "$$\n",
    "  e^{i \\phi} = \\cos \\phi + i \\sin \\phi\n",
    "$$"
   ]
  },
  {
   "cell_type": "markdown",
   "id": "e43fc7ab",
   "metadata": {},
   "source": [
    "![fig-1](https://upload.wikimedia.org/wikipedia/commons/thumb/7/71/Euler%27s_formula.svg/1920px-Euler%27s_formula.svg.png)"
   ]
  },
  {
   "cell_type": "code",
   "execution_count": null,
   "id": "275a170d",
   "metadata": {},
   "outputs": [],
   "source": []
  },
  {
   "cell_type": "code",
   "execution_count": null,
   "id": "f1d5d8dc",
   "metadata": {},
   "outputs": [],
   "source": []
  },
  {
   "cell_type": "markdown",
   "id": "e660cd82",
   "metadata": {},
   "source": [
    "$p_{n}$ を次の数列として定義したとき、"
   ]
  },
  {
   "cell_type": "markdown",
   "id": "66871fcb",
   "metadata": {},
   "source": [
    "$$\n",
    "  p_{n+1} = p_{n} \\left(1-\\frac{1}{10^7}\\right)\\quad \\text{where}\\ p_{0} = 10^7\n",
    "$$"
   ]
  },
  {
   "cell_type": "markdown",
   "id": "6ba65029",
   "metadata": {},
   "source": [
    "$$p_{1} = 10^7 \\left(1-\\frac{1}{10^7} \\right)= 10^7 \\times 0.9999999 = 9999999$$"
   ]
  },
  {
   "cell_type": "markdown",
   "id": "c4f0e44c",
   "metadata": {},
   "source": [
    "数列の添字 $n$ は $p_{n}$ の (Napierが定義した $1-10^{-7}$ を底とする) 対数である。"
   ]
  },
  {
   "cell_type": "markdown",
   "id": "f64fa435",
   "metadata": {},
   "source": [
    "$$\n",
    "  n = \\log_{1-10^{-7}}(p_{n})\n",
    "$$"
   ]
  },
  {
   "cell_type": "markdown",
   "id": "3e6f48da",
   "metadata": {},
   "source": [
    "Naperはこの数列を技巧を凝らして計算したが、単純に計算すると膨大な計算量となるため、まず $R=5$ の場合を計算する。"
   ]
  },
  {
   "cell_type": "markdown",
   "id": "89f38c66",
   "metadata": {},
   "source": [
    "$$\n",
    "  p_{n+1} = p_{n} \\left(1-\\frac{1}{10^5}\\right)\\quad \\text{where}\\ p_{0} = 10^5\n",
    "$$"
   ]
  },
  {
   "cell_type": "markdown",
   "id": "643c2d75",
   "metadata": {},
   "source": [
    "$$p_{1} = 10^5 \\left(1-\\frac{1}{10^5} \\right)= 10^5 \\times 0.99999 = 99999$$"
   ]
  },
  {
   "cell_type": "markdown",
   "id": "41e7f58f",
   "metadata": {},
   "source": [
    "底の変換によって、$R=7$ の場合を効率よく近似できるため、計算は無駄にならない:\n",
    "\n",
    "$$\n",
    "  \\log_{1-10^{-5}} \\frac{N}{10^5} = \\frac{\\log_{1-10^{-7}}\\frac{N}{10^5}}{\\log_{1-10^{-7}}(1-10^{-5})} \\approx \\frac{1}{100}\\log_{1-10^{-7}}\\frac{N}{10^5} = \\frac{1}{100} L(N \\times 100)\n",
    "$$"
   ]
  },
  {
   "cell_type": "code",
   "execution_count": 122,
   "id": "daa98136",
   "metadata": {},
   "outputs": [
    {
     "data": {
      "text/plain": [
       "100.00049505548901"
      ]
     },
     "execution_count": 122,
     "metadata": {},
     "output_type": "execute_result"
    }
   ],
   "source": [
    "math.log(1-10**-5, 1-10**-7)"
   ]
  },
  {
   "cell_type": "markdown",
   "id": "73d001a4",
   "metadata": {},
   "source": [
    "関数を繰り返し適用する (数列の値を次々に求める) Python関数を定義する:"
   ]
  },
  {
   "cell_type": "code",
   "execution_count": 126,
   "id": "c0084b3b",
   "metadata": {},
   "outputs": [],
   "source": [
    "def nest_list(f, x, c=1):\n",
    "    while True:\n",
    "        yield x\n",
    "        x = f(x)\n",
    "        if x < c:\n",
    "            break\n",
    "    yield x"
   ]
  },
  {
   "cell_type": "code",
   "execution_count": 174,
   "id": "8f69fd93",
   "metadata": {},
   "outputs": [
    {
     "data": {
      "text/plain": [
       "(100000, 0.99999)"
      ]
     },
     "execution_count": 174,
     "metadata": {},
     "output_type": "execute_result"
    }
   ],
   "source": [
    "10**5, 1-10**(-5)"
   ]
  },
  {
   "cell_type": "code",
   "execution_count": 168,
   "id": "bec6ebdd",
   "metadata": {},
   "outputs": [
    {
     "data": {
      "text/plain": [
       "<generator object nest_list at 0x120242900>"
      ]
     },
     "execution_count": 168,
     "metadata": {},
     "output_type": "execute_result"
    }
   ],
   "source": [
    "nest_list(lambda l: l*(1-10**(-5)), 10**5, 1)"
   ]
  },
  {
   "cell_type": "code",
   "execution_count": 159,
   "id": "f26a0d71",
   "metadata": {},
   "outputs": [
    {
     "name": "stdout",
     "output_type": "stream",
     "text": [
      "100000\n",
      "99999.0\n",
      "99998.00001\n",
      "99997.00002999991\n",
      "99996.00005999961\n",
      "99995.00009999902\n",
      "99994.00014999801\n",
      "99993.00020999652\n",
      "99992.00027999442\n",
      "99991.00035999162\n"
     ]
    }
   ],
   "source": [
    "n = nest_list(lambda l: l*(1-10**(-5)), 10**5, 1)\n",
    "for _ in range(10):\n",
    "    print(next(n))"
   ]
  },
  {
   "cell_type": "code",
   "execution_count": 161,
   "id": "df05781b",
   "metadata": {},
   "outputs": [
    {
     "name": "stdout",
     "output_type": "stream",
     "text": [
      "100000\n",
      "99999\n",
      "99998\n",
      "99997\n",
      "99996\n",
      "99995\n",
      "99994\n",
      "99993\n",
      "99992\n",
      "99991\n"
     ]
    }
   ],
   "source": [
    "n = nest_list(lambda l: l*(1-10**(-5)), 10**5, 1)\n",
    "for _ in range(10):\n",
    "    print('{:5.0f}'.format(next(n)))"
   ]
  },
  {
   "cell_type": "code",
   "execution_count": null,
   "id": "87921457",
   "metadata": {},
   "outputs": [],
   "source": []
  },
  {
   "cell_type": "code",
   "execution_count": null,
   "id": "100655f9",
   "metadata": {},
   "outputs": [],
   "source": []
  },
  {
   "cell_type": "code",
   "execution_count": 170,
   "id": "45081919",
   "metadata": {},
   "outputs": [],
   "source": [
    "napier5=np.array(list(nest_list(lambda l: l*(1-10**(-5)), 10**5, 1)))"
   ]
  },
  {
   "cell_type": "code",
   "execution_count": 171,
   "id": "63e96676",
   "metadata": {},
   "outputs": [
    {
     "data": {
      "text/plain": [
       "(1151288, 0.9999979002909413)"
      ]
     },
     "execution_count": 171,
     "metadata": {},
     "output_type": "execute_result"
    }
   ],
   "source": [
    "napier5.size, napier5[-1]"
   ]
  },
  {
   "cell_type": "code",
   "execution_count": 173,
   "id": "ad39366a",
   "metadata": {},
   "outputs": [
    {
     "data": {
      "text/plain": [
       "array([100000.        ,  99999.        ,  99998.00001   ,  99997.00003   ,\n",
       "        99996.00006   ,  99995.0001    ,  99994.00015   ,  99993.00021   ,\n",
       "        99992.00027999,  99991.00035999,  99990.00044999,  99989.00054998,\n",
       "        99988.00065998,  99987.00077997,  99986.00090996,  99985.00104995,\n",
       "        99984.00119994,  99983.00135993,  99982.00152992,  99981.0017099 ,\n",
       "        99980.00189989,  99979.00209987,  99978.00230985,  99977.00252982,\n",
       "        99976.0027598 ,  99975.00299977,  99974.00324974,  99973.00350971,\n",
       "        99972.00377967,  99971.00405963,  99970.00434959,  99969.00464955,\n",
       "        99968.0049595 ,  99967.00527945,  99966.0056094 ,  99965.00594935,\n",
       "        99964.00629929,  99963.00665922,  99962.00702916,  99961.00740909,\n",
       "        99960.00779901,  99959.00819893,  99958.00860885,  99957.00902877,\n",
       "        99956.00945868,  99955.00989858,  99954.01034848,  99953.01080838,\n",
       "        99952.01127827,  99951.01175816,  99950.01224804,  99949.01274792,\n",
       "        99948.01325779,  99947.01377766,  99946.01430752,  99945.01484738,\n",
       "        99944.01539723,  99943.01595707,  99942.01652692,  99941.01710675,\n",
       "        99940.01769658,  99939.0182964 ,  99938.01890622,  99937.01952603,\n",
       "        99936.02015583,  99935.02079563,  99934.02144543,  99933.02210521,\n",
       "        99932.02277499,  99931.02345476,  99930.02414453,  99929.02484429,\n",
       "        99928.02555404,  99927.02627378,  99926.02700352,  99925.02774325,\n",
       "        99924.02849297,  99923.02925269,  99922.03002239,  99921.03080209,\n",
       "        99920.03159179,  99919.03239147,  99918.03320115,  99917.03402081,\n",
       "        99916.03485047,  99915.03569013,  99914.03653977,  99913.0373994 ,\n",
       "        99912.03826903,  99911.03914865,  99910.04003825,  99909.04093785,\n",
       "        99908.04184745,  99907.04276703,  99906.0436966 ,  99905.04463616,\n",
       "        99904.04558572,  99903.04654526,  99902.04751479,  99901.04849432])"
      ]
     },
     "execution_count": 173,
     "metadata": {},
     "output_type": "execute_result"
    }
   ],
   "source": [
    "napier5[0:100]"
   ]
  },
  {
   "cell_type": "code",
   "execution_count": 129,
   "id": "7a22dc31",
   "metadata": {
    "scrolled": true
   },
   "outputs": [
    {
     "data": {
      "text/plain": [
       "[<matplotlib.lines.Line2D at 0x120182a00>]"
      ]
     },
     "execution_count": 129,
     "metadata": {},
     "output_type": "execute_result"
    },
    {
     "data": {
      "image/png": "[encoded data removed]",
      "text/plain": [
       "<Figure size 432x288 with 1 Axes>"
      ]
     },
     "metadata": {
      "needs_background": "light"
     },
     "output_type": "display_data"
    }
   ],
   "source": [
    "import matplotlib.pyplot as plt\n",
    "\n",
    "x = np.linspace(0,napier5.size,num=napier5.size)\n",
    "plt.plot(x,napier5)"
   ]
  },
  {
   "cell_type": "markdown",
   "id": "a3a8d372",
   "metadata": {},
   "source": [
    "### 九九のない世界"
   ]
  },
  {
   "cell_type": "code",
   "execution_count": 206,
   "id": "cb0d57c4",
   "metadata": {},
   "outputs": [],
   "source": [
    "out_len=len(Out)\n",
    "for index,n in enumerate(Out):\n",
    "    if index==out_len-1:   _=Out[n]\n",
    "    if index==out_len-2:  __=Out[n]\n",
    "    if index==out_len-3: ___=Out[n]\n",
    "    if index==out_len-4:____=Out[n]"
   ]
  },
  {
   "cell_type": "markdown",
   "id": "6777e06d",
   "metadata": {},
   "source": [
    "上で求めた配列 ```napier5``` を検索し、対数を求める: $n = \\log_{1-10^{-5}}(p_{n})$"
   ]
  },
  {
   "cell_type": "code",
   "execution_count": 177,
   "id": "48369a66",
   "metadata": {},
   "outputs": [
    {
     "data": {
      "text/plain": [
       "(100000.0, 0.9999979002909413)"
      ]
     },
     "execution_count": 177,
     "metadata": {},
     "output_type": "execute_result"
    }
   ],
   "source": [
    "napier5[0], napier5[-1]"
   ]
  },
  {
   "cell_type": "code",
   "execution_count": 178,
   "id": "65f6fab4",
   "metadata": {},
   "outputs": [],
   "source": [
    "def n_log(x):\n",
    "    if x < napier5[0] and x > napier5[-1]:\n",
    "        return np.searchsorted(-napier5, -x)\n",
    "    else:\n",
    "        raise IndexError"
   ]
  },
  {
   "cell_type": "code",
   "execution_count": 207,
   "id": "d805e84a",
   "metadata": {},
   "outputs": [
    {
     "data": {
      "text/plain": [
       "(439489, 56583)"
      ]
     },
     "execution_count": 207,
     "metadata": {},
     "output_type": "execute_result"
    }
   ],
   "source": [
    "n_log(1234), n_log(56789)"
   ]
  },
  {
   "cell_type": "code",
   "execution_count": 208,
   "id": "c206b6bc",
   "metadata": {},
   "outputs": [
    {
     "data": {
      "text/plain": [
       "496072"
      ]
     },
     "execution_count": 208,
     "metadata": {},
     "output_type": "execute_result"
    }
   ],
   "source": [
    "sum(_)"
   ]
  },
  {
   "cell_type": "code",
   "execution_count": 209,
   "id": "4bd7cb5f",
   "metadata": {},
   "outputs": [
    {
     "data": {
      "text/plain": [
       "70077065.22354518"
      ]
     },
     "execution_count": 209,
     "metadata": {},
     "output_type": "execute_result"
    }
   ],
   "source": [
    "napier5[_] * 10**5"
   ]
  },
  {
   "cell_type": "code",
   "execution_count": 212,
   "id": "aadc01b7",
   "metadata": {},
   "outputs": [
    {
     "data": {
      "text/plain": [
       "7006652"
      ]
     },
     "execution_count": 212,
     "metadata": {},
     "output_type": "execute_result"
    }
   ],
   "source": [
    "1234*5678"
   ]
  },
  {
   "cell_type": "code",
   "execution_count": 210,
   "id": "e5ee2649",
   "metadata": {},
   "outputs": [],
   "source": [
    "def n_times(x, y):\n",
    "    return napier5[n_log(x)+n_log(y)] * 10**5"
   ]
  },
  {
   "cell_type": "code",
   "execution_count": 211,
   "id": "0ce20289",
   "metadata": {},
   "outputs": [
    {
     "data": {
      "text/plain": [
       "7006610.457565"
      ]
     },
     "execution_count": 211,
     "metadata": {},
     "output_type": "execute_result"
    }
   ],
   "source": [
    "n_times(1234, 5678)"
   ]
  },
  {
   "cell_type": "code",
   "execution_count": null,
   "id": "7858b37c",
   "metadata": {},
   "outputs": [],
   "source": []
  },
  {
   "cell_type": "code",
   "execution_count": null,
   "id": "dbd43745",
   "metadata": {},
   "outputs": [],
   "source": []
  },
  {
   "cell_type": "markdown",
   "id": "52414cf9",
   "metadata": {},
   "source": [
    "### 計算量を減らす: 自乗"
   ]
  },
  {
   "cell_type": "markdown",
   "id": "7019a33d",
   "metadata": {},
   "source": [
    "$$\n",
    "  p_{n^2} = \\frac{{p_{n}}^2}{10^5}\\quad \\text{where}\\ p_{0} = 10^5 \\left(1-\\frac{1}{10^5}\\right)\n",
    "$$"
   ]
  },
  {
   "cell_type": "code",
   "execution_count": 137,
   "id": "ac0168ec",
   "metadata": {},
   "outputs": [],
   "source": [
    "napier5_powered=np.array(list(nest_list(lambda l: l*l/10**5, 10**5*(1-10**(-5)), 1)))"
   ]
  },
  {
   "cell_type": "code",
   "execution_count": 138,
   "id": "24319d0f",
   "metadata": {},
   "outputs": [
    {
     "name": "stdout",
     "output_type": "stream",
     "text": [
      "[  99999   99998   99996   99992   99984   99968   99936   99872   99744\n",
      "   99489   98981   97973   95987   92135   84888   72059   51925   26962\n",
      "    7270     528       3       0]\n"
     ]
    }
   ],
   "source": [
    "with np.printoptions(formatter={'float': lambda x: '{:7.0f}'.format(x)}):\n",
    "    print(napier5_powered)"
   ]
  },
  {
   "cell_type": "code",
   "execution_count": 139,
   "id": "bb516978",
   "metadata": {},
   "outputs": [
    {
     "data": {
      "text/plain": [
       "22"
      ]
     },
     "execution_count": 139,
     "metadata": {},
     "output_type": "execute_result"
    }
   ],
   "source": [
    "napier5_powered.size"
   ]
  },
  {
   "cell_type": "code",
   "execution_count": 140,
   "id": "02a27219",
   "metadata": {},
   "outputs": [
    {
     "data": {
      "text/plain": [
       "array([      1,       2,       4,       8,      16,      32,      64,\n",
       "           128,     256,     512,    1024,    2048,    4096,    8192,\n",
       "         16384,   32768,   65536,  131072,  262144,  524288, 1048576])"
      ]
     },
     "execution_count": 140,
     "metadata": {},
     "output_type": "execute_result"
    }
   ],
   "source": [
    "2**np.arange(21)"
   ]
  },
  {
   "cell_type": "code",
   "execution_count": 141,
   "id": "6f35e398",
   "metadata": {},
   "outputs": [
    {
     "name": "stdout",
     "output_type": "stream",
     "text": [
      "[  99999   99998   99996   99992   99984   99968   99936   99872   99744\n",
      "   99489   98981   97973   95987   92135   84888   72059   51925   26962\n",
      "    7270     528       3]\n"
     ]
    }
   ],
   "source": [
    "with np.printoptions(formatter={'float': lambda x: '{:7.0f}'.format(x)}):\n",
    "    print(np.array([napier5[i] for i in 2**np.arange(21)]))"
   ]
  },
  {
   "cell_type": "code",
   "execution_count": 142,
   "id": "b79326c6",
   "metadata": {
    "scrolled": true
   },
   "outputs": [
    {
     "data": {
      "text/plain": [
       "[<matplotlib.lines.Line2D at 0x1201b08e0>]"
      ]
     },
     "execution_count": 142,
     "metadata": {},
     "output_type": "execute_result"
    },
    {
     "data": {
      "image/png": "[encoded data removed]",
      "text/plain": [
       "<Figure size 432x288 with 1 Axes>"
      ]
     },
     "metadata": {
      "needs_background": "light"
     },
     "output_type": "display_data"
    }
   ],
   "source": [
    "import matplotlib.pyplot as plt\n",
    "\n",
    "x = np.linspace(0,napier5.size,num=napier5.size)\n",
    "plt.plot(x,napier5)\n",
    "plt.plot(2**np.arange(21), np.array([napier5[i] for i in 2**np.arange(21)]), 'o', alpha=.5)"
   ]
  },
  {
   "cell_type": "markdown",
   "id": "49eb73fd",
   "metadata": {},
   "source": [
    "減りすぎ・・・"
   ]
  },
  {
   "cell_type": "code",
   "execution_count": null,
   "id": "5b630583",
   "metadata": {},
   "outputs": [],
   "source": []
  },
  {
   "cell_type": "code",
   "execution_count": null,
   "id": "02b23c13",
   "metadata": {},
   "outputs": [],
   "source": []
  },
  {
   "cell_type": "markdown",
   "id": "ca898188",
   "metadata": {},
   "source": [
    "### そもそも R=7 (10,000,000) の話だった"
   ]
  },
  {
   "cell_type": "code",
   "execution_count": 143,
   "id": "1841a560",
   "metadata": {},
   "outputs": [],
   "source": [
    "napier7=np.array(list(nest_list(lambda l: l*(1-10**(-7)), 10**7, 10**6)))"
   ]
  },
  {
   "cell_type": "code",
   "execution_count": 144,
   "id": "be709720",
   "metadata": {},
   "outputs": [
    {
     "data": {
      "text/plain": [
       "(0.9999979002909413, 999999.9790768364)"
      ]
     },
     "execution_count": 144,
     "metadata": {},
     "output_type": "execute_result"
    }
   ],
   "source": [
    "napier5[-1], napier7[-1]"
   ]
  },
  {
   "cell_type": "code",
   "execution_count": 145,
   "id": "a5c9f4d3",
   "metadata": {},
   "outputs": [
    {
     "data": {
      "text/plain": [
       "(1151288, 23025851)"
      ]
     },
     "execution_count": 145,
     "metadata": {},
     "output_type": "execute_result"
    }
   ],
   "source": [
    "napier5.size, napier7.size"
   ]
  },
  {
   "cell_type": "code",
   "execution_count": 146,
   "id": "066afb61",
   "metadata": {},
   "outputs": [
    {
     "data": {
      "text/plain": [
       "[<matplotlib.lines.Line2D at 0x14cc7d250>]"
      ]
     },
     "execution_count": 146,
     "metadata": {},
     "output_type": "execute_result"
    },
    {
     "data": {
      "image/png": "[encoded data removed]",
      "text/plain": [
       "<Figure size 432x288 with 1 Axes>"
      ]
     },
     "metadata": {
      "needs_background": "light"
     },
     "output_type": "display_data"
    }
   ],
   "source": [
    "import matplotlib.pyplot as plt\n",
    "\n",
    "x = np.linspace(0,napier5.size,num=napier5.size)\n",
    "plt.plot(x,napier5*10**-5)\n",
    "plt.plot(x,napier7[:napier5.size]*10**-7)"
   ]
  },
  {
   "cell_type": "code",
   "execution_count": null,
   "id": "c7f286f6",
   "metadata": {},
   "outputs": [],
   "source": []
  },
  {
   "cell_type": "code",
   "execution_count": null,
   "id": "98ec7360",
   "metadata": {},
   "outputs": [],
   "source": []
  },
  {
   "cell_type": "code",
   "execution_count": null,
   "id": "b24669c1",
   "metadata": {},
   "outputs": [],
   "source": []
  },
  {
   "cell_type": "markdown",
   "id": "e76b7891",
   "metadata": {},
   "source": [
    "### 10進法で切りのいい近似値"
   ]
  },
  {
   "cell_type": "markdown",
   "id": "f223c574",
   "metadata": {},
   "source": [
    "$$\n",
    "  L = log_{1-10^{-7}} \\frac{N}{10^7}\n",
    "$$"
   ]
  },
  {
   "cell_type": "code",
   "execution_count": 151,
   "id": "ed1d31b2",
   "metadata": {},
   "outputs": [
    {
     "data": {
      "text/plain": [
       "(0.9995, 5001.250169392341)"
      ]
     },
     "execution_count": 151,
     "metadata": {},
     "output_type": "execute_result"
    }
   ],
   "source": [
    "(1-1/2000), math.log(1-1/2000, 1-10**-7)"
   ]
  },
  {
   "cell_type": "markdown",
   "id": "07e4ade2",
   "metadata": {},
   "source": [
    "$$\n",
    "  \\log_{1-10^7}\\left(1-\\frac{1}{2000}\\right) = \\log_{1-10^7}0.9995 = \\log_{1-10^7} \\left(\\frac{999500}{10^7}\\right) \\approx 5001.25\n",
    "$$"
   ]
  },
  {
   "cell_type": "code",
   "execution_count": 152,
   "id": "86d42507",
   "metadata": {
    "scrolled": false
   },
   "outputs": [
    {
     "data": {
      "text/plain": [
       "(0.9900473578023297, 0.9900473578023297, 0.99)"
      ]
     },
     "execution_count": 152,
     "metadata": {},
     "output_type": "execute_result"
    }
   ],
   "source": [
    "(1-1/2000)**20, (1-1/2000)**20, (1-1/100)"
   ]
  },
  {
   "cell_type": "markdown",
   "id": "501cc413",
   "metadata": {},
   "source": [
    "$$\n",
    "  \\left(1-\\frac{1}{2000}\\right)^{20} \\approx 1-\\frac{1}{100} = 0.99\n",
    "$$"
   ]
  },
  {
   "cell_type": "code",
   "execution_count": 153,
   "id": "3ce3c746",
   "metadata": {
    "scrolled": true
   },
   "outputs": [
    {
     "data": {
      "text/plain": [
       "(0.99, 0.5048858887870696)"
      ]
     },
     "execution_count": 153,
     "metadata": {},
     "output_type": "execute_result"
    }
   ],
   "source": [
    "(1-1/100), (1-1/100)**68"
   ]
  },
  {
   "cell_type": "markdown",
   "id": "5ebb4502",
   "metadata": {},
   "source": [
    "$$\n",
    "  \\left(1-\\frac{1}{100}\\right)^{68} \\approx 0.50\n",
    "$$"
   ]
  },
  {
   "cell_type": "code",
   "execution_count": null,
   "id": "fc2ad409",
   "metadata": {},
   "outputs": [],
   "source": []
  },
  {
   "cell_type": "code",
   "execution_count": null,
   "id": "4174579c",
   "metadata": {},
   "outputs": [],
   "source": []
  },
  {
   "cell_type": "code",
   "execution_count": null,
   "id": "4c8179bc",
   "metadata": {},
   "outputs": [],
   "source": []
  }
 ],
 "metadata": {
  "kernelspec": {
   "display_name": "Python 3 (ipykernel)",
   "language": "python",
   "name": "python3"
  },
  "language_info": {
   "codemirror_mode": {
    "name": "ipython",
    "version": 3
   },
   "file_extension": ".py",
   "mimetype": "text/x-python",
   "name": "python",
   "nbconvert_exporter": "python",
   "pygments_lexer": "ipython3",
   "version": "3.9.12"
  },
  "toc": {
   "base_numbering": 1,
   "nav_menu": {},
   "number_sections": true,
   "sideBar": true,
   "skip_h1_title": false,
   "title_cell": "Table of Contents",
   "title_sidebar": "Contents",
   "toc_cell": false,
   "toc_position": {},
   "toc_section_display": true,
   "toc_window_display": false
  }
 },
 "nbformat": 4,
 "nbformat_minor": 5
}
