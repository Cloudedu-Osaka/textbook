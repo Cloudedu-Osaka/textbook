{
 "cells": [
  {
   "cell_type": "code",
   "execution_count": null,
   "id": "925d3649",
   "metadata": {
    "hide_input": true,
    "init_cell": true,
    "tags": [
     "remove-input"
    ]
   },
   "outputs": [],
   "source": [
    "# initialization for my classroom\n",
    "import os\n",
    "from datetime import datetime as dt\n",
    "\n",
    "def logfile(user=os.environ.get('JUPYTERHUB_USER') or 'jovyan'):\n",
    "    prefix='/srv'\n",
    "    if os.path.isdir(prefix) and os.access(prefix, os.W_OK):\n",
    "        prefix+=('/'+user)\n",
    "        if not os.path.isdir(prefix):\n",
    "            os.makedirs(prefix)\n",
    "    else:\n",
    "        prefix='.'\n",
    "    return prefix+'/'+dt.now().strftime('%Y%m%d')+'.log'\n",
    "\n",
    "path=logfile()\n",
    "#%logstop\n",
    "%logstart -otq $path append\n",
    "\n",
    "# [python - cannot override sys.excepthook - Stack Overflow](https://stackoverflow.com/questions/1261668/cannot-override-sys-excepthook/28758396)\n",
    "# https://github.com/ipython/ipython/blob/e6432249582e05f438303ce73d082a0351bb383e/IPython/core/interactiveshell.py#L1952\n",
    "\n",
    "import sys\n",
    "import traceback\n",
    "import IPython\n",
    "\n",
    "try:\n",
    "    _showtraceback\n",
    "except NameError:\n",
    "    _showtraceback=IPython.core.interactiveshell.InteractiveShell.showtraceback\n",
    "\n",
    "try:\n",
    "    _showsyntaxerror\n",
    "except NameError:\n",
    "    _showsyntaxerror=IPython.core.interactiveshell.InteractiveShell.showsyntaxerror\n",
    "\n",
    "import logging\n",
    "logging.basicConfig(filename=path.replace('.log','-exc.log'), format='%(asctime)s %(message)s', level=logging.ERROR, force=True)\n",
    "\n",
    "import sys\n",
    "import traceback\n",
    "import IPython\n",
    "\n",
    "def showtraceback(self, *args, **kwargs):\n",
    "    etype, value, tb = self._get_exc_info(kwargs.get('exc_tuple'))\n",
    "    stb = self.InteractiveTB.structured_traceback(\n",
    "        etype, value, tb, tb_offset=kwargs.get('tb_offset'))\n",
    "    logging.error(os.environ.get('JUPYTERHUB_USER') or 'jovyan')\n",
    "    logging.error(self.InteractiveTB.stb2text(stb))\n",
    "    _showtraceback(self, *args, **kwargs)\n",
    "\n",
    "def showsyntaxerror(self, *args, **kwargs):\n",
    "    etype, value, last_traceback = self._get_exc_info()\n",
    "    elist = traceback.extract_tb(last_traceback) if kwargs.get('running_compiled_code') else []\n",
    "    stb = self.SyntaxTB.structured_traceback(etype, value, elist)\n",
    "    logging.error(os.environ.get('JUPYTERHUB_USER') or 'jovyan')\n",
    "    logging.error(self.InteractiveTB.stb2text(stb))\n",
    "    _showsyntaxerror(self, *args, **kwargs)\n",
    "\n",
    "IPython.core.interactiveshell.InteractiveShell.showtraceback = showtraceback\n",
    "IPython.core.interactiveshell.InteractiveShell.showsyntaxerror = showsyntaxerror"
   ]
  },
  {
   "cell_type": "markdown",
   "id": "c41c28b1",
   "metadata": {},
   "source": [
    "# long addition"
   ]
  },
  {
   "cell_type": "markdown",
   "id": "c2b846da",
   "metadata": {},
   "source": [
    "## 10進数の筆算\n",
    "\n",
    "* $1234+567$ を筆算で計算する:\n",
    "  - 桁を揃える\n",
    "  - 下位の桁から加算し、繰り上げを行う"
   ]
  },
  {
   "cell_type": "markdown",
   "id": "efa48ea6",
   "metadata": {},
   "source": [
    "### 桁を揃えて下位の桁から計算する準備をする\n",
    "\n",
    "* 整数を文字列に変換し逆順に並べ替える: ``str()``, ``reversed()``\n",
    "  - 一桁の加算を行うため、文字列から整数に戻す: ``map(int, ...)``\n",
    "* 下位の桁からペアを作り、桁数が揃わない上位の桁は $0$ で埋める: ``zip()``, ``zip_longest(fillvalue=0)``"
   ]
  },
  {
   "cell_type": "code",
   "execution_count": 8,
   "id": "6db13990",
   "metadata": {},
   "outputs": [
    {
     "data": {
      "text/plain": [
       "([4, 3, 2, 1], [7, 6, 5])"
      ]
     },
     "execution_count": 8,
     "metadata": {},
     "output_type": "execute_result"
    }
   ],
   "source": [
    "list(map(int,reversed(str(1234)))), list(map(int,reversed(str(567))))"
   ]
  },
  {
   "cell_type": "code",
   "execution_count": 2,
   "id": "1cfc4e70",
   "metadata": {},
   "outputs": [],
   "source": [
    "from itertools import zip_longest"
   ]
  },
  {
   "cell_type": "code",
   "execution_count": 5,
   "id": "4e4c2bc0",
   "metadata": {},
   "outputs": [
    {
     "data": {
      "text/plain": [
       "[(4, 7), (3, 6), (2, 5), (1, 0)]"
      ]
     },
     "execution_count": 5,
     "metadata": {},
     "output_type": "execute_result"
    }
   ],
   "source": [
    "[(n,m) for n,m in zip_longest(map(int,reversed(str(1234))), map(int,reversed(str(567))), fillvalue=0)]"
   ]
  },
  {
   "cell_type": "code",
   "execution_count": 9,
   "id": "9a8217a9",
   "metadata": {},
   "outputs": [
    {
     "data": {
      "text/plain": [
       "[(1, 1), (0, 9), (0, 7), (0, 1)]"
      ]
     },
     "execution_count": 9,
     "metadata": {},
     "output_type": "execute_result"
    }
   ],
   "source": [
    "[divmod(n+m,10) for n,m in zip_longest(map(int,reversed(str(1234))), map(int,reversed(str(567))), fillvalue=0)]"
   ]
  },
  {
   "cell_type": "code",
   "execution_count": 30,
   "id": "1f70ef4f",
   "metadata": {},
   "outputs": [
    {
     "data": {
      "text/plain": [
       "[(1, 0, 0, 0), (1, 9, 7, 1)]"
      ]
     },
     "execution_count": 30,
     "metadata": {},
     "output_type": "execute_result"
    }
   ],
   "source": [
    "list(zip(*[divmod(n+m,10) for n,m in zip_longest(map(int,reversed(str(1234))), map(int,reversed(str(567))), fillvalue=0)]))"
   ]
  },
  {
   "cell_type": "code",
   "execution_count": 18,
   "id": "8229ee4f",
   "metadata": {},
   "outputs": [],
   "source": [
    "def long_addition(a,b):\n",
    "    a = map(int,reversed(str(a)))\n",
    "    b = map(int,reversed(str(b)))\n",
    "    q=0\n",
    "    for n,m in zip_longest(a, b, fillvalue=0):\n",
    "        q, r = divmod(q+n+m,10)\n",
    "        yield str(r)\n",
    "    if q:\n",
    "        yield str(q)"
   ]
  },
  {
   "cell_type": "code",
   "execution_count": 23,
   "id": "7683b62a",
   "metadata": {},
   "outputs": [
    {
     "data": {
      "text/plain": [
       "['1', '0', '8', '1']"
      ]
     },
     "execution_count": 23,
     "metadata": {},
     "output_type": "execute_result"
    }
   ],
   "source": [
    "list(long_addition(1234, 567))"
   ]
  },
  {
   "cell_type": "code",
   "execution_count": 24,
   "id": "53ee3a52",
   "metadata": {},
   "outputs": [
    {
     "data": {
      "text/plain": [
       "['1', '8', '0', '1']"
      ]
     },
     "execution_count": 24,
     "metadata": {},
     "output_type": "execute_result"
    }
   ],
   "source": [
    "list(reversed(list(long_addition(1234, 567))))"
   ]
  },
  {
   "cell_type": "code",
   "execution_count": 26,
   "id": "2a3bef6d",
   "metadata": {},
   "outputs": [
    {
     "data": {
      "text/plain": [
       "'1801'"
      ]
     },
     "execution_count": 26,
     "metadata": {},
     "output_type": "execute_result"
    }
   ],
   "source": [
    "''.join(reversed(list(long_addition(1234, 567))))"
   ]
  },
  {
   "cell_type": "code",
   "execution_count": 21,
   "id": "16e0f15a",
   "metadata": {},
   "outputs": [
    {
     "data": {
      "text/plain": [
       "1801"
      ]
     },
     "execution_count": 21,
     "metadata": {},
     "output_type": "execute_result"
    }
   ],
   "source": [
    "int(''.join(reversed(list(long_addition(1234, 567)))))"
   ]
  },
  {
   "cell_type": "code",
   "execution_count": 22,
   "id": "79644f82",
   "metadata": {},
   "outputs": [
    {
     "data": {
      "text/plain": [
       "1801"
      ]
     },
     "execution_count": 22,
     "metadata": {},
     "output_type": "execute_result"
    }
   ],
   "source": [
    "1234+567"
   ]
  },
  {
   "cell_type": "code",
   "execution_count": null,
   "id": "b3ca2226",
   "metadata": {},
   "outputs": [],
   "source": []
  },
  {
   "cell_type": "code",
   "execution_count": null,
   "id": "b4fec23f",
   "metadata": {},
   "outputs": [],
   "source": []
  },
  {
   "cell_type": "code",
   "execution_count": null,
   "id": "f4b6b4b7",
   "metadata": {},
   "outputs": [],
   "source": []
  },
  {
   "cell_type": "markdown",
   "id": "217efdf4",
   "metadata": {},
   "source": [
    "## 2進法の筆算\n",
    "### Leibnizによる九九のない世界"
   ]
  },
  {
   "cell_type": "code",
   "execution_count": 18,
   "id": "c08a8c22",
   "metadata": {},
   "outputs": [],
   "source": [
    "def long_addition(a,b):\n",
    "    a = map(int,reversed(str(a)))\n",
    "    b = map(int,reversed(str(b)))\n",
    "    q=0\n",
    "    for n,m in zip_longest(a, b, fillvalue=0):\n",
    "        q, r = divmod(q+n+m,10)\n",
    "        yield str(r)\n",
    "    if q:\n",
    "        yield str(q)"
   ]
  },
  {
   "cell_type": "code",
   "execution_count": 37,
   "id": "4353ec77",
   "metadata": {},
   "outputs": [
    {
     "data": {
      "text/plain": [
       "('10011010010', '1000110111', '11100001001')"
      ]
     },
     "execution_count": 37,
     "metadata": {},
     "output_type": "execute_result"
    }
   ],
   "source": [
    "bin(1234)[2:], bin(567)[2:], bin(1234+567)[2:]"
   ]
  },
  {
   "cell_type": "code",
   "execution_count": 76,
   "id": "9746a443",
   "metadata": {},
   "outputs": [],
   "source": [
    "def long_addition2(a,b):\n",
    "    a = map(int,reversed(bin(a)[2:]))\n",
    "    b = map(int,reversed(bin(b)[2:]))\n",
    "    q=0\n",
    "    for n,m in zip_longest(a, b, fillvalue=0):\n",
    "        q, r = divmod(q+n+m,2)\n",
    "        print(\"{:d}+{:d}+{:d}={:d}{:d}\".format(q,n,m, q,r))\n",
    "        yield str(r)\n",
    "    if q:\n",
    "        yield str(q)"
   ]
  },
  {
   "cell_type": "code",
   "execution_count": 77,
   "id": "b5e1fcf8",
   "metadata": {},
   "outputs": [
    {
     "name": "stdout",
     "output_type": "stream",
     "text": [
      "0+0+1=01\n",
      "1+1+1=10\n",
      "1+0+1=10\n",
      "0+0+0=01\n",
      "1+1+1=10\n",
      "1+0+1=10\n",
      "1+1+0=10\n",
      "1+1+0=10\n",
      "0+0+0=01\n",
      "0+0+1=01\n",
      "0+1+0=01\n"
     ]
    },
    {
     "data": {
      "text/plain": [
       "['1', '0', '0', '1', '0', '0', '0', '0', '1', '1', '1']"
      ]
     },
     "execution_count": 77,
     "metadata": {},
     "output_type": "execute_result"
    }
   ],
   "source": [
    "list(long_addition2(1234,567))"
   ]
  },
  {
   "cell_type": "code",
   "execution_count": 53,
   "id": "f1cf1f4d",
   "metadata": {},
   "outputs": [
    {
     "data": {
      "text/plain": [
       "11100001001"
      ]
     },
     "execution_count": 53,
     "metadata": {},
     "output_type": "execute_result"
    }
   ],
   "source": [
    "int(''.join(reversed(list(long_addition2(1234, 567)))))"
   ]
  },
  {
   "cell_type": "code",
   "execution_count": 54,
   "id": "6c78d035",
   "metadata": {},
   "outputs": [
    {
     "data": {
      "text/plain": [
       "1801"
      ]
     },
     "execution_count": 54,
     "metadata": {},
     "output_type": "execute_result"
    }
   ],
   "source": [
    "int(''.join(reversed(list(long_addition2(1234, 567)))),2)"
   ]
  },
  {
   "cell_type": "code",
   "execution_count": null,
   "id": "9f5d05b9",
   "metadata": {},
   "outputs": [],
   "source": []
  },
  {
   "cell_type": "code",
   "execution_count": null,
   "id": "be403625",
   "metadata": {},
   "outputs": [],
   "source": []
  },
  {
   "cell_type": "code",
   "execution_count": null,
   "id": "bba21bc6",
   "metadata": {},
   "outputs": [],
   "source": []
  },
  {
   "cell_type": "markdown",
   "id": "b4c839e5",
   "metadata": {},
   "source": [
    "### Booleによる四則演算のない世界"
   ]
  },
  {
   "cell_type": "code",
   "execution_count": 74,
   "id": "d83cbd23",
   "metadata": {},
   "outputs": [],
   "source": [
    "def long_addition2(a,b):\n",
    "    a = map(int,reversed(bin(a)[2:]))\n",
    "    b = map(int,reversed(bin(b)[2:]))\n",
    "    q=0\n",
    "    for n,m in zip_longest(a, b, fillvalue=0):\n",
    "        #q, r = divmod(q+n+m,2)\n",
    "        print(\"{:d}+{:d}+{:d}=({:d}&{:d}|{:d}&{:d}|{:d}&{:d})({:d}|{:d}|{:d})\".format(q,n,m, q,n,q,m,n,m, q,n,m), end=\"\")\n",
    "        r = q ^ n ^ m\n",
    "        q = q & n | q & m | n & m\n",
    "        print(\"={:d}{:d}\".format(q,r))\n",
    "        yield str(r)\n",
    "    if q:\n",
    "        yield str(q)"
   ]
  },
  {
   "cell_type": "code",
   "execution_count": 75,
   "id": "6b855360",
   "metadata": {},
   "outputs": [
    {
     "name": "stdout",
     "output_type": "stream",
     "text": [
      "0+0+1=(0&0|0&1|0&1)(0|0|1)=01\n",
      "0+1+1=(0&1|0&1|1&1)(0|1|1)=10\n",
      "1+0+1=(1&0|1&1|0&1)(1|0|1)=10\n",
      "1+0+0=(1&0|1&0|0&0)(1|0|0)=01\n",
      "0+1+1=(0&1|0&1|1&1)(0|1|1)=10\n",
      "1+0+1=(1&0|1&1|0&1)(1|0|1)=10\n",
      "1+1+0=(1&1|1&0|1&0)(1|1|0)=10\n",
      "1+1+0=(1&1|1&0|1&0)(1|1|0)=10\n",
      "1+0+0=(1&0|1&0|0&0)(1|0|0)=01\n",
      "0+0+1=(0&0|0&1|0&1)(0|0|1)=01\n",
      "0+1+0=(0&1|0&0|1&0)(0|1|0)=01\n"
     ]
    },
    {
     "data": {
      "text/plain": [
       "1801"
      ]
     },
     "execution_count": 75,
     "metadata": {},
     "output_type": "execute_result"
    }
   ],
   "source": [
    "int(''.join(reversed(list(long_addition2(1234, 567)))),2)"
   ]
  },
  {
   "cell_type": "code",
   "execution_count": null,
   "id": "3e8b39c7",
   "metadata": {},
   "outputs": [],
   "source": []
  },
  {
   "cell_type": "code",
   "execution_count": null,
   "id": "740a7dac",
   "metadata": {},
   "outputs": [],
   "source": []
  },
  {
   "cell_type": "code",
   "execution_count": null,
   "id": "abadfe2f",
   "metadata": {},
   "outputs": [],
   "source": []
  }
 ],
 "metadata": {
  "celltoolbar": "Create Assignment",
  "kernelspec": {
   "display_name": "Python 3 (ipykernel)",
   "language": "python",
   "name": "python3"
  },
  "language_info": {
   "codemirror_mode": {
    "name": "ipython",
    "version": 3
   },
   "file_extension": ".py",
   "mimetype": "text/x-python",
   "name": "python",
   "nbconvert_exporter": "python",
   "pygments_lexer": "ipython3",
   "version": "3.9.12"
  },
  "toc": {
   "base_numbering": 1,
   "nav_menu": {},
   "number_sections": true,
   "sideBar": true,
   "skip_h1_title": false,
   "title_cell": "Table of Contents",
   "title_sidebar": "Contents",
   "toc_cell": false,
   "toc_position": {},
   "toc_section_display": true,
   "toc_window_display": false
  }
 },
 "nbformat": 4,
 "nbformat_minor": 5
}
