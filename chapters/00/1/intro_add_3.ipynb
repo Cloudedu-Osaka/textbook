{
 "cells": [
  {
   "cell_type": "markdown",
   "id": "0804708d",
   "metadata": {},
   "source": [
    "# Notebook activity"
   ]
  },
  {
   "cell_type": "markdown",
   "id": "8a2afd6a",
   "metadata": {},
   "source": [
    "```{attention}\n",
    "この講義では、受講者の操作を記録し、授業進行の指標として参照します。\n",
    "そのためノートブックの最初に次のセルを追加しています。\n",
    "ノートブックを読み込んだときに、これらのセルが自動実行されるように付加情報を埋め込んでいます。\n",
    "ひとつ前に行ったセキュリティの設定で、今読み込んだノートブックは \"Trusted\" 状態になっているはずなので、\n",
    "改めて初期化用のセルを実行する必要は無いはずです。\n",
    "```"
   ]
  },
  {
   "cell_type": "code",
   "execution_count": 2,
   "id": "26305fbd",
   "metadata": {},
   "outputs": [],
   "source": [
    "# initialization for my classroom\n",
    "import os\n",
    "from datetime import datetime as dt\n",
    "\n",
    "def logfile(user=os.environ.get('JUPYTERHUB_USER') or 'jovyan'):\n",
    "    prefix='/srv'\n",
    "    if os.path.isdir(prefix) and os.access(prefix, os.W_OK):\n",
    "        prefix+=('/'+user)\n",
    "        if not os.path.isdir(prefix):\n",
    "            os.makedirs(prefix)\n",
    "    else:\n",
    "        prefix='.'\n",
    "    return prefix+'/'+dt.now().strftime('%Y%m%d')+'.log'\n",
    "\n",
    "path=logfile()\n",
    "#%logstop\n",
    "%logstart -otq $path append\n",
    "\n",
    "# [python - cannot override sys.excepthook - Stack Overflow](https://stackoverflow.com/questions/1261668/cannot-override-sys-excepthook/28758396)\n",
    "# https://github.com/ipython/ipython/blob/e6432249582e05f438303ce73d082a0351bb383e/IPython/core/interactiveshell.py#L1952\n",
    "\n",
    "import sys\n",
    "import traceback\n",
    "import IPython\n",
    "\n",
    "try:\n",
    "    _showtraceback\n",
    "except NameError:\n",
    "    _showtraceback=IPython.core.interactiveshell.InteractiveShell.showtraceback\n",
    "\n",
    "import logging\n",
    "logging.basicConfig(filename=path.replace('.log','-exc.log'), format='%(asctime)s %(message)s', level=logging.ERROR, force=True)\n",
    "\n",
    "import sys\n",
    "import traceback\n",
    "import IPython\n",
    "\n",
    "def showtraceback(self, *args, **kwargs):\n",
    "    etype, value, tb = self._get_exc_info(kwargs.get('exc_tuple'))\n",
    "    stb = self.InteractiveTB.structured_traceback(\n",
    "        etype, value, tb, tb_offset=kwargs.get('tb_offset'))\n",
    "    logging.error(os.environ.get('JUPYTERHUB_USER') or 'jovyan')\n",
    "    logging.error(self.InteractiveTB.stb2text(stb))\n",
    "    _showtraceback(self, *args, **kwargs)\n",
    "\n",
    "IPython.core.interactiveshell.InteractiveShell.showtraceback = showtraceback"
   ]
  },
  {
   "cell_type": "markdown",
   "id": "a96bcbd5",
   "metadata": {},
   "source": [
    "```{attention}\n",
    "この操作記録を次のように可視化します。\n",
    "```"
   ]
  },
  {
   "cell_type": "code",
   "execution_count": 3,
   "id": "6068e1df",
   "metadata": {},
   "outputs": [],
   "source": [
    "import pandas as pd\n",
    "import numpy as np\n",
    "import re\n",
    "ansi_escape = re.compile(r'\\x1B(?:[@-Z\\\\-_]|\\[[0-?]*[ -/]*[@-~])')\n",
    "\n",
    "def activity(user=os.environ.get('JUPYTERHUB_USER') or 'jovyan'):\n",
    "    df = pd.DataFrame()\n",
    "    try:\n",
    "        with open(logfile(user), 'r') as f:\n",
    "            for line in f:\n",
    "                try:\n",
    "                    d = dt.strptime(line, \"# %a, %d %b %Y %H:%M:%S \")\n",
    "                    df_new = pd.DataFrame([[1.,1.,1.]], columns = [\"y\",\"exc\",\"area\"],index=[pd.Timestamp(d)])\n",
    "                    df = pd.concat([df,pd.DataFrame(df_new)])\n",
    "                except:\n",
    "                    pass\n",
    "    except:\n",
    "        pass\n",
    "    try:\n",
    "        with open(logfile(user).replace('.log','-exc.log'), 'r') as f:\n",
    "            for line in f:\n",
    "                try:\n",
    "                    #print(ansi_escape.sub('', line))\n",
    "                    d = dt.strptime(ansi_escape.sub('', line), \"%Y-%m-%d %H:%M:%S,%f jovyan \")\n",
    "                    df_new = pd.DataFrame([[1.,0.,5.]], columns = [\"y\",\"exc\",\"area\"],index=[pd.Timestamp(d)])\n",
    "                    df = pd.concat([df,pd.DataFrame(df_new)])\n",
    "                except:\n",
    "                    pass\n",
    "    except:\n",
    "        pass\n",
    "    return df\n",
    "\n",
    "import matplotlib.pyplot as plt\n",
    "import seaborn as sns\n",
    "\n",
    "sns.set()\n",
    "\n",
    "def plot_ax(ax, user=os.environ.get('JUPYTERHUB_USER') or 'jovyan'):\n",
    "    data = activity(user).sort_index()\n",
    "    cmap = plt.cm.Spectral\n",
    "    plt.scatter(\n",
    "        x=data.index, y=data['y'].values, \n",
    "        c=data['exc'].values, s=data['area'].values*500,\n",
    "        cmap='Spectral',\n",
    "        alpha=0.2, edgecolor='none'\n",
    "    )\n",
    "    ax.set_ylabel(user, rotation=0, ha=\"right\", va=\"center\")"
   ]
  },
  {
   "cell_type": "code",
   "execution_count": 6,
   "id": "41d44829",
   "metadata": {},
   "outputs": [
    {
     "data": {
      "image/png": "[encoded data removed]",
      "text/plain": [
       "<Figure size 720x72 with 1 Axes>"
      ]
     },
     "metadata": {},
     "output_type": "display_data"
    }
   ],
   "source": [
    "from datetime import date\n",
    "from datetime import time\n",
    "\n",
    "fig = plt.figure(figsize=(10,1))\n",
    "ax = fig.add_subplot(1,1,1)\n",
    "\n",
    "plt.setp(ax, xlim=(pd.Timestamp(dt.combine(date.today(),time(dt.now().hour,))), pd.Timestamp(dt.combine(date.today(),time(dt.now().hour,59,59)))))\n",
    "plt.setp(ax, ylim=(0,2))\n",
    "plt.setp(ax, xticklabels=[])\n",
    "plt.setp(ax, yticklabels=[])\n",
    "plot_ax(ax)"
   ]
  },
  {
   "cell_type": "code",
   "execution_count": null,
   "id": "5e2f0eb2",
   "metadata": {},
   "outputs": [],
   "source": [
    "from time import sleep\n",
    "from IPython import display"
   ]
  },
  {
   "cell_type": "code",
   "execution_count": null,
   "id": "35d01a0c",
   "metadata": {},
   "outputs": [],
   "source": [
    "while True:\n",
    "    try:\n",
    "        fig = plt.figure(figsize=(10,1))\n",
    "        ax = fig.add_subplot(1,1,1)\n",
    "        plt.setp(ax, xlim=(pd.Timestamp(dt.combine(date.today(),time(dt.now().hour,))), pd.Timestamp(dt.combine(date.today(),time(dt.now().hour,59,59)))))\n",
    "        plt.setp(ax, ylim=(0,2))\n",
    "        plt.setp(ax, xticklabels=[])\n",
    "        plt.setp(ax, yticklabels=[])\n",
    "        plot_ax(ax)\n",
    "        #print(dt.now())\n",
    "        display.display(plt.gcf())\n",
    "        display.clear_output(wait=True)\n",
    "        sleep(3.0)\n",
    "    except KeyboardInterrupt:\n",
    "        break"
   ]
  },
  {
   "cell_type": "code",
   "execution_count": null,
   "id": "ea04a2c3",
   "metadata": {},
   "outputs": [],
   "source": []
  }
 ],
 "metadata": {
  "kernelspec": {
   "display_name": "Python 3 (ipykernel)",
   "language": "python",
   "name": "python3"
  },
  "language_info": {
   "codemirror_mode": {
    "name": "ipython",
    "version": 3
   },
   "file_extension": ".py",
   "mimetype": "text/x-python",
   "name": "python",
   "nbconvert_exporter": "python",
   "pygments_lexer": "ipython3",
   "version": "3.9.12"
  },
  "toc": {
   "base_numbering": 1,
   "nav_menu": {},
   "number_sections": true,
   "sideBar": true,
   "skip_h1_title": false,
   "title_cell": "Table of Contents",
   "title_sidebar": "Contents",
   "toc_cell": false,
   "toc_position": {},
   "toc_section_display": true,
   "toc_window_display": false
  }
 },
 "nbformat": 4,
 "nbformat_minor": 5
}
