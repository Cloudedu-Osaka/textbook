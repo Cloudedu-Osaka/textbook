{
 "cells": [
  {
   "cell_type": "markdown",
   "id": "0804708d",
   "metadata": {},
   "source": [
    "# Notebook activity"
   ]
  },
  {
   "cell_type": "markdown",
   "id": "8a2afd6a",
   "metadata": {},
   "source": [
    "```{attention}\n",
    "この講義では、受講者の操作を記録し、授業進行の指標とします。\n",
    "そのためノートブックの最初に次のセルを追加しています。\n",
    "ノートブックを読み込んだときに、これらのセルが自動実行されるように付加情報を埋め込んでいます。\n",
    "ひとつ前に行ったセキュリティの設定で、配付資料は \"Trusted\" 状態になっているはずなので、\n",
    "改めて初期化用のセルを実行する必要は無いはずです。\n",
    "```"
   ]
  },
  {
   "cell_type": "code",
   "execution_count": 1,
   "id": "b9300d1a",
   "metadata": {
    "init_cell": true,
    "tags": [
     "hide-input"
    ]
   },
   "outputs": [],
   "source": [
    "import os\n",
    "\n",
    "from datetime import date\n",
    "from datetime import time\n",
    "from datetime import datetime as dt\n",
    "\n",
    "def logfile(user=os.environ.get('JUPYTERHUB_USER') or 'jovyan'):\n",
    "    prefix='/srv'\n",
    "    if os.path.isdir(prefix) and os.access(prefix, os.W_OK):\n",
    "        prefix+=('/'+user)\n",
    "        if not os.path.isdir(prefix):\n",
    "            os.makedirs(prefix)\n",
    "    else:\n",
    "        prefix='.'\n",
    "    return prefix+'/'+dt.now().strftime('%Y%m%d')+'.log'\n",
    "\n",
    "path=logfile()\n",
    "%logstop\n",
    "%logstart -otq $path\n",
    "#%logstate"
   ]
  },
  {
   "cell_type": "markdown",
   "id": "a96bcbd5",
   "metadata": {},
   "source": [
    "```{attention}\n",
    "この操作記録を次のように可視化します。\n",
    "```"
   ]
  },
  {
   "cell_type": "code",
   "execution_count": 13,
   "id": "6068e1df",
   "metadata": {},
   "outputs": [],
   "source": [
    "import pandas as pd\n",
    "import numpy as np\n",
    "\n",
    "def activity(user=os.environ.get('JUPYTERHUB_USER') or 'jovyan'):\n",
    "    ds = np.empty(0)\n",
    "    with open(logfile(user), 'r') as f:\n",
    "        for line in f:\n",
    "            try:\n",
    "                d = dt.strptime(line, \"# %a, %d %b %Y %H:%M:%S \")\n",
    "                ds = np.append(ds,pd.Timestamp(d))\n",
    "            except:\n",
    "                pass\n",
    "    return pd.Series(np.ones(len(ds)), ds)\n",
    "\n",
    "\n",
    "from matplotlib import pyplot as plt\n",
    "import seaborn as sns\n",
    "\n",
    "sns.set()\n",
    "\n",
    "def plot_ax(ax, user=''):\n",
    "    sns.scatterplot(ax=ax, data = activity(user), alpha=0.2, s=1000, edgecolor='none')\n",
    "    ax.set_ylabel(user, rotation=0, ha=\"right\", va=\"center\")"
   ]
  },
  {
   "cell_type": "code",
   "execution_count": 14,
   "id": "804bf432",
   "metadata": {},
   "outputs": [
    {
     "data": {
      "image/png": "[encoded data removed]",
      "text/plain": [
       "<Figure size 720x72 with 1 Axes>"
      ]
     },
     "metadata": {},
     "output_type": "display_data"
    }
   ],
   "source": [
    "# single user\n",
    "fig = plt.figure(figsize=(10,1))\n",
    "ax = fig.add_subplot(1,1,1)\n",
    "\n",
    "plt.setp(ax, xlim=(pd.Timestamp(dt.combine(date.today(),time(dt.now().hour,))), pd.Timestamp(dt.combine(date.today(),time(dt.now().hour+1,)))))\n",
    "plt.setp(ax, ylim=(0,2))\n",
    "plt.setp(ax, xticklabels=[])\n",
    "plt.setp(ax, yticklabels=[])\n",
    "\n",
    "plot_ax(ax, user='jovyan')"
   ]
  },
  {
   "cell_type": "code",
   "execution_count": null,
   "id": "908a588e",
   "metadata": {},
   "outputs": [],
   "source": []
  }
 ],
 "metadata": {
  "celltoolbar": "Initialization Cell",
  "kernelspec": {
   "display_name": "Python 3 (ipykernel)",
   "language": "python",
   "name": "python3"
  },
  "language_info": {
   "codemirror_mode": {
    "name": "ipython",
    "version": 3
   },
   "file_extension": ".py",
   "mimetype": "text/x-python",
   "name": "python",
   "nbconvert_exporter": "python",
   "pygments_lexer": "ipython3",
   "version": "3.9.12"
  },
  "toc": {
   "base_numbering": 1,
   "nav_menu": {},
   "number_sections": true,
   "sideBar": true,
   "skip_h1_title": false,
   "title_cell": "Table of Contents",
   "title_sidebar": "Contents",
   "toc_cell": false,
   "toc_position": {},
   "toc_section_display": true,
   "toc_window_display": false
  }
 },
 "nbformat": 4,
 "nbformat_minor": 5
}
