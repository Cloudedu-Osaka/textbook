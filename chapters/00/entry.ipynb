{
 "cells": [
  {
   "cell_type": "markdown",
   "id": "28c3096f",
   "metadata": {},
   "source": [
    "# プログラミングで遡る科学史"
   ]
  },
  {
   "cell_type": "markdown",
   "id": "c139ed72",
   "metadata": {},
   "source": [
    "## 毎授業前の設定更新\n",
    "\n",
    "配付資料の追加や更新があるため、毎授業開始前に次のセルを実行してください。"
   ]
  },
  {
   "cell_type": "code",
   "execution_count": null,
   "id": "f81520d4",
   "metadata": {},
   "outputs": [],
   "source": [
    "!find ${HOME}/textbook/chapters -name \\*.ipynb -not -path '*/.*' -exec jupyter trust {} \\;"
   ]
  },
  {
   "cell_type": "markdown",
   "id": "5e0559ef",
   "metadata": {},
   "source": [
    "もし、配付資料を開いたとき次のような警告表示が出るときは、次の手順でノートブックを「信頼」してください:\n",
    "* 赤い \"Trust notebook\" ボタンを押す。\n",
    "* もう一度赤い \"Trust\" ボタンを押して再確認する。"
   ]
  },
  {
   "cell_type": "markdown",
   "id": "4e997104",
   "metadata": {},
   "source": [
    "![fig-1](fig-1.png)\n",
    "![fig-2](fig-2.png)"
   ]
  },
  {
   "cell_type": "markdown",
   "id": "f103e3f5",
   "metadata": {},
   "source": [
    "```{attention}\n",
    "あくまでも、この講義で配布する資料についてのお願いです。一般的には、危険を理解した上で信頼関係を構築してください。\n",
    "```"
   ]
  },
  {
   "cell_type": "code",
   "execution_count": null,
   "id": "f6e4aedd",
   "metadata": {},
   "outputs": [],
   "source": []
  }
 ],
 "metadata": {
  "kernelspec": {
   "display_name": "Python 3 (ipykernel)",
   "language": "python",
   "name": "python3"
  },
  "language_info": {
   "codemirror_mode": {
    "name": "ipython",
    "version": 3
   },
   "file_extension": ".py",
   "mimetype": "text/x-python",
   "name": "python",
   "nbconvert_exporter": "python",
   "pygments_lexer": "ipython3",
   "version": "3.9.12"
  },
  "toc": {
   "base_numbering": 1,
   "nav_menu": {},
   "number_sections": true,
   "sideBar": true,
   "skip_h1_title": false,
   "title_cell": "Table of Contents",
   "title_sidebar": "Contents",
   "toc_cell": false,
   "toc_position": {},
   "toc_section_display": true,
   "toc_window_display": false
  }
 },
 "nbformat": 4,
 "nbformat_minor": 5
}
