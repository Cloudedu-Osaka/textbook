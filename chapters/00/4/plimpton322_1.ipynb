{
 "cells": [
  {
   "cell_type": "code",
   "execution_count": 1,
   "id": "46d6d086",
   "metadata": {
    "hide_input": true,
    "init_cell": true,
    "tags": [
     "remove-input"
    ]
   },
   "outputs": [],
   "source": [
    "# initialization for my classroom\n",
    "import os\n",
    "from datetime import datetime as dt\n",
    "\n",
    "def logfile(user=os.environ.get('JUPYTERHUB_USER') or 'jovyan'):\n",
    "    prefix='/srv'\n",
    "    if os.path.isdir(prefix) and os.access(prefix, os.W_OK):\n",
    "        prefix+=('/'+user)\n",
    "        if not os.path.isdir(prefix):\n",
    "            os.makedirs(prefix)\n",
    "    else:\n",
    "        prefix='.'\n",
    "    return prefix+'/'+dt.now().strftime('%Y%m%d')+'.log'\n",
    "\n",
    "path=logfile()\n",
    "#%logstop\n",
    "%logstart -otq $path append\n",
    "\n",
    "# [python - cannot override sys.excepthook - Stack Overflow](https://stackoverflow.com/questions/1261668/cannot-override-sys-excepthook/28758396)\n",
    "# https://github.com/ipython/ipython/blob/e6432249582e05f438303ce73d082a0351bb383e/IPython/core/interactiveshell.py#L1952\n",
    "\n",
    "import sys\n",
    "import traceback\n",
    "import IPython\n",
    "\n",
    "try:\n",
    "    _showtraceback\n",
    "except NameError:\n",
    "    _showtraceback=IPython.core.interactiveshell.InteractiveShell.showtraceback\n",
    "\n",
    "try:\n",
    "    _showsyntaxerror\n",
    "except NameError:\n",
    "    _showsyntaxerror=IPython.core.interactiveshell.InteractiveShell.showsyntaxerror\n",
    "\n",
    "import logging\n",
    "logging.basicConfig(filename=path.replace('.log','-exc.log'), format='%(asctime)s %(message)s', level=logging.ERROR, force=True)\n",
    "\n",
    "import sys\n",
    "import traceback\n",
    "import IPython\n",
    "\n",
    "def showtraceback(self, *args, **kwargs):\n",
    "    etype, value, tb = self._get_exc_info(kwargs.get('exc_tuple'))\n",
    "    stb = self.InteractiveTB.structured_traceback(\n",
    "        etype, value, tb, tb_offset=kwargs.get('tb_offset'))\n",
    "    logging.error(os.environ.get('JUPYTERHUB_USER') or 'jovyan')\n",
    "    logging.error(self.InteractiveTB.stb2text(stb))\n",
    "    _showtraceback(self, *args, **kwargs)\n",
    "\n",
    "def showsyntaxerror(self, *args, **kwargs):\n",
    "    etype, value, last_traceback = self._get_exc_info()\n",
    "    elist = traceback.extract_tb(last_traceback) if kwargs.get('running_compiled_code') else []\n",
    "    stb = self.SyntaxTB.structured_traceback(etype, value, elist)\n",
    "    logging.error(os.environ.get('JUPYTERHUB_USER') or 'jovyan')\n",
    "    logging.error(self.InteractiveTB.stb2text(stb))\n",
    "    _showsyntaxerror(self, *args, **kwargs)\n",
    "\n",
    "IPython.core.interactiveshell.InteractiveShell.showtraceback = showtraceback\n",
    "IPython.core.interactiveshell.InteractiveShell.showsyntaxerror = showsyntaxerror"
   ]
  },
  {
   "cell_type": "markdown",
   "id": "0b0cf373",
   "metadata": {},
   "source": [
    "# Plimpton 322\n",
    "\n",
    "* [Plimpton 322 - Wikipedia](https://en.wikipedia.org/wiki/Plimpton_322)"
   ]
  },
  {
   "cell_type": "markdown",
   "id": "7049a072",
   "metadata": {},
   "source": [
    "問: 次の方程式を満たす $x$ を求めよ:\n",
    "$$\n",
    "    x - \\frac{1}{x} = 1.5\n",
    "$$"
   ]
  },
  {
   "cell_type": "markdown",
   "id": "8a5c2508",
   "metadata": {},
   "source": [
    "---"
   ]
  },
  {
   "cell_type": "markdown",
   "id": "abb96fc8",
   "metadata": {},
   "source": [
    "解: $x = 2$"
   ]
  },
  {
   "cell_type": "markdown",
   "id": "a5a0af3a",
   "metadata": {},
   "source": [
    "$x - \\frac{1}{x} = c$ としたとき、$v_{1} = \\frac{c}{2}$、$v_{3} = 1 + {v_{1}}^2 = 1 + (\\frac{c}{2})^2$、$v_{4} = \\sqrt{v_{3}} = \\sqrt{1 + (\\frac{c}{2})^2}$ と置くと、次の連立方程式が成り立つ:\n",
    "$$\n",
    "  \\begin{align}\n",
    "    x &= v_{4} + v_{1} \\\\\n",
    "    \\frac{1}{x} &= v_{4} - v_{1}\n",
    "  \\end{align}\n",
    "$$"
   ]
  },
  {
   "cell_type": "markdown",
   "id": "cd60254e",
   "metadata": {},
   "source": [
    "$c = 1.5$ なので、$v_{3} = 1 + (\\frac{1.5}{2})^2 = 1.5625$、$v_{4} = \\sqrt{v_{3}} = 1.25$、$v_{1} = \\frac{1.5}{2} = 0.75$ である。"
   ]
  },
  {
   "cell_type": "markdown",
   "id": "7d57eb0a",
   "metadata": {},
   "source": [
    "$x = v_{4} + v_{1}$ なので、$x = 1.25 + 0.752$ である。このとき、等式 $\\frac{1}{x} = v_{4} - v_{1}$ についても $\\frac{1}{x} = 1.25 - 0.75 = 0.5 = \\frac{1}{2}$ のように成り立っている。"
   ]
  },
  {
   "cell_type": "markdown",
   "id": "30b32f36",
   "metadata": {},
   "source": [
    "$v_{1} = 1+\\frac{c}{2}$"
   ]
  },
  {
   "cell_type": "code",
   "execution_count": 11,
   "id": "2465e4b5",
   "metadata": {},
   "outputs": [
    {
     "data": {
      "text/plain": [
       "0.75"
      ]
     },
     "execution_count": 11,
     "metadata": {},
     "output_type": "execute_result"
    }
   ],
   "source": [
    "# v1\n",
    "c=1.5\n",
    "c/2"
   ]
  },
  {
   "cell_type": "markdown",
   "id": "03a12a89",
   "metadata": {},
   "source": [
    "$v_{3} = 1 + {v_{1}}^2 = 1 + (\\frac{c}{2})^2$"
   ]
  },
  {
   "cell_type": "code",
   "execution_count": 7,
   "id": "8a58c4a8",
   "metadata": {
    "scrolled": true
   },
   "outputs": [
    {
     "data": {
      "text/plain": [
       "1.5625"
      ]
     },
     "execution_count": 7,
     "metadata": {},
     "output_type": "execute_result"
    }
   ],
   "source": [
    "# v3\n",
    "1+(c/2)**2"
   ]
  },
  {
   "cell_type": "markdown",
   "id": "6e56ca9e",
   "metadata": {},
   "source": [
    "$v_{4} = \\sqrt{v_{3}}$"
   ]
  },
  {
   "cell_type": "code",
   "execution_count": 10,
   "id": "14bea9e0",
   "metadata": {
    "scrolled": true
   },
   "outputs": [
    {
     "data": {
      "text/plain": [
       "1.25"
      ]
     },
     "execution_count": 10,
     "metadata": {},
     "output_type": "execute_result"
    }
   ],
   "source": [
    "# v4\n",
    "import math\n",
    "math.sqrt(1+(c/2)**2)"
   ]
  },
  {
   "cell_type": "markdown",
   "id": "82e1f7b6",
   "metadata": {
    "hide_input": false
   },
   "source": [
    "```{attention}\n",
    "注意\n",
    "```\n",
    "$v_{1}$ と $v_{2}$ は、有理数、さらに有限小数であることを覚えておいてください。\n",
    "* [Rational number - Wikipedia](https://en.wikipedia.org/wiki/Rational_number)\n",
    "* [Decimal representation - Wikipedia](https://en.wikipedia.org/wiki/Decimal_representation#Finite_decimal_representations)"
   ]
  },
  {
   "cell_type": "markdown",
   "id": "57dc0183",
   "metadata": {},
   "source": [
    "連立方程式\n",
    "$$\n",
    "  \\begin{align}\n",
    "    x &= v_{4} + v_{1} \\\\\n",
    "    \\frac{1}{x} &= v_{4} - v_{1}\n",
    "  \\end{align}\n",
    "$$\n",
    "を$v_{1}$, $v_{4}$ について解くと、\n",
    "$$\n",
    "  \\begin{align}\n",
    "    v_{1} &= \\frac{1}{2}(x-\\frac{1}{x}) \\\\\n",
    "    v_{4} &= \\frac{1}{2}(x+\\frac{1}{x})\n",
    "  \\end{align}\n",
    "$$\n",
    "である。\n",
    "\n",
    "$v_{1}$, $1$, $v_{4}$ はピタゴラスの三数であり、${v_{1}}^2 + 1^2 = {v_{4}}^2$が成り立つ。\n",
    "* [Pythagorean triple - Wikipedia](https://en.wikipedia.org/wiki/Pythagorean_triple)"
   ]
  },
  {
   "cell_type": "markdown",
   "id": "bf6c732c",
   "metadata": {},
   "source": [
    "課題: メソポタミア人は、$x$ の逆数 $\\frac{1}{x}$ も同時に求めたかったのだが、何故か?"
   ]
  },
  {
   "cell_type": "code",
   "execution_count": null,
   "id": "e3e33317",
   "metadata": {},
   "outputs": [],
   "source": []
  }
 ],
 "metadata": {
  "kernelspec": {
   "display_name": "Python 3 (ipykernel)",
   "language": "python",
   "name": "python3"
  },
  "language_info": {
   "codemirror_mode": {
    "name": "ipython",
    "version": 3
   },
   "file_extension": ".py",
   "mimetype": "text/x-python",
   "name": "python",
   "nbconvert_exporter": "python",
   "pygments_lexer": "ipython3",
   "version": "3.9.12"
  },
  "toc": {
   "base_numbering": 1,
   "nav_menu": {},
   "number_sections": true,
   "sideBar": true,
   "skip_h1_title": false,
   "title_cell": "Table of Contents",
   "title_sidebar": "Contents",
   "toc_cell": false,
   "toc_position": {},
   "toc_section_display": true,
   "toc_window_display": false
  }
 },
 "nbformat": 4,
 "nbformat_minor": 5
}
