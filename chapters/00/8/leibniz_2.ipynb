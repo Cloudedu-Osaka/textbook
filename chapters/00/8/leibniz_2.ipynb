{
 "cells": [
  {
   "cell_type": "code",
   "execution_count": null,
   "id": "18a31cec",
   "metadata": {
    "hide_input": true,
    "init_cell": true,
    "tags": [
     "remove-input"
    ]
   },
   "outputs": [],
   "source": [
    "# initialization for my classroom\n",
    "import os\n",
    "from datetime import datetime as dt\n",
    "\n",
    "def logfile(user=os.environ.get('JUPYTERHUB_USER') or 'jovyan'):\n",
    "    prefix='/srv'\n",
    "    if os.path.isdir(prefix) and os.access(prefix, os.W_OK):\n",
    "        prefix+=('/'+user)\n",
    "        if not os.path.isdir(prefix):\n",
    "            os.makedirs(prefix)\n",
    "    else:\n",
    "        prefix='.'\n",
    "    return prefix+'/'+dt.now().strftime('%Y%m%d')+'.log'\n",
    "\n",
    "path=logfile()\n",
    "#%logstop\n",
    "%logstart -otq $path append\n",
    "\n",
    "# [python - cannot override sys.excepthook - Stack Overflow](https://stackoverflow.com/questions/1261668/cannot-override-sys-excepthook/28758396)\n",
    "# https://github.com/ipython/ipython/blob/e6432249582e05f438303ce73d082a0351bb383e/IPython/core/interactiveshell.py#L1952\n",
    "\n",
    "import sys\n",
    "import traceback\n",
    "import IPython\n",
    "\n",
    "try:\n",
    "    _showtraceback\n",
    "except NameError:\n",
    "    _showtraceback=IPython.core.interactiveshell.InteractiveShell.showtraceback\n",
    "\n",
    "try:\n",
    "    _showsyntaxerror\n",
    "except NameError:\n",
    "    _showsyntaxerror=IPython.core.interactiveshell.InteractiveShell.showsyntaxerror\n",
    "\n",
    "import logging\n",
    "logging.basicConfig(filename=path.replace('.log','-exc.log'), format='%(asctime)s %(message)s', level=logging.ERROR, force=True)\n",
    "\n",
    "import sys\n",
    "import traceback\n",
    "import IPython\n",
    "\n",
    "def showtraceback(self, *args, **kwargs):\n",
    "    etype, value, tb = self._get_exc_info(kwargs.get('exc_tuple'))\n",
    "    stb = self.InteractiveTB.structured_traceback(\n",
    "        etype, value, tb, tb_offset=kwargs.get('tb_offset'))\n",
    "    logging.error(os.environ.get('JUPYTERHUB_USER') or 'jovyan')\n",
    "    logging.error(self.InteractiveTB.stb2text(stb))\n",
    "    _showtraceback(self, *args, **kwargs)\n",
    "\n",
    "def showsyntaxerror(self, *args, **kwargs):\n",
    "    etype, value, last_traceback = self._get_exc_info()\n",
    "    elist = traceback.extract_tb(last_traceback) if kwargs.get('running_compiled_code') else []\n",
    "    stb = self.SyntaxTB.structured_traceback(etype, value, elist)\n",
    "    logging.error(os.environ.get('JUPYTERHUB_USER') or 'jovyan')\n",
    "    logging.error(self.InteractiveTB.stb2text(stb))\n",
    "    _showsyntaxerror(self, *args, **kwargs)\n",
    "\n",
    "IPython.core.interactiveshell.InteractiveShell.showtraceback = showtraceback\n",
    "IPython.core.interactiveshell.InteractiveShell.showsyntaxerror = showsyntaxerror"
   ]
  },
  {
   "cell_type": "markdown",
   "id": "8d5d78ea",
   "metadata": {},
   "source": [
    "# Pythonで数式処理 (Computer Algebra)\n",
    "\n",
    "* [Computer algebra - Wikipedia](https://en.wikipedia.org/wiki/Computer_algebra)"
   ]
  },
  {
   "cell_type": "code",
   "execution_count": 3,
   "id": "5e25595c",
   "metadata": {},
   "outputs": [],
   "source": [
    "from sympy import *\n",
    "from sympy.abc import x"
   ]
  },
  {
   "cell_type": "markdown",
   "id": "32517bb8",
   "metadata": {},
   "source": [
    "## Leibniz vs. Newton\n",
    "* [Leibniz–Newton calculus controversy - Wikipedia](https://en.wikipedia.org/wiki/Leibniz%E2%80%93Newton_calculus_controversy)\n",
    "* [Madhava series - Wikipedia](https://en.wikipedia.org/wiki/Madhava_series)"
   ]
  },
  {
   "cell_type": "code",
   "execution_count": 2,
   "id": "78a1586d",
   "metadata": {
    "scrolled": true
   },
   "outputs": [
    {
     "data": {
      "text/html": [
       "<div>\n",
       "<style scoped>\n",
       "    .dataframe tbody tr th:only-of-type {\n",
       "        vertical-align: middle;\n",
       "    }\n",
       "\n",
       "    .dataframe tbody tr th {\n",
       "        vertical-align: top;\n",
       "    }\n",
       "\n",
       "    .dataframe thead th {\n",
       "        text-align: right;\n",
       "    }\n",
       "</style>\n",
       "<table border=\"1\" class=\"dataframe\">\n",
       "  <thead>\n",
       "    <tr style=\"text-align: right;\">\n",
       "      <th></th>\n",
       "      <th>No.</th>\n",
       "      <th>Series</th>\n",
       "      <th>Name</th>\n",
       "      <th>Western discoverers of the seriesand approximate dates of discovery[7]</th>\n",
       "    </tr>\n",
       "  </thead>\n",
       "  <tbody>\n",
       "    <tr>\n",
       "      <th>0</th>\n",
       "      <td>1</td>\n",
       "      <td>sin x = x − .mw-parser-output .sfrac{white-spa...</td>\n",
       "      <td>Madhava's sine series</td>\n",
       "      <td>Isaac Newton (1670) and Wilhelm Leibniz (1676)</td>\n",
       "    </tr>\n",
       "    <tr>\n",
       "      <th>1</th>\n",
       "      <td>2</td>\n",
       "      <td>cos x = 1 − x2/2! + x4/4! − x6/6! + ...</td>\n",
       "      <td>Madhava's cosine series</td>\n",
       "      <td>Isaac Newton (1670) and Wilhelm Leibniz (1676)</td>\n",
       "    </tr>\n",
       "    <tr>\n",
       "      <th>2</th>\n",
       "      <td>3</td>\n",
       "      <td>arctan x = x − x3/3 + x5/5 − x7/7 + ...</td>\n",
       "      <td>Madhava's series for arctangent</td>\n",
       "      <td>James Gregory (1671) and Wilhelm Leibniz (1676)</td>\n",
       "    </tr>\n",
       "    <tr>\n",
       "      <th>3</th>\n",
       "      <td>4</td>\n",
       "      <td>π/4 = 1 − 1/3 + 1/5 − 1/7 + ...</td>\n",
       "      <td>Madhava's formula for π</td>\n",
       "      <td>James Gregory (1671) and Wilhelm Leibniz (1676)</td>\n",
       "    </tr>\n",
       "  </tbody>\n",
       "</table>\n",
       "</div>"
      ],
      "text/plain": [
       "   No.                                             Series  \\\n",
       "0    1  sin x = x − .mw-parser-output .sfrac{white-spa...   \n",
       "1    2            cos x = 1 − x2/2! + x4/4! − x6/6! + ...   \n",
       "2    3            arctan x = x − x3/3 + x5/5 − x7/7 + ...   \n",
       "3    4                    π/4 = 1 − 1/3 + 1/5 − 1/7 + ...   \n",
       "\n",
       "                              Name  \\\n",
       "0            Madhava's sine series   \n",
       "1          Madhava's cosine series   \n",
       "2  Madhava's series for arctangent   \n",
       "3          Madhava's formula for π   \n",
       "\n",
       "  Western discoverers of the seriesand approximate dates of discovery[7]  \n",
       "0     Isaac Newton (1670) and Wilhelm Leibniz (1676)                      \n",
       "1     Isaac Newton (1670) and Wilhelm Leibniz (1676)                      \n",
       "2    James Gregory (1671) and Wilhelm Leibniz (1676)                      \n",
       "3    James Gregory (1671) and Wilhelm Leibniz (1676)                      "
      ]
     },
     "execution_count": 2,
     "metadata": {},
     "output_type": "execute_result"
    }
   ],
   "source": [
    "import pandas as pd\n",
    "wiki = pd.read_html('https://en.wikipedia.org/wiki/Madhava_series')\n",
    "wiki[0]"
   ]
  },
  {
   "cell_type": "code",
   "execution_count": 10,
   "id": "0f879b87",
   "metadata": {},
   "outputs": [
    {
     "data": {
      "text/latex": [
       "$\\displaystyle x - \\frac{x^{3}}{6} + \\frac{x^{5}}{120} - \\frac{x^{7}}{5040} + \\frac{x^{9}}{362880} + O\\left(x^{10}\\right)$"
      ],
      "text/plain": [
       "x - x**3/6 + x**5/120 - x**7/5040 + x**9/362880 + O(x**10)"
      ]
     },
     "execution_count": 10,
     "metadata": {},
     "output_type": "execute_result"
    }
   ],
   "source": [
    "series(sin(x), x, 0, 10)"
   ]
  },
  {
   "cell_type": "code",
   "execution_count": 11,
   "id": "b7604d5f",
   "metadata": {},
   "outputs": [
    {
     "data": {
      "text/latex": [
       "$\\displaystyle 1 - \\frac{x^{2}}{2} + \\frac{x^{4}}{24} - \\frac{x^{6}}{720} + \\frac{x^{8}}{40320} + O\\left(x^{10}\\right)$"
      ],
      "text/plain": [
       "1 - x**2/2 + x**4/24 - x**6/720 + x**8/40320 + O(x**10)"
      ]
     },
     "execution_count": 11,
     "metadata": {},
     "output_type": "execute_result"
    }
   ],
   "source": [
    "series(cos(x), x, 0, 10)"
   ]
  },
  {
   "cell_type": "code",
   "execution_count": 12,
   "id": "15da9037",
   "metadata": {},
   "outputs": [
    {
     "data": {
      "text/latex": [
       "$\\displaystyle x - \\frac{x^{3}}{3} + \\frac{x^{5}}{5} - \\frac{x^{7}}{7} + \\frac{x^{9}}{9} + O\\left(x^{10}\\right)$"
      ],
      "text/plain": [
       "x - x**3/3 + x**5/5 - x**7/7 + x**9/9 + O(x**10)"
      ]
     },
     "execution_count": 12,
     "metadata": {},
     "output_type": "execute_result"
    }
   ],
   "source": [
    "series(atan(x), x, 0, 10)"
   ]
  },
  {
   "cell_type": "code",
   "execution_count": 20,
   "id": "05f8e2b1",
   "metadata": {},
   "outputs": [
    {
     "data": {
      "text/plain": [
       "3.33968253968254"
      ]
     },
     "execution_count": 20,
     "metadata": {},
     "output_type": "execute_result"
    }
   ],
   "source": [
    "float(series(atan(x), x, 0, 10).removeO().subs(x, 1))*4"
   ]
  },
  {
   "cell_type": "code",
   "execution_count": null,
   "id": "ddf26ffa",
   "metadata": {},
   "outputs": [],
   "source": []
  },
  {
   "cell_type": "code",
   "execution_count": null,
   "id": "9fd9544e",
   "metadata": {},
   "outputs": [],
   "source": []
  },
  {
   "cell_type": "code",
   "execution_count": null,
   "id": "e46e6521",
   "metadata": {},
   "outputs": [],
   "source": []
  },
  {
   "cell_type": "markdown",
   "id": "9bca5824",
   "metadata": {},
   "source": [
    "### Newton法\n",
    "\n",
    "* [Newton's method - Wikipedia](https://en.wikipedia.org/wiki/Newton%27s_method)\n",
    "\n",
    "$$\n",
    "  x_{n+1} = x_{n} - \\frac{f(x_{n})}{f'(x_{n})}\n",
    "$$"
   ]
  },
  {
   "cell_type": "code",
   "execution_count": 21,
   "id": "f721f104",
   "metadata": {},
   "outputs": [],
   "source": [
    "def f(x): return x**2-2"
   ]
  },
  {
   "cell_type": "code",
   "execution_count": 22,
   "id": "4644979a",
   "metadata": {},
   "outputs": [
    {
     "data": {
      "text/latex": [
       "$\\displaystyle x - \\frac{x^{2} - 2}{2 x}$"
      ],
      "text/plain": [
       "x - (x**2 - 2)/(2*x)"
      ]
     },
     "execution_count": 22,
     "metadata": {},
     "output_type": "execute_result"
    }
   ],
   "source": [
    "x - f(x)/(diff(f(x),x))"
   ]
  },
  {
   "cell_type": "code",
   "execution_count": 23,
   "id": "8c991fe6",
   "metadata": {},
   "outputs": [
    {
     "data": {
      "text/latex": [
       "$\\displaystyle \\frac{x}{2} + \\frac{1}{x}$"
      ],
      "text/plain": [
       "x/2 + 1/x"
      ]
     },
     "execution_count": 23,
     "metadata": {},
     "output_type": "execute_result"
    }
   ],
   "source": [
    "simplify(_)"
   ]
  },
  {
   "cell_type": "code",
   "execution_count": 24,
   "id": "9278901b",
   "metadata": {},
   "outputs": [
    {
     "data": {
      "text/latex": [
       "$\\displaystyle x + \\frac{2}{x}$"
      ],
      "text/plain": [
       "x + 2/x"
      ]
     },
     "execution_count": 24,
     "metadata": {},
     "output_type": "execute_result"
    }
   ],
   "source": [
    "_*2"
   ]
  },
  {
   "cell_type": "code",
   "execution_count": null,
   "id": "fffd4d8a",
   "metadata": {},
   "outputs": [],
   "source": []
  },
  {
   "cell_type": "code",
   "execution_count": null,
   "id": "f6a57aaf",
   "metadata": {},
   "outputs": [],
   "source": []
  },
  {
   "cell_type": "code",
   "execution_count": null,
   "id": "9ac13ad6",
   "metadata": {},
   "outputs": [],
   "source": []
  },
  {
   "cell_type": "markdown",
   "id": "d1ad23ec",
   "metadata": {},
   "source": [
    "### Newtonによる $\\sin(x)$ の級数展開"
   ]
  },
  {
   "cell_type": "markdown",
   "id": "e91d6aa4",
   "metadata": {},
   "source": [
    "$\\sin(y) = x$ とおく。$x$ を $x$ 軸上の点とすると、$y = \\sin^{-1}(x) = \\arcsin(x)$ は、次の図の円弧の長さに対応する。\n",
    "\n",
    "単位円の周長 $l$ と面積 $s$ は、$l : 2 \\pi = s : \\pi$ より $\\frac{l}{2} = s$ の関係がある。"
   ]
  },
  {
   "cell_type": "markdown",
   "id": "6264105b",
   "metadata": {},
   "source": [
    "$$\n",
    "  \\frac{1}{2} y = \\frac{1}{2}\\sin^{-1}(x) = \\int_{0}^{x} \\sqrt{1-x^2} - \\frac{1}{2} x \\sqrt{1-x^2}\n",
    "$$"
   ]
  },
  {
   "cell_type": "code",
   "execution_count": 75,
   "id": "c67b7c95",
   "metadata": {
    "hide_input": true
   },
   "outputs": [
    {
     "data": {
      "image/png": "[encoded data removed]",
      "text/plain": [
       "<Figure size 432x288 with 1 Axes>"
      ]
     },
     "metadata": {
      "needs_background": "light"
     },
     "output_type": "display_data"
    }
   ],
   "source": [
    "import matplotlib.patches as patches\n",
    "import matplotlib.pyplot as plt\n",
    "import numpy as np\n",
    "\n",
    "x = np.cos(np.radians(30))\n",
    "y = np.sin(np.radians(30))\n",
    "\n",
    "fig, ax = plt.subplots()\n",
    "\n",
    "arc1 = patches.Arc([0,0], 2,2, theta1=0,  theta2=30, linestyle=':')\n",
    "arc2 = patches.Arc([0,0], 2,2, theta1=30, theta2=90)\n",
    "wdg2 = patches.Wedge([0,0], 1, theta1=30, theta2=90, fill=True, alpha=0.3)\n",
    "ax.add_patch(arc1)\n",
    "ax.add_patch(arc2)\n",
    "ax.add_patch(wdg2)\n",
    "ax.set_xlim([0, 1])\n",
    "ax.set_ylim([0, 1])\n",
    "ax.set_aspect(\"equal\")\n",
    "plt.plot(x, 0, \"ok\")\n",
    "plt.plot(x, y, \"ok\")\n",
    "plt.plot([0,x],[y,y], 'k:')\n",
    "plt.plot([x,x],[0,y], 'k:')\n",
    "plt.text(x/2, y/2, '1')\n",
    "plt.text(x+.02, .04, 'x')\n",
    "plt.text(x-.25, .9,  'y = arcsin(x)')\n",
    "plt.text(x-.25, .2,  'arccos(x)')\n",
    "plt.show()"
   ]
  },
  {
   "cell_type": "markdown",
   "id": "a14ba71e",
   "metadata": {},
   "source": [
    "* [Binomial theorem - Wikipedia](https://en.wikipedia.org/wiki/Binomial_theorem)\n",
    "  - \"Isaac Newton is generally credited with the generalized binomial theorem, valid for any rational exponent.\"\n",
    "    - 「アイザック・ニュートンは、一般に、任意の有理数の指数に対して有効な一般二項定理を導いたとされている。」"
   ]
  },
  {
   "cell_type": "markdown",
   "id": "ae2ee797",
   "metadata": {},
   "source": [
    "$$\n",
    "  (x + y)^r = \\sum_{k=0}^\\infty {r \\choose k} x^{r-k} y^k\n",
    "$$"
   ]
  },
  {
   "cell_type": "markdown",
   "id": "eb078bd7",
   "metadata": {
    "hide_input": true
   },
   "source": [
    "$\\sqrt{1-x^2} = (1-x^2)^\\frac{1}{2}$ を二項級数に展開する:\n",
    "  * [Binomial series - Wikipedia](https://en.wikipedia.org/wiki/Binomial_series)"
   ]
  },
  {
   "cell_type": "code",
   "execution_count": 25,
   "id": "ccc8f910",
   "metadata": {},
   "outputs": [
    {
     "data": {
      "text/latex": [
       "$\\displaystyle \\left(1 - x^{2}\\right)^{0.5}$"
      ],
      "text/plain": [
       "(1 - x**2)**0.5"
      ]
     },
     "execution_count": 25,
     "metadata": {},
     "output_type": "execute_result"
    }
   ],
   "source": [
    "(1-x**2)**(1/2)"
   ]
  },
  {
   "cell_type": "code",
   "execution_count": 26,
   "id": "f33123f4",
   "metadata": {},
   "outputs": [
    {
     "data": {
      "text/latex": [
       "$\\displaystyle 1 - 0.5 x^{2} - 0.125 x^{4} + O\\left(x^{6}\\right)$"
      ],
      "text/plain": [
       "1 - 0.5*x**2 - 0.125*x**4 + O(x**6)"
      ]
     },
     "execution_count": 26,
     "metadata": {},
     "output_type": "execute_result"
    }
   ],
   "source": [
    "series((1-x**2)**(1/2))"
   ]
  },
  {
   "cell_type": "code",
   "execution_count": 5,
   "id": "0e210613",
   "metadata": {},
   "outputs": [
    {
     "data": {
      "text/latex": [
       "$\\displaystyle 1 - \\frac{x^{2}}{2} - \\frac{x^{4}}{8} - \\frac{x^{6}}{16} - \\frac{5 x^{8}}{128} + O\\left(x^{10}\\right)$"
      ],
      "text/plain": [
       "1 - x**2/2 - x**4/8 - x**6/16 - 5*x**8/128 + O(x**10)"
      ]
     },
     "execution_count": 5,
     "metadata": {},
     "output_type": "execute_result"
    }
   ],
   "source": [
    "nsimplify(series((1-x**2)**(1/2), x, 0, 10))"
   ]
  },
  {
   "cell_type": "markdown",
   "id": "73c17a21",
   "metadata": {},
   "source": [
    "積分する。多項式なので項ごとに積分できる:"
   ]
  },
  {
   "cell_type": "code",
   "execution_count": 6,
   "id": "85882cad",
   "metadata": {},
   "outputs": [
    {
     "data": {
      "text/latex": [
       "$\\displaystyle x - \\frac{x^{3}}{6} - \\frac{x^{5}}{40} - \\frac{x^{7}}{112} - \\frac{5 x^{9}}{1152} + O\\left(x^{11}\\right)$"
      ],
      "text/plain": [
       "x - x**3/6 - x**5/40 - x**7/112 - 5*x**9/1152 + O(x**11)"
      ]
     },
     "execution_count": 6,
     "metadata": {},
     "output_type": "execute_result"
    }
   ],
   "source": [
    "nsimplify(integrate(series((1-x**2)**(1/2), x, 0, 10), x))"
   ]
  },
  {
   "cell_type": "markdown",
   "id": "388d75a0",
   "metadata": {},
   "source": [
    "これらによって、$\\sin(x)$ の逆関数 $\\sin^{-1}(x) = \\arcsin(x)$ の級数展開はすぐに求められる:"
   ]
  },
  {
   "cell_type": "code",
   "execution_count": 54,
   "id": "bc834fa6",
   "metadata": {},
   "outputs": [
    {
     "data": {
      "text/latex": [
       "$\\displaystyle x + \\frac{x^{3}}{6} + \\frac{3 x^{5}}{40} + \\frac{5 x^{7}}{112} + \\frac{35 x^{9}}{1152} + O\\left(x^{11}\\right)$"
      ],
      "text/plain": [
       "x + x**3/6 + 3*x**5/40 + 5*x**7/112 + 35*x**9/1152 + O(x**11)"
      ]
     },
     "execution_count": 54,
     "metadata": {},
     "output_type": "execute_result"
    }
   ],
   "source": [
    "arcsin_x = 2 * integrate(series((1-x**2)**(1/2), x, 0, 10), x) - expand(x * series((1-x**2)**(1/2), x, 0, 10))\n",
    "nsimplify(arcsin_x)"
   ]
  },
  {
   "cell_type": "markdown",
   "id": "1a7c75a4",
   "metadata": {},
   "source": [
    "$0.1$ と $1$ のときの値を求める:"
   ]
  },
  {
   "cell_type": "code",
   "execution_count": 51,
   "id": "ad2ad883",
   "metadata": {},
   "outputs": [
    {
     "data": {
      "text/plain": [
       "(0.100167421161560, 0.100167421161560)"
      ]
     },
     "execution_count": 51,
     "metadata": {},
     "output_type": "execute_result"
    }
   ],
   "source": [
    "arcsin_x.removeO().subs(x,.1), asin(.1)"
   ]
  },
  {
   "cell_type": "code",
   "execution_count": 57,
   "id": "f97589af",
   "metadata": {},
   "outputs": [
    {
     "data": {
      "text/plain": [
       "(1.31669146825397, 1.57079632679490)"
      ]
     },
     "execution_count": 57,
     "metadata": {},
     "output_type": "execute_result"
    }
   ],
   "source": [
    "arcsin_x.removeO().subs(x,1.), asin(1.)"
   ]
  },
  {
   "cell_type": "code",
   "execution_count": 79,
   "id": "29d91af0",
   "metadata": {},
   "outputs": [
    {
     "data": {
      "text/plain": [
       "[<matplotlib.lines.Line2D at 0x1289f9400>]"
      ]
     },
     "execution_count": 79,
     "metadata": {},
     "output_type": "execute_result"
    },
    {
     "data": {
      "image/png": "[encoded data removed]",
      "text/plain": [
       "<Figure size 432x288 with 1 Axes>"
      ]
     },
     "metadata": {
      "needs_background": "light"
     },
     "output_type": "display_data"
    }
   ],
   "source": [
    "import matplotlib.pyplot as plt\n",
    "import numpy as np\n",
    "\n",
    "X = np.linspace(-1, 1, 100)\n",
    "Y = [arcsin_x.removeO().subs(x,xi) for xi in X]\n",
    "plt.plot(X, Y)\n",
    "plt.plot(X, np.arcsin(X))"
   ]
  },
  {
   "cell_type": "markdown",
   "id": "28551f31",
   "metadata": {},
   "source": [
    "検算:"
   ]
  },
  {
   "cell_type": "code",
   "execution_count": 10,
   "id": "11987423",
   "metadata": {},
   "outputs": [
    {
     "data": {
      "text/latex": [
       "$\\displaystyle x + \\frac{x^{3}}{6} + \\frac{3 x^{5}}{40} + \\frac{5 x^{7}}{112} + \\frac{35 x^{9}}{1152} + \\frac{63 x^{11}}{2816} + \\frac{231 x^{13}}{13312} + O\\left(x^{15}\\right)$"
      ],
      "text/plain": [
       "x + x**3/6 + 3*x**5/40 + 5*x**7/112 + 35*x**9/1152 + 63*x**11/2816 + 231*x**13/13312 + O(x**15)"
      ]
     },
     "execution_count": 10,
     "metadata": {},
     "output_type": "execute_result"
    }
   ],
   "source": [
    "series(asin(x),x, 0, 15)"
   ]
  },
  {
   "cell_type": "code",
   "execution_count": null,
   "id": "c3ce1940",
   "metadata": {},
   "outputs": [],
   "source": []
  },
  {
   "cell_type": "code",
   "execution_count": null,
   "id": "19347cd3",
   "metadata": {},
   "outputs": [],
   "source": []
  },
  {
   "cell_type": "code",
   "execution_count": null,
   "id": "09354398",
   "metadata": {},
   "outputs": [],
   "source": []
  },
  {
   "cell_type": "markdown",
   "id": "ea9687d2",
   "metadata": {},
   "source": [
    "### Newtonの力業"
   ]
  },
  {
   "cell_type": "markdown",
   "id": "cde41de7",
   "metadata": {},
   "source": [
    "恒等式 $\\sin^{-1}(\\sin(x)) = x$ がなりたつ。さらに、$\\sin(x)$ の級数展開を\n",
    "$\\sin(x) = a_{0} + a_{1} x + a_{2} x^2 + a_{3} x^3 + \\cdots$ とおいて、上で得られた $\\sin^{-1}(x)$ の級数展開式へ代入しする。変数 $x$ の係数が、一次のみ $1$、それ以外の次数では $0$ となることから、順次 $a_{0}, a_{1}, a_{2},...$ を求める。 \n",
    "\n",
    "$$\n",
    "  \\begin{align}\n",
    "    \\sin(x) &\\approx a_{0} \\\\\n",
    "    \\sin(x) &\\approx a_{0} + a_{1} x \\\\\n",
    "    \\sin(x) &\\approx a_{0} + a_{1} x + a_{2} x^2 \\\\\n",
    "    \\sin(x) &\\approx a_{0} + a_{1} x + a_{2} x^2 + a_{3} x^3 \\\\\n",
    "  \\end{align}\n",
    "$$"
   ]
  },
  {
   "cell_type": "code",
   "execution_count": 58,
   "id": "ba9a5d27",
   "metadata": {},
   "outputs": [
    {
     "data": {
      "text/plain": [
       "[[a0, 0],\n",
       " [a1, 0],\n",
       " [a2, 0],\n",
       " [a3, 0],\n",
       " [a4, 0],\n",
       " [a5, 0],\n",
       " [a6, 0],\n",
       " [a7, 0],\n",
       " [a8, 0],\n",
       " [a9, 0]]"
      ]
     },
     "execution_count": 58,
     "metadata": {},
     "output_type": "execute_result"
    }
   ],
   "source": [
    "a=symbols('a:11', Real=True)\n",
    "sin_x=a[0]+a[1]*x+a[2]*x**2+a[3]*x**3+a[4]*x**4+a[5]*x**5+a[6]*x**6+a[7]*x**7+a[8]*x**8+a[9]*x**9\n",
    "sol=[[a[0],0],[a[1],0],[a[2],0],[a[3],0],[a[4],0],[a[5],0],[a[6],0],[a[7],0],[a[8],0],[a[9],0]]\n",
    "sol"
   ]
  },
  {
   "cell_type": "code",
   "execution_count": 59,
   "id": "fa5745e5",
   "metadata": {},
   "outputs": [
    {
     "data": {
      "text/latex": [
       "$\\displaystyle 0$"
      ],
      "text/plain": [
       "0"
      ]
     },
     "execution_count": 59,
     "metadata": {},
     "output_type": "execute_result"
    }
   ],
   "source": [
    "sin_x.subs(sol)"
   ]
  },
  {
   "cell_type": "code",
   "execution_count": 60,
   "id": "1d89d031",
   "metadata": {},
   "outputs": [],
   "source": [
    "ax=Symbol('ax', real=True)"
   ]
  },
  {
   "cell_type": "code",
   "execution_count": 61,
   "id": "0bf48a7e",
   "metadata": {},
   "outputs": [
    {
     "data": {
      "text/plain": [
       "[[a0, 0],\n",
       " [a1, ax],\n",
       " [a2, 0],\n",
       " [a3, 0],\n",
       " [a4, 0],\n",
       " [a5, 0],\n",
       " [a6, 0],\n",
       " [a7, 0],\n",
       " [a8, 0],\n",
       " [a9, 0]]"
      ]
     },
     "execution_count": 61,
     "metadata": {},
     "output_type": "execute_result"
    }
   ],
   "source": [
    "sol[1][1]=ax\n",
    "sol"
   ]
  },
  {
   "cell_type": "code",
   "execution_count": 62,
   "id": "ea54f96b",
   "metadata": {},
   "outputs": [
    {
     "data": {
      "text/latex": [
       "$\\displaystyle ax x$"
      ],
      "text/plain": [
       "ax*x"
      ]
     },
     "execution_count": 62,
     "metadata": {},
     "output_type": "execute_result"
    }
   ],
   "source": [
    "sin_x.subs(sol)"
   ]
  },
  {
   "cell_type": "code",
   "execution_count": 63,
   "id": "89652bd9",
   "metadata": {},
   "outputs": [
    {
     "data": {
      "text/latex": [
       "$\\displaystyle \\frac{35 ax^{9} x^{9}}{1152} + \\frac{5 ax^{7} x^{7}}{112} + \\frac{3 ax^{5} x^{5}}{40} + \\frac{ax^{3} x^{3}}{6} + ax x$"
      ],
      "text/plain": [
       "35*ax**9*x**9/1152 + 5*ax**7*x**7/112 + 3*ax**5*x**5/40 + ax**3*x**3/6 + ax*x"
      ]
     },
     "execution_count": 63,
     "metadata": {},
     "output_type": "execute_result"
    }
   ],
   "source": [
    "bx=nsimplify(expand(arcsin_x.removeO().subs(x, sin_x.subs(sol))))\n",
    "bx"
   ]
  },
  {
   "cell_type": "markdown",
   "id": "3d197303",
   "metadata": {},
   "source": [
    "恒等式 $\\sin^{-1}(\\sin(x)) = x$ より、多項式の係数を比較すると、恒等式が成立する条件は $a_{x} = 1$ のとき。"
   ]
  },
  {
   "cell_type": "code",
   "execution_count": 64,
   "id": "ac4336f9",
   "metadata": {},
   "outputs": [
    {
     "data": {
      "text/latex": [
       "$\\displaystyle ax - 1$"
      ],
      "text/plain": [
       "ax - 1"
      ]
     },
     "execution_count": 64,
     "metadata": {},
     "output_type": "execute_result"
    }
   ],
   "source": [
    "cx=poly(bx-x,x).all_coeffs()[::-1]\n",
    "cx[1]"
   ]
  },
  {
   "cell_type": "code",
   "execution_count": 66,
   "id": "115fa900",
   "metadata": {},
   "outputs": [
    {
     "data": {
      "text/plain": [
       "[1]"
      ]
     },
     "execution_count": 66,
     "metadata": {},
     "output_type": "execute_result"
    }
   ],
   "source": [
    "solve(cx[1],ax)"
   ]
  },
  {
   "cell_type": "code",
   "execution_count": null,
   "id": "3591d7b5",
   "metadata": {},
   "outputs": [],
   "source": []
  },
  {
   "cell_type": "code",
   "execution_count": null,
   "id": "f6a4990e",
   "metadata": {},
   "outputs": [],
   "source": []
  },
  {
   "cell_type": "markdown",
   "id": "e589da30",
   "metadata": {},
   "source": [
    "このように、$a_{0}$ から順に係数 $a_1$, $a_2$, $a_3$... を決めていくプログラムは次のようになる:"
   ]
  },
  {
   "cell_type": "code",
   "execution_count": 67,
   "id": "ea29e1de",
   "metadata": {},
   "outputs": [
    {
     "name": "stdout",
     "output_type": "stream",
     "text": [
      "sin(x) = ax\n",
      "a[0] = 0\n",
      "sin(x) = ax*x\n",
      "a[1] = 1\n",
      "sin(x) = ax*x**2 + x\n",
      "a[2] = 0\n",
      "sin(x) = ax*x**3 + x\n",
      "a[3] = -1/6\n",
      "sin(x) = ax*x**4 - x**3/6 + x\n",
      "a[4] = 0\n",
      "sin(x) = ax*x**5 - x**3/6 + x\n",
      "a[5] = 1/120\n",
      "sin(x) = ax*x**6 + x**5/120 - x**3/6 + x\n",
      "a[6] = 0\n",
      "sin(x) = ax*x**7 + x**5/120 - x**3/6 + x\n",
      "a[7] = -39682539682541/200000000000000000\n",
      "sin(x) = ax*x**8 - 39682539682541*x**7/200000000000000000 + x**5/120 - x**3/6 + x\n",
      "a[8] = 0\n",
      "sin(x) = ax*x**9 - 39682539682541*x**7/200000000000000000 + x**5/120 - x**3/6 + x\n",
      "a[9] = 137786596120411/50000000000000000000\n"
     ]
    },
    {
     "data": {
      "text/latex": [
       "$\\displaystyle \\frac{137786596120411 x^{9}}{50000000000000000000} - \\frac{39682539682541 x^{7}}{200000000000000000} + \\frac{x^{5}}{120} - \\frac{x^{3}}{6} + x$"
      ],
      "text/plain": [
       "137786596120411*x**9/50000000000000000000 - 39682539682541*x**7/200000000000000000 + x**5/120 - x**3/6 + x"
      ]
     },
     "execution_count": 67,
     "metadata": {},
     "output_type": "execute_result"
    }
   ],
   "source": [
    "sol=[[a[0],0],[a[1],0],[a[2],0],[a[3],0],[a[4],0],[a[5],0],[a[6],0],[a[7],0],[a[8],0],[a[9],0]]\n",
    "\n",
    "for i in range(10):\n",
    "    sol[i][1]=ax\n",
    "    print(\"sin(x) =\", sin_x.subs(sol))\n",
    "    bx=nsimplify(expand(arcsin_x.removeO().subs(x, sin_x.subs(sol))))\n",
    "    cx=poly(bx-x,x).all_coeffs()[::-1]\n",
    "    s=solve(cx[i],ax)\n",
    "    print(\"a[{:d}] =\".format(i), s[0])\n",
    "    sol[i][1]=s[0]\n",
    "\n",
    "nsimplify(sin_x.subs(sol))"
   ]
  },
  {
   "cell_type": "code",
   "execution_count": 76,
   "id": "0d4ffeb6",
   "metadata": {},
   "outputs": [
    {
     "data": {
      "text/plain": [
       "5039.999999999833"
      ]
     },
     "execution_count": 76,
     "metadata": {},
     "output_type": "execute_result"
    }
   ],
   "source": [
    "1/(39682539682541/200000000000000000)"
   ]
  },
  {
   "cell_type": "code",
   "execution_count": 87,
   "id": "ca7f9456",
   "metadata": {},
   "outputs": [
    {
     "data": {
      "text/plain": [
       "362879.9999987318"
      ]
     },
     "execution_count": 87,
     "metadata": {},
     "output_type": "execute_result"
    }
   ],
   "source": [
    "1/(137786596120411/50000000000000000000)"
   ]
  },
  {
   "cell_type": "code",
   "execution_count": 94,
   "id": "3633257a",
   "metadata": {},
   "outputs": [
    {
     "data": {
      "text/plain": [
       "[1, 1, 2, 6, 24, 120, 720, 5040, 40320, 362880, 3628800]"
      ]
     },
     "execution_count": 94,
     "metadata": {},
     "output_type": "execute_result"
    }
   ],
   "source": [
    "import math\n",
    "list(map(math.factorial, range(11)))"
   ]
  },
  {
   "cell_type": "code",
   "execution_count": 80,
   "id": "ffc9ba2f",
   "metadata": {},
   "outputs": [
    {
     "data": {
      "text/plain": [
       "[<matplotlib.lines.Line2D at 0x1289dec70>]"
      ]
     },
     "execution_count": 80,
     "metadata": {},
     "output_type": "execute_result"
    },
    {
     "data": {
      "image/png": "[encoded data removed]",
      "text/plain": [
       "<Figure size 432x288 with 1 Axes>"
      ]
     },
     "metadata": {
      "needs_background": "light"
     },
     "output_type": "display_data"
    }
   ],
   "source": [
    "import matplotlib.pyplot as plt\n",
    "import numpy as np\n",
    "\n",
    "X = np.linspace(-2*np.pi, 2*np.pi, 100)\n",
    "Y = [sin_x.subs(sol).subs(x,xi) for xi in X]\n",
    "plt.plot(X, Y)\n",
    "plt.plot(X, np.sin(X))"
   ]
  },
  {
   "cell_type": "code",
   "execution_count": null,
   "id": "0997e4f6",
   "metadata": {},
   "outputs": [],
   "source": []
  },
  {
   "cell_type": "code",
   "execution_count": null,
   "id": "bc37b3f1",
   "metadata": {},
   "outputs": [],
   "source": []
  },
  {
   "cell_type": "code",
   "execution_count": null,
   "id": "5b52748a",
   "metadata": {},
   "outputs": [],
   "source": []
  },
  {
   "cell_type": "markdown",
   "id": "dde6c5b8",
   "metadata": {},
   "source": [
    "検算:\n",
    "$$\n",
    "  \\sin(x) = x - \\frac{x^3}{3!} + \\frac{x^5}{5!} - \\frac{x^7}{7!} + \\cdots\n",
    "$$"
   ]
  },
  {
   "cell_type": "code",
   "execution_count": 130,
   "id": "a5da9c73",
   "metadata": {
    "scrolled": true
   },
   "outputs": [
    {
     "data": {
      "text/latex": [
       "$\\displaystyle x - \\frac{x^{3}}{6} + \\frac{x^{5}}{120} - \\frac{x^{7}}{5040} + \\frac{x^{9}}{362880} + O\\left(x^{10}\\right)$"
      ],
      "text/plain": [
       "x - x**3/6 + x**5/120 - x**7/5040 + x**9/362880 + O(x**10)"
      ]
     },
     "execution_count": 130,
     "metadata": {},
     "output_type": "execute_result"
    }
   ],
   "source": [
    "series(sin(x),x, 0, 10)"
   ]
  },
  {
   "cell_type": "code",
   "execution_count": null,
   "id": "6a5c6ecb",
   "metadata": {},
   "outputs": [],
   "source": []
  },
  {
   "cell_type": "code",
   "execution_count": null,
   "id": "c956f177",
   "metadata": {},
   "outputs": [],
   "source": []
  },
  {
   "cell_type": "code",
   "execution_count": null,
   "id": "b386cb5d",
   "metadata": {},
   "outputs": [],
   "source": []
  },
  {
   "cell_type": "markdown",
   "id": "e466c4e1",
   "metadata": {},
   "source": [
    "以下、力業で解く場合の続き:"
   ]
  },
  {
   "cell_type": "markdown",
   "id": "b9d97b02",
   "metadata": {},
   "source": [
    "定数項は $0$ なので、$a_{0} = 0$"
   ]
  },
  {
   "cell_type": "code",
   "execution_count": 133,
   "id": "26dda30e",
   "metadata": {},
   "outputs": [
    {
     "data": {
      "text/latex": [
       "$\\displaystyle \\frac{35 a_{1}^{9} x^{9}}{1152} + \\frac{5 a_{1}^{7} x^{7}}{112} + \\frac{3 a_{1}^{5} x^{5}}{40} + \\frac{a_{1}^{3} x^{3}}{6} + a_{1} x$"
      ],
      "text/plain": [
       "35*a1**9*x**9/1152 + 5*a1**7*x**7/112 + 3*a1**5*x**5/40 + a1**3*x**3/6 + a1*x"
      ]
     },
     "execution_count": 133,
     "metadata": {},
     "output_type": "execute_result"
    }
   ],
   "source": [
    "nsimplify(expand(asx.removeO().subs(x, a[1]*x)))"
   ]
  },
  {
   "cell_type": "code",
   "execution_count": 117,
   "id": "fa1dffdf",
   "metadata": {},
   "outputs": [
    {
     "data": {
      "text/latex": [
       "$\\displaystyle a_{1}$"
      ],
      "text/plain": [
       "a1"
      ]
     },
     "execution_count": 117,
     "metadata": {},
     "output_type": "execute_result"
    }
   ],
   "source": [
    "poly(nsimplify(expand(asx.removeO().subs(x, a[1]*x))),x).all_coeffs()[::-1][1]"
   ]
  },
  {
   "cell_type": "markdown",
   "id": "8517d3d2",
   "metadata": {},
   "source": [
    "$x$ の係数は $1$ なので、$a_{1} = 1$"
   ]
  },
  {
   "cell_type": "code",
   "execution_count": 134,
   "id": "4d90d532",
   "metadata": {},
   "outputs": [
    {
     "data": {
      "text/latex": [
       "$\\displaystyle \\frac{35 a_{2}^{9} x^{18}}{1152} + \\frac{35 a_{2}^{8} x^{17}}{128} + \\frac{35 a_{2}^{7} x^{16}}{32} + \\frac{5 a_{2}^{7} x^{14}}{112} + \\frac{245 a_{2}^{6} x^{15}}{96} + \\frac{5 a_{2}^{6} x^{13}}{16} + \\frac{245 a_{2}^{5} x^{14}}{64} + \\frac{15 a_{2}^{5} x^{12}}{16} + \\frac{3 a_{2}^{5} x^{10}}{40} + \\frac{245 a_{2}^{4} x^{13}}{64} + \\frac{25 a_{2}^{4} x^{11}}{16} + \\frac{3 a_{2}^{4} x^{9}}{8} + \\frac{245 a_{2}^{3} x^{12}}{96} + \\frac{25 a_{2}^{3} x^{10}}{16} + \\frac{3 a_{2}^{3} x^{8}}{4} + \\frac{a_{2}^{3} x^{6}}{6} + \\frac{35 a_{2}^{2} x^{11}}{32} + \\frac{15 a_{2}^{2} x^{9}}{16} + \\frac{3 a_{2}^{2} x^{7}}{4} + \\frac{a_{2}^{2} x^{5}}{2} + \\frac{35 a_{2} x^{10}}{128} + \\frac{5 a_{2} x^{8}}{16} + \\frac{3 a_{2} x^{6}}{8} + \\frac{a_{2} x^{4}}{2} + a_{2} x^{2} + \\frac{35 x^{9}}{1152} + \\frac{5 x^{7}}{112} + \\frac{3 x^{5}}{40} + \\frac{x^{3}}{6} + x$"
      ],
      "text/plain": [
       "35*a2**9*x**18/1152 + 35*a2**8*x**17/128 + 35*a2**7*x**16/32 + 5*a2**7*x**14/112 + 245*a2**6*x**15/96 + 5*a2**6*x**13/16 + 245*a2**5*x**14/64 + 15*a2**5*x**12/16 + 3*a2**5*x**10/40 + 245*a2**4*x**13/64 + 25*a2**4*x**11/16 + 3*a2**4*x**9/8 + 245*a2**3*x**12/96 + 25*a2**3*x**10/16 + 3*a2**3*x**8/4 + a2**3*x**6/6 + 35*a2**2*x**11/32 + 15*a2**2*x**9/16 + 3*a2**2*x**7/4 + a2**2*x**5/2 + 35*a2*x**10/128 + 5*a2*x**8/16 + 3*a2*x**6/8 + a2*x**4/2 + a2*x**2 + 35*x**9/1152 + 5*x**7/112 + 3*x**5/40 + x**3/6 + x"
      ]
     },
     "execution_count": 134,
     "metadata": {},
     "output_type": "execute_result"
    }
   ],
   "source": [
    "nsimplify(expand(asx.removeO().subs(x, x+a[2]*x**2)))"
   ]
  },
  {
   "cell_type": "code",
   "execution_count": 119,
   "id": "666b737a",
   "metadata": {},
   "outputs": [
    {
     "data": {
      "text/latex": [
       "$\\displaystyle a_{2}$"
      ],
      "text/plain": [
       "a2"
      ]
     },
     "execution_count": 119,
     "metadata": {},
     "output_type": "execute_result"
    }
   ],
   "source": [
    "poly(nsimplify(expand(asx.removeO().subs(x, x+a[2]*x**2))),x).all_coeffs()[::-1][2]"
   ]
  },
  {
   "cell_type": "markdown",
   "id": "1bd3d3b7",
   "metadata": {},
   "source": [
    "$a_{2} = 0$"
   ]
  },
  {
   "cell_type": "code",
   "execution_count": 135,
   "id": "9ed36eb2",
   "metadata": {},
   "outputs": [
    {
     "data": {
      "text/latex": [
       "$\\displaystyle \\frac{35 a_{3}^{9} x^{27}}{1152} + \\frac{35 a_{3}^{8} x^{25}}{128} + \\frac{35 a_{3}^{7} x^{23}}{32} + \\frac{5 a_{3}^{7} x^{21}}{112} + \\frac{245 a_{3}^{6} x^{21}}{96} + \\frac{5 a_{3}^{6} x^{19}}{16} + \\frac{245 a_{3}^{5} x^{19}}{64} + \\frac{15 a_{3}^{5} x^{17}}{16} + \\frac{3 a_{3}^{5} x^{15}}{40} + \\frac{245 a_{3}^{4} x^{17}}{64} + \\frac{25 a_{3}^{4} x^{15}}{16} + \\frac{3 a_{3}^{4} x^{13}}{8} + \\frac{245 a_{3}^{3} x^{15}}{96} + \\frac{25 a_{3}^{3} x^{13}}{16} + \\frac{3 a_{3}^{3} x^{11}}{4} + \\frac{a_{3}^{3} x^{9}}{6} + \\frac{35 a_{3}^{2} x^{13}}{32} + \\frac{15 a_{3}^{2} x^{11}}{16} + \\frac{3 a_{3}^{2} x^{9}}{4} + \\frac{a_{3}^{2} x^{7}}{2} + \\frac{35 a_{3} x^{11}}{128} + \\frac{5 a_{3} x^{9}}{16} + \\frac{3 a_{3} x^{7}}{8} + \\frac{a_{3} x^{5}}{2} + a_{3} x^{3} + \\frac{35 x^{9}}{1152} + \\frac{5 x^{7}}{112} + \\frac{3 x^{5}}{40} + \\frac{x^{3}}{6} + x$"
      ],
      "text/plain": [
       "35*a3**9*x**27/1152 + 35*a3**8*x**25/128 + 35*a3**7*x**23/32 + 5*a3**7*x**21/112 + 245*a3**6*x**21/96 + 5*a3**6*x**19/16 + 245*a3**5*x**19/64 + 15*a3**5*x**17/16 + 3*a3**5*x**15/40 + 245*a3**4*x**17/64 + 25*a3**4*x**15/16 + 3*a3**4*x**13/8 + 245*a3**3*x**15/96 + 25*a3**3*x**13/16 + 3*a3**3*x**11/4 + a3**3*x**9/6 + 35*a3**2*x**13/32 + 15*a3**2*x**11/16 + 3*a3**2*x**9/4 + a3**2*x**7/2 + 35*a3*x**11/128 + 5*a3*x**9/16 + 3*a3*x**7/8 + a3*x**5/2 + a3*x**3 + 35*x**9/1152 + 5*x**7/112 + 3*x**5/40 + x**3/6 + x"
      ]
     },
     "execution_count": 135,
     "metadata": {},
     "output_type": "execute_result"
    }
   ],
   "source": [
    "nsimplify(expand(asx.removeO().subs(x, x+a[3]*x**3)))"
   ]
  },
  {
   "cell_type": "code",
   "execution_count": 136,
   "id": "664b6e4a",
   "metadata": {},
   "outputs": [
    {
     "data": {
      "text/plain": [
       "[0,\n",
       " 1,\n",
       " 0,\n",
       " a3 + 1/6,\n",
       " 0,\n",
       " a3/2 + 3/40,\n",
       " 0,\n",
       " a3**2/2 + 3*a3/8 + 5/112,\n",
       " 0,\n",
       " a3**3/6 + 3*a3**2/4 + 5*a3/16 + 35/1152,\n",
       " 0,\n",
       " 3*a3**3/4 + 15*a3**2/16 + 35*a3/128,\n",
       " 0,\n",
       " 3*a3**4/8 + 25*a3**3/16 + 35*a3**2/32,\n",
       " 0,\n",
       " 3*a3**5/40 + 25*a3**4/16 + 245*a3**3/96,\n",
       " 0,\n",
       " 15*a3**5/16 + 245*a3**4/64,\n",
       " 0,\n",
       " 5*a3**6/16 + 245*a3**5/64,\n",
       " 0,\n",
       " 5*a3**7/112 + 245*a3**6/96,\n",
       " 0,\n",
       " 35*a3**7/32,\n",
       " 0,\n",
       " 35*a3**8/128,\n",
       " 0,\n",
       " 35*a3**9/1152]"
      ]
     },
     "execution_count": 136,
     "metadata": {},
     "output_type": "execute_result"
    }
   ],
   "source": [
    "poly(nsimplify(expand(asx.removeO().subs(x, x+a[3]*x**3))),x).all_coeffs()[::-1]"
   ]
  },
  {
   "cell_type": "code",
   "execution_count": 137,
   "id": "a675d899",
   "metadata": {},
   "outputs": [
    {
     "data": {
      "text/latex": [
       "$\\displaystyle a_{3} + \\frac{1}{6}$"
      ],
      "text/plain": [
       "a3 + 1/6"
      ]
     },
     "execution_count": 137,
     "metadata": {},
     "output_type": "execute_result"
    }
   ],
   "source": [
    "poly(nsimplify(expand(asx.removeO().subs(x, x+a[3]*x**3))),x).all_coeffs()[::-1][3]"
   ]
  },
  {
   "cell_type": "markdown",
   "id": "4e2c6160",
   "metadata": {},
   "source": [
    "$a_{3} + \\frac{1}{6} = 0$ より、$a_{3} = - \\frac{1}{6}$"
   ]
  },
  {
   "cell_type": "code",
   "execution_count": 142,
   "id": "de3bce5c",
   "metadata": {},
   "outputs": [
    {
     "data": {
      "text/latex": [
       "$\\displaystyle a_{5} - \\frac{1}{120}$"
      ],
      "text/plain": [
       "a5 - 1/120"
      ]
     },
     "execution_count": 142,
     "metadata": {},
     "output_type": "execute_result"
    }
   ],
   "source": [
    "poly(nsimplify(expand(asx.removeO().subs(x, x-1/6*x**3+a[5]*x**5))),x).all_coeffs()[::-1][5]"
   ]
  },
  {
   "cell_type": "markdown",
   "id": "9d564e97",
   "metadata": {},
   "source": [
    "$a_{5} - \\frac{1}{120} = 0$ より、$a_{5} = \\frac{1}{120}$"
   ]
  },
  {
   "cell_type": "markdown",
   "id": "12e07b74",
   "metadata": {},
   "source": [
    "$a_7$ は計算精度がたりない・・・"
   ]
  },
  {
   "cell_type": "code",
   "execution_count": 153,
   "id": "b694898c",
   "metadata": {},
   "outputs": [
    {
     "data": {
      "text/latex": [
       "$\\displaystyle a_{7} + \\frac{39682539682541}{200000000000000000}$"
      ],
      "text/plain": [
       "a7 + 39682539682541/200000000000000000"
      ]
     },
     "execution_count": 153,
     "metadata": {},
     "output_type": "execute_result"
    }
   ],
   "source": [
    "poly(nsimplify(expand(asx.removeO().subs(x, x-1/6*x**3+1/120*x**5+a[7]*x**7))),x).all_coeffs()[::-1][7]"
   ]
  },
  {
   "cell_type": "code",
   "execution_count": 151,
   "id": "aedd8389",
   "metadata": {},
   "outputs": [
    {
     "data": {
      "text/plain": [
       "5039.999999999833"
      ]
     },
     "execution_count": 151,
     "metadata": {},
     "output_type": "execute_result"
    }
   ],
   "source": [
    "200000000000000000/39682539682541"
   ]
  },
  {
   "cell_type": "code",
   "execution_count": null,
   "id": "8cd0bcf3",
   "metadata": {},
   "outputs": [],
   "source": []
  },
  {
   "cell_type": "code",
   "execution_count": null,
   "id": "59e3aea7",
   "metadata": {},
   "outputs": [],
   "source": []
  },
  {
   "cell_type": "code",
   "execution_count": null,
   "id": "f41f8982",
   "metadata": {},
   "outputs": [],
   "source": []
  }
 ],
 "metadata": {
  "celltoolbar": "Tags",
  "kernelspec": {
   "display_name": "Python 3 (ipykernel)",
   "language": "python",
   "name": "python3"
  },
  "language_info": {
   "codemirror_mode": {
    "name": "ipython",
    "version": 3
   },
   "file_extension": ".py",
   "mimetype": "text/x-python",
   "name": "python",
   "nbconvert_exporter": "python",
   "pygments_lexer": "ipython3",
   "version": "3.9.12"
  },
  "toc": {
   "base_numbering": 1,
   "nav_menu": {},
   "number_sections": true,
   "sideBar": true,
   "skip_h1_title": false,
   "title_cell": "Table of Contents",
   "title_sidebar": "Contents",
   "toc_cell": false,
   "toc_position": {},
   "toc_section_display": true,
   "toc_window_display": false
  }
 },
 "nbformat": 4,
 "nbformat_minor": 5
}
