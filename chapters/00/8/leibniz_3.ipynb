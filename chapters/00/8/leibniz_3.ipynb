{
 "cells": [
  {
   "cell_type": "code",
   "execution_count": 1,
   "id": "cf7c9696",
   "metadata": {
    "hide_input": true,
    "init_cell": true,
    "tags": [
     "remove-input"
    ]
   },
   "outputs": [],
   "source": [
    "# initialization for my classroom\n",
    "import os\n",
    "from datetime import datetime as dt\n",
    "\n",
    "def logfile(user=os.environ.get('JUPYTERHUB_USER') or 'jovyan'):\n",
    "    prefix='/srv'\n",
    "    if os.path.isdir(prefix) and os.access(prefix, os.W_OK):\n",
    "        prefix+=('/'+user)\n",
    "        if not os.path.isdir(prefix):\n",
    "            os.makedirs(prefix)\n",
    "    else:\n",
    "        prefix='.'\n",
    "    return prefix+'/'+dt.now().strftime('%Y%m%d')+'.log'\n",
    "\n",
    "path=logfile()\n",
    "#%logstop\n",
    "%logstart -otq $path append\n",
    "\n",
    "# [python - cannot override sys.excepthook - Stack Overflow](https://stackoverflow.com/questions/1261668/cannot-override-sys-excepthook/28758396)\n",
    "# https://github.com/ipython/ipython/blob/e6432249582e05f438303ce73d082a0351bb383e/IPython/core/interactiveshell.py#L1952\n",
    "\n",
    "import sys\n",
    "import traceback\n",
    "import IPython\n",
    "\n",
    "try:\n",
    "    _showtraceback\n",
    "except NameError:\n",
    "    _showtraceback=IPython.core.interactiveshell.InteractiveShell.showtraceback\n",
    "\n",
    "try:\n",
    "    _showsyntaxerror\n",
    "except NameError:\n",
    "    _showsyntaxerror=IPython.core.interactiveshell.InteractiveShell.showsyntaxerror\n",
    "\n",
    "import logging\n",
    "logging.basicConfig(filename=path.replace('.log','-exc.log'), format='%(asctime)s %(message)s', level=logging.ERROR, force=True)\n",
    "\n",
    "import sys\n",
    "import traceback\n",
    "import IPython\n",
    "\n",
    "def showtraceback(self, *args, **kwargs):\n",
    "    etype, value, tb = self._get_exc_info(kwargs.get('exc_tuple'))\n",
    "    stb = self.InteractiveTB.structured_traceback(\n",
    "        etype, value, tb, tb_offset=kwargs.get('tb_offset'))\n",
    "    logging.error(os.environ.get('JUPYTERHUB_USER') or 'jovyan')\n",
    "    logging.error(self.InteractiveTB.stb2text(stb))\n",
    "    _showtraceback(self, *args, **kwargs)\n",
    "\n",
    "def showsyntaxerror(self, *args, **kwargs):\n",
    "    etype, value, last_traceback = self._get_exc_info()\n",
    "    elist = traceback.extract_tb(last_traceback) if kwargs.get('running_compiled_code') else []\n",
    "    stb = self.SyntaxTB.structured_traceback(etype, value, elist)\n",
    "    logging.error(os.environ.get('JUPYTERHUB_USER') or 'jovyan')\n",
    "    logging.error(self.InteractiveTB.stb2text(stb))\n",
    "    _showsyntaxerror(self, *args, **kwargs)\n",
    "\n",
    "IPython.core.interactiveshell.InteractiveShell.showtraceback = showtraceback\n",
    "IPython.core.interactiveshell.InteractiveShell.showsyntaxerror = showsyntaxerror"
   ]
  },
  {
   "cell_type": "markdown",
   "id": "c20ec4da",
   "metadata": {},
   "source": [
    "# ライプニッツによる九九のない世界\n",
    "\n",
    "* [Gottfried Wilhelm Leibniz - Wikipedia](https://en.wikipedia.org/wiki/Gottfried_Wilhelm_Leibniz)\n",
    "  * [日本ライプニッツ協会](https://www-cc.gakushuin.ac.jp/~19950491/leibniz/)\n",
    "  * [Dropping In on Gottfried Leibniz—Stephen Wolfram Writings](https://writings.stephenwolfram.com/2013/05/dropping-in-on-gottfried-leibniz/)"
   ]
  },
  {
   "cell_type": "markdown",
   "id": "2bd9e7ec",
   "metadata": {},
   "source": [
    "* [Leibniz–Newton calculus controversy - Wikipedia](https://en.wikipedia.org/wiki/Leibniz%E2%80%93Newton_calculus_controversy)\n",
    "  - [Madhava series - Wikipedia](https://en.wikipedia.org/wiki/Madhava_series#Madhava's_series_in_modern_notations)"
   ]
  },
  {
   "cell_type": "markdown",
   "id": "ec85d4fd",
   "metadata": {},
   "source": [
    "## 哲学寄りの数学者\n",
    "\n",
    "* [History of the function concept - Wikipedia](https://en.wikipedia.org/wiki/History_of_the_function_concept)\n",
    "* [Leibniz's notation - Wikipedia](https://en.wikipedia.org/wiki/Leibniz%27s_notation#:~:text=In%20calculus%2C%20Leibniz%27s%20notation%2C%20named,of%20x%20and%20y%2C%20respectively.)\n",
    "* [Leibniz's rule - Wikipedia](https://en.wikipedia.org/wiki/Leibniz%27s_rule)\n",
    "  * [Product rule - Wikipedia](https://en.wikipedia.org/wiki/Product_rule)\n",
    "  * [Leibniz integral rule - Wikipedia](https://en.wikipedia.org/wiki/Leibniz_integral_rule)\n",
    "  *[Alternating series test - Wikipedia](https://en.wikipedia.org/wiki/Alternating_series_test)"
   ]
  },
  {
   "cell_type": "markdown",
   "id": "ad47ae0c",
   "metadata": {},
   "source": [
    "$$\n",
    "  \\frac{dy}{dx} = f'(x)\n",
    "$$"
   ]
  },
  {
   "cell_type": "markdown",
   "id": "68eabdcf",
   "metadata": {},
   "source": [
    "$$\n",
    "  \\int_{a(x)}^{b(x)} f(x, t) dt\n",
    "$$"
   ]
  },
  {
   "cell_type": "markdown",
   "id": "fbc403ff",
   "metadata": {},
   "source": [
    "$$\n",
    "  \\frac{d}{dx} (u \\cdot v) = \\frac{du}{dx} \\cdot v + u \\cdot \\frac{dv}{dx}\n",
    "$$"
   ]
  },
  {
   "cell_type": "markdown",
   "id": "a1069313",
   "metadata": {},
   "source": [
    "![fig-5](https://content.wolfram.com/uploads/sites/43/2013/05/8-large-a.png)"
   ]
  },
  {
   "cell_type": "markdown",
   "id": "318261bb",
   "metadata": {},
   "source": [
    "## 計算機科学者"
   ]
  },
  {
   "cell_type": "markdown",
   "id": "06645f8f",
   "metadata": {},
   "source": [
    "* [Stepped reckoner - Wikipedia](https://en.wikipedia.org/wiki/Stepped_reckoner)\n",
    "  * [Leibniz wheel - Wikipedia](https://en.wikipedia.org/wiki/Leibniz_wheel#:~:text=A%20Leibniz%20wheel%20or%20stepped,a%20class%20of%20mechanical%20calculators.)"
   ]
  },
  {
   "cell_type": "markdown",
   "id": "e8029736",
   "metadata": {},
   "source": [
    "![fig-6](https://content.wolfram.com/uploads/sites/43/2013/05/18-large-a.png)"
   ]
  },
  {
   "cell_type": "markdown",
   "id": "27e20a6b",
   "metadata": {},
   "source": [
    "* [Binary code - Wikipedia](https://en.wikipedia.org/wiki/Binary_code)\n",
    "  - [Bagua - Wikipedia](https://en.wikipedia.org/wiki/Bagua)\n",
    "  - [Hexagram (I Ching) - Wikipedia](https://en.wikipedia.org/wiki/Hexagram_%28I_Ching%29)"
   ]
  },
  {
   "cell_type": "code",
   "execution_count": 9,
   "id": "4f3eedf5",
   "metadata": {},
   "outputs": [
    {
     "data": {
      "text/plain": [
       "['0b0', '0b1', '0b10', '0b11', '0b100', '0b101', '0b110', '0b111']"
      ]
     },
     "execution_count": 9,
     "metadata": {},
     "output_type": "execute_result"
    }
   ],
   "source": [
    "[bin(c) for c in range(8)]"
   ]
  },
  {
   "cell_type": "code",
   "execution_count": 10,
   "id": "15363c32",
   "metadata": {},
   "outputs": [
    {
     "data": {
      "text/plain": [
       "['000', '001', '010', '011', '100', '101', '110', '111']"
      ]
     },
     "execution_count": 10,
     "metadata": {},
     "output_type": "execute_result"
    }
   ],
   "source": [
    "[\"{:03b}\".format(c) for c in range(8)]"
   ]
  },
  {
   "cell_type": "code",
   "execution_count": 11,
   "id": "0ab9d203",
   "metadata": {},
   "outputs": [
    {
     "data": {
      "text/plain": [
       "['☰', '☱', '☲', '☳', '☴', '☵', '☶', '☷']"
      ]
     },
     "execution_count": 11,
     "metadata": {},
     "output_type": "execute_result"
    }
   ],
   "source": [
    "[chr(c+ord(u'\\u2630')) for c in range(8)]"
   ]
  },
  {
   "cell_type": "code",
   "execution_count": 12,
   "id": "cde90e33",
   "metadata": {},
   "outputs": [
    {
     "data": {
      "text/plain": [
       "[['䷀', '䷈', '䷐', '䷘', '䷠', '䷨', '䷰', '䷸'],\n",
       " ['䷁', '䷉', '䷑', '䷙', '䷡', '䷩', '䷱', '䷹'],\n",
       " ['䷂', '䷊', '䷒', '䷚', '䷢', '䷪', '䷲', '䷺'],\n",
       " ['䷃', '䷋', '䷓', '䷛', '䷣', '䷫', '䷳', '䷻'],\n",
       " ['䷄', '䷌', '䷔', '䷜', '䷤', '䷬', '䷴', '䷼'],\n",
       " ['䷅', '䷍', '䷕', '䷝', '䷥', '䷭', '䷵', '䷽'],\n",
       " ['䷆', '䷎', '䷖', '䷞', '䷦', '䷮', '䷶', '䷾'],\n",
       " ['䷇', '䷏', '䷗', '䷟', '䷧', '䷯', '䷷', '䷿']]"
      ]
     },
     "execution_count": 12,
     "metadata": {},
     "output_type": "execute_result"
    }
   ],
   "source": [
    "[[chr(8*c1+c0+ord(u'\\u4dc0')) for c1 in range(8)] for c0 in range(8)]"
   ]
  },
  {
   "cell_type": "markdown",
   "id": "2123866a",
   "metadata": {},
   "source": [
    "![fig-1](https://content.wolfram.com/uploads/sites/43/2013/05/33-large-a.png)"
   ]
  },
  {
   "cell_type": "markdown",
   "id": "55839a5f",
   "metadata": {},
   "source": [
    "* \"omnibus ex nihilo ducendis; sufficit unum\"\n",
    "  - “everything can be derived from nothing; all that is needed is 1”\n",
    "* $0$ から $15$ までの2進数表記\n",
    "* 2進数による加算: $2+5=7$\n",
    "* 2進数による乗算: $3 \\times 5 = 15$\n",
    "* 発行年: MDCXCVII"
   ]
  },
  {
   "cell_type": "code",
   "execution_count": 306,
   "id": "9d4507f4",
   "metadata": {},
   "outputs": [],
   "source": [
    "# [Converting Roman Numerals to integers in python - Stack Overflow]\n",
    "# (https://stackoverflow.com/questions/19308177/converting-roman-numerals-to-integers-in-python)\n",
    "\n",
    "def from_roman(num):\n",
    "    roman_numerals = {'I':1, 'V':5, 'X':10, 'L':50, 'C':100, 'D':500, 'M':1000}\n",
    "    result = 0\n",
    "    for i,c in enumerate(num):\n",
    "        if (i+1) == len(num) or roman_numerals[c] >= roman_numerals[num[i+1]]:\n",
    "            result += roman_numerals[c]\n",
    "        else:\n",
    "            result -= roman_numerals[c]\n",
    "    return result"
   ]
  },
  {
   "cell_type": "code",
   "execution_count": 305,
   "id": "b960525b",
   "metadata": {
    "scrolled": true
   },
   "outputs": [
    {
     "data": {
      "text/plain": [
       "1697"
      ]
     },
     "execution_count": 305,
     "metadata": {},
     "output_type": "execute_result"
    }
   ],
   "source": [
    "from_roman(\"MDCXCVII\")"
   ]
  },
  {
   "cell_type": "markdown",
   "id": "8c13ccf1",
   "metadata": {},
   "source": [
    "###  $0$ から $15$ までの2進数表記"
   ]
  },
  {
   "cell_type": "code",
   "execution_count": 237,
   "id": "30063b4b",
   "metadata": {
    "scrolled": true
   },
   "outputs": [
    {
     "name": "stdout",
     "output_type": "stream",
     "text": [
      "0b0 0\n",
      "0b1 1\n",
      "0b10 2\n",
      "0b11 3\n",
      "0b100 4\n",
      "0b101 5\n",
      "0b110 6\n",
      "0b111 7\n",
      "0b1000 8\n",
      "0b1001 9\n",
      "0b1010 10\n",
      "0b1011 11\n",
      "0b1100 12\n",
      "0b1101 13\n",
      "0b1110 14\n",
      "0b1111 15\n"
     ]
    }
   ],
   "source": [
    "for x in range(16):\n",
    "    print(bin(x), x)"
   ]
  },
  {
   "cell_type": "code",
   "execution_count": 324,
   "id": "137f7c5f",
   "metadata": {
    "scrolled": true
   },
   "outputs": [
    {
     "name": "stdout",
     "output_type": "stream",
     "text": [
      "0 0\n",
      "1 1\n",
      "10 2\n",
      "11 3\n",
      "100 4\n",
      "101 5\n",
      "110 6\n",
      "111 7\n",
      "1000 8\n",
      "1001 9\n",
      "1010 10\n",
      "1011 11\n",
      "1100 12\n",
      "1101 13\n",
      "1110 14\n",
      "1111 15\n"
     ]
    }
   ],
   "source": [
    "for x in range(16):\n",
    "    print(bin(x)[2:], x)"
   ]
  },
  {
   "cell_type": "code",
   "execution_count": 331,
   "id": "12ef7e63",
   "metadata": {
    "scrolled": false
   },
   "outputs": [
    {
     "name": "stdout",
     "output_type": "stream",
     "text": [
      "0000 0\n",
      "0001 1\n",
      "0010 2\n",
      "0011 3\n",
      "0100 4\n",
      "0101 5\n",
      "0110 6\n",
      "0111 7\n",
      "1000 8\n",
      "1001 9\n",
      "1010 10\n",
      "1011 11\n",
      "1100 12\n",
      "1101 13\n",
      "1110 14\n",
      "1111 15\n"
     ]
    }
   ],
   "source": [
    "for x in range(16):\n",
    "    print(\"{:04b}\".format(x), x)"
   ]
  },
  {
   "cell_type": "markdown",
   "id": "e2a694aa",
   "metadata": {},
   "source": [
    "### 2進数による加算: $2+5=7$"
   ]
  },
  {
   "cell_type": "code",
   "execution_count": 325,
   "id": "09e48a23",
   "metadata": {},
   "outputs": [
    {
     "data": {
      "text/plain": [
       "('10', '101', '111')"
      ]
     },
     "execution_count": 325,
     "metadata": {},
     "output_type": "execute_result"
    }
   ],
   "source": [
    "bin(2)[2:], bin(5)[2:], bin(7)[2:]"
   ]
  },
  {
   "cell_type": "markdown",
   "id": "742c911d",
   "metadata": {},
   "source": [
    "<pre>\n",
    " 10\n",
    "<u>101</u>\n",
    "111\n",
    "</pre>"
   ]
  },
  {
   "cell_type": "markdown",
   "id": "be65cbe1",
   "metadata": {},
   "source": [
    "### 2進数による乗算: $3 \\times 5 = 15$"
   ]
  },
  {
   "cell_type": "code",
   "execution_count": 326,
   "id": "caa4bd5e",
   "metadata": {},
   "outputs": [
    {
     "data": {
      "text/plain": [
       "('101', '11', '1111')"
      ]
     },
     "execution_count": 326,
     "metadata": {},
     "output_type": "execute_result"
    }
   ],
   "source": [
    "bin(5)[2:], bin(3)[2:], bin(15)[2:]"
   ]
  },
  {
   "cell_type": "code",
   "execution_count": 327,
   "id": "74c0fbae",
   "metadata": {},
   "outputs": [
    {
     "data": {
      "text/plain": [
       "('101', '11', '101', '1010', '1111')"
      ]
     },
     "execution_count": 327,
     "metadata": {},
     "output_type": "execute_result"
    }
   ],
   "source": [
    "bin(5)[2:], bin(3)[2:], bin(5)[2:], bin(5<<1)[2:], bin(15)[2:]"
   ]
  },
  {
   "cell_type": "code",
   "execution_count": 328,
   "id": "6db74872",
   "metadata": {},
   "outputs": [
    {
     "data": {
      "text/plain": [
       "('101', '11', '101', '1010', '1111')"
      ]
     },
     "execution_count": 328,
     "metadata": {},
     "output_type": "execute_result"
    }
   ],
   "source": [
    "bin(5)[2:], bin(3)[2:], bin(5)[2:], bin(5*2)[2:], bin(15)[2:]"
   ]
  },
  {
   "cell_type": "markdown",
   "id": "9c731bd2",
   "metadata": {},
   "source": [
    "<pre>\n",
    " 101\n",
    "<u>  11</u>\n",
    " 101\n",
    "<u>101 </u>\n",
    "1111\n",
    "</pre>"
   ]
  },
  {
   "cell_type": "code",
   "execution_count": 323,
   "id": "aa212ffa",
   "metadata": {},
   "outputs": [
    {
     "data": {
      "text/plain": [
       "(15, 15)"
      ]
     },
     "execution_count": 323,
     "metadata": {},
     "output_type": "execute_result"
    }
   ],
   "source": [
    "5 + 5*2, 5 + (5<<1)"
   ]
  },
  {
   "cell_type": "markdown",
   "id": "7fcd3d3b",
   "metadata": {},
   "source": [
    "![fig-2](https://content.wolfram.com/uploads/sites/43/2013/05/26-large-a.png)"
   ]
  },
  {
   "cell_type": "code",
   "execution_count": 2,
   "id": "2555247f",
   "metadata": {},
   "outputs": [
    {
     "data": {
      "text/plain": [
       "244"
      ]
     },
     "execution_count": 2,
     "metadata": {},
     "output_type": "execute_result"
    }
   ],
   "source": [
    "x = [1,3,4,9,11,7,15,30,47,27,39,51]\n",
    "sum(x)"
   ]
  },
  {
   "cell_type": "code",
   "execution_count": 3,
   "id": "a9882f6a",
   "metadata": {},
   "outputs": [
    {
     "name": "stdout",
     "output_type": "stream",
     "text": [
      "00000001\n",
      "00000011\n",
      "00000100\n",
      "00001001\n",
      "00001011\n",
      "00000111\n",
      "00001111\n",
      "00011110\n",
      "00101111\n",
      "00011011\n",
      "00100111\n",
      "00110011\n"
     ]
    }
   ],
   "source": [
    "for n in x:\n",
    "    print(\"{:08b}\".format(n))"
   ]
  },
  {
   "cell_type": "code",
   "execution_count": 4,
   "id": "9a329ed6",
   "metadata": {
    "scrolled": true
   },
   "outputs": [
    {
     "data": {
      "text/plain": [
       "['00000001',\n",
       " '00000011',\n",
       " '00000100',\n",
       " '00001001',\n",
       " '00001011',\n",
       " '00000111',\n",
       " '00001111',\n",
       " '00011110',\n",
       " '00101111',\n",
       " '00011011',\n",
       " '00100111',\n",
       " '00110011']"
      ]
     },
     "execution_count": 4,
     "metadata": {},
     "output_type": "execute_result"
    }
   ],
   "source": [
    "y = [\"{:08b}\".format(n) for n in x]\n",
    "y"
   ]
  },
  {
   "cell_type": "markdown",
   "id": "9a1e931d",
   "metadata": {},
   "source": [
    "下の桁から計算するために逆順にソートする:"
   ]
  },
  {
   "cell_type": "code",
   "execution_count": 5,
   "id": "b6cf2a90",
   "metadata": {},
   "outputs": [
    {
     "data": {
      "text/plain": [
       "['10000000',\n",
       " '11000000',\n",
       " '00100000',\n",
       " '10010000',\n",
       " '11010000',\n",
       " '11100000',\n",
       " '11110000',\n",
       " '01111000',\n",
       " '11110100',\n",
       " '11011000',\n",
       " '11100100',\n",
       " '11001100']"
      ]
     },
     "execution_count": 5,
     "metadata": {},
     "output_type": "execute_result"
    }
   ],
   "source": [
    "[\"{:08b}\".format(n)[::-1] for n in x]"
   ]
  },
  {
   "cell_type": "markdown",
   "id": "31bd7f36",
   "metadata": {},
   "source": [
    "文字では正しく計算できないので整数に変換する:"
   ]
  },
  {
   "cell_type": "code",
   "execution_count": 6,
   "id": "bfed0c04",
   "metadata": {},
   "outputs": [
    {
     "data": {
      "text/plain": [
       "[[1, 0, 0, 0, 0, 0, 0, 0],\n",
       " [1, 1, 0, 0, 0, 0, 0, 0],\n",
       " [0, 0, 1, 0, 0, 0, 0, 0],\n",
       " [1, 0, 0, 1, 0, 0, 0, 0],\n",
       " [1, 1, 0, 1, 0, 0, 0, 0],\n",
       " [1, 1, 1, 0, 0, 0, 0, 0],\n",
       " [1, 1, 1, 1, 0, 0, 0, 0],\n",
       " [0, 1, 1, 1, 1, 0, 0, 0],\n",
       " [1, 1, 1, 1, 0, 1, 0, 0],\n",
       " [1, 1, 0, 1, 1, 0, 0, 0],\n",
       " [1, 1, 1, 0, 0, 1, 0, 0],\n",
       " [1, 1, 0, 0, 1, 1, 0, 0]]"
      ]
     },
     "execution_count": 6,
     "metadata": {},
     "output_type": "execute_result"
    }
   ],
   "source": [
    "[list(map(int,\"{:08b}\".format(n)[::-1])) for n in x]"
   ]
  },
  {
   "cell_type": "markdown",
   "id": "24c72303",
   "metadata": {},
   "source": [
    "桁毎に計算するために行と列を入れ替える:"
   ]
  },
  {
   "cell_type": "code",
   "execution_count": 7,
   "id": "72b30b4e",
   "metadata": {},
   "outputs": [
    {
     "data": {
      "text/plain": [
       "[(1, 1, 0, 1, 1, 1, 1, 0, 1, 1, 1, 1),\n",
       " (0, 1, 0, 0, 1, 1, 1, 1, 1, 1, 1, 1),\n",
       " (0, 0, 1, 0, 0, 1, 1, 1, 1, 0, 1, 0),\n",
       " (0, 0, 0, 1, 1, 0, 1, 1, 1, 1, 0, 0),\n",
       " (0, 0, 0, 0, 0, 0, 0, 1, 0, 1, 0, 1),\n",
       " (0, 0, 0, 0, 0, 0, 0, 0, 1, 0, 1, 1),\n",
       " (0, 0, 0, 0, 0, 0, 0, 0, 0, 0, 0, 0),\n",
       " (0, 0, 0, 0, 0, 0, 0, 0, 0, 0, 0, 0)]"
      ]
     },
     "execution_count": 7,
     "metadata": {},
     "output_type": "execute_result"
    }
   ],
   "source": [
    "y = list(zip(*[list(map(int,\"{:08b}\".format(n)[::-1])) for n in x]))\n",
    "y"
   ]
  },
  {
   "cell_type": "markdown",
   "id": "bf114365",
   "metadata": {},
   "source": [
    "行毎 (元の二進数表記では桁毎) に加算する:"
   ]
  },
  {
   "cell_type": "code",
   "execution_count": 8,
   "id": "f596616c",
   "metadata": {},
   "outputs": [
    {
     "data": {
      "text/plain": [
       "[10, 9, 6, 6, 3, 3, 0, 0]"
      ]
     },
     "execution_count": 8,
     "metadata": {},
     "output_type": "execute_result"
    }
   ],
   "source": [
    "z = list(map(sum,y))\n",
    "z"
   ]
  },
  {
   "cell_type": "markdown",
   "id": "232a373a",
   "metadata": {},
   "source": [
    "二進数表記に戻して、さらに計算している桁を意識してずらす (桁に対応した$2$の冪乗数を掛ける):"
   ]
  },
  {
   "cell_type": "code",
   "execution_count": 342,
   "id": "3596c1d7",
   "metadata": {},
   "outputs": [
    {
     "name": "stdout",
     "output_type": "stream",
     "text": [
      "00001010\n",
      "00010010\n",
      "00011000\n",
      "00110000\n",
      "00110000\n",
      "01100000\n",
      "00000000\n",
      "00000000\n"
     ]
    }
   ],
   "source": [
    "for i in range(8):\n",
    "    print(\"{:08b}\".format(z[i]<<i))"
   ]
  },
  {
   "cell_type": "code",
   "execution_count": 296,
   "id": "0a796ad4",
   "metadata": {},
   "outputs": [
    {
     "data": {
      "text/plain": [
       "array([  1,   2,   4,   8,  16,  32,  64, 128])"
      ]
     },
     "execution_count": 296,
     "metadata": {},
     "output_type": "execute_result"
    }
   ],
   "source": [
    "import numpy as np\n",
    "2**np.arange(8)"
   ]
  },
  {
   "cell_type": "code",
   "execution_count": 341,
   "id": "bd44ff5c",
   "metadata": {
    "scrolled": true
   },
   "outputs": [
    {
     "name": "stdout",
     "output_type": "stream",
     "text": [
      "00001010\n",
      "00010010\n",
      "00011000\n",
      "00110000\n",
      "00110000\n",
      "01100000\n",
      "00000000\n",
      "00000000\n"
     ]
    }
   ],
   "source": [
    "for n in z * 2**np.arange(8):\n",
    "    print(\"{:08b}\".format(n))"
   ]
  },
  {
   "cell_type": "markdown",
   "id": "8169714c",
   "metadata": {},
   "source": [
    "足し合わせると答えが出る:"
   ]
  },
  {
   "cell_type": "code",
   "execution_count": 339,
   "id": "ca16fffd",
   "metadata": {},
   "outputs": [
    {
     "data": {
      "text/plain": [
       "array([10, 18, 24, 48, 48, 96,  0,  0])"
      ]
     },
     "execution_count": 339,
     "metadata": {},
     "output_type": "execute_result"
    }
   ],
   "source": [
    "z * 2**np.arange(8)"
   ]
  },
  {
   "cell_type": "code",
   "execution_count": 340,
   "id": "dcdf6354",
   "metadata": {},
   "outputs": [
    {
     "data": {
      "text/plain": [
       "244"
      ]
     },
     "execution_count": 340,
     "metadata": {},
     "output_type": "execute_result"
    }
   ],
   "source": [
    "sum(z * 2**np.arange(8))"
   ]
  },
  {
   "cell_type": "code",
   "execution_count": 343,
   "id": "2ea7d6d8",
   "metadata": {},
   "outputs": [
    {
     "data": {
      "text/plain": [
       "244"
      ]
     },
     "execution_count": 343,
     "metadata": {},
     "output_type": "execute_result"
    }
   ],
   "source": [
    "(z * 2**np.arange(8)).sum()"
   ]
  },
  {
   "cell_type": "markdown",
   "id": "12ce7dfc",
   "metadata": {},
   "source": [
    "ベクトルの内積計算の使い所:"
   ]
  },
  {
   "cell_type": "code",
   "execution_count": 344,
   "id": "449fab3d",
   "metadata": {},
   "outputs": [
    {
     "data": {
      "text/plain": [
       "244"
      ]
     },
     "execution_count": 344,
     "metadata": {},
     "output_type": "execute_result"
    }
   ],
   "source": [
    "z @ 2**np.arange(8)"
   ]
  },
  {
   "cell_type": "code",
   "execution_count": null,
   "id": "37f781b1",
   "metadata": {},
   "outputs": [],
   "source": []
  },
  {
   "cell_type": "code",
   "execution_count": null,
   "id": "b9d04264",
   "metadata": {},
   "outputs": [],
   "source": []
  },
  {
   "cell_type": "code",
   "execution_count": null,
   "id": "75cd3641",
   "metadata": {},
   "outputs": [],
   "source": []
  }
 ],
 "metadata": {
  "kernelspec": {
   "display_name": "Python 3 (ipykernel)",
   "language": "python",
   "name": "python3"
  },
  "language_info": {
   "codemirror_mode": {
    "name": "ipython",
    "version": 3
   },
   "file_extension": ".py",
   "mimetype": "text/x-python",
   "name": "python",
   "nbconvert_exporter": "python",
   "pygments_lexer": "ipython3",
   "version": "3.9.12"
  },
  "toc": {
   "base_numbering": 1,
   "nav_menu": {},
   "number_sections": true,
   "sideBar": true,
   "skip_h1_title": false,
   "title_cell": "Table of Contents",
   "title_sidebar": "Contents",
   "toc_cell": false,
   "toc_position": {},
   "toc_section_display": true,
   "toc_window_display": false
  }
 },
 "nbformat": 4,
 "nbformat_minor": 5
}
