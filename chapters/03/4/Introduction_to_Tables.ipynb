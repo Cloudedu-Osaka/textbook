{
 "cells": [
  {
   "cell_type": "code",
   "execution_count": null,
   "metadata": {
    "hide_input": true,
    "init_cell": true,
    "tags": [
     "remove-input"
    ]
   },
   "outputs": [],
   "source": [
    "# initialization for my classroom\n",
    "import os\n",
    "from datetime import datetime as dt\n",
    "\n",
    "def logfile(user=os.environ.get('JUPYTERHUB_USER') or 'jovyan'):\n",
    "    prefix='/srv'\n",
    "    if os.path.isdir(prefix) and os.access(prefix, os.W_OK):\n",
    "        prefix+=('/'+user)\n",
    "        if not os.path.isdir(prefix):\n",
    "            os.makedirs(prefix)\n",
    "    else:\n",
    "        prefix='.'\n",
    "    return prefix+'/'+dt.now().strftime('%Y%m%d')+'.log'\n",
    "\n",
    "path=logfile()\n",
    "#%logstop\n",
    "%logstart -otq $path append\n",
    "\n",
    "# [python - cannot override sys.excepthook - Stack Overflow](https://stackoverflow.com/questions/1261668/cannot-override-sys-excepthook/28758396)\n",
    "# https://github.com/ipython/ipython/blob/e6432249582e05f438303ce73d082a0351bb383e/IPython/core/interactiveshell.py#L1952\n",
    "\n",
    "import sys\n",
    "import traceback\n",
    "import IPython\n",
    "\n",
    "try:\n",
    "    _showtraceback\n",
    "except NameError:\n",
    "    _showtraceback=IPython.core.interactiveshell.InteractiveShell.showtraceback\n",
    "\n",
    "import logging\n",
    "logging.basicConfig(filename=path.replace('.log','-exc.log'), format='%(asctime)s %(message)s', level=logging.ERROR, force=True)\n",
    "\n",
    "import sys\n",
    "import traceback\n",
    "import IPython\n",
    "\n",
    "def showtraceback(self, *args, **kwargs):\n",
    "    etype, value, tb = self._get_exc_info(kwargs.get('exc_tuple'))\n",
    "    stb = self.InteractiveTB.structured_traceback(\n",
    "        etype, value, tb, tb_offset=kwargs.get('tb_offset'))\n",
    "    logging.error(os.environ.get('JUPYTERHUB_USER') or 'jovyan')\n",
    "    logging.error(self.InteractiveTB.stb2text(stb))\n",
    "    _showtraceback(self, *args, **kwargs)\n",
    "\n",
    "IPython.core.interactiveshell.InteractiveShell.showtraceback = showtraceback"
   ]
  },
  {
   "cell_type": "code",
   "execution_count": 1,
   "metadata": {
    "hide_input": false,
    "init_cell": true,
    "tags": [
     "hide-input"
    ]
   },
   "outputs": [],
   "source": [
    "from datascience import *\n",
    "path_data = '../../../assets/data/'\n",
    "import numpy as np\n",
    "%matplotlib inline\n",
    "import matplotlib.pyplot as plots\n",
    "plots.style.use('fivethirtyeight')\n",
    "\n",
    "cones = Table.read_table(path_data + 'cones.csv')\n",
    "nba = Table.read_table(path_data + 'nba_salaries.csv').relabeled(3, 'SALARY')\n",
    "movies = Table.read_table(path_data + 'movies_by_year.csv')"
   ]
  },
  {
   "cell_type": "markdown",
   "metadata": {},
   "source": [
    "# Introduction to Tables\n",
    "\n",
    "Pythonを活用してデータを分析することができるようになりました。ここでは表構造に格納されたデータを扱います。\n",
    "\n",
    "表はデータセットを表現する基本的な方法です。表は2つの方法で参照することができます:\n",
    "* 各々がデータセット内の全エントリの単一の属性を記述する、名前付きカラム (columns) の列\n",
    "* データセットに含まれる各個に関するすべての情報を含む行 (rows) の列\n",
    "\n",
    "テーブルについては、次の章以降で詳しく説明します。今のところ、技術的な詳細には触れずに、いくつかの方法を紹介するだけにとどめておきます。\n",
    "\n",
    "`cones` テーブルは既にインポートされています; 後でその方法を見ますが、ここではそれを使って作業するだけです。まず、それを見てみましょう。"
   ]
  },
  {
   "cell_type": "code",
   "execution_count": 2,
   "metadata": {},
   "outputs": [
    {
     "data": {
      "text/html": [
       "<table border=\"1\" class=\"dataframe\">\n",
       "    <thead>\n",
       "        <tr>\n",
       "            <th>Flavor</th> <th>Color</th> <th>Price</th>\n",
       "        </tr>\n",
       "    </thead>\n",
       "    <tbody>\n",
       "        <tr>\n",
       "            <td>strawberry</td> <td>pink       </td> <td>3.55 </td>\n",
       "        </tr>\n",
       "        <tr>\n",
       "            <td>chocolate </td> <td>light brown</td> <td>4.75 </td>\n",
       "        </tr>\n",
       "        <tr>\n",
       "            <td>chocolate </td> <td>dark brown </td> <td>5.25 </td>\n",
       "        </tr>\n",
       "        <tr>\n",
       "            <td>strawberry</td> <td>pink       </td> <td>5.25 </td>\n",
       "        </tr>\n",
       "        <tr>\n",
       "            <td>chocolate </td> <td>dark brown </td> <td>5.25 </td>\n",
       "        </tr>\n",
       "        <tr>\n",
       "            <td>bubblegum </td> <td>pink       </td> <td>4.75 </td>\n",
       "        </tr>\n",
       "    </tbody>\n",
       "</table>"
      ],
      "text/plain": [
       "Flavor     | Color       | Price\n",
       "strawberry | pink        | 3.55\n",
       "chocolate  | light brown | 4.75\n",
       "chocolate  | dark brown  | 5.25\n",
       "strawberry | pink        | 5.25\n",
       "chocolate  | dark brown  | 5.25\n",
       "bubblegum  | pink        | 4.75"
      ]
     },
     "execution_count": 2,
     "metadata": {},
     "output_type": "execute_result"
    }
   ],
   "source": [
    "cones"
   ]
  },
  {
   "cell_type": "code",
   "execution_count": null,
   "metadata": {
    "tags": [
     "remove-input"
    ]
   },
   "outputs": [],
   "source": []
  },
  {
   "cell_type": "code",
   "execution_count": null,
   "metadata": {
    "tags": [
     "remove-input"
    ]
   },
   "outputs": [],
   "source": []
  },
  {
   "cell_type": "markdown",
   "metadata": {},
   "source": [
    "この表には6つの行があります。各行が1つのアイスクリームコーンに対応しています。アイスクリームコーンはバラ売りです。\n",
    "\n",
    "各コーンはフレーバー、色、価格の3つの属性を持っています。各列はこれらの属性のうちの1つに関するデータを含むので、任意の1つの列のすべてのエントリは同じ種類です。各列はラベルを持ちます。我々は列をそのラベルで呼ぶことにします。\n",
    "\n",
    "テーブルメソッド *method* は関数に似ていますが、テーブルに対して操作します。呼び出しは次のようになります。\n",
    "\n",
    "`name_of_table.method(arguments)`\n",
    "\n",
    "たとえば、テーブルの最初の2行だけを表示したい場合は、テーブルメソッド `show` を使用することができます。"
   ]
  },
  {
   "cell_type": "code",
   "execution_count": 3,
   "metadata": {},
   "outputs": [
    {
     "data": {
      "text/html": [
       "<table border=\"1\" class=\"dataframe\">\n",
       "    <thead>\n",
       "        <tr>\n",
       "            <th>Flavor</th> <th>Color</th> <th>Price</th>\n",
       "        </tr>\n",
       "    </thead>\n",
       "    <tbody>\n",
       "        <tr>\n",
       "            <td>strawberry</td> <td>pink       </td> <td>3.55 </td>\n",
       "        </tr>\n",
       "        <tr>\n",
       "            <td>chocolate </td> <td>light brown</td> <td>4.75 </td>\n",
       "        </tr>\n",
       "    </tbody>\n",
       "</table>\n",
       "<p>... (4 rows omitted)</p>"
      ],
      "text/plain": [
       "<IPython.core.display.HTML object>"
      ]
     },
     "metadata": {},
     "output_type": "display_data"
    }
   ],
   "source": [
    "cones.show(2)"
   ]
  },
  {
   "cell_type": "code",
   "execution_count": null,
   "metadata": {
    "tags": [
     "remove-input"
    ]
   },
   "outputs": [],
   "source": []
  },
  {
   "cell_type": "code",
   "execution_count": null,
   "metadata": {
    "tags": [
     "remove-input"
    ]
   },
   "outputs": [],
   "source": []
  },
  {
   "cell_type": "markdown",
   "metadata": {},
   "source": [
    "2を任意の列の数で置き換えることができます。もし、6つ以上の列を要求した場合、 `cones` は6列しかないので、6つしか得られません。"
   ]
  },
  {
   "cell_type": "markdown",
   "metadata": {},
   "source": [
    "## Choosing Sets of Columns\n",
    "`select` メソッドは、指定された列のみからなる新しいテーブルを作成します。"
   ]
  },
  {
   "cell_type": "code",
   "execution_count": 4,
   "metadata": {},
   "outputs": [
    {
     "data": {
      "text/html": [
       "<table border=\"1\" class=\"dataframe\">\n",
       "    <thead>\n",
       "        <tr>\n",
       "            <th>Flavor</th>\n",
       "        </tr>\n",
       "    </thead>\n",
       "    <tbody>\n",
       "        <tr>\n",
       "            <td>strawberry</td>\n",
       "        </tr>\n",
       "        <tr>\n",
       "            <td>chocolate </td>\n",
       "        </tr>\n",
       "        <tr>\n",
       "            <td>chocolate </td>\n",
       "        </tr>\n",
       "        <tr>\n",
       "            <td>strawberry</td>\n",
       "        </tr>\n",
       "        <tr>\n",
       "            <td>chocolate </td>\n",
       "        </tr>\n",
       "        <tr>\n",
       "            <td>bubblegum </td>\n",
       "        </tr>\n",
       "    </tbody>\n",
       "</table>"
      ],
      "text/plain": [
       "Flavor\n",
       "strawberry\n",
       "chocolate\n",
       "chocolate\n",
       "strawberry\n",
       "chocolate\n",
       "bubblegum"
      ]
     },
     "execution_count": 4,
     "metadata": {},
     "output_type": "execute_result"
    }
   ],
   "source": [
    "cones.select('Flavor')"
   ]
  },
  {
   "cell_type": "code",
   "execution_count": null,
   "metadata": {
    "tags": [
     "remove-input"
    ]
   },
   "outputs": [],
   "source": []
  },
  {
   "cell_type": "code",
   "execution_count": null,
   "metadata": {
    "tags": [
     "remove-input"
    ]
   },
   "outputs": [],
   "source": []
  },
  {
   "cell_type": "markdown",
   "metadata": {},
   "source": [
    "これにより、元のテーブルが変更されることはありません。"
   ]
  },
  {
   "cell_type": "code",
   "execution_count": 5,
   "metadata": {},
   "outputs": [
    {
     "data": {
      "text/html": [
       "<table border=\"1\" class=\"dataframe\">\n",
       "    <thead>\n",
       "        <tr>\n",
       "            <th>Flavor</th> <th>Color</th> <th>Price</th>\n",
       "        </tr>\n",
       "    </thead>\n",
       "    <tbody>\n",
       "        <tr>\n",
       "            <td>strawberry</td> <td>pink       </td> <td>3.55 </td>\n",
       "        </tr>\n",
       "        <tr>\n",
       "            <td>chocolate </td> <td>light brown</td> <td>4.75 </td>\n",
       "        </tr>\n",
       "        <tr>\n",
       "            <td>chocolate </td> <td>dark brown </td> <td>5.25 </td>\n",
       "        </tr>\n",
       "        <tr>\n",
       "            <td>strawberry</td> <td>pink       </td> <td>5.25 </td>\n",
       "        </tr>\n",
       "        <tr>\n",
       "            <td>chocolate </td> <td>dark brown </td> <td>5.25 </td>\n",
       "        </tr>\n",
       "        <tr>\n",
       "            <td>bubblegum </td> <td>pink       </td> <td>4.75 </td>\n",
       "        </tr>\n",
       "    </tbody>\n",
       "</table>"
      ],
      "text/plain": [
       "Flavor     | Color       | Price\n",
       "strawberry | pink        | 3.55\n",
       "chocolate  | light brown | 4.75\n",
       "chocolate  | dark brown  | 5.25\n",
       "strawberry | pink        | 5.25\n",
       "chocolate  | dark brown  | 5.25\n",
       "bubblegum  | pink        | 4.75"
      ]
     },
     "execution_count": 5,
     "metadata": {},
     "output_type": "execute_result"
    }
   ],
   "source": [
    "cones"
   ]
  },
  {
   "cell_type": "code",
   "execution_count": null,
   "metadata": {
    "tags": [
     "remove-input"
    ]
   },
   "outputs": [],
   "source": []
  },
  {
   "cell_type": "code",
   "execution_count": null,
   "metadata": {
    "tags": [
     "remove-input"
    ]
   },
   "outputs": [],
   "source": []
  },
  {
   "cell_type": "markdown",
   "metadata": {},
   "source": [
    "列のラベルをカンマで区切ることにより、複数の列を選択することができます。"
   ]
  },
  {
   "cell_type": "code",
   "execution_count": 6,
   "metadata": {},
   "outputs": [
    {
     "data": {
      "text/html": [
       "<table border=\"1\" class=\"dataframe\">\n",
       "    <thead>\n",
       "        <tr>\n",
       "            <th>Flavor</th> <th>Price</th>\n",
       "        </tr>\n",
       "    </thead>\n",
       "    <tbody>\n",
       "        <tr>\n",
       "            <td>strawberry</td> <td>3.55 </td>\n",
       "        </tr>\n",
       "        <tr>\n",
       "            <td>chocolate </td> <td>4.75 </td>\n",
       "        </tr>\n",
       "        <tr>\n",
       "            <td>chocolate </td> <td>5.25 </td>\n",
       "        </tr>\n",
       "        <tr>\n",
       "            <td>strawberry</td> <td>5.25 </td>\n",
       "        </tr>\n",
       "        <tr>\n",
       "            <td>chocolate </td> <td>5.25 </td>\n",
       "        </tr>\n",
       "        <tr>\n",
       "            <td>bubblegum </td> <td>4.75 </td>\n",
       "        </tr>\n",
       "    </tbody>\n",
       "</table>"
      ],
      "text/plain": [
       "Flavor     | Price\n",
       "strawberry | 3.55\n",
       "chocolate  | 4.75\n",
       "chocolate  | 5.25\n",
       "strawberry | 5.25\n",
       "chocolate  | 5.25\n",
       "bubblegum  | 4.75"
      ]
     },
     "execution_count": 6,
     "metadata": {},
     "output_type": "execute_result"
    }
   ],
   "source": [
    "cones.select('Flavor', 'Price')"
   ]
  },
  {
   "cell_type": "code",
   "execution_count": null,
   "metadata": {
    "tags": [
     "remove-input"
    ]
   },
   "outputs": [],
   "source": []
  },
  {
   "cell_type": "code",
   "execution_count": null,
   "metadata": {
    "tags": [
     "remove-input"
    ]
   },
   "outputs": [],
   "source": []
  },
  {
   "cell_type": "markdown",
   "metadata": {},
   "source": [
    "また、不要な列をドロップすることも可能です。上の表は、 `Color` のカラムをドロップすることで作成できます。"
   ]
  },
  {
   "cell_type": "code",
   "execution_count": 7,
   "metadata": {},
   "outputs": [
    {
     "data": {
      "text/html": [
       "<table border=\"1\" class=\"dataframe\">\n",
       "    <thead>\n",
       "        <tr>\n",
       "            <th>Flavor</th> <th>Price</th>\n",
       "        </tr>\n",
       "    </thead>\n",
       "    <tbody>\n",
       "        <tr>\n",
       "            <td>strawberry</td> <td>3.55 </td>\n",
       "        </tr>\n",
       "        <tr>\n",
       "            <td>chocolate </td> <td>4.75 </td>\n",
       "        </tr>\n",
       "        <tr>\n",
       "            <td>chocolate </td> <td>5.25 </td>\n",
       "        </tr>\n",
       "        <tr>\n",
       "            <td>strawberry</td> <td>5.25 </td>\n",
       "        </tr>\n",
       "        <tr>\n",
       "            <td>chocolate </td> <td>5.25 </td>\n",
       "        </tr>\n",
       "        <tr>\n",
       "            <td>bubblegum </td> <td>4.75 </td>\n",
       "        </tr>\n",
       "    </tbody>\n",
       "</table>"
      ],
      "text/plain": [
       "Flavor     | Price\n",
       "strawberry | 3.55\n",
       "chocolate  | 4.75\n",
       "chocolate  | 5.25\n",
       "strawberry | 5.25\n",
       "chocolate  | 5.25\n",
       "bubblegum  | 4.75"
      ]
     },
     "execution_count": 7,
     "metadata": {},
     "output_type": "execute_result"
    }
   ],
   "source": [
    "cones.drop('Color')"
   ]
  },
  {
   "cell_type": "code",
   "execution_count": null,
   "metadata": {
    "tags": [
     "remove-input"
    ]
   },
   "outputs": [],
   "source": []
  },
  {
   "cell_type": "code",
   "execution_count": null,
   "metadata": {
    "tags": [
     "remove-input"
    ]
   },
   "outputs": [],
   "source": []
  },
  {
   "cell_type": "markdown",
   "metadata": {},
   "source": [
    "この新しいテーブルに名前を付けて、その名前を入力するだけで再び参照することができます。"
   ]
  },
  {
   "cell_type": "code",
   "execution_count": 8,
   "metadata": {},
   "outputs": [
    {
     "data": {
      "text/html": [
       "<table border=\"1\" class=\"dataframe\">\n",
       "    <thead>\n",
       "        <tr>\n",
       "            <th>Flavor</th> <th>Price</th>\n",
       "        </tr>\n",
       "    </thead>\n",
       "    <tbody>\n",
       "        <tr>\n",
       "            <td>strawberry</td> <td>3.55 </td>\n",
       "        </tr>\n",
       "        <tr>\n",
       "            <td>chocolate </td> <td>4.75 </td>\n",
       "        </tr>\n",
       "        <tr>\n",
       "            <td>chocolate </td> <td>5.25 </td>\n",
       "        </tr>\n",
       "        <tr>\n",
       "            <td>strawberry</td> <td>5.25 </td>\n",
       "        </tr>\n",
       "        <tr>\n",
       "            <td>chocolate </td> <td>5.25 </td>\n",
       "        </tr>\n",
       "        <tr>\n",
       "            <td>bubblegum </td> <td>4.75 </td>\n",
       "        </tr>\n",
       "    </tbody>\n",
       "</table>"
      ],
      "text/plain": [
       "Flavor     | Price\n",
       "strawberry | 3.55\n",
       "chocolate  | 4.75\n",
       "chocolate  | 5.25\n",
       "strawberry | 5.25\n",
       "chocolate  | 5.25\n",
       "bubblegum  | 4.75"
      ]
     },
     "execution_count": 8,
     "metadata": {},
     "output_type": "execute_result"
    }
   ],
   "source": [
    "no_colors = cones.drop('Color')\n",
    "\n",
    "no_colors"
   ]
  },
  {
   "cell_type": "code",
   "execution_count": null,
   "metadata": {
    "tags": [
     "remove-input"
    ]
   },
   "outputs": [],
   "source": []
  },
  {
   "cell_type": "code",
   "execution_count": null,
   "metadata": {
    "tags": [
     "remove-input"
    ]
   },
   "outputs": [],
   "source": []
  },
  {
   "cell_type": "markdown",
   "metadata": {},
   "source": [
    "`select` と同様に、 `drop` メソッドでも小さなテーブルが作成され、元のテーブルは変更されずに残ります。データを調査するために、列の選択またはドロップを使用して、任意の数の小さなテーブルを作成することができます。元のデータテーブルに害を与えることはありません。"
   ]
  },
  {
   "cell_type": "markdown",
   "metadata": {},
   "source": [
    "## Sorting Rows"
   ]
  },
  {
   "cell_type": "markdown",
   "metadata": {},
   "source": [
    "`sort` メソッドは、元のテーブルの行を指定した列の値の昇順に並べることで、新しいテーブルを作成します。ここでは、 `cones` のテーブルがコーンの値段の昇順にソートされています。"
   ]
  },
  {
   "cell_type": "code",
   "execution_count": 9,
   "metadata": {},
   "outputs": [
    {
     "data": {
      "text/html": [
       "<table border=\"1\" class=\"dataframe\">\n",
       "    <thead>\n",
       "        <tr>\n",
       "            <th>Flavor</th> <th>Color</th> <th>Price</th>\n",
       "        </tr>\n",
       "    </thead>\n",
       "    <tbody>\n",
       "        <tr>\n",
       "            <td>strawberry</td> <td>pink       </td> <td>3.55 </td>\n",
       "        </tr>\n",
       "        <tr>\n",
       "            <td>chocolate </td> <td>light brown</td> <td>4.75 </td>\n",
       "        </tr>\n",
       "        <tr>\n",
       "            <td>bubblegum </td> <td>pink       </td> <td>4.75 </td>\n",
       "        </tr>\n",
       "        <tr>\n",
       "            <td>chocolate </td> <td>dark brown </td> <td>5.25 </td>\n",
       "        </tr>\n",
       "        <tr>\n",
       "            <td>strawberry</td> <td>pink       </td> <td>5.25 </td>\n",
       "        </tr>\n",
       "        <tr>\n",
       "            <td>chocolate </td> <td>dark brown </td> <td>5.25 </td>\n",
       "        </tr>\n",
       "    </tbody>\n",
       "</table>"
      ],
      "text/plain": [
       "Flavor     | Color       | Price\n",
       "strawberry | pink        | 3.55\n",
       "chocolate  | light brown | 4.75\n",
       "bubblegum  | pink        | 4.75\n",
       "chocolate  | dark brown  | 5.25\n",
       "strawberry | pink        | 5.25\n",
       "chocolate  | dark brown  | 5.25"
      ]
     },
     "execution_count": 9,
     "metadata": {},
     "output_type": "execute_result"
    }
   ],
   "source": [
    "cones.sort('Price')"
   ]
  },
  {
   "cell_type": "code",
   "execution_count": null,
   "metadata": {
    "tags": [
     "remove-input"
    ]
   },
   "outputs": [],
   "source": []
  },
  {
   "cell_type": "code",
   "execution_count": null,
   "metadata": {
    "tags": [
     "remove-input"
    ]
   },
   "outputs": [],
   "source": []
  },
  {
   "cell_type": "markdown",
   "metadata": {},
   "source": [
    "降順に並べ替えるには、`sort` のオプションの引数を使用します。 オプション引数はその名の通り、使わなくてもよいものですが、 メソッドのデフォルトの振る舞いを変えたい場合に使用します。 \n",
    "\n",
    "デフォルトでは、 `sort` は指定された列の値の昇順でソートします。降順でソートするには、オプションの引数  `descending=True` を使用します。"
   ]
  },
  {
   "cell_type": "code",
   "execution_count": 10,
   "metadata": {},
   "outputs": [
    {
     "data": {
      "text/html": [
       "<table border=\"1\" class=\"dataframe\">\n",
       "    <thead>\n",
       "        <tr>\n",
       "            <th>Flavor</th> <th>Color</th> <th>Price</th>\n",
       "        </tr>\n",
       "    </thead>\n",
       "    <tbody>\n",
       "        <tr>\n",
       "            <td>chocolate </td> <td>dark brown </td> <td>5.25 </td>\n",
       "        </tr>\n",
       "        <tr>\n",
       "            <td>strawberry</td> <td>pink       </td> <td>5.25 </td>\n",
       "        </tr>\n",
       "        <tr>\n",
       "            <td>chocolate </td> <td>dark brown </td> <td>5.25 </td>\n",
       "        </tr>\n",
       "        <tr>\n",
       "            <td>bubblegum </td> <td>pink       </td> <td>4.75 </td>\n",
       "        </tr>\n",
       "        <tr>\n",
       "            <td>chocolate </td> <td>light brown</td> <td>4.75 </td>\n",
       "        </tr>\n",
       "        <tr>\n",
       "            <td>strawberry</td> <td>pink       </td> <td>3.55 </td>\n",
       "        </tr>\n",
       "    </tbody>\n",
       "</table>"
      ],
      "text/plain": [
       "Flavor     | Color       | Price\n",
       "chocolate  | dark brown  | 5.25\n",
       "strawberry | pink        | 5.25\n",
       "chocolate  | dark brown  | 5.25\n",
       "bubblegum  | pink        | 4.75\n",
       "chocolate  | light brown | 4.75\n",
       "strawberry | pink        | 3.55"
      ]
     },
     "execution_count": 10,
     "metadata": {},
     "output_type": "execute_result"
    }
   ],
   "source": [
    "cones.sort('Price', descending=True)"
   ]
  },
  {
   "cell_type": "code",
   "execution_count": null,
   "metadata": {
    "tags": [
     "remove-input"
    ]
   },
   "outputs": [],
   "source": []
  },
  {
   "cell_type": "code",
   "execution_count": null,
   "metadata": {
    "tags": [
     "remove-input"
    ]
   },
   "outputs": [],
   "source": []
  },
  {
   "cell_type": "markdown",
   "metadata": {},
   "source": [
    "`select` and `drop`と同様に、`sort` 方式では元のテーブルが変更されることはありません。"
   ]
  },
  {
   "cell_type": "markdown",
   "metadata": {},
   "source": [
    "## Selecting Rows that Satisfy a Condition\n",
    "The `where` メソッドは、指定された条件を満たす行のみからなる新しいテーブルを作成します。この節では、指定した列の値が、同じく指定した値と等しくなければならないという非常に単純な条件を扱います。したがって、 `where` メソッドには2つの引数を与えます。\n",
    "\n",
    "下のセルにあるコードは、チョコレートコーンに対応する行だけからなる表を作成します。"
   ]
  },
  {
   "cell_type": "code",
   "execution_count": 11,
   "metadata": {
    "scrolled": true
   },
   "outputs": [
    {
     "data": {
      "text/html": [
       "<table border=\"1\" class=\"dataframe\">\n",
       "    <thead>\n",
       "        <tr>\n",
       "            <th>Flavor</th> <th>Color</th> <th>Price</th>\n",
       "        </tr>\n",
       "    </thead>\n",
       "    <tbody>\n",
       "        <tr>\n",
       "            <td>chocolate</td> <td>light brown</td> <td>4.75 </td>\n",
       "        </tr>\n",
       "        <tr>\n",
       "            <td>chocolate</td> <td>dark brown </td> <td>5.25 </td>\n",
       "        </tr>\n",
       "        <tr>\n",
       "            <td>chocolate</td> <td>dark brown </td> <td>5.25 </td>\n",
       "        </tr>\n",
       "    </tbody>\n",
       "</table>"
      ],
      "text/plain": [
       "Flavor    | Color       | Price\n",
       "chocolate | light brown | 4.75\n",
       "chocolate | dark brown  | 5.25\n",
       "chocolate | dark brown  | 5.25"
      ]
     },
     "execution_count": 11,
     "metadata": {},
     "output_type": "execute_result"
    }
   ],
   "source": [
    "cones.where('Flavor', 'chocolate')"
   ]
  },
  {
   "cell_type": "code",
   "execution_count": null,
   "metadata": {
    "tags": [
     "remove-input"
    ]
   },
   "outputs": [],
   "source": []
  },
  {
   "cell_type": "code",
   "execution_count": null,
   "metadata": {
    "tags": [
     "remove-input"
    ]
   },
   "outputs": [],
   "source": []
  },
  {
   "cell_type": "markdown",
   "metadata": {},
   "source": [
    "引数はカンマで区切られ、列のラベルとその列で探している値を取ります。 `where` メソッドは、行が満たすべき条件がより複雑な場合にも使うことができます。そのような状況では、呼び出しも少し複雑になります。\n",
    "\n",
    "値を正確に指定することが重要です。例えば、`chocolate`ではなく、`Chocolate`を指定すると、 `where` はフレーバーが`Chocolate`の行を正しく見つけることができません。"
   ]
  },
  {
   "cell_type": "code",
   "execution_count": 12,
   "metadata": {},
   "outputs": [
    {
     "data": {
      "text/html": [
       "<table border=\"1\" class=\"dataframe\">\n",
       "    <thead>\n",
       "        <tr>\n",
       "            <th>Flavor</th> <th>Color</th> <th>Price</th>\n",
       "        </tr>\n",
       "    </thead>\n",
       "    <tbody>\n",
       "    </tbody>\n",
       "</table>"
      ],
      "text/plain": [
       "Flavor | Color | Price"
      ]
     },
     "execution_count": 12,
     "metadata": {},
     "output_type": "execute_result"
    }
   ],
   "source": [
    "cones.where('Flavor', 'Chocolate')"
   ]
  },
  {
   "cell_type": "code",
   "execution_count": null,
   "metadata": {
    "tags": [
     "remove-input"
    ]
   },
   "outputs": [],
   "source": []
  },
  {
   "cell_type": "code",
   "execution_count": null,
   "metadata": {
    "tags": [
     "remove-input"
    ]
   },
   "outputs": [],
   "source": []
  },
  {
   "cell_type": "markdown",
   "metadata": {},
   "source": [
    "このセクションの他のすべてのテーブルメソッドと同様に、 `where` は元のテーブルを変更せずに残します。 "
   ]
  },
  {
   "cell_type": "markdown",
   "metadata": {},
   "source": [
    "## Example: Salaries in the NBA"
   ]
  },
  {
   "cell_type": "markdown",
   "metadata": {},
   "source": [
    "\"The NBA is the highest paying professional sports league in the world,\" [reported CNN](http://edition.cnn.com/2015/12/04/sport/gallery/highest-paid-nba-players/) in March 2016. The table `nba` contains the [salaries of all National Basketball Association players](https://www.statcrunch.com/app/index.php?dataid=1843341) in 2015-2016.\n",
    "\n",
    "Each row represents one player. The columns are:\n",
    "\n",
    "| **Column Label**   | Description                                         |\n",
    "|--------------------|-----------------------------------------------------|\n",
    "| `PLAYER`           | Player's name                                       |\n",
    "| `POSITION`         | Player's position on team                           |\n",
    "| `TEAM`             | Team name                                           |\n",
    "|`SALARY`    | Player's salary in 2015-2016, in millions of dollars|\n",
    " \n",
    "The code for the positions is PG (Point Guard), SG (Shooting Guard), PF (Power Forward), SF (Small Forward), and C (Center). But what follows doesn't involve details about how basketball is played.\n",
    "\n",
    "The first row shows that Paul Millsap, Power Forward for the Atlanta Hawks, had a salary of almost $\\$18.7$ million in 2015-2016."
   ]
  },
  {
   "cell_type": "code",
   "execution_count": 13,
   "metadata": {},
   "outputs": [
    {
     "data": {
      "text/html": [
       "<table border=\"1\" class=\"dataframe\">\n",
       "    <thead>\n",
       "        <tr>\n",
       "            <th>PLAYER</th> <th>POSITION</th> <th>TEAM</th> <th>SALARY</th>\n",
       "        </tr>\n",
       "    </thead>\n",
       "    <tbody>\n",
       "        <tr>\n",
       "            <td>Paul Millsap    </td> <td>PF      </td> <td>Atlanta Hawks</td> <td>18.6717</td>\n",
       "        </tr>\n",
       "        <tr>\n",
       "            <td>Al Horford      </td> <td>C       </td> <td>Atlanta Hawks</td> <td>12     </td>\n",
       "        </tr>\n",
       "        <tr>\n",
       "            <td>Tiago Splitter  </td> <td>C       </td> <td>Atlanta Hawks</td> <td>9.75625</td>\n",
       "        </tr>\n",
       "        <tr>\n",
       "            <td>Jeff Teague     </td> <td>PG      </td> <td>Atlanta Hawks</td> <td>8      </td>\n",
       "        </tr>\n",
       "        <tr>\n",
       "            <td>Kyle Korver     </td> <td>SG      </td> <td>Atlanta Hawks</td> <td>5.74648</td>\n",
       "        </tr>\n",
       "        <tr>\n",
       "            <td>Thabo Sefolosha </td> <td>SF      </td> <td>Atlanta Hawks</td> <td>4      </td>\n",
       "        </tr>\n",
       "        <tr>\n",
       "            <td>Mike Scott      </td> <td>PF      </td> <td>Atlanta Hawks</td> <td>3.33333</td>\n",
       "        </tr>\n",
       "        <tr>\n",
       "            <td>Kent Bazemore   </td> <td>SF      </td> <td>Atlanta Hawks</td> <td>2      </td>\n",
       "        </tr>\n",
       "        <tr>\n",
       "            <td>Dennis Schroder </td> <td>PG      </td> <td>Atlanta Hawks</td> <td>1.7634 </td>\n",
       "        </tr>\n",
       "        <tr>\n",
       "            <td>Tim Hardaway Jr.</td> <td>SG      </td> <td>Atlanta Hawks</td> <td>1.30452</td>\n",
       "        </tr>\n",
       "    </tbody>\n",
       "</table>\n",
       "<p>... (407 rows omitted)</p>"
      ],
      "text/plain": [
       "PLAYER           | POSITION | TEAM          | SALARY\n",
       "Paul Millsap     | PF       | Atlanta Hawks | 18.6717\n",
       "Al Horford       | C        | Atlanta Hawks | 12\n",
       "Tiago Splitter   | C        | Atlanta Hawks | 9.75625\n",
       "Jeff Teague      | PG       | Atlanta Hawks | 8\n",
       "Kyle Korver      | SG       | Atlanta Hawks | 5.74648\n",
       "Thabo Sefolosha  | SF       | Atlanta Hawks | 4\n",
       "Mike Scott       | PF       | Atlanta Hawks | 3.33333\n",
       "Kent Bazemore    | SF       | Atlanta Hawks | 2\n",
       "Dennis Schroder  | PG       | Atlanta Hawks | 1.7634\n",
       "Tim Hardaway Jr. | SG       | Atlanta Hawks | 1.30452\n",
       "... (407 rows omitted)"
      ]
     },
     "execution_count": 13,
     "metadata": {},
     "output_type": "execute_result"
    }
   ],
   "source": [
    "nba"
   ]
  },
  {
   "cell_type": "markdown",
   "metadata": {},
   "source": [
    "Fans of Stephen Curry can find his row by using `where`."
   ]
  },
  {
   "cell_type": "code",
   "execution_count": 14,
   "metadata": {},
   "outputs": [
    {
     "data": {
      "text/html": [
       "<table border=\"1\" class=\"dataframe\">\n",
       "    <thead>\n",
       "        <tr>\n",
       "            <th>PLAYER</th> <th>POSITION</th> <th>TEAM</th> <th>SALARY</th>\n",
       "        </tr>\n",
       "    </thead>\n",
       "    <tbody>\n",
       "        <tr>\n",
       "            <td>Stephen Curry</td> <td>PG      </td> <td>Golden State Warriors</td> <td>11.3708</td>\n",
       "        </tr>\n",
       "    </tbody>\n",
       "</table>"
      ],
      "text/plain": [
       "PLAYER        | POSITION | TEAM                  | SALARY\n",
       "Stephen Curry | PG       | Golden State Warriors | 11.3708"
      ]
     },
     "execution_count": 14,
     "metadata": {},
     "output_type": "execute_result"
    }
   ],
   "source": [
    "nba.where('PLAYER', 'Stephen Curry')"
   ]
  },
  {
   "cell_type": "markdown",
   "metadata": {},
   "source": [
    "We can also create a new table called `warriors` consisting of just the data for the Golden State Warriors."
   ]
  },
  {
   "cell_type": "code",
   "execution_count": 15,
   "metadata": {},
   "outputs": [
    {
     "data": {
      "text/html": [
       "<table border=\"1\" class=\"dataframe\">\n",
       "    <thead>\n",
       "        <tr>\n",
       "            <th>PLAYER</th> <th>POSITION</th> <th>TEAM</th> <th>SALARY</th>\n",
       "        </tr>\n",
       "    </thead>\n",
       "    <tbody>\n",
       "        <tr>\n",
       "            <td>Klay Thompson    </td> <td>SG      </td> <td>Golden State Warriors</td> <td>15.501 </td>\n",
       "        </tr>\n",
       "        <tr>\n",
       "            <td>Draymond Green   </td> <td>PF      </td> <td>Golden State Warriors</td> <td>14.2609</td>\n",
       "        </tr>\n",
       "        <tr>\n",
       "            <td>Andrew Bogut     </td> <td>C       </td> <td>Golden State Warriors</td> <td>13.8   </td>\n",
       "        </tr>\n",
       "        <tr>\n",
       "            <td>Andre Iguodala   </td> <td>SF      </td> <td>Golden State Warriors</td> <td>11.7105</td>\n",
       "        </tr>\n",
       "        <tr>\n",
       "            <td>Stephen Curry    </td> <td>PG      </td> <td>Golden State Warriors</td> <td>11.3708</td>\n",
       "        </tr>\n",
       "        <tr>\n",
       "            <td>Jason Thompson   </td> <td>PF      </td> <td>Golden State Warriors</td> <td>7.00847</td>\n",
       "        </tr>\n",
       "        <tr>\n",
       "            <td>Shaun Livingston </td> <td>PG      </td> <td>Golden State Warriors</td> <td>5.54373</td>\n",
       "        </tr>\n",
       "        <tr>\n",
       "            <td>Harrison Barnes  </td> <td>SF      </td> <td>Golden State Warriors</td> <td>3.8734 </td>\n",
       "        </tr>\n",
       "        <tr>\n",
       "            <td>Marreese Speights</td> <td>C       </td> <td>Golden State Warriors</td> <td>3.815  </td>\n",
       "        </tr>\n",
       "        <tr>\n",
       "            <td>Leandro Barbosa  </td> <td>SG      </td> <td>Golden State Warriors</td> <td>2.5    </td>\n",
       "        </tr>\n",
       "    </tbody>\n",
       "</table>\n",
       "<p>... (4 rows omitted)</p>"
      ],
      "text/plain": [
       "PLAYER            | POSITION | TEAM                  | SALARY\n",
       "Klay Thompson     | SG       | Golden State Warriors | 15.501\n",
       "Draymond Green    | PF       | Golden State Warriors | 14.2609\n",
       "Andrew Bogut      | C        | Golden State Warriors | 13.8\n",
       "Andre Iguodala    | SF       | Golden State Warriors | 11.7105\n",
       "Stephen Curry     | PG       | Golden State Warriors | 11.3708\n",
       "Jason Thompson    | PF       | Golden State Warriors | 7.00847\n",
       "Shaun Livingston  | PG       | Golden State Warriors | 5.54373\n",
       "Harrison Barnes   | SF       | Golden State Warriors | 3.8734\n",
       "Marreese Speights | C        | Golden State Warriors | 3.815\n",
       "Leandro Barbosa   | SG       | Golden State Warriors | 2.5\n",
       "... (4 rows omitted)"
      ]
     },
     "execution_count": 15,
     "metadata": {},
     "output_type": "execute_result"
    }
   ],
   "source": [
    "warriors = nba.where('TEAM', 'Golden State Warriors')\n",
    "warriors"
   ]
  },
  {
   "cell_type": "markdown",
   "metadata": {},
   "source": [
    "By default, the first 10 lines of a table are displayed. You can use `show` to display more or fewer. To display the entire table, use `show` with no argument in the parentheses."
   ]
  },
  {
   "cell_type": "code",
   "execution_count": 16,
   "metadata": {},
   "outputs": [
    {
     "data": {
      "text/html": [
       "<table border=\"1\" class=\"dataframe\">\n",
       "    <thead>\n",
       "        <tr>\n",
       "            <th>PLAYER</th> <th>POSITION</th> <th>TEAM</th> <th>SALARY</th>\n",
       "        </tr>\n",
       "    </thead>\n",
       "    <tbody>\n",
       "        <tr>\n",
       "            <td>Klay Thompson    </td> <td>SG      </td> <td>Golden State Warriors</td> <td>15.501  </td>\n",
       "        </tr>\n",
       "        <tr>\n",
       "            <td>Draymond Green   </td> <td>PF      </td> <td>Golden State Warriors</td> <td>14.2609 </td>\n",
       "        </tr>\n",
       "        <tr>\n",
       "            <td>Andrew Bogut     </td> <td>C       </td> <td>Golden State Warriors</td> <td>13.8    </td>\n",
       "        </tr>\n",
       "        <tr>\n",
       "            <td>Andre Iguodala   </td> <td>SF      </td> <td>Golden State Warriors</td> <td>11.7105 </td>\n",
       "        </tr>\n",
       "        <tr>\n",
       "            <td>Stephen Curry    </td> <td>PG      </td> <td>Golden State Warriors</td> <td>11.3708 </td>\n",
       "        </tr>\n",
       "        <tr>\n",
       "            <td>Jason Thompson   </td> <td>PF      </td> <td>Golden State Warriors</td> <td>7.00847 </td>\n",
       "        </tr>\n",
       "        <tr>\n",
       "            <td>Shaun Livingston </td> <td>PG      </td> <td>Golden State Warriors</td> <td>5.54373 </td>\n",
       "        </tr>\n",
       "        <tr>\n",
       "            <td>Harrison Barnes  </td> <td>SF      </td> <td>Golden State Warriors</td> <td>3.8734  </td>\n",
       "        </tr>\n",
       "        <tr>\n",
       "            <td>Marreese Speights</td> <td>C       </td> <td>Golden State Warriors</td> <td>3.815   </td>\n",
       "        </tr>\n",
       "        <tr>\n",
       "            <td>Leandro Barbosa  </td> <td>SG      </td> <td>Golden State Warriors</td> <td>2.5     </td>\n",
       "        </tr>\n",
       "        <tr>\n",
       "            <td>Festus Ezeli     </td> <td>C       </td> <td>Golden State Warriors</td> <td>2.00875 </td>\n",
       "        </tr>\n",
       "        <tr>\n",
       "            <td>Brandon Rush     </td> <td>SF      </td> <td>Golden State Warriors</td> <td>1.27096 </td>\n",
       "        </tr>\n",
       "        <tr>\n",
       "            <td>Kevon Looney     </td> <td>SF      </td> <td>Golden State Warriors</td> <td>1.13196 </td>\n",
       "        </tr>\n",
       "        <tr>\n",
       "            <td>Anderson Varejao </td> <td>PF      </td> <td>Golden State Warriors</td> <td>0.289755</td>\n",
       "        </tr>\n",
       "    </tbody>\n",
       "</table>"
      ],
      "text/plain": [
       "<IPython.core.display.HTML object>"
      ]
     },
     "metadata": {},
     "output_type": "display_data"
    }
   ],
   "source": [
    "warriors.show()"
   ]
  },
  {
   "cell_type": "markdown",
   "metadata": {},
   "source": [
    "The `nba` table is sorted in alphabetical order of the team names. To see how the players were paid in 2015-2016, it is useful to sort the data by salary. Remember that by default, the sorting is in increasing order."
   ]
  },
  {
   "cell_type": "code",
   "execution_count": 17,
   "metadata": {},
   "outputs": [
    {
     "data": {
      "text/html": [
       "<table border=\"1\" class=\"dataframe\">\n",
       "    <thead>\n",
       "        <tr>\n",
       "            <th>PLAYER</th> <th>POSITION</th> <th>TEAM</th> <th>SALARY</th>\n",
       "        </tr>\n",
       "    </thead>\n",
       "    <tbody>\n",
       "        <tr>\n",
       "            <td>Thanasis Antetokounmpo</td> <td>SF      </td> <td>New York Knicks     </td> <td>0.030888</td>\n",
       "        </tr>\n",
       "        <tr>\n",
       "            <td>Jordan McRae          </td> <td>SG      </td> <td>Phoenix Suns        </td> <td>0.049709</td>\n",
       "        </tr>\n",
       "        <tr>\n",
       "            <td>Cory Jefferson        </td> <td>PF      </td> <td>Phoenix Suns        </td> <td>0.049709</td>\n",
       "        </tr>\n",
       "        <tr>\n",
       "            <td>Elliot Williams       </td> <td>SG      </td> <td>Memphis Grizzlies   </td> <td>0.055722</td>\n",
       "        </tr>\n",
       "        <tr>\n",
       "            <td>Orlando Johnson       </td> <td>SG      </td> <td>Phoenix Suns        </td> <td>0.055722</td>\n",
       "        </tr>\n",
       "        <tr>\n",
       "            <td>Phil Pressey          </td> <td>PG      </td> <td>Phoenix Suns        </td> <td>0.055722</td>\n",
       "        </tr>\n",
       "        <tr>\n",
       "            <td>Keith Appling         </td> <td>PG      </td> <td>Orlando Magic       </td> <td>0.061776</td>\n",
       "        </tr>\n",
       "        <tr>\n",
       "            <td>Sean Kilpatrick       </td> <td>SG      </td> <td>Denver Nuggets      </td> <td>0.099418</td>\n",
       "        </tr>\n",
       "        <tr>\n",
       "            <td>Erick Green           </td> <td>PG      </td> <td>Utah Jazz           </td> <td>0.099418</td>\n",
       "        </tr>\n",
       "        <tr>\n",
       "            <td>Jeff Ayres            </td> <td>PF      </td> <td>Los Angeles Clippers</td> <td>0.111444</td>\n",
       "        </tr>\n",
       "    </tbody>\n",
       "</table>\n",
       "<p>... (407 rows omitted)</p>"
      ],
      "text/plain": [
       "PLAYER                 | POSITION | TEAM                 | SALARY\n",
       "Thanasis Antetokounmpo | SF       | New York Knicks      | 0.030888\n",
       "Jordan McRae           | SG       | Phoenix Suns         | 0.049709\n",
       "Cory Jefferson         | PF       | Phoenix Suns         | 0.049709\n",
       "Elliot Williams        | SG       | Memphis Grizzlies    | 0.055722\n",
       "Orlando Johnson        | SG       | Phoenix Suns         | 0.055722\n",
       "Phil Pressey           | PG       | Phoenix Suns         | 0.055722\n",
       "Keith Appling          | PG       | Orlando Magic        | 0.061776\n",
       "Sean Kilpatrick        | SG       | Denver Nuggets       | 0.099418\n",
       "Erick Green            | PG       | Utah Jazz            | 0.099418\n",
       "Jeff Ayres             | PF       | Los Angeles Clippers | 0.111444\n",
       "... (407 rows omitted)"
      ]
     },
     "execution_count": 17,
     "metadata": {},
     "output_type": "execute_result"
    }
   ],
   "source": [
    "nba.sort('SALARY')"
   ]
  },
  {
   "cell_type": "markdown",
   "metadata": {},
   "source": [
    "These figures are somewhat difficult to compare as some of these players changed teams during the season and received salaries from more than one team; only the salary from the last team appears in the table.  \n",
    "\n",
    "The CNN report is about the other end of the salary scale – the players who were among the highest paid in the world. To identify these players we can sort in descending order of salary and look at the top few rows."
   ]
  },
  {
   "cell_type": "code",
   "execution_count": 18,
   "metadata": {},
   "outputs": [
    {
     "data": {
      "text/html": [
       "<table border=\"1\" class=\"dataframe\">\n",
       "    <thead>\n",
       "        <tr>\n",
       "            <th>PLAYER</th> <th>POSITION</th> <th>TEAM</th> <th>SALARY</th>\n",
       "        </tr>\n",
       "    </thead>\n",
       "    <tbody>\n",
       "        <tr>\n",
       "            <td>Kobe Bryant    </td> <td>SF      </td> <td>Los Angeles Lakers   </td> <td>25     </td>\n",
       "        </tr>\n",
       "        <tr>\n",
       "            <td>Joe Johnson    </td> <td>SF      </td> <td>Brooklyn Nets        </td> <td>24.8949</td>\n",
       "        </tr>\n",
       "        <tr>\n",
       "            <td>LeBron James   </td> <td>SF      </td> <td>Cleveland Cavaliers  </td> <td>22.9705</td>\n",
       "        </tr>\n",
       "        <tr>\n",
       "            <td>Carmelo Anthony</td> <td>SF      </td> <td>New York Knicks      </td> <td>22.875 </td>\n",
       "        </tr>\n",
       "        <tr>\n",
       "            <td>Dwight Howard  </td> <td>C       </td> <td>Houston Rockets      </td> <td>22.3594</td>\n",
       "        </tr>\n",
       "        <tr>\n",
       "            <td>Chris Bosh     </td> <td>PF      </td> <td>Miami Heat           </td> <td>22.1927</td>\n",
       "        </tr>\n",
       "        <tr>\n",
       "            <td>Chris Paul     </td> <td>PG      </td> <td>Los Angeles Clippers </td> <td>21.4687</td>\n",
       "        </tr>\n",
       "        <tr>\n",
       "            <td>Kevin Durant   </td> <td>SF      </td> <td>Oklahoma City Thunder</td> <td>20.1586</td>\n",
       "        </tr>\n",
       "        <tr>\n",
       "            <td>Derrick Rose   </td> <td>PG      </td> <td>Chicago Bulls        </td> <td>20.0931</td>\n",
       "        </tr>\n",
       "        <tr>\n",
       "            <td>Dwyane Wade    </td> <td>SG      </td> <td>Miami Heat           </td> <td>20     </td>\n",
       "        </tr>\n",
       "    </tbody>\n",
       "</table>\n",
       "<p>... (407 rows omitted)</p>"
      ],
      "text/plain": [
       "PLAYER          | POSITION | TEAM                  | SALARY\n",
       "Kobe Bryant     | SF       | Los Angeles Lakers    | 25\n",
       "Joe Johnson     | SF       | Brooklyn Nets         | 24.8949\n",
       "LeBron James    | SF       | Cleveland Cavaliers   | 22.9705\n",
       "Carmelo Anthony | SF       | New York Knicks       | 22.875\n",
       "Dwight Howard   | C        | Houston Rockets       | 22.3594\n",
       "Chris Bosh      | PF       | Miami Heat            | 22.1927\n",
       "Chris Paul      | PG       | Los Angeles Clippers  | 21.4687\n",
       "Kevin Durant    | SF       | Oklahoma City Thunder | 20.1586\n",
       "Derrick Rose    | PG       | Chicago Bulls         | 20.0931\n",
       "Dwyane Wade     | SG       | Miami Heat            | 20\n",
       "... (407 rows omitted)"
      ]
     },
     "execution_count": 18,
     "metadata": {},
     "output_type": "execute_result"
    }
   ],
   "source": [
    "nba.sort('SALARY', descending=True)"
   ]
  },
  {
   "cell_type": "markdown",
   "metadata": {},
   "source": [
    "The late Kobe Bryant was the highest earning NBA player in 2015-2016."
   ]
  },
  {
   "cell_type": "code",
   "execution_count": null,
   "metadata": {},
   "outputs": [],
   "source": []
  }
 ],
 "metadata": {
  "anaconda-cloud": {},
  "kernelspec": {
   "display_name": "Python 3 (ipykernel)",
   "language": "python",
   "name": "python3"
  },
  "language_info": {
   "codemirror_mode": {
    "name": "ipython",
    "version": 3
   },
   "file_extension": ".py",
   "mimetype": "text/x-python",
   "name": "python",
   "nbconvert_exporter": "python",
   "pygments_lexer": "ipython3",
   "version": "3.9.12"
  },
  "toc": {
   "base_numbering": 1,
   "nav_menu": {},
   "number_sections": true,
   "sideBar": true,
   "skip_h1_title": false,
   "title_cell": "Table of Contents",
   "title_sidebar": "Contents",
   "toc_cell": false,
   "toc_position": {},
   "toc_section_display": true,
   "toc_window_display": false
  }
 },
 "nbformat": 4,
 "nbformat_minor": 2
}
