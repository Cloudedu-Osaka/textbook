{
 "cells": [
  {
   "cell_type": "markdown",
   "id": "73a9039c",
   "metadata": {},
   "source": [
    "# Code Similarity"
   ]
  },
  {
   "cell_type": "markdown",
   "id": "65d00f44",
   "metadata": {},
   "source": [
    "## w/Python AST\n",
    "* [pycode-similar · PyPI](https://pypi.org/project/pycode-similar/)"
   ]
  },
  {
   "cell_type": "code",
   "execution_count": 4,
   "id": "9474b7db",
   "metadata": {},
   "outputs": [],
   "source": [
    "import pycode_similar"
   ]
  },
  {
   "cell_type": "code",
   "execution_count": 5,
   "id": "12cc95ad",
   "metadata": {},
   "outputs": [],
   "source": [
    "s1 = \"\"\"\n",
    "def y():\n",
    "    pass\n",
    "if x:\n",
    "    return False\n",
    "\"\"\"\n",
    "\n",
    "s2 = \"\"\"\n",
    "def x():\n",
    "    pass\n",
    "if x:\n",
    "    return True\n",
    "\"\"\"\n",
    "\n",
    "result = pycode_similar.detect([s1, s2])"
   ]
  },
  {
   "cell_type": "code",
   "execution_count": 6,
   "id": "aa1c5654",
   "metadata": {},
   "outputs": [
    {
     "data": {
      "text/plain": [
       "1.0"
      ]
     },
     "execution_count": 6,
     "metadata": {},
     "output_type": "execute_result"
    }
   ],
   "source": [
    "result[0][1][0].plagiarism_percent"
   ]
  },
  {
   "cell_type": "code",
   "execution_count": 7,
   "id": "ba50a871",
   "metadata": {},
   "outputs": [],
   "source": [
    "import ast\n",
    "\n",
    "s1 = \"\"\"\n",
    "def x():\n",
    "    pass\n",
    "if x:\n",
    "    return float(1)\n",
    "\"\"\"\n",
    "\n",
    "t = ast.parse(s1)"
   ]
  },
  {
   "cell_type": "code",
   "execution_count": 10,
   "id": "3358ae03",
   "metadata": {},
   "outputs": [
    {
     "data": {
      "text/plain": [
       "\"Module(body=[FunctionDef(name='x', args=arguments(posonlyargs=[], args=[], kwonlyargs=[], kw_defaults=[], defaults=[]), body=[Pass()], decorator_list=[]), If(test=Name(id='x', ctx=Load()), body=[Return(value=Call(func=Name(id='float', ctx=Load()), args=[Constant(value=1)], keywords=[]))], orelse=[])], type_ignores=[])\""
      ]
     },
     "execution_count": 10,
     "metadata": {},
     "output_type": "execute_result"
    }
   ],
   "source": [
    "ast.dump(t)"
   ]
  },
  {
   "cell_type": "code",
   "execution_count": 11,
   "id": "ddbe936a",
   "metadata": {},
   "outputs": [
    {
     "data": {
      "text/plain": [
       "'def x():\\n    pass\\nif x:\\n    return float(1)'"
      ]
     },
     "execution_count": 11,
     "metadata": {},
     "output_type": "execute_result"
    }
   ],
   "source": [
    "ast.unparse(t)"
   ]
  },
  {
   "cell_type": "code",
   "execution_count": null,
   "id": "d4a7a4ee",
   "metadata": {},
   "outputs": [],
   "source": []
  },
  {
   "cell_type": "code",
   "execution_count": null,
   "id": "9d0fc3e2",
   "metadata": {},
   "outputs": [],
   "source": []
  },
  {
   "cell_type": "code",
   "execution_count": 26,
   "id": "c4688439",
   "metadata": {},
   "outputs": [],
   "source": [
    "import ast\n",
    "\n",
    "s1 = \"\"\"\n",
    "l=[]\n",
    "for i in range(10):\n",
    "    l.append(i)\n",
    "l\n",
    "\"\"\"\n",
    "\n",
    "t0 = ast.parse(s1)"
   ]
  },
  {
   "cell_type": "code",
   "execution_count": 27,
   "id": "4dd97ad5",
   "metadata": {},
   "outputs": [
    {
     "name": "stdout",
     "output_type": "stream",
     "text": [
      "Module(\n",
      "    body=[\n",
      "        Assign(\n",
      "            targets=[\n",
      "                Name(id='l', ctx=Store())],\n",
      "            value=List(elts=[], ctx=Load())),\n",
      "        For(\n",
      "            target=Name(id='i', ctx=Store()),\n",
      "            iter=Call(\n",
      "                func=Name(id='range', ctx=Load()),\n",
      "                args=[\n",
      "                    Constant(value=10)],\n",
      "                keywords=[]),\n",
      "            body=[\n",
      "                Expr(\n",
      "                    value=Call(\n",
      "                        func=Attribute(\n",
      "                            value=Name(id='l', ctx=Load()),\n",
      "                            attr='append',\n",
      "                            ctx=Load()),\n",
      "                        args=[\n",
      "                            Name(id='i', ctx=Load())],\n",
      "                        keywords=[]))],\n",
      "            orelse=[]),\n",
      "        Expr(\n",
      "            value=Name(id='l', ctx=Load()))],\n",
      "    type_ignores=[])\n"
     ]
    }
   ],
   "source": [
    "print(ast.dump(t0, indent=4))"
   ]
  },
  {
   "cell_type": "code",
   "execution_count": 28,
   "id": "62b15b27",
   "metadata": {},
   "outputs": [
    {
     "name": "stdout",
     "output_type": "stream",
     "text": [
      "l = []\n",
      "for i in range(10):\n",
      "    l.append(i)\n",
      "l\n"
     ]
    }
   ],
   "source": [
    "print(ast.unparse(t0))"
   ]
  },
  {
   "cell_type": "code",
   "execution_count": null,
   "id": "b8b12630",
   "metadata": {},
   "outputs": [],
   "source": []
  },
  {
   "cell_type": "code",
   "execution_count": 29,
   "id": "7ec7f21a",
   "metadata": {},
   "outputs": [],
   "source": [
    "import ast\n",
    "\n",
    "s1 = \"\"\"\n",
    "[i for i in range(10)]\n",
    "\"\"\"\n",
    "\n",
    "t1 = ast.parse(s1)"
   ]
  },
  {
   "cell_type": "code",
   "execution_count": 30,
   "id": "a91244f9",
   "metadata": {},
   "outputs": [
    {
     "name": "stdout",
     "output_type": "stream",
     "text": [
      "Module(\n",
      "    body=[\n",
      "        Expr(\n",
      "            value=ListComp(\n",
      "                elt=Name(id='i', ctx=Load()),\n",
      "                generators=[\n",
      "                    comprehension(\n",
      "                        target=Name(id='i', ctx=Store()),\n",
      "                        iter=Call(\n",
      "                            func=Name(id='range', ctx=Load()),\n",
      "                            args=[\n",
      "                                Constant(value=10)],\n",
      "                            keywords=[]),\n",
      "                        ifs=[],\n",
      "                        is_async=0)]))],\n",
      "    type_ignores=[])\n"
     ]
    }
   ],
   "source": [
    "print(ast.dump(t1, indent=4))"
   ]
  },
  {
   "cell_type": "code",
   "execution_count": 31,
   "id": "d16f7907",
   "metadata": {},
   "outputs": [
    {
     "name": "stdout",
     "output_type": "stream",
     "text": [
      "[i for i in range(10)]\n"
     ]
    }
   ],
   "source": [
    "print(ast.unparse(t1))"
   ]
  },
  {
   "cell_type": "code",
   "execution_count": 32,
   "id": "52ceb089",
   "metadata": {},
   "outputs": [],
   "source": [
    "import difflib"
   ]
  },
  {
   "cell_type": "code",
   "execution_count": 46,
   "id": "71a46a2a",
   "metadata": {},
   "outputs": [
    {
     "data": {
      "text/plain": [
       "['Module(',\n",
       " 'body=[',\n",
       " 'Assign(',\n",
       " 'targets=[',\n",
       " \"Name(id='l', ctx=Store())],\",\n",
       " 'value=List(elts=[], ctx=Load())),',\n",
       " 'For(',\n",
       " \"target=Name(id='i', ctx=Store()),\",\n",
       " 'iter=Call(',\n",
       " \"func=Name(id='range', ctx=Load()),\",\n",
       " 'args=[',\n",
       " 'Constant(value=10)],',\n",
       " 'keywords=[]),',\n",
       " 'body=[',\n",
       " 'Expr(',\n",
       " 'value=Call(',\n",
       " 'func=Attribute(',\n",
       " \"value=Name(id='l', ctx=Load()),\",\n",
       " \"attr='append',\",\n",
       " 'ctx=Load()),',\n",
       " 'args=[',\n",
       " \"Name(id='i', ctx=Load())],\",\n",
       " 'keywords=[]))],',\n",
       " 'orelse=[]),',\n",
       " 'Expr(',\n",
       " \"value=Name(id='l', ctx=Load()))],\",\n",
       " 'type_ignores=[])']"
      ]
     },
     "execution_count": 46,
     "metadata": {},
     "output_type": "execute_result"
    }
   ],
   "source": [
    "ast.dump(t0,indent=0).split('\\n')"
   ]
  },
  {
   "cell_type": "code",
   "execution_count": 47,
   "id": "22b2ec0f",
   "metadata": {
    "scrolled": false
   },
   "outputs": [
    {
     "name": "stdout",
     "output_type": "stream",
     "text": [
      "--- \n",
      "+++ \n",
      "@@ -1,27 +1,16 @@\n",
      " Module(\n",
      " body=[\n",
      "-Assign(\n",
      "-targets=[\n",
      "-Name(id='l', ctx=Store())],\n",
      "-value=List(elts=[], ctx=Load())),\n",
      "-For(\n",
      "+Expr(\n",
      "+value=ListComp(\n",
      "+elt=Name(id='i', ctx=Load()),\n",
      "+generators=[\n",
      "+comprehension(\n",
      " target=Name(id='i', ctx=Store()),\n",
      " iter=Call(\n",
      " func=Name(id='range', ctx=Load()),\n",
      " args=[\n",
      " Constant(value=10)],\n",
      " keywords=[]),\n",
      "-body=[\n",
      "-Expr(\n",
      "-value=Call(\n",
      "-func=Attribute(\n",
      "-value=Name(id='l', ctx=Load()),\n",
      "-attr='append',\n",
      "-ctx=Load()),\n",
      "-args=[\n",
      "-Name(id='i', ctx=Load())],\n",
      "-keywords=[]))],\n",
      "-orelse=[]),\n",
      "-Expr(\n",
      "-value=Name(id='l', ctx=Load()))],\n",
      "+ifs=[],\n",
      "+is_async=0)]))],\n",
      " type_ignores=[])\n"
     ]
    }
   ],
   "source": [
    "print('\\n'.join(difflib.unified_diff(ast.dump(t0,indent=0).split('\\n'),ast.dump(t1,indent=0).split('\\n'),lineterm='')))"
   ]
  },
  {
   "cell_type": "code",
   "execution_count": null,
   "id": "05589666",
   "metadata": {},
   "outputs": [],
   "source": []
  },
  {
   "cell_type": "code",
   "execution_count": null,
   "id": "1f2e33c0",
   "metadata": {},
   "outputs": [],
   "source": []
  },
  {
   "cell_type": "markdown",
   "id": "c961d4cf",
   "metadata": {},
   "source": [
    "## w/o Python AST"
   ]
  },
  {
   "cell_type": "code",
   "execution_count": 582,
   "id": "f4878602",
   "metadata": {},
   "outputs": [],
   "source": [
    "import difflib"
   ]
  },
  {
   "cell_type": "code",
   "execution_count": 583,
   "id": "447c42ba",
   "metadata": {},
   "outputs": [
    {
     "data": {
      "text/plain": [
       "0.9876543209876543"
      ]
     },
     "execution_count": 583,
     "metadata": {},
     "output_type": "execute_result"
    }
   ],
   "source": [
    "difflib.SequenceMatcher(None,s1,s2).ratio()"
   ]
  },
  {
   "cell_type": "code",
   "execution_count": 584,
   "id": "2129817f",
   "metadata": {},
   "outputs": [],
   "source": [
    "a=\"\"\"1 ** 2\"\"\"\n",
    "b=\"\"\"1 * * 2\"\"\""
   ]
  },
  {
   "cell_type": "code",
   "execution_count": 585,
   "id": "9509abbc",
   "metadata": {},
   "outputs": [
    {
     "data": {
      "text/plain": [
       "0.9230769230769231"
      ]
     },
     "execution_count": 585,
     "metadata": {},
     "output_type": "execute_result"
    }
   ],
   "source": [
    "SequenceMatcher(None,a,b).ratio()"
   ]
  },
  {
   "cell_type": "markdown",
   "id": "8a15c7a0",
   "metadata": {},
   "source": [
    "### w/Tokenizer"
   ]
  },
  {
   "cell_type": "markdown",
   "id": "3bc7e086",
   "metadata": {},
   "source": [
    "* [The Token Types — Brown Water Python documentation](https://www.asmeurer.com/brown-water-python/tokens.html)\n",
    "* [How to tokenize python code using the Tokenize module? - Stack Overflow](https://stackoverflow.com/questions/62166362/how-to-tokenize-python-code-using-the-tokenize-module)\n",
    "* [Ultimate Guide To Text Similarity With Python - NewsCatcher](https://newscatcherapi.com/blog/ultimate-guide-to-text-similarity-with-python)\n",
    "* [Python学習チャンネル by PyQ](https://blog.pyq.jp/)"
   ]
  },
  {
   "cell_type": "code",
   "execution_count": 586,
   "id": "2291ceb0",
   "metadata": {},
   "outputs": [],
   "source": [
    "from tokenize import tokenize, untokenize, generate_tokens, NUMBER, STRING, NAME, OP"
   ]
  },
  {
   "cell_type": "code",
   "execution_count": 587,
   "id": "45785318",
   "metadata": {},
   "outputs": [
    {
     "name": "stdout",
     "output_type": "stream",
     "text": [
      "['if', 'x', '.', 'y', '(', 'x', ')', ':', 'NEWLINE', 'INDENT', 'return', '(', 'NUMBER', '*', '*', 'NUMBER', ')', '+', 'STRING', 'NEWLINE']\n"
     ]
    }
   ],
   "source": [
    "import tokenize\n",
    "import io\n",
    "\n",
    "inp = \"\"\"if x.y(x) :\n",
    "       return (3.14 * * 3) + \"x\" \"\"\"\n",
    "\n",
    "def _tokenize(inp):\n",
    "    t = []\n",
    "    for token in tokenize.generate_tokens(io.StringIO(inp).readline):\n",
    "        #print(tokenize.tok_name[token.type], tokenize.tok_name[token.exact_type], repr(token.string))\n",
    "        if tokenize.tok_name[token.type] == 'DEDENT':\n",
    "            break\n",
    "        elif tokenize.tok_name[token.type] == 'ENDMARKER':\n",
    "            pass\n",
    "        elif (tokenize.tok_name[token.type] == 'INDENT' or\n",
    "              tokenize.tok_name[token.type] == 'NEWLINE' or\n",
    "              tokenize.tok_name[token.type] == 'NUMBER' or\n",
    "              tokenize.tok_name[token.type] == 'STRING'):\n",
    "            t.append(tokenize.tok_name[token.type])\n",
    "        else:\n",
    "            #print(tokenize.tok_name[token.exact_type])\n",
    "            t.append(token.string)\n",
    "    return(t)\n",
    "\n",
    "print(_tokenize(inp))"
   ]
  },
  {
   "cell_type": "markdown",
   "id": "a319c49e",
   "metadata": {},
   "source": [
    "### w/Unified Diff"
   ]
  },
  {
   "cell_type": "code",
   "execution_count": 588,
   "id": "358c4a08",
   "metadata": {},
   "outputs": [],
   "source": [
    "t0=_tokenize('3 * 4')\n",
    "t1=_tokenize('3 **             4')"
   ]
  },
  {
   "cell_type": "code",
   "execution_count": 612,
   "id": "e4ffe5d6",
   "metadata": {},
   "outputs": [],
   "source": [
    "t0=_tokenize('[len(s) for s in huck_finn_chapters]')\n",
    "t1=_tokenize('''for s in huck_finn_chapters:\n",
    "    print(len(s))''')"
   ]
  },
  {
   "cell_type": "code",
   "execution_count": 613,
   "id": "1f4cafd4",
   "metadata": {},
   "outputs": [
    {
     "data": {
      "text/plain": [
       "[['[',\n",
       "  'len',\n",
       "  '(',\n",
       "  's',\n",
       "  ')',\n",
       "  'for',\n",
       "  's',\n",
       "  'in',\n",
       "  'huck_finn_chapters',\n",
       "  ']',\n",
       "  'NEWLINE'],\n",
       " ['for',\n",
       "  's',\n",
       "  'in',\n",
       "  'huck_finn_chapters',\n",
       "  ':',\n",
       "  'NEWLINE',\n",
       "  'INDENT',\n",
       "  'print',\n",
       "  '(',\n",
       "  'len',\n",
       "  '(',\n",
       "  's',\n",
       "  ')',\n",
       "  ')',\n",
       "  'NEWLINE']]"
      ]
     },
     "execution_count": 613,
     "metadata": {},
     "output_type": "execute_result"
    }
   ],
   "source": [
    "[t0,t1]"
   ]
  },
  {
   "cell_type": "code",
   "execution_count": 614,
   "id": "d02e853e",
   "metadata": {},
   "outputs": [
    {
     "name": "stdout",
     "output_type": "stream",
     "text": [
      "--- \n",
      "+++ \n",
      "@@ -1,11 +1,15 @@\n",
      "-[\n",
      "+for\n",
      "+s\n",
      "+in\n",
      "+huck_finn_chapters\n",
      "+:\n",
      "+NEWLINE\n",
      "+INDENT\n",
      "+print\n",
      "+(\n",
      " len\n",
      " (\n",
      " s\n",
      " )\n",
      "-for\n",
      "-s\n",
      "-in\n",
      "-huck_finn_chapters\n",
      "-]\n",
      "+)\n",
      " NEWLINE\n"
     ]
    }
   ],
   "source": [
    "print('\\n'.join(difflib.unified_diff(t0,t1,lineterm='')))"
   ]
  },
  {
   "cell_type": "code",
   "execution_count": 615,
   "id": "0b28f867",
   "metadata": {},
   "outputs": [
    {
     "name": "stdout",
     "output_type": "stream",
     "text": [
      "11 10 6 15 5\n"
     ]
    }
   ],
   "source": [
    "import re\n",
    "re_add = re.compile(r\"^\\+(?!\\+)\")\n",
    "re_del = re.compile(r\"^-(?!-)\")\n",
    "\n",
    "num_add, num_del = 0, 0\n",
    "for line in difflib.unified_diff(t0,t1,lineterm=''):\n",
    "    if re_add.match(line):\n",
    "        num_add+=1\n",
    "    elif re_del.match(line):\n",
    "        num_del+=1\n",
    "    else:\n",
    "        pass\n",
    "print(len(t0), num_add, num_del, len(t0)+num_add-num_del, len(t1)-num_add)\n",
    "# len(t0), +, -, len(t1), number of unmodified lines"
   ]
  },
  {
   "cell_type": "markdown",
   "id": "afa9239f",
   "metadata": {},
   "source": [
    "### w/TF-IDF (ngram)"
   ]
  },
  {
   "cell_type": "code",
   "execution_count": 604,
   "id": "7101f922",
   "metadata": {},
   "outputs": [],
   "source": [
    "from sklearn.feature_extraction.text import TfidfVectorizer\n",
    "def identity_tokenizer(text):\n",
    "    return(text)"
   ]
  },
  {
   "cell_type": "code",
   "execution_count": 628,
   "id": "d8b5a0e9",
   "metadata": {},
   "outputs": [],
   "source": [
    "tfidf = TfidfVectorizer(tokenizer=identity_tokenizer, lowercase=False, ngram_range=(4,4))"
   ]
  },
  {
   "cell_type": "code",
   "execution_count": 629,
   "id": "8e9cd24f",
   "metadata": {},
   "outputs": [],
   "source": [
    "x=tfidf.fit_transform([t0,t1])"
   ]
  },
  {
   "cell_type": "code",
   "execution_count": 630,
   "id": "8ed93ab0",
   "metadata": {},
   "outputs": [
    {
     "data": {
      "text/plain": [
       "['( len ( s',\n",
       " '( s ) )',\n",
       " '( s ) for',\n",
       " ') for s in',\n",
       " ': NEWLINE INDENT print',\n",
       " 'INDENT print ( len',\n",
       " 'NEWLINE INDENT print (',\n",
       " '[ len ( s',\n",
       " 'for s in huck_finn_chapters',\n",
       " 'huck_finn_chapters : NEWLINE INDENT',\n",
       " 'in huck_finn_chapters : NEWLINE',\n",
       " 'in huck_finn_chapters ] NEWLINE',\n",
       " 'len ( s )',\n",
       " 'print ( len (',\n",
       " 's ) ) NEWLINE',\n",
       " 's ) for s',\n",
       " 's in huck_finn_chapters :',\n",
       " 's in huck_finn_chapters ]']"
      ]
     },
     "execution_count": 630,
     "metadata": {},
     "output_type": "execute_result"
    }
   ],
   "source": [
    "tfidf.get_feature_names()"
   ]
  },
  {
   "cell_type": "code",
   "execution_count": 631,
   "id": "2edad655",
   "metadata": {},
   "outputs": [
    {
     "data": {
      "text/plain": [
       "array([1.40546511, 1.40546511, 1.40546511, 1.40546511, 1.40546511,\n",
       "       1.40546511, 1.40546511, 1.40546511, 1.        , 1.40546511,\n",
       "       1.40546511, 1.40546511, 1.        , 1.40546511, 1.40546511,\n",
       "       1.40546511, 1.40546511, 1.40546511])"
      ]
     },
     "execution_count": 631,
     "metadata": {},
     "output_type": "execute_result"
    }
   ],
   "source": [
    "tfidf.idf_"
   ]
  },
  {
   "cell_type": "code",
   "execution_count": 632,
   "id": "c78bb04a",
   "metadata": {},
   "outputs": [
    {
     "name": "stdout",
     "output_type": "stream",
     "text": [
      "for s in huck_finn_chapters\n",
      "len ( s )\n"
     ]
    }
   ],
   "source": [
    "for t, idf in zip(tfidf.get_feature_names(), tfidf.idf_):\n",
    "    if idf <= 1.:\n",
    "        print(t)"
   ]
  },
  {
   "cell_type": "code",
   "execution_count": 627,
   "id": "0b1d1f82",
   "metadata": {},
   "outputs": [],
   "source": [
    "t0=_tokenize('[len(s) for s in huck_finn_chapters]')\n",
    "t1=_tokenize('''for s in huck_finn_chapters:\n",
    "    print(len(s))''')"
   ]
  },
  {
   "cell_type": "markdown",
   "id": "a1cdf58b",
   "metadata": {},
   "source": [
    "##  Distance\n",
    "* [Jaccard index - Wikipedia](https://en.wikipedia.org/wiki/Jaccard_index)"
   ]
  },
  {
   "cell_type": "code",
   "execution_count": 565,
   "id": "511b1513",
   "metadata": {},
   "outputs": [],
   "source": [
    "from datasketch import MinHash"
   ]
  },
  {
   "cell_type": "code",
   "execution_count": 572,
   "id": "9757a47b",
   "metadata": {},
   "outputs": [
    {
     "data": {
      "text/plain": [
       "[['NUMBER', '*', 'NUMBER', 'NEWLINE'],\n",
       " ['NUMBER', '*', '*', 'NUMBER', 'NEWLINE']]"
      ]
     },
     "execution_count": 572,
     "metadata": {},
     "output_type": "execute_result"
    }
   ],
   "source": [
    "t0=_tokenize('3 * 4')\n",
    "t1=_tokenize('3 * * 4')\n",
    "[t0,t1]"
   ]
  },
  {
   "cell_type": "code",
   "execution_count": 573,
   "id": "cce00ca4",
   "metadata": {},
   "outputs": [],
   "source": [
    "m1,m2=MinHash(num_perm=512), MinHash(num_perm=512)"
   ]
  },
  {
   "cell_type": "code",
   "execution_count": 574,
   "id": "6b7eaf89",
   "metadata": {},
   "outputs": [],
   "source": [
    "for d in t0:\n",
    "    m1.update(d.encode('utf8'))\n",
    "for d in t1:\n",
    "    m2.update(d.encode('utf8'))"
   ]
  },
  {
   "cell_type": "code",
   "execution_count": 575,
   "id": "695f2fa7",
   "metadata": {},
   "outputs": [
    {
     "data": {
      "text/plain": [
       "(1.0, 1.0)"
      ]
     },
     "execution_count": 575,
     "metadata": {},
     "output_type": "execute_result"
    }
   ],
   "source": [
    "m1.jaccard(m2), m2.jaccard(m1)"
   ]
  },
  {
   "cell_type": "code",
   "execution_count": 576,
   "id": "37d17289",
   "metadata": {},
   "outputs": [],
   "source": [
    "s1 = set(t0)\n",
    "s2 = set(t1)"
   ]
  },
  {
   "cell_type": "code",
   "execution_count": 577,
   "id": "fdc78a9f",
   "metadata": {},
   "outputs": [
    {
     "data": {
      "text/plain": [
       "1.0"
      ]
     },
     "execution_count": 577,
     "metadata": {},
     "output_type": "execute_result"
    }
   ],
   "source": [
    "float(len(s1.intersection(s2)))/float(len(s1.union(s2)))"
   ]
  },
  {
   "cell_type": "code",
   "execution_count": null,
   "id": "01874058",
   "metadata": {},
   "outputs": [],
   "source": []
  }
 ],
 "metadata": {
  "kernelspec": {
   "display_name": "Python 3 (ipykernel)",
   "language": "python",
   "name": "python3"
  },
  "language_info": {
   "codemirror_mode": {
    "name": "ipython",
    "version": 3
   },
   "file_extension": ".py",
   "mimetype": "text/x-python",
   "name": "python",
   "nbconvert_exporter": "python",
   "pygments_lexer": "ipython3",
   "version": "3.9.12"
  },
  "toc": {
   "base_numbering": 1,
   "nav_menu": {},
   "number_sections": true,
   "sideBar": true,
   "skip_h1_title": false,
   "title_cell": "Table of Contents",
   "title_sidebar": "Contents",
   "toc_cell": false,
   "toc_position": {},
   "toc_section_display": true,
   "toc_window_display": false
  }
 },
 "nbformat": 4,
 "nbformat_minor": 5
}
