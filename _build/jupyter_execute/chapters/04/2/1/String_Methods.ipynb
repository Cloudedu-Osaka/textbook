{
 "cells": [
  {
   "cell_type": "code",
   "execution_count": null,
   "metadata": {
    "hide_input": true,
    "init_cell": true,
    "tags": [
     "remove-input"
    ]
   },
   "outputs": [],
   "source": [
    "# initialization for my classroom\n",
    "import os\n",
    "from datetime import datetime as dt\n",
    "\n",
    "def logfile(user=os.environ.get('JUPYTERHUB_USER') or 'jovyan'):\n",
    "    prefix='/srv'\n",
    "    if os.path.isdir(prefix) and os.access(prefix, os.W_OK):\n",
    "        prefix+=('/'+user)\n",
    "        if not os.path.isdir(prefix):\n",
    "            os.makedirs(prefix)\n",
    "    else:\n",
    "        prefix='.'\n",
    "    return prefix+'/'+dt.now().strftime('%Y%m%d')+'.log'\n",
    "\n",
    "path=logfile()\n",
    "#%logstop\n",
    "%logstart -otq $path append\n",
    "\n",
    "# [python - cannot override sys.excepthook - Stack Overflow](https://stackoverflow.com/questions/1261668/cannot-override-sys-excepthook/28758396)\n",
    "# https://github.com/ipython/ipython/blob/e6432249582e05f438303ce73d082a0351bb383e/IPython/core/interactiveshell.py#L1952\n",
    "\n",
    "import sys\n",
    "import traceback\n",
    "import IPython\n",
    "\n",
    "try:\n",
    "    _showtraceback\n",
    "except NameError:\n",
    "    _showtraceback=IPython.core.interactiveshell.InteractiveShell.showtraceback\n",
    "\n",
    "try:\n",
    "    _showsyntaxerror\n",
    "except NameError:\n",
    "    _showsyntaxerror=IPython.core.interactiveshell.InteractiveShell.showsyntaxerror\n",
    "\n",
    "import logging\n",
    "logging.basicConfig(filename=path.replace('.log','-exc.log'), format='%(asctime)s %(message)s', level=logging.ERROR, force=True)\n",
    "\n",
    "import sys\n",
    "import traceback\n",
    "import IPython\n",
    "\n",
    "def showtraceback(self, *args, **kwargs):\n",
    "    etype, value, tb = self._get_exc_info(kwargs.get('exc_tuple'))\n",
    "    stb = self.InteractiveTB.structured_traceback(\n",
    "        etype, value, tb, tb_offset=kwargs.get('tb_offset'))\n",
    "    logging.error(os.environ.get('JUPYTERHUB_USER') or 'jovyan')\n",
    "    logging.error(self.InteractiveTB.stb2text(stb))\n",
    "    _showtraceback(self, *args, **kwargs)\n",
    "\n",
    "def showsyntaxerror(self, *args, **kwargs):\n",
    "    etype, value, last_traceback = self._get_exc_info()\n",
    "    elist = traceback.extract_tb(last_traceback) if kwargs.get('running_compiled_code') else []\n",
    "    stb = self.SyntaxTB.structured_traceback(etype, value, elist)\n",
    "    logging.error(os.environ.get('JUPYTERHUB_USER') or 'jovyan')\n",
    "    logging.error(self.InteractiveTB.stb2text(stb))\n",
    "    _showsyntaxerror(self, *args, **kwargs)\n",
    "\n",
    "IPython.core.interactiveshell.InteractiveShell.showtraceback = showtraceback\n",
    "IPython.core.interactiveshell.InteractiveShell.showsyntaxerror = showsyntaxerror"
   ]
  },
  {
   "cell_type": "markdown",
   "metadata": {},
   "source": [
    "# String Methods\n",
    "\n",
    "既存の文字列から、関連する文字列を作成するには、文字列を操作する関数である文字列メソッドを使用します。これらのメソッドを呼び出すには、文字列の後にドットを置き、その後に関数を呼び出します。\n",
    "\n",
    "例えば、次のメソッドは、文字列を大文字に変換して生成します。"
   ]
  },
  {
   "cell_type": "code",
   "execution_count": 1,
   "metadata": {},
   "outputs": [
    {
     "data": {
      "text/plain": [
       "'LOUD'"
      ]
     },
     "execution_count": 1,
     "metadata": {},
     "output_type": "execute_result"
    }
   ],
   "source": [
    "\"loud\".upper()"
   ]
  },
  {
   "cell_type": "code",
   "execution_count": null,
   "metadata": {},
   "outputs": [],
   "source": []
  },
  {
   "cell_type": "code",
   "execution_count": null,
   "metadata": {},
   "outputs": [],
   "source": []
  },
  {
   "cell_type": "markdown",
   "metadata": {},
   "source": [
    "おそらく最も重要なメソッドは `replace`で、文字列内の部分文字列のすべてのインスタンスを置き換えます。 `replace` メソッドは、置換する文字列とその置換後の文字列の2つの引数を取ります。"
   ]
  },
  {
   "cell_type": "code",
   "execution_count": 2,
   "metadata": {},
   "outputs": [
    {
     "data": {
      "text/plain": [
       "'matchmaker'"
      ]
     },
     "execution_count": 2,
     "metadata": {},
     "output_type": "execute_result"
    }
   ],
   "source": [
    "'hitchhiker'.replace('hi', 'ma')"
   ]
  },
  {
   "cell_type": "code",
   "execution_count": null,
   "metadata": {},
   "outputs": [],
   "source": []
  },
  {
   "cell_type": "code",
   "execution_count": null,
   "metadata": {},
   "outputs": [],
   "source": []
  },
  {
   "cell_type": "markdown",
   "metadata": {},
   "source": [
    "文字列メソッドは、変数名が文字列に束縛されている限り、変数名を使って呼び出すこともできます。つまり、例えば以下の2段階の処理では、まず「ingrain」を生成し、2回目の置換を施すことで、「train」から「degrade」という単語を生成しています。"
   ]
  },
  {
   "cell_type": "code",
   "execution_count": 3,
   "metadata": {},
   "outputs": [
    {
     "data": {
      "text/plain": [
       "'degrade'"
      ]
     },
     "execution_count": 3,
     "metadata": {},
     "output_type": "execute_result"
    }
   ],
   "source": [
    "s = \"train\"\n",
    "t = s.replace('t', 'ing')\n",
    "u = t.replace('in', 'de')\n",
    "u"
   ]
  },
  {
   "cell_type": "code",
   "execution_count": null,
   "metadata": {},
   "outputs": [],
   "source": []
  },
  {
   "cell_type": "code",
   "execution_count": null,
   "metadata": {},
   "outputs": [],
   "source": []
  },
  {
   "cell_type": "markdown",
   "metadata": {},
   "source": [
    "`t = s.replace('t', 'ing')` という行は、文字列 `s`を変更しないので、\"train \"のままであることに注意してください。 `s.replace('t', 'ing')` というメソッド呼び出しは値を持つだけで、それは文字列 \"ingrain\" なのです。"
   ]
  },
  {
   "cell_type": "code",
   "execution_count": 4,
   "metadata": {},
   "outputs": [
    {
     "data": {
      "text/plain": [
       "'train'"
      ]
     },
     "execution_count": 4,
     "metadata": {},
     "output_type": "execute_result"
    }
   ],
   "source": [
    "s"
   ]
  },
  {
   "cell_type": "code",
   "execution_count": null,
   "metadata": {},
   "outputs": [],
   "source": []
  },
  {
   "cell_type": "code",
   "execution_count": null,
   "metadata": {},
   "outputs": [],
   "source": []
  },
  {
   "cell_type": "markdown",
   "metadata": {},
   "source": [
    "この教科書ではメソッドを見るのが初めてですが、メソッドは文字列に限ったものではありません。まもなく見るように、他の種類のオブジェクトもメソッドを持つことができます。"
   ]
  },
  {
   "cell_type": "code",
   "execution_count": null,
   "metadata": {},
   "outputs": [],
   "source": []
  }
 ],
 "metadata": {
  "kernelspec": {
   "display_name": "Python 3 (ipykernel)",
   "language": "python",
   "name": "python3"
  },
  "language_info": {
   "codemirror_mode": {
    "name": "ipython",
    "version": 3
   },
   "file_extension": ".py",
   "mimetype": "text/x-python",
   "name": "python",
   "nbconvert_exporter": "python",
   "pygments_lexer": "ipython3",
   "version": "3.9.12"
  },
  "toc": {
   "base_numbering": 1,
   "nav_menu": {},
   "number_sections": true,
   "sideBar": true,
   "skip_h1_title": false,
   "title_cell": "Table of Contents",
   "title_sidebar": "Contents",
   "toc_cell": false,
   "toc_position": {},
   "toc_section_display": true,
   "toc_window_display": false
  }
 },
 "nbformat": 4,
 "nbformat_minor": 2
}