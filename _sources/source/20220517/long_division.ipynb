{
 "cells": [
  {
   "cell_type": "markdown",
   "id": "bda0f531",
   "metadata": {},
   "source": [
    "# 分数を少数で表す"
   ]
  },
  {
   "cell_type": "markdown",
   "id": "5941be46",
   "metadata": {},
   "source": [
    "* [Decimal representation - Wikipedia](https://en.wikipedia.org/wiki/Decimal_representation#:~:text=.-,Finite%20decimal%20representations,n%20are%20non%2Dnegative%20integers.)\n",
    "* [Long division - Wikipedia](https://en.wikipedia.org/wiki/Long_division)\n",
    "  - 『12世紀から関連するアルゴリズムが存在していたが[2]、現代で使用されている特定のアルゴリズムは1600年頃にヘンリー・ブリッグスによって導入された[3]。』\n",
    "* [John Napier - Wikipedia](https://en.wikipedia.org/wiki/John_Napier)\n",
    "  - 1550&mdash;1617"
   ]
  },
  {
   "cell_type": "code",
   "execution_count": 10,
   "id": "4af914c2",
   "metadata": {},
   "outputs": [
    {
     "data": {
      "text/plain": [
       "0.25"
      ]
     },
     "execution_count": 10,
     "metadata": {},
     "output_type": "execute_result"
    }
   ],
   "source": [
    "1/4"
   ]
  },
  {
   "cell_type": "markdown",
   "id": "5d6d6a65",
   "metadata": {},
   "source": [
    "<pre>\n",
    "  <u> 25</u>\n",
    "4)1<span style=\"color:red\">0</span>\n",
    "   <u>8 </u>\n",
    "   2<span style=\"color:red\">0</span>\n",
    "   <u>20 </u>\n",
    "    <span style=\"color:blue\">0</span>\n",
    "</pre>"
   ]
  },
  {
   "cell_type": "markdown",
   "id": "331863d9",
   "metadata": {},
   "source": [
    "* [Built-in Functions — Python 3.9.12 documentation](https://docs.python.org/3.9/library/functions.html#divmod)\n",
    "  - `divmod(a, b)`\n",
    "    - 2つの数を引数として取り、整数の除算を行う場合は、その商 (quotient) と余り (remainder) からなる2つの数の組を返す。\n",
    "    - 整数の場合、結果は `(a // b, a % b)` と同じである。"
   ]
  },
  {
   "cell_type": "code",
   "execution_count": 21,
   "id": "5efe3c8e",
   "metadata": {},
   "outputs": [
    {
     "data": {
      "text/plain": [
       "(2, 2)"
      ]
     },
     "execution_count": 21,
     "metadata": {},
     "output_type": "execute_result"
    }
   ],
   "source": [
    "(10//4, 10%4)"
   ]
  },
  {
   "cell_type": "code",
   "execution_count": 22,
   "id": "44018f29",
   "metadata": {},
   "outputs": [
    {
     "data": {
      "text/plain": [
       "(2, 2)"
      ]
     },
     "execution_count": 22,
     "metadata": {},
     "output_type": "execute_result"
    }
   ],
   "source": [
    "divmod(10, 4)"
   ]
  },
  {
   "cell_type": "code",
   "execution_count": 1,
   "id": "de512571",
   "metadata": {},
   "outputs": [
    {
     "data": {
      "text/plain": [
       "(5, 0)"
      ]
     },
     "execution_count": 1,
     "metadata": {},
     "output_type": "execute_result"
    }
   ],
   "source": [
    "divmod(20, 4)"
   ]
  },
  {
   "cell_type": "code",
   "execution_count": 16,
   "id": "f863c17d",
   "metadata": {
    "scrolled": true
   },
   "outputs": [
    {
     "name": "stdout",
     "output_type": "stream",
     "text": [
      "2, 5, 0, 0, 0, 0, 0, 0, 0, 0, "
     ]
    }
   ],
   "source": [
    "remainder   = 1\n",
    "denominator = 4\n",
    "for _ in range(10):\n",
    "    numerator = remainder * 10\n",
    "    quotient, remainder = divmod(numerator, denominator)\n",
    "    print(quotient, end=', ')"
   ]
  },
  {
   "cell_type": "code",
   "execution_count": 17,
   "id": "c9f2b428",
   "metadata": {
    "hide_input": false
   },
   "outputs": [
    {
     "data": {
      "text/plain": [
       "0.14285714285714285"
      ]
     },
     "execution_count": 17,
     "metadata": {},
     "output_type": "execute_result"
    }
   ],
   "source": [
    "1/7"
   ]
  },
  {
   "cell_type": "markdown",
   "id": "77ebf11c",
   "metadata": {},
   "source": [
    "<pre>\n",
    "  <u> 142857</u>\n",
    "7)<span style=\"color:blue\">1</span><span style=\"color:red\">0</span>\n",
    "   <u>7 </u>\n",
    "   3<span style=\"color:red\">0</span>\n",
    "   <u>28 </u>\n",
    "    2<span style=\"color:red\">0</span>\n",
    "    <u>14 </u>\n",
    "     6<span style=\"color:red\">0</span>\n",
    "     <u>56 </u>\n",
    "      4<span style=\"color:red\">0</span>\n",
    "      <u>35 </u>\n",
    "       5<span style=\"color:red\">0</span>\n",
    "       <u>49 </u>\n",
    "        <span style=\"color:blue\">1</span>\n",
    "</pre>"
   ]
  },
  {
   "cell_type": "code",
   "execution_count": 15,
   "id": "73604c92",
   "metadata": {
    "scrolled": true
   },
   "outputs": [
    {
     "name": "stdout",
     "output_type": "stream",
     "text": [
      "1, 4, 2, 8, 5, 7, 1, 4, 2, 8, "
     ]
    }
   ],
   "source": [
    "remainder   = 1\n",
    "denominator = 7\n",
    "for _ in range(10):\n",
    "    numerator = remainder * 10\n",
    "    quotient, remainder = divmod(numerator, denominator)\n",
    "    print(quotient, end=', ')"
   ]
  }
 ],
 "metadata": {
  "kernelspec": {
   "display_name": "Python 3 (ipykernel)",
   "language": "python",
   "name": "python3"
  },
  "language_info": {
   "codemirror_mode": {
    "name": "ipython",
    "version": 3
   },
   "file_extension": ".py",
   "mimetype": "text/x-python",
   "name": "python",
   "nbconvert_exporter": "python",
   "pygments_lexer": "ipython3",
   "version": "3.9.7"
  },
  "toc": {
   "base_numbering": 1,
   "nav_menu": {},
   "number_sections": true,
   "sideBar": true,
   "skip_h1_title": false,
   "title_cell": "Table of Contents",
   "title_sidebar": "Contents",
   "toc_cell": false,
   "toc_position": {},
   "toc_section_display": true,
   "toc_window_display": false
  }
 },
 "nbformat": 4,
 "nbformat_minor": 5
}
