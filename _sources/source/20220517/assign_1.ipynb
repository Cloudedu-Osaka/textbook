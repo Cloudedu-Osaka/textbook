{
 "cells": [
  {
   "cell_type": "code",
   "execution_count": null,
   "id": "a7abda42",
   "metadata": {
    "hide_input": true,
    "init_cell": true,
    "tags": [
     "remove-input"
    ]
   },
   "outputs": [],
   "source": [
    "# initialization for my classroom\n",
    "import os\n",
    "from datetime import datetime as dt\n",
    "\n",
    "def logfile(user=os.environ.get('JUPYTERHUB_USER') or 'jovyan'):\n",
    "    prefix='/srv'\n",
    "    if os.path.isdir(prefix) and os.access(prefix, os.W_OK):\n",
    "        prefix+=('/'+user)\n",
    "        if not os.path.isdir(prefix):\n",
    "            os.makedirs(prefix)\n",
    "    else:\n",
    "        prefix='.'\n",
    "    return prefix+'/'+dt.now().strftime('%Y%m%d')+'.log'\n",
    "\n",
    "path=logfile()\n",
    "#%logstop\n",
    "%logstart -otq $path append\n",
    "\n",
    "# [python - cannot override sys.excepthook - Stack Overflow](https://stackoverflow.com/questions/1261668/cannot-override-sys-excepthook/28758396)\n",
    "# https://github.com/ipython/ipython/blob/e6432249582e05f438303ce73d082a0351bb383e/IPython/core/interactiveshell.py#L1952\n",
    "\n",
    "import sys\n",
    "import traceback\n",
    "import IPython\n",
    "\n",
    "try:\n",
    "    _showtraceback\n",
    "except NameError:\n",
    "    _showtraceback=IPython.core.interactiveshell.InteractiveShell.showtraceback\n",
    "\n",
    "try:\n",
    "    _showsyntaxerror\n",
    "except NameError:\n",
    "    _showsyntaxerror=IPython.core.interactiveshell.InteractiveShell.showsyntaxerror\n",
    "\n",
    "import logging\n",
    "logging.basicConfig(filename=path.replace('.log','-exc.log'), format='%(asctime)s %(message)s', level=logging.ERROR, force=True)\n",
    "\n",
    "import sys\n",
    "import traceback\n",
    "import IPython\n",
    "\n",
    "def showtraceback(self, *args, **kwargs):\n",
    "    etype, value, tb = self._get_exc_info(kwargs.get('exc_tuple'))\n",
    "    stb = self.InteractiveTB.structured_traceback(\n",
    "        etype, value, tb, tb_offset=kwargs.get('tb_offset'))\n",
    "    logging.error(os.environ.get('JUPYTERHUB_USER') or 'jovyan')\n",
    "    logging.error(self.InteractiveTB.stb2text(stb))\n",
    "    _showtraceback(self, *args, **kwargs)\n",
    "\n",
    "def showsyntaxerror(self, *args, **kwargs):\n",
    "    etype, value, last_traceback = self._get_exc_info()\n",
    "    elist = traceback.extract_tb(last_traceback) if kwargs.get('running_compiled_code') else []\n",
    "    stb = self.SyntaxTB.structured_traceback(etype, value, elist)\n",
    "    logging.error(os.environ.get('JUPYTERHUB_USER') or 'jovyan')\n",
    "    logging.error(self.InteractiveTB.stb2text(stb))\n",
    "    _showsyntaxerror(self, *args, **kwargs)\n",
    "\n",
    "IPython.core.interactiveshell.InteractiveShell.showtraceback = showtraceback\n",
    "IPython.core.interactiveshell.InteractiveShell.showsyntaxerror = showsyntaxerror"
   ]
  },
  {
   "cell_type": "markdown",
   "id": "864ff5a9",
   "metadata": {
    "hide_input": false,
    "nbgrader": {
     "grade": false,
     "grade_id": "cell-d80f6b2829b3e5cb",
     "locked": true,
     "schema_version": 3,
     "solution": false,
     "task": false
    }
   },
   "source": [
    "# Assignment (1)"
   ]
  },
  {
   "cell_type": "code",
   "execution_count": 1,
   "id": "023084ed",
   "metadata": {
    "nbgrader": {
     "grade": false,
     "grade_id": "cell-82055a4afbd8df18",
     "locked": true,
     "schema_version": 3,
     "solution": false,
     "task": false
    }
   },
   "outputs": [
    {
     "name": "stdout",
     "output_type": "stream",
     "text": [
      "1, 4, 2, 8, 5, 7, 1, 4, 2, 8, \n"
     ]
    }
   ],
   "source": [
    "base = 10\n",
    "remainder   = 1\n",
    "denominator = 7\n",
    "for _ in range(10):\n",
    "    numerator = remainder * base\n",
    "    quotient, remainder = divmod(numerator, denominator)\n",
    "    print(quotient, end=\", \")\n",
    "print()"
   ]
  },
  {
   "cell_type": "markdown",
   "id": "0ca502a8",
   "metadata": {
    "nbgrader": {
     "grade": false,
     "grade_id": "cell-57bc6705b32e7a02",
     "locked": true,
     "schema_version": 3,
     "solution": false,
     "task": false
    }
   },
   "source": [
    "課題-1) 上のセルをボディとする関数 `print_inverse()` を定義せよ。\n",
    "* 第1引数 `n` (逆数を求める数) と第2引数 `base` (基数) を持つ\n",
    "* 第2引数の `base` は省略可能で、省略時の値は `10` (10進数) とする\n",
    "* 上のセルの内容 (第1行以外の第2行から第8行まで) を下のセルの関数ボディ (コメント行 ```# YOUR CODE HERE``` 以下) へコピペし、適切にインデントする\n",
    "* コメント行 ```# YOUR CODE HERE``` は削除してもしなくてもよい\n",
    "* コメント行の下の ```raise NotImplementedError()``` は削除し、本文と置き換える\n",
    "* 上のセルの第1行 `base = 10` は関数の省略可能な引数として定義しているのでコピペしない\n",
    "* ボディでは、関数の第1引数 `n` を `denominator` に代入する\n",
    "* `for` ループの繰り返し回数は、何桁まで計算するかであり、基数 `base` とは関係ないことに注意"
   ]
  },
  {
   "cell_type": "code",
   "execution_count": 2,
   "id": "e7af829f",
   "metadata": {
    "nbgrader": {
     "grade": true,
     "grade_id": "cell-64114849c9fbcae5",
     "locked": false,
     "points": 1,
     "schema_version": 3,
     "solution": true,
     "task": false
    }
   },
   "outputs": [],
   "source": [
    "def print_inverse(n, base=10):\n",
    "    ### BEGIN SOLUTION\n",
    "    remainder   = 1\n",
    "    denominator = n\n",
    "    for _ in range(10):\n",
    "        numerator = remainder * base\n",
    "        quotient, remainder = divmod(numerator, denominator)\n",
    "        print(quotient, end=\", \")\n",
    "    print()\n",
    "    ### END SOLUTION"
   ]
  },
  {
   "cell_type": "code",
   "execution_count": 3,
   "id": "e867eb79",
   "metadata": {},
   "outputs": [
    {
     "name": "stdout",
     "output_type": "stream",
     "text": [
      "2, 5, 0, 0, 0, 0, 0, 0, 0, 0, \n"
     ]
    },
    {
     "data": {
      "text/plain": [
       "NoneType"
      ]
     },
     "execution_count": 3,
     "metadata": {},
     "output_type": "execute_result"
    }
   ],
   "source": [
    "type(print_inverse(4))"
   ]
  },
  {
   "cell_type": "code",
   "execution_count": 4,
   "id": "c51f1582",
   "metadata": {},
   "outputs": [
    {
     "name": "stdout",
     "output_type": "stream",
     "text": [
      "2, 5, 0, 0, 0, 0, 0, 0, 0, 0, \n"
     ]
    }
   ],
   "source": [
    "print_inverse(4)"
   ]
  },
  {
   "cell_type": "code",
   "execution_count": 5,
   "id": "40975ec2",
   "metadata": {},
   "outputs": [
    {
     "name": "stdout",
     "output_type": "stream",
     "text": [
      "1, 4, 2, 8, 5, 7, 1, 4, 2, 8, \n"
     ]
    }
   ],
   "source": [
    "print_inverse(7)"
   ]
  },
  {
   "cell_type": "code",
   "execution_count": null,
   "id": "dcfc2492",
   "metadata": {},
   "outputs": [],
   "source": []
  },
  {
   "cell_type": "code",
   "execution_count": null,
   "id": "87d32cfe",
   "metadata": {},
   "outputs": [],
   "source": []
  },
  {
   "cell_type": "code",
   "execution_count": null,
   "id": "ca720cec",
   "metadata": {},
   "outputs": [],
   "source": []
  },
  {
   "cell_type": "code",
   "execution_count": 6,
   "id": "cd42e54e",
   "metadata": {
    "nbgrader": {
     "grade": false,
     "grade_id": "cell-bd9ca56b4a18b214",
     "locked": true,
     "schema_version": 3,
     "solution": false,
     "task": false
    }
   },
   "outputs": [
    {
     "name": "stdout",
     "output_type": "stream",
     "text": [
      "5, 0, 0, 0, 0, 0, 0, 0, 0, 0, \n",
      "3, 3, 3, 3, 3, 3, 3, 3, 3, 3, \n",
      "2, 5, 0, 0, 0, 0, 0, 0, 0, 0, \n",
      "2, 0, 0, 0, 0, 0, 0, 0, 0, 0, \n",
      "1, 6, 6, 6, 6, 6, 6, 6, 6, 6, \n",
      "1, 4, 2, 8, 5, 7, 1, 4, 2, 8, \n",
      "1, 2, 5, 0, 0, 0, 0, 0, 0, 0, \n",
      "1, 1, 1, 1, 1, 1, 1, 1, 1, 1, \n"
     ]
    }
   ],
   "source": [
    "for n in range(2,10):\n",
    "    print_inverse(n)"
   ]
  },
  {
   "cell_type": "code",
   "execution_count": 7,
   "id": "0addb5fd",
   "metadata": {
    "nbgrader": {
     "grade": false,
     "grade_id": "cell-9a3b2af44977384a",
     "locked": true,
     "schema_version": 3,
     "solution": false,
     "task": false
    }
   },
   "outputs": [
    {
     "name": "stdout",
     "output_type": "stream",
     "text": [
      "0.5\n",
      "0.3333333333333333\n",
      "0.25\n",
      "0.2\n",
      "0.16666666666666666\n",
      "0.14285714285714285\n",
      "0.125\n",
      "0.1111111111111111\n"
     ]
    }
   ],
   "source": [
    "for n in range(2,10):\n",
    "    print(1/n)"
   ]
  },
  {
   "cell_type": "markdown",
   "id": "7e394ecb",
   "metadata": {
    "nbgrader": {
     "grade": false,
     "grade_id": "cell-a4ec41cf3a775392",
     "locked": true,
     "schema_version": 3,
     "solution": false,
     "task": false
    }
   },
   "source": [
    "---\n",
    "以下、採点用のセルにつき編集できない:"
   ]
  },
  {
   "cell_type": "code",
   "execution_count": 8,
   "id": "b36aa642",
   "metadata": {
    "nbgrader": {
     "grade": true,
     "grade_id": "cell-08e89639eaba656e",
     "locked": true,
     "points": 0,
     "schema_version": 3,
     "solution": false,
     "task": false
    }
   },
   "outputs": [],
   "source": [
    "from nose.tools import assert_equal, assert_true"
   ]
  },
  {
   "cell_type": "code",
   "execution_count": 9,
   "id": "f2d2b15d",
   "metadata": {
    "nbgrader": {
     "grade": true,
     "grade_id": "cell-9585afce246c2e75",
     "locked": true,
     "points": 0,
     "schema_version": 3,
     "solution": false,
     "task": false
    }
   },
   "outputs": [
    {
     "name": "stdout",
     "output_type": "stream",
     "text": [
      "2, 5, 0, 0, 0, 0, 0, 0, 0, 0, \n"
     ]
    }
   ],
   "source": [
    "assert_true(isinstance(print_inverse(4),type(None)))"
   ]
  }
 ],
 "metadata": {
  "celltoolbar": "Create Assignment",
  "kernelspec": {
   "display_name": "Python 3 (ipykernel)",
   "language": "python",
   "name": "python3"
  },
  "language_info": {
   "codemirror_mode": {
    "name": "ipython",
    "version": 3
   },
   "file_extension": ".py",
   "mimetype": "text/x-python",
   "name": "python",
   "nbconvert_exporter": "python",
   "pygments_lexer": "ipython3",
   "version": "3.9.12"
  },
  "toc": {
   "base_numbering": 1,
   "nav_menu": {},
   "number_sections": true,
   "sideBar": true,
   "skip_h1_title": false,
   "title_cell": "Table of Contents",
   "title_sidebar": "Contents",
   "toc_cell": false,
   "toc_position": {},
   "toc_section_display": true,
   "toc_window_display": false
  }
 },
 "nbformat": 4,
 "nbformat_minor": 5
}
