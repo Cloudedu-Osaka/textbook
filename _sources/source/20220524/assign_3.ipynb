{
 "cells": [
  {
   "cell_type": "code",
   "execution_count": 1,
   "id": "47dc649a",
   "metadata": {
    "hide_input": true,
    "init_cell": true,
    "tags": [
     "remove-input"
    ]
   },
   "outputs": [],
   "source": [
    "# initialization for my classroom\n",
    "import os\n",
    "from datetime import datetime as dt\n",
    "\n",
    "def logfile(user=os.environ.get('JUPYTERHUB_USER') or 'jovyan'):\n",
    "    prefix='/srv'\n",
    "    if os.path.isdir(prefix) and os.access(prefix, os.W_OK):\n",
    "        prefix+=('/'+user)\n",
    "        if not os.path.isdir(prefix):\n",
    "            os.makedirs(prefix)\n",
    "    else:\n",
    "        prefix='.'\n",
    "    return prefix+'/'+dt.now().strftime('%Y%m%d')+'.log'\n",
    "\n",
    "path=logfile()\n",
    "#%logstop\n",
    "%logstart -otq $path append\n",
    "\n",
    "# [python - cannot override sys.excepthook - Stack Overflow](https://stackoverflow.com/questions/1261668/cannot-override-sys-excepthook/28758396)\n",
    "# https://github.com/ipython/ipython/blob/e6432249582e05f438303ce73d082a0351bb383e/IPython/core/interactiveshell.py#L1952\n",
    "\n",
    "import sys\n",
    "import traceback\n",
    "import IPython\n",
    "\n",
    "try:\n",
    "    _showtraceback\n",
    "except NameError:\n",
    "    _showtraceback=IPython.core.interactiveshell.InteractiveShell.showtraceback\n",
    "\n",
    "try:\n",
    "    _showsyntaxerror\n",
    "except NameError:\n",
    "    _showsyntaxerror=IPython.core.interactiveshell.InteractiveShell.showsyntaxerror\n",
    "\n",
    "import logging\n",
    "logging.basicConfig(filename=path.replace('.log','-exc.log'), format='%(asctime)s %(message)s', level=logging.ERROR, force=True)\n",
    "\n",
    "import sys\n",
    "import traceback\n",
    "import IPython\n",
    "\n",
    "def showtraceback(self, *args, **kwargs):\n",
    "    etype, value, tb = self._get_exc_info(kwargs.get('exc_tuple'))\n",
    "    stb = self.InteractiveTB.structured_traceback(\n",
    "        etype, value, tb, tb_offset=kwargs.get('tb_offset'))\n",
    "    logging.error(os.environ.get('JUPYTERHUB_USER') or 'jovyan')\n",
    "    logging.error(self.InteractiveTB.stb2text(stb))\n",
    "    _showtraceback(self, *args, **kwargs)\n",
    "\n",
    "def showsyntaxerror(self, *args, **kwargs):\n",
    "    etype, value, last_traceback = self._get_exc_info()\n",
    "    elist = traceback.extract_tb(last_traceback) if kwargs.get('running_compiled_code') else []\n",
    "    stb = self.SyntaxTB.structured_traceback(etype, value, elist)\n",
    "    logging.error(os.environ.get('JUPYTERHUB_USER') or 'jovyan')\n",
    "    logging.error(self.InteractiveTB.stb2text(stb))\n",
    "    _showsyntaxerror(self, *args, **kwargs)\n",
    "\n",
    "IPython.core.interactiveshell.InteractiveShell.showtraceback = showtraceback\n",
    "IPython.core.interactiveshell.InteractiveShell.showsyntaxerror = showsyntaxerror"
   ]
  },
  {
   "cell_type": "markdown",
   "id": "74823c1c",
   "metadata": {},
   "source": [
    "# 課題-3) Plimpton 322 に記載された数表を補完する"
   ]
  },
  {
   "cell_type": "code",
   "execution_count": 4,
   "id": "b9050a52",
   "metadata": {
    "nbgrader": {
     "grade": false,
     "grade_id": "cell-66b28bfa7fc91a88",
     "locked": true,
     "schema_version": 3,
     "solution": false,
     "task": false
    }
   },
   "outputs": [],
   "source": [
    "import math\n",
    "import itertools"
   ]
  },
  {
   "cell_type": "code",
   "execution_count": 7,
   "id": "fd9e1420",
   "metadata": {
    "nbgrader": {
     "grade": false,
     "grade_id": "cell-2ba5e5e7553d9f7b",
     "locked": true,
     "schema_version": 3,
     "solution": false,
     "task": false
    }
   },
   "outputs": [
    {
     "data": {
      "text/plain": [
       "[1, 2, 3, 5, 6, 10, 15, 30]"
      ]
     },
     "execution_count": 7,
     "metadata": {},
     "output_type": "execute_result"
    }
   ],
   "source": [
    "def generate_p(i_max=2, j_max=2, k_max=2):\n",
    "    l = []\n",
    "    for i in range(i_max):\n",
    "        for j in range(j_max):\n",
    "            for k in range(k_max):\n",
    "                l.append(2**i * 3**j * 5**k)\n",
    "    return sorted(l)\n",
    "\n",
    "generate_p()"
   ]
  },
  {
   "cell_type": "code",
   "execution_count": 8,
   "id": "171e2f6c",
   "metadata": {
    "nbgrader": {
     "grade": false,
     "grade_id": "cell-a9b722764d00e9fe",
     "locked": true,
     "schema_version": 3,
     "solution": false,
     "task": false
    }
   },
   "outputs": [],
   "source": [
    "def plimpton322(i_max=2, j_max=2, k_max=2):\n",
    "    pq = []\n",
    "    for p, q in itertools.product(generate_p(i_max,j_max,k_max), repeat=2):\n",
    "        if p > q and math.gcd(p,q) ==1:\n",
    "            if p/q >= 9/5 and p/q <= 12/5:\n",
    "                pq.append((p,q))\n",
    "\n",
    "    return sorted(pq, reverse=True, key=lambda x: x[0]/x[1])"
   ]
  },
  {
   "cell_type": "code",
   "execution_count": 9,
   "id": "df71c963",
   "metadata": {
    "nbgrader": {
     "grade": false,
     "grade_id": "cell-49bfba61f5c156e7",
     "locked": true,
     "schema_version": 3,
     "solution": false,
     "task": false
    }
   },
   "outputs": [
    {
     "data": {
      "text/plain": [
       "[(2, 1)]"
      ]
     },
     "execution_count": 9,
     "metadata": {},
     "output_type": "execute_result"
    }
   ],
   "source": [
    "plimpton322()"
   ]
  },
  {
   "cell_type": "code",
   "execution_count": 10,
   "id": "b1aa6ac0",
   "metadata": {
    "nbgrader": {
     "grade": false,
     "grade_id": "cell-c7d650211906a802",
     "locked": true,
     "schema_version": 3,
     "solution": false,
     "task": false
    }
   },
   "outputs": [
    {
     "data": {
      "text/plain": [
       "[(12, 5), (9, 4), (20, 9), (2, 1), (15, 8), (9, 5)]"
      ]
     },
     "execution_count": 10,
     "metadata": {},
     "output_type": "execute_result"
    }
   ],
   "source": [
    "plimpton322(4,3,2)"
   ]
  },
  {
   "cell_type": "code",
   "execution_count": null,
   "id": "a83bf86b",
   "metadata": {},
   "outputs": [],
   "source": []
  },
  {
   "cell_type": "code",
   "execution_count": null,
   "id": "75d85555",
   "metadata": {},
   "outputs": [],
   "source": []
  },
  {
   "cell_type": "code",
   "execution_count": null,
   "id": "4d1a487c",
   "metadata": {},
   "outputs": [],
   "source": []
  },
  {
   "cell_type": "code",
   "execution_count": 13,
   "id": "5bddac83",
   "metadata": {
    "nbgrader": {
     "grade": false,
     "grade_id": "cell-b7e8e658bc4e001e",
     "locked": true,
     "schema_version": 3,
     "solution": false,
     "task": false
    }
   },
   "outputs": [
    {
     "data": {
      "text/plain": [
       "[(1.983402777777778, 119, 169),\n",
       " (1.815007716049383, 65, 97),\n",
       " (1.7851929012345678, 319, 481),\n",
       " (1.5625, 3, 5),\n",
       " (1.450017361111111, 161, 289),\n",
       " (1.3871604938271607, 56, 106)]"
      ]
     },
     "execution_count": 13,
     "metadata": {},
     "output_type": "execute_result"
    }
   ],
   "source": [
    "import numpy as np\n",
    "import pandas as pd\n",
    "\n",
    "l = []\n",
    "for p, q in plimpton322(4,3,2):\n",
    "    a = 2 * p * q\n",
    "    b = p**2 - q**2\n",
    "    d = p**2 + q**2\n",
    "    l.append(((d/a)**2, b, d))\n",
    "l"
   ]
  },
  {
   "cell_type": "code",
   "execution_count": 14,
   "id": "e9cce07e",
   "metadata": {
    "nbgrader": {
     "grade": false,
     "grade_id": "cell-ab2975018b61d072",
     "locked": true,
     "schema_version": 3,
     "solution": false,
     "task": false
    }
   },
   "outputs": [
    {
     "data": {
      "text/html": [
       "<div>\n",
       "<style scoped>\n",
       "    .dataframe tbody tr th:only-of-type {\n",
       "        vertical-align: middle;\n",
       "    }\n",
       "\n",
       "    .dataframe tbody tr th {\n",
       "        vertical-align: top;\n",
       "    }\n",
       "\n",
       "    .dataframe thead th {\n",
       "        text-align: right;\n",
       "    }\n",
       "</style>\n",
       "<table border=\"1\" class=\"dataframe\">\n",
       "  <thead>\n",
       "    <tr style=\"text-align: right;\">\n",
       "      <th></th>\n",
       "      <th>(d/a)**2</th>\n",
       "      <th>b</th>\n",
       "      <th>d</th>\n",
       "    </tr>\n",
       "  </thead>\n",
       "  <tbody>\n",
       "    <tr>\n",
       "      <th>0</th>\n",
       "      <td>1.983403</td>\n",
       "      <td>119</td>\n",
       "      <td>169</td>\n",
       "    </tr>\n",
       "    <tr>\n",
       "      <th>1</th>\n",
       "      <td>1.815008</td>\n",
       "      <td>65</td>\n",
       "      <td>97</td>\n",
       "    </tr>\n",
       "    <tr>\n",
       "      <th>2</th>\n",
       "      <td>1.785193</td>\n",
       "      <td>319</td>\n",
       "      <td>481</td>\n",
       "    </tr>\n",
       "    <tr>\n",
       "      <th>3</th>\n",
       "      <td>1.562500</td>\n",
       "      <td>3</td>\n",
       "      <td>5</td>\n",
       "    </tr>\n",
       "    <tr>\n",
       "      <th>4</th>\n",
       "      <td>1.450017</td>\n",
       "      <td>161</td>\n",
       "      <td>289</td>\n",
       "    </tr>\n",
       "    <tr>\n",
       "      <th>5</th>\n",
       "      <td>1.387160</td>\n",
       "      <td>56</td>\n",
       "      <td>106</td>\n",
       "    </tr>\n",
       "  </tbody>\n",
       "</table>\n",
       "</div>"
      ],
      "text/plain": [
       "   (d/a)**2    b    d\n",
       "0  1.983403  119  169\n",
       "1  1.815008   65   97\n",
       "2  1.785193  319  481\n",
       "3  1.562500    3    5\n",
       "4  1.450017  161  289\n",
       "5  1.387160   56  106"
      ]
     },
     "execution_count": 14,
     "metadata": {},
     "output_type": "execute_result"
    }
   ],
   "source": [
    "df = pd.DataFrame(l, columns=['(d/a)**2', 'b', 'd'])\n",
    "df"
   ]
  },
  {
   "cell_type": "code",
   "execution_count": 12,
   "id": "9febaed4",
   "metadata": {
    "hide_input": false,
    "nbgrader": {
     "grade": false,
     "grade_id": "cell-389a24bfa3cd0e76",
     "locked": true,
     "schema_version": 3,
     "solution": false,
     "task": false
    }
   },
   "outputs": [
    {
     "data": {
      "text/html": [
       "<div>\n",
       "<style scoped>\n",
       "    .dataframe tbody tr th:only-of-type {\n",
       "        vertical-align: middle;\n",
       "    }\n",
       "\n",
       "    .dataframe tbody tr th {\n",
       "        vertical-align: top;\n",
       "    }\n",
       "\n",
       "    .dataframe thead th {\n",
       "        text-align: right;\n",
       "    }\n",
       "</style>\n",
       "<table border=\"1\" class=\"dataframe\">\n",
       "  <thead>\n",
       "    <tr style=\"text-align: right;\">\n",
       "      <th></th>\n",
       "      <th>or</th>\n",
       "      <th>Short Side</th>\n",
       "      <th>Diagonal</th>\n",
       "      <th>Row #</th>\n",
       "    </tr>\n",
       "  </thead>\n",
       "  <tbody>\n",
       "    <tr>\n",
       "      <th>0</th>\n",
       "      <td>(1).9834028</td>\n",
       "      <td>119</td>\n",
       "      <td>169</td>\n",
       "      <td>1</td>\n",
       "    </tr>\n",
       "    <tr>\n",
       "      <th>1</th>\n",
       "      <td>(1).9491586</td>\n",
       "      <td>3367</td>\n",
       "      <td>4825</td>\n",
       "      <td>2</td>\n",
       "    </tr>\n",
       "    <tr>\n",
       "      <th>2</th>\n",
       "      <td>(1).9188021</td>\n",
       "      <td>4601</td>\n",
       "      <td>6649</td>\n",
       "      <td>3</td>\n",
       "    </tr>\n",
       "    <tr>\n",
       "      <th>3</th>\n",
       "      <td>(1).8862479</td>\n",
       "      <td>12709</td>\n",
       "      <td>18541</td>\n",
       "      <td>4</td>\n",
       "    </tr>\n",
       "    <tr>\n",
       "      <th>4</th>\n",
       "      <td>(1).8150077</td>\n",
       "      <td>65</td>\n",
       "      <td>97</td>\n",
       "      <td>5</td>\n",
       "    </tr>\n",
       "    <tr>\n",
       "      <th>5</th>\n",
       "      <td>(1).7851929</td>\n",
       "      <td>319</td>\n",
       "      <td>481</td>\n",
       "      <td>6</td>\n",
       "    </tr>\n",
       "    <tr>\n",
       "      <th>6</th>\n",
       "      <td>(1).7199837</td>\n",
       "      <td>2291</td>\n",
       "      <td>3541</td>\n",
       "      <td>7</td>\n",
       "    </tr>\n",
       "    <tr>\n",
       "      <th>7</th>\n",
       "      <td>(1).6927094</td>\n",
       "      <td>799</td>\n",
       "      <td>1249</td>\n",
       "      <td>8</td>\n",
       "    </tr>\n",
       "    <tr>\n",
       "      <th>8</th>\n",
       "      <td>(1).6426694</td>\n",
       "      <td>481</td>\n",
       "      <td>769</td>\n",
       "      <td>9</td>\n",
       "    </tr>\n",
       "    <tr>\n",
       "      <th>9</th>\n",
       "      <td>(1).5861226</td>\n",
       "      <td>4961</td>\n",
       "      <td>8161</td>\n",
       "      <td>10</td>\n",
       "    </tr>\n",
       "    <tr>\n",
       "      <th>10</th>\n",
       "      <td>(1).5625</td>\n",
       "      <td>45*</td>\n",
       "      <td>75*</td>\n",
       "      <td>11</td>\n",
       "    </tr>\n",
       "    <tr>\n",
       "      <th>11</th>\n",
       "      <td>(1).4894168</td>\n",
       "      <td>1679</td>\n",
       "      <td>2929</td>\n",
       "      <td>12</td>\n",
       "    </tr>\n",
       "    <tr>\n",
       "      <th>12</th>\n",
       "      <td>(1).4500174</td>\n",
       "      <td>161</td>\n",
       "      <td>289</td>\n",
       "      <td>13</td>\n",
       "    </tr>\n",
       "    <tr>\n",
       "      <th>13</th>\n",
       "      <td>(1).4302388</td>\n",
       "      <td>1771</td>\n",
       "      <td>3229</td>\n",
       "      <td>14</td>\n",
       "    </tr>\n",
       "    <tr>\n",
       "      <th>14</th>\n",
       "      <td>(1).3871605</td>\n",
       "      <td>56*</td>\n",
       "      <td>106*</td>\n",
       "      <td>15</td>\n",
       "    </tr>\n",
       "  </tbody>\n",
       "</table>\n",
       "</div>"
      ],
      "text/plain": [
       "             or Short Side Diagonal  Row #\n",
       "0   (1).9834028        119      169      1\n",
       "1   (1).9491586       3367     4825      2\n",
       "2   (1).9188021       4601     6649      3\n",
       "3   (1).8862479      12709    18541      4\n",
       "4   (1).8150077         65       97      5\n",
       "5   (1).7851929        319      481      6\n",
       "6   (1).7199837       2291     3541      7\n",
       "7   (1).6927094        799     1249      8\n",
       "8   (1).6426694        481      769      9\n",
       "9   (1).5861226       4961     8161     10\n",
       "10     (1).5625        45*      75*     11\n",
       "11  (1).4894168       1679     2929     12\n",
       "12  (1).4500174        161      289     13\n",
       "13  (1).4302388       1771     3229     14\n",
       "14  (1).3871605        56*     106*     15"
      ]
     },
     "execution_count": 12,
     "metadata": {},
     "output_type": "execute_result"
    }
   ],
   "source": [
    "import pandas as pd\n",
    "import requests\n",
    "\n",
    "res = requests.get(\"https://en.wikipedia.org/wiki/Plimpton_322\").text\n",
    "\n",
    "df2=pd.read_html(res)[1]\n",
    "df2"
   ]
  },
  {
   "cell_type": "code",
   "execution_count": null,
   "id": "6b5d0788",
   "metadata": {},
   "outputs": [],
   "source": []
  },
  {
   "cell_type": "code",
   "execution_count": null,
   "id": "2b7aeb4b",
   "metadata": {},
   "outputs": [],
   "source": []
  },
  {
   "cell_type": "code",
   "execution_count": null,
   "id": "f54d1e10",
   "metadata": {},
   "outputs": [],
   "source": []
  },
  {
   "cell_type": "markdown",
   "id": "057980ba",
   "metadata": {
    "nbgrader": {
     "grade": false,
     "grade_id": "cell-b2c44f423f7eb303",
     "locked": true,
     "schema_version": 3,
     "solution": false,
     "task": false
    }
   },
   "source": [
    "## YBC 6967 に基づく解釈\n",
    "\n",
    "$c$を定数とする二次方程式\n",
    "\n",
    "$$\n",
    "x - \\frac{1}{x} = c\n",
    "$$\n",
    "\n",
    "について、\n",
    "$v_{1} = \\frac{c}{2}$、\n",
    "$v_{3} = 1 + {v_{1}}^2 = 1 + (\\frac{c}{2})^2$、\n",
    "$v_{4} = \\sqrt{v_{3}} = \\sqrt{1 + (\\frac{c}{2})^2}$ と置くと、次の連立方程式が成り立つ:\n",
    "\n",
    "$$\n",
    "  \\begin{align}\n",
    "    x &= v_{4} + v_{1} \\\\\n",
    "    \\frac{1}{x} &= v_{4} - v_{1}\n",
    "  \\end{align}\n",
    "$$"
   ]
  },
  {
   "cell_type": "markdown",
   "id": "32e452bd",
   "metadata": {
    "nbgrader": {
     "grade": false,
     "grade_id": "cell-bee60f2891ea619b",
     "locked": true,
     "schema_version": 3,
     "solution": false,
     "task": false
    }
   },
   "source": [
    "補足) これまで出てきた関係式をすべて一覧表に追加 \n",
    "\n",
    "|#1 |#2 |#3 |\n",
    "|:-:|:-:|:-:|\n",
    "|$$\\left(\\frac{d}{a}\\right)^2$$|$$b$$      |$$d$$      |\n",
    "|$$\\frac{1}{4}\\left(\\frac{p}{q}+\\frac{q}{p}\\right)^2$$|$$p^2-q^2$$|$$p^2+q^2$$|\n",
    "|$$1+{v_{1}}^2 = {v_{4}}^2$$|$$a\\cdot v_{1}$$|$$a\\cdot v_{4}$$|\n",
    "|$$1+\\left(\\frac{c}{2}\\right)^2$$|$$\\frac{a}{2}\\left(x-\\frac{1}{x}\\right)$$|$$\\frac{a}{2}\\left(x+\\frac{1}{x}\\right)$$|"
   ]
  },
  {
   "cell_type": "markdown",
   "id": "627497e5",
   "metadata": {
    "nbgrader": {
     "grade": false,
     "grade_id": "cell-153b85e0146d30cf",
     "locked": true,
     "schema_version": 3,
     "solution": false,
     "task": false
    }
   },
   "source": [
    "補足2) Plimpton 322の左側の欠落を想像してみる\n",
    "\n",
    "|.  |.  |.  |.  |\n",
    "|:-:|:-:|:-:|:-:|\n",
    "|$$\\frac{d+b}{a}$$|$$\\frac{d-b}{a}$$|$$2 \\frac{b}{a}$$|$$a$$|\n",
    "|$$\\frac{p}{q}$$|$$\\frac{q}{p}$$|$$\\frac{p}{q}-\\frac{q}{p}$$|$$2qp$$|\n",
    "|$$v_{4}+v_{1}$$|$$v_{4}-v_{1}$$|$$2\\cdot v_{1}$$|$$a$$|\n",
    "|$$x$$|$$\\frac{1}{x}$$|$$c=x-\\frac{1}{x}$$|$$a$$|"
   ]
  },
  {
   "cell_type": "code",
   "execution_count": 15,
   "id": "a164e04a",
   "metadata": {
    "nbgrader": {
     "grade": false,
     "grade_id": "cell-0999b9f4d560186e",
     "locked": true,
     "schema_version": 3,
     "solution": false,
     "task": false
    }
   },
   "outputs": [
    {
     "data": {
      "text/plain": [
       "[(Fraction(12, 5), Fraction(5, 12), Fraction(119, 60), 120, 119, 169),\n",
       " (Fraction(9, 4), Fraction(4, 9), Fraction(65, 36), 72, 65, 97),\n",
       " (Fraction(20, 9), Fraction(9, 20), Fraction(319, 180), 360, 319, 481),\n",
       " (Fraction(2, 1), Fraction(1, 2), Fraction(3, 2), 4, 3, 5),\n",
       " (Fraction(15, 8), Fraction(8, 15), Fraction(161, 120), 240, 161, 289),\n",
       " (Fraction(9, 5), Fraction(5, 9), Fraction(56, 45), 90, 56, 106)]"
      ]
     },
     "execution_count": 15,
     "metadata": {},
     "output_type": "execute_result"
    }
   ],
   "source": [
    "import numpy as np\n",
    "import pandas as pd\n",
    "from fractions import Fraction\n",
    "l = []\n",
    "for p, q in plimpton322(4,3,2):\n",
    "    a = 2 * p * q\n",
    "    b = p**2 - q**2\n",
    "    d = p**2 + q**2\n",
    "    l.append((Fraction(b+d,a), Fraction(d-b,a), Fraction(2*b,a), a, b, d))\n",
    "l"
   ]
  },
  {
   "cell_type": "code",
   "execution_count": 18,
   "id": "0a63ffb7",
   "metadata": {
    "nbgrader": {
     "grade": false,
     "grade_id": "cell-82997e680984fad1",
     "locked": true,
     "schema_version": 3,
     "solution": false,
     "task": false
    }
   },
   "outputs": [
    {
     "data": {
      "text/html": [
       "<div>\n",
       "<style scoped>\n",
       "    .dataframe tbody tr th:only-of-type {\n",
       "        vertical-align: middle;\n",
       "    }\n",
       "\n",
       "    .dataframe tbody tr th {\n",
       "        vertical-align: top;\n",
       "    }\n",
       "\n",
       "    .dataframe thead th {\n",
       "        text-align: right;\n",
       "    }\n",
       "</style>\n",
       "<table border=\"1\" class=\"dataframe\">\n",
       "  <thead>\n",
       "    <tr style=\"text-align: right;\">\n",
       "      <th></th>\n",
       "      <th>x</th>\n",
       "      <th>1/x</th>\n",
       "      <th>c</th>\n",
       "      <th>a</th>\n",
       "      <th>b</th>\n",
       "      <th>d</th>\n",
       "    </tr>\n",
       "  </thead>\n",
       "  <tbody>\n",
       "    <tr>\n",
       "      <th>0</th>\n",
       "      <td>12/5</td>\n",
       "      <td>5/12</td>\n",
       "      <td>119/60</td>\n",
       "      <td>120</td>\n",
       "      <td>119</td>\n",
       "      <td>169</td>\n",
       "    </tr>\n",
       "    <tr>\n",
       "      <th>1</th>\n",
       "      <td>9/4</td>\n",
       "      <td>4/9</td>\n",
       "      <td>65/36</td>\n",
       "      <td>72</td>\n",
       "      <td>65</td>\n",
       "      <td>97</td>\n",
       "    </tr>\n",
       "    <tr>\n",
       "      <th>2</th>\n",
       "      <td>20/9</td>\n",
       "      <td>9/20</td>\n",
       "      <td>319/180</td>\n",
       "      <td>360</td>\n",
       "      <td>319</td>\n",
       "      <td>481</td>\n",
       "    </tr>\n",
       "    <tr>\n",
       "      <th>3</th>\n",
       "      <td>2</td>\n",
       "      <td>1/2</td>\n",
       "      <td>3/2</td>\n",
       "      <td>4</td>\n",
       "      <td>3</td>\n",
       "      <td>5</td>\n",
       "    </tr>\n",
       "    <tr>\n",
       "      <th>4</th>\n",
       "      <td>15/8</td>\n",
       "      <td>8/15</td>\n",
       "      <td>161/120</td>\n",
       "      <td>240</td>\n",
       "      <td>161</td>\n",
       "      <td>289</td>\n",
       "    </tr>\n",
       "    <tr>\n",
       "      <th>5</th>\n",
       "      <td>9/5</td>\n",
       "      <td>5/9</td>\n",
       "      <td>56/45</td>\n",
       "      <td>90</td>\n",
       "      <td>56</td>\n",
       "      <td>106</td>\n",
       "    </tr>\n",
       "  </tbody>\n",
       "</table>\n",
       "</div>"
      ],
      "text/plain": [
       "      x   1/x        c    a    b    d\n",
       "0  12/5  5/12   119/60  120  119  169\n",
       "1   9/4   4/9    65/36   72   65   97\n",
       "2  20/9  9/20  319/180  360  319  481\n",
       "3     2   1/2      3/2    4    3    5\n",
       "4  15/8  8/15  161/120  240  161  289\n",
       "5   9/5   5/9    56/45   90   56  106"
      ]
     },
     "execution_count": 18,
     "metadata": {},
     "output_type": "execute_result"
    }
   ],
   "source": [
    "df = pd.DataFrame(l, columns=['x', '1/x', 'c', 'a', 'b', 'd'])\n",
    "df"
   ]
  },
  {
   "cell_type": "code",
   "execution_count": 24,
   "id": "75916e53",
   "metadata": {},
   "outputs": [],
   "source": [
    "import numpy as np\n",
    "import pandas as pd\n",
    "from fractions import Fraction\n",
    "l = []\n",
    "for p, q in plimpton322(7,6,4):\n",
    "    a = 2 * p * q\n",
    "    b = p**2 - q**2\n",
    "    d = p**2 + q**2\n",
    "    l.append((Fraction(b+d,a), Fraction(d-b,a), Fraction(2*b,a), a, b, d))\n",
    "l;"
   ]
  },
  {
   "cell_type": "code",
   "execution_count": 25,
   "id": "6408468d",
   "metadata": {},
   "outputs": [
    {
     "data": {
      "text/html": [
       "<div>\n",
       "<style scoped>\n",
       "    .dataframe tbody tr th:only-of-type {\n",
       "        vertical-align: middle;\n",
       "    }\n",
       "\n",
       "    .dataframe tbody tr th {\n",
       "        vertical-align: top;\n",
       "    }\n",
       "\n",
       "    .dataframe thead th {\n",
       "        text-align: right;\n",
       "    }\n",
       "</style>\n",
       "<table border=\"1\" class=\"dataframe\">\n",
       "  <thead>\n",
       "    <tr style=\"text-align: right;\">\n",
       "      <th></th>\n",
       "      <th>x</th>\n",
       "      <th>1/x</th>\n",
       "      <th>c</th>\n",
       "      <th>a</th>\n",
       "      <th>b</th>\n",
       "      <th>d</th>\n",
       "    </tr>\n",
       "  </thead>\n",
       "  <tbody>\n",
       "    <tr>\n",
       "      <th>0</th>\n",
       "      <td>12/5</td>\n",
       "      <td>5/12</td>\n",
       "      <td>119/60</td>\n",
       "      <td>120</td>\n",
       "      <td>119</td>\n",
       "      <td>169</td>\n",
       "    </tr>\n",
       "    <tr>\n",
       "      <th>1</th>\n",
       "      <td>64/27</td>\n",
       "      <td>27/64</td>\n",
       "      <td>3367/1728</td>\n",
       "      <td>3456</td>\n",
       "      <td>3367</td>\n",
       "      <td>4825</td>\n",
       "    </tr>\n",
       "    <tr>\n",
       "      <th>2</th>\n",
       "      <td>75/32</td>\n",
       "      <td>32/75</td>\n",
       "      <td>4601/2400</td>\n",
       "      <td>4800</td>\n",
       "      <td>4601</td>\n",
       "      <td>6649</td>\n",
       "    </tr>\n",
       "    <tr>\n",
       "      <th>3</th>\n",
       "      <td>125/54</td>\n",
       "      <td>54/125</td>\n",
       "      <td>12709/6750</td>\n",
       "      <td>13500</td>\n",
       "      <td>12709</td>\n",
       "      <td>18541</td>\n",
       "    </tr>\n",
       "    <tr>\n",
       "      <th>4</th>\n",
       "      <td>288/125</td>\n",
       "      <td>125/288</td>\n",
       "      <td>67319/36000</td>\n",
       "      <td>72000</td>\n",
       "      <td>67319</td>\n",
       "      <td>98569</td>\n",
       "    </tr>\n",
       "    <tr>\n",
       "      <th>5</th>\n",
       "      <td>9/4</td>\n",
       "      <td>4/9</td>\n",
       "      <td>65/36</td>\n",
       "      <td>72</td>\n",
       "      <td>65</td>\n",
       "      <td>97</td>\n",
       "    </tr>\n",
       "    <tr>\n",
       "      <th>6</th>\n",
       "      <td>20/9</td>\n",
       "      <td>9/20</td>\n",
       "      <td>319/180</td>\n",
       "      <td>360</td>\n",
       "      <td>319</td>\n",
       "      <td>481</td>\n",
       "    </tr>\n",
       "    <tr>\n",
       "      <th>7</th>\n",
       "      <td>54/25</td>\n",
       "      <td>25/54</td>\n",
       "      <td>2291/1350</td>\n",
       "      <td>2700</td>\n",
       "      <td>2291</td>\n",
       "      <td>3541</td>\n",
       "    </tr>\n",
       "    <tr>\n",
       "      <th>8</th>\n",
       "      <td>32/15</td>\n",
       "      <td>15/32</td>\n",
       "      <td>799/480</td>\n",
       "      <td>960</td>\n",
       "      <td>799</td>\n",
       "      <td>1249</td>\n",
       "    </tr>\n",
       "    <tr>\n",
       "      <th>9</th>\n",
       "      <td>135/64</td>\n",
       "      <td>64/135</td>\n",
       "      <td>14129/8640</td>\n",
       "      <td>17280</td>\n",
       "      <td>14129</td>\n",
       "      <td>22321</td>\n",
       "    </tr>\n",
       "    <tr>\n",
       "      <th>10</th>\n",
       "      <td>25/12</td>\n",
       "      <td>12/25</td>\n",
       "      <td>481/300</td>\n",
       "      <td>600</td>\n",
       "      <td>481</td>\n",
       "      <td>769</td>\n",
       "    </tr>\n",
       "    <tr>\n",
       "      <th>11</th>\n",
       "      <td>500/243</td>\n",
       "      <td>243/500</td>\n",
       "      <td>190951/121500</td>\n",
       "      <td>243000</td>\n",
       "      <td>190951</td>\n",
       "      <td>309049</td>\n",
       "    </tr>\n",
       "    <tr>\n",
       "      <th>12</th>\n",
       "      <td>81/40</td>\n",
       "      <td>40/81</td>\n",
       "      <td>4961/3240</td>\n",
       "      <td>6480</td>\n",
       "      <td>4961</td>\n",
       "      <td>8161</td>\n",
       "    </tr>\n",
       "    <tr>\n",
       "      <th>13</th>\n",
       "      <td>2</td>\n",
       "      <td>1/2</td>\n",
       "      <td>3/2</td>\n",
       "      <td>4</td>\n",
       "      <td>3</td>\n",
       "      <td>5</td>\n",
       "    </tr>\n",
       "    <tr>\n",
       "      <th>14</th>\n",
       "      <td>160/81</td>\n",
       "      <td>81/160</td>\n",
       "      <td>19039/12960</td>\n",
       "      <td>25920</td>\n",
       "      <td>19039</td>\n",
       "      <td>32161</td>\n",
       "    </tr>\n",
       "    <tr>\n",
       "      <th>15</th>\n",
       "      <td>125/64</td>\n",
       "      <td>64/125</td>\n",
       "      <td>11529/8000</td>\n",
       "      <td>16000</td>\n",
       "      <td>11529</td>\n",
       "      <td>19721</td>\n",
       "    </tr>\n",
       "    <tr>\n",
       "      <th>16</th>\n",
       "      <td>243/125</td>\n",
       "      <td>125/243</td>\n",
       "      <td>43424/30375</td>\n",
       "      <td>60750</td>\n",
       "      <td>43424</td>\n",
       "      <td>74674</td>\n",
       "    </tr>\n",
       "    <tr>\n",
       "      <th>17</th>\n",
       "      <td>48/25</td>\n",
       "      <td>25/48</td>\n",
       "      <td>1679/1200</td>\n",
       "      <td>2400</td>\n",
       "      <td>1679</td>\n",
       "      <td>2929</td>\n",
       "    </tr>\n",
       "    <tr>\n",
       "      <th>18</th>\n",
       "      <td>15/8</td>\n",
       "      <td>8/15</td>\n",
       "      <td>161/120</td>\n",
       "      <td>240</td>\n",
       "      <td>161</td>\n",
       "      <td>289</td>\n",
       "    </tr>\n",
       "    <tr>\n",
       "      <th>19</th>\n",
       "      <td>50/27</td>\n",
       "      <td>27/50</td>\n",
       "      <td>1771/1350</td>\n",
       "      <td>2700</td>\n",
       "      <td>1771</td>\n",
       "      <td>3229</td>\n",
       "    </tr>\n",
       "    <tr>\n",
       "      <th>20</th>\n",
       "      <td>9/5</td>\n",
       "      <td>5/9</td>\n",
       "      <td>56/45</td>\n",
       "      <td>90</td>\n",
       "      <td>56</td>\n",
       "      <td>106</td>\n",
       "    </tr>\n",
       "  </tbody>\n",
       "</table>\n",
       "</div>"
      ],
      "text/plain": [
       "          x      1/x              c       a       b       d\n",
       "0      12/5     5/12         119/60     120     119     169\n",
       "1     64/27    27/64      3367/1728    3456    3367    4825\n",
       "2     75/32    32/75      4601/2400    4800    4601    6649\n",
       "3    125/54   54/125     12709/6750   13500   12709   18541\n",
       "4   288/125  125/288    67319/36000   72000   67319   98569\n",
       "5       9/4      4/9          65/36      72      65      97\n",
       "6      20/9     9/20        319/180     360     319     481\n",
       "7     54/25    25/54      2291/1350    2700    2291    3541\n",
       "8     32/15    15/32        799/480     960     799    1249\n",
       "9    135/64   64/135     14129/8640   17280   14129   22321\n",
       "10    25/12    12/25        481/300     600     481     769\n",
       "11  500/243  243/500  190951/121500  243000  190951  309049\n",
       "12    81/40    40/81      4961/3240    6480    4961    8161\n",
       "13        2      1/2            3/2       4       3       5\n",
       "14   160/81   81/160    19039/12960   25920   19039   32161\n",
       "15   125/64   64/125     11529/8000   16000   11529   19721\n",
       "16  243/125  125/243    43424/30375   60750   43424   74674\n",
       "17    48/25    25/48      1679/1200    2400    1679    2929\n",
       "18     15/8     8/15        161/120     240     161     289\n",
       "19    50/27    27/50      1771/1350    2700    1771    3229\n",
       "20      9/5      5/9          56/45      90      56     106"
      ]
     },
     "execution_count": 25,
     "metadata": {},
     "output_type": "execute_result"
    }
   ],
   "source": [
    "df = pd.DataFrame(l, columns=['x', '1/x', 'c', 'a', 'b', 'd'])\n",
    "df"
   ]
  },
  {
   "cell_type": "code",
   "execution_count": null,
   "id": "5310eca5",
   "metadata": {},
   "outputs": [],
   "source": []
  },
  {
   "cell_type": "code",
   "execution_count": null,
   "id": "6123d06a",
   "metadata": {},
   "outputs": [],
   "source": []
  },
  {
   "cell_type": "code",
   "execution_count": null,
   "id": "d4c4db0d",
   "metadata": {},
   "outputs": [],
   "source": []
  },
  {
   "cell_type": "markdown",
   "id": "f0a33088",
   "metadata": {
    "nbgrader": {
     "grade": false,
     "grade_id": "cell-e61778e91e4ca1c8",
     "locked": true,
     "schema_version": 3,
     "solution": false,
     "task": false
    }
   },
   "source": [
    "---\n",
    "以下、採点用のセルにつき編集できない:"
   ]
  },
  {
   "cell_type": "code",
   "execution_count": 40,
   "id": "5c710261",
   "metadata": {
    "nbgrader": {
     "grade": false,
     "grade_id": "cell-802a8ae943ee2c54",
     "locked": true,
     "schema_version": 3,
     "solution": false,
     "task": false
    }
   },
   "outputs": [],
   "source": [
    "from nose.tools import assert_equal, assert_true"
   ]
  }
 ],
 "metadata": {
  "celltoolbar": "Create Assignment",
  "kernelspec": {
   "display_name": "Python 3 (ipykernel)",
   "language": "python",
   "name": "python3"
  },
  "language_info": {
   "codemirror_mode": {
    "name": "ipython",
    "version": 3
   },
   "file_extension": ".py",
   "mimetype": "text/x-python",
   "name": "python",
   "nbconvert_exporter": "python",
   "pygments_lexer": "ipython3",
   "version": "3.9.12"
  },
  "toc": {
   "base_numbering": 1,
   "nav_menu": {},
   "number_sections": true,
   "sideBar": true,
   "skip_h1_title": false,
   "title_cell": "Table of Contents",
   "title_sidebar": "Contents",
   "toc_cell": false,
   "toc_position": {},
   "toc_section_display": true,
   "toc_window_display": false
  }
 },
 "nbformat": 4,
 "nbformat_minor": 5
}
