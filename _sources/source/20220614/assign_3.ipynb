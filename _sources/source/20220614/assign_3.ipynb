{
 "cells": [
  {
   "cell_type": "code",
   "execution_count": 1,
   "id": "d2844b6f",
   "metadata": {
    "hide_input": true,
    "init_cell": true,
    "tags": [
     "remove-input"
    ]
   },
   "outputs": [],
   "source": [
    "# initialization for my classroom\n",
    "import os\n",
    "from datetime import datetime as dt\n",
    "\n",
    "def logfile(user=os.environ.get('JUPYTERHUB_USER') or 'jovyan'):\n",
    "    prefix='/srv'\n",
    "    if os.path.isdir(prefix) and os.access(prefix, os.W_OK):\n",
    "        prefix+=('/'+user)\n",
    "        if not os.path.isdir(prefix):\n",
    "            os.makedirs(prefix)\n",
    "    else:\n",
    "        prefix='.'\n",
    "    return prefix+'/'+dt.now().strftime('%Y%m%d')+'.log'\n",
    "\n",
    "path=logfile()\n",
    "#%logstop\n",
    "%logstart -otq $path append\n",
    "\n",
    "# [python - cannot override sys.excepthook - Stack Overflow](https://stackoverflow.com/questions/1261668/cannot-override-sys-excepthook/28758396)\n",
    "# https://github.com/ipython/ipython/blob/e6432249582e05f438303ce73d082a0351bb383e/IPython/core/interactiveshell.py#L1952\n",
    "\n",
    "import sys\n",
    "import traceback\n",
    "import IPython\n",
    "\n",
    "try:\n",
    "    _showtraceback\n",
    "except NameError:\n",
    "    _showtraceback=IPython.core.interactiveshell.InteractiveShell.showtraceback\n",
    "\n",
    "try:\n",
    "    _showsyntaxerror\n",
    "except NameError:\n",
    "    _showsyntaxerror=IPython.core.interactiveshell.InteractiveShell.showsyntaxerror\n",
    "\n",
    "import logging\n",
    "logging.basicConfig(filename=path.replace('.log','-exc.log'), format='%(asctime)s %(message)s', level=logging.ERROR, force=True)\n",
    "\n",
    "import sys\n",
    "import traceback\n",
    "import IPython\n",
    "\n",
    "def showtraceback(self, *args, **kwargs):\n",
    "    etype, value, tb = self._get_exc_info(kwargs.get('exc_tuple'))\n",
    "    stb = self.InteractiveTB.structured_traceback(\n",
    "        etype, value, tb, tb_offset=kwargs.get('tb_offset'))\n",
    "    logging.error(os.environ.get('JUPYTERHUB_USER') or 'jovyan')\n",
    "    logging.error(self.InteractiveTB.stb2text(stb))\n",
    "    _showtraceback(self, *args, **kwargs)\n",
    "\n",
    "def showsyntaxerror(self, *args, **kwargs):\n",
    "    etype, value, last_traceback = self._get_exc_info()\n",
    "    elist = traceback.extract_tb(last_traceback) if kwargs.get('running_compiled_code') else []\n",
    "    stb = self.SyntaxTB.structured_traceback(etype, value, elist)\n",
    "    logging.error(os.environ.get('JUPYTERHUB_USER') or 'jovyan')\n",
    "    logging.error(self.InteractiveTB.stb2text(stb))\n",
    "    _showsyntaxerror(self, *args, **kwargs)\n",
    "\n",
    "IPython.core.interactiveshell.InteractiveShell.showtraceback = showtraceback\n",
    "IPython.core.interactiveshell.InteractiveShell.showsyntaxerror = showsyntaxerror"
   ]
  },
  {
   "cell_type": "markdown",
   "id": "aee820b8",
   "metadata": {},
   "source": [
    "# 近代数学とプログラミング (3)"
   ]
  },
  {
   "cell_type": "markdown",
   "id": "0ed547b6",
   "metadata": {},
   "source": [
    "## ベン図と論理演算"
   ]
  },
  {
   "cell_type": "code",
   "execution_count": 2,
   "id": "89e4863c",
   "metadata": {},
   "outputs": [
    {
     "data": {
      "text/plain": [
       "[set(),\n",
       " {0},\n",
       " {0, 1},\n",
       " {0, 1, 2},\n",
       " {0, 1, 2, 3},\n",
       " {0, 1, 2, 3, 4},\n",
       " {0, 1, 2, 3, 4, 5},\n",
       " {0, 1, 2, 3, 4, 5, 6},\n",
       " {0, 1, 2, 3, 4, 5, 6, 7},\n",
       " {0, 1, 2, 3, 4, 5, 6, 7, 8},\n",
       " {0, 1, 2, 3, 4, 5, 6, 7, 8, 9}]"
      ]
     },
     "execution_count": 2,
     "metadata": {},
     "output_type": "execute_result"
    }
   ],
   "source": [
    "n = [set()]\n",
    "\n",
    "def succ(i):\n",
    "    return {i}|n[i]\n",
    "\n",
    "for i in range(10):\n",
    "    n.append(succ(i))\n",
    "n"
   ]
  },
  {
   "cell_type": "code",
   "execution_count": 6,
   "id": "d8d200bd",
   "metadata": {},
   "outputs": [
    {
     "data": {
      "text/plain": [
       "(False, True)"
      ]
     },
     "execution_count": 6,
     "metadata": {},
     "output_type": "execute_result"
    }
   ],
   "source": [
    "n[5]<n[3], n[5]>n[3]"
   ]
  },
  {
   "cell_type": "code",
   "execution_count": 7,
   "id": "64dd115a",
   "metadata": {},
   "outputs": [
    {
     "data": {
      "text/plain": [
       "(False, True)"
      ]
     },
     "execution_count": 7,
     "metadata": {},
     "output_type": "execute_result"
    }
   ],
   "source": [
    "(n[5]&n[3])==n[5], (n[5]&n[3])==n[3]"
   ]
  },
  {
   "cell_type": "code",
   "execution_count": 8,
   "id": "be123aff",
   "metadata": {},
   "outputs": [
    {
     "data": {
      "text/plain": [
       "({0, 1, 2}, {0, 1, 2, 3, 4}, {3, 4}, {3, 4})"
      ]
     },
     "execution_count": 8,
     "metadata": {},
     "output_type": "execute_result"
    }
   ],
   "source": [
    "n[5]&n[3], n[5]|n[3], n[5]^n[3], n[5]-n[3]"
   ]
  },
  {
   "cell_type": "markdown",
   "id": "4f587c12",
   "metadata": {},
   "source": [
    "* (1834&ndash;1923) [John Venn - Wikipedia](https://en.wikipedia.org/wiki/John_Venn)\n",
    "    * [Venn diagram - Wikipedia](https://en.wikipedia.org/wiki/Venn_diagram)\n",
    "      * ```&``` [Intersection (set theory) - Wikipedia](https://en.wikipedia.org/wiki/Intersection_%28set_theory%29)\n",
    "      * ```|``` [Union (set theory) - Wikipedia](https://en.wikipedia.org/wiki/Union_%28set_theory%29)\n",
    "      * ```^``` [Symmetric difference - Wikipedia](https://en.wikipedia.org/wiki/Symmetric_difference)\n",
    "      * ```-``` [Complement (set theory) - Wikipedia](https://en.wikipedia.org/wiki/Complement_%28set_theory%29)"
   ]
  },
  {
   "cell_type": "markdown",
   "id": "3a41b283",
   "metadata": {},
   "source": [
    "![fig-1](https://upload.wikimedia.org/wikipedia/commons/9/99/Venn0001.svg)"
   ]
  },
  {
   "cell_type": "markdown",
   "id": "bdba7e67",
   "metadata": {},
   "source": [
    "![fig-2](https://upload.wikimedia.org/wikipedia/commons/3/30/Venn0111.svg)"
   ]
  },
  {
   "cell_type": "markdown",
   "id": "16744232",
   "metadata": {},
   "source": [
    "![fig-3](https://upload.wikimedia.org/wikipedia/commons/4/46/Venn0110.svg)"
   ]
  },
  {
   "cell_type": "markdown",
   "id": "ab62ea3d",
   "metadata": {},
   "source": [
    "![fig-4](https://upload.wikimedia.org/wikipedia/commons/5/5a/Venn0010.svg)"
   ]
  },
  {
   "cell_type": "code",
   "execution_count": null,
   "id": "9a476b6f",
   "metadata": {},
   "outputs": [],
   "source": []
  },
  {
   "cell_type": "code",
   "execution_count": null,
   "id": "0d31feeb",
   "metadata": {},
   "outputs": [],
   "source": []
  },
  {
   "cell_type": "code",
   "execution_count": null,
   "id": "751e228e",
   "metadata": {},
   "outputs": [],
   "source": []
  },
  {
   "cell_type": "code",
   "execution_count": 3,
   "id": "a84ff721",
   "metadata": {},
   "outputs": [
    {
     "data": {
      "text/plain": [
       "(set(), {0})"
      ]
     },
     "execution_count": 3,
     "metadata": {},
     "output_type": "execute_result"
    }
   ],
   "source": [
    "n[0], n[1]"
   ]
  },
  {
   "cell_type": "code",
   "execution_count": 4,
   "id": "05a050bf",
   "metadata": {},
   "outputs": [
    {
     "data": {
      "text/plain": [
       "(0, 1)"
      ]
     },
     "execution_count": 4,
     "metadata": {},
     "output_type": "execute_result"
    }
   ],
   "source": [
    "len(n[0]), len(n[1])"
   ]
  },
  {
   "cell_type": "code",
   "execution_count": 5,
   "id": "127502f4",
   "metadata": {},
   "outputs": [
    {
     "data": {
      "text/plain": [
       "(False, True)"
      ]
     },
     "execution_count": 5,
     "metadata": {},
     "output_type": "execute_result"
    }
   ],
   "source": [
    "bool(0), bool(1)"
   ]
  },
  {
   "cell_type": "code",
   "execution_count": 6,
   "id": "b0158c1d",
   "metadata": {},
   "outputs": [
    {
     "data": {
      "text/plain": [
       "(False, True)"
      ]
     },
     "execution_count": 6,
     "metadata": {},
     "output_type": "execute_result"
    }
   ],
   "source": [
    "bool(n[0]), bool(n[1])"
   ]
  },
  {
   "cell_type": "code",
   "execution_count": null,
   "id": "e44c5a78",
   "metadata": {},
   "outputs": [],
   "source": []
  },
  {
   "cell_type": "code",
   "execution_count": 7,
   "id": "586466fe",
   "metadata": {},
   "outputs": [
    {
     "data": {
      "text/plain": [
       "(set(), set(), set())"
      ]
     },
     "execution_count": 7,
     "metadata": {},
     "output_type": "execute_result"
    }
   ],
   "source": [
    "n[0]&n[0], n[0]|n[0], n[0]^n[0]"
   ]
  },
  {
   "cell_type": "code",
   "execution_count": 8,
   "id": "0e8b55db",
   "metadata": {},
   "outputs": [
    {
     "data": {
      "text/plain": [
       "[False, False, False]"
      ]
     },
     "execution_count": 8,
     "metadata": {},
     "output_type": "execute_result"
    }
   ],
   "source": [
    "list(map(bool, (n[0]&n[0], n[0]|n[0], n[0]^n[0])))"
   ]
  },
  {
   "cell_type": "code",
   "execution_count": 9,
   "id": "9bbf4103",
   "metadata": {},
   "outputs": [
    {
     "data": {
      "text/plain": [
       "({0}, {0}, set())"
      ]
     },
     "execution_count": 9,
     "metadata": {},
     "output_type": "execute_result"
    }
   ],
   "source": [
    "n[1]&n[1], n[1]|n[1], n[1]^n[1]"
   ]
  },
  {
   "cell_type": "code",
   "execution_count": 10,
   "id": "fc389fd1",
   "metadata": {},
   "outputs": [
    {
     "data": {
      "text/plain": [
       "[True, True, False]"
      ]
     },
     "execution_count": 10,
     "metadata": {},
     "output_type": "execute_result"
    }
   ],
   "source": [
    "list(map(bool, (n[1]&n[1], n[1]|n[1], n[1]^n[1])))"
   ]
  },
  {
   "cell_type": "code",
   "execution_count": 11,
   "id": "b09f5efc",
   "metadata": {},
   "outputs": [
    {
     "data": {
      "text/plain": [
       "(set(), {0}, {0})"
      ]
     },
     "execution_count": 11,
     "metadata": {},
     "output_type": "execute_result"
    }
   ],
   "source": [
    "n[0]&n[1], n[0]|n[1], n[0]^n[1]"
   ]
  },
  {
   "cell_type": "code",
   "execution_count": 12,
   "id": "6876c957",
   "metadata": {},
   "outputs": [
    {
     "data": {
      "text/plain": [
       "[False, True, True]"
      ]
     },
     "execution_count": 12,
     "metadata": {},
     "output_type": "execute_result"
    }
   ],
   "source": [
    "list(map(bool, (n[0]&n[1], n[0]|n[1], n[0]^n[1])))"
   ]
  },
  {
   "cell_type": "code",
   "execution_count": null,
   "id": "a8e51309",
   "metadata": {},
   "outputs": [],
   "source": []
  },
  {
   "cell_type": "code",
   "execution_count": null,
   "id": "00ba0811",
   "metadata": {},
   "outputs": [],
   "source": []
  },
  {
   "cell_type": "code",
   "execution_count": null,
   "id": "f572917c",
   "metadata": {},
   "outputs": [],
   "source": []
  },
  {
   "cell_type": "markdown",
   "id": "f66892ee",
   "metadata": {
    "nbgrader": {
     "grade": false,
     "grade_id": "cell-c339eb45b15462c6",
     "locked": true,
     "schema_version": 3,
     "solution": false,
     "task": false
    }
   },
   "source": [
    "課題-3) 上で定義した自然数を表す集合のリストnの要素の大小を判定する less_than() を論理演算子``&``, ``|``, ``==``を使って定義せよ。"
   ]
  },
  {
   "cell_type": "code",
   "execution_count": 5,
   "id": "d760c2e4",
   "metadata": {
    "nbgrader": {
     "grade": false,
     "grade_id": "cell-0d56742282275a82",
     "locked": false,
     "schema_version": 3,
     "solution": true,
     "task": false
    }
   },
   "outputs": [],
   "source": [
    "def less_than(n0, n1):\n",
    "    ### BEGIN SOLUTION\n",
    "    return (n0&n1) == n0\n",
    "    ### END SOLUTION"
   ]
  },
  {
   "cell_type": "code",
   "execution_count": 7,
   "id": "8a9e522e",
   "metadata": {},
   "outputs": [
    {
     "data": {
      "text/plain": [
       "False"
      ]
     },
     "execution_count": 7,
     "metadata": {},
     "output_type": "execute_result"
    }
   ],
   "source": [
    "less_than(n[5], n[3])"
   ]
  },
  {
   "cell_type": "code",
   "execution_count": null,
   "id": "eb658409",
   "metadata": {},
   "outputs": [],
   "source": []
  },
  {
   "cell_type": "code",
   "execution_count": null,
   "id": "bda44fdb",
   "metadata": {},
   "outputs": [],
   "source": []
  },
  {
   "cell_type": "code",
   "execution_count": null,
   "id": "31c7cab5",
   "metadata": {},
   "outputs": [],
   "source": []
  },
  {
   "cell_type": "markdown",
   "id": "41c580c3",
   "metadata": {
    "nbgrader": {
     "grade": false,
     "grade_id": "cell-7635510b178fd648",
     "locked": true,
     "schema_version": 3,
     "solution": false,
     "task": false
    }
   },
   "source": [
    "---\n",
    "以下、採点用のセルにつき編集できない:"
   ]
  },
  {
   "cell_type": "code",
   "execution_count": null,
   "id": "20198ab6",
   "metadata": {
    "nbgrader": {
     "grade": false,
     "grade_id": "cell-c9c662c69331ac68",
     "locked": true,
     "schema_version": 3,
     "solution": false,
     "task": false
    }
   },
   "outputs": [],
   "source": [
    "from nose.tools import assert_equal, assert_true"
   ]
  },
  {
   "cell_type": "code",
   "execution_count": null,
   "id": "3cc97592",
   "metadata": {
    "nbgrader": {
     "grade": true,
     "grade_id": "cell-b9899135d48d6109",
     "locked": true,
     "points": 1,
     "schema_version": 3,
     "solution": false,
     "task": false
    }
   },
   "outputs": [],
   "source": [
    "assert_equal(less_than(n[5], n[3]), False)"
   ]
  }
 ],
 "metadata": {
  "celltoolbar": "Create Assignment",
  "kernelspec": {
   "display_name": "Python 3 (ipykernel)",
   "language": "python",
   "name": "python3"
  },
  "language_info": {
   "codemirror_mode": {
    "name": "ipython",
    "version": 3
   },
   "file_extension": ".py",
   "mimetype": "text/x-python",
   "name": "python",
   "nbconvert_exporter": "python",
   "pygments_lexer": "ipython3",
   "version": "3.9.12"
  },
  "toc": {
   "base_numbering": 1,
   "nav_menu": {},
   "number_sections": true,
   "sideBar": true,
   "skip_h1_title": false,
   "title_cell": "Table of Contents",
   "title_sidebar": "Contents",
   "toc_cell": false,
   "toc_position": {},
   "toc_section_display": true,
   "toc_window_display": false
  }
 },
 "nbformat": 4,
 "nbformat_minor": 5
}
