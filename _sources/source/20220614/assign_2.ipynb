{
 "cells": [
  {
   "cell_type": "code",
   "execution_count": 1,
   "id": "d2844b6f",
   "metadata": {
    "hide_input": true,
    "init_cell": true
   },
   "outputs": [],
   "source": [
    "# initialization for my classroom\n",
    "import os\n",
    "from datetime import datetime as dt\n",
    "\n",
    "def logfile(user=os.environ.get('JUPYTERHUB_USER') or 'jovyan'):\n",
    "    prefix='/srv'\n",
    "    if os.path.isdir(prefix) and os.access(prefix, os.W_OK):\n",
    "        prefix+=('/'+user)\n",
    "        if not os.path.isdir(prefix):\n",
    "            os.makedirs(prefix)\n",
    "    else:\n",
    "        prefix='.'\n",
    "    return prefix+'/'+dt.now().strftime('%Y%m%d')+'.log'\n",
    "\n",
    "path=logfile()\n",
    "#%logstop\n",
    "%logstart -otq $path append\n",
    "\n",
    "# [python - cannot override sys.excepthook - Stack Overflow](https://stackoverflow.com/questions/1261668/cannot-override-sys-excepthook/28758396)\n",
    "# https://github.com/ipython/ipython/blob/e6432249582e05f438303ce73d082a0351bb383e/IPython/core/interactiveshell.py#L1952\n",
    "\n",
    "import sys\n",
    "import traceback\n",
    "import IPython\n",
    "\n",
    "try:\n",
    "    _showtraceback\n",
    "except NameError:\n",
    "    _showtraceback=IPython.core.interactiveshell.InteractiveShell.showtraceback\n",
    "\n",
    "try:\n",
    "    _showsyntaxerror\n",
    "except NameError:\n",
    "    _showsyntaxerror=IPython.core.interactiveshell.InteractiveShell.showsyntaxerror\n",
    "\n",
    "import logging\n",
    "logging.basicConfig(filename=path.replace('.log','-exc.log'), format='%(asctime)s %(message)s', level=logging.ERROR, force=True)\n",
    "\n",
    "import sys\n",
    "import traceback\n",
    "import IPython\n",
    "\n",
    "def showtraceback(self, *args, **kwargs):\n",
    "    etype, value, tb = self._get_exc_info(kwargs.get('exc_tuple'))\n",
    "    stb = self.InteractiveTB.structured_traceback(\n",
    "        etype, value, tb, tb_offset=kwargs.get('tb_offset'))\n",
    "    logging.error(os.environ.get('JUPYTERHUB_USER') or 'jovyan')\n",
    "    logging.error(self.InteractiveTB.stb2text(stb))\n",
    "    _showtraceback(self, *args, **kwargs)\n",
    "\n",
    "def showsyntaxerror(self, *args, **kwargs):\n",
    "    etype, value, last_traceback = self._get_exc_info()\n",
    "    elist = traceback.extract_tb(last_traceback) if kwargs.get('running_compiled_code') else []\n",
    "    stb = self.SyntaxTB.structured_traceback(etype, value, elist)\n",
    "    logging.error(os.environ.get('JUPYTERHUB_USER') or 'jovyan')\n",
    "    logging.error(self.InteractiveTB.stb2text(stb))\n",
    "    _showsyntaxerror(self, *args, **kwargs)\n",
    "\n",
    "IPython.core.interactiveshell.InteractiveShell.showtraceback = showtraceback\n",
    "IPython.core.interactiveshell.InteractiveShell.showsyntaxerror = showsyntaxerror"
   ]
  },
  {
   "cell_type": "markdown",
   "id": "aee820b8",
   "metadata": {},
   "source": [
    "# 近代数学とプログラミング"
   ]
  },
  {
   "cell_type": "markdown",
   "id": "2d5068dc",
   "metadata": {},
   "source": [
    "## 集合論と序数"
   ]
  },
  {
   "cell_type": "markdown",
   "id": "46e5f2fb",
   "metadata": {},
   "source": [
    "* [5. Data Structures — Python 3.10.5 documentation](https://docs.python.org/3/tutorial/datastructures.html#sets)\n",
    "  - [Built-in Types — Python 3.10.5 documentation](https://docs.python.org/3/library/stdtypes.html#set)"
   ]
  },
  {
   "cell_type": "markdown",
   "id": "49fcda05",
   "metadata": {},
   "source": [
    "### Pythonの空集合 $\\phi$ の扱い:"
   ]
  },
  {
   "cell_type": "markdown",
   "id": "f0893076",
   "metadata": {},
   "source": [
    "``list``と``tuple``と``dict``と``set``"
   ]
  },
  {
   "cell_type": "code",
   "execution_count": 2,
   "id": "c78a92ba",
   "metadata": {},
   "outputs": [
    {
     "data": {
      "text/plain": [
       "([], [], [])"
      ]
     },
     "execution_count": 2,
     "metadata": {},
     "output_type": "execute_result"
    }
   ],
   "source": [
    "[], list([]), list()"
   ]
  },
  {
   "cell_type": "code",
   "execution_count": 3,
   "id": "97920423",
   "metadata": {},
   "outputs": [
    {
     "data": {
      "text/plain": [
       "[list, list, list]"
      ]
     },
     "execution_count": 3,
     "metadata": {},
     "output_type": "execute_result"
    }
   ],
   "source": [
    "list(map(type, ([], list([]), list())))"
   ]
  },
  {
   "cell_type": "code",
   "execution_count": 6,
   "id": "2480dfca",
   "metadata": {},
   "outputs": [
    {
     "data": {
      "text/plain": [
       "[False, False, False]"
      ]
     },
     "execution_count": 6,
     "metadata": {},
     "output_type": "execute_result"
    }
   ],
   "source": [
    "list(map(bool, ([], list([]), list())))"
   ]
  },
  {
   "cell_type": "code",
   "execution_count": 7,
   "id": "6f8110cb",
   "metadata": {},
   "outputs": [
    {
     "name": "stdout",
     "output_type": "stream",
     "text": [
      "empty\n"
     ]
    }
   ],
   "source": [
    "if not []:\n",
    "    print('empty')"
   ]
  },
  {
   "cell_type": "code",
   "execution_count": null,
   "id": "e346643f",
   "metadata": {},
   "outputs": [],
   "source": []
  },
  {
   "cell_type": "code",
   "execution_count": null,
   "id": "48733c65",
   "metadata": {},
   "outputs": [],
   "source": []
  },
  {
   "cell_type": "code",
   "execution_count": null,
   "id": "81d49a5d",
   "metadata": {},
   "outputs": [],
   "source": []
  },
  {
   "cell_type": "code",
   "execution_count": 9,
   "id": "00401090",
   "metadata": {},
   "outputs": [
    {
     "data": {
      "text/plain": [
       "((), (), ())"
      ]
     },
     "execution_count": 9,
     "metadata": {},
     "output_type": "execute_result"
    }
   ],
   "source": [
    "(), tuple(()), tuple()"
   ]
  },
  {
   "cell_type": "code",
   "execution_count": 10,
   "id": "adba0ea3",
   "metadata": {},
   "outputs": [
    {
     "data": {
      "text/plain": [
       "[tuple, tuple, tuple]"
      ]
     },
     "execution_count": 10,
     "metadata": {},
     "output_type": "execute_result"
    }
   ],
   "source": [
    "list(map(type, ((), tuple(()), tuple())))"
   ]
  },
  {
   "cell_type": "code",
   "execution_count": 11,
   "id": "71a12449",
   "metadata": {},
   "outputs": [
    {
     "data": {
      "text/plain": [
       "[False, False, False]"
      ]
     },
     "execution_count": 11,
     "metadata": {},
     "output_type": "execute_result"
    }
   ],
   "source": [
    "list(map(bool, ((), tuple(()), tuple())))"
   ]
  },
  {
   "cell_type": "code",
   "execution_count": 12,
   "id": "3b1f0346",
   "metadata": {},
   "outputs": [
    {
     "name": "stdout",
     "output_type": "stream",
     "text": [
      "empty\n"
     ]
    }
   ],
   "source": [
    "if not ():\n",
    "    print('empty')"
   ]
  },
  {
   "cell_type": "code",
   "execution_count": null,
   "id": "d2620deb",
   "metadata": {},
   "outputs": [],
   "source": []
  },
  {
   "cell_type": "code",
   "execution_count": null,
   "id": "ed8d64a9",
   "metadata": {},
   "outputs": [],
   "source": []
  },
  {
   "cell_type": "code",
   "execution_count": null,
   "id": "ddb597b7",
   "metadata": {},
   "outputs": [],
   "source": []
  },
  {
   "cell_type": "code",
   "execution_count": 13,
   "id": "49aa9d58",
   "metadata": {},
   "outputs": [
    {
     "data": {
      "text/plain": [
       "({}, {}, {})"
      ]
     },
     "execution_count": 13,
     "metadata": {},
     "output_type": "execute_result"
    }
   ],
   "source": [
    "{}, dict({}), dict()"
   ]
  },
  {
   "cell_type": "code",
   "execution_count": 14,
   "id": "94c9fb7b",
   "metadata": {},
   "outputs": [
    {
     "data": {
      "text/plain": [
       "[dict, dict, dict]"
      ]
     },
     "execution_count": 14,
     "metadata": {},
     "output_type": "execute_result"
    }
   ],
   "source": [
    "list(map(type, ({}, dict({}), dict())))"
   ]
  },
  {
   "cell_type": "code",
   "execution_count": 15,
   "id": "3cd63ca2",
   "metadata": {},
   "outputs": [
    {
     "data": {
      "text/plain": [
       "[False, False, False]"
      ]
     },
     "execution_count": 15,
     "metadata": {},
     "output_type": "execute_result"
    }
   ],
   "source": [
    "list(map(bool, ({}, dict({}), dict())))"
   ]
  },
  {
   "cell_type": "code",
   "execution_count": 17,
   "id": "5f6e3ba5",
   "metadata": {
    "scrolled": true
   },
   "outputs": [
    {
     "name": "stdout",
     "output_type": "stream",
     "text": [
      "empty\n"
     ]
    }
   ],
   "source": [
    "if not {}:\n",
    "    print('empty')"
   ]
  },
  {
   "cell_type": "code",
   "execution_count": 26,
   "id": "0a154dc0",
   "metadata": {},
   "outputs": [
    {
     "data": {
      "text/plain": [
       "{'jack': 4098, 'sape': 4139}"
      ]
     },
     "execution_count": 26,
     "metadata": {},
     "output_type": "execute_result"
    }
   ],
   "source": [
    "d={'jack': 4098, 'sape': 4139}\n",
    "d"
   ]
  },
  {
   "cell_type": "code",
   "execution_count": 27,
   "id": "3790763d",
   "metadata": {},
   "outputs": [
    {
     "data": {
      "text/plain": [
       "(dict, 4098)"
      ]
     },
     "execution_count": 27,
     "metadata": {},
     "output_type": "execute_result"
    }
   ],
   "source": [
    "type(d), d['jack']"
   ]
  },
  {
   "cell_type": "code",
   "execution_count": null,
   "id": "22f48746",
   "metadata": {},
   "outputs": [],
   "source": []
  },
  {
   "cell_type": "code",
   "execution_count": null,
   "id": "57cd687b",
   "metadata": {},
   "outputs": [],
   "source": []
  },
  {
   "cell_type": "code",
   "execution_count": null,
   "id": "c24bac78",
   "metadata": {},
   "outputs": [],
   "source": []
  },
  {
   "cell_type": "markdown",
   "id": "62143e25",
   "metadata": {},
   "source": [
    "* [PEP 218 – Adding a Built-In Set Object Type | peps.python.org](https://peps.python.org/pep-0218/)"
   ]
  },
  {
   "cell_type": "code",
   "execution_count": 4,
   "id": "a6ef25f6",
   "metadata": {},
   "outputs": [
    {
     "data": {
      "text/plain": [
       "({}, set(), set())"
      ]
     },
     "execution_count": 4,
     "metadata": {},
     "output_type": "execute_result"
    }
   ],
   "source": [
    "{}, set({}), set()"
   ]
  },
  {
   "cell_type": "code",
   "execution_count": 4,
   "id": "3df2561d",
   "metadata": {},
   "outputs": [
    {
     "data": {
      "text/plain": [
       "[dict, set, set]"
      ]
     },
     "execution_count": 4,
     "metadata": {},
     "output_type": "execute_result"
    }
   ],
   "source": [
    "list(map(type, ({}, set({}), set())))"
   ]
  },
  {
   "cell_type": "code",
   "execution_count": 18,
   "id": "70715622",
   "metadata": {},
   "outputs": [
    {
     "data": {
      "text/plain": [
       "[False, False, False]"
      ]
     },
     "execution_count": 18,
     "metadata": {},
     "output_type": "execute_result"
    }
   ],
   "source": [
    "list(map(bool, ({}, set({}), set())))"
   ]
  },
  {
   "cell_type": "code",
   "execution_count": 19,
   "id": "1419f074",
   "metadata": {},
   "outputs": [
    {
     "name": "stdout",
     "output_type": "stream",
     "text": [
      "empty\n"
     ]
    }
   ],
   "source": [
    "if not set({}):\n",
    "    print('empty')"
   ]
  },
  {
   "cell_type": "code",
   "execution_count": 21,
   "id": "1e5ea552",
   "metadata": {},
   "outputs": [
    {
     "data": {
      "text/plain": [
       "{1, 2, 3}"
      ]
     },
     "execution_count": 21,
     "metadata": {},
     "output_type": "execute_result"
    }
   ],
   "source": [
    "s={1,2,3}\n",
    "s"
   ]
  },
  {
   "cell_type": "code",
   "execution_count": 25,
   "id": "24e5505f",
   "metadata": {},
   "outputs": [
    {
     "data": {
      "text/plain": [
       "set"
      ]
     },
     "execution_count": 25,
     "metadata": {},
     "output_type": "execute_result"
    }
   ],
   "source": [
    "type(s)"
   ]
  },
  {
   "cell_type": "code",
   "execution_count": null,
   "id": "b9c6f8a8",
   "metadata": {},
   "outputs": [],
   "source": []
  },
  {
   "cell_type": "code",
   "execution_count": null,
   "id": "8f9d05cf",
   "metadata": {},
   "outputs": [],
   "source": []
  },
  {
   "cell_type": "code",
   "execution_count": null,
   "id": "e394915d",
   "metadata": {},
   "outputs": [],
   "source": []
  },
  {
   "cell_type": "markdown",
   "id": "4eb2a74e",
   "metadata": {},
   "source": [
    "### von Neumannの序数"
   ]
  },
  {
   "cell_type": "markdown",
   "id": "1df5172c",
   "metadata": {},
   "source": [
    "* (1903&ndash;1957) [John von Neumann - Wikipedia](https://en.wikipedia.org/wiki/John_von_Neumann)\n",
    "  - [Ordinal number - Wikipedia](https://en.wikipedia.org/wiki/Ordinal_number#Von_Neumann_definition_of_ordinals)\n",
    "    - [Set-theoretic definition of natural numbers - Wikipedia](https://en.wikipedia.org/wiki/Set-theoretic_definition_of_natural_numbers#:~:text=Definition%20as%20von%20Neumann%20ordinals,-See%20also%3A%20Zermelo&text=The%20set%20N%20of%20natural,Peano%20axioms%20%28Goldrei%201996%29.)"
   ]
  },
  {
   "cell_type": "markdown",
   "id": "3dc72201",
   "metadata": {},
   "source": [
    "ひとつ前の集合を包含する:\n",
    "\n",
    "$$\n",
    "  \\begin{align}\n",
    "    0 &= \\{\\} \\\\\n",
    "    S(a) &= a \\cup \\{a\\} \n",
    "  \\end{align}\n",
    "$$\n",
    "\n",
    "0. $\\phi$\n",
    "1. $\\{\\phi\\}$\n",
    "2. $\\{\\phi, \\{\\phi\\}\\}$\n",
    "3. $\\{\\phi, \\{\\phi, \\{\\phi\\}\\}\\}$"
   ]
  },
  {
   "cell_type": "markdown",
   "id": "e98331e5",
   "metadata": {},
   "source": [
    "Pythonでは、集合は集合を含むことができない。"
   ]
  },
  {
   "cell_type": "code",
   "execution_count": 2,
   "id": "4013fddb",
   "metadata": {},
   "outputs": [],
   "source": [
    "def succ(n):\n",
    "    return n|{n}"
   ]
  },
  {
   "cell_type": "code",
   "execution_count": 3,
   "id": "a2df932c",
   "metadata": {},
   "outputs": [
    {
     "ename": "TypeError",
     "evalue": "unhashable type: 'set'",
     "output_type": "error",
     "traceback": [
      "\u001b[0;31m---------------------------------------------------------------------------\u001b[0m",
      "\u001b[0;31mTypeError\u001b[0m                                 Traceback (most recent call last)",
      "Input \u001b[0;32mIn [3]\u001b[0m, in \u001b[0;36m<cell line: 1>\u001b[0;34m()\u001b[0m\n\u001b[0;32m----> 1\u001b[0m \u001b[43msucc\u001b[49m\u001b[43m(\u001b[49m\u001b[38;5;28;43mset\u001b[39;49m\u001b[43m(\u001b[49m\u001b[43m)\u001b[49m\u001b[43m)\u001b[49m\n",
      "Input \u001b[0;32mIn [2]\u001b[0m, in \u001b[0;36msucc\u001b[0;34m(n)\u001b[0m\n\u001b[1;32m      1\u001b[0m \u001b[38;5;28;01mdef\u001b[39;00m \u001b[38;5;21msucc\u001b[39m(n):\n\u001b[0;32m----> 2\u001b[0m     \u001b[38;5;28;01mreturn\u001b[39;00m n\u001b[38;5;241m|\u001b[39m{n}\n",
      "\u001b[0;31mTypeError\u001b[0m: unhashable type: 'set'"
     ]
    }
   ],
   "source": [
    "succ(set())"
   ]
  },
  {
   "cell_type": "code",
   "execution_count": 4,
   "id": "420110c7",
   "metadata": {},
   "outputs": [
    {
     "ename": "TypeError",
     "evalue": "unhashable type: 'set'",
     "output_type": "error",
     "traceback": [
      "\u001b[0;31m---------------------------------------------------------------------------\u001b[0m",
      "\u001b[0;31mTypeError\u001b[0m                                 Traceback (most recent call last)",
      "Input \u001b[0;32mIn [4]\u001b[0m, in \u001b[0;36m<cell line: 1>\u001b[0;34m()\u001b[0m\n\u001b[0;32m----> 1\u001b[0m \u001b[38;5;28mset\u001b[39m()\u001b[38;5;241m|\u001b[39m{\u001b[38;5;28mset\u001b[39m()}\n",
      "\u001b[0;31mTypeError\u001b[0m: unhashable type: 'set'"
     ]
    }
   ],
   "source": [
    "set()|{set()}"
   ]
  },
  {
   "cell_type": "code",
   "execution_count": 5,
   "id": "7662630b",
   "metadata": {},
   "outputs": [
    {
     "ename": "TypeError",
     "evalue": "unsupported operand type(s) for |: 'int' and 'set'",
     "output_type": "error",
     "traceback": [
      "\u001b[0;31m---------------------------------------------------------------------------\u001b[0m",
      "\u001b[0;31mTypeError\u001b[0m                                 Traceback (most recent call last)",
      "Input \u001b[0;32mIn [5]\u001b[0m, in \u001b[0;36m<cell line: 1>\u001b[0;34m()\u001b[0m\n\u001b[0;32m----> 1\u001b[0m \u001b[38;5;241;43m0\u001b[39;49m\u001b[38;5;241;43m|\u001b[39;49m\u001b[43m{\u001b[49m\u001b[38;5;241;43m0\u001b[39;49m\u001b[43m}\u001b[49m\n",
      "\u001b[0;31mTypeError\u001b[0m: unsupported operand type(s) for |: 'int' and 'set'"
     ]
    }
   ],
   "source": [
    "0|{0}"
   ]
  },
  {
   "cell_type": "code",
   "execution_count": null,
   "id": "7da85616",
   "metadata": {},
   "outputs": [],
   "source": []
  },
  {
   "cell_type": "code",
   "execution_count": null,
   "id": "bcf40149",
   "metadata": {},
   "outputs": [],
   "source": []
  },
  {
   "cell_type": "code",
   "execution_count": null,
   "id": "5ac10e4b",
   "metadata": {},
   "outputs": [],
   "source": []
  },
  {
   "cell_type": "markdown",
   "id": "2ca3a430",
   "metadata": {},
   "source": [
    "次のように表現する:"
   ]
  },
  {
   "cell_type": "code",
   "execution_count": 6,
   "id": "1b2572d5",
   "metadata": {},
   "outputs": [
    {
     "data": {
      "text/plain": [
       "[set(), None, None, None, None, None, None, None, None, None]"
      ]
     },
     "execution_count": 6,
     "metadata": {},
     "output_type": "execute_result"
    }
   ],
   "source": [
    "n = [None]*10\n",
    "n[0] = set()\n",
    "n"
   ]
  },
  {
   "cell_type": "code",
   "execution_count": 7,
   "id": "5b5c374e",
   "metadata": {},
   "outputs": [
    {
     "data": {
      "text/plain": [
       "[set(), {0}, None, None, None, None, None, None, None, None]"
      ]
     },
     "execution_count": 7,
     "metadata": {},
     "output_type": "execute_result"
    }
   ],
   "source": [
    "n[1] = {0}|n[0]\n",
    "n"
   ]
  },
  {
   "cell_type": "code",
   "execution_count": 8,
   "id": "a6af5b8d",
   "metadata": {},
   "outputs": [
    {
     "data": {
      "text/plain": [
       "[set(), {0}, {0, 1}, None, None, None, None, None, None, None]"
      ]
     },
     "execution_count": 8,
     "metadata": {},
     "output_type": "execute_result"
    }
   ],
   "source": [
    "n[2] = {1}|n[1]\n",
    "n"
   ]
  },
  {
   "cell_type": "code",
   "execution_count": 9,
   "id": "a92a0460",
   "metadata": {},
   "outputs": [
    {
     "data": {
      "text/plain": [
       "[set(), {0}, {0, 1}, {0, 1, 2}, None, None, None, None, None, None]"
      ]
     },
     "execution_count": 9,
     "metadata": {},
     "output_type": "execute_result"
    }
   ],
   "source": [
    "n[3] = {2}|n[2]\n",
    "n"
   ]
  },
  {
   "cell_type": "code",
   "execution_count": null,
   "id": "3ab0a903",
   "metadata": {},
   "outputs": [],
   "source": []
  },
  {
   "cell_type": "code",
   "execution_count": null,
   "id": "e3b2a4f9",
   "metadata": {},
   "outputs": [],
   "source": []
  },
  {
   "cell_type": "code",
   "execution_count": null,
   "id": "0637051e",
   "metadata": {},
   "outputs": [],
   "source": []
  },
  {
   "cell_type": "code",
   "execution_count": 10,
   "id": "a5c97d35",
   "metadata": {},
   "outputs": [
    {
     "data": {
      "text/plain": [
       "[set(),\n",
       " {0},\n",
       " {0, 1},\n",
       " {0, 1, 2},\n",
       " {0, 1, 2, 3},\n",
       " {0, 1, 2, 3, 4},\n",
       " {0, 1, 2, 3, 4, 5},\n",
       " {0, 1, 2, 3, 4, 5, 6},\n",
       " {0, 1, 2, 3, 4, 5, 6, 7},\n",
       " {0, 1, 2, 3, 4, 5, 6, 7, 8},\n",
       " {0, 1, 2, 3, 4, 5, 6, 7, 8, 9}]"
      ]
     },
     "execution_count": 10,
     "metadata": {},
     "output_type": "execute_result"
    }
   ],
   "source": [
    "n = [set()]\n",
    "\n",
    "def succ(i):\n",
    "    return {i}|n[i]\n",
    "\n",
    "for i in range(10):\n",
    "    n.append(succ(i))\n",
    "n"
   ]
  },
  {
   "cell_type": "code",
   "execution_count": 37,
   "id": "11781d31",
   "metadata": {},
   "outputs": [
    {
     "data": {
      "text/plain": [
       "(set(), {0})"
      ]
     },
     "execution_count": 37,
     "metadata": {},
     "output_type": "execute_result"
    }
   ],
   "source": [
    "n[0], n[1]"
   ]
  },
  {
   "cell_type": "code",
   "execution_count": null,
   "id": "20ef1809",
   "metadata": {},
   "outputs": [],
   "source": []
  },
  {
   "cell_type": "code",
   "execution_count": null,
   "id": "de1e48e3",
   "metadata": {},
   "outputs": [],
   "source": []
  },
  {
   "cell_type": "markdown",
   "id": "13affee5",
   "metadata": {},
   "source": [
    "集合の包含関係による順序が導入されているが、プログラミング的に応用は難しい･･･\n",
    "* [Set (mathematics) - Wikipedia](https://en.wikipedia.org/wiki/Set_%28mathematics%29#Subsets)"
   ]
  },
  {
   "cell_type": "markdown",
   "id": "64b22ac5",
   "metadata": {},
   "source": [
    "$\\{0,1,2\\} \\subset \\{0,1,2,3,4\\}$"
   ]
  },
  {
   "cell_type": "code",
   "execution_count": 134,
   "id": "878e0fca",
   "metadata": {},
   "outputs": [
    {
     "data": {
      "text/plain": [
       "(int, int)"
      ]
     },
     "execution_count": 134,
     "metadata": {},
     "output_type": "execute_result"
    }
   ],
   "source": [
    "type(5), type(3)"
   ]
  },
  {
   "cell_type": "code",
   "execution_count": 135,
   "id": "00423ab5",
   "metadata": {},
   "outputs": [
    {
     "data": {
      "text/plain": [
       "(False, True)"
      ]
     },
     "execution_count": 135,
     "metadata": {},
     "output_type": "execute_result"
    }
   ],
   "source": [
    "5<3, 5>3"
   ]
  },
  {
   "cell_type": "code",
   "execution_count": 136,
   "id": "f80c620c",
   "metadata": {},
   "outputs": [
    {
     "data": {
      "text/plain": [
       "({0, 1, 2, 3, 4}, {0, 1, 2})"
      ]
     },
     "execution_count": 136,
     "metadata": {},
     "output_type": "execute_result"
    }
   ],
   "source": [
    "n[5], n[3]"
   ]
  },
  {
   "cell_type": "code",
   "execution_count": 137,
   "id": "4fee2328",
   "metadata": {},
   "outputs": [
    {
     "data": {
      "text/plain": [
       "(set, set)"
      ]
     },
     "execution_count": 137,
     "metadata": {},
     "output_type": "execute_result"
    }
   ],
   "source": [
    "type(n[5]), type(n[3])"
   ]
  },
  {
   "cell_type": "code",
   "execution_count": 138,
   "id": "f015adf8",
   "metadata": {},
   "outputs": [
    {
     "data": {
      "text/plain": [
       "(False, True)"
      ]
     },
     "execution_count": 138,
     "metadata": {},
     "output_type": "execute_result"
    }
   ],
   "source": [
    "n[5]<n[3], n[5]>n[3]"
   ]
  },
  {
   "cell_type": "code",
   "execution_count": 139,
   "id": "33d09ab6",
   "metadata": {},
   "outputs": [
    {
     "data": {
      "text/plain": [
       "(False, True)"
      ]
     },
     "execution_count": 139,
     "metadata": {},
     "output_type": "execute_result"
    }
   ],
   "source": [
    "n[5].issubset(n[3]), n[3].issubset(n[5])"
   ]
  },
  {
   "cell_type": "code",
   "execution_count": null,
   "id": "e9a7aaf4",
   "metadata": {},
   "outputs": [],
   "source": []
  },
  {
   "cell_type": "code",
   "execution_count": null,
   "id": "1f22e470",
   "metadata": {},
   "outputs": [],
   "source": []
  },
  {
   "cell_type": "code",
   "execution_count": null,
   "id": "12012652",
   "metadata": {},
   "outputs": [],
   "source": []
  },
  {
   "cell_type": "code",
   "execution_count": 140,
   "id": "650a113a",
   "metadata": {},
   "outputs": [
    {
     "data": {
      "text/plain": [
       "(False, True)"
      ]
     },
     "execution_count": 140,
     "metadata": {},
     "output_type": "execute_result"
    }
   ],
   "source": [
    "(n[5]&n[3])==n[5], (n[5]&n[3])==n[3]"
   ]
  },
  {
   "cell_type": "code",
   "execution_count": 141,
   "id": "eccc3471",
   "metadata": {},
   "outputs": [
    {
     "data": {
      "text/plain": [
       "({0, 1, 2}, {0, 1, 2, 3, 4}, {3, 4}, {3, 4})"
      ]
     },
     "execution_count": 141,
     "metadata": {},
     "output_type": "execute_result"
    }
   ],
   "source": [
    "n[5]&n[3], n[5]|n[3], n[5]^n[3], n[5]-n[3]"
   ]
  },
  {
   "cell_type": "code",
   "execution_count": null,
   "id": "94bb681f",
   "metadata": {},
   "outputs": [],
   "source": []
  },
  {
   "cell_type": "code",
   "execution_count": null,
   "id": "dcca7248",
   "metadata": {},
   "outputs": [],
   "source": []
  },
  {
   "cell_type": "code",
   "execution_count": null,
   "id": "1b78bc40",
   "metadata": {},
   "outputs": [],
   "source": []
  },
  {
   "cell_type": "code",
   "execution_count": 54,
   "id": "7290938b",
   "metadata": {},
   "outputs": [
    {
     "data": {
      "text/plain": [
       "[0, 1, 2, 3, 4, 5, 6, 7, 8, 9]"
      ]
     },
     "execution_count": 54,
     "metadata": {},
     "output_type": "execute_result"
    }
   ],
   "source": [
    "list(map(len, n))"
   ]
  },
  {
   "cell_type": "code",
   "execution_count": 38,
   "id": "8e786751",
   "metadata": {},
   "outputs": [
    {
     "data": {
      "text/plain": [
       "[set(),\n",
       " {0},\n",
       " {0, 1},\n",
       " {0, 1, 2},\n",
       " {0, 1, 2, 3},\n",
       " {0, 1, 2, 3, 4},\n",
       " {0, 1, 2, 3, 4, 5},\n",
       " {0, 1, 2, 3, 4, 5, 6},\n",
       " {0, 1, 2, 3, 4, 5, 6, 7},\n",
       " {0, 1, 2, 3, 4, 5, 6, 7, 8},\n",
       " {0, 1, 2, 3, 4, 5, 6, 7, 8, 9}]"
      ]
     },
     "execution_count": 38,
     "metadata": {},
     "output_type": "execute_result"
    }
   ],
   "source": [
    "sorted(n)"
   ]
  },
  {
   "cell_type": "code",
   "execution_count": 60,
   "id": "0e2e072b",
   "metadata": {},
   "outputs": [
    {
     "data": {
      "text/plain": [
       "[set(),\n",
       " {0},\n",
       " {0, 1},\n",
       " {0, 1, 2},\n",
       " {0, 1, 2, 3},\n",
       " {0, 1, 2, 3, 4},\n",
       " {0, 1, 2, 3, 4, 5},\n",
       " {0, 1, 2, 3, 4, 5, 6},\n",
       " {0, 1, 2, 3, 4, 5, 6, 7},\n",
       " {0, 1, 2, 3, 4, 5, 6, 7, 8}]"
      ]
     },
     "execution_count": 60,
     "metadata": {},
     "output_type": "execute_result"
    }
   ],
   "source": [
    "sorted(n, key=lambda x: len(x))"
   ]
  },
  {
   "cell_type": "code",
   "execution_count": 59,
   "id": "b68b0944",
   "metadata": {},
   "outputs": [
    {
     "data": {
      "text/plain": [
       "[{0, 1, 2, 3, 4, 5, 6, 7, 8},\n",
       " {0, 1, 2, 3, 4, 5, 6, 7},\n",
       " {0, 1, 2, 3, 4, 5, 6},\n",
       " {0, 1, 2, 3, 4, 5},\n",
       " {0, 1, 2, 3, 4},\n",
       " {0, 1, 2, 3},\n",
       " {0, 1, 2},\n",
       " {0, 1},\n",
       " {0},\n",
       " set()]"
      ]
     },
     "execution_count": 59,
     "metadata": {},
     "output_type": "execute_result"
    }
   ],
   "source": [
    "sorted(n, key=lambda x: -len(x))"
   ]
  },
  {
   "cell_type": "code",
   "execution_count": null,
   "id": "ad3354d1",
   "metadata": {},
   "outputs": [],
   "source": []
  },
  {
   "cell_type": "code",
   "execution_count": null,
   "id": "db4caf43",
   "metadata": {},
   "outputs": [],
   "source": []
  },
  {
   "cell_type": "code",
   "execution_count": null,
   "id": "a37cc9f1",
   "metadata": {},
   "outputs": [],
   "source": []
  },
  {
   "cell_type": "markdown",
   "id": "2e3ccafb",
   "metadata": {
    "nbgrader": {
     "grade": false,
     "grade_id": "cell-9a52777f5474438a",
     "locked": true,
     "schema_version": 3,
     "solution": false,
     "task": false
    }
   },
   "source": [
    "課題-2) 上で定義した自然数を表す集合のリスト``n``の要素の大小を判定する ``less_than()`` を定義せよ。"
   ]
  },
  {
   "cell_type": "code",
   "execution_count": 11,
   "id": "98903406",
   "metadata": {
    "nbgrader": {
     "grade": false,
     "grade_id": "cell-76bd4406febd5a93",
     "locked": false,
     "schema_version": 3,
     "solution": true,
     "task": false
    }
   },
   "outputs": [],
   "source": [
    "def less_than(n0, n1):\n",
    "    ### BEGIN SOLUTION\n",
    "    return n0<n1\n",
    "    ### END SOLUTION"
   ]
  },
  {
   "cell_type": "code",
   "execution_count": 12,
   "id": "252cf6af",
   "metadata": {},
   "outputs": [
    {
     "data": {
      "text/plain": [
       "True"
      ]
     },
     "execution_count": 12,
     "metadata": {},
     "output_type": "execute_result"
    }
   ],
   "source": [
    "less_than(n[3], n[5])"
   ]
  },
  {
   "cell_type": "code",
   "execution_count": 13,
   "id": "5934d715",
   "metadata": {},
   "outputs": [
    {
     "data": {
      "text/plain": [
       "False"
      ]
     },
     "execution_count": 13,
     "metadata": {},
     "output_type": "execute_result"
    }
   ],
   "source": [
    "less_than(n[5], n[3])"
   ]
  },
  {
   "cell_type": "code",
   "execution_count": 14,
   "id": "a856014a",
   "metadata": {},
   "outputs": [
    {
     "data": {
      "text/plain": [
       "True"
      ]
     },
     "execution_count": 14,
     "metadata": {},
     "output_type": "execute_result"
    }
   ],
   "source": [
    "less_than(3, 5)"
   ]
  },
  {
   "cell_type": "code",
   "execution_count": null,
   "id": "e1b0c11c",
   "metadata": {},
   "outputs": [],
   "source": []
  },
  {
   "cell_type": "code",
   "execution_count": null,
   "id": "459fce49",
   "metadata": {},
   "outputs": [],
   "source": []
  },
  {
   "cell_type": "code",
   "execution_count": null,
   "id": "9df1f093",
   "metadata": {},
   "outputs": [],
   "source": []
  },
  {
   "cell_type": "code",
   "execution_count": null,
   "id": "d4ad5890",
   "metadata": {
    "nbgrader": {
     "grade": false,
     "grade_id": "cell-c892e037c5da5f47",
     "locked": true,
     "schema_version": 3,
     "solution": false,
     "task": false
    }
   },
   "outputs": [],
   "source": [
    "---\n",
    "以下、採点用のセルにつき編集できない:"
   ]
  },
  {
   "cell_type": "code",
   "execution_count": null,
   "id": "ac3c9061",
   "metadata": {
    "nbgrader": {
     "grade": false,
     "grade_id": "cell-54eae6b7fa9bfa64",
     "locked": true,
     "schema_version": 3,
     "solution": false,
     "task": false
    }
   },
   "outputs": [],
   "source": [
    "from nose.tools import assert_equal, assert_true"
   ]
  },
  {
   "cell_type": "code",
   "execution_count": null,
   "id": "13639823",
   "metadata": {
    "nbgrader": {
     "grade": true,
     "grade_id": "cell-733c82eb66762289",
     "locked": true,
     "points": 1,
     "schema_version": 3,
     "solution": false,
     "task": false
    }
   },
   "outputs": [],
   "source": [
    "assert_equal(less_than(n[3], n[5]), True)"
   ]
  }
 ],
 "metadata": {
  "celltoolbar": "Create Assignment",
  "kernelspec": {
   "display_name": "Python 3 (ipykernel)",
   "language": "python",
   "name": "python3"
  },
  "language_info": {
   "codemirror_mode": {
    "name": "ipython",
    "version": 3
   },
   "file_extension": ".py",
   "mimetype": "text/x-python",
   "name": "python",
   "nbconvert_exporter": "python",
   "pygments_lexer": "ipython3",
   "version": "3.9.12"
  },
  "toc": {
   "base_numbering": 1,
   "nav_menu": {},
   "number_sections": true,
   "sideBar": true,
   "skip_h1_title": false,
   "title_cell": "Table of Contents",
   "title_sidebar": "Contents",
   "toc_cell": false,
   "toc_position": {},
   "toc_section_display": true,
   "toc_window_display": false
  }
 },
 "nbformat": 4,
 "nbformat_minor": 5
}
