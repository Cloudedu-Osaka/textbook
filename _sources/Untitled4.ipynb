{
 "cells": [
  {
   "cell_type": "code",
   "execution_count": 11,
   "id": "ac15554c",
   "metadata": {},
   "outputs": [],
   "source": [
    "from sklearn import linear_model\n",
    "from sklearn import neural_network\n",
    "from sklearn import preprocessing\n",
    "from random import randint\n",
    "import numpy as np"
   ]
  },
  {
   "cell_type": "code",
   "execution_count": 2,
   "id": "039d1c93",
   "metadata": {},
   "outputs": [],
   "source": [
    "# Again, lets generate some random data\n",
    "x=[[randint(0,100),randint(0,100)] for i in range(1000)]\n",
    "\n",
    "# And compute the multiplication of all coordinates for each sample\n",
    "Y=np.array([i[0]*i[1] for i in x])"
   ]
  },
  {
   "cell_type": "code",
   "execution_count": 34,
   "id": "b6c7110f",
   "metadata": {},
   "outputs": [
    {
     "data": {
      "text/plain": [
       "(1000, 1000)"
      ]
     },
     "execution_count": 34,
     "metadata": {},
     "output_type": "execute_result"
    }
   ],
   "source": [
    "len(x), len(Y)"
   ]
  },
  {
   "cell_type": "code",
   "execution_count": 35,
   "id": "897bab9a",
   "metadata": {},
   "outputs": [],
   "source": [
    "Y;"
   ]
  },
  {
   "cell_type": "code",
   "execution_count": 46,
   "id": "7c8af53a",
   "metadata": {},
   "outputs": [
    {
     "name": "stdout",
     "output_type": "stream",
     "text": [
      "Multiplication: X=[[2, 4]], Y_hat=[8.65395839]\n"
     ]
    }
   ],
   "source": [
    "# [python - Learn to multiply using Scikit-Learn - Stack Overflow]\n",
    "# (https://stackoverflow.com/questions/49517050/learn-to-multiply-using-scikit-learn)\n",
    "\n",
    "# Lets create an instance of the processor, using polynomial features of degree=2\n",
    "pp = preprocessing.PolynomialFeatures(2)\n",
    "\n",
    "# transform the original data\n",
    "x2 = pp.fit_transform(x)\n",
    "\n",
    "# Then, create a linear regressor,\n",
    "reg_mult=neural_network.MLPRegressor(random_state=1, \n",
    "                                     activation='relu',\n",
    "                                     max_iter=5000, hidden_layer_sizes=(2,1,))\n",
    "#reg_mult=linear_model.LinearRegression()\n",
    "# Fit it to the processed data and the results\n",
    "reg_mult.fit(x2, Y)\n",
    "\n",
    "# and test it on a new example.\n",
    "sample = [[2, 4]]\n",
    "print('Multiplication: X={}, Y_hat={}'.format(sample,reg_mult.predict(pp.transform(sample))))\n"
   ]
  },
  {
   "cell_type": "code",
   "execution_count": 6,
   "id": "a20b9211",
   "metadata": {},
   "outputs": [
    {
     "data": {
      "text/plain": [
       "array([[1.000e+00, 6.100e+01, 7.000e+00, 3.721e+03, 4.270e+02, 4.900e+01],\n",
       "       [1.000e+00, 1.600e+01, 4.400e+01, 2.560e+02, 7.040e+02, 1.936e+03],\n",
       "       [1.000e+00, 8.000e+01, 4.500e+01, 6.400e+03, 3.600e+03, 2.025e+03],\n",
       "       ...,\n",
       "       [1.000e+00, 9.800e+01, 6.000e+00, 9.604e+03, 5.880e+02, 3.600e+01],\n",
       "       [1.000e+00, 8.200e+01, 5.600e+01, 6.724e+03, 4.592e+03, 3.136e+03],\n",
       "       [1.000e+00, 1.700e+01, 4.000e+00, 2.890e+02, 6.800e+01, 1.600e+01]])"
      ]
     },
     "execution_count": 6,
     "metadata": {},
     "output_type": "execute_result"
    }
   ],
   "source": [
    "x2"
   ]
  },
  {
   "cell_type": "code",
   "execution_count": null,
   "id": "dea8a0e7",
   "metadata": {},
   "outputs": [],
   "source": []
  }
 ],
 "metadata": {
  "kernelspec": {
   "display_name": "Python 3 (ipykernel)",
   "language": "python",
   "name": "python3"
  },
  "language_info": {
   "codemirror_mode": {
    "name": "ipython",
    "version": 3
   },
   "file_extension": ".py",
   "mimetype": "text/x-python",
   "name": "python",
   "nbconvert_exporter": "python",
   "pygments_lexer": "ipython3",
   "version": "3.9.12"
  },
  "toc": {
   "base_numbering": 1,
   "nav_menu": {},
   "number_sections": true,
   "sideBar": true,
   "skip_h1_title": false,
   "title_cell": "Table of Contents",
   "title_sidebar": "Contents",
   "toc_cell": false,
   "toc_position": {},
   "toc_section_display": true,
   "toc_window_display": false
  }
 },
 "nbformat": 4,
 "nbformat_minor": 5
}
