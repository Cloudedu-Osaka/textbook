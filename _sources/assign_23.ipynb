{
 "cells": [
  {
   "cell_type": "markdown",
   "id": "74823c1c",
   "metadata": {},
   "source": [
    "# 課題-2) Plimpton 322 に記載された数表を生成する"
   ]
  },
  {
   "cell_type": "code",
   "execution_count": 19,
   "id": "6f6efa5b",
   "metadata": {},
   "outputs": [],
   "source": [
    "import math\n",
    "import itertools"
   ]
  },
  {
   "cell_type": "code",
   "execution_count": 27,
   "id": "4781ca23",
   "metadata": {},
   "outputs": [
    {
     "data": {
      "text/plain": [
       "[1, 2, 3, 5, 6, 10, 15, 30]"
      ]
     },
     "execution_count": 27,
     "metadata": {},
     "output_type": "execute_result"
    }
   ],
   "source": [
    "def generate_p(i_max=2, j_max=2, k_max=2):\n",
    "    l = []\n",
    "    for i in range(i_max):\n",
    "        for j in range(j_max):\n",
    "            for k in range(k_max):\n",
    "                l.append(2**i * 3**j * 5**k)\n",
    "    return sorted(l)\n",
    "\n",
    "generate_p()"
   ]
  },
  {
   "cell_type": "code",
   "execution_count": 32,
   "id": "a9a583b1",
   "metadata": {},
   "outputs": [],
   "source": [
    "pp = itertools.product(generate_p(), generate_p())\n",
    "\n",
    "list(pp);"
   ]
  },
  {
   "cell_type": "code",
   "execution_count": 30,
   "id": "2bc0feb3",
   "metadata": {},
   "outputs": [],
   "source": [
    "pp = itertools.product(generate_p(), repeat=2)\n",
    "\n",
    "list(pp);"
   ]
  },
  {
   "cell_type": "code",
   "execution_count": 26,
   "id": "11fed433",
   "metadata": {},
   "outputs": [
    {
     "data": {
      "text/plain": [
       "[(2, 1)]"
      ]
     },
     "execution_count": 26,
     "metadata": {},
     "output_type": "execute_result"
    }
   ],
   "source": [
    "pq = []\n",
    "for p, q in itertools.product(generate_p(), repeat=2):\n",
    "    if p > q and math.gcd(p,q) ==1:\n",
    "        if p/q >= 9/5 and p/q <= 12/5:\n",
    "            pq.append((p,q))\n",
    "\n",
    "pq"
   ]
  },
  {
   "cell_type": "code",
   "execution_count": 33,
   "id": "919047b3",
   "metadata": {},
   "outputs": [
    {
     "data": {
      "text/plain": [
       "[(2, 1), (9, 4), (9, 5), (12, 5), (15, 8), (20, 9)]"
      ]
     },
     "execution_count": 33,
     "metadata": {},
     "output_type": "execute_result"
    }
   ],
   "source": [
    "pq = []\n",
    "for p, q in itertools.product(generate_p(4,3,2), repeat=2):\n",
    "    if p > q and math.gcd(p,q) ==1:\n",
    "        if p/q >= 9/5 and p/q <= 12/5:\n",
    "            pq.append((p,q))\n",
    "\n",
    "pq"
   ]
  },
  {
   "cell_type": "code",
   "execution_count": 34,
   "id": "e30963de",
   "metadata": {
    "scrolled": true
   },
   "outputs": [
    {
     "data": {
      "text/plain": [
       "[(12, 5), (9, 4), (20, 9), (2, 1), (15, 8), (9, 5)]"
      ]
     },
     "execution_count": 34,
     "metadata": {},
     "output_type": "execute_result"
    }
   ],
   "source": [
    "sorted(pq, reverse=True, key=lambda x: x[0]/x[1])"
   ]
  },
  {
   "cell_type": "code",
   "execution_count": null,
   "id": "17eb12da",
   "metadata": {},
   "outputs": [],
   "source": []
  },
  {
   "cell_type": "code",
   "execution_count": null,
   "id": "0bff994e",
   "metadata": {},
   "outputs": [],
   "source": []
  },
  {
   "cell_type": "code",
   "execution_count": null,
   "id": "2982779d",
   "metadata": {},
   "outputs": [],
   "source": []
  },
  {
   "cell_type": "markdown",
   "id": "c82d7661",
   "metadata": {
    "nbgrader": {
     "grade": false,
     "grade_id": "cell-7d91804c287a4582",
     "locked": true,
     "schema_version": 3,
     "solution": false,
     "task": false
    }
   },
   "source": [
    "課題-2) Plimton 322の数表を求める関数 `plimpton322()` を定義せよ:\n",
    "* 引数 i_max, j_max, k_max を取り、デフォルト値はそれぞれ 2 とする\n",
    "* `generate_p(i_max, j_max, k_max)` の直積の要素 `p, q` のうち、次の条件を満たすものを抜き出す\n",
    "  - `p > q`\n",
    "  - `math.gcd(p,q) == 1` (互いに素)\n",
    "  - `p/q >= 9/5`\n",
    "  - `p/q <= 12/5`\n",
    "* 戻り値は、`p/q` をキーとして降順で返す"
   ]
  },
  {
   "cell_type": "code",
   "execution_count": 44,
   "id": "4567acb5",
   "metadata": {
    "nbgrader": {
     "grade": true,
     "grade_id": "cell-b54242a64689bdeb",
     "locked": true,
     "points": 0,
     "schema_version": 3,
     "solution": false,
     "task": false
    }
   },
   "outputs": [],
   "source": [
    "def plimpton322(i_max=2, j_max=2, k_max=2):\n",
    "    ### BEGIN SOLUTION\n",
    "    pq = []\n",
    "    for p, q in itertools.product(generate_p(i_max,j_max,k_max), repeat=2):\n",
    "        if p > q and math.gcd(p,q) ==1:\n",
    "            if p/q >= 9/5 and p/q <= 12/5:\n",
    "                pq.append((p,q))\n",
    "\n",
    "    return sorted(pq, reverse=True, key=lambda x: x[0]/x[1])\n",
    "    ### END SOLUTION"
   ]
  },
  {
   "cell_type": "code",
   "execution_count": 45,
   "id": "440b4a66",
   "metadata": {},
   "outputs": [
    {
     "data": {
      "text/plain": [
       "[(2, 1)]"
      ]
     },
     "execution_count": 45,
     "metadata": {},
     "output_type": "execute_result"
    }
   ],
   "source": [
    "plimpton322()"
   ]
  },
  {
   "cell_type": "code",
   "execution_count": 46,
   "id": "87a0ac0d",
   "metadata": {},
   "outputs": [
    {
     "data": {
      "text/plain": [
       "[(12, 5), (9, 4), (20, 9), (2, 1), (15, 8), (9, 5)]"
      ]
     },
     "execution_count": 46,
     "metadata": {},
     "output_type": "execute_result"
    }
   ],
   "source": [
    "plimpton322(4,3,2)"
   ]
  },
  {
   "cell_type": "code",
   "execution_count": null,
   "id": "d0657b69",
   "metadata": {},
   "outputs": [],
   "source": []
  },
  {
   "cell_type": "code",
   "execution_count": null,
   "id": "08345f20",
   "metadata": {},
   "outputs": [],
   "source": []
  },
  {
   "cell_type": "code",
   "execution_count": null,
   "id": "b2d1f680",
   "metadata": {},
   "outputs": [],
   "source": []
  },
  {
   "cell_type": "markdown",
   "id": "9d77d05c",
   "metadata": {
    "nbgrader": {
     "grade": false,
     "grade_id": "cell-e61778e91e4ca1c8",
     "locked": true,
     "schema_version": 3,
     "solution": false,
     "task": false
    }
   },
   "source": [
    "---\n",
    "以下、採点用のセルにつき編集できない:"
   ]
  },
  {
   "cell_type": "code",
   "execution_count": 40,
   "id": "b1c358b2",
   "metadata": {
    "nbgrader": {
     "grade": false,
     "grade_id": "cell-802a8ae943ee2c54",
     "locked": true,
     "schema_version": 3,
     "solution": false,
     "task": false
    }
   },
   "outputs": [],
   "source": [
    "from nose.tools import assert_equal, assert_true"
   ]
  },
  {
   "cell_type": "code",
   "execution_count": 43,
   "id": "8777fcd5",
   "metadata": {
    "nbgrader": {
     "grade": true,
     "grade_id": "cell-b4f212f1a4f0d324",
     "locked": true,
     "points": 1,
     "schema_version": 3,
     "solution": false,
     "task": false
    }
   },
   "outputs": [],
   "source": [
    "assert_equal(plimpton322(), [(2, 1)])"
   ]
  },
  {
   "cell_type": "code",
   "execution_count": 42,
   "id": "2a1a02ef",
   "metadata": {
    "nbgrader": {
     "grade": true,
     "grade_id": "cell-4fdfe4778425eec3",
     "locked": true,
     "points": 1,
     "schema_version": 3,
     "solution": false,
     "task": false
    }
   },
   "outputs": [],
   "source": [
    "assert_equal(plimpton322(4,3,2), [(12, 5), (9, 4), (20, 9), (2, 1), (15, 8), (9, 5)])"
   ]
  },
  {
   "cell_type": "code",
   "execution_count": null,
   "id": "6616915c",
   "metadata": {},
   "outputs": [],
   "source": []
  },
  {
   "cell_type": "code",
   "execution_count": null,
   "id": "73a1a08b",
   "metadata": {},
   "outputs": [],
   "source": []
  },
  {
   "cell_type": "code",
   "execution_count": null,
   "id": "aa1d712a",
   "metadata": {},
   "outputs": [],
   "source": []
  },
  {
   "cell_type": "markdown",
   "id": "0eff9134",
   "metadata": {},
   "source": [
    "$a=2pq$, $b=p^2-q^2$, $d=p^2+q^2$ は $a^2+b^2=d^2$ を満たす、ピタゴラスの三数である。"
   ]
  },
  {
   "cell_type": "code",
   "execution_count": 20,
   "id": "757688e8",
   "metadata": {},
   "outputs": [
    {
     "name": "stdout",
     "output_type": "stream",
     "text": [
      "1.983402777777778 119 169\n",
      "1.9491585520886916 3367 4825\n",
      "1.9188021267361113 4601 6649\n",
      "1.8862479067215363 12709 18541\n",
      "1.8741990279706793 67319 98569\n",
      "1.815007716049383 65 97\n",
      "1.7851929012345678 319 481\n",
      "1.7199836762688614 2291 3541\n",
      "1.6927094184027778 799 1249\n",
      "1.6685522795835475 14129 22321\n",
      "1.6426694444444445 481 769\n",
      "1.5861225661103489 4961 8161\n",
      "1.5625 3 5\n",
      "1.5395333233905846 19039 32161\n",
      "1.51921031640625 11529 19721\n",
      "1.4894168402777779 1679 2929\n",
      "1.450017361111111 161 289\n",
      "1.430238820301783 1771 3229\n",
      "1.3871604938271607 56 106\n"
     ]
    }
   ],
   "source": [
    "for p,q in sorted(pq, reverse=True, key=lambda p_q: p_q[0]/p_q[1]):\n",
    "    a, b, d = 2*p*q, p**2-q**2, p**2+q**2\n",
    "    print((d/a)**2,b,d)"
   ]
  },
  {
   "cell_type": "markdown",
   "id": "9a9db33e",
   "metadata": {},
   "source": [
    "$${v_{1}}^2+1^2= \\frac{b^2+a^2}{a^2} = \\frac{d^2}{a^2} = {v_{4}}^2$$"
   ]
  },
  {
   "cell_type": "markdown",
   "id": "2b47d8a5",
   "metadata": {},
   "source": [
    "$$c = \\frac{p^2-q^2}{pq} = \\frac{p}{q}-\\frac{q}{p}$$"
   ]
  },
  {
   "cell_type": "markdown",
   "id": "c4838ab0",
   "metadata": {},
   "source": [
    "|#1 |#2 |#3 |\n",
    "|:-:|:-:|:-:|\n",
    "|$$\\left(\\frac{d}{a}\\right)^2$$|$$b$$      |$$d$$      |\n",
    "|$$\\frac{1}{4}\\left(\\frac{p}{q}+\\frac{q}{p}\\right)^2$$|$$p^2-q^2$$|$$p^2+q^2$$|\n",
    "|$$1+{v_{1}}^2 = {v_{4}}^2$$|$$a\\cdot v_{1}$$|$$a\\cdot v_{4}$$|\n",
    "|$$1+\\left(\\frac{c}{2}\\right)^2$$|$$\\frac{a}{2}\\left(x-\\frac{1}{x}\\right)$$|$$\\frac{a}{2}\\left(x+\\frac{1}{x}\\right)$$|"
   ]
  },
  {
   "cell_type": "markdown",
   "id": "cafa7cdb",
   "metadata": {},
   "source": [
    "|.  |.  |.  |#1 |.  |#2 |#3 |\n",
    "|:-:|:-:|:-:|:-:|:-:|:-:|:-:|\n",
    "|$$\\frac{d+b}{a}$$|$$\\frac{d-b}{a}$$|$$2 \\frac{b}{a}$$|$$\\left(\\frac{d}{a}\\right)^2$$|$$a$$|$$b$$      |$$d$$      |\n",
    "|$$\\frac{p}{q}$$|$$\\frac{q}{p}$$|$$\\frac{p}{q}-\\frac{q}{p}$$|$$\\frac{1}{4}\\left(\\frac{p}{q}+\\frac{q}{p}\\right)^2$$|$$2pq$$|$$p^2-q^2$$|$$p^2+q^2$$|\n",
    "|$$v_{4}+v_{1}$$|$$v_{4}-v_{1}$$|$$2\\cdot v_{1}$$|$$1+{v_{1}}^2={v_{4}}^2$$|$$a$$|$$a\\cdot v_{1}$$|$$a\\cdot v_{4}$$|\n",
    "|$$x$$|$$\\frac{1}{x}$$|$$c=x-\\frac{1}{x}$$|$$1+\\left(\\frac{c}{2}\\right)^2$$|$$a$$|$$\\frac{a}{2}\\left(x-\\frac{1}{x}\\right)$$|$$\\frac{a}{2}\\left(x+\\frac{1}{x}\\right)$$|"
   ]
  },
  {
   "cell_type": "code",
   "execution_count": 346,
   "id": "8ed030cd",
   "metadata": {},
   "outputs": [
    {
     "name": "stdout",
     "output_type": "stream",
     "text": [
      "1.9833333333333336 1.9833333333333334 1.9833333333333332\n",
      "1.9484953703703702 1.9484953703703705 1.9484953703703702\n",
      "1.9170833333333335 1.9170833333333333 1.9170833333333333\n",
      "1.8828148148148147 1.8828148148148147 1.882814814814815\n",
      "1.8699722222222226 1.8699722222222221 1.8699722222222221\n",
      "1.8055555555555558 1.8055555555555556 1.8055555555555556\n",
      "1.7722222222222221 1.7722222222222221 1.7722222222222224\n",
      "1.697037037037037 1.6970370370370371 1.6970370370370371\n",
      "1.6645833333333333 1.6645833333333333 1.6645833333333333\n",
      "1.6353009259259257 1.635300925925926 1.635300925925926\n",
      "1.6033333333333335 1.6033333333333333 1.6033333333333335\n",
      "1.5311728395061726 1.5311728395061728 1.5311728395061728\n",
      "1.5 1.5 1.5\n",
      "1.4690586419753087 1.4690586419753087 1.4690586419753084\n",
      "1.441125 1.441125 1.441125\n",
      "1.399166666666667 1.3991666666666667 1.3991666666666664\n",
      "1.3416666666666663 1.3416666666666666 1.3416666666666668\n",
      "1.3118518518518516 1.3118518518518518 1.3118518518518518\n",
      "1.2444444444444447 1.2444444444444445 1.2444444444444445\n"
     ]
    }
   ],
   "source": [
    "for p,q in sorted(pq, reverse=True, key=lambda p_q: p_q[0]/p_q[1]):\n",
    "    a, b, d = 2*p*q, p**2-q**2, p**2+q**2 # a**2+b**2 == d**2\n",
    "    v4 = (d/a)\n",
    "    v3 = (d/a)**2 # #1\n",
    "    v1 = math.sqrt(v3-1) # = c/2\n",
    "    x = v4+v1 # x**2 + 1 == (1/x)**2\n",
    "    print(v1*2, (p**2-q**2)/(p*q), p/q-q/p)\n",
    "    #print(v4**2,b,d)\n",
    "    #print(1/4*(p/q+q/p)**2, p**2-q**2, p**2+q**2)\n",
    "    #print(v3,b/a,d/a)\n",
    "    #print(v3, a*v1,a*v4)\n",
    "    #print(Fraction(p,q), d/a+b/a, d/a-b/a, Fraction(q,p)) # = p/q, q/p\n",
    "    #print(v3, v4**2, v4)\n",
    "    #print(v4, Fraction(d, a), d/a)\n",
    "    #print(v1, b, Fraction(b,a), b/a)\n",
    "    #\n",
    "    #print((d+b),(d-b), v1*2*a)\n",
    "    #print(x,(d+b)/a,(d-b)/a, v1*2)\n",
    "    #\n",
    "    #print(d/a+b/a, 1/(d/a+b/a), d/a-b/a) # x=v4+v1, 1/x=v4-v1\n",
    "    #print(d/a+b/a - (d/a-b/a), v1*2)\n",
    "    #print(v4**2, v1**2)\n",
    "    #\n",
    "    #print(v3-1, v1)"
   ]
  },
  {
   "cell_type": "code",
   "execution_count": null,
   "id": "10da8d16",
   "metadata": {},
   "outputs": [],
   "source": []
  },
  {
   "cell_type": "code",
   "execution_count": null,
   "id": "22cd2133",
   "metadata": {},
   "outputs": [],
   "source": []
  },
  {
   "cell_type": "markdown",
   "id": "e8897702",
   "metadata": {},
   "source": [
    "$$\n",
    "  \\begin{align}\n",
    "    (a-b)^2+4\\frac{ab}{2} &= d^2 \\\\\n",
    "    a^2 + b^2 & = d^2\n",
    "  \\end{align}\n",
    "$$"
   ]
  },
  {
   "cell_type": "code",
   "execution_count": 75,
   "id": "2e87a426",
   "metadata": {
    "hide_input": true,
    "scrolled": true
   },
   "outputs": [
    {
     "data": {
      "image/png": "[encoded data removed]",
      "text/plain": [
       "<Figure size 432x288 with 1 Axes>"
      ]
     },
     "metadata": {
      "needs_background": "light"
     },
     "output_type": "display_data"
    }
   ],
   "source": [
    "from matplotlib.patches import Polygon\n",
    "import matplotlib.pyplot as plt\n",
    "\n",
    "p00 = Polygon([(0,0), (3,0), (0,1), ], fill=False)\n",
    "p01 = Polygon([(3,0), (4,0), (4,3), ], fill=False)\n",
    "p02 = Polygon([(4,3), (4,4), (1,4), ], fill=False)\n",
    "p03 = Polygon([(1,4), (0,4), (0,1), ], fill=False)\n",
    "\n",
    "p10 = Polygon([(3,1), (3,0), (0,1), ], fill=True, alpha=0.3, edgecolor='b')\n",
    "p11 = Polygon([(3,0), (3,3), (4,3), ], fill=True, alpha=0.3, edgecolor='b')\n",
    "p12 = Polygon([(4,3), (1,3), (1,4), ], fill=True, alpha=0.3, edgecolor='b')\n",
    "p13 = Polygon([(1,4), (1,1), (0,1), ], fill=True, alpha=0.3, edgecolor='b')\n",
    "\n",
    "fig, ax = plt.subplots(1,1)\n",
    "\n",
    "ax.add_patch(p00)\n",
    "ax.add_patch(p01)\n",
    "ax.add_patch(p02)\n",
    "ax.add_patch(p03)\n",
    "ax.add_patch(p10)\n",
    "ax.add_patch(p11)\n",
    "ax.add_patch(p12)\n",
    "ax.add_patch(p13)\n",
    "ax.axis('equal')\n",
    "ax.set(xlim=(0,4),ylim=(-1,5))\n",
    "\n",
    "plt.text(1.7,1.3,'a - b')\n",
    "plt.text(1.1,0.3,'d')\n",
    "plt.text(1.5,-0.3,'a')\n",
    "plt.text(3.5,-0.3,'b')\n",
    "plt.text(-0.3,2.5,'a')\n",
    "plt.text(-0.3,0.5,'b')\n",
    "plt.show()"
   ]
  }
 ],
 "metadata": {
  "celltoolbar": "Create Assignment",
  "kernelspec": {
   "display_name": "Python 3 (ipykernel)",
   "language": "python",
   "name": "python3"
  },
  "language_info": {
   "codemirror_mode": {
    "name": "ipython",
    "version": 3
   },
   "file_extension": ".py",
   "mimetype": "text/x-python",
   "name": "python",
   "nbconvert_exporter": "python",
   "pygments_lexer": "ipython3",
   "version": "3.9.12"
  },
  "toc": {
   "base_numbering": 1,
   "nav_menu": {},
   "number_sections": true,
   "sideBar": true,
   "skip_h1_title": false,
   "title_cell": "Table of Contents",
   "title_sidebar": "Contents",
   "toc_cell": false,
   "toc_position": {},
   "toc_section_display": true,
   "toc_window_display": false
  }
 },
 "nbformat": 4,
 "nbformat_minor": 5
}
