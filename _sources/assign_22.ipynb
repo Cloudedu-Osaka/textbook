{
 "cells": [
  {
   "cell_type": "markdown",
   "id": "74823c1c",
   "metadata": {},
   "source": [
    "# 課題-2) 条件を満たす要素を列挙する"
   ]
  },
  {
   "cell_type": "code",
   "execution_count": 2,
   "id": "e1c3b071",
   "metadata": {},
   "outputs": [],
   "source": [
    "import math\n",
    "import itertools\n",
    "import numpy as np"
   ]
  },
  {
   "cell_type": "code",
   "execution_count": 3,
   "id": "3de9b792",
   "metadata": {},
   "outputs": [],
   "source": [
    "import math\n",
    "from fractions import Fraction"
   ]
  },
  {
   "cell_type": "code",
   "execution_count": null,
   "id": "472db7db",
   "metadata": {},
   "outputs": [],
   "source": []
  },
  {
   "cell_type": "code",
   "execution_count": 71,
   "id": "d8634bb8",
   "metadata": {},
   "outputs": [],
   "source": [
    "p=sorted([np.prod([n**m for n,m in zip((2,3,5), ijk)]) for ijk in itertools.product(range(6),range(4),range(3))])"
   ]
  },
  {
   "cell_type": "code",
   "execution_count": 72,
   "id": "3b0c9868",
   "metadata": {},
   "outputs": [
    {
     "data": {
      "text/plain": [
       "(5184, 5184)"
      ]
     },
     "execution_count": 72,
     "metadata": {},
     "output_type": "execute_result"
    }
   ],
   "source": [
    "len(list(itertools.product(p, repeat=2))), len(p)*len(p)"
   ]
  },
  {
   "cell_type": "code",
   "execution_count": 75,
   "id": "5fcb8a7e",
   "metadata": {},
   "outputs": [
    {
     "data": {
      "text/plain": [
       "2556"
      ]
     },
     "execution_count": 75,
     "metadata": {},
     "output_type": "execute_result"
    }
   ],
   "source": [
    "len(list(filter(lambda x: (x[0]>x[1]), itertools.product(p, repeat=2))))"
   ]
  },
  {
   "cell_type": "code",
   "execution_count": 77,
   "id": "881f20ee",
   "metadata": {},
   "outputs": [
    {
     "data": {
      "text/plain": [
       "192"
      ]
     },
     "execution_count": 77,
     "metadata": {},
     "output_type": "execute_result"
    }
   ],
   "source": [
    "len(list(filter(lambda x: (x[0]>x[1] and math.gcd(x[0],x[1])==1), itertools.product(p, repeat=2))))"
   ]
  },
  {
   "cell_type": "code",
   "execution_count": 78,
   "id": "805c7aa4",
   "metadata": {
    "scrolled": true
   },
   "outputs": [
    {
     "data": {
      "text/plain": [
       "[(2, 1),\n",
       " (9, 4),\n",
       " (9, 5),\n",
       " (12, 5),\n",
       " (15, 8),\n",
       " (20, 9),\n",
       " (25, 12),\n",
       " (32, 15),\n",
       " (48, 25),\n",
       " (50, 27),\n",
       " (54, 25),\n",
       " (75, 32)]"
      ]
     },
     "execution_count": 78,
     "metadata": {},
     "output_type": "execute_result"
    }
   ],
   "source": [
    "pq0 = list(filter(lambda x: (x[0]/x[1] >= 9/5 and x[0]/x[1] <= 12/5),\n",
    "                  filter(lambda x: (x[0]>x[1] and math.gcd(x[0],x[1])==1), \n",
    "                         itertools.product(p, repeat=2))))\n",
    "pq0"
   ]
  },
  {
   "cell_type": "code",
   "execution_count": null,
   "id": "89ac79c5",
   "metadata": {},
   "outputs": [],
   "source": []
  },
  {
   "cell_type": "code",
   "execution_count": 64,
   "id": "e5f98325",
   "metadata": {},
   "outputs": [],
   "source": [
    "p=sorted([np.prod([n**m for n,m in zip((2,3,5), ijk)]) for ijk in itertools.product(range(7),range(5),range(4))])"
   ]
  },
  {
   "cell_type": "code",
   "execution_count": 65,
   "id": "221a346a",
   "metadata": {},
   "outputs": [
    {
     "data": {
      "text/plain": [
       "(19600, 19600)"
      ]
     },
     "execution_count": 65,
     "metadata": {},
     "output_type": "execute_result"
    }
   ],
   "source": [
    "len(list(itertools.product(p, repeat=2))), len(p)*len(p)"
   ]
  },
  {
   "cell_type": "code",
   "execution_count": 66,
   "id": "4c3ad66b",
   "metadata": {},
   "outputs": [
    {
     "data": {
      "text/plain": [
       "9730"
      ]
     },
     "execution_count": 66,
     "metadata": {},
     "output_type": "execute_result"
    }
   ],
   "source": [
    "len(list(filter(lambda x: (x[0]>x[1]), itertools.product(p, repeat=2))))"
   ]
  },
  {
   "cell_type": "code",
   "execution_count": 67,
   "id": "84cfaaac",
   "metadata": {},
   "outputs": [
    {
     "data": {
      "text/plain": [
       "409"
      ]
     },
     "execution_count": 67,
     "metadata": {},
     "output_type": "execute_result"
    }
   ],
   "source": [
    "len(list(filter(lambda x: (x[0]>x[1] and math.gcd(x[0],x[1])==1), itertools.product(p, repeat=2))))"
   ]
  },
  {
   "cell_type": "code",
   "execution_count": 68,
   "id": "fdcc0e33",
   "metadata": {},
   "outputs": [
    {
     "data": {
      "text/plain": [
       "[(2, 1),\n",
       " (9, 4),\n",
       " (9, 5),\n",
       " (12, 5),\n",
       " (15, 8),\n",
       " (20, 9),\n",
       " (25, 12),\n",
       " (32, 15),\n",
       " (48, 25),\n",
       " (50, 27),\n",
       " (54, 25),\n",
       " (64, 27),\n",
       " (75, 32),\n",
       " (81, 40),\n",
       " (125, 54),\n",
       " (125, 64),\n",
       " (135, 64),\n",
       " (160, 81),\n",
       " (288, 125)]"
      ]
     },
     "execution_count": 68,
     "metadata": {},
     "output_type": "execute_result"
    }
   ],
   "source": [
    "pq1 = list(filter(lambda x: (x[0]/x[1] >= 9/5 and x[0]/x[1] <= 12/5),\n",
    "                  filter(lambda x: (x[0]>x[1] and math.gcd(x[0],x[1])==1), \n",
    "                         itertools.product(p, repeat=2))))\n",
    "pq1"
   ]
  },
  {
   "cell_type": "code",
   "execution_count": null,
   "id": "428f772b",
   "metadata": {},
   "outputs": [],
   "source": []
  },
  {
   "cell_type": "code",
   "execution_count": 79,
   "id": "2eaa28f8",
   "metadata": {},
   "outputs": [
    {
     "data": {
      "text/plain": [
       "{(64, 27), (81, 40), (125, 54), (125, 64), (135, 64), (160, 81), (288, 125)}"
      ]
     },
     "execution_count": 79,
     "metadata": {},
     "output_type": "execute_result"
    }
   ],
   "source": [
    "set(pq1) - set(pq0)"
   ]
  },
  {
   "cell_type": "code",
   "execution_count": 80,
   "id": "cc4e5bc3",
   "metadata": {},
   "outputs": [
    {
     "data": {
      "text/plain": [
       "set()"
      ]
     },
     "execution_count": 80,
     "metadata": {},
     "output_type": "execute_result"
    }
   ],
   "source": [
    "set(pq0) - set(pq1)"
   ]
  },
  {
   "cell_type": "code",
   "execution_count": 81,
   "id": "8ebe1f76",
   "metadata": {},
   "outputs": [
    {
     "data": {
      "text/plain": [
       "{(2, 1),\n",
       " (9, 4),\n",
       " (9, 5),\n",
       " (12, 5),\n",
       " (15, 8),\n",
       " (20, 9),\n",
       " (25, 12),\n",
       " (32, 15),\n",
       " (48, 25),\n",
       " (50, 27),\n",
       " (54, 25),\n",
       " (75, 32)}"
      ]
     },
     "execution_count": 81,
     "metadata": {},
     "output_type": "execute_result"
    }
   ],
   "source": [
    "set(pq1).intersection(pq0)"
   ]
  },
  {
   "cell_type": "code",
   "execution_count": null,
   "id": "92f8c5a1",
   "metadata": {},
   "outputs": [],
   "source": []
  },
  {
   "cell_type": "code",
   "execution_count": null,
   "id": "6b9b8942",
   "metadata": {},
   "outputs": [],
   "source": []
  },
  {
   "cell_type": "code",
   "execution_count": 13,
   "id": "2e29bcaa",
   "metadata": {},
   "outputs": [],
   "source": [
    "pq = []\n"
   ]
  },
  {
   "cell_type": "code",
   "execution_count": 14,
   "id": "4905380b",
   "metadata": {},
   "outputs": [
    {
     "data": {
      "text/plain": [
       "[(12, 5),\n",
       " (75, 32),\n",
       " (9, 4),\n",
       " (20, 9),\n",
       " (54, 25),\n",
       " (32, 15),\n",
       " (25, 12),\n",
       " (2, 1),\n",
       " (48, 25),\n",
       " (15, 8),\n",
       " (50, 27),\n",
       " (9, 5)]"
      ]
     },
     "execution_count": 14,
     "metadata": {},
     "output_type": "execute_result"
    }
   ],
   "source": [
    "sorted(pq, reverse=True, key=lambda p_q: Fraction(p_q[0],p_q[1]))"
   ]
  },
  {
   "cell_type": "code",
   "execution_count": 286,
   "id": "e864babd",
   "metadata": {},
   "outputs": [],
   "source": [
    "pq0 = pq"
   ]
  },
  {
   "cell_type": "code",
   "execution_count": 287,
   "id": "e07e2075",
   "metadata": {},
   "outputs": [],
   "source": [
    "p=sorted([2**j[0]*3**j[1]*5**j[2] \n",
    "          for j in itertools.product(range(7),range(5),range(4))])\n",
    "\n",
    "pq = []\n",
    "for p, q in itertools.product(p,p):\n",
    "    if p > q and math.gcd(p,q) ==1:\n",
    "        if p/q >= 9/5 and p/q <= 12/5:\n",
    "            #print(p,q)\n",
    "            pq.append((p,q))"
   ]
  },
  {
   "cell_type": "code",
   "execution_count": 288,
   "id": "ffcaaea5",
   "metadata": {
    "scrolled": true
   },
   "outputs": [
    {
     "data": {
      "text/plain": [
       "[(12, 5),\n",
       " (64, 27),\n",
       " (75, 32),\n",
       " (125, 54),\n",
       " (288, 125),\n",
       " (9, 4),\n",
       " (20, 9),\n",
       " (54, 25),\n",
       " (32, 15),\n",
       " (135, 64),\n",
       " (25, 12),\n",
       " (81, 40),\n",
       " (2, 1),\n",
       " (160, 81),\n",
       " (125, 64),\n",
       " (48, 25),\n",
       " (15, 8),\n",
       " (50, 27),\n",
       " (9, 5)]"
      ]
     },
     "execution_count": 288,
     "metadata": {},
     "output_type": "execute_result"
    }
   ],
   "source": [
    "sorted(pq, reverse=True, key=lambda p_q: Fraction(p_q[0],p_q[1]))"
   ]
  },
  {
   "cell_type": "code",
   "execution_count": 289,
   "id": "e7792598",
   "metadata": {},
   "outputs": [
    {
     "data": {
      "text/plain": [
       "{(64, 27), (81, 40), (125, 54), (125, 64), (135, 64), (160, 81), (288, 125)}"
      ]
     },
     "execution_count": 289,
     "metadata": {},
     "output_type": "execute_result"
    }
   ],
   "source": [
    "set(pq) - set(pq0)"
   ]
  },
  {
   "cell_type": "code",
   "execution_count": 295,
   "id": "b9b6a25c",
   "metadata": {},
   "outputs": [
    {
     "name": "stdout",
     "output_type": "stream",
     "text": [
      "1.9834027777777774 119 169\n",
      "1.9491585520886916 3367 4825\n",
      "1.9188021267361113 4601 6649\n",
      "1.8862479067215363 12709 18541\n",
      "1.8741990279706786 67319 98569\n",
      "1.815007716049383 65 97\n",
      "1.7851929012345682 319 481\n",
      "1.7199836762688614 2291 3541\n",
      "1.6927094184027778 799 1249\n",
      "1.6685522795835475 14129 22321\n",
      "1.6426694444444445 481 769\n",
      "1.5861225661103489 4961 8161\n",
      "1.5625 3 5\n",
      "1.5395333233905846 19039 32161\n",
      "1.51921031640625 11529 19721\n",
      "1.4894168402777779 1679 2929\n",
      "1.450017361111111 161 289\n",
      "1.4302388203017835 1771 3229\n",
      "1.3871604938271607 56 106\n"
     ]
    }
   ],
   "source": [
    "for p,q in sorted(pq, key=lambda p_q: p_q[0]/p_q[1], reverse=True):\n",
    "    print((1/2*(p/q+q/p))**2, p**2-q**2, p**2+q**2)"
   ]
  },
  {
   "cell_type": "code",
   "execution_count": 297,
   "id": "e2dd810d",
   "metadata": {
    "scrolled": false
   },
   "outputs": [
    {
     "name": "stdout",
     "output_type": "stream",
     "text": [
      "1.9834027777777774 119 169\n",
      "1.9188021267361113 4601 6649\n",
      "1.815007716049383 65 97\n",
      "1.7851929012345682 319 481\n",
      "1.7199836762688614 2291 3541\n",
      "1.6927094184027778 799 1249\n",
      "1.6426694444444445 481 769\n",
      "1.5625 3 5\n",
      "1.4894168402777779 1679 2929\n",
      "1.450017361111111 161 289\n",
      "1.4302388203017835 1771 3229\n",
      "1.3871604938271607 56 106\n"
     ]
    }
   ],
   "source": [
    "for p,q in sorted(pq0, key=lambda p_q: p_q[0]/p_q[1], reverse=True):\n",
    "    print((1/2*(p/q+q/p))**2, p**2-q**2, p**2+q**2)"
   ]
  },
  {
   "cell_type": "code",
   "execution_count": null,
   "id": "54870a65",
   "metadata": {},
   "outputs": [],
   "source": []
  },
  {
   "cell_type": "code",
   "execution_count": null,
   "id": "71273432",
   "metadata": {},
   "outputs": [],
   "source": []
  },
  {
   "cell_type": "code",
   "execution_count": null,
   "id": "8bb35f90",
   "metadata": {},
   "outputs": [],
   "source": []
  },
  {
   "cell_type": "code",
   "execution_count": null,
   "id": "823367a7",
   "metadata": {},
   "outputs": [],
   "source": []
  }
 ],
 "metadata": {
  "kernelspec": {
   "display_name": "Python 3 (ipykernel)",
   "language": "python",
   "name": "python3"
  },
  "language_info": {
   "codemirror_mode": {
    "name": "ipython",
    "version": 3
   },
   "file_extension": ".py",
   "mimetype": "text/x-python",
   "name": "python",
   "nbconvert_exporter": "python",
   "pygments_lexer": "ipython3",
   "version": "3.9.12"
  },
  "toc": {
   "base_numbering": 1,
   "nav_menu": {},
   "number_sections": true,
   "sideBar": true,
   "skip_h1_title": false,
   "title_cell": "Table of Contents",
   "title_sidebar": "Contents",
   "toc_cell": false,
   "toc_position": {},
   "toc_section_display": true,
   "toc_window_display": false
  }
 },
 "nbformat": 4,
 "nbformat_minor": 5
}
