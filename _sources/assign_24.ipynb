{
 "cells": [
  {
   "cell_type": "code",
   "execution_count": 1,
   "id": "47dc649a",
   "metadata": {
    "hide_input": true,
    "init_cell": true,
    "tags": [
     "remove-input"
    ]
   },
   "outputs": [],
   "source": [
    "# initialization for my classroom\n",
    "import os\n",
    "from datetime import datetime as dt\n",
    "\n",
    "def logfile(user=os.environ.get('JUPYTERHUB_USER') or 'jovyan'):\n",
    "    prefix='/srv'\n",
    "    if os.path.isdir(prefix) and os.access(prefix, os.W_OK):\n",
    "        prefix+=('/'+user)\n",
    "        if not os.path.isdir(prefix):\n",
    "            os.makedirs(prefix)\n",
    "    else:\n",
    "        prefix='.'\n",
    "    return prefix+'/'+dt.now().strftime('%Y%m%d')+'.log'\n",
    "\n",
    "path=logfile()\n",
    "#%logstop\n",
    "%logstart -otq $path append\n",
    "\n",
    "# [python - cannot override sys.excepthook - Stack Overflow](https://stackoverflow.com/questions/1261668/cannot-override-sys-excepthook/28758396)\n",
    "# https://github.com/ipython/ipython/blob/e6432249582e05f438303ce73d082a0351bb383e/IPython/core/interactiveshell.py#L1952\n",
    "\n",
    "import sys\n",
    "import traceback\n",
    "import IPython\n",
    "\n",
    "try:\n",
    "    _showtraceback\n",
    "except NameError:\n",
    "    _showtraceback=IPython.core.interactiveshell.InteractiveShell.showtraceback\n",
    "\n",
    "try:\n",
    "    _showsyntaxerror\n",
    "except NameError:\n",
    "    _showsyntaxerror=IPython.core.interactiveshell.InteractiveShell.showsyntaxerror\n",
    "\n",
    "import logging\n",
    "logging.basicConfig(filename=path.replace('.log','-exc.log'), format='%(asctime)s %(message)s', level=logging.ERROR, force=True)\n",
    "\n",
    "import sys\n",
    "import traceback\n",
    "import IPython\n",
    "\n",
    "def showtraceback(self, *args, **kwargs):\n",
    "    etype, value, tb = self._get_exc_info(kwargs.get('exc_tuple'))\n",
    "    stb = self.InteractiveTB.structured_traceback(\n",
    "        etype, value, tb, tb_offset=kwargs.get('tb_offset'))\n",
    "    logging.error(os.environ.get('JUPYTERHUB_USER') or 'jovyan')\n",
    "    logging.error(self.InteractiveTB.stb2text(stb))\n",
    "    _showtraceback(self, *args, **kwargs)\n",
    "\n",
    "def showsyntaxerror(self, *args, **kwargs):\n",
    "    etype, value, last_traceback = self._get_exc_info()\n",
    "    elist = traceback.extract_tb(last_traceback) if kwargs.get('running_compiled_code') else []\n",
    "    stb = self.SyntaxTB.structured_traceback(etype, value, elist)\n",
    "    logging.error(os.environ.get('JUPYTERHUB_USER') or 'jovyan')\n",
    "    logging.error(self.InteractiveTB.stb2text(stb))\n",
    "    _showsyntaxerror(self, *args, **kwargs)\n",
    "\n",
    "IPython.core.interactiveshell.InteractiveShell.showtraceback = showtraceback\n",
    "IPython.core.interactiveshell.InteractiveShell.showsyntaxerror = showsyntaxerror"
   ]
  },
  {
   "cell_type": "markdown",
   "id": "74823c1c",
   "metadata": {},
   "source": [
    "# 課題-3) Plimpton 322 に記載された数表を補完する"
   ]
  },
  {
   "cell_type": "code",
   "execution_count": 1,
   "id": "b9050a52",
   "metadata": {
    "nbgrader": {
     "grade": false,
     "grade_id": "cell-66b28bfa7fc91a88",
     "locked": true,
     "schema_version": 3,
     "solution": false,
     "task": false
    }
   },
   "outputs": [],
   "source": [
    "import math\n",
    "import itertools"
   ]
  },
  {
   "cell_type": "code",
   "execution_count": 3,
   "id": "171e2f6c",
   "metadata": {
    "nbgrader": {
     "grade": false,
     "grade_id": "cell-a9b722764d00e9fe",
     "locked": true,
     "schema_version": 3,
     "solution": false,
     "task": false
    }
   },
   "outputs": [
    {
     "data": {
      "text/plain": [
       "[1, 2, 3, 5, 6, 10, 15, 30]"
      ]
     },
     "execution_count": 3,
     "metadata": {},
     "output_type": "execute_result"
    }
   ],
   "source": [
    "def generate_p(i_max=2, j_max=2, k_max=2):\n",
    "    l = []\n",
    "    for i in range(i_max):\n",
    "        for j in range(j_max):\n",
    "            for k in range(k_max):\n",
    "                l.append(2**i * 3**j * 5**k)\n",
    "    return sorted(l)\n",
    "\n",
    "generate_p()"
   ]
  },
  {
   "cell_type": "code",
   "execution_count": null,
   "id": "a738053e",
   "metadata": {},
   "outputs": [],
   "source": []
  },
  {
   "cell_type": "code",
   "execution_count": 4,
   "id": "2faa6a6a",
   "metadata": {
    "nbgrader": {
     "grade": false,
     "grade_id": "cell-53967798e9026c5c",
     "locked": true,
     "schema_version": 3,
     "solution": false,
     "task": false
    }
   },
   "outputs": [
    {
     "data": {
      "text/plain": [
       "<generator object generate_p at 0x7fd77c935740>"
      ]
     },
     "execution_count": 4,
     "metadata": {},
     "output_type": "execute_result"
    }
   ],
   "source": [
    "def generate_p(i_max=2, j_max=2, k_max=2):\n",
    "    for i in range(i_max):\n",
    "        for j in range(j_max):\n",
    "            for k in range(k_max):\n",
    "                yield 2**i * 3**j * 5**k\n",
    "\n",
    "generate_p()"
   ]
  },
  {
   "cell_type": "code",
   "execution_count": 7,
   "id": "32456f25",
   "metadata": {},
   "outputs": [
    {
     "data": {
      "text/plain": [
       "[1, 2, 3, 5, 6, 10, 15, 30]"
      ]
     },
     "execution_count": 7,
     "metadata": {},
     "output_type": "execute_result"
    }
   ],
   "source": [
    "sorted(generate_p())"
   ]
  },
  {
   "cell_type": "code",
   "execution_count": null,
   "id": "40c6f3cb",
   "metadata": {},
   "outputs": [],
   "source": []
  },
  {
   "cell_type": "code",
   "execution_count": 16,
   "id": "dd5bea3d",
   "metadata": {},
   "outputs": [
    {
     "data": {
      "text/plain": [
       "[(0, 0, 0),\n",
       " (0, 0, 1),\n",
       " (0, 1, 0),\n",
       " (0, 1, 1),\n",
       " (1, 0, 0),\n",
       " (1, 0, 1),\n",
       " (1, 1, 0),\n",
       " (1, 1, 1)]"
      ]
     },
     "execution_count": 16,
     "metadata": {},
     "output_type": "execute_result"
    }
   ],
   "source": [
    "list(itertools.product(range(2),range(2),range(2)))"
   ]
  },
  {
   "cell_type": "code",
   "execution_count": 20,
   "id": "0700110c",
   "metadata": {
    "nbgrader": {
     "grade": false,
     "grade_id": "cell-ef3d665c266e94bc",
     "locked": true,
     "schema_version": 3,
     "solution": false,
     "task": false
    }
   },
   "outputs": [
    {
     "data": {
      "text/plain": [
       "<generator object generate_p at 0x7fd77c9d9660>"
      ]
     },
     "execution_count": 20,
     "metadata": {},
     "output_type": "execute_result"
    }
   ],
   "source": [
    "import itertools\n",
    "\n",
    "def generate_p(i_max=2, j_max=2, k_max=2):\n",
    "    for i,j,k in itertools.product(range(i_max),range(j_max),range(k_max)):\n",
    "        yield 2**i * 3**j * 5**k\n",
    "\n",
    "generate_p()"
   ]
  },
  {
   "cell_type": "code",
   "execution_count": 14,
   "id": "484ed6d6",
   "metadata": {
    "scrolled": true
   },
   "outputs": [
    {
     "data": {
      "text/plain": [
       "[1, 2, 3, 5, 6, 10, 15, 30]"
      ]
     },
     "execution_count": 14,
     "metadata": {},
     "output_type": "execute_result"
    }
   ],
   "source": [
    "sorted(generate_p())"
   ]
  },
  {
   "cell_type": "code",
   "execution_count": null,
   "id": "9fae91c5",
   "metadata": {},
   "outputs": [],
   "source": []
  },
  {
   "cell_type": "code",
   "execution_count": 19,
   "id": "dc8d5b0e",
   "metadata": {},
   "outputs": [
    {
     "data": {
      "text/plain": [
       "[1, 5, 3, 15, 2, 10, 6, 30]"
      ]
     },
     "execution_count": 19,
     "metadata": {},
     "output_type": "execute_result"
    }
   ],
   "source": [
    "[2**i * 3**j * 5**k for i,j,k in itertools.product(range(2),range(2),range(2))]"
   ]
  },
  {
   "cell_type": "code",
   "execution_count": null,
   "id": "7b56200c",
   "metadata": {},
   "outputs": [],
   "source": []
  },
  {
   "cell_type": "code",
   "execution_count": 22,
   "id": "942a4172",
   "metadata": {},
   "outputs": [
    {
     "data": {
      "text/plain": [
       "[(1, 1),\n",
       " (1, 5),\n",
       " (1, 3),\n",
       " (1, 15),\n",
       " (1, 2),\n",
       " (1, 10),\n",
       " (1, 6),\n",
       " (1, 30),\n",
       " (5, 1),\n",
       " (5, 5),\n",
       " (5, 3),\n",
       " (5, 15),\n",
       " (5, 2),\n",
       " (5, 10),\n",
       " (5, 6),\n",
       " (5, 30),\n",
       " (3, 1),\n",
       " (3, 5),\n",
       " (3, 3),\n",
       " (3, 15),\n",
       " (3, 2),\n",
       " (3, 10),\n",
       " (3, 6),\n",
       " (3, 30),\n",
       " (15, 1),\n",
       " (15, 5),\n",
       " (15, 3),\n",
       " (15, 15),\n",
       " (15, 2),\n",
       " (15, 10),\n",
       " (15, 6),\n",
       " (15, 30),\n",
       " (2, 1),\n",
       " (2, 5),\n",
       " (2, 3),\n",
       " (2, 15),\n",
       " (2, 2),\n",
       " (2, 10),\n",
       " (2, 6),\n",
       " (2, 30),\n",
       " (10, 1),\n",
       " (10, 5),\n",
       " (10, 3),\n",
       " (10, 15),\n",
       " (10, 2),\n",
       " (10, 10),\n",
       " (10, 6),\n",
       " (10, 30),\n",
       " (6, 1),\n",
       " (6, 5),\n",
       " (6, 3),\n",
       " (6, 15),\n",
       " (6, 2),\n",
       " (6, 10),\n",
       " (6, 6),\n",
       " (6, 30),\n",
       " (30, 1),\n",
       " (30, 5),\n",
       " (30, 3),\n",
       " (30, 15),\n",
       " (30, 2),\n",
       " (30, 10),\n",
       " (30, 6),\n",
       " (30, 30)]"
      ]
     },
     "execution_count": 22,
     "metadata": {},
     "output_type": "execute_result"
    }
   ],
   "source": [
    "pp = itertools.product(generate_p(), generate_p())\n",
    "\n",
    "list(pp)"
   ]
  },
  {
   "cell_type": "code",
   "execution_count": 23,
   "id": "5d6ba1db",
   "metadata": {
    "scrolled": true
   },
   "outputs": [
    {
     "data": {
      "text/plain": [
       "[(1, 1),\n",
       " (1, 5),\n",
       " (1, 3),\n",
       " (1, 15),\n",
       " (1, 2),\n",
       " (1, 10),\n",
       " (1, 6),\n",
       " (1, 30),\n",
       " (5, 1),\n",
       " (5, 5),\n",
       " (5, 3),\n",
       " (5, 15),\n",
       " (5, 2),\n",
       " (5, 10),\n",
       " (5, 6),\n",
       " (5, 30),\n",
       " (3, 1),\n",
       " (3, 5),\n",
       " (3, 3),\n",
       " (3, 15),\n",
       " (3, 2),\n",
       " (3, 10),\n",
       " (3, 6),\n",
       " (3, 30),\n",
       " (15, 1),\n",
       " (15, 5),\n",
       " (15, 3),\n",
       " (15, 15),\n",
       " (15, 2),\n",
       " (15, 10),\n",
       " (15, 6),\n",
       " (15, 30),\n",
       " (2, 1),\n",
       " (2, 5),\n",
       " (2, 3),\n",
       " (2, 15),\n",
       " (2, 2),\n",
       " (2, 10),\n",
       " (2, 6),\n",
       " (2, 30),\n",
       " (10, 1),\n",
       " (10, 5),\n",
       " (10, 3),\n",
       " (10, 15),\n",
       " (10, 2),\n",
       " (10, 10),\n",
       " (10, 6),\n",
       " (10, 30),\n",
       " (6, 1),\n",
       " (6, 5),\n",
       " (6, 3),\n",
       " (6, 15),\n",
       " (6, 2),\n",
       " (6, 10),\n",
       " (6, 6),\n",
       " (6, 30),\n",
       " (30, 1),\n",
       " (30, 5),\n",
       " (30, 3),\n",
       " (30, 15),\n",
       " (30, 2),\n",
       " (30, 10),\n",
       " (30, 6),\n",
       " (30, 30)]"
      ]
     },
     "execution_count": 23,
     "metadata": {},
     "output_type": "execute_result"
    }
   ],
   "source": [
    "pp = itertools.product(generate_p(), repeat=2)\n",
    "\n",
    "list(pp)"
   ]
  },
  {
   "cell_type": "code",
   "execution_count": 26,
   "id": "a8bc0da8",
   "metadata": {
    "nbgrader": {
     "grade": false,
     "grade_id": "cell-38fb695f4cf55dab",
     "locked": true,
     "schema_version": 3,
     "solution": false,
     "task": false
    }
   },
   "outputs": [
    {
     "data": {
      "text/plain": [
       "[(2, 1)]"
      ]
     },
     "execution_count": 26,
     "metadata": {},
     "output_type": "execute_result"
    }
   ],
   "source": [
    "pq = []\n",
    "for p, q in itertools.product(generate_p(), repeat=2):\n",
    "    if p > q and math.gcd(p,q) ==1:\n",
    "        if p/q >= 9/5 and p/q <= 12/5:\n",
    "            pq.append((p,q))\n",
    "\n",
    "pq"
   ]
  },
  {
   "cell_type": "code",
   "execution_count": 33,
   "id": "ca04d3e8",
   "metadata": {
    "nbgrader": {
     "grade": false,
     "grade_id": "cell-f438c376bdfb516b",
     "locked": true,
     "schema_version": 3,
     "solution": false,
     "task": false
    }
   },
   "outputs": [
    {
     "data": {
      "text/plain": [
       "[(2, 1), (9, 4), (9, 5), (12, 5), (15, 8), (20, 9)]"
      ]
     },
     "execution_count": 33,
     "metadata": {},
     "output_type": "execute_result"
    }
   ],
   "source": [
    "pq = []\n",
    "for p, q in itertools.product(generate_p(4,3,2), repeat=2):\n",
    "    if p > q and math.gcd(p,q) ==1:\n",
    "        if p/q >= 9/5 and p/q <= 12/5:\n",
    "            pq.append((p,q))\n",
    "\n",
    "pq"
   ]
  },
  {
   "cell_type": "code",
   "execution_count": 34,
   "id": "e30963de",
   "metadata": {
    "nbgrader": {
     "grade": false,
     "grade_id": "cell-06987978ca5706a3",
     "locked": true,
     "schema_version": 3,
     "solution": false,
     "task": false
    },
    "scrolled": true
   },
   "outputs": [
    {
     "data": {
      "text/plain": [
       "[(12, 5), (9, 4), (20, 9), (2, 1), (15, 8), (9, 5)]"
      ]
     },
     "execution_count": 34,
     "metadata": {},
     "output_type": "execute_result"
    }
   ],
   "source": [
    "sorted(pq, reverse=True, key=lambda x: x[0]/x[1])"
   ]
  },
  {
   "cell_type": "code",
   "execution_count": null,
   "id": "d645cb56",
   "metadata": {},
   "outputs": [],
   "source": []
  },
  {
   "cell_type": "code",
   "execution_count": 29,
   "id": "4f612281",
   "metadata": {},
   "outputs": [
    {
     "data": {
      "text/plain": [
       "64"
      ]
     },
     "execution_count": 29,
     "metadata": {},
     "output_type": "execute_result"
    }
   ],
   "source": [
    "len(list(itertools.product(generate_p(), repeat=2)))"
   ]
  },
  {
   "cell_type": "code",
   "execution_count": 26,
   "id": "c851bb36",
   "metadata": {},
   "outputs": [
    {
     "data": {
      "text/plain": [
       "28"
      ]
     },
     "execution_count": 26,
     "metadata": {},
     "output_type": "execute_result"
    }
   ],
   "source": [
    "len(list(filter(lambda x: x[0]>x[1], itertools.product(generate_p(), repeat=2))))"
   ]
  },
  {
   "cell_type": "code",
   "execution_count": 43,
   "id": "306dabe8",
   "metadata": {},
   "outputs": [
    {
     "data": {
      "text/plain": [
       "13"
      ]
     },
     "execution_count": 43,
     "metadata": {},
     "output_type": "execute_result"
    }
   ],
   "source": [
    "import math\n",
    "len(list(filter(lambda x: x[0]>x[1] and math.gcd(x[0],x[1])==1, itertools.product(generate_p(), repeat=2))))"
   ]
  },
  {
   "cell_type": "code",
   "execution_count": null,
   "id": "18f79bef",
   "metadata": {},
   "outputs": [],
   "source": []
  },
  {
   "cell_type": "code",
   "execution_count": 32,
   "id": "017ec9b5",
   "metadata": {},
   "outputs": [
    {
     "data": {
      "text/plain": [
       "3600"
      ]
     },
     "execution_count": 32,
     "metadata": {},
     "output_type": "execute_result"
    }
   ],
   "source": [
    "len(list(itertools.product(generate_p(4,3,5), repeat=2)))"
   ]
  },
  {
   "cell_type": "code",
   "execution_count": 36,
   "id": "92eca421",
   "metadata": {},
   "outputs": [
    {
     "data": {
      "text/plain": [
       "276"
      ]
     },
     "execution_count": 36,
     "metadata": {},
     "output_type": "execute_result"
    }
   ],
   "source": [
    "len(list(filter(lambda x: x[0]>x[1], itertools.product(generate_p(4,3,2), repeat=2))))"
   ]
  },
  {
   "cell_type": "code",
   "execution_count": 37,
   "id": "366d717b",
   "metadata": {},
   "outputs": [
    {
     "data": {
      "text/plain": [
       "276"
      ]
     },
     "execution_count": 37,
     "metadata": {},
     "output_type": "execute_result"
    }
   ],
   "source": [
    "import math\n",
    "len(list(filter(lambda x: x[0]>x[1] and math.gcd(x[0],x[1]==1), itertools.product(generate_p(4,3,2), repeat=2))))"
   ]
  },
  {
   "cell_type": "code",
   "execution_count": 42,
   "id": "7f08c0e5",
   "metadata": {},
   "outputs": [
    {
     "data": {
      "text/plain": [
       "6"
      ]
     },
     "execution_count": 42,
     "metadata": {},
     "output_type": "execute_result"
    }
   ],
   "source": [
    "import math\n",
    "len(list(filter(lambda x: x[0]/x[1] >= 9/5 and x[0]/x[1] <= 12/5,\n",
    "                filter(lambda x: x[0]>x[1] and math.gcd(x[0],x[1])==1, \n",
    "                       itertools.product(generate_p(4,3,2), repeat=2)))))"
   ]
  },
  {
   "cell_type": "code",
   "execution_count": 41,
   "id": "94c1f85e",
   "metadata": {},
   "outputs": [
    {
     "data": {
      "text/plain": [
       "[(15, 8), (9, 5), (9, 4), (2, 1), (20, 9), (12, 5)]"
      ]
     },
     "execution_count": 41,
     "metadata": {},
     "output_type": "execute_result"
    }
   ],
   "source": [
    "import math\n",
    "list(filter(lambda x: x[0]/x[1] >= 9/5 and x[0]/x[1] <= 12/5,\n",
    "            filter(lambda x: x[0]>x[1] and math.gcd(x[0],x[1])==1, \n",
    "                   itertools.product(generate_p(4,3,2), repeat=2))))"
   ]
  },
  {
   "cell_type": "code",
   "execution_count": null,
   "id": "b24c5b7d",
   "metadata": {},
   "outputs": [],
   "source": []
  },
  {
   "cell_type": "code",
   "execution_count": null,
   "id": "cc57aa7f",
   "metadata": {},
   "outputs": [],
   "source": []
  },
  {
   "cell_type": "markdown",
   "id": "ec1904b1",
   "metadata": {
    "nbgrader": {
     "grade": false,
     "grade_id": "cell-7d91804c287a4582",
     "locked": true,
     "schema_version": 3,
     "solution": false,
     "task": false
    }
   },
   "source": [
    "課題-2) Plimton 322の数表を求める関数 `plimpton322()` を定義せよ:\n",
    "* 引数 i_max, j_max, k_max を取り、デフォルト値はそれぞれ 2 とする\n",
    "* `generate_p(i_max, j_max, k_max)` の直積の要素 `p, q` のうち、次の条件を満たすものを抜き出す\n",
    "  - `p > q`\n",
    "  - `math.gcd(p,q) == 1` (互いに素)\n",
    "  - `p/q >= 9/5`\n",
    "  - `p/q <= 12/5`\n",
    "* 戻り値は、`p/q` をキーとして降順で返す"
   ]
  },
  {
   "cell_type": "code",
   "execution_count": 45,
   "id": "3d2fa3f3",
   "metadata": {
    "nbgrader": {
     "grade": false,
     "grade_id": "cell-b54242a64689bdeb",
     "locked": false,
     "schema_version": 3,
     "solution": true,
     "task": false
    }
   },
   "outputs": [],
   "source": [
    "def plimpton322(i_max=2, j_max=2, k_max=2):\n",
    "    ### BEGIN SOLUTION\n",
    "    pq = []\n",
    "    for p, q in itertools.product(generate_p(i_max,j_max,k_max), repeat=2):\n",
    "        if p > q and math.gcd(p,q) ==1:\n",
    "            if p/q >= 9/5 and p/q <= 12/5:\n",
    "                pq.append((p,q))\n",
    "\n",
    "    return sorted(pq, reverse=True, key=lambda x: x[0]/x[1])\n",
    "    ### END SOLUTION"
   ]
  },
  {
   "cell_type": "code",
   "execution_count": 45,
   "id": "df71c963",
   "metadata": {
    "nbgrader": {
     "grade": false,
     "grade_id": "cell-49bfba61f5c156e7",
     "locked": true,
     "schema_version": 3,
     "solution": false,
     "task": false
    }
   },
   "outputs": [
    {
     "data": {
      "text/plain": [
       "[(2, 1)]"
      ]
     },
     "execution_count": 45,
     "metadata": {},
     "output_type": "execute_result"
    }
   ],
   "source": [
    "plimpton322()"
   ]
  },
  {
   "cell_type": "code",
   "execution_count": 46,
   "id": "b1aa6ac0",
   "metadata": {
    "nbgrader": {
     "grade": false,
     "grade_id": "cell-c7d650211906a802",
     "locked": true,
     "schema_version": 3,
     "solution": false,
     "task": false
    }
   },
   "outputs": [
    {
     "data": {
      "text/plain": [
       "[(12, 5), (9, 4), (20, 9), (2, 1), (15, 8), (9, 5)]"
      ]
     },
     "execution_count": 46,
     "metadata": {},
     "output_type": "execute_result"
    }
   ],
   "source": [
    "plimpton322(4,3,2)"
   ]
  },
  {
   "cell_type": "code",
   "execution_count": null,
   "id": "a83bf86b",
   "metadata": {},
   "outputs": [],
   "source": []
  },
  {
   "cell_type": "code",
   "execution_count": null,
   "id": "75d85555",
   "metadata": {},
   "outputs": [],
   "source": []
  },
  {
   "cell_type": "code",
   "execution_count": null,
   "id": "4d1a487c",
   "metadata": {},
   "outputs": [],
   "source": []
  },
  {
   "cell_type": "code",
   "execution_count": 49,
   "id": "5bddac83",
   "metadata": {
    "nbgrader": {
     "grade": false,
     "grade_id": "cell-b7e8e658bc4e001e",
     "locked": true,
     "schema_version": 3,
     "solution": false,
     "task": false
    }
   },
   "outputs": [
    {
     "name": "stdout",
     "output_type": "stream",
     "text": [
      "1.983402777777778 119 169\n",
      "1.815007716049383 65 97\n",
      "1.7851929012345678 319 481\n",
      "1.5625 3 5\n",
      "1.450017361111111 161 289\n",
      "1.3871604938271607 56 106\n"
     ]
    }
   ],
   "source": [
    "for p, q in plimpton322(4,3,2):\n",
    "    a = 2 * p * q\n",
    "    b = p**2 - q**2\n",
    "    d = p**2 + q**2\n",
    "    print((d/a)**2, b, d)"
   ]
  },
  {
   "cell_type": "code",
   "execution_count": 47,
   "id": "9febaed4",
   "metadata": {
    "hide_input": false,
    "nbgrader": {
     "grade": false,
     "grade_id": "cell-389a24bfa3cd0e76",
     "locked": true,
     "schema_version": 3,
     "solution": false,
     "task": false
    }
   },
   "outputs": [
    {
     "data": {
      "text/html": [
       "<div>\n",
       "<style scoped>\n",
       "    .dataframe tbody tr th:only-of-type {\n",
       "        vertical-align: middle;\n",
       "    }\n",
       "\n",
       "    .dataframe tbody tr th {\n",
       "        vertical-align: top;\n",
       "    }\n",
       "\n",
       "    .dataframe thead th {\n",
       "        text-align: right;\n",
       "    }\n",
       "</style>\n",
       "<table border=\"1\" class=\"dataframe\">\n",
       "  <thead>\n",
       "    <tr style=\"text-align: right;\">\n",
       "      <th></th>\n",
       "      <th>or</th>\n",
       "      <th>Short Side</th>\n",
       "      <th>Diagonal</th>\n",
       "      <th>Row #</th>\n",
       "    </tr>\n",
       "  </thead>\n",
       "  <tbody>\n",
       "    <tr>\n",
       "      <th>0</th>\n",
       "      <td>(1).9834028</td>\n",
       "      <td>119</td>\n",
       "      <td>169</td>\n",
       "      <td>1</td>\n",
       "    </tr>\n",
       "    <tr>\n",
       "      <th>1</th>\n",
       "      <td>(1).9491586</td>\n",
       "      <td>3367</td>\n",
       "      <td>4825</td>\n",
       "      <td>2</td>\n",
       "    </tr>\n",
       "    <tr>\n",
       "      <th>2</th>\n",
       "      <td>(1).9188021</td>\n",
       "      <td>4601</td>\n",
       "      <td>6649</td>\n",
       "      <td>3</td>\n",
       "    </tr>\n",
       "    <tr>\n",
       "      <th>3</th>\n",
       "      <td>(1).8862479</td>\n",
       "      <td>12709</td>\n",
       "      <td>18541</td>\n",
       "      <td>4</td>\n",
       "    </tr>\n",
       "    <tr>\n",
       "      <th>4</th>\n",
       "      <td>(1).8150077</td>\n",
       "      <td>65</td>\n",
       "      <td>97</td>\n",
       "      <td>5</td>\n",
       "    </tr>\n",
       "    <tr>\n",
       "      <th>5</th>\n",
       "      <td>(1).7851929</td>\n",
       "      <td>319</td>\n",
       "      <td>481</td>\n",
       "      <td>6</td>\n",
       "    </tr>\n",
       "    <tr>\n",
       "      <th>6</th>\n",
       "      <td>(1).7199837</td>\n",
       "      <td>2291</td>\n",
       "      <td>3541</td>\n",
       "      <td>7</td>\n",
       "    </tr>\n",
       "    <tr>\n",
       "      <th>7</th>\n",
       "      <td>(1).6927094</td>\n",
       "      <td>799</td>\n",
       "      <td>1249</td>\n",
       "      <td>8</td>\n",
       "    </tr>\n",
       "    <tr>\n",
       "      <th>8</th>\n",
       "      <td>(1).6426694</td>\n",
       "      <td>481</td>\n",
       "      <td>769</td>\n",
       "      <td>9</td>\n",
       "    </tr>\n",
       "    <tr>\n",
       "      <th>9</th>\n",
       "      <td>(1).5861226</td>\n",
       "      <td>4961</td>\n",
       "      <td>8161</td>\n",
       "      <td>10</td>\n",
       "    </tr>\n",
       "    <tr>\n",
       "      <th>10</th>\n",
       "      <td>(1).5625</td>\n",
       "      <td>45*</td>\n",
       "      <td>75*</td>\n",
       "      <td>11</td>\n",
       "    </tr>\n",
       "    <tr>\n",
       "      <th>11</th>\n",
       "      <td>(1).4894168</td>\n",
       "      <td>1679</td>\n",
       "      <td>2929</td>\n",
       "      <td>12</td>\n",
       "    </tr>\n",
       "    <tr>\n",
       "      <th>12</th>\n",
       "      <td>(1).4500174</td>\n",
       "      <td>161</td>\n",
       "      <td>289</td>\n",
       "      <td>13</td>\n",
       "    </tr>\n",
       "    <tr>\n",
       "      <th>13</th>\n",
       "      <td>(1).4302388</td>\n",
       "      <td>1771</td>\n",
       "      <td>3229</td>\n",
       "      <td>14</td>\n",
       "    </tr>\n",
       "    <tr>\n",
       "      <th>14</th>\n",
       "      <td>(1).3871605</td>\n",
       "      <td>56*</td>\n",
       "      <td>106*</td>\n",
       "      <td>15</td>\n",
       "    </tr>\n",
       "  </tbody>\n",
       "</table>\n",
       "</div>"
      ],
      "text/plain": [
       "             or Short Side Diagonal  Row #\n",
       "0   (1).9834028        119      169      1\n",
       "1   (1).9491586       3367     4825      2\n",
       "2   (1).9188021       4601     6649      3\n",
       "3   (1).8862479      12709    18541      4\n",
       "4   (1).8150077         65       97      5\n",
       "5   (1).7851929        319      481      6\n",
       "6   (1).7199837       2291     3541      7\n",
       "7   (1).6927094        799     1249      8\n",
       "8   (1).6426694        481      769      9\n",
       "9   (1).5861226       4961     8161     10\n",
       "10     (1).5625        45*      75*     11\n",
       "11  (1).4894168       1679     2929     12\n",
       "12  (1).4500174        161      289     13\n",
       "13  (1).4302388       1771     3229     14\n",
       "14  (1).3871605        56*     106*     15"
      ]
     },
     "execution_count": 47,
     "metadata": {},
     "output_type": "execute_result"
    }
   ],
   "source": [
    "import pandas as pd\n",
    "import requests\n",
    "\n",
    "res = requests.get(\"https://en.wikipedia.org/wiki/Plimpton_322\").text\n",
    "\n",
    "df2=pd.read_html(res)[1]\n",
    "df2"
   ]
  },
  {
   "cell_type": "code",
   "execution_count": null,
   "id": "6b5d0788",
   "metadata": {},
   "outputs": [],
   "source": []
  },
  {
   "cell_type": "code",
   "execution_count": null,
   "id": "f54d1e10",
   "metadata": {},
   "outputs": [],
   "source": []
  },
  {
   "cell_type": "code",
   "execution_count": 55,
   "id": "a164e04a",
   "metadata": {},
   "outputs": [
    {
     "data": {
      "text/plain": [
       "[(Fraction(12, 5), Fraction(5, 12), Fraction(119, 60), 120, 119, 169),\n",
       " (Fraction(9, 4), Fraction(4, 9), Fraction(65, 36), 72, 65, 97),\n",
       " (Fraction(20, 9), Fraction(9, 20), Fraction(319, 180), 360, 319, 481),\n",
       " (Fraction(2, 1), Fraction(1, 2), Fraction(3, 2), 4, 3, 5),\n",
       " (Fraction(15, 8), Fraction(8, 15), Fraction(161, 120), 240, 161, 289),\n",
       " (Fraction(9, 5), Fraction(5, 9), Fraction(56, 45), 90, 56, 106)]"
      ]
     },
     "execution_count": 55,
     "metadata": {},
     "output_type": "execute_result"
    }
   ],
   "source": [
    "import numpy as np\n",
    "import pandas as pd\n",
    "from fractions import Fraction\n",
    "l = []\n",
    "for p, q in plimpton322(4,3,2):\n",
    "    a = 2 * p * q\n",
    "    b = p**2 - q**2\n",
    "    d = p**2 + q**2\n",
    "    l.append((Fraction(b+d,a), Fraction(d-b,a), Fraction(2*b,a), a, b, d))\n",
    "l"
   ]
  },
  {
   "cell_type": "code",
   "execution_count": 68,
   "id": "523b8377",
   "metadata": {},
   "outputs": [],
   "source": [
    "df = pd.DataFrame(l, columns=['(b+d)/a', '(b-d)/a', '2(b/a)', 'a', 'b', 'd'])"
   ]
  },
  {
   "cell_type": "code",
   "execution_count": 69,
   "id": "0a63ffb7",
   "metadata": {},
   "outputs": [
    {
     "data": {
      "text/html": [
       "<div>\n",
       "<style scoped>\n",
       "    .dataframe tbody tr th:only-of-type {\n",
       "        vertical-align: middle;\n",
       "    }\n",
       "\n",
       "    .dataframe tbody tr th {\n",
       "        vertical-align: top;\n",
       "    }\n",
       "\n",
       "    .dataframe thead th {\n",
       "        text-align: right;\n",
       "    }\n",
       "</style>\n",
       "<table border=\"1\" class=\"dataframe\">\n",
       "  <thead>\n",
       "    <tr style=\"text-align: right;\">\n",
       "      <th></th>\n",
       "      <th>(b+d)/a</th>\n",
       "      <th>(b-d)/a</th>\n",
       "      <th>2(b/a)</th>\n",
       "      <th>a</th>\n",
       "      <th>b</th>\n",
       "      <th>d</th>\n",
       "    </tr>\n",
       "  </thead>\n",
       "  <tbody>\n",
       "    <tr>\n",
       "      <th>0</th>\n",
       "      <td>12/5</td>\n",
       "      <td>5/12</td>\n",
       "      <td>119/60</td>\n",
       "      <td>120</td>\n",
       "      <td>119</td>\n",
       "      <td>169</td>\n",
       "    </tr>\n",
       "    <tr>\n",
       "      <th>1</th>\n",
       "      <td>9/4</td>\n",
       "      <td>4/9</td>\n",
       "      <td>65/36</td>\n",
       "      <td>72</td>\n",
       "      <td>65</td>\n",
       "      <td>97</td>\n",
       "    </tr>\n",
       "    <tr>\n",
       "      <th>2</th>\n",
       "      <td>20/9</td>\n",
       "      <td>9/20</td>\n",
       "      <td>319/180</td>\n",
       "      <td>360</td>\n",
       "      <td>319</td>\n",
       "      <td>481</td>\n",
       "    </tr>\n",
       "    <tr>\n",
       "      <th>3</th>\n",
       "      <td>2</td>\n",
       "      <td>1/2</td>\n",
       "      <td>3/2</td>\n",
       "      <td>4</td>\n",
       "      <td>3</td>\n",
       "      <td>5</td>\n",
       "    </tr>\n",
       "    <tr>\n",
       "      <th>4</th>\n",
       "      <td>15/8</td>\n",
       "      <td>8/15</td>\n",
       "      <td>161/120</td>\n",
       "      <td>240</td>\n",
       "      <td>161</td>\n",
       "      <td>289</td>\n",
       "    </tr>\n",
       "    <tr>\n",
       "      <th>5</th>\n",
       "      <td>9/5</td>\n",
       "      <td>5/9</td>\n",
       "      <td>56/45</td>\n",
       "      <td>90</td>\n",
       "      <td>56</td>\n",
       "      <td>106</td>\n",
       "    </tr>\n",
       "  </tbody>\n",
       "</table>\n",
       "</div>"
      ],
      "text/plain": [
       "  (b+d)/a (b-d)/a   2(b/a)    a    b    d\n",
       "0    12/5    5/12   119/60  120  119  169\n",
       "1     9/4     4/9    65/36   72   65   97\n",
       "2    20/9    9/20  319/180  360  319  481\n",
       "3       2     1/2      3/2    4    3    5\n",
       "4    15/8    8/15  161/120  240  161  289\n",
       "5     9/5     5/9    56/45   90   56  106"
      ]
     },
     "execution_count": 69,
     "metadata": {},
     "output_type": "execute_result"
    }
   ],
   "source": [
    "df"
   ]
  },
  {
   "cell_type": "code",
   "execution_count": null,
   "id": "75916e53",
   "metadata": {},
   "outputs": [],
   "source": []
  },
  {
   "cell_type": "code",
   "execution_count": null,
   "id": "5310eca5",
   "metadata": {},
   "outputs": [],
   "source": []
  },
  {
   "cell_type": "markdown",
   "id": "f0a33088",
   "metadata": {
    "nbgrader": {
     "grade": false,
     "grade_id": "cell-e61778e91e4ca1c8",
     "locked": true,
     "schema_version": 3,
     "solution": false,
     "task": false
    }
   },
   "source": [
    "---\n",
    "以下、採点用のセルにつき編集できない:"
   ]
  },
  {
   "cell_type": "code",
   "execution_count": 40,
   "id": "5c710261",
   "metadata": {
    "nbgrader": {
     "grade": false,
     "grade_id": "cell-802a8ae943ee2c54",
     "locked": true,
     "schema_version": 3,
     "solution": false,
     "task": false
    }
   },
   "outputs": [],
   "source": [
    "from nose.tools import assert_equal, assert_true"
   ]
  },
  {
   "cell_type": "code",
   "execution_count": 43,
   "id": "654fc590",
   "metadata": {
    "nbgrader": {
     "grade": true,
     "grade_id": "cell-b4f212f1a4f0d324",
     "locked": true,
     "points": 1,
     "schema_version": 3,
     "solution": false,
     "task": false
    }
   },
   "outputs": [],
   "source": [
    "assert_equal(plimpton322(), [(2, 1)])"
   ]
  },
  {
   "cell_type": "code",
   "execution_count": 42,
   "id": "305280b6",
   "metadata": {
    "nbgrader": {
     "grade": true,
     "grade_id": "cell-4fdfe4778425eec3",
     "locked": true,
     "points": 1,
     "schema_version": 3,
     "solution": false,
     "task": false
    }
   },
   "outputs": [],
   "source": [
    "assert_equal(plimpton322(4,3,2), [(12, 5), (9, 4), (20, 9), (2, 1), (15, 8), (9, 5)])"
   ]
  }
 ],
 "metadata": {
  "celltoolbar": "Create Assignment",
  "kernelspec": {
   "display_name": "Python 3 (ipykernel)",
   "language": "python",
   "name": "python3"
  },
  "language_info": {
   "codemirror_mode": {
    "name": "ipython",
    "version": 3
   },
   "file_extension": ".py",
   "mimetype": "text/x-python",
   "name": "python",
   "nbconvert_exporter": "python",
   "pygments_lexer": "ipython3",
   "version": "3.9.12"
  },
  "toc": {
   "base_numbering": 1,
   "nav_menu": {},
   "number_sections": true,
   "sideBar": true,
   "skip_h1_title": false,
   "title_cell": "Table of Contents",
   "title_sidebar": "Contents",
   "toc_cell": false,
   "toc_position": {},
   "toc_section_display": true,
   "toc_window_display": false
  }
 },
 "nbformat": 4,
 "nbformat_minor": 5
}
