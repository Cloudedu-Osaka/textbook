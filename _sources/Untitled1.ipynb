{
 "cells": [
  {
   "cell_type": "markdown",
   "id": "793fec3d",
   "metadata": {},
   "source": [
    "* 精度 (base 60 to base 10)\n",
    "* plimton 322は逆数計算に使えるか"
   ]
  },
  {
   "cell_type": "code",
   "execution_count": null,
   "id": "a2ba5e59",
   "metadata": {},
   "outputs": [],
   "source": []
  },
  {
   "cell_type": "code",
   "execution_count": 134,
   "id": "eda2f548",
   "metadata": {},
   "outputs": [],
   "source": [
    "def nest(f, x, c):\n",
    "    for i in range(c):\n",
    "        x = f(x)\n",
    "    return x"
   ]
  },
  {
   "cell_type": "code",
   "execution_count": 136,
   "id": "c985d4bd",
   "metadata": {},
   "outputs": [
    {
     "data": {
      "text/plain": [
       "1.4142135623746899"
      ]
     },
     "execution_count": 136,
     "metadata": {},
     "output_type": "execute_result"
    }
   ],
   "source": [
    "nest(f, 2, 4)"
   ]
  },
  {
   "cell_type": "code",
   "execution_count": 137,
   "id": "3348abdc",
   "metadata": {},
   "outputs": [
    {
     "data": {
      "text/plain": [
       "1.4142135623746899"
      ]
     },
     "execution_count": 137,
     "metadata": {},
     "output_type": "execute_result"
    }
   ],
   "source": [
    "nest(lambda x: (x+2/x)/2, 2, 4)"
   ]
  },
  {
   "cell_type": "code",
   "execution_count": 142,
   "id": "8bd371ce",
   "metadata": {},
   "outputs": [
    {
     "data": {
      "text/plain": [
       "Fraction(665857, 470832)"
      ]
     },
     "execution_count": 142,
     "metadata": {},
     "output_type": "execute_result"
    }
   ],
   "source": [
    "nest(lambda x: Fraction(x+Fraction(2,x), 2), 2, 4)"
   ]
  },
  {
   "cell_type": "code",
   "execution_count": 141,
   "id": "60aea49f",
   "metadata": {},
   "outputs": [
    {
     "data": {
      "text/plain": [
       "1.4142135623746899"
      ]
     },
     "execution_count": 141,
     "metadata": {},
     "output_type": "execute_result"
    }
   ],
   "source": [
    "float(Fraction(665857, 470832))"
   ]
  },
  {
   "cell_type": "code",
   "execution_count": 139,
   "id": "12eb819e",
   "metadata": {},
   "outputs": [
    {
     "data": {
      "text/plain": [
       "(function, function)"
      ]
     },
     "execution_count": 139,
     "metadata": {},
     "output_type": "execute_result"
    }
   ],
   "source": [
    "type(f), type(lambda x: (x+2/x)/2)"
   ]
  },
  {
   "cell_type": "markdown",
   "id": "16429ce9",
   "metadata": {},
   "source": [
    "`lambda` を使うと\n",
    "* 単純な関数を繰り返し使いたいとき\n",
    "    * 名前を付けなくていい\n",
    "    * 引数の中で定義できる\n",
    "    * `return` を省ける (式は一個だけ)\n",
    "* 複雑な関数を使いたいときは\n",
    "    * 関数定義内で関数を定義する"
   ]
  },
  {
   "cell_type": "code",
   "execution_count": null,
   "id": "5d6a8ca7",
   "metadata": {},
   "outputs": [],
   "source": []
  },
  {
   "cell_type": "code",
   "execution_count": null,
   "id": "7bd42310",
   "metadata": {},
   "outputs": [],
   "source": []
  },
  {
   "cell_type": "markdown",
   "id": "4ff56a2f",
   "metadata": {},
   "source": [
    "* [list - how to write a function like Mma's NestList in Python - Stack Overflow](https://stackoverflow.com/questions/12435298/how-to-write-a-function-like-mmas-nestlist-in-python)"
   ]
  },
  {
   "cell_type": "code",
   "execution_count": 96,
   "id": "efec7e93",
   "metadata": {},
   "outputs": [],
   "source": [
    "def nestList(f,x,c):\n",
    "    for i in range(c):\n",
    "        yield x\n",
    "        x = f(x)\n",
    "    yield x"
   ]
  },
  {
   "cell_type": "code",
   "execution_count": null,
   "id": "23e839f2",
   "metadata": {},
   "outputs": [],
   "source": []
  },
  {
   "cell_type": "code",
   "execution_count": 97,
   "id": "ce01b69d",
   "metadata": {},
   "outputs": [],
   "source": [
    "f = lambda x: (x+2/x)/2"
   ]
  },
  {
   "cell_type": "code",
   "execution_count": 98,
   "id": "ad400fe6",
   "metadata": {},
   "outputs": [
    {
     "data": {
      "text/plain": [
       "[2, 1.5, 1.4166666666666665, 1.4142156862745097, 1.4142135623746899]"
      ]
     },
     "execution_count": 98,
     "metadata": {},
     "output_type": "execute_result"
    }
   ],
   "source": [
    "list(nestList(f,2,4))"
   ]
  },
  {
   "cell_type": "code",
   "execution_count": 99,
   "id": "acf8419c",
   "metadata": {},
   "outputs": [
    {
     "data": {
      "text/plain": [
       "1.4142135623730951"
      ]
     },
     "execution_count": 99,
     "metadata": {},
     "output_type": "execute_result"
    }
   ],
   "source": [
    "import math\n",
    "math.sqrt(2)"
   ]
  },
  {
   "cell_type": "code",
   "execution_count": null,
   "id": "88b2234b",
   "metadata": {},
   "outputs": [],
   "source": []
  },
  {
   "cell_type": "code",
   "execution_count": 143,
   "id": "676498ea",
   "metadata": {},
   "outputs": [],
   "source": [
    "from fractions import Fraction\n",
    "\n",
    "f = lambda x: Fraction(x+Fraction(2,x), 2)"
   ]
  },
  {
   "cell_type": "code",
   "execution_count": 144,
   "id": "a32caa1d",
   "metadata": {},
   "outputs": [
    {
     "data": {
      "text/plain": [
       "[2,\n",
       " Fraction(3, 2),\n",
       " Fraction(17, 12),\n",
       " Fraction(577, 408),\n",
       " Fraction(665857, 470832)]"
      ]
     },
     "execution_count": 144,
     "metadata": {},
     "output_type": "execute_result"
    }
   ],
   "source": [
    "list(nestList(f,2,4))"
   ]
  },
  {
   "cell_type": "code",
   "execution_count": 64,
   "id": "65b4039c",
   "metadata": {},
   "outputs": [
    {
     "data": {
      "text/plain": [
       "1.4142135623746899"
      ]
     },
     "execution_count": 64,
     "metadata": {},
     "output_type": "execute_result"
    }
   ],
   "source": [
    "float(Fraction(665857, 470832))"
   ]
  },
  {
   "cell_type": "code",
   "execution_count": null,
   "id": "27930e0a",
   "metadata": {},
   "outputs": [],
   "source": []
  },
  {
   "cell_type": "code",
   "execution_count": 66,
   "id": "fae0fa48",
   "metadata": {},
   "outputs": [],
   "source": [
    "import matplotlib.pyplot as plt\n",
    "import numpy as np"
   ]
  },
  {
   "cell_type": "code",
   "execution_count": 67,
   "id": "980b596d",
   "metadata": {
    "scrolled": true
   },
   "outputs": [
    {
     "data": {
      "text/plain": [
       "[<matplotlib.lines.Line2D at 0x7faa6bea2520>]"
      ]
     },
     "execution_count": 67,
     "metadata": {},
     "output_type": "execute_result"
    },
    {
     "data": {
      "image/png": "[encoded data removed]",
      "text/plain": [
       "<Figure size 432x288 with 1 Axes>"
      ]
     },
     "metadata": {
      "needs_background": "light"
     },
     "output_type": "display_data"
    }
   ],
   "source": [
    "f = lambda x: x**2-2\n",
    "\n",
    "t = np.arange(-2.0, 2.0, 0.02)\n",
    "\n",
    "plt.figure()\n",
    "plt.subplot(211)\n",
    "\n",
    "plt.axhline(0)\n",
    "plt.axvline(0)\n",
    "\n",
    "plt.plot(t, f(t), 'k')"
   ]
  },
  {
   "cell_type": "code",
   "execution_count": null,
   "id": "d89036f6",
   "metadata": {},
   "outputs": [],
   "source": []
  },
  {
   "cell_type": "code",
   "execution_count": 80,
   "id": "f2dad923",
   "metadata": {},
   "outputs": [
    {
     "data": {
      "text/plain": [
       "array([1.        , 1.00505051, 1.01010101, 1.01515152, 1.02020202,\n",
       "       1.02525253, 1.03030303, 1.03535354, 1.04040404, 1.04545455,\n",
       "       1.05050505, 1.05555556, 1.06060606, 1.06565657, 1.07070707,\n",
       "       1.07575758, 1.08080808, 1.08585859, 1.09090909, 1.0959596 ,\n",
       "       1.1010101 , 1.10606061, 1.11111111, 1.11616162, 1.12121212,\n",
       "       1.12626263, 1.13131313, 1.13636364, 1.14141414, 1.14646465,\n",
       "       1.15151515, 1.15656566, 1.16161616, 1.16666667, 1.17171717,\n",
       "       1.17676768, 1.18181818, 1.18686869, 1.19191919, 1.1969697 ,\n",
       "       1.2020202 , 1.20707071, 1.21212121, 1.21717172, 1.22222222,\n",
       "       1.22727273, 1.23232323, 1.23737374, 1.24242424, 1.24747475,\n",
       "       1.25252525, 1.25757576, 1.26262626, 1.26767677, 1.27272727,\n",
       "       1.27777778, 1.28282828, 1.28787879, 1.29292929, 1.2979798 ,\n",
       "       1.3030303 , 1.30808081, 1.31313131, 1.31818182, 1.32323232,\n",
       "       1.32828283, 1.33333333, 1.33838384, 1.34343434, 1.34848485,\n",
       "       1.35353535, 1.35858586, 1.36363636, 1.36868687, 1.37373737,\n",
       "       1.37878788, 1.38383838, 1.38888889, 1.39393939, 1.3989899 ,\n",
       "       1.4040404 , 1.40909091, 1.41414141, 1.41919192, 1.42424242,\n",
       "       1.42929293, 1.43434343, 1.43939394, 1.44444444, 1.44949495,\n",
       "       1.45454545, 1.45959596, 1.46464646, 1.46969697, 1.47474747,\n",
       "       1.47979798, 1.48484848, 1.48989899, 1.49494949, 1.5       ])"
      ]
     },
     "execution_count": 80,
     "metadata": {},
     "output_type": "execute_result"
    }
   ],
   "source": [
    "a = np.linspace(1, 1.5, 100)\n",
    "a"
   ]
  },
  {
   "cell_type": "code",
   "execution_count": 81,
   "id": "16d404d6",
   "metadata": {
    "scrolled": true
   },
   "outputs": [],
   "source": [
    "b = list(map(f, a))\n",
    "b;"
   ]
  },
  {
   "cell_type": "code",
   "execution_count": 82,
   "id": "ff4d6e9c",
   "metadata": {},
   "outputs": [
    {
     "data": {
      "text/plain": [
       "83"
      ]
     },
     "execution_count": 82,
     "metadata": {},
     "output_type": "execute_result"
    }
   ],
   "source": [
    "i = bisect.bisect(b, 0)\n",
    "i"
   ]
  },
  {
   "cell_type": "code",
   "execution_count": 83,
   "id": "44bbd080",
   "metadata": {},
   "outputs": [
    {
     "data": {
      "text/plain": [
       "array([1.41414141, 1.41919192])"
      ]
     },
     "execution_count": 83,
     "metadata": {},
     "output_type": "execute_result"
    }
   ],
   "source": [
    "a[i-1:i+1]"
   ]
  },
  {
   "cell_type": "code",
   "execution_count": 84,
   "id": "b7bcf413",
   "metadata": {},
   "outputs": [
    {
     "data": {
      "text/plain": [
       "(1.4141414141414141, 1.4191919191919191)"
      ]
     },
     "execution_count": 84,
     "metadata": {},
     "output_type": "execute_result"
    }
   ],
   "source": [
    "a[i-1], a[i]"
   ]
  },
  {
   "cell_type": "code",
   "execution_count": 85,
   "id": "69932638",
   "metadata": {},
   "outputs": [],
   "source": [
    "a = np.linspace(a[i-1], a[i], 1000)\n",
    "a;"
   ]
  },
  {
   "cell_type": "code",
   "execution_count": 86,
   "id": "ff695b2c",
   "metadata": {
    "scrolled": true
   },
   "outputs": [],
   "source": [
    "b = list(map(f, a))\n",
    "b;"
   ]
  },
  {
   "cell_type": "code",
   "execution_count": 87,
   "id": "b7d1a82a",
   "metadata": {},
   "outputs": [
    {
     "data": {
      "text/plain": [
       "15"
      ]
     },
     "execution_count": 87,
     "metadata": {},
     "output_type": "execute_result"
    }
   ],
   "source": [
    "i=bisect.bisect(b, 0)\n",
    "i"
   ]
  },
  {
   "cell_type": "code",
   "execution_count": 88,
   "id": "c7e67a12",
   "metadata": {},
   "outputs": [
    {
     "data": {
      "text/plain": [
       "array([1.41421219, 1.41421725])"
      ]
     },
     "execution_count": 88,
     "metadata": {},
     "output_type": "execute_result"
    }
   ],
   "source": [
    "a[i-1:i+1]"
   ]
  },
  {
   "cell_type": "code",
   "execution_count": null,
   "id": "4cbda4e6",
   "metadata": {},
   "outputs": [],
   "source": []
  },
  {
   "cell_type": "code",
   "execution_count": 19,
   "id": "3fbba54d",
   "metadata": {},
   "outputs": [
    {
     "name": "stdout",
     "output_type": "stream",
     "text": [
      "2, 5, 0, 0, 0, 0, 0, 0, 0, 0, "
     ]
    }
   ],
   "source": [
    "remainder   = 1\n",
    "denominator = 4\n",
    "for _ in range(10):\n",
    "    numerator = remainder * 10\n",
    "    quotient, remainder = divmod(numerator, denominator)\n",
    "    print(quotient, end=', ')"
   ]
  },
  {
   "cell_type": "code",
   "execution_count": 137,
   "id": "82c698d1",
   "metadata": {},
   "outputs": [
    {
     "data": {
      "text/plain": [
       "12.34"
      ]
     },
     "execution_count": 137,
     "metadata": {},
     "output_type": "execute_result"
    }
   ],
   "source": [
    "x = 152.2756\n",
    "math.sqrt(x)"
   ]
  },
  {
   "cell_type": "code",
   "execution_count": 138,
   "id": "f07d8915",
   "metadata": {},
   "outputs": [
    {
     "data": {
      "text/plain": [
       "('0152', '2756')"
      ]
     },
     "execution_count": 138,
     "metadata": {},
     "output_type": "execute_result"
    }
   ],
   "source": [
    "x_i, x_f = str(x).split('.')\n",
    "x_i = '0'*(len(i)%2) + x_i\n",
    "x_f = x_f + '0'*(len(f)%2)\n",
    "x_i, x_f"
   ]
  },
  {
   "cell_type": "code",
   "execution_count": 144,
   "id": "87095db2",
   "metadata": {},
   "outputs": [
    {
     "data": {
      "text/plain": [
       "[1, 52, 27, 56]"
      ]
     },
     "execution_count": 144,
     "metadata": {},
     "output_type": "execute_result"
    }
   ],
   "source": [
    "import itertools\n",
    "\n",
    "xx = list(map(int,\n",
    "              itertools.chain(*[[y[i:i+2] for i in range(0,len(y),2)]\n",
    "                                for y in (x_i, x_f)])))\n",
    "xx"
   ]
  },
  {
   "cell_type": "code",
   "execution_count": 134,
   "id": "786fb3de",
   "metadata": {},
   "outputs": [],
   "source": [
    "p, r = 0, 0\n",
    "\n",
    "for c in xx:\n",
    "    c += r*100\n",
    "    x = 0\n",
    "    while (20*p+(x+1))*(x+1) <= c:\n",
    "        x+=1\n",
    "    y = (20*p+x)*x\n",
    "    p = 10*p+x\n",
    "    r = c - y"
   ]
  },
  {
   "cell_type": "code",
   "execution_count": 135,
   "id": "d6b5bd57",
   "metadata": {},
   "outputs": [
    {
     "data": {
      "text/plain": [
       "(1234, 0)"
      ]
     },
     "execution_count": 135,
     "metadata": {},
     "output_type": "execute_result"
    }
   ],
   "source": [
    "p, r"
   ]
  },
  {
   "cell_type": "code",
   "execution_count": 118,
   "id": "b2d9328b",
   "metadata": {},
   "outputs": [],
   "source": [
    "# [Methods of computing square roots - Wikipedia]\n",
    "# (https://en.wikipedia.org/wiki/Methods_of_computing_square_roots#Decimal_(base_10))\n",
    "\n",
    "import itertools\n",
    "\n",
    "def long_division(s):\n",
    "    # split by two digits\n",
    "    si, sf = str(s).split('.')\n",
    "    si = '0'*(len(si)%2) + si\n",
    "    sf = sf + '0'*(len(sf)%2)\n",
    "    \n",
    "    sl = itertools.chain(*[[sx[i:i+2] for i in range(0,len(sx),2)]\n",
    "                           for sx in (si, sf)])\n",
    "    \n",
    "    # find x, y and p\n",
    "    p, r = 0, 0\n",
    "    for c in map(int, sl):\n",
    "        c += r*100\n",
    "        x = 0\n",
    "        while (2*(10*p)+(x+1))*(x+1) <= c:\n",
    "            x+=1\n",
    "        y = (20*p+x)*x\n",
    "        p = 10*p+x     # x is 'quotient'\n",
    "        r = c - y      # r is 'remainder'\n",
    "    return p, r"
   ]
  },
  {
   "cell_type": "code",
   "execution_count": 119,
   "id": "96e129d1",
   "metadata": {},
   "outputs": [
    {
     "data": {
      "text/plain": [
       "(1234, 0)"
      ]
     },
     "execution_count": 119,
     "metadata": {},
     "output_type": "execute_result"
    }
   ],
   "source": [
    "long_division(152.2756)"
   ]
  },
  {
   "cell_type": "code",
   "execution_count": 89,
   "id": "708170aa",
   "metadata": {},
   "outputs": [
    {
     "data": {
      "text/plain": [
       "152.2756"
      ]
     },
     "execution_count": 89,
     "metadata": {},
     "output_type": "execute_result"
    }
   ],
   "source": [
    "12.34**2"
   ]
  },
  {
   "cell_type": "code",
   "execution_count": 159,
   "id": "c35f0eea",
   "metadata": {},
   "outputs": [],
   "source": [
    "# [Methods of computing square roots - Wikipedia]\n",
    "# (https://en.wikipedia.org/wiki/Methods_of_computing_square_roots#Decimal_(base_10))\n",
    "\n",
    "import itertools\n",
    "import numpy as np\n",
    "\n",
    "def square_root_by_long_division(cif):\n",
    "    # split by two digits, each side of period (integer.fractions)\n",
    "    ci, cf = str(cif).split('.')\n",
    "    ci = '0'*(len(ci)%2) + ci\n",
    "    cf = cf + '0'*(len(cf)%2)\n",
    "    \n",
    "    #sl = itertools.chain(*[[sx[i:i+2] for i in range(0,len(sx),2)]\n",
    "    #                       for sx in (si, sf)])\n",
    "    cl = np.array([[cx[i:i+2] for i in range(0,len(cx),2)]\n",
    "                   for cx in (ci, cf)])\n",
    "\n",
    "    print(cl)\n",
    "    \n",
    "    def cy(p, px):\n",
    "        return (2*(10*p)+px)*px\n",
    "    \n",
    "    p, r = 0, 0\n",
    "    for c in map(int, cl.flatten()):\n",
    "        c += r*100\n",
    "        px = 0\n",
    "        while cy(p, px+1) <= c:\n",
    "            px+=1\n",
    "        r = c - cy(p, px) # r is 'remainder'\n",
    "        p = 10*p+px       # x is 'quotient'\n",
    "        print(p,r)\n",
    "    return p, r"
   ]
  },
  {
   "cell_type": "code",
   "execution_count": 160,
   "id": "a702d68a",
   "metadata": {},
   "outputs": [
    {
     "name": "stdout",
     "output_type": "stream",
     "text": [
      "[['01' '52']\n",
      " ['27' '56']]\n",
      "1 0\n",
      "12 8\n",
      "123 98\n",
      "1234 0\n"
     ]
    },
    {
     "data": {
      "text/plain": [
       "(1234, 0)"
      ]
     },
     "execution_count": 160,
     "metadata": {},
     "output_type": "execute_result"
    }
   ],
   "source": [
    "square_root_by_long_division(152.2756)"
   ]
  },
  {
   "cell_type": "code",
   "execution_count": null,
   "id": "0b918cae",
   "metadata": {},
   "outputs": [],
   "source": []
  },
  {
   "cell_type": "code",
   "execution_count": 170,
   "id": "5eab740e",
   "metadata": {},
   "outputs": [
    {
     "data": {
      "text/plain": [
       "[1,\n",
       " 2,\n",
       " 3,\n",
       " 4,\n",
       " 5,\n",
       " 6,\n",
       " 7,\n",
       " 8,\n",
       " 9,\n",
       " 2,\n",
       " 4,\n",
       " 6,\n",
       " 8,\n",
       " 10,\n",
       " 12,\n",
       " 14,\n",
       " 16,\n",
       " 18,\n",
       " 3,\n",
       " 6,\n",
       " 9,\n",
       " 12,\n",
       " 15,\n",
       " 18,\n",
       " 21,\n",
       " 24,\n",
       " 27,\n",
       " 4,\n",
       " 8,\n",
       " 12,\n",
       " 16,\n",
       " 20,\n",
       " 24,\n",
       " 28,\n",
       " 32,\n",
       " 36,\n",
       " 5,\n",
       " 10,\n",
       " 15,\n",
       " 20,\n",
       " 25,\n",
       " 30,\n",
       " 35,\n",
       " 40,\n",
       " 45,\n",
       " 6,\n",
       " 12,\n",
       " 18,\n",
       " 24,\n",
       " 30,\n",
       " 36,\n",
       " 42,\n",
       " 48,\n",
       " 54,\n",
       " 7,\n",
       " 14,\n",
       " 21,\n",
       " 28,\n",
       " 35,\n",
       " 42,\n",
       " 49,\n",
       " 56,\n",
       " 63,\n",
       " 8,\n",
       " 16,\n",
       " 24,\n",
       " 32,\n",
       " 40,\n",
       " 48,\n",
       " 56,\n",
       " 64,\n",
       " 72,\n",
       " 9,\n",
       " 18,\n",
       " 27,\n",
       " 36,\n",
       " 45,\n",
       " 54,\n",
       " 63,\n",
       " 72,\n",
       " 81]"
      ]
     },
     "execution_count": 170,
     "metadata": {},
     "output_type": "execute_result"
    }
   ],
   "source": [
    "import itertools\n",
    "[n*m for n,m in itertools.product(range(1,10), repeat=2)]"
   ]
  },
  {
   "cell_type": "code",
   "execution_count": null,
   "id": "f8ed877f",
   "metadata": {},
   "outputs": [],
   "source": []
  },
  {
   "cell_type": "code",
   "execution_count": null,
   "id": "5455abf1",
   "metadata": {},
   "outputs": [],
   "source": []
  },
  {
   "cell_type": "code",
   "execution_count": 91,
   "id": "fb5a4d82",
   "metadata": {},
   "outputs": [],
   "source": [
    "a = np.linspace(0, 100, 1000)"
   ]
  },
  {
   "cell_type": "code",
   "execution_count": 92,
   "id": "2380e9f3",
   "metadata": {},
   "outputs": [],
   "source": [
    "i=np.searchsorted(a,79)"
   ]
  },
  {
   "cell_type": "code",
   "execution_count": 93,
   "id": "54282205",
   "metadata": {},
   "outputs": [
    {
     "data": {
      "text/plain": [
       "array([78.97897898, 79.07907908, 79.17917918])"
      ]
     },
     "execution_count": 93,
     "metadata": {},
     "output_type": "execute_result"
    }
   ],
   "source": [
    "a[i-1:i+2]"
   ]
  },
  {
   "cell_type": "code",
   "execution_count": 95,
   "id": "ec6ef303",
   "metadata": {},
   "outputs": [
    {
     "data": {
      "text/plain": [
       "(79.17917917917919, array([79.07907908, 79.17917918]))"
      ]
     },
     "execution_count": 95,
     "metadata": {},
     "output_type": "execute_result"
    }
   ],
   "source": [
    "# [python - How to find an index at which a new item can be inserted into sorted list and keep it sorted? - Stack Overflow]\n",
    "# (https://stackoverflow.com/questions/11290767/how-to-find-an-index-at-which-a-new-item-can-be-inserted-into-sorted-list-and-ke)\n",
    "import bisect\n",
    "i= bisect.bisect(a,79.07907908)\n",
    "\n",
    "a[i], a[i-1:i+1]"
   ]
  },
  {
   "cell_type": "code",
   "execution_count": null,
   "id": "77141a37",
   "metadata": {},
   "outputs": [],
   "source": []
  },
  {
   "cell_type": "code",
   "execution_count": null,
   "id": "73a177be",
   "metadata": {},
   "outputs": [],
   "source": []
  }
 ],
 "metadata": {
  "kernelspec": {
   "display_name": "Python 3 (ipykernel)",
   "language": "python",
   "name": "python3"
  },
  "language_info": {
   "codemirror_mode": {
    "name": "ipython",
    "version": 3
   },
   "file_extension": ".py",
   "mimetype": "text/x-python",
   "name": "python",
   "nbconvert_exporter": "python",
   "pygments_lexer": "ipython3",
   "version": "3.9.12"
  },
  "toc": {
   "base_numbering": 1,
   "nav_menu": {},
   "number_sections": true,
   "sideBar": true,
   "skip_h1_title": false,
   "title_cell": "Table of Contents",
   "title_sidebar": "Contents",
   "toc_cell": false,
   "toc_position": {},
   "toc_section_display": true,
   "toc_window_display": false
  }
 },
 "nbformat": 4,
 "nbformat_minor": 5
}
