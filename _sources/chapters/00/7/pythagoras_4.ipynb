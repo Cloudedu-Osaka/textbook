{
 "cells": [
  {
   "cell_type": "code",
   "execution_count": null,
   "id": "7f66c93c",
   "metadata": {
    "hide_input": true,
    "init_cell": true
   },
   "outputs": [],
   "source": [
    "# initialization for my classroom\n",
    "import os\n",
    "from datetime import datetime as dt\n",
    "\n",
    "def logfile(user=os.environ.get('JUPYTERHUB_USER') or 'jovyan'):\n",
    "    prefix='/srv'\n",
    "    if os.path.isdir(prefix) and os.access(prefix, os.W_OK):\n",
    "        prefix+=('/'+user)\n",
    "        if not os.path.isdir(prefix):\n",
    "            os.makedirs(prefix)\n",
    "    else:\n",
    "        prefix='.'\n",
    "    return prefix+'/'+dt.now().strftime('%Y%m%d')+'.log'\n",
    "\n",
    "path=logfile()\n",
    "#%logstop\n",
    "%logstart -otq $path append\n",
    "\n",
    "# [python - cannot override sys.excepthook - Stack Overflow](https://stackoverflow.com/questions/1261668/cannot-override-sys-excepthook/28758396)\n",
    "# https://github.com/ipython/ipython/blob/e6432249582e05f438303ce73d082a0351bb383e/IPython/core/interactiveshell.py#L1952\n",
    "\n",
    "import sys\n",
    "import traceback\n",
    "import IPython\n",
    "\n",
    "try:\n",
    "    _showtraceback\n",
    "except NameError:\n",
    "    _showtraceback=IPython.core.interactiveshell.InteractiveShell.showtraceback\n",
    "\n",
    "try:\n",
    "    _showsyntaxerror\n",
    "except NameError:\n",
    "    _showsyntaxerror=IPython.core.interactiveshell.InteractiveShell.showsyntaxerror\n",
    "\n",
    "import logging\n",
    "logging.basicConfig(filename=path.replace('.log','-exc.log'), format='%(asctime)s %(message)s', level=logging.ERROR, force=True)\n",
    "\n",
    "import sys\n",
    "import traceback\n",
    "import IPython\n",
    "\n",
    "def showtraceback(self, *args, **kwargs):\n",
    "    etype, value, tb = self._get_exc_info(kwargs.get('exc_tuple'))\n",
    "    stb = self.InteractiveTB.structured_traceback(\n",
    "        etype, value, tb, tb_offset=kwargs.get('tb_offset'))\n",
    "    logging.error(os.environ.get('JUPYTERHUB_USER') or 'jovyan')\n",
    "    logging.error(self.InteractiveTB.stb2text(stb))\n",
    "    _showtraceback(self, *args, **kwargs)\n",
    "\n",
    "def showsyntaxerror(self, *args, **kwargs):\n",
    "    etype, value, last_traceback = self._get_exc_info()\n",
    "    elist = traceback.extract_tb(last_traceback) if kwargs.get('running_compiled_code') else []\n",
    "    stb = self.SyntaxTB.structured_traceback(etype, value, elist)\n",
    "    logging.error(os.environ.get('JUPYTERHUB_USER') or 'jovyan')\n",
    "    logging.error(self.InteractiveTB.stb2text(stb))\n",
    "    _showsyntaxerror(self, *args, **kwargs)\n",
    "\n",
    "IPython.core.interactiveshell.InteractiveShell.showtraceback = showtraceback\n",
    "IPython.core.interactiveshell.InteractiveShell.showsyntaxerror = showsyntaxerror"
   ]
  },
  {
   "cell_type": "markdown",
   "id": "ea62637b",
   "metadata": {},
   "source": [
    "# YBC 7289 (2)"
   ]
  },
  {
   "cell_type": "markdown",
   "id": "d7a8643e",
   "metadata": {},
   "source": [
    "相加相乗平均の関係式\n",
    "* [Inequality of arithmetic and geometric means - Wikipedia](https://en.wikipedia.org/wiki/Inequality_of_arithmetic_and_geometric_means)"
   ]
  },
  {
   "cell_type": "markdown",
   "id": "8ad056ca",
   "metadata": {},
   "source": [
    "$$\n",
    "  \\frac{x+y}{2} \\geq \\sqrt{xy}\n",
    "$$"
   ]
  },
  {
   "cell_type": "markdown",
   "id": "09922da1",
   "metadata": {},
   "source": [
    "$y = \\frac{S}{x}$ とおく"
   ]
  },
  {
   "cell_type": "markdown",
   "id": "fbdd6ae9",
   "metadata": {},
   "source": [
    "$$\n",
    "  \\frac{1}{2} \\left( x + \\frac{S}{x} \\right) \\geq  \\sqrt{x \\cdot \\frac{S}{x}} = \\sqrt{S}\n",
    "$$"
   ]
  },
  {
   "cell_type": "markdown",
   "id": "4be737c5",
   "metadata": {},
   "source": [
    "$S = 2$ のとき"
   ]
  },
  {
   "cell_type": "markdown",
   "id": "88a0a0fe",
   "metadata": {},
   "source": [
    "$$\n",
    "  \\frac{1}{2}\\left( x+\\frac{2}{x} \\right) \\geq \\sqrt{x \\cdot \\frac{2}{x}} = \\sqrt{2}\n",
    "$$"
   ]
  },
  {
   "cell_type": "code",
   "execution_count": 2,
   "id": "bf4ef9c3",
   "metadata": {},
   "outputs": [
    {
     "data": {
      "text/plain": [
       "(1.4142135623730951, 1.414213562373095)"
      ]
     },
     "execution_count": 2,
     "metadata": {},
     "output_type": "execute_result"
    }
   ],
   "source": [
    "import math\n",
    "math.sqrt(2), 2/math.sqrt(2)"
   ]
  },
  {
   "cell_type": "code",
   "execution_count": 3,
   "id": "ceb1633f",
   "metadata": {},
   "outputs": [
    {
     "data": {
      "text/plain": [
       "1.414213562373095"
      ]
     },
     "execution_count": 3,
     "metadata": {},
     "output_type": "execute_result"
    }
   ],
   "source": [
    "(math.sqrt(2) + 2/math.sqrt(2))/2"
   ]
  },
  {
   "cell_type": "code",
   "execution_count": 30,
   "id": "545be8e9",
   "metadata": {},
   "outputs": [],
   "source": [
    "def f(x):\n",
    "    return (x + 2/x)/2"
   ]
  },
  {
   "cell_type": "code",
   "execution_count": 32,
   "id": "b3088663",
   "metadata": {},
   "outputs": [
    {
     "data": {
      "text/plain": [
       "(1.4142135623730951, 1.414213562373095, 1.414213562373095)"
      ]
     },
     "execution_count": 32,
     "metadata": {},
     "output_type": "execute_result"
    }
   ],
   "source": [
    "x = math.sqrt(2)\n",
    "x, 2/x, f(math.sqrt(2))"
   ]
  },
  {
   "cell_type": "code",
   "execution_count": null,
   "id": "774fd690",
   "metadata": {},
   "outputs": [],
   "source": []
  },
  {
   "cell_type": "code",
   "execution_count": null,
   "id": "b3a267a0",
   "metadata": {},
   "outputs": [],
   "source": []
  },
  {
   "cell_type": "code",
   "execution_count": null,
   "id": "b14b2384",
   "metadata": {},
   "outputs": [],
   "source": []
  },
  {
   "cell_type": "code",
   "execution_count": 31,
   "id": "62af10d1",
   "metadata": {},
   "outputs": [
    {
     "data": {
      "text/plain": [
       "(1.5, 1.3333333333333333, 1.4166666666666665)"
      ]
     },
     "execution_count": 31,
     "metadata": {},
     "output_type": "execute_result"
    }
   ],
   "source": [
    "x = 1.5\n",
    "x, 2/x, f(x)"
   ]
  },
  {
   "cell_type": "code",
   "execution_count": 33,
   "id": "3eabbb1e",
   "metadata": {},
   "outputs": [
    {
     "data": {
      "text/plain": [
       "(1.4166666666666665, 1.411764705882353, 1.4142156862745097)"
      ]
     },
     "execution_count": 33,
     "metadata": {},
     "output_type": "execute_result"
    }
   ],
   "source": [
    "x = 1.4166666666666665\n",
    "x, 2/x, f(x)"
   ]
  },
  {
   "cell_type": "code",
   "execution_count": 34,
   "id": "134cf21b",
   "metadata": {},
   "outputs": [
    {
     "data": {
      "text/plain": [
       "(1.4142156862745097, 1.41421143847487, 1.4142135623746899)"
      ]
     },
     "execution_count": 34,
     "metadata": {},
     "output_type": "execute_result"
    }
   ],
   "source": [
    "x = 1.4142156862745097\n",
    "x, 2/x, f(x)"
   ]
  },
  {
   "cell_type": "code",
   "execution_count": null,
   "id": "61147c3a",
   "metadata": {},
   "outputs": [],
   "source": []
  },
  {
   "cell_type": "code",
   "execution_count": null,
   "id": "6c595a50",
   "metadata": {},
   "outputs": [],
   "source": []
  },
  {
   "cell_type": "code",
   "execution_count": null,
   "id": "b097d614",
   "metadata": {},
   "outputs": [],
   "source": []
  },
  {
   "cell_type": "code",
   "execution_count": 35,
   "id": "7667a8fb",
   "metadata": {},
   "outputs": [
    {
     "name": "stdout",
     "output_type": "stream",
     "text": [
      "1.5 2.25\n",
      "1.4166666666666665 2.006944444444444\n",
      "1.4142156862745097 2.0000060073048824\n",
      "1.4142135623746899 2.0000000000045106\n",
      "1.414213562373095 1.9999999999999996\n",
      "1.414213562373095 1.9999999999999996\n"
     ]
    }
   ],
   "source": [
    "def f(x):\n",
    "    return (x + 2/x) / 2\n",
    "\n",
    "x, c = 2, 6\n",
    "for i in range(c):\n",
    "    x = f(x)\n",
    "    print(x, x**2)"
   ]
  },
  {
   "cell_type": "code",
   "execution_count": null,
   "id": "db584c34",
   "metadata": {},
   "outputs": [],
   "source": []
  },
  {
   "cell_type": "code",
   "execution_count": null,
   "id": "94f236ab",
   "metadata": {},
   "outputs": [],
   "source": []
  },
  {
   "cell_type": "code",
   "execution_count": null,
   "id": "40e8fbad",
   "metadata": {},
   "outputs": [],
   "source": []
  },
  {
   "cell_type": "code",
   "execution_count": 36,
   "id": "9fb07b27",
   "metadata": {},
   "outputs": [],
   "source": [
    "from fractions import Fraction"
   ]
  },
  {
   "cell_type": "code",
   "execution_count": 37,
   "id": "6e685e52",
   "metadata": {},
   "outputs": [
    {
     "data": {
      "text/plain": [
       "(0.5, Fraction(1, 2), 0.5)"
      ]
     },
     "execution_count": 37,
     "metadata": {},
     "output_type": "execute_result"
    }
   ],
   "source": [
    "1/2, Fraction(1,2), float(Fraction(1,2))"
   ]
  },
  {
   "cell_type": "code",
   "execution_count": 38,
   "id": "f6c78beb",
   "metadata": {},
   "outputs": [
    {
     "data": {
      "text/plain": [
       "Fraction(3, 2)"
      ]
     },
     "execution_count": 38,
     "metadata": {},
     "output_type": "execute_result"
    }
   ],
   "source": [
    "x=2\n",
    "Fraction((x + Fraction(2,x)), 2)"
   ]
  },
  {
   "cell_type": "code",
   "execution_count": null,
   "id": "11632f34",
   "metadata": {},
   "outputs": [],
   "source": []
  },
  {
   "cell_type": "code",
   "execution_count": null,
   "id": "21f454e9",
   "metadata": {},
   "outputs": [],
   "source": []
  },
  {
   "cell_type": "code",
   "execution_count": null,
   "id": "d6d05644",
   "metadata": {},
   "outputs": [],
   "source": []
  },
  {
   "cell_type": "code",
   "execution_count": 39,
   "id": "bf3f8988",
   "metadata": {},
   "outputs": [
    {
     "name": "stdout",
     "output_type": "stream",
     "text": [
      "3/2 9/4\n",
      "17/12 289/144\n",
      "577/408 332929/166464\n",
      "665857/470832 443365544449/221682772224\n",
      "886731088897/627013566048 786292024016459316676609/393146012008229658338304\n",
      "1572584048032918633353217/1111984844349868137938112 2473020588127600939387543243786675530709484249089/1236510294063800469693771621893337765354742124544\n"
     ]
    }
   ],
   "source": [
    "from fractions import Fraction\n",
    "\n",
    "def f(x):\n",
    "    #return (x + 2/x) / 2\n",
    "    return Fraction((x + Fraction(2,x)), 2)\n",
    "\n",
    "x, c = 2, 6\n",
    "for i in range(c):\n",
    "    x = f(x)\n",
    "    print(x, x**2)"
   ]
  },
  {
   "cell_type": "code",
   "execution_count": 41,
   "id": "86d21740",
   "metadata": {},
   "outputs": [
    {
     "name": "stdout",
     "output_type": "stream",
     "text": [
      "1.5 2.25\n",
      "1.4166666666666667 2.0069444444444446\n",
      "1.4142156862745099 2.000006007304883\n",
      "1.4142135623746899 2.000000000004511\n",
      "1.4142135623730951 2.0\n",
      "1.4142135623730951 2.0\n"
     ]
    }
   ],
   "source": [
    "def f(x):\n",
    "    #return (x + 2/x) / 2\n",
    "    return Fraction((x + Fraction(2,x)), 2)\n",
    "\n",
    "x, c = 2, 6\n",
    "for i in range(c):\n",
    "    x = f(x)\n",
    "    print(float(x), float(x**2))"
   ]
  },
  {
   "cell_type": "code",
   "execution_count": null,
   "id": "59bad685",
   "metadata": {},
   "outputs": [],
   "source": []
  },
  {
   "cell_type": "code",
   "execution_count": null,
   "id": "c6a0b6dc",
   "metadata": {},
   "outputs": [],
   "source": []
  },
  {
   "cell_type": "code",
   "execution_count": null,
   "id": "2af84306",
   "metadata": {},
   "outputs": [],
   "source": []
  },
  {
   "cell_type": "markdown",
   "id": "71a70473",
   "metadata": {},
   "source": [
    "数列 $x_{n}$ を次の式で定義する"
   ]
  },
  {
   "cell_type": "markdown",
   "id": "2fbb4892",
   "metadata": {},
   "source": [
    "$$\n",
    "  x_{n+1} = \\frac{1}{2}\\left( x_{n}+\\frac{2}{x_{n}} \\right) \\geq \\sqrt{x_{n} \\cdot \\frac{2}{x_{n}}} = \\sqrt{2}\n",
    "$$"
   ]
  },
  {
   "cell_type": "markdown",
   "id": "d953ce8e",
   "metadata": {},
   "source": [
    "$x_{n} - x_{n+1}$ を求める"
   ]
  },
  {
   "cell_type": "markdown",
   "id": "fab26c63",
   "metadata": {},
   "source": [
    "$$\n",
    "  \\begin{align}\n",
    "  x_{n} - x_{n+1} & = x_{n} - \\frac{1}{2}\\left( x_{n}+\\frac{2}{x_{n}}\\right) \\\\\n",
    "                  & = \\frac{1}{2} x_{n} - \\frac{1}{x_{n}} \\\\\n",
    "                  & = \\frac{1}{x_{n}}\\left(\\frac{1}{2} {x_{n}}^2 - 1\\right) \\\\\n",
    "                  & \\geq 0 \\quad (\\textrm{where}\\ x_{n} \\geq \\sqrt{2})\n",
    "  \\end{align}\n",
    "$$"
   ]
  },
  {
   "cell_type": "markdown",
   "id": "6f8dff5f",
   "metadata": {},
   "source": [
    "$x_{n} \\geq \\sqrt{2}$ のとき、$x_{n} - x_{n+1} > 0$、すなわち $x_{n} > x_{n+1} > \\cdots \\geq \\sqrt{2}$ である。"
   ]
  },
  {
   "cell_type": "markdown",
   "id": "a3eb4d8f",
   "metadata": {},
   "source": [
    "ただし、数列$x_{n}$が$\\sqrt{2}$に収束することは自明ではない。"
   ]
  },
  {
   "cell_type": "markdown",
   "id": "323a7565",
   "metadata": {},
   "source": [
    "* [real analysis - Proof of Convergence: Babylonian Method $x_{n+1}=\\frac{1}{2}(x_n + \\frac{a}{x_n})$ - Mathematics Stack Exchange](https://math.stackexchange.com/questions/82682/proof-of-convergence-babylonian-method-x-n1-frac12x-n-fracax-n)"
   ]
  }
 ],
 "metadata": {
  "kernelspec": {
   "display_name": "Python 3 (ipykernel)",
   "language": "python",
   "name": "python3"
  },
  "language_info": {
   "codemirror_mode": {
    "name": "ipython",
    "version": 3
   },
   "file_extension": ".py",
   "mimetype": "text/x-python",
   "name": "python",
   "nbconvert_exporter": "python",
   "pygments_lexer": "ipython3",
   "version": "3.9.12"
  },
  "toc": {
   "base_numbering": 1,
   "nav_menu": {},
   "number_sections": true,
   "sideBar": true,
   "skip_h1_title": false,
   "title_cell": "Table of Contents",
   "title_sidebar": "Contents",
   "toc_cell": false,
   "toc_position": {},
   "toc_section_display": true,
   "toc_window_display": false
  }
 },
 "nbformat": 4,
 "nbformat_minor": 5
}
