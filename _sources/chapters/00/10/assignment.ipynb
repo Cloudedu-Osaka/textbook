{
 "cells": [
  {
   "cell_type": "code",
   "execution_count": null,
   "id": "e06990e9",
   "metadata": {
    "hide_input": true,
    "init_cell": true,
    "tags": [
     "remove-input"
    ]
   },
   "outputs": [],
   "source": [
    "# initialization for my classroom\n",
    "import os\n",
    "from datetime import datetime as dt\n",
    "\n",
    "def logfile(user=os.environ.get('JUPYTERHUB_USER') or 'jovyan'):\n",
    "    prefix='/srv'\n",
    "    if os.path.isdir(prefix) and os.access(prefix, os.W_OK):\n",
    "        prefix+=('/'+user)\n",
    "        if not os.path.isdir(prefix):\n",
    "            os.makedirs(prefix)\n",
    "    else:\n",
    "        prefix='.'\n",
    "    return prefix+'/'+dt.now().strftime('%Y%m%d')+'.log'\n",
    "\n",
    "path=logfile()\n",
    "#%logstop\n",
    "%logstart -otq $path append\n",
    "\n",
    "# [python - cannot override sys.excepthook - Stack Overflow](https://stackoverflow.com/questions/1261668/cannot-override-sys-excepthook/28758396)\n",
    "# https://github.com/ipython/ipython/blob/e6432249582e05f438303ce73d082a0351bb383e/IPython/core/interactiveshell.py#L1952\n",
    "\n",
    "import sys\n",
    "import traceback\n",
    "import IPython\n",
    "\n",
    "try:\n",
    "    _showtraceback\n",
    "except NameError:\n",
    "    _showtraceback=IPython.core.interactiveshell.InteractiveShell.showtraceback\n",
    "\n",
    "try:\n",
    "    _showsyntaxerror\n",
    "except NameError:\n",
    "    _showsyntaxerror=IPython.core.interactiveshell.InteractiveShell.showsyntaxerror\n",
    "\n",
    "import logging\n",
    "logging.basicConfig(filename=path.replace('.log','-exc.log'), format='%(asctime)s %(message)s', level=logging.ERROR, force=True)\n",
    "\n",
    "import sys\n",
    "import traceback\n",
    "import IPython\n",
    "\n",
    "def showtraceback(self, *args, **kwargs):\n",
    "    etype, value, tb = self._get_exc_info(kwargs.get('exc_tuple'))\n",
    "    stb = self.InteractiveTB.structured_traceback(\n",
    "        etype, value, tb, tb_offset=kwargs.get('tb_offset'))\n",
    "    logging.error(os.environ.get('JUPYTERHUB_USER') or 'jovyan')\n",
    "    logging.error(self.InteractiveTB.stb2text(stb))\n",
    "    _showtraceback(self, *args, **kwargs)\n",
    "\n",
    "def showsyntaxerror(self, *args, **kwargs):\n",
    "    etype, value, last_traceback = self._get_exc_info()\n",
    "    elist = traceback.extract_tb(last_traceback) if kwargs.get('running_compiled_code') else []\n",
    "    stb = self.SyntaxTB.structured_traceback(etype, value, elist)\n",
    "    logging.error(os.environ.get('JUPYTERHUB_USER') or 'jovyan')\n",
    "    logging.error(self.InteractiveTB.stb2text(stb))\n",
    "    _showsyntaxerror(self, *args, **kwargs)\n",
    "\n",
    "IPython.core.interactiveshell.InteractiveShell.showtraceback = showtraceback\n",
    "IPython.core.interactiveshell.InteractiveShell.showsyntaxerror = showsyntaxerror"
   ]
  },
  {
   "cell_type": "markdown",
   "id": "fd8107dc",
   "metadata": {},
   "source": [
    "# 課題: Napierによる乗算のない世界"
   ]
  },
  {
   "cell_type": "markdown",
   "id": "a47c9282",
   "metadata": {},
   "source": [
    "Step-1) `nest_list()` を使って $R=10^5=10000$ の時のNapierの対数表の元リストを作成する:"
   ]
  },
  {
   "cell_type": "code",
   "execution_count": null,
   "id": "92a0ed42",
   "metadata": {},
   "outputs": [],
   "source": [
    "import numpy as np\n",
    "\n",
    "def nest_list(f, x, c=1):\n",
    "    while True:\n",
    "        yield x\n",
    "        x = f(x)\n",
    "        if x < c:\n",
    "            break\n",
    "    yield x"
   ]
  },
  {
   "cell_type": "code",
   "execution_count": null,
   "id": "45081919",
   "metadata": {},
   "outputs": [],
   "source": [
    "napier5=np.array(list(nest_list(lambda l: l*(1-10**(-5)), 10**5, 1)))"
   ]
  },
  {
   "cell_type": "code",
   "execution_count": null,
   "id": "63e96676",
   "metadata": {},
   "outputs": [],
   "source": [
    "napier5.size, napier5[-1]"
   ]
  },
  {
   "cell_type": "code",
   "execution_count": null,
   "id": "ad39366a",
   "metadata": {},
   "outputs": [],
   "source": [
    "napier5[:100]"
   ]
  },
  {
   "cell_type": "code",
   "execution_count": null,
   "id": "7a22dc31",
   "metadata": {},
   "outputs": [],
   "source": [
    "import matplotlib.pyplot as plt\n",
    "\n",
    "x = np.linspace(0,napier5.size,num=napier5.size)\n",
    "plt.plot(x,napier5)"
   ]
  },
  {
   "cell_type": "code",
   "execution_count": null,
   "id": "d112553e",
   "metadata": {},
   "outputs": [],
   "source": []
  },
  {
   "cell_type": "code",
   "execution_count": null,
   "id": "249af1dc",
   "metadata": {},
   "outputs": [],
   "source": []
  },
  {
   "cell_type": "code",
   "execution_count": null,
   "id": "7eaf86f1",
   "metadata": {},
   "outputs": [],
   "source": []
  },
  {
   "cell_type": "markdown",
   "id": "6777e06d",
   "metadata": {},
   "source": [
    "Step-2) 上で求めた配列 ```napier5``` を検索し、$R=5$ のときの Napier の対数を求める:\n",
    "\n",
    "$$\n",
    "n = \\log_{1-10^{-5}}\\left( \\frac{p_{n}}{10^5} \\right)\n",
    "$$"
   ]
  },
  {
   "cell_type": "markdown",
   "id": "01d29f7c",
   "metadata": {},
   "source": [
    "* [numpy.searchsorted — NumPy v1.23 Manual](https://numpy.org/doc/stable/reference/generated/numpy.searchsorted.html)"
   ]
  },
  {
   "cell_type": "markdown",
   "id": "ba1d4330",
   "metadata": {},
   "source": [
    "昇順に並べ替える (この場合は、逆順にする)"
   ]
  },
  {
   "cell_type": "code",
   "execution_count": null,
   "id": "129d08cf",
   "metadata": {},
   "outputs": [],
   "source": [
    "napier5[::-1][:100]"
   ]
  },
  {
   "cell_type": "markdown",
   "id": "eb698201",
   "metadata": {},
   "source": [
    "`numpy.searchsorted()`を使い、指定した値になる添字 (index) を求める"
   ]
  },
  {
   "cell_type": "code",
   "execution_count": null,
   "id": "d2f854d0",
   "metadata": {},
   "outputs": [],
   "source": [
    "np.searchsorted(napier5[::-1], 1234), np.searchsorted(napier5[::-1], 5678)"
   ]
  },
  {
   "cell_type": "markdown",
   "id": "f4b23e6f",
   "metadata": {},
   "source": [
    "リストを逆順にしたので、正順の際の添字に戻す:"
   ]
  },
  {
   "cell_type": "code",
   "execution_count": null,
   "id": "39beca95",
   "metadata": {},
   "outputs": [],
   "source": [
    "napier5.size-np.searchsorted(napier5[::-1], 1234), napier5.size-np.searchsorted(napier5[::-1], 56789)"
   ]
  },
  {
   "cell_type": "markdown",
   "id": "c2aa4639",
   "metadata": {},
   "source": [
    "変換がいちいち煩わしいので、正負逆転した配列 (この場合、昇順になる) で `numpy.searchsorted()` を使う"
   ]
  },
  {
   "cell_type": "code",
   "execution_count": null,
   "id": "f9ddbf5d",
   "metadata": {},
   "outputs": [],
   "source": [
    "np.searchsorted(-napier5, -1234), np.searchsorted(-napier5, -56789)"
   ]
  },
  {
   "cell_type": "markdown",
   "id": "1bd9ee11",
   "metadata": {},
   "source": [
    "以上をプログラム `napier5_log()` に反映する:"
   ]
  },
  {
   "cell_type": "code",
   "execution_count": null,
   "id": "c4330f2f",
   "metadata": {},
   "outputs": [],
   "source": [
    "napier5[0], napier5[-1]"
   ]
  },
  {
   "cell_type": "code",
   "execution_count": null,
   "id": "65f6fab4",
   "metadata": {},
   "outputs": [],
   "source": [
    "def napier5_log(x):\n",
    "    if x < napier5[0] and x > napier5[-1]:\n",
    "        return np.searchsorted(-napier5, -x)\n",
    "    else:\n",
    "        raise IndexError"
   ]
  },
  {
   "cell_type": "code",
   "execution_count": null,
   "id": "d805e84a",
   "metadata": {},
   "outputs": [],
   "source": [
    "napier5_log(1234), napier5_log(56789)"
   ]
  },
  {
   "cell_type": "code",
   "execution_count": null,
   "id": "7047c2d2",
   "metadata": {},
   "outputs": [],
   "source": [
    "napier5[439489], napier5[56583]"
   ]
  },
  {
   "cell_type": "code",
   "execution_count": null,
   "id": "89d1559a",
   "metadata": {},
   "outputs": [],
   "source": [
    "((1-10**-5)**439489), ((1-10**-5)**56583)"
   ]
  },
  {
   "cell_type": "code",
   "execution_count": null,
   "id": "ed139cb0",
   "metadata": {},
   "outputs": [],
   "source": [
    "import math\n",
    "math.log(napier5[439489]/10**5, 1-10**-5), math.log(napier5[56583]/10**5, 1-10**-5)"
   ]
  },
  {
   "cell_type": "code",
   "execution_count": null,
   "id": "b81234c0",
   "metadata": {},
   "outputs": [],
   "source": []
  },
  {
   "cell_type": "code",
   "execution_count": null,
   "id": "7cc6d090",
   "metadata": {},
   "outputs": [],
   "source": []
  },
  {
   "cell_type": "code",
   "execution_count": null,
   "id": "2d0ac0df",
   "metadata": {},
   "outputs": [],
   "source": []
  },
  {
   "cell_type": "markdown",
   "id": "f5a54e42",
   "metadata": {},
   "source": [
    "Step-3) 指数法則: $\\log(x \\times y) = \\log(x) + \\log(y)$ を使って、掛け算を足け算に変換して計算するプログラムを記述せよ:"
   ]
  },
  {
   "cell_type": "code",
   "execution_count": null,
   "id": "e93691a3",
   "metadata": {},
   "outputs": [],
   "source": [
    "napier5_log(1234), napier5_log(56789)"
   ]
  },
  {
   "cell_type": "code",
   "execution_count": null,
   "id": "e3fdc883",
   "metadata": {},
   "outputs": [],
   "source": [
    "napier5_log(1234) + napier5_log(56789)"
   ]
  },
  {
   "cell_type": "code",
   "execution_count": null,
   "id": "b161d931",
   "metadata": {},
   "outputs": [],
   "source": [
    "napier5[496072]*10**5, 1234*56789"
   ]
  },
  {
   "cell_type": "code",
   "execution_count": null,
   "id": "e5ee2649",
   "metadata": {
    "deletable": false,
    "nbgrader": {
     "cell_type": "code",
     "checksum": "a7e17e66c0913969ed5ece94438e9558",
     "grade": true,
     "grade_id": "cell-2f47e3a72c40b9b9",
     "locked": false,
     "points": 1,
     "schema_version": 3,
     "solution": true,
     "task": false
    }
   },
   "outputs": [],
   "source": [
    "def napier5_times(x, y):\n",
    "    # YOUR CODE HERE\n",
    "    raise NotImplementedError()"
   ]
  },
  {
   "cell_type": "code",
   "execution_count": null,
   "id": "0ce20289",
   "metadata": {},
   "outputs": [],
   "source": [
    "napier5_times(1234, 56789), 1234*56789"
   ]
  },
  {
   "cell_type": "code",
   "execution_count": null,
   "id": "7858b37c",
   "metadata": {},
   "outputs": [],
   "source": [
    "math.isclose(napier5_times(1234, 56789), 1234*56789, rel_tol=10**-5)"
   ]
  },
  {
   "cell_type": "code",
   "execution_count": null,
   "id": "f6b6a21e",
   "metadata": {},
   "outputs": [],
   "source": []
  },
  {
   "cell_type": "code",
   "execution_count": null,
   "id": "d6827745",
   "metadata": {},
   "outputs": [],
   "source": []
  },
  {
   "cell_type": "code",
   "execution_count": null,
   "id": "dbd43745",
   "metadata": {},
   "outputs": [],
   "source": []
  },
  {
   "cell_type": "markdown",
   "id": "27a6d46e",
   "metadata": {
    "deletable": false,
    "editable": false,
    "nbgrader": {
     "cell_type": "markdown",
     "checksum": "ee3380e0525dd93f72c8b40afb272ce9",
     "grade": false,
     "grade_id": "cell-1f53b7d3e65bc886",
     "locked": true,
     "schema_version": 3,
     "solution": false,
     "task": false
    }
   },
   "source": [
    "---\n",
    "以下、採点用のセルにつき編集できない:"
   ]
  },
  {
   "cell_type": "code",
   "execution_count": null,
   "id": "75ef63ab",
   "metadata": {
    "deletable": false,
    "editable": false,
    "nbgrader": {
     "cell_type": "code",
     "checksum": "6f5cb94ec6b468506894a63cbf9bd71a",
     "grade": false,
     "grade_id": "cell-5d77e5de11bb3b5e",
     "locked": true,
     "schema_version": 3,
     "solution": false,
     "task": false
    }
   },
   "outputs": [],
   "source": [
    "from nose.tools import assert_equal, assert_true"
   ]
  },
  {
   "cell_type": "code",
   "execution_count": null,
   "id": "c7eefeaf",
   "metadata": {
    "deletable": false,
    "editable": false,
    "nbgrader": {
     "cell_type": "code",
     "checksum": "694adc95bc97471ded074e5ba1e3ef6f",
     "grade": true,
     "grade_id": "cell-bad10c4dd659e945",
     "locked": true,
     "points": 0,
     "schema_version": 3,
     "solution": false,
     "task": false
    }
   },
   "outputs": [],
   "source": [
    "assert_true(math.isclose(1234*56789,  napier5_times(1234, 56789) , rel_tol=10**-5))"
   ]
  },
  {
   "cell_type": "code",
   "execution_count": null,
   "id": "16387efb",
   "metadata": {},
   "outputs": [],
   "source": []
  }
 ],
 "metadata": {
  "kernelspec": {
   "display_name": "Python 3 (ipykernel)",
   "language": "python",
   "name": "python3"
  },
  "language_info": {
   "codemirror_mode": {
    "name": "ipython",
    "version": 3
   },
   "file_extension": ".py",
   "mimetype": "text/x-python",
   "name": "python",
   "nbconvert_exporter": "python",
   "pygments_lexer": "ipython3",
   "version": "3.9.12"
  },
  "toc": {
   "base_numbering": 1,
   "nav_menu": {},
   "number_sections": true,
   "sideBar": true,
   "skip_h1_title": false,
   "title_cell": "Table of Contents",
   "title_sidebar": "Contents",
   "toc_cell": false,
   "toc_position": {},
   "toc_section_display": true,
   "toc_window_display": false
  }
 },
 "nbformat": 4,
 "nbformat_minor": 5
}
