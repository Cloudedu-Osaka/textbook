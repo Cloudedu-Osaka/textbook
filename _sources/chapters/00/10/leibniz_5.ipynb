{
 "cells": [
  {
   "cell_type": "code",
   "execution_count": null,
   "id": "235bda14",
   "metadata": {
    "hide_input": true,
    "init_cell": true,
    "tags": [
     "remove-input"
    ]
   },
   "outputs": [],
   "source": [
    "# initialization for my classroom\n",
    "import os\n",
    "from datetime import datetime as dt\n",
    "\n",
    "def logfile(user=os.environ.get('JUPYTERHUB_USER') or 'jovyan'):\n",
    "    prefix='/srv'\n",
    "    if os.path.isdir(prefix) and os.access(prefix, os.W_OK):\n",
    "        prefix+=('/'+user)\n",
    "        if not os.path.isdir(prefix):\n",
    "            os.makedirs(prefix)\n",
    "    else:\n",
    "        prefix='.'\n",
    "    return prefix+'/'+dt.now().strftime('%Y%m%d')+'.log'\n",
    "\n",
    "path=logfile()\n",
    "#%logstop\n",
    "%logstart -otq $path append\n",
    "\n",
    "# [python - cannot override sys.excepthook - Stack Overflow](https://stackoverflow.com/questions/1261668/cannot-override-sys-excepthook/28758396)\n",
    "# https://github.com/ipython/ipython/blob/e6432249582e05f438303ce73d082a0351bb383e/IPython/core/interactiveshell.py#L1952\n",
    "\n",
    "import sys\n",
    "import traceback\n",
    "import IPython\n",
    "\n",
    "try:\n",
    "    _showtraceback\n",
    "except NameError:\n",
    "    _showtraceback=IPython.core.interactiveshell.InteractiveShell.showtraceback\n",
    "\n",
    "try:\n",
    "    _showsyntaxerror\n",
    "except NameError:\n",
    "    _showsyntaxerror=IPython.core.interactiveshell.InteractiveShell.showsyntaxerror\n",
    "\n",
    "import logging\n",
    "logging.basicConfig(filename=path.replace('.log','-exc.log'), format='%(asctime)s %(message)s', level=logging.ERROR, force=True)\n",
    "\n",
    "import sys\n",
    "import traceback\n",
    "import IPython\n",
    "\n",
    "def showtraceback(self, *args, **kwargs):\n",
    "    etype, value, tb = self._get_exc_info(kwargs.get('exc_tuple'))\n",
    "    stb = self.InteractiveTB.structured_traceback(\n",
    "        etype, value, tb, tb_offset=kwargs.get('tb_offset'))\n",
    "    logging.error(os.environ.get('JUPYTERHUB_USER') or 'jovyan')\n",
    "    logging.error(self.InteractiveTB.stb2text(stb))\n",
    "    _showtraceback(self, *args, **kwargs)\n",
    "\n",
    "def showsyntaxerror(self, *args, **kwargs):\n",
    "    etype, value, last_traceback = self._get_exc_info()\n",
    "    elist = traceback.extract_tb(last_traceback) if kwargs.get('running_compiled_code') else []\n",
    "    stb = self.SyntaxTB.structured_traceback(etype, value, elist)\n",
    "    logging.error(os.environ.get('JUPYTERHUB_USER') or 'jovyan')\n",
    "    logging.error(self.InteractiveTB.stb2text(stb))\n",
    "    _showsyntaxerror(self, *args, **kwargs)\n",
    "\n",
    "IPython.core.interactiveshell.InteractiveShell.showtraceback = showtraceback\n",
    "IPython.core.interactiveshell.InteractiveShell.showsyntaxerror = showsyntaxerror"
   ]
  },
  {
   "cell_type": "markdown",
   "id": "b4c60ba1",
   "metadata": {},
   "source": [
    "# プログラミングのない世界 (1)"
   ]
  },
  {
   "cell_type": "markdown",
   "id": "b6d4d70c",
   "metadata": {},
   "source": [
    "## 計算結果を記憶する\n",
    "\n",
    "* [Cache (computing) - Wikipedia](https://en.wikipedia.org/wiki/Cache_%28computing%29)"
   ]
  },
  {
   "cell_type": "markdown",
   "id": "84b36290",
   "metadata": {},
   "source": [
    "### あらかじめすべての可能性について計算して保持する"
   ]
  },
  {
   "cell_type": "code",
   "execution_count": 152,
   "id": "a3dc7c7a",
   "metadata": {},
   "outputs": [
    {
     "data": {
      "text/plain": [
       "[(0, 0), (0, 1), (1, 0), (1, 1)]"
      ]
     },
     "execution_count": 152,
     "metadata": {},
     "output_type": "execute_result"
    }
   ],
   "source": [
    "import itertools\n",
    "list(itertools.product([0,1], repeat=2))"
   ]
  },
  {
   "cell_type": "code",
   "execution_count": 171,
   "id": "c5f0fc46",
   "metadata": {},
   "outputs": [
    {
     "data": {
      "text/plain": [
       "4"
      ]
     },
     "execution_count": 171,
     "metadata": {},
     "output_type": "execute_result"
    }
   ],
   "source": [
    "len(list(itertools.product([0,1], repeat=2)))"
   ]
  },
  {
   "cell_type": "markdown",
   "id": "8de7dd51",
   "metadata": {},
   "source": [
    "$2 \\times 2 = 4$ の組み合わせについて、``divmod()`` の値 (剰と余の$2$要素) を列挙する:"
   ]
  },
  {
   "cell_type": "code",
   "execution_count": 23,
   "id": "d86a56fe",
   "metadata": {},
   "outputs": [
    {
     "data": {
      "text/plain": [
       "[[(0, 0), (0, 1)], [(0, 1), (1, 0)]]"
      ]
     },
     "execution_count": 23,
     "metadata": {},
     "output_type": "execute_result"
    }
   ],
   "source": [
    "binary_add = [[divmod(i+j,2) for j in [0,1]] for i in [0,1]]\n",
    "binary_add"
   ]
  },
  {
   "cell_type": "code",
   "execution_count": 160,
   "id": "b85620b6",
   "metadata": {},
   "outputs": [
    {
     "data": {
      "text/plain": [
       "2"
      ]
     },
     "execution_count": 160,
     "metadata": {},
     "output_type": "execute_result"
    }
   ],
   "source": [
    "len(binary_add)"
   ]
  },
  {
   "cell_type": "code",
   "execution_count": 153,
   "id": "ff47d934",
   "metadata": {},
   "outputs": [
    {
     "data": {
      "text/plain": [
       "[(0, 0), (0, 1)]"
      ]
     },
     "execution_count": 153,
     "metadata": {},
     "output_type": "execute_result"
    }
   ],
   "source": [
    "binary_add[0]"
   ]
  },
  {
   "cell_type": "code",
   "execution_count": 154,
   "id": "a6c27e53",
   "metadata": {
    "scrolled": true
   },
   "outputs": [
    {
     "data": {
      "text/plain": [
       "[(0, 1), (1, 0)]"
      ]
     },
     "execution_count": 154,
     "metadata": {},
     "output_type": "execute_result"
    }
   ],
   "source": [
    "binary_add[1]"
   ]
  },
  {
   "cell_type": "code",
   "execution_count": 161,
   "id": "e53d929b",
   "metadata": {},
   "outputs": [
    {
     "data": {
      "text/plain": [
       "[2, 2]"
      ]
     },
     "execution_count": 161,
     "metadata": {},
     "output_type": "execute_result"
    }
   ],
   "source": [
    "[len(l) for l in binary_add]"
   ]
  },
  {
   "cell_type": "code",
   "execution_count": 155,
   "id": "b0394faa",
   "metadata": {
    "scrolled": true
   },
   "outputs": [
    {
     "data": {
      "text/plain": [
       "(0, 0)"
      ]
     },
     "execution_count": 155,
     "metadata": {},
     "output_type": "execute_result"
    }
   ],
   "source": [
    "binary_add[0][0]"
   ]
  },
  {
   "cell_type": "code",
   "execution_count": 156,
   "id": "d2d0ebc0",
   "metadata": {},
   "outputs": [
    {
     "data": {
      "text/plain": [
       "(0, 1)"
      ]
     },
     "execution_count": 156,
     "metadata": {},
     "output_type": "execute_result"
    }
   ],
   "source": [
    "binary_add[0][1]"
   ]
  },
  {
   "cell_type": "code",
   "execution_count": 157,
   "id": "af19fe81",
   "metadata": {},
   "outputs": [
    {
     "data": {
      "text/plain": [
       "(0, 1)"
      ]
     },
     "execution_count": 157,
     "metadata": {},
     "output_type": "execute_result"
    }
   ],
   "source": [
    "binary_add[1][0]"
   ]
  },
  {
   "cell_type": "code",
   "execution_count": 158,
   "id": "9f0a65eb",
   "metadata": {},
   "outputs": [
    {
     "data": {
      "text/plain": [
       "(1, 0)"
      ]
     },
     "execution_count": 158,
     "metadata": {},
     "output_type": "execute_result"
    }
   ],
   "source": [
    "binary_add[1][1]"
   ]
  },
  {
   "cell_type": "code",
   "execution_count": 13,
   "id": "425e91ca",
   "metadata": {},
   "outputs": [
    {
     "data": {
      "text/plain": [
       "[(0, 0), (0, 1), (0, 1), (1, 0)]"
      ]
     },
     "execution_count": 13,
     "metadata": {},
     "output_type": "execute_result"
    }
   ],
   "source": [
    "[binary_add[i][j] for i,j in itertools.product([0,1], repeat=2)]"
   ]
  },
  {
   "cell_type": "markdown",
   "id": "b2e6961c",
   "metadata": {},
   "source": [
    "参考) Pythonのリストは可変長なのでサイズ (型) を取れないが、Numpy行列に変換すると $2 \\times 2 \\times 2$ であることが判る:\n",
    "* リストと同じようにアクセスできるが、添字を連続して表記することもできる"
   ]
  },
  {
   "cell_type": "code",
   "execution_count": 178,
   "id": "82c44d50",
   "metadata": {},
   "outputs": [
    {
     "data": {
      "text/plain": [
       "(2, 2, 2)"
      ]
     },
     "execution_count": 178,
     "metadata": {},
     "output_type": "execute_result"
    }
   ],
   "source": [
    "import numpy as np\n",
    "x = np.array(binary_add)\n",
    "x.shape"
   ]
  },
  {
   "cell_type": "code",
   "execution_count": 180,
   "id": "5d2a8c57",
   "metadata": {},
   "outputs": [
    {
     "data": {
      "text/plain": [
       "array([[0, 0],\n",
       "       [0, 1]])"
      ]
     },
     "execution_count": 180,
     "metadata": {},
     "output_type": "execute_result"
    }
   ],
   "source": [
    "x[0]"
   ]
  },
  {
   "cell_type": "code",
   "execution_count": 181,
   "id": "6d00fb92",
   "metadata": {},
   "outputs": [
    {
     "data": {
      "text/plain": [
       "array([0, 0])"
      ]
     },
     "execution_count": 181,
     "metadata": {},
     "output_type": "execute_result"
    }
   ],
   "source": [
    "x[0][0]"
   ]
  },
  {
   "cell_type": "code",
   "execution_count": 183,
   "id": "87755323",
   "metadata": {},
   "outputs": [
    {
     "data": {
      "text/plain": [
       "array([0, 0])"
      ]
     },
     "execution_count": 183,
     "metadata": {},
     "output_type": "execute_result"
    }
   ],
   "source": [
    "x[0,0]"
   ]
  },
  {
   "cell_type": "code",
   "execution_count": null,
   "id": "daf444da",
   "metadata": {},
   "outputs": [],
   "source": []
  },
  {
   "cell_type": "code",
   "execution_count": null,
   "id": "2e0f6a18",
   "metadata": {},
   "outputs": [],
   "source": []
  },
  {
   "cell_type": "code",
   "execution_count": null,
   "id": "01b72727",
   "metadata": {},
   "outputs": [],
   "source": []
  },
  {
   "cell_type": "markdown",
   "id": "50fef251",
   "metadata": {},
   "source": [
    "参考) Pythonのディクショナリを使う:\n",
    "* 要素のアクセス方法はリストと同じ"
   ]
  },
  {
   "cell_type": "code",
   "execution_count": 22,
   "id": "be9f2f4b",
   "metadata": {},
   "outputs": [
    {
     "data": {
      "text/plain": [
       "{0: {0: (0, 0), 1: (0, 1)}, 1: {0: (0, 1), 1: (1, 0)}}"
      ]
     },
     "execution_count": 22,
     "metadata": {},
     "output_type": "execute_result"
    }
   ],
   "source": [
    "binary_add = {i : {j : divmod(i+j,2) for j in [0,1]} for i in [0,1]}\n",
    "binary_add"
   ]
  },
  {
   "cell_type": "code",
   "execution_count": 20,
   "id": "36df0b44",
   "metadata": {},
   "outputs": [
    {
     "data": {
      "text/plain": [
       "[(0, 0), (0, 1), (0, 1), (1, 0)]"
      ]
     },
     "execution_count": 20,
     "metadata": {},
     "output_type": "execute_result"
    }
   ],
   "source": [
    "[binary_add[i][j] for i,j in itertools.product([0,1], repeat=2)]"
   ]
  },
  {
   "cell_type": "code",
   "execution_count": null,
   "id": "c38700ca",
   "metadata": {},
   "outputs": [],
   "source": []
  },
  {
   "cell_type": "code",
   "execution_count": null,
   "id": "ca1f7deb",
   "metadata": {},
   "outputs": [],
   "source": []
  },
  {
   "cell_type": "code",
   "execution_count": null,
   "id": "96107796",
   "metadata": {},
   "outputs": [],
   "source": []
  },
  {
   "cell_type": "markdown",
   "id": "7b88da21",
   "metadata": {},
   "source": [
    "### 計算するごとに結果をキャッシュに保持する"
   ]
  },
  {
   "cell_type": "markdown",
   "id": "a06c31fe",
   "metadata": {},
   "source": [
    "計算結果をキャッシュに記憶して、次の計算時はキャッシュされた値を返す:\n",
    "* キャッシュが値を持っていない状態を表現する\n",
    "  - ２行２列の整数型のデータ行列を作る (``divmod()`` の戻り値が2要素なので、$2 \\times 2 \\times 2$ 行列になる)\n",
    "    - ``np.empty((2,2,2), dtype=int)``\n",
    "  - 同じサイズの行列を作って、データにキャッシュされた値を保持しているか (`False`) 否か (`True`) を設定できるようにする\n",
    "    - ``np.ma.array(np.empty((2,2,2), dtype=int), mask=np.ones((2,2,2)), dtype=int))``\n",
    "* データの特別な値をキャッシュに保持されているか否かの判定に使うこともできる\n",
    "  - 整数: ``0`` (``False``と等価。今回は、計算結果が``0``になることがあるので使えない)\n",
    "  - 整数: ``-1`` (計算結果が負の値になる時は使えない)\n",
    "  - 浮動小数: ``NaN``"
   ]
  },
  {
   "cell_type": "code",
   "execution_count": null,
   "id": "1416dd6e",
   "metadata": {},
   "outputs": [],
   "source": [
    "import numpy as np"
   ]
  },
  {
   "cell_type": "markdown",
   "id": "699d1062",
   "metadata": {},
   "source": [
    "空の行列 (値は初期化されていない):"
   ]
  },
  {
   "cell_type": "code",
   "execution_count": 100,
   "id": "1331297d",
   "metadata": {},
   "outputs": [
    {
     "data": {
      "text/plain": [
       "array([[[4523236272, 4523236272],\n",
       "        [4523236272, 4523236272]],\n",
       "\n",
       "       [[4523236272, 4523236272],\n",
       "        [4457646384, 4457646352]]])"
      ]
     },
     "execution_count": 100,
     "metadata": {},
     "output_type": "execute_result"
    }
   ],
   "source": [
    "np.empty((2,2,2), dtype=int)"
   ]
  },
  {
   "cell_type": "markdown",
   "id": "91e3d49b",
   "metadata": {},
   "source": [
    "全ての要素が $1$ (``True``) の行列:"
   ]
  },
  {
   "cell_type": "code",
   "execution_count": 106,
   "id": "cd601883",
   "metadata": {},
   "outputs": [
    {
     "data": {
      "text/plain": [
       "array([[[1, 1],\n",
       "        [1, 1]],\n",
       "\n",
       "       [[1, 1],\n",
       "        [1, 1]]])"
      ]
     },
     "execution_count": 106,
     "metadata": {},
     "output_type": "execute_result"
    }
   ],
   "source": [
    "np.ones((2,2,2), dtype=int)"
   ]
  },
  {
   "cell_type": "markdown",
   "id": "9d4d921d",
   "metadata": {},
   "source": [
    "組み合わせてマスク付き行列を作る:"
   ]
  },
  {
   "cell_type": "code",
   "execution_count": 139,
   "id": "23c8cf16",
   "metadata": {},
   "outputs": [
    {
     "data": {
      "text/plain": [
       "masked_array(\n",
       "  data=[[[--, --],\n",
       "         [--, --]],\n",
       "\n",
       "        [[--, --],\n",
       "         [--, --]]],\n",
       "  mask=[[[ True,  True],\n",
       "         [ True,  True]],\n",
       "\n",
       "        [[ True,  True],\n",
       "         [ True,  True]]],\n",
       "  fill_value=999999,\n",
       "  dtype=int64)"
      ]
     },
     "execution_count": 139,
     "metadata": {},
     "output_type": "execute_result"
    }
   ],
   "source": [
    "x = np.ma.array(np.empty((2,2,2), dtype=int), mask=np.ones((2,2,2), dtype=int))\n",
    "x"
   ]
  },
  {
   "cell_type": "code",
   "execution_count": 140,
   "id": "f20730f4",
   "metadata": {},
   "outputs": [
    {
     "data": {
      "text/plain": [
       "masked_array(data=[--, --],\n",
       "             mask=[ True,  True],\n",
       "       fill_value=999999,\n",
       "            dtype=int64)"
      ]
     },
     "execution_count": 140,
     "metadata": {},
     "output_type": "execute_result"
    }
   ],
   "source": [
    "x[0,0]"
   ]
  },
  {
   "cell_type": "markdown",
   "id": "e32869b9",
   "metadata": {},
   "source": [
    "値を代入していないので `masked` 状態である:"
   ]
  },
  {
   "cell_type": "code",
   "execution_count": 141,
   "id": "bc9167ca",
   "metadata": {},
   "outputs": [
    {
     "data": {
      "text/plain": [
       "(masked, masked)"
      ]
     },
     "execution_count": 141,
     "metadata": {},
     "output_type": "execute_result"
    }
   ],
   "source": [
    "x[0,0][0], x[0,0][1]"
   ]
  },
  {
   "cell_type": "code",
   "execution_count": 142,
   "id": "e35dfa21",
   "metadata": {},
   "outputs": [
    {
     "data": {
      "text/plain": [
       "(True, True)"
      ]
     },
     "execution_count": 142,
     "metadata": {},
     "output_type": "execute_result"
    }
   ],
   "source": [
    "x[0,0][0] is np.ma.masked, x[0,0][1] is np.ma.masked"
   ]
  },
  {
   "cell_type": "code",
   "execution_count": 143,
   "id": "ef586224",
   "metadata": {},
   "outputs": [
    {
     "data": {
      "text/plain": [
       "masked_array(\n",
       "  data=[[[0, 1],\n",
       "         [--, --]],\n",
       "\n",
       "        [[--, --],\n",
       "         [--, --]]],\n",
       "  mask=[[[False, False],\n",
       "         [ True,  True]],\n",
       "\n",
       "        [[ True,  True],\n",
       "         [ True,  True]]],\n",
       "  fill_value=999999)"
      ]
     },
     "execution_count": 143,
     "metadata": {},
     "output_type": "execute_result"
    }
   ],
   "source": [
    "x[0,0] = (0, 1)\n",
    "x"
   ]
  },
  {
   "cell_type": "code",
   "execution_count": 144,
   "id": "76f8fc90",
   "metadata": {},
   "outputs": [
    {
     "data": {
      "text/plain": [
       "(0, 1)"
      ]
     },
     "execution_count": 144,
     "metadata": {},
     "output_type": "execute_result"
    }
   ],
   "source": [
    "x[0,0][0], x[0,0][1]"
   ]
  },
  {
   "cell_type": "code",
   "execution_count": 115,
   "id": "2698cff0",
   "metadata": {},
   "outputs": [
    {
     "data": {
      "text/plain": [
       "(False, False)"
      ]
     },
     "execution_count": 115,
     "metadata": {},
     "output_type": "execute_result"
    }
   ],
   "source": [
    "x[0,0][0] is np.ma.masked, x[0,0][1] is np.ma.masked"
   ]
  },
  {
   "cell_type": "code",
   "execution_count": 129,
   "id": "66c38c6b",
   "metadata": {},
   "outputs": [],
   "source": [
    "class binary_op:\n",
    "\n",
    "    def __init__(self):\n",
    "        self.cached_add = np.ma.array(np.empty((2,2,2), dtype=int), mask=np.ones((2,2,2), dtype=int))\n",
    "        \n",
    "    def add(self,a,b):\n",
    "        if a in [0,1] and b in [0,1]:\n",
    "            if self.cached_add[a,b,0] is np.ma.masked or self.cached_add[a,b,1] is np.ma.masked:\n",
    "                self.cached_add[a,b] = divmod(a+b,2)\n",
    "            return tuple(self.cached_add.data[a,b])\n",
    "        else:\n",
    "            raise ValueError"
   ]
  },
  {
   "cell_type": "code",
   "execution_count": 130,
   "id": "06489d07",
   "metadata": {},
   "outputs": [],
   "source": [
    "bo = binary_op()"
   ]
  },
  {
   "cell_type": "code",
   "execution_count": 131,
   "id": "a039fe1a",
   "metadata": {
    "scrolled": true
   },
   "outputs": [
    {
     "data": {
      "text/plain": [
       "masked_array(\n",
       "  data=[[[--, --],\n",
       "         [--, --]],\n",
       "\n",
       "        [[--, --],\n",
       "         [--, --]]],\n",
       "  mask=[[[ True,  True],\n",
       "         [ True,  True]],\n",
       "\n",
       "        [[ True,  True],\n",
       "         [ True,  True]]],\n",
       "  fill_value=999999,\n",
       "  dtype=int64)"
      ]
     },
     "execution_count": 131,
     "metadata": {},
     "output_type": "execute_result"
    }
   ],
   "source": [
    "bo.cached_add"
   ]
  },
  {
   "cell_type": "markdown",
   "id": "6be865d5",
   "metadata": {},
   "source": [
    "一度計算すると結果がキャッシュに保持される:"
   ]
  },
  {
   "cell_type": "code",
   "execution_count": 132,
   "id": "609a016f",
   "metadata": {},
   "outputs": [
    {
     "data": {
      "text/plain": [
       "((1, 0), (1, 0))"
      ]
     },
     "execution_count": 132,
     "metadata": {},
     "output_type": "execute_result"
    }
   ],
   "source": [
    "bo.add(1,1), divmod(1+1,2)"
   ]
  },
  {
   "cell_type": "code",
   "execution_count": 133,
   "id": "265c9442",
   "metadata": {
    "scrolled": true
   },
   "outputs": [
    {
     "data": {
      "text/plain": [
       "masked_array(\n",
       "  data=[[[--, --],\n",
       "         [--, --]],\n",
       "\n",
       "        [[--, --],\n",
       "         [1, 0]]],\n",
       "  mask=[[[ True,  True],\n",
       "         [ True,  True]],\n",
       "\n",
       "        [[ True,  True],\n",
       "         [False, False]]],\n",
       "  fill_value=999999)"
      ]
     },
     "execution_count": 133,
     "metadata": {},
     "output_type": "execute_result"
    }
   ],
   "source": [
    "bo.cached_add"
   ]
  },
  {
   "cell_type": "markdown",
   "id": "d082d222",
   "metadata": {},
   "source": [
    "二度目からはキャッシュされた値が戻る:"
   ]
  },
  {
   "cell_type": "code",
   "execution_count": 134,
   "id": "bbe7adb2",
   "metadata": {},
   "outputs": [
    {
     "data": {
      "text/plain": [
       "(1, 0)"
      ]
     },
     "execution_count": 134,
     "metadata": {},
     "output_type": "execute_result"
    }
   ],
   "source": [
    "bo.add(1,1)"
   ]
  },
  {
   "cell_type": "code",
   "execution_count": null,
   "id": "7dfe5fdc",
   "metadata": {},
   "outputs": [],
   "source": []
  },
  {
   "cell_type": "code",
   "execution_count": null,
   "id": "6a36485c",
   "metadata": {},
   "outputs": [],
   "source": []
  },
  {
   "cell_type": "code",
   "execution_count": null,
   "id": "a0ceb9a8",
   "metadata": {},
   "outputs": [],
   "source": []
  }
 ],
 "metadata": {
  "kernelspec": {
   "display_name": "Python 3 (ipykernel)",
   "language": "python",
   "name": "python3"
  },
  "language_info": {
   "codemirror_mode": {
    "name": "ipython",
    "version": 3
   },
   "file_extension": ".py",
   "mimetype": "text/x-python",
   "name": "python",
   "nbconvert_exporter": "python",
   "pygments_lexer": "ipython3",
   "version": "3.9.12"
  },
  "toc": {
   "base_numbering": 1,
   "nav_menu": {},
   "number_sections": true,
   "sideBar": true,
   "skip_h1_title": false,
   "title_cell": "Table of Contents",
   "title_sidebar": "Contents",
   "toc_cell": false,
   "toc_position": {},
   "toc_section_display": true,
   "toc_window_display": false
  }
 },
 "nbformat": 4,
 "nbformat_minor": 5
}
