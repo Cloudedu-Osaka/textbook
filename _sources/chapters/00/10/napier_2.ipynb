{
 "cells": [
  {
   "cell_type": "code",
   "execution_count": 1,
   "id": "c71d31f9",
   "metadata": {
    "hide_input": true,
    "init_cell": true,
    "tags": [
     "remove-input"
    ]
   },
   "outputs": [],
   "source": [
    "# initialization for my classroom\n",
    "import os\n",
    "from datetime import datetime as dt\n",
    "\n",
    "def logfile(user=os.environ.get('JUPYTERHUB_USER') or 'jovyan'):\n",
    "    prefix='/srv'\n",
    "    if os.path.isdir(prefix) and os.access(prefix, os.W_OK):\n",
    "        prefix+=('/'+user)\n",
    "        if not os.path.isdir(prefix):\n",
    "            os.makedirs(prefix)\n",
    "    else:\n",
    "        prefix='.'\n",
    "    return prefix+'/'+dt.now().strftime('%Y%m%d')+'.log'\n",
    "\n",
    "path=logfile()\n",
    "#%logstop\n",
    "%logstart -otq $path append\n",
    "\n",
    "# [python - cannot override sys.excepthook - Stack Overflow](https://stackoverflow.com/questions/1261668/cannot-override-sys-excepthook/28758396)\n",
    "# https://github.com/ipython/ipython/blob/e6432249582e05f438303ce73d082a0351bb383e/IPython/core/interactiveshell.py#L1952\n",
    "\n",
    "import sys\n",
    "import traceback\n",
    "import IPython\n",
    "\n",
    "try:\n",
    "    _showtraceback\n",
    "except NameError:\n",
    "    _showtraceback=IPython.core.interactiveshell.InteractiveShell.showtraceback\n",
    "\n",
    "try:\n",
    "    _showsyntaxerror\n",
    "except NameError:\n",
    "    _showsyntaxerror=IPython.core.interactiveshell.InteractiveShell.showsyntaxerror\n",
    "\n",
    "import logging\n",
    "logging.basicConfig(filename=path.replace('.log','-exc.log'), format='%(asctime)s %(message)s', level=logging.ERROR, force=True)\n",
    "\n",
    "import sys\n",
    "import traceback\n",
    "import IPython\n",
    "\n",
    "def showtraceback(self, *args, **kwargs):\n",
    "    etype, value, tb = self._get_exc_info(kwargs.get('exc_tuple'))\n",
    "    stb = self.InteractiveTB.structured_traceback(\n",
    "        etype, value, tb, tb_offset=kwargs.get('tb_offset'))\n",
    "    logging.error(os.environ.get('JUPYTERHUB_USER') or 'jovyan')\n",
    "    logging.error(self.InteractiveTB.stb2text(stb))\n",
    "    _showtraceback(self, *args, **kwargs)\n",
    "\n",
    "def showsyntaxerror(self, *args, **kwargs):\n",
    "    etype, value, last_traceback = self._get_exc_info()\n",
    "    elist = traceback.extract_tb(last_traceback) if kwargs.get('running_compiled_code') else []\n",
    "    stb = self.SyntaxTB.structured_traceback(etype, value, elist)\n",
    "    logging.error(os.environ.get('JUPYTERHUB_USER') or 'jovyan')\n",
    "    logging.error(self.InteractiveTB.stb2text(stb))\n",
    "    _showsyntaxerror(self, *args, **kwargs)\n",
    "\n",
    "IPython.core.interactiveshell.InteractiveShell.showtraceback = showtraceback\n",
    "IPython.core.interactiveshell.InteractiveShell.showsyntaxerror = showsyntaxerror"
   ]
  },
  {
   "cell_type": "markdown",
   "id": "2d5ea620",
   "metadata": {},
   "source": [
    "# 平開法"
   ]
  },
  {
   "cell_type": "markdown",
   "id": "46fcaea2",
   "metadata": {},
   "source": [
    "* \"Napier's bone\"\n",
    "  * 位取り記法に依存\n",
    "  * 条件分岐によるループ終了判定\n",
    "  * 収束が遅い"
   ]
  },
  {
   "cell_type": "markdown",
   "id": "1dd4b90c",
   "metadata": {
    "scrolled": false
   },
   "source": [
    "## Newton法による平方根"
   ]
  },
  {
   "cell_type": "code",
   "execution_count": 2,
   "id": "cec65907",
   "metadata": {},
   "outputs": [],
   "source": [
    "from fractions import Fraction"
   ]
  },
  {
   "cell_type": "code",
   "execution_count": 3,
   "id": "ce4ed53c",
   "metadata": {},
   "outputs": [
    {
     "name": "stdout",
     "output_type": "stream",
     "text": [
      "1.5 2.25\n",
      "1.4166666666666665 2.006944444444444\n",
      "1.4142156862745097 2.0000060073048824\n",
      "1.4142135623746899 2.0000000000045106\n"
     ]
    }
   ],
   "source": [
    "def f(x):\n",
    "    return (x + 2/x) / 2\n",
    "    #return Fraction((x + Fraction(2,x)), 2)\n",
    "\n",
    "x, c = 2, 4\n",
    "for i in range(c):\n",
    "    x = f(x)\n",
    "    print(x, x**2)"
   ]
  },
  {
   "cell_type": "code",
   "execution_count": 4,
   "id": "9a9575fc",
   "metadata": {},
   "outputs": [
    {
     "name": "stdout",
     "output_type": "stream",
     "text": [
      "3/2 9/4\n",
      "17/12 289/144\n",
      "577/408 332929/166464\n",
      "665857/470832 443365544449/221682772224\n"
     ]
    }
   ],
   "source": [
    "def f(x):\n",
    "    #return (x + 2/x) / 2\n",
    "    return Fraction((x + Fraction(2,x)), 2)\n",
    "\n",
    "x, c = 2, 4\n",
    "for i in range(c):\n",
    "    x = f(x)\n",
    "    print(x, x**2)"
   ]
  },
  {
   "cell_type": "code",
   "execution_count": 5,
   "id": "063479ad",
   "metadata": {},
   "outputs": [
    {
     "data": {
      "text/plain": [
       "1.4142156862745099"
      ]
     },
     "execution_count": 5,
     "metadata": {},
     "output_type": "execute_result"
    }
   ],
   "source": [
    "float(577/408)"
   ]
  },
  {
   "cell_type": "code",
   "execution_count": 6,
   "id": "f08c346b",
   "metadata": {},
   "outputs": [
    {
     "name": "stdout",
     "output_type": "stream",
     "text": [
      "95785399/14000 9174842661589201/196000000\n",
      "18344780865589201/2681991172000 336530985006487674686224887818401/7193076646685933584000000\n",
      "673061945959271105101164903818401/98401080667569511321067144000 453012383098480777483579996941511970856316830970796325229986196801/9682772676545522223779519889679433739577278956316736000000\n"
     ]
    }
   ],
   "source": [
    "from fractions import Fraction\n",
    "\n",
    "def f(x):\n",
    "    #return (x + 46785399/x) / 2\n",
    "    return Fraction((x + Fraction(46785399,x)), 2)\n",
    "\n",
    "x, c = 7000, 3\n",
    "for i in range(c):\n",
    "    x = f(x)\n",
    "    print(x, x**2)"
   ]
  },
  {
   "cell_type": "code",
   "execution_count": 7,
   "id": "5b2f48b5",
   "metadata": {
    "scrolled": true
   },
   "outputs": [
    {
     "name": "stdout",
     "output_type": "stream",
     "text": [
      "6841.814214285714 46810421.742802046\n",
      "6839.9855514472965 46785402.344007775\n",
      "6839.985307001767 46785399.00000006\n",
      "6839.985307001763 46785399.00000001\n"
     ]
    }
   ],
   "source": [
    "from fractions import Fraction\n",
    "\n",
    "def f(x):\n",
    "    return (x + 46785399/x) / 2\n",
    "    #return Fraction((x + Fraction(46785399,x)), 2)\n",
    "\n",
    "x, c = 7000, 4\n",
    "for i in range(c):\n",
    "    x = f(x)\n",
    "    print(x, x**2)"
   ]
  },
  {
   "cell_type": "markdown",
   "id": "b7112e10",
   "metadata": {
    "scrolled": false
   },
   "source": [
    "## ニュートン法の改善"
   ]
  },
  {
   "cell_type": "markdown",
   "id": "ada14a45",
   "metadata": {},
   "source": [
    "* [Methods of computing square roots - Wikipedia](https://en.wikipedia.org/wiki/Methods_of_computing_square_roots#A_two-variable_iterative_method)\n",
    "* [High order algorithms to find square roots and inverses](http://numbers.computation.free.fr/Constants/Algorithms/inverse.html)"
   ]
  },
  {
   "cell_type": "markdown",
   "id": "9f1906b9",
   "metadata": {},
   "source": [
    "$f(x) = \\frac{1}{x^2} - A$ とする. ニュートン法により"
   ]
  },
  {
   "cell_type": "markdown",
   "id": "bf2ebc80",
   "metadata": {},
   "source": [
    "$$\n",
    "\\begin{eqnarray}\n",
    "  x_{n+1} &=& x_{n} - \\frac{{x_{n}}^{-2}-A}{-2{x_{n}}^{-3}} \\\\\n",
    "          &=& x_{n} + \\frac{1}{2} x_{n} \\left( 1 - A {x_{n}}^2 \\right) \\\\\n",
    "          &=& x_{n} - \\frac{1}{2} x_{n} c_{n} \\\\\n",
    "          &=& x_{n} \\left( 1-\\frac{c_n}{2} \\right)\n",
    "\\end{eqnarray}\n",
    "$$"
   ]
  },
  {
   "cell_type": "markdown",
   "id": "31f1ba35",
   "metadata": {},
   "source": [
    "右辺を変形中に $c_{n} = A{x_{n}}^2-1$ とおいて二変数漸化式とした。 \n",
    "これを $\\frac{1}{A} (1+c_{n}) = {x_{n}}^2$ と変形し、上式の両辺を自乗して代入すると"
   ]
  },
  {
   "cell_type": "markdown",
   "id": "4104ef38",
   "metadata": {},
   "source": [
    "$$(1+c_{n+1}) = (1+c_{n}) \\left( 1-\\frac{c_{n}}{2}\\right)^{2}$$"
   ]
  },
  {
   "cell_type": "markdown",
   "id": "ffc720a2",
   "metadata": {},
   "source": [
    "$$\n",
    "\\begin{eqnarray}\n",
    "c_{n+1} &=& (1+c_{n})(1-c_{n}+\\frac{{c_{n}}^2}{4}) - 1 \\\\\n",
    "        &=& \\frac{1}{4}{c_{n}}^2 \\left( c_{n} - 3 \\right)\n",
    "\\end{eqnarray}\n",
    "$$"
   ]
  },
  {
   "cell_type": "markdown",
   "id": "78709076",
   "metadata": {},
   "source": [
    "あらためて、$S=\\frac{1}{A}$ とおくと、$x_{n}$ は、初項を $0 < S < 3$ としたとき $\\sqrt{S}$ に収束し、同時に $c_{n}$ は、初項を $S-1$ としたとき、$0$ に収束する。\n",
    "\n",
    "$$\n",
    "  S (1+c_{n}) = {x_{n}}^2\n",
    "$$\n",
    "\n",
    "なので、$c_{n} \\rightarrow 0$ ならば ${x_{n}}^2 \\rightarrow S$"
   ]
  },
  {
   "cell_type": "code",
   "execution_count": 156,
   "id": "822f9611",
   "metadata": {},
   "outputs": [],
   "source": [
    "def sqrt_edsac(x, c):\n",
    "    return (x - x*c/2), (c**2 * (c-3))/4"
   ]
  },
  {
   "cell_type": "code",
   "execution_count": 157,
   "id": "5712ed48",
   "metadata": {
    "scrolled": false
   },
   "outputs": [
    {
     "name": "stdout",
     "output_type": "stream",
     "text": [
      "1.0 -0.5\n",
      "1.25 -0.21875\n",
      "1.38671875 -0.03850555419921875\n",
      "1.413416936993599 -0.001126281109816385\n",
      "1.4142128893918142 -9.517390282169533e-07\n",
      "1.4142135623726146 -6.793555988965238e-13\n",
      "1.414213562373095 -3.461430223141193e-25\n",
      "1.414213562373095 -8.986124392256467e-50\n",
      "1.414213562373095 -6.056282369482999e-99\n",
      "1.414213562373095 -2.7508917104182954e-197\n"
     ]
    }
   ],
   "source": [
    "x = 2\n",
    "c = x - 1\n",
    "for _ in range(10):\n",
    "    x, c = sqrt_edsac(x, c)\n",
    "    print(x, c)"
   ]
  },
  {
   "cell_type": "markdown",
   "id": "b3af91f4",
   "metadata": {},
   "source": [
    "### EDSAC法により $46785399$ の平方根を求める"
   ]
  },
  {
   "cell_type": "code",
   "execution_count": 8,
   "id": "d8853274",
   "metadata": {},
   "outputs": [
    {
     "data": {
      "text/plain": [
       "6839.9853070017625"
      ]
     },
     "execution_count": 8,
     "metadata": {},
     "output_type": "execute_result"
    }
   ],
   "source": [
    "import math\n",
    "math.sqrt(46785399)"
   ]
  },
  {
   "cell_type": "markdown",
   "id": "1940a6f2",
   "metadata": {},
   "source": [
    "1) 初項 $s$ を $0<s<3$ に納める"
   ]
  },
  {
   "cell_type": "code",
   "execution_count": 142,
   "id": "2b7d9331",
   "metadata": {},
   "outputs": [
    {
     "data": {
      "text/plain": [
       "(2, 16777216, 2.7886270880699158)"
      ]
     },
     "execution_count": 142,
     "metadata": {},
     "output_type": "execute_result"
    }
   ],
   "source": [
    "s = 46785399\n",
    "s>>24, 2**24, s/2**24"
   ]
  },
  {
   "cell_type": "code",
   "execution_count": 158,
   "id": "ce24bdc6",
   "metadata": {
    "scrolled": false
   },
   "outputs": [
    {
     "name": "stdout",
     "output_type": "stream",
     "text": [
      "0.29472011394622477 -0.9688520756554101\n",
      "0.4374902110133242 -0.9313649051351091\n",
      "0.6412217254523059 -0.8525563697810122\n",
      "0.9145605586904734 -0.7000599258715721\n",
      "1.2346841571514315 -0.4533349495016725\n",
      "1.5145468971678113 -0.1774259406953237\n",
      "1.6489068511464027 -0.025006313899299287\n",
      "1.6695233923016388 -0.00047289601151055086\n",
      "1.6699181477783103 -1.6774941678609557e-07\n",
      "1.6699182878422079 -2.1104901304167963e-14\n"
     ]
    }
   ],
   "source": [
    "x = 46785399 / 2**24\n",
    "c = x - 1\n",
    "for _ in range(10):\n",
    "    x, c = sqrt_edsac(x, c)\n",
    "    print(x, c)"
   ]
  },
  {
   "cell_type": "code",
   "execution_count": 159,
   "id": "80715428",
   "metadata": {},
   "outputs": [
    {
     "data": {
      "text/plain": [
       "(1.6699182878422079, 2.788627088069851, 6839.985307001683)"
      ]
     },
     "execution_count": 159,
     "metadata": {},
     "output_type": "execute_result"
    }
   ],
   "source": [
    "x, x**2, x * 2**12"
   ]
  },
  {
   "cell_type": "code",
   "execution_count": null,
   "id": "11ba8214",
   "metadata": {},
   "outputs": [],
   "source": []
  },
  {
   "cell_type": "code",
   "execution_count": null,
   "id": "c83ad911",
   "metadata": {},
   "outputs": [],
   "source": []
  },
  {
   "cell_type": "code",
   "execution_count": null,
   "id": "22bd9b55",
   "metadata": {},
   "outputs": [],
   "source": []
  },
  {
   "cell_type": "markdown",
   "id": "7d8d8cae",
   "metadata": {},
   "source": [
    "2) 初項 $s$ を $0<s<3$ に納める"
   ]
  },
  {
   "cell_type": "code",
   "execution_count": 160,
   "id": "b74ffd7d",
   "metadata": {},
   "outputs": [
    {
     "data": {
      "text/plain": [
       "(0, 67108864, 0.6971567720174789)"
      ]
     },
     "execution_count": 160,
     "metadata": {},
     "output_type": "execute_result"
    }
   ],
   "source": [
    "s = 46785399\n",
    "s>>26, 2**26, s/2**26"
   ]
  },
  {
   "cell_type": "code",
   "execution_count": 161,
   "id": "8dd98970",
   "metadata": {},
   "outputs": [
    {
     "name": "stdout",
     "output_type": "stream",
     "text": [
      "0.8027213756413029 -0.07572925807380614\n",
      "0.8331161227499533 -0.004409765715489015\n",
      "0.8349530462075152 -1.4605963362266851e-05\n",
      "0.8349591438543162 -1.6000140329266338e-10\n",
      "0.8349591439211136 -1.920033679274016e-20\n",
      "0.8349591439211136 -2.7648969971598867e-40\n",
      "0.8349591439211136 -5.733491553677818e-80\n",
      "0.8349591439211136 -2.465469404707116e-159\n",
      "0.8349591439211136 -4.5589e-318\n",
      "0.8349591439211136 -0.0\n"
     ]
    }
   ],
   "source": [
    "x = 46785399 / 2**26\n",
    "c = x - 1\n",
    "for _ in range(10):\n",
    "    x, c = sqrt_edsac(x, c)\n",
    "    print(x, c)"
   ]
  },
  {
   "cell_type": "code",
   "execution_count": 162,
   "id": "10565e22",
   "metadata": {},
   "outputs": [
    {
     "data": {
      "text/plain": [
       "(0.8349591439211136, 0.6971567720174788, 6839.9853070017625)"
      ]
     },
     "execution_count": 162,
     "metadata": {},
     "output_type": "execute_result"
    }
   ],
   "source": [
    "x, x**2, x * 2**13"
   ]
  },
  {
   "cell_type": "code",
   "execution_count": null,
   "id": "cda99b62",
   "metadata": {},
   "outputs": [],
   "source": []
  },
  {
   "cell_type": "code",
   "execution_count": null,
   "id": "92f3bdf0",
   "metadata": {},
   "outputs": [],
   "source": []
  },
  {
   "cell_type": "code",
   "execution_count": null,
   "id": "57c82c05",
   "metadata": {},
   "outputs": [],
   "source": []
  },
  {
   "cell_type": "markdown",
   "id": "243169a5",
   "metadata": {},
   "source": [
    "$2$ や $4$ (や$2$の冪数) で割るのはコンピュータにとって最小コスト"
   ]
  },
  {
   "cell_type": "code",
   "execution_count": 74,
   "id": "b00d2ea1",
   "metadata": {},
   "outputs": [
    {
     "data": {
      "text/plain": [
       "(61728394.5,\n",
       " 61728394,\n",
       " '0b111010110111100110100010101',\n",
       " '0b11101011011110011010001010')"
      ]
     },
     "execution_count": 74,
     "metadata": {},
     "output_type": "execute_result"
    }
   ],
   "source": [
    "x=123456789\n",
    "x/2, x>>1, bin(x), bin(x>>1)"
   ]
  },
  {
   "cell_type": "code",
   "execution_count": 75,
   "id": "a98f2c5e",
   "metadata": {},
   "outputs": [
    {
     "data": {
      "text/plain": [
       "(30864197.25,\n",
       " 30864197,\n",
       " '0b111010110111100110100010101',\n",
       " '0b1110101101111001101000101')"
      ]
     },
     "execution_count": 75,
     "metadata": {},
     "output_type": "execute_result"
    }
   ],
   "source": [
    "x=123456789\n",
    "x/4, x>>2, bin(x), bin(x>>2)"
   ]
  },
  {
   "cell_type": "code",
   "execution_count": null,
   "id": "02353adb",
   "metadata": {},
   "outputs": [],
   "source": []
  },
  {
   "cell_type": "code",
   "execution_count": null,
   "id": "bc83cf36",
   "metadata": {},
   "outputs": [],
   "source": []
  },
  {
   "cell_type": "code",
   "execution_count": null,
   "id": "fce03a64",
   "metadata": {},
   "outputs": [],
   "source": []
  }
 ],
 "metadata": {
  "kernelspec": {
   "display_name": "Python 3 (ipykernel)",
   "language": "python",
   "name": "python3"
  },
  "language_info": {
   "codemirror_mode": {
    "name": "ipython",
    "version": 3
   },
   "file_extension": ".py",
   "mimetype": "text/x-python",
   "name": "python",
   "nbconvert_exporter": "python",
   "pygments_lexer": "ipython3",
   "version": "3.9.12"
  },
  "toc": {
   "base_numbering": 1,
   "nav_menu": {},
   "number_sections": true,
   "sideBar": true,
   "skip_h1_title": false,
   "title_cell": "Table of Contents",
   "title_sidebar": "Contents",
   "toc_cell": false,
   "toc_position": {},
   "toc_section_display": true,
   "toc_window_display": false
  }
 },
 "nbformat": 4,
 "nbformat_minor": 5
}
