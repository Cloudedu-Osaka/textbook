{
 "cells": [
  {
   "cell_type": "code",
   "execution_count": null,
   "id": "d2844b6f",
   "metadata": {
    "hide_input": true,
    "init_cell": true,
    "tags": [
     "remove-input"
    ]
   },
   "outputs": [],
   "source": [
    "# initialization for my classroom\n",
    "import os\n",
    "from datetime import datetime as dt\n",
    "\n",
    "def logfile(user=os.environ.get('JUPYTERHUB_USER') or 'jovyan'):\n",
    "    prefix='/srv'\n",
    "    if os.path.isdir(prefix) and os.access(prefix, os.W_OK):\n",
    "        prefix+=('/'+user)\n",
    "        if not os.path.isdir(prefix):\n",
    "            os.makedirs(prefix)\n",
    "    else:\n",
    "        prefix='.'\n",
    "    return prefix+'/'+dt.now().strftime('%Y%m%d')+'.log'\n",
    "\n",
    "path=logfile()\n",
    "#%logstop\n",
    "%logstart -otq $path append\n",
    "\n",
    "# [python - cannot override sys.excepthook - Stack Overflow](https://stackoverflow.com/questions/1261668/cannot-override-sys-excepthook/28758396)\n",
    "# https://github.com/ipython/ipython/blob/e6432249582e05f438303ce73d082a0351bb383e/IPython/core/interactiveshell.py#L1952\n",
    "\n",
    "import sys\n",
    "import traceback\n",
    "import IPython\n",
    "\n",
    "try:\n",
    "    _showtraceback\n",
    "except NameError:\n",
    "    _showtraceback=IPython.core.interactiveshell.InteractiveShell.showtraceback\n",
    "\n",
    "try:\n",
    "    _showsyntaxerror\n",
    "except NameError:\n",
    "    _showsyntaxerror=IPython.core.interactiveshell.InteractiveShell.showsyntaxerror\n",
    "\n",
    "import logging\n",
    "logging.basicConfig(filename=path.replace('.log','-exc.log'), format='%(asctime)s %(message)s', level=logging.ERROR, force=True)\n",
    "\n",
    "import sys\n",
    "import traceback\n",
    "import IPython\n",
    "\n",
    "def showtraceback(self, *args, **kwargs):\n",
    "    etype, value, tb = self._get_exc_info(kwargs.get('exc_tuple'))\n",
    "    stb = self.InteractiveTB.structured_traceback(\n",
    "        etype, value, tb, tb_offset=kwargs.get('tb_offset'))\n",
    "    logging.error(os.environ.get('JUPYTERHUB_USER') or 'jovyan')\n",
    "    logging.error(self.InteractiveTB.stb2text(stb))\n",
    "    _showtraceback(self, *args, **kwargs)\n",
    "\n",
    "def showsyntaxerror(self, *args, **kwargs):\n",
    "    etype, value, last_traceback = self._get_exc_info()\n",
    "    elist = traceback.extract_tb(last_traceback) if kwargs.get('running_compiled_code') else []\n",
    "    stb = self.SyntaxTB.structured_traceback(etype, value, elist)\n",
    "    logging.error(os.environ.get('JUPYTERHUB_USER') or 'jovyan')\n",
    "    logging.error(self.InteractiveTB.stb2text(stb))\n",
    "    _showsyntaxerror(self, *args, **kwargs)\n",
    "\n",
    "IPython.core.interactiveshell.InteractiveShell.showtraceback = showtraceback\n",
    "IPython.core.interactiveshell.InteractiveShell.showsyntaxerror = showsyntaxerror"
   ]
  },
  {
   "cell_type": "markdown",
   "id": "aee820b8",
   "metadata": {},
   "source": [
    "# 近代数学とプログラミング (7)"
   ]
  },
  {
   "cell_type": "markdown",
   "id": "1f1d2b74",
   "metadata": {},
   "source": [
    "## 関数論と四則演算"
   ]
  },
  {
   "cell_type": "markdown",
   "id": "4bd1a18f",
   "metadata": {},
   "source": [
    "* (1903 &ndash; 1995) [Alonzo Church - Wikipedia](https://en.wikipedia.org/wiki/Alonzo_Church)\n",
    "* [Church encoding - Wikipedia](https://en.wikipedia.org/wiki/Church_encoding)\n",
    "  - [Adding church numerals using lambda functions in python - Stack Overflow](https://stackoverflow.com/questions/24905241/adding-church-numerals-using-lambda-functions-in-python)"
   ]
  },
  {
   "cell_type": "code",
   "execution_count": null,
   "id": "2eb1af65",
   "metadata": {},
   "outputs": [],
   "source": [
    "def f(x):\n",
    "    return x+1"
   ]
  },
  {
   "cell_type": "code",
   "execution_count": null,
   "id": "8227ffc5",
   "metadata": {},
   "outputs": [],
   "source": [
    "0, f(0), f(f(0)), f(f(f(0)))"
   ]
  },
  {
   "cell_type": "code",
   "execution_count": null,
   "id": "8f330a4f",
   "metadata": {},
   "outputs": [],
   "source": [
    "f = lambda x: x+1"
   ]
  },
  {
   "cell_type": "code",
   "execution_count": null,
   "id": "55f47747",
   "metadata": {},
   "outputs": [],
   "source": [
    "0, f(0), f(f(0)), f(f(f(0)))"
   ]
  },
  {
   "cell_type": "code",
   "execution_count": null,
   "id": "c63aa9a1",
   "metadata": {},
   "outputs": [],
   "source": []
  },
  {
   "cell_type": "code",
   "execution_count": null,
   "id": "8144a55f",
   "metadata": {},
   "outputs": [],
   "source": []
  },
  {
   "cell_type": "code",
   "execution_count": null,
   "id": "e70630a5",
   "metadata": {},
   "outputs": [],
   "source": []
  },
  {
   "cell_type": "markdown",
   "id": "0219e094",
   "metadata": {},
   "source": [
    "### 関数の合成回数で序数を定義する\n",
    "* [Function composition - Wikipedia](https://en.wikipedia.org/wiki/Function_composition)"
   ]
  },
  {
   "cell_type": "code",
   "execution_count": null,
   "id": "e99dd526",
   "metadata": {},
   "outputs": [],
   "source": [
    "def zero(f):\n",
    "    return lambda x: x"
   ]
  },
  {
   "cell_type": "code",
   "execution_count": null,
   "id": "f78fcf07",
   "metadata": {},
   "outputs": [],
   "source": [
    "def one(f):\n",
    "    return lambda x: f(x)"
   ]
  },
  {
   "cell_type": "code",
   "execution_count": null,
   "id": "8d620ffa",
   "metadata": {},
   "outputs": [],
   "source": [
    "def two(f):\n",
    "    return lambda x: f(f(x))"
   ]
  },
  {
   "cell_type": "code",
   "execution_count": null,
   "id": "c0af82d1",
   "metadata": {},
   "outputs": [],
   "source": [
    "def three(f):\n",
    "    return lambda x: f(f(f(x)))"
   ]
  },
  {
   "cell_type": "code",
   "execution_count": null,
   "id": "cdb2b975",
   "metadata": {},
   "outputs": [],
   "source": [
    "f"
   ]
  },
  {
   "cell_type": "code",
   "execution_count": null,
   "id": "0a2289d3",
   "metadata": {},
   "outputs": [],
   "source": [
    "zero"
   ]
  },
  {
   "cell_type": "code",
   "execution_count": null,
   "id": "054c31c6",
   "metadata": {},
   "outputs": [],
   "source": [
    "zero(f)"
   ]
  },
  {
   "cell_type": "code",
   "execution_count": null,
   "id": "3b38c256",
   "metadata": {},
   "outputs": [],
   "source": [
    "(zero(f))(0)"
   ]
  },
  {
   "cell_type": "code",
   "execution_count": null,
   "id": "3b6691f3",
   "metadata": {},
   "outputs": [],
   "source": [
    "(one(f))(0)"
   ]
  },
  {
   "cell_type": "code",
   "execution_count": null,
   "id": "575fd8ab",
   "metadata": {},
   "outputs": [],
   "source": [
    "(two(f))(0)"
   ]
  },
  {
   "cell_type": "code",
   "execution_count": null,
   "id": "0482ede7",
   "metadata": {},
   "outputs": [],
   "source": [
    "(three(f))(0)"
   ]
  },
  {
   "cell_type": "code",
   "execution_count": null,
   "id": "f7f15158",
   "metadata": {},
   "outputs": [],
   "source": []
  },
  {
   "cell_type": "code",
   "execution_count": null,
   "id": "a4a87c1c",
   "metadata": {},
   "outputs": [],
   "source": []
  },
  {
   "cell_type": "code",
   "execution_count": null,
   "id": "09cd1ebb",
   "metadata": {},
   "outputs": [],
   "source": []
  },
  {
   "cell_type": "markdown",
   "id": "a7f35b04",
   "metadata": {},
   "source": [
    "### 関数の加算"
   ]
  },
  {
   "cell_type": "code",
   "execution_count": null,
   "id": "f71b5aee",
   "metadata": {},
   "outputs": [],
   "source": [
    "def church_add(m, n):\n",
    "    return lambda f: lambda x: m(f)(n(f)(x))"
   ]
  },
  {
   "cell_type": "code",
   "execution_count": null,
   "id": "63da6e01",
   "metadata": {},
   "outputs": [],
   "source": [
    "church_add(one,two)"
   ]
  },
  {
   "cell_type": "code",
   "execution_count": null,
   "id": "0385035c",
   "metadata": {},
   "outputs": [],
   "source": [
    "church_add(one,two)(f)"
   ]
  },
  {
   "cell_type": "code",
   "execution_count": null,
   "id": "f0801389",
   "metadata": {},
   "outputs": [],
   "source": [
    "(church_add(one,two)(f))(0)"
   ]
  },
  {
   "cell_type": "code",
   "execution_count": null,
   "id": "965c3fc0",
   "metadata": {},
   "outputs": [],
   "source": [
    "(church_add(three,two)(f))(0)"
   ]
  },
  {
   "cell_type": "code",
   "execution_count": null,
   "id": "e29cbdd9",
   "metadata": {},
   "outputs": [],
   "source": []
  },
  {
   "cell_type": "code",
   "execution_count": null,
   "id": "b57ba07e",
   "metadata": {},
   "outputs": [],
   "source": []
  },
  {
   "cell_type": "code",
   "execution_count": null,
   "id": "1e9ea4e9",
   "metadata": {},
   "outputs": [],
   "source": []
  },
  {
   "cell_type": "markdown",
   "id": "a884ca63",
   "metadata": {},
   "source": [
    "### 関数の乗算"
   ]
  },
  {
   "cell_type": "code",
   "execution_count": null,
   "id": "8f93819d",
   "metadata": {},
   "outputs": [],
   "source": [
    "def church_mul(m, n):\n",
    "    return lambda f: lambda x: m(n(f))(x)"
   ]
  },
  {
   "cell_type": "code",
   "execution_count": null,
   "id": "aa6de701",
   "metadata": {},
   "outputs": [],
   "source": [
    "church_mul(one, two)(f)(0)"
   ]
  },
  {
   "cell_type": "code",
   "execution_count": null,
   "id": "5e820bd9",
   "metadata": {},
   "outputs": [],
   "source": [
    "church_mul(two, two)(f)(0)"
   ]
  },
  {
   "cell_type": "code",
   "execution_count": null,
   "id": "1a789ab4",
   "metadata": {},
   "outputs": [],
   "source": [
    "church_mul(two, three)(f)(0)"
   ]
  },
  {
   "cell_type": "code",
   "execution_count": null,
   "id": "ed164f53",
   "metadata": {},
   "outputs": [],
   "source": []
  },
  {
   "cell_type": "code",
   "execution_count": null,
   "id": "ffd595d7",
   "metadata": {},
   "outputs": [],
   "source": []
  },
  {
   "cell_type": "code",
   "execution_count": null,
   "id": "425d9b12",
   "metadata": {},
   "outputs": [],
   "source": []
  },
  {
   "cell_type": "markdown",
   "id": "e8748a94",
   "metadata": {},
   "source": [
    "### 後者関数"
   ]
  },
  {
   "cell_type": "code",
   "execution_count": null,
   "id": "9421c15d",
   "metadata": {},
   "outputs": [],
   "source": [
    "def church_succ(n):\n",
    "    return lambda f: lambda x: f(n(f)(x))"
   ]
  },
  {
   "cell_type": "code",
   "execution_count": null,
   "id": "19d8a350",
   "metadata": {},
   "outputs": [],
   "source": [
    "def church_zero(f):\n",
    "    return lambda x: x"
   ]
  },
  {
   "cell_type": "code",
   "execution_count": null,
   "id": "d5c894af",
   "metadata": {},
   "outputs": [],
   "source": [
    "def church_one(f):\n",
    "    return lambda x: (church_succ(church_zero))(f)(x)"
   ]
  },
  {
   "cell_type": "code",
   "execution_count": null,
   "id": "a42597dd",
   "metadata": {},
   "outputs": [],
   "source": [
    "def church_two(f):\n",
    "    return lambda x: (church_succ(church_succ(church_zero)))(f)(x)"
   ]
  },
  {
   "cell_type": "code",
   "execution_count": null,
   "id": "e0f289d1",
   "metadata": {},
   "outputs": [],
   "source": [
    "church_zero(f)(0)"
   ]
  },
  {
   "cell_type": "code",
   "execution_count": null,
   "id": "f32b92d6",
   "metadata": {},
   "outputs": [],
   "source": [
    "(church_succ(church_zero))(f)(0)"
   ]
  },
  {
   "cell_type": "code",
   "execution_count": null,
   "id": "99e2f533",
   "metadata": {},
   "outputs": [],
   "source": [
    "church_one(f)(0)"
   ]
  },
  {
   "cell_type": "code",
   "execution_count": null,
   "id": "af14a3a4",
   "metadata": {},
   "outputs": [],
   "source": [
    "church_two(f)(0)"
   ]
  },
  {
   "cell_type": "code",
   "execution_count": null,
   "id": "a2e2b44e",
   "metadata": {},
   "outputs": [],
   "source": []
  },
  {
   "cell_type": "code",
   "execution_count": null,
   "id": "05a14609",
   "metadata": {},
   "outputs": [],
   "source": []
  },
  {
   "cell_type": "code",
   "execution_count": null,
   "id": "32c26ad9",
   "metadata": {},
   "outputs": [],
   "source": []
  },
  {
   "cell_type": "markdown",
   "id": "1d1cc34a",
   "metadata": {
    "deletable": false,
    "editable": false,
    "nbgrader": {
     "cell_type": "markdown",
     "checksum": "503b098260557ad93ae6a9bd8ba881d6",
     "grade": false,
     "grade_id": "cell-8a119ec595c1fce7",
     "locked": true,
     "schema_version": 3,
     "solution": false,
     "task": false
    }
   },
   "source": [
    "課題-7) 次のように定義する ``nest_lit()`` を使って、２つの整数の足し算をする関数 ``nest_add()`` を定義せよ。"
   ]
  },
  {
   "cell_type": "code",
   "execution_count": null,
   "id": "8a0f156f",
   "metadata": {
    "deletable": false,
    "nbgrader": {
     "cell_type": "code",
     "checksum": "a47dcee145d56445a498a67ce184f4f8",
     "grade": false,
     "grade_id": "cell-f0a3f9534a0d2fd7",
     "locked": false,
     "schema_version": 3,
     "solution": true,
     "task": false
    }
   },
   "outputs": [],
   "source": [
    "def nest_list(f=lambda x: x+1, x=0):\n",
    "    while True:\n",
    "        yield x\n",
    "        x = f(x)\n",
    "\n",
    "def nest_add(a, b):\n",
    "    # YOUR CODE HERE\n",
    "    raise NotImplementedError()"
   ]
  },
  {
   "cell_type": "code",
   "execution_count": null,
   "id": "e728beb0",
   "metadata": {},
   "outputs": [],
   "source": [
    "nest_add(5,3)"
   ]
  },
  {
   "cell_type": "code",
   "execution_count": null,
   "id": "432eba66",
   "metadata": {},
   "outputs": [],
   "source": []
  },
  {
   "cell_type": "code",
   "execution_count": null,
   "id": "306ff18c",
   "metadata": {},
   "outputs": [],
   "source": []
  },
  {
   "cell_type": "code",
   "execution_count": null,
   "id": "681047d9",
   "metadata": {},
   "outputs": [],
   "source": []
  },
  {
   "cell_type": "markdown",
   "id": "adaf2597",
   "metadata": {
    "deletable": false,
    "editable": false,
    "nbgrader": {
     "cell_type": "markdown",
     "checksum": "bfa15ee0ea89a18c2a0d0e619c325d38",
     "grade": false,
     "grade_id": "cell-9666a662b769b310",
     "locked": true,
     "schema_version": 3,
     "solution": false,
     "task": false
    }
   },
   "source": [
    "---\n",
    "以下、採点用のセルにつき編集できない:"
   ]
  },
  {
   "cell_type": "code",
   "execution_count": null,
   "id": "7708b295",
   "metadata": {
    "deletable": false,
    "editable": false,
    "nbgrader": {
     "cell_type": "code",
     "checksum": "bfce83fd02d7f33d37a796b27faad079",
     "grade": false,
     "grade_id": "cell-c884b5e8211f3a07",
     "locked": true,
     "schema_version": 3,
     "solution": false,
     "task": false
    }
   },
   "outputs": [],
   "source": [
    "from nose.tools import assert_equal, assert_true"
   ]
  },
  {
   "cell_type": "code",
   "execution_count": null,
   "id": "3c6eb21f",
   "metadata": {
    "deletable": false,
    "editable": false,
    "nbgrader": {
     "cell_type": "code",
     "checksum": "bb3c0e140706439ee370e2655d3653d9",
     "grade": true,
     "grade_id": "cell-a6359144b116935e",
     "locked": true,
     "points": 1,
     "schema_version": 3,
     "solution": false,
     "task": false
    }
   },
   "outputs": [],
   "source": [
    "assert_equal(nest_add(5, 3), 8)"
   ]
  }
 ],
 "metadata": {
  "kernelspec": {
   "display_name": "Python 3 (ipykernel)",
   "language": "python",
   "name": "python3"
  },
  "language_info": {
   "codemirror_mode": {
    "name": "ipython",
    "version": 3
   },
   "file_extension": ".py",
   "mimetype": "text/x-python",
   "name": "python",
   "nbconvert_exporter": "python",
   "pygments_lexer": "ipython3",
   "version": "3.9.12"
  },
  "toc": {
   "base_numbering": 1,
   "nav_menu": {},
   "number_sections": true,
   "sideBar": true,
   "skip_h1_title": false,
   "title_cell": "Table of Contents",
   "title_sidebar": "Contents",
   "toc_cell": false,
   "toc_position": {},
   "toc_section_display": true,
   "toc_window_display": false
  }
 },
 "nbformat": 4,
 "nbformat_minor": 5
}
