{
 "cells": [
  {
   "cell_type": "code",
   "execution_count": 1,
   "id": "d2844b6f",
   "metadata": {
    "hide_input": true,
    "init_cell": true,
    "tags": [
     "remove-input"
    ]
   },
   "outputs": [],
   "source": [
    "# initialization for my classroom\n",
    "import os\n",
    "from datetime import datetime as dt\n",
    "\n",
    "def logfile(user=os.environ.get('JUPYTERHUB_USER') or 'jovyan'):\n",
    "    prefix='/srv'\n",
    "    if os.path.isdir(prefix) and os.access(prefix, os.W_OK):\n",
    "        prefix+=('/'+user)\n",
    "        if not os.path.isdir(prefix):\n",
    "            os.makedirs(prefix)\n",
    "    else:\n",
    "        prefix='.'\n",
    "    return prefix+'/'+dt.now().strftime('%Y%m%d')+'.log'\n",
    "\n",
    "path=logfile()\n",
    "#%logstop\n",
    "%logstart -otq $path append\n",
    "\n",
    "# [python - cannot override sys.excepthook - Stack Overflow](https://stackoverflow.com/questions/1261668/cannot-override-sys-excepthook/28758396)\n",
    "# https://github.com/ipython/ipython/blob/e6432249582e05f438303ce73d082a0351bb383e/IPython/core/interactiveshell.py#L1952\n",
    "\n",
    "import sys\n",
    "import traceback\n",
    "import IPython\n",
    "\n",
    "try:\n",
    "    _showtraceback\n",
    "except NameError:\n",
    "    _showtraceback=IPython.core.interactiveshell.InteractiveShell.showtraceback\n",
    "\n",
    "try:\n",
    "    _showsyntaxerror\n",
    "except NameError:\n",
    "    _showsyntaxerror=IPython.core.interactiveshell.InteractiveShell.showsyntaxerror\n",
    "\n",
    "import logging\n",
    "logging.basicConfig(filename=path.replace('.log','-exc.log'), format='%(asctime)s %(message)s', level=logging.ERROR, force=True)\n",
    "\n",
    "import sys\n",
    "import traceback\n",
    "import IPython\n",
    "\n",
    "def showtraceback(self, *args, **kwargs):\n",
    "    etype, value, tb = self._get_exc_info(kwargs.get('exc_tuple'))\n",
    "    stb = self.InteractiveTB.structured_traceback(\n",
    "        etype, value, tb, tb_offset=kwargs.get('tb_offset'))\n",
    "    logging.error(os.environ.get('JUPYTERHUB_USER') or 'jovyan')\n",
    "    logging.error(self.InteractiveTB.stb2text(stb))\n",
    "    _showtraceback(self, *args, **kwargs)\n",
    "\n",
    "def showsyntaxerror(self, *args, **kwargs):\n",
    "    etype, value, last_traceback = self._get_exc_info()\n",
    "    elist = traceback.extract_tb(last_traceback) if kwargs.get('running_compiled_code') else []\n",
    "    stb = self.SyntaxTB.structured_traceback(etype, value, elist)\n",
    "    logging.error(os.environ.get('JUPYTERHUB_USER') or 'jovyan')\n",
    "    logging.error(self.InteractiveTB.stb2text(stb))\n",
    "    _showsyntaxerror(self, *args, **kwargs)\n",
    "\n",
    "IPython.core.interactiveshell.InteractiveShell.showtraceback = showtraceback\n",
    "IPython.core.interactiveshell.InteractiveShell.showsyntaxerror = showsyntaxerror"
   ]
  },
  {
   "cell_type": "markdown",
   "id": "aee820b8",
   "metadata": {},
   "source": [
    "# 近代数学とプログラミング (5)"
   ]
  },
  {
   "cell_type": "markdown",
   "id": "7da42339",
   "metadata": {},
   "source": [
    "### 二進法とブール代数\n",
    "* [Boolean algebra - Wikipedia](https://en.wikipedia.org/wiki/Boolean_algebra)"
   ]
  },
  {
   "cell_type": "code",
   "execution_count": null,
   "id": "1fec4880",
   "metadata": {},
   "outputs": [],
   "source": [
    "import itertools\n",
    "\n",
    "list(itertools.product([0,1],repeat=2))"
   ]
  },
  {
   "cell_type": "code",
   "execution_count": null,
   "id": "e337b201",
   "metadata": {},
   "outputs": [],
   "source": [
    "for i,j in itertools.product([0,1],repeat=2):\n",
    "    print(i&j, bool(i&j), bool(i)&bool(j))"
   ]
  },
  {
   "cell_type": "code",
   "execution_count": null,
   "id": "168fa085",
   "metadata": {},
   "outputs": [],
   "source": [
    "for i,j in itertools.product([0,1],repeat=2):\n",
    "    print(i|j, bool(i|j), bool(i)|bool(j))"
   ]
  },
  {
   "cell_type": "code",
   "execution_count": null,
   "id": "bed8ce5c",
   "metadata": {},
   "outputs": [],
   "source": [
    "for i,j in itertools.product([0,1],repeat=2):\n",
    "    print(i^j, bool(i^j), bool(i)^bool(j))"
   ]
  },
  {
   "cell_type": "code",
   "execution_count": null,
   "id": "4d92a42d",
   "metadata": {},
   "outputs": [],
   "source": []
  },
  {
   "cell_type": "code",
   "execution_count": null,
   "id": "ca694ca0",
   "metadata": {},
   "outputs": [],
   "source": []
  },
  {
   "cell_type": "code",
   "execution_count": null,
   "id": "868ef177",
   "metadata": {},
   "outputs": [],
   "source": []
  },
  {
   "cell_type": "markdown",
   "id": "f81ad0fa",
   "metadata": {},
   "source": [
    "### ブール演算と四則演算"
   ]
  },
  {
   "cell_type": "code",
   "execution_count": null,
   "id": "bb9121d0",
   "metadata": {},
   "outputs": [],
   "source": [
    "import itertools\n",
    "\n",
    "for i,j in itertools.product([0,1],repeat=2):\n",
    "    print(i&j, i*j, '{:02b}'.format(i*j))"
   ]
  },
  {
   "cell_type": "code",
   "execution_count": null,
   "id": "65313a29",
   "metadata": {},
   "outputs": [],
   "source": [
    "for i,j in itertools.product([0,1],repeat=2):\n",
    "    print(i|j, i+j, '{:02b}'.format(i+j))"
   ]
  },
  {
   "cell_type": "code",
   "execution_count": null,
   "id": "79d4cba0",
   "metadata": {},
   "outputs": [],
   "source": [
    "for i,j in itertools.product([0,1],repeat=2):\n",
    "    print(i^j, i+j, '{:02b}'.format(i+j))"
   ]
  },
  {
   "cell_type": "code",
   "execution_count": null,
   "id": "b5c40b21",
   "metadata": {},
   "outputs": [],
   "source": []
  },
  {
   "cell_type": "code",
   "execution_count": null,
   "id": "26ec6608",
   "metadata": {},
   "outputs": [],
   "source": []
  },
  {
   "cell_type": "code",
   "execution_count": null,
   "id": "10c9e4fb",
   "metadata": {},
   "outputs": [],
   "source": []
  },
  {
   "cell_type": "markdown",
   "id": "7817dc9b",
   "metadata": {},
   "source": [
    "和 (or) は、四則演算や直感と対応が難しい"
   ]
  },
  {
   "cell_type": "code",
   "execution_count": null,
   "id": "675b474b",
   "metadata": {},
   "outputs": [],
   "source": [
    "for i,j in itertools.product([0,1],repeat=2):\n",
    "    print(i|j, i+j, '{:02b}'.format(i+j), divmod(i+j,2), sum(divmod(i+j,2)), ((i+j)%2)+(i+j)//2)"
   ]
  },
  {
   "cell_type": "code",
   "execution_count": null,
   "id": "ae901706",
   "metadata": {},
   "outputs": [],
   "source": [
    "for i,j in itertools.product([0,1],repeat=2):\n",
    "    print(i^j, i+j, '{:02b}'.format(i+j), divmod(i+j,2), divmod(i+j,2)[1], (i+j)%2)"
   ]
  },
  {
   "cell_type": "code",
   "execution_count": null,
   "id": "75761842",
   "metadata": {},
   "outputs": [],
   "source": []
  },
  {
   "cell_type": "code",
   "execution_count": null,
   "id": "cd32486a",
   "metadata": {},
   "outputs": [],
   "source": []
  },
  {
   "cell_type": "code",
   "execution_count": null,
   "id": "f01ad3dc",
   "metadata": {},
   "outputs": [],
   "source": []
  },
  {
   "cell_type": "markdown",
   "id": "df32ad12",
   "metadata": {
    "deletable": false,
    "editable": false,
    "nbgrader": {
     "cell_type": "markdown",
     "checksum": "bb55e2eda45ec590a2eac8d2d8e6bb81",
     "grade": false,
     "grade_id": "cell-30d41e170ae7eaa0",
     "locked": true,
     "schema_version": 3,
     "solution": false,
     "task": false
    }
   },
   "source": [
    "課題-5) 一桁の二進数の和を求める関数 ``binary_add()`` を定義せよ。戻り値は整数 $0$, $1$ のリストで表すこと。"
   ]
  },
  {
   "cell_type": "code",
   "execution_count": null,
   "id": "47337ea5",
   "metadata": {
    "deletable": false,
    "nbgrader": {
     "cell_type": "code",
     "checksum": "7a26023452e4ad249beaee3e1c2d42b6",
     "grade": false,
     "grade_id": "cell-3172796abe850fcd",
     "locked": false,
     "schema_version": 3,
     "solution": true,
     "task": false
    }
   },
   "outputs": [],
   "source": [
    "def binary_add(a, b):\n",
    "    if not (a >=0 and b >= 0 and a < 2 and b < 2):\n",
    "        raise ValueError\n",
    "    # YOUR CODE HERE\n",
    "    raise NotImplementedError()"
   ]
  },
  {
   "cell_type": "code",
   "execution_count": null,
   "id": "382f14b0",
   "metadata": {},
   "outputs": [],
   "source": [
    "binary_add(0, 1)"
   ]
  },
  {
   "cell_type": "code",
   "execution_count": null,
   "id": "54e67cf9",
   "metadata": {},
   "outputs": [],
   "source": []
  },
  {
   "cell_type": "code",
   "execution_count": null,
   "id": "1b2df34d",
   "metadata": {},
   "outputs": [],
   "source": []
  },
  {
   "cell_type": "code",
   "execution_count": null,
   "id": "c4b02c00",
   "metadata": {},
   "outputs": [],
   "source": []
  },
  {
   "cell_type": "markdown",
   "id": "8899675c",
   "metadata": {
    "deletable": false,
    "editable": false,
    "nbgrader": {
     "cell_type": "markdown",
     "checksum": "623eadfcbcdb84da32b17eb23d37ea7a",
     "grade": false,
     "grade_id": "cell-8d0b25dd53abf852",
     "locked": true,
     "schema_version": 3,
     "solution": false,
     "task": false
    }
   },
   "source": [
    "---\n",
    "以下、採点用のセルにつき編集できない:"
   ]
  },
  {
   "cell_type": "code",
   "execution_count": null,
   "id": "705aded9",
   "metadata": {
    "deletable": false,
    "editable": false,
    "nbgrader": {
     "cell_type": "code",
     "checksum": "b5bc56080432cbd0004208ada41b4564",
     "grade": false,
     "grade_id": "cell-d7f83c79ced4e4ee",
     "locked": true,
     "schema_version": 3,
     "solution": false,
     "task": false
    }
   },
   "outputs": [],
   "source": [
    "from nose.tools import assert_equal, assert_true"
   ]
  },
  {
   "cell_type": "code",
   "execution_count": null,
   "id": "4b758bc6",
   "metadata": {
    "deletable": false,
    "editable": false,
    "nbgrader": {
     "cell_type": "code",
     "checksum": "c885430885bf2db55b6caf6e401e21c9",
     "grade": true,
     "grade_id": "cell-edbe9b33d9963ab9",
     "locked": true,
     "points": 1,
     "schema_version": 3,
     "solution": false,
     "task": false
    }
   },
   "outputs": [],
   "source": [
    "assert_equal(binary_add(0, 1), [0, 1])"
   ]
  }
 ],
 "metadata": {
  "kernelspec": {
   "display_name": "Python 3 (ipykernel)",
   "language": "python",
   "name": "python3"
  },
  "language_info": {
   "codemirror_mode": {
    "name": "ipython",
    "version": 3
   },
   "file_extension": ".py",
   "mimetype": "text/x-python",
   "name": "python",
   "nbconvert_exporter": "python",
   "pygments_lexer": "ipython3",
   "version": "3.9.12"
  },
  "toc": {
   "base_numbering": 1,
   "nav_menu": {},
   "number_sections": true,
   "sideBar": true,
   "skip_h1_title": false,
   "title_cell": "Table of Contents",
   "title_sidebar": "Contents",
   "toc_cell": false,
   "toc_position": {},
   "toc_section_display": true,
   "toc_window_display": false
  }
 },
 "nbformat": 4,
 "nbformat_minor": 5
}
