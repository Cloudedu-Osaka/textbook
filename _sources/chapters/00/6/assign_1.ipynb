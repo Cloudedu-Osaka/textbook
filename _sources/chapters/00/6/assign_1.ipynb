{
 "cells": [
  {
   "cell_type": "code",
   "execution_count": null,
   "id": "2e7c2805",
   "metadata": {
    "deletable": false,
    "editable": false,
    "hide_input": true,
    "init_cell": true,
    "nbgrader": {
     "cell_type": "code",
     "checksum": "495cc27301551430ce2364c61c783c71",
     "grade": false,
     "grade_id": "cell-e0e5d11329a3ede4",
     "locked": true,
     "schema_version": 3,
     "solution": false,
     "task": false
    },
    "tags": [
     "remove-input"
    ]
   },
   "outputs": [],
   "source": [
    "# initialization for my classroom\n",
    "import os\n",
    "from datetime import datetime as dt\n",
    "\n",
    "def logfile(user=os.environ.get('JUPYTERHUB_USER') or 'jovyan'):\n",
    "    prefix='/srv'\n",
    "    if os.path.isdir(prefix) and os.access(prefix, os.W_OK):\n",
    "        prefix+=('/'+user)\n",
    "        if not os.path.isdir(prefix):\n",
    "            os.makedirs(prefix)\n",
    "    else:\n",
    "        prefix='.'\n",
    "    return prefix+'/'+dt.now().strftime('%Y%m%d')+'.log'\n",
    "\n",
    "path=logfile()\n",
    "#%logstop\n",
    "%logstart -otq $path append\n",
    "\n",
    "# [python - cannot override sys.excepthook - Stack Overflow](https://stackoverflow.com/questions/1261668/cannot-override-sys-excepthook/28758396)\n",
    "# https://github.com/ipython/ipython/blob/e6432249582e05f438303ce73d082a0351bb383e/IPython/core/interactiveshell.py#L1952\n",
    "\n",
    "import sys\n",
    "import traceback\n",
    "import IPython\n",
    "\n",
    "try:\n",
    "    _showtraceback\n",
    "except NameError:\n",
    "    _showtraceback=IPython.core.interactiveshell.InteractiveShell.showtraceback\n",
    "\n",
    "try:\n",
    "    _showsyntaxerror\n",
    "except NameError:\n",
    "    _showsyntaxerror=IPython.core.interactiveshell.InteractiveShell.showsyntaxerror\n",
    "\n",
    "import logging\n",
    "logging.basicConfig(filename=path.replace('.log','-exc.log'), format='%(asctime)s %(message)s', level=logging.ERROR, force=True)\n",
    "\n",
    "import sys\n",
    "import traceback\n",
    "import IPython\n",
    "\n",
    "def showtraceback(self, *args, **kwargs):\n",
    "    etype, value, tb = self._get_exc_info(kwargs.get('exc_tuple'))\n",
    "    stb = self.InteractiveTB.structured_traceback(\n",
    "        etype, value, tb, tb_offset=kwargs.get('tb_offset'))\n",
    "    logging.error(os.environ.get('JUPYTERHUB_USER') or 'jovyan')\n",
    "    logging.error(self.InteractiveTB.stb2text(stb))\n",
    "    _showtraceback(self, *args, **kwargs)\n",
    "\n",
    "def showsyntaxerror(self, *args, **kwargs):\n",
    "    etype, value, last_traceback = self._get_exc_info()\n",
    "    elist = traceback.extract_tb(last_traceback) if kwargs.get('running_compiled_code') else []\n",
    "    stb = self.SyntaxTB.structured_traceback(etype, value, elist)\n",
    "    logging.error(os.environ.get('JUPYTERHUB_USER') or 'jovyan')\n",
    "    logging.error(self.InteractiveTB.stb2text(stb))\n",
    "    _showsyntaxerror(self, *args, **kwargs)\n",
    "\n",
    "IPython.core.interactiveshell.InteractiveShell.showtraceback = showtraceback\n",
    "IPython.core.interactiveshell.InteractiveShell.showsyntaxerror = showsyntaxerror"
   ]
  },
  {
   "cell_type": "markdown",
   "id": "a3c92480",
   "metadata": {
    "deletable": false,
    "editable": false,
    "nbgrader": {
     "cell_type": "markdown",
     "checksum": "c6f55f7e923419ac94f106aeea5d6e9a",
     "grade": false,
     "grade_id": "cell-03de2c61fddc7b43",
     "locked": true,
     "schema_version": 3,
     "solution": false,
     "task": false
    }
   },
   "source": [
    "# 課題-1) 基数の素因数の積で表される数を列挙する"
   ]
  },
  {
   "cell_type": "markdown",
   "id": "b6ca869d",
   "metadata": {
    "deletable": false,
    "editable": false,
    "nbgrader": {
     "cell_type": "markdown",
     "checksum": "c0d276a4ceff2a99114317bfcbc5bee6",
     "grade": false,
     "grade_id": "cell-002911866e75f9ee",
     "locked": true,
     "schema_version": 3,
     "solution": false,
     "task": false
    }
   },
   "source": [
    "* [Radix - Wikipedia](https://en.wikipedia.org/wiki/Radix)\n",
    "* [Integer factorization - Wikipedia](https://en.wikipedia.org/wiki/Integer_factorization)\n",
    "    * [Integer factorization in python - Stack Overflow](https://stackoverflow.com/questions/32871539/integer-factorization-in-python)\n",
    "        * [Pollard's rho algorithm - Wikipedia](https://en.wikipedia.org/wiki/Pollard%27s_rho_algorithm)"
   ]
  },
  {
   "cell_type": "markdown",
   "id": "4310349f",
   "metadata": {
    "deletable": false,
    "editable": false,
    "nbgrader": {
     "cell_type": "markdown",
     "checksum": "0bbfce1201587dfbcfa43a3256b99099",
     "grade": false,
     "grade_id": "cell-c8f6a6abd0b7720a",
     "locked": true,
     "schema_version": 3,
     "solution": false,
     "task": false
    }
   },
   "source": [
    "## 因数を求める (素因数ではない)"
   ]
  },
  {
   "cell_type": "code",
   "execution_count": null,
   "id": "cdd72fbe",
   "metadata": {
    "deletable": false,
    "editable": false,
    "nbgrader": {
     "cell_type": "code",
     "checksum": "96b8e9d16ab5eed9a5cba6c73e56e80f",
     "grade": false,
     "grade_id": "cell-96b667f249f2bbd9",
     "locked": true,
     "schema_version": 3,
     "solution": false,
     "task": false
    }
   },
   "outputs": [],
   "source": [
    "# https://stackoverflow.com/questions/32871539/integer-factorization-in-python\n",
    "\n",
    "import math\n",
    "\n",
    "def factorization(n):\n",
    "\n",
    "    factors = []\n",
    "\n",
    "    def get_factor(n):\n",
    "        x_fixed = 2\n",
    "        cycle_size = 2\n",
    "        x = 2\n",
    "        factor = 1\n",
    "\n",
    "        while factor == 1:\n",
    "            for count in range(cycle_size):\n",
    "                if factor > 1: break\n",
    "                x = (x * x + 1) % n\n",
    "                factor = math.gcd(x - x_fixed, n)\n",
    "\n",
    "            cycle_size *= 2\n",
    "            x_fixed = x\n",
    "\n",
    "        return factor\n",
    "\n",
    "    while n > 1:\n",
    "        next = get_factor(n)\n",
    "        factors.append(next)\n",
    "        n //= next\n",
    "\n",
    "    return factors"
   ]
  },
  {
   "cell_type": "code",
   "execution_count": null,
   "id": "3f0ddf0e",
   "metadata": {
    "deletable": false,
    "editable": false,
    "nbgrader": {
     "cell_type": "code",
     "checksum": "a02713180755bdc7270205abe0f019e9",
     "grade": false,
     "grade_id": "cell-27887a847ed5b93b",
     "locked": true,
     "schema_version": 3,
     "solution": false,
     "task": false
    }
   },
   "outputs": [],
   "source": [
    "factorization(10), factorization(60)"
   ]
  },
  {
   "cell_type": "code",
   "execution_count": null,
   "id": "2b92c261",
   "metadata": {
    "deletable": false,
    "editable": false,
    "nbgrader": {
     "cell_type": "code",
     "checksum": "f9e9633380ac0695f3b8f63389c6170a",
     "grade": false,
     "grade_id": "cell-02a570c7fbab0db8",
     "locked": true,
     "schema_version": 3,
     "solution": false,
     "task": false
    }
   },
   "outputs": [],
   "source": [
    "import numpy as np\n",
    "\n",
    "np.prod(factorization(10)), np.prod(factorization(60))"
   ]
  },
  {
   "cell_type": "code",
   "execution_count": null,
   "id": "e2cc0f0d",
   "metadata": {},
   "outputs": [],
   "source": []
  },
  {
   "cell_type": "code",
   "execution_count": null,
   "id": "3a204297",
   "metadata": {},
   "outputs": [],
   "source": []
  },
  {
   "cell_type": "code",
   "execution_count": null,
   "id": "898290a9",
   "metadata": {},
   "outputs": [],
   "source": []
  },
  {
   "cell_type": "markdown",
   "id": "d8d1bbdd",
   "metadata": {
    "deletable": false,
    "editable": false,
    "nbgrader": {
     "cell_type": "markdown",
     "checksum": "45ff1d62884592f01bc023db8e6a643d",
     "grade": false,
     "grade_id": "cell-34c0e5fa0cb375d6",
     "locked": true,
     "schema_version": 3,
     "solution": false,
     "task": false
    }
   },
   "source": [
    "## 素数2, 3, 5を因数に持つ数を列挙する\n",
    "\n",
    "次の式で表される数を列挙する:\n",
    "\n",
    "$$2^i \\times 3^j \\times 5^k$$"
   ]
  },
  {
   "cell_type": "code",
   "execution_count": null,
   "id": "d36064ad",
   "metadata": {
    "deletable": false,
    "editable": false,
    "nbgrader": {
     "cell_type": "code",
     "checksum": "c7b20c6a3daf78020172e6265967baf0",
     "grade": false,
     "grade_id": "cell-084a65233e9833e8",
     "locked": true,
     "schema_version": 3,
     "solution": false,
     "task": false
    }
   },
   "outputs": [],
   "source": [
    "for i in range(2):\n",
    "    for j in range(2):\n",
    "        for k in range(2):\n",
    "            print(i,j,k)"
   ]
  },
  {
   "cell_type": "code",
   "execution_count": null,
   "id": "f183a042",
   "metadata": {
    "deletable": false,
    "editable": false,
    "nbgrader": {
     "cell_type": "code",
     "checksum": "e887d83bddba57537b9bd727c6cf7128",
     "grade": false,
     "grade_id": "cell-0384be7291f5c718",
     "locked": true,
     "schema_version": 3,
     "solution": false,
     "task": false
    }
   },
   "outputs": [],
   "source": [
    "for i in range(2):\n",
    "    for j in range(2):\n",
    "        for k in range(2):\n",
    "            print(2**i, 3**j, 5**k)"
   ]
  },
  {
   "cell_type": "code",
   "execution_count": null,
   "id": "4cf6613c",
   "metadata": {
    "deletable": false,
    "editable": false,
    "nbgrader": {
     "cell_type": "code",
     "checksum": "644279036ffbbd08de70195b13f202e5",
     "grade": false,
     "grade_id": "cell-6c6877ae9e22c51f",
     "locked": true,
     "schema_version": 3,
     "solution": false,
     "task": false
    }
   },
   "outputs": [],
   "source": [
    "for i in range(2):\n",
    "    for j in range(2):\n",
    "        for k in range(2):\n",
    "            print(2**i * 3**j * 5**k)"
   ]
  },
  {
   "cell_type": "code",
   "execution_count": null,
   "id": "30205b0f",
   "metadata": {
    "deletable": false,
    "editable": false,
    "nbgrader": {
     "cell_type": "code",
     "checksum": "8f98578c3205e6c4056cfa4dad7f9866",
     "grade": false,
     "grade_id": "cell-3d84a21af0744fb8",
     "locked": true,
     "schema_version": 3,
     "solution": false,
     "task": false
    }
   },
   "outputs": [],
   "source": [
    "l = []\n",
    "for i in range(2):\n",
    "    for j in range(2):\n",
    "        for k in range(2):\n",
    "            l.append(2**i * 3**j * 5**k)\n",
    "l"
   ]
  },
  {
   "cell_type": "code",
   "execution_count": null,
   "id": "37006ea3",
   "metadata": {
    "deletable": false,
    "editable": false,
    "nbgrader": {
     "cell_type": "code",
     "checksum": "87ec9d379ec263be71c5c7fe114c75b1",
     "grade": false,
     "grade_id": "cell-8d256f6b9b560b16",
     "locked": true,
     "schema_version": 3,
     "solution": false,
     "task": false
    }
   },
   "outputs": [],
   "source": [
    "sorted(l)"
   ]
  },
  {
   "cell_type": "code",
   "execution_count": null,
   "id": "d611ed85",
   "metadata": {
    "deletable": false,
    "editable": false,
    "nbgrader": {
     "cell_type": "code",
     "checksum": "fd29a59195e845e56dfccb1e017476a3",
     "grade": false,
     "grade_id": "cell-50a8c47208e992bb",
     "locked": true,
     "schema_version": 3,
     "solution": false,
     "task": false
    }
   },
   "outputs": [],
   "source": [
    "sorted(l, reverse=True)"
   ]
  },
  {
   "cell_type": "markdown",
   "id": "ba3699ba",
   "metadata": {
    "deletable": false,
    "editable": false,
    "nbgrader": {
     "cell_type": "markdown",
     "checksum": "1c0e401e3a92551f8abf9196197783ce",
     "grade": false,
     "grade_id": "cell-8c8fedcd8b37f339",
     "locked": true,
     "schema_version": 3,
     "solution": false,
     "task": false
    }
   },
   "source": [
    "課題-1) $2^{i} \\times 3^{j} \\times 5^{k}$ で表される数を列挙する関数 `generate_p` を定義せよ:\n",
    "  - 引数 `i_max`, `j_max`, `k_max` を取り、デフォルト値はそれぞれ `2` とする\n",
    "  - 整数 $0 \\leq $ `i` $\\lt$ `i_max`, $0 \\leq $ `j` $\\lt$ `j_max`, $0 \\leq $ `k` $\\lt$ `k_max` の全ての組み合わせを列挙する\n",
    "  - 昇順にソートされた整数のリストを戻り値とする"
   ]
  },
  {
   "cell_type": "code",
   "execution_count": null,
   "id": "b8e7b35a",
   "metadata": {
    "deletable": false,
    "nbgrader": {
     "cell_type": "code",
     "checksum": "7bce14c0a4e632c16c19f21d3b483cdb",
     "grade": false,
     "grade_id": "cell-372a3ee0df57ae3c",
     "locked": false,
     "schema_version": 3,
     "solution": true,
     "task": false
    }
   },
   "outputs": [],
   "source": [
    "def generate_p(i_max=2, j_max=2, k_max=2):\n",
    "    # YOUR CODE HERE\n",
    "    raise NotImplementedError()"
   ]
  },
  {
   "cell_type": "code",
   "execution_count": null,
   "id": "b7ef811e",
   "metadata": {},
   "outputs": [],
   "source": []
  },
  {
   "cell_type": "code",
   "execution_count": null,
   "id": "c32ba944",
   "metadata": {},
   "outputs": [],
   "source": []
  },
  {
   "cell_type": "code",
   "execution_count": null,
   "id": "f4944c33",
   "metadata": {},
   "outputs": [],
   "source": []
  },
  {
   "cell_type": "markdown",
   "id": "fdddad60",
   "metadata": {
    "deletable": false,
    "editable": false,
    "nbgrader": {
     "cell_type": "markdown",
     "checksum": "c82d93b04825d704df67e73fbf5c2c29",
     "grade": false,
     "grade_id": "cell-31ed83801ff7bf63",
     "locked": true,
     "schema_version": 3,
     "solution": false,
     "task": false
    }
   },
   "source": [
    "## 冗長な記述を短くする"
   ]
  },
  {
   "cell_type": "markdown",
   "id": "e8ddaa3c",
   "metadata": {
    "deletable": false,
    "editable": false,
    "nbgrader": {
     "cell_type": "markdown",
     "checksum": "3f1a9117f8714095ff73388610ecf3db",
     "grade": false,
     "grade_id": "cell-fcb05397126fca88",
     "locked": true,
     "schema_version": 3,
     "solution": false,
     "task": false
    }
   },
   "source": [
    "### `for` ループ\n",
    "\n",
    "整数 $0 \\leq $ `i` $\\lt$ `i_max`, $0 \\leq $ `j` $\\lt$ `j_max`, $0 \\leq $ `k` $\\lt$ `k_max` の全ての組み合わせを列挙する:"
   ]
  },
  {
   "cell_type": "markdown",
   "id": "b7563e36",
   "metadata": {
    "deletable": false,
    "editable": false,
    "nbgrader": {
     "cell_type": "markdown",
     "checksum": "e26d2680423f98b258ab95ded6ecb22d",
     "grade": false,
     "grade_id": "cell-6c28c28608d8febf",
     "locked": true,
     "schema_version": 3,
     "solution": false,
     "task": false
    }
   },
   "source": [
    "* `itertools.product()`\n",
    "  - [itertools — Functions creating iterators for efficient looping — Python 3.10.4 documentation](https://docs.python.org/3/library/itertools.html#itertools.product)"
   ]
  },
  {
   "cell_type": "code",
   "execution_count": null,
   "id": "b45cc42f",
   "metadata": {
    "deletable": false,
    "editable": false,
    "nbgrader": {
     "cell_type": "code",
     "checksum": "70c8b0ea2c43bf881804e7e5e44709fa",
     "grade": false,
     "grade_id": "cell-a69ffeab5c02c048",
     "locked": true,
     "schema_version": 3,
     "solution": false,
     "task": false
    }
   },
   "outputs": [],
   "source": [
    "import itertools\n",
    "\n",
    "itertools.product(range(2),range(2),range(2))"
   ]
  },
  {
   "cell_type": "code",
   "execution_count": null,
   "id": "e87b59e0",
   "metadata": {
    "deletable": false,
    "editable": false,
    "nbgrader": {
     "cell_type": "code",
     "checksum": "5e2b05a0b80cee7b883d54cfbf0d9e25",
     "grade": false,
     "grade_id": "cell-130550c6a984e2b0",
     "locked": true,
     "schema_version": 3,
     "solution": false,
     "task": false
    }
   },
   "outputs": [],
   "source": [
    "list(itertools.product(range(2),range(2),range(2)))"
   ]
  },
  {
   "cell_type": "code",
   "execution_count": null,
   "id": "ad0380b2",
   "metadata": {
    "deletable": false,
    "editable": false,
    "nbgrader": {
     "cell_type": "code",
     "checksum": "069be1813d7c5b12da3070d54664dc75",
     "grade": false,
     "grade_id": "cell-2d7624dadd2b4488",
     "locked": true,
     "schema_version": 3,
     "solution": false,
     "task": false
    }
   },
   "outputs": [],
   "source": [
    "for ijk in itertools.product(range(2),range(2),range(2)):\n",
    "    i,j,k = ijk\n",
    "    print(2**i * 3**j * 5**k)"
   ]
  },
  {
   "cell_type": "code",
   "execution_count": null,
   "id": "9a9dcacc",
   "metadata": {},
   "outputs": [],
   "source": []
  },
  {
   "cell_type": "code",
   "execution_count": null,
   "id": "c797a1d1",
   "metadata": {},
   "outputs": [],
   "source": []
  },
  {
   "cell_type": "code",
   "execution_count": null,
   "id": "568e1b80",
   "metadata": {},
   "outputs": [],
   "source": []
  },
  {
   "cell_type": "markdown",
   "id": "09cd711f",
   "metadata": {
    "deletable": false,
    "editable": false,
    "nbgrader": {
     "cell_type": "markdown",
     "checksum": "8c71bfa6de52c29edd8452348c093707",
     "grade": false,
     "grade_id": "cell-4791bfba2861a37e",
     "locked": true,
     "schema_version": 3,
     "solution": false,
     "task": false
    }
   },
   "source": [
    "### 掛け算"
   ]
  },
  {
   "cell_type": "markdown",
   "id": "7ea23edf",
   "metadata": {
    "deletable": false,
    "editable": false,
    "nbgrader": {
     "cell_type": "markdown",
     "checksum": "2b61d826aa4afe41b9f862063c08d919",
     "grade": false,
     "grade_id": "cell-66ea0e090cf0471f",
     "locked": true,
     "schema_version": 3,
     "solution": false,
     "task": false
    }
   },
   "source": [
    "* `zip()`\n",
    "  - [組み込み関数 — Python 3.10.4 ドキュメント](https://docs.python.org/ja/3/library/functions.html#zip)\n",
    "* `np.prod()`\n",
    "  - [numpy.prod — NumPy v1.22 Manual](https://numpy.org/doc/stable/reference/generated/numpy.prod.html)"
   ]
  },
  {
   "cell_type": "code",
   "execution_count": null,
   "id": "87082eff",
   "metadata": {
    "deletable": false,
    "editable": false,
    "nbgrader": {
     "cell_type": "code",
     "checksum": "3f5b1d2824b6d6dc67358ca5218fed83",
     "grade": false,
     "grade_id": "cell-74ba27a17fc7e30a",
     "locked": true,
     "schema_version": 3,
     "solution": false,
     "task": false
    }
   },
   "outputs": [],
   "source": [
    "zip([1,2,3], [3,2,1])"
   ]
  },
  {
   "cell_type": "code",
   "execution_count": null,
   "id": "0d4d97c6",
   "metadata": {
    "deletable": false,
    "editable": false,
    "nbgrader": {
     "cell_type": "code",
     "checksum": "3209186381324ae8c0843823e948a669",
     "grade": false,
     "grade_id": "cell-f46fe397a768467a",
     "locked": true,
     "schema_version": 3,
     "solution": false,
     "task": false
    }
   },
   "outputs": [],
   "source": [
    "list(zip([1,2,3], [3,2,1]))"
   ]
  },
  {
   "cell_type": "markdown",
   "id": "122c3f5f",
   "metadata": {
    "deletable": false,
    "editable": false,
    "nbgrader": {
     "cell_type": "markdown",
     "checksum": "40034c0ce29490b430d5342f2fe9037a",
     "grade": false,
     "grade_id": "cell-654266729d02830f",
     "locked": true,
     "schema_version": 3,
     "solution": false,
     "task": false
    }
   },
   "source": [
    "* `zip()` は転置行列を作る\n",
    "  - [python matrix transpose and zip - Stack Overflow](https://stackoverflow.com/questions/10169919/python-matrix-transpose-and-zip)"
   ]
  },
  {
   "cell_type": "code",
   "execution_count": null,
   "id": "6503a911",
   "metadata": {
    "deletable": false,
    "editable": false,
    "nbgrader": {
     "cell_type": "code",
     "checksum": "c8464e01da9f45fec7732b16cb7b11a3",
     "grade": false,
     "grade_id": "cell-75d700043aae1f68",
     "locked": true,
     "schema_version": 3,
     "solution": false,
     "task": false
    }
   },
   "outputs": [],
   "source": [
    "m = [[1,2,3],[3,2,1]]"
   ]
  },
  {
   "cell_type": "code",
   "execution_count": null,
   "id": "f0defe40",
   "metadata": {
    "deletable": false,
    "editable": false,
    "nbgrader": {
     "cell_type": "code",
     "checksum": "fb2a59ce6c01635c306f9dce0b4f1600",
     "grade": false,
     "grade_id": "cell-76ad140ab3976c99",
     "locked": true,
     "schema_version": 3,
     "solution": false,
     "task": false
    }
   },
   "outputs": [],
   "source": [
    "list(zip(*m))"
   ]
  },
  {
   "cell_type": "code",
   "execution_count": null,
   "id": "9a64a163",
   "metadata": {
    "deletable": false,
    "editable": false,
    "nbgrader": {
     "cell_type": "code",
     "checksum": "197548229f0fdb8716f18f9849276e9e",
     "grade": false,
     "grade_id": "cell-909279f55b65eedf",
     "locked": true,
     "schema_version": 3,
     "solution": false,
     "task": false
    }
   },
   "outputs": [],
   "source": [
    "for ijk in itertools.product(range(2),range(2),range(2)):\n",
    "    print(list(((2,3,5), ijk)))"
   ]
  },
  {
   "cell_type": "code",
   "execution_count": null,
   "id": "65cd7921",
   "metadata": {
    "deletable": false,
    "editable": false,
    "nbgrader": {
     "cell_type": "code",
     "checksum": "1d7c4cdbda6e9eb7dcec7b4f7cc424ba",
     "grade": false,
     "grade_id": "cell-923bb472ed6c9f57",
     "locked": true,
     "schema_version": 3,
     "solution": false,
     "task": false
    }
   },
   "outputs": [],
   "source": [
    "for ijk in itertools.product(range(2),range(2),range(2)):\n",
    "    print(list(zip((2,3,5), ijk)))"
   ]
  },
  {
   "cell_type": "code",
   "execution_count": null,
   "id": "b4bad9a7",
   "metadata": {
    "deletable": false,
    "editable": false,
    "nbgrader": {
     "cell_type": "code",
     "checksum": "463cd9691e56f4c29f8301420f92d271",
     "grade": false,
     "grade_id": "cell-e62c6f26e65e52df",
     "locked": true,
     "schema_version": 3,
     "solution": false,
     "task": false
    }
   },
   "outputs": [],
   "source": [
    "for ijk in itertools.product(range(2),range(2),range(2)):\n",
    "    for n,m in zip((2,3,5), ijk):\n",
    "        print(n**m, end=\", \")\n",
    "    print()"
   ]
  },
  {
   "cell_type": "code",
   "execution_count": null,
   "id": "fdff0899",
   "metadata": {
    "deletable": false,
    "editable": false,
    "nbgrader": {
     "cell_type": "code",
     "checksum": "c0d54b12f334db95ca92977da6721c71",
     "grade": false,
     "grade_id": "cell-1a26228867c49640",
     "locked": true,
     "schema_version": 3,
     "solution": false,
     "task": false
    }
   },
   "outputs": [],
   "source": [
    "for ijk in itertools.product(range(2),range(2),range(2)):\n",
    "    print([n**m for n,m in zip((2,3,5), ijk)])"
   ]
  },
  {
   "cell_type": "code",
   "execution_count": null,
   "id": "37b3948a",
   "metadata": {
    "deletable": false,
    "editable": false,
    "nbgrader": {
     "cell_type": "code",
     "checksum": "7f16f9ad8945e2efe536fcc110e19e35",
     "grade": false,
     "grade_id": "cell-5617d6a43fdc44eb",
     "locked": true,
     "schema_version": 3,
     "solution": false,
     "task": false
    }
   },
   "outputs": [],
   "source": [
    "for ijk in itertools.product(range(2),range(2),range(2)):\n",
    "    print(np.prod([n**m for n,m in zip((2,3,5), ijk)]))"
   ]
  },
  {
   "cell_type": "code",
   "execution_count": null,
   "id": "0b07e9df",
   "metadata": {
    "deletable": false,
    "editable": false,
    "nbgrader": {
     "cell_type": "code",
     "checksum": "63cfb919f0d95ffd57c4fb85b1000bca",
     "grade": false,
     "grade_id": "cell-b973ace948930cb2",
     "locked": true,
     "schema_version": 3,
     "solution": false,
     "task": false
    }
   },
   "outputs": [],
   "source": [
    "[np.prod([n**m for n,m in zip((2,3,5), ijk)]) for ijk in itertools.product(range(2),range(2),range(2))]"
   ]
  },
  {
   "cell_type": "code",
   "execution_count": null,
   "id": "caac7565",
   "metadata": {},
   "outputs": [],
   "source": []
  },
  {
   "cell_type": "code",
   "execution_count": null,
   "id": "affd12f8",
   "metadata": {},
   "outputs": [],
   "source": []
  },
  {
   "cell_type": "code",
   "execution_count": null,
   "id": "4e804bc1",
   "metadata": {},
   "outputs": [],
   "source": []
  },
  {
   "cell_type": "markdown",
   "id": "3ea23901",
   "metadata": {},
   "source": [
    "## 補足"
   ]
  },
  {
   "cell_type": "code",
   "execution_count": null,
   "id": "2a124bb2",
   "metadata": {},
   "outputs": [],
   "source": [
    "i = itertools.product(range(2),range(2),range(2))\n",
    "i"
   ]
  },
  {
   "cell_type": "code",
   "execution_count": null,
   "id": "0d983dd8",
   "metadata": {},
   "outputs": [],
   "source": [
    "next(i)"
   ]
  },
  {
   "cell_type": "code",
   "execution_count": null,
   "id": "510e66e1",
   "metadata": {},
   "outputs": [],
   "source": [
    "while True:\n",
    "    try:\n",
    "        print(next(i))\n",
    "    except StopIteration:\n",
    "        break"
   ]
  },
  {
   "cell_type": "code",
   "execution_count": null,
   "id": "3968d379",
   "metadata": {},
   "outputs": [],
   "source": [
    "next(i)"
   ]
  },
  {
   "cell_type": "markdown",
   "id": "57d74bd6",
   "metadata": {
    "deletable": false,
    "editable": false,
    "nbgrader": {
     "cell_type": "markdown",
     "checksum": "40ec76d04c3f75f94858d9931952199e",
     "grade": false,
     "grade_id": "cell-a640ea5fb9d279c1",
     "locked": true,
     "schema_version": 3,
     "solution": false,
     "task": false
    }
   },
   "source": [
    "---\n",
    "以下、採点用のセルにつき編集できない:"
   ]
  },
  {
   "cell_type": "code",
   "execution_count": null,
   "id": "aae0d8bf",
   "metadata": {
    "deletable": false,
    "editable": false,
    "nbgrader": {
     "cell_type": "code",
     "checksum": "64428456c618bb748f017e71aee91cd2",
     "grade": false,
     "grade_id": "cell-fe046c253d2dea0c",
     "locked": true,
     "schema_version": 3,
     "solution": false,
     "task": false
    }
   },
   "outputs": [],
   "source": [
    "from nose.tools import assert_equal, assert_true"
   ]
  },
  {
   "cell_type": "code",
   "execution_count": null,
   "id": "d971349c",
   "metadata": {
    "deletable": false,
    "editable": false,
    "nbgrader": {
     "cell_type": "code",
     "checksum": "d07e30230b0ce6f17fe0fdf504da2637",
     "grade": true,
     "grade_id": "cell-7e61bf855d1b8e48",
     "locked": true,
     "points": 1,
     "schema_version": 3,
     "solution": false,
     "task": false
    }
   },
   "outputs": [],
   "source": [
    "assert_equal(generate_p(), [1, 2, 3, 5, 6, 10, 15, 30])"
   ]
  },
  {
   "cell_type": "code",
   "execution_count": null,
   "id": "1d37e2cd",
   "metadata": {
    "deletable": false,
    "editable": false,
    "nbgrader": {
     "cell_type": "code",
     "checksum": "382788e090a5d66696f1c6579a610b8f",
     "grade": true,
     "grade_id": "cell-0d5dae17ab3f9771",
     "locked": true,
     "points": 1,
     "schema_version": 3,
     "solution": false,
     "task": false
    }
   },
   "outputs": [],
   "source": [
    "assert_equal(generate_p(4,3,2), [1, 2, 3, 4, 5, 6, 8, 9, 10, 12, 15, 18, 20, 24, 30, 36, 40, 45, 60, 72, 90, 120, 180, 360])"
   ]
  }
 ],
 "metadata": {
  "kernelspec": {
   "display_name": "Python 3 (ipykernel)",
   "language": "python",
   "name": "python3"
  },
  "language_info": {
   "codemirror_mode": {
    "name": "ipython",
    "version": 3
   },
   "file_extension": ".py",
   "mimetype": "text/x-python",
   "name": "python",
   "nbconvert_exporter": "python",
   "pygments_lexer": "ipython3",
   "version": "3.9.12"
  },
  "toc": {
   "base_numbering": 1,
   "nav_menu": {},
   "number_sections": true,
   "sideBar": true,
   "skip_h1_title": false,
   "title_cell": "Table of Contents",
   "title_sidebar": "Contents",
   "toc_cell": false,
   "toc_position": {},
   "toc_section_display": true,
   "toc_window_display": false
  }
 },
 "nbformat": 4,
 "nbformat_minor": 5
}
