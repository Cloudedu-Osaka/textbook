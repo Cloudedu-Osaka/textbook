{
 "cells": [
  {
   "cell_type": "code",
   "execution_count": 1,
   "id": "6cc32ea4-0658-40a9-97a4-702371cd6dcc",
   "metadata": {
    "hide_input": true,
    "init_cell": true,
    "tags": [
     "remove-input"
    ]
   },
   "outputs": [],
   "source": [
    "# initialization for my classroom\n",
    "import os\n",
    "from datetime import datetime as dt\n",
    "\n",
    "def logfile(user=os.environ.get('JUPYTERHUB_USER') or 'jovyan'):\n",
    "    prefix='/srv'\n",
    "    if os.path.isdir(prefix) and os.access(prefix, os.W_OK):\n",
    "        prefix+=('/'+user)\n",
    "        if not os.path.isdir(prefix):\n",
    "            os.makedirs(prefix)\n",
    "    else:\n",
    "        prefix='.'\n",
    "    return prefix+'/'+dt.now().strftime('%Y%m%d')+'.log'\n",
    "\n",
    "path=logfile()\n",
    "#%logstop\n",
    "%logstart -otq $path append\n",
    "\n",
    "# [python - cannot override sys.excepthook - Stack Overflow](https://stackoverflow.com/questions/1261668/cannot-override-sys-excepthook/28758396)\n",
    "# https://github.com/ipython/ipython/blob/e6432249582e05f438303ce73d082a0351bb383e/IPython/core/interactiveshell.py#L1952\n",
    "\n",
    "import sys\n",
    "import traceback\n",
    "import IPython\n",
    "\n",
    "try:\n",
    "    _showtraceback\n",
    "except NameError:\n",
    "    _showtraceback=IPython.core.interactiveshell.InteractiveShell.showtraceback\n",
    "\n",
    "try:\n",
    "    _showsyntaxerror\n",
    "except NameError:\n",
    "    _showsyntaxerror=IPython.core.interactiveshell.InteractiveShell.showsyntaxerror\n",
    "\n",
    "import logging\n",
    "logging.basicConfig(filename=path.replace('.log','-exc.log'), format='%(asctime)s %(message)s', level=logging.ERROR, force=True)\n",
    "\n",
    "import sys\n",
    "import traceback\n",
    "import IPython\n",
    "\n",
    "def showtraceback(self, *args, **kwargs):\n",
    "    etype, value, tb = self._get_exc_info(kwargs.get('exc_tuple'))\n",
    "    stb = self.InteractiveTB.structured_traceback(\n",
    "        etype, value, tb, tb_offset=kwargs.get('tb_offset'))\n",
    "    logging.error(os.environ.get('JUPYTERHUB_USER') or 'jovyan')\n",
    "    logging.error(self.InteractiveTB.stb2text(stb))\n",
    "    _showtraceback(self, *args, **kwargs)\n",
    "\n",
    "def showsyntaxerror(self, *args, **kwargs):\n",
    "    etype, value, last_traceback = self._get_exc_info()\n",
    "    elist = traceback.extract_tb(last_traceback) if kwargs.get('running_compiled_code') else []\n",
    "    stb = self.SyntaxTB.structured_traceback(etype, value, elist)\n",
    "    logging.error(os.environ.get('JUPYTERHUB_USER') or 'jovyan')\n",
    "    logging.error(self.InteractiveTB.stb2text(stb))\n",
    "    _showsyntaxerror(self, *args, **kwargs)\n",
    "\n",
    "IPython.core.interactiveshell.InteractiveShell.showtraceback = showtraceback\n",
    "IPython.core.interactiveshell.InteractiveShell.showsyntaxerror = showsyntaxerror"
   ]
  },
  {
   "cell_type": "markdown",
   "id": "c25d99f1",
   "metadata": {},
   "source": [
    "# Gene\n",
    "\n",
    "* [Gene - Wikipedia](https://en.wikipedia.org/wiki/Gene#DNA)\n",
    "    - \"A gene is a region of *DNA* that encodes function. A *chromosome* consists of a long strand of DNA containing many genes. A human chromosome can have up to 500 million base pairs of DNA with thousands of genes.\""
   ]
  },
  {
   "cell_type": "markdown",
   "id": "37beebbb-8bc7-4229-b2d4-58cd35ce234b",
   "metadata": {},
   "source": [
    "## Inheritance\n",
    "\n",
    "* [Heredity - Wikipedia](https://en.wikipedia.org/wiki/Heredity)\n",
    "* (1865) [Mendelian inheritance - Wikipedia](https://en.wikipedia.org/wiki/Mendelian_inheritance)\n",
    "  - (1822 &ndash; 1884) [Gregor Mendel - Wikipedia](https://en.wikipedia.org/wiki/Gregor_Mendel)"
   ]
  },
  {
   "cell_type": "markdown",
   "id": "9786f58c-f5db-48df-9f59-a38bebf3739f",
   "metadata": {},
   "source": [
    "## Chromosome\n",
    "\n",
    "* [Chromatin - Wikipedia](https://en.wikipedia.org/wiki/Chromatin)\n",
    "  - (1843 &ndash; 1905) [Walther Flemming - Wikipedia](https://en.wikipedia.org/wiki/Walther_Flemming)\n",
    "* (1888) [Chromosome - Wikipedia](https://en.wikipedia.org/wiki/Chromosome)\n",
    "  - (1836 &ndash; 1921) [Heinrich Wilhelm Gottfried von Waldeyer-Hartz - Wikipedia](https://en.wikipedia.org/wiki/Heinrich_Wilhelm_Gottfried_von_Waldeyer-Hartz)\n",
    "* [Homologous chromosome - Wikipedia](https://en.wikipedia.org/wiki/Homologous_chromosome)\n",
    "  * [Chromatid - Wikipedia](https://en.wikipedia.org/wiki/Chromatid)\n",
    "  * [Centromere - Wikipedia](https://en.wikipedia.org/wiki/Centromere)\n",
    "    - [Sister chromatids - Wikipedia](https://en.wikipedia.org/wiki/Sister_chromatids)"
   ]
  },
  {
   "cell_type": "markdown",
   "id": "2bf2c542-0902-49c0-9273-82f38fc8455b",
   "metadata": {},
   "source": [
    "## DNA\n",
    "\n",
    "* (1953) [Nucleic acid double helix - Wikipedia](https://en.wikipedia.org/wiki/Nucleic_acid_double_helix), [Base pair - Wikipedia](https://en.wikipedia.org/wiki/Base_pair)\n",
    "  - (1928 &ndash; ) [James Watson - Wikipedia](https://en.wikipedia.org/wiki/James_Watson#Publishing_The_Double_Helix)\n",
    "  - (1916 &ndash; 2004) [Francis Crick - Wikipedia](https://en.wikipedia.org/wiki/Francis_Crick)"
   ]
  },
  {
   "cell_type": "markdown",
   "id": "12eefa10-74e1-4f87-82de-9fa904c35e6b",
   "metadata": {},
   "source": [
    "![fig-1](https://upload.wikimedia.org/wikipedia/commons/4/4b/Chromatin_Structures.png)"
   ]
  },
  {
   "cell_type": "markdown",
   "id": "bb01605d-e9a1-46fc-89a8-bb9117902924",
   "metadata": {},
   "source": [
    "* [Histone - Wikipedia](https://en.wikipedia.org/wiki/Histone)"
   ]
  },
  {
   "cell_type": "markdown",
   "id": "efef1529-abf9-47da-b262-88d85ef4764f",
   "metadata": {},
   "source": [
    "![fig-2](https://upload.wikimedia.org/wikipedia/commons/6/6b/1aoi.jpg)"
   ]
  },
  {
   "cell_type": "markdown",
   "id": "d9ccb282-e9a1-4027-a77f-19cbe0ac5b89",
   "metadata": {},
   "source": [
    "## Fetching genetic sequence"
   ]
  },
  {
   "cell_type": "markdown",
   "id": "92bcf76d-9f44-4be3-a203-697a42fece93",
   "metadata": {},
   "source": [
    "* [Nucleic acid sequence - Wikipedia](https://en.wikipedia.org/wiki/Nucleic_acid_sequence)\n",
    "  - [Nucleic acid sequence - Wikipedia](https://en.wikipedia.org/wiki/Nucleic_acid_sequence#Digital_representation)#Digital_representation\n",
    "    - [FASTA format - Wikipedia](https://en.wikipedia.org/wiki/FASTA_format)\n",
    "  - [Sequence database - Wikipedia](https://en.wikipedia.org/wiki/Sequence_database)\n",
    "    - [GenBank - Wikipedia](https://en.wikipedia.org/wiki/GenBank)\n",
    "    - [Protein Data Bank - Wikipedia](https://en.wikipedia.org/wiki/Protein_Data_Bank)\n",
    "    - [UniProt - Wikipedia](https://en.wikipedia.org/wiki/UniProt#UniProtKB.2FSwiss-Prot)"
   ]
  },
  {
   "cell_type": "markdown",
   "id": "f1d81f61-3a03-46ca-9cb7-849ad160fc13",
   "metadata": {},
   "source": [
    "### method-1"
   ]
  },
  {
   "cell_type": "code",
   "execution_count": 6,
   "id": "42e64f9b-d66b-4b81-b826-adb539e7d72e",
   "metadata": {},
   "outputs": [],
   "source": [
    "import gzip\n",
    "from urllib.request import urlopen\n",
    "from io import StringIO\n",
    "\n",
    "res = urlopen(\"https://ftp.ncbi.nlm.nih.gov/genomes/all/GCF/000/005/845/GCF_000005845.2_ASM584v2/GCF_000005845.2_ASM584v2_genomic.fna.gz\")\n",
    "sio = StringIO(gzip.decompress(res.read()).decode(\"utf-8\"))\n",
    "\n",
    "from Bio import SeqIO\n",
    "from Bio.Seq import Seq\n",
    "seq = SeqIO.parse(sio, \"fasta\")"
   ]
  },
  {
   "cell_type": "code",
   "execution_count": 7,
   "id": "0e8888f4-0802-418b-a249-e29400cc399a",
   "metadata": {},
   "outputs": [],
   "source": [
    "MG1655 = next(seq)"
   ]
  },
  {
   "cell_type": "code",
   "execution_count": 8,
   "id": "38f1c222-d234-4b12-8eb8-a5d06037eb88",
   "metadata": {},
   "outputs": [
    {
     "data": {
      "text/plain": [
       "4641652"
      ]
     },
     "execution_count": 8,
     "metadata": {},
     "output_type": "execute_result"
    }
   ],
   "source": [
    "len(MG1655.seq)"
   ]
  },
  {
   "cell_type": "code",
   "execution_count": null,
   "id": "2db8009d",
   "metadata": {},
   "outputs": [],
   "source": []
  },
  {
   "cell_type": "code",
   "execution_count": null,
   "id": "ba6dcee9",
   "metadata": {},
   "outputs": [],
   "source": []
  },
  {
   "cell_type": "code",
   "execution_count": null,
   "id": "0db48ae8",
   "metadata": {},
   "outputs": [],
   "source": []
  },
  {
   "cell_type": "markdown",
   "id": "5fc042dd-cc31-4138-a8b7-2938f9441916",
   "metadata": {},
   "source": [
    "### method-2"
   ]
  },
  {
   "cell_type": "code",
   "execution_count": 6,
   "id": "1a891a9b-cc04-4588-8d1f-d032c91cab0e",
   "metadata": {},
   "outputs": [],
   "source": [
    "from pydna.genbank import Genbank"
   ]
  },
  {
   "cell_type": "code",
   "execution_count": 7,
   "id": "fbb32032-de44-4fa7-a316-a125b3f8192f",
   "metadata": {},
   "outputs": [],
   "source": [
    "gb = Genbank(\"u416528d@ecs.osaka-u.ac.jp\")"
   ]
  },
  {
   "cell_type": "code",
   "execution_count": 17,
   "id": "ec32f71d-af1e-40d5-b303-d9d13c9cee8f",
   "metadata": {},
   "outputs": [],
   "source": [
    "MG1655 = gb.nucleotide(\"U00096.3\")"
   ]
  },
  {
   "cell_type": "code",
   "execution_count": 19,
   "id": "5bbe72dd-4cbb-421a-8eac-8619e4436dbb",
   "metadata": {},
   "outputs": [
    {
     "data": {
      "text/html": [
       "<a href='https://www.ncbi.nlm.nih.gov/nuccore/U00096.3?from=&to=&strand=1' target='_blank'>U00096.3</a>"
      ],
      "text/plain": [
       "Gbank(U00096.3)(o4641652)"
      ]
     },
     "execution_count": 19,
     "metadata": {},
     "output_type": "execute_result"
    }
   ],
   "source": [
    "MG1655"
   ]
  },
  {
   "cell_type": "code",
   "execution_count": 9,
   "id": "34a02073-354d-4993-80a4-65fc81266866",
   "metadata": {},
   "outputs": [
    {
     "data": {
      "text/plain": [
       "4641652"
      ]
     },
     "execution_count": 9,
     "metadata": {},
     "output_type": "execute_result"
    }
   ],
   "source": [
    "len(MG1655.seq)"
   ]
  },
  {
   "cell_type": "code",
   "execution_count": null,
   "id": "86d5f16e",
   "metadata": {},
   "outputs": [],
   "source": []
  },
  {
   "cell_type": "code",
   "execution_count": null,
   "id": "ee7740b0",
   "metadata": {},
   "outputs": [],
   "source": []
  },
  {
   "cell_type": "code",
   "execution_count": null,
   "id": "5d46e8c8",
   "metadata": {},
   "outputs": [],
   "source": []
  },
  {
   "cell_type": "markdown",
   "id": "248bc2c1-5104-45e5-8e2b-a384a0e2ca3e",
   "metadata": {},
   "source": [
    "### six-frame translation"
   ]
  },
  {
   "cell_type": "code",
   "execution_count": 13,
   "id": "6cb810c3-b9f3-4923-9152-ddc48f1c0711",
   "metadata": {},
   "outputs": [
    {
     "name": "stdout",
     "output_type": "stream",
     "text": [
      "AGCTTTTCATTCTGACTGCAACGGGCAATA SFSF*LQRAI\n",
      "GCTTTTCATTCTGACTGCAACGGGCAATAT AFHSDCNGQY\n",
      "CTTTTCATTCTGACTGCAACGGGCAATATG LFILTATGNM\n"
     ]
    }
   ],
   "source": [
    "for i in range(3):\n",
    "    sseq = MG1655.seq[i:i+30]\n",
    "    print(sseq, sseq.translate())"
   ]
  },
  {
   "cell_type": "code",
   "execution_count": 15,
   "id": "7cbd5f99-342d-4891-a373-98e570df53c3",
   "metadata": {},
   "outputs": [
    {
     "name": "stdout",
     "output_type": "stream",
     "text": [
      "GAAAAATACTTACTAAGGCGTTTTTTATTT EKYLLRRFLF\n",
      "AAAAATACTTACTAAGGCGTTTTTTATTTG KNTY*GVFYL\n",
      "AAAATACTTACTAAGGCGTTTTTTATTTGG KILTKAFFIW\n"
     ]
    }
   ],
   "source": [
    "for i in range(3):\n",
    "    sseq = MG1655.seq.reverse_complement()[i:i+30]\n",
    "    print(sseq, sseq.translate())"
   ]
  },
  {
   "cell_type": "code",
   "execution_count": null,
   "id": "4a69521a",
   "metadata": {},
   "outputs": [],
   "source": []
  },
  {
   "cell_type": "code",
   "execution_count": null,
   "id": "3476042a",
   "metadata": {},
   "outputs": [],
   "source": []
  },
  {
   "cell_type": "code",
   "execution_count": null,
   "id": "ebb8ca98",
   "metadata": {},
   "outputs": [],
   "source": []
  }
 ],
 "metadata": {
  "kernelspec": {
   "display_name": "Python 3 (ipykernel)",
   "language": "python",
   "name": "python3"
  },
  "language_info": {
   "codemirror_mode": {
    "name": "ipython",
    "version": 3
   },
   "file_extension": ".py",
   "mimetype": "text/x-python",
   "name": "python",
   "nbconvert_exporter": "python",
   "pygments_lexer": "ipython3",
   "version": "3.9.12"
  },
  "toc": {
   "base_numbering": 1,
   "nav_menu": {},
   "number_sections": true,
   "sideBar": true,
   "skip_h1_title": false,
   "title_cell": "Table of Contents",
   "title_sidebar": "Contents",
   "toc_cell": false,
   "toc_position": {},
   "toc_section_display": true,
   "toc_window_display": false
  }
 },
 "nbformat": 4,
 "nbformat_minor": 5
}
