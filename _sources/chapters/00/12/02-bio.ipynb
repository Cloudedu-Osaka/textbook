{
 "cells": [
  {
   "cell_type": "code",
   "execution_count": null,
   "id": "ee2fbeca-0282-4848-9536-735720c15b7e",
   "metadata": {
    "hide_input": true,
    "init_cell": true,
    "tags": [
     "remove-input"
    ]
   },
   "outputs": [],
   "source": [
    "# initialization for my classroom\n",
    "import os\n",
    "from datetime import datetime as dt\n",
    "\n",
    "def logfile(user=os.environ.get('JUPYTERHUB_USER') or 'jovyan'):\n",
    "    prefix='/srv'\n",
    "    if os.path.isdir(prefix) and os.access(prefix, os.W_OK):\n",
    "        prefix+=('/'+user)\n",
    "        if not os.path.isdir(prefix):\n",
    "            os.makedirs(prefix)\n",
    "    else:\n",
    "        prefix='.'\n",
    "    return prefix+'/'+dt.now().strftime('%Y%m%d')+'.log'\n",
    "\n",
    "path=logfile()\n",
    "#%logstop\n",
    "%logstart -otq $path append\n",
    "\n",
    "# [python - cannot override sys.excepthook - Stack Overflow](https://stackoverflow.com/questions/1261668/cannot-override-sys-excepthook/28758396)\n",
    "# https://github.com/ipython/ipython/blob/e6432249582e05f438303ce73d082a0351bb383e/IPython/core/interactiveshell.py#L1952\n",
    "\n",
    "import sys\n",
    "import traceback\n",
    "import IPython\n",
    "\n",
    "try:\n",
    "    _showtraceback\n",
    "except NameError:\n",
    "    _showtraceback=IPython.core.interactiveshell.InteractiveShell.showtraceback\n",
    "\n",
    "try:\n",
    "    _showsyntaxerror\n",
    "except NameError:\n",
    "    _showsyntaxerror=IPython.core.interactiveshell.InteractiveShell.showsyntaxerror\n",
    "\n",
    "import logging\n",
    "logging.basicConfig(filename=path.replace('.log','-exc.log'), format='%(asctime)s %(message)s', level=logging.ERROR, force=True)\n",
    "\n",
    "import sys\n",
    "import traceback\n",
    "import IPython\n",
    "\n",
    "def showtraceback(self, *args, **kwargs):\n",
    "    etype, value, tb = self._get_exc_info(kwargs.get('exc_tuple'))\n",
    "    stb = self.InteractiveTB.structured_traceback(\n",
    "        etype, value, tb, tb_offset=kwargs.get('tb_offset'))\n",
    "    logging.error(os.environ.get('JUPYTERHUB_USER') or 'jovyan')\n",
    "    logging.error(self.InteractiveTB.stb2text(stb))\n",
    "    _showtraceback(self, *args, **kwargs)\n",
    "\n",
    "def showsyntaxerror(self, *args, **kwargs):\n",
    "    etype, value, last_traceback = self._get_exc_info()\n",
    "    elist = traceback.extract_tb(last_traceback) if kwargs.get('running_compiled_code') else []\n",
    "    stb = self.SyntaxTB.structured_traceback(etype, value, elist)\n",
    "    logging.error(os.environ.get('JUPYTERHUB_USER') or 'jovyan')\n",
    "    logging.error(self.InteractiveTB.stb2text(stb))\n",
    "    _showsyntaxerror(self, *args, **kwargs)\n",
    "\n",
    "IPython.core.interactiveshell.InteractiveShell.showtraceback = showtraceback\n",
    "IPython.core.interactiveshell.InteractiveShell.showsyntaxerror = showsyntaxerror"
   ]
  },
  {
   "cell_type": "markdown",
   "id": "950f947d-cc30-421b-a9ae-54258ff1f911",
   "metadata": {
    "tags": []
   },
   "source": [
    "# Central dogma"
   ]
  },
  {
   "cell_type": "markdown",
   "id": "56e54630-2b14-4ffd-8b05-de637903fdb1",
   "metadata": {},
   "source": [
    "* [Central dogma of molecular biology - Wikipedia](https://en.wikipedia.org/wiki/Central_dogma_of_molecular_biology)\n",
    "  * [DNA replication - Wikipedia](https://en.wikipedia.org/wiki/DNA_replication) (複製)\n",
    "  * [Transcription (biology) - Wikipedia](https://en.wikipedia.org/wiki/Transcription_%28biology%29) (転写)\n",
    "  * [Translation (biology) - Wikipedia](https://en.wikipedia.org/wiki/Translation_%28biology%29#:~:text=In%20molecular%20biology%20and%20genetics,process%20is%20called%20gene%20expression.) (翻訳)"
   ]
  },
  {
   "cell_type": "markdown",
   "id": "26625500-2240-4b90-a62e-f42149af386a",
   "metadata": {},
   "source": [
    "![fig-4](https://upload.wikimedia.org/wikipedia/commons/6/68/Central_Dogma_of_Molecular_Biochemistry_with_Enzymes.jpg)"
   ]
  },
  {
   "cell_type": "markdown",
   "id": "bdc7704b-f1f4-4343-94b0-4b19e564cab2",
   "metadata": {},
   "source": [
    "# Transcription"
   ]
  },
  {
   "cell_type": "markdown",
   "id": "24edb40a-ad91-4d9b-bf6c-edc497b36eeb",
   "metadata": {},
   "source": [
    "* [PDB-101: Molecule of the Month: RNA Polymerase](https://pdb101.rcsb.org/motm/40)\n",
    "* [RNA polymerase - Wikipedia](https://en.wikipedia.org/wiki/RNA_polymerase)\n",
    "  * [Bacteria - Wikipedia](https://en.wikipedia.org/wiki/Bacteria)\n",
    "    * [Bacterial transcription - Wikipedia](https://en.wikipedia.org/wiki/Bacterial_transcription)\n",
    "  * [Eukaryote - Wikipedia](https://en.wikipedia.org/wiki/Eukaryote)\n",
    "    * [RNA polymerase I - Wikipedia](https://en.wikipedia.org/wiki/RNA_polymerase_I)\n",
    "    * [RNA polymerase II - Wikipedia](https://en.wikipedia.org/wiki/RNA_polymerase_II)\n",
    "      - (1947 &ndash; ) [Roger D. Kornberg - Wikipedia](https://en.wikipedia.org/wiki/Roger_D._Kornberg)"
   ]
  },
  {
   "cell_type": "markdown",
   "id": "61d31dee-06c3-4dab-8745-1f1f3d84a393",
   "metadata": {},
   "source": [
    "![fig-11](https://cdn.rcsb.org/pdb101/motm/40/1i6h-composite.gif)"
   ]
  },
  {
   "cell_type": "markdown",
   "id": "bfb2346d-2bad-4c0e-8249-74d26b157c8c",
   "metadata": {},
   "source": [
    "![fig-6](https://upload.wikimedia.org/wikipedia/commons/5/5c/Process_of_transcription_%2813080846733%29.jpg)"
   ]
  },
  {
   "cell_type": "code",
   "execution_count": null,
   "id": "67989a64-78d1-429d-a827-20a2ad5a29fd",
   "metadata": {},
   "outputs": [],
   "source": []
  },
  {
   "cell_type": "markdown",
   "id": "ebbf13bc-451e-4230-b2ec-e6dfa3220220",
   "metadata": {
    "tags": []
   },
   "source": [
    "## Escherichia coli"
   ]
  },
  {
   "cell_type": "markdown",
   "id": "85e6bac3-242f-4a28-bf67-58bc5611e2af",
   "metadata": {},
   "source": [
    "* [Escherichia coli - Wikipedia](https://en.wikipedia.org/wiki/Escherichia_coli)\n",
    "  - [Escherichia coli in molecular biology - Wikipedia](https://en.wikipedia.org/wiki/Escherichia_coli_in_molecular_biology)\n",
    "* [細胞夜話 第1回：Escherichia coli K-12株 - バイオダイレクトメール vol.36](https://www.cytivalifesciences.co.jp/newsletter/biodirect_mail/cell_story/36.html)"
   ]
  },
  {
   "cell_type": "markdown",
   "id": "8f4aa4cb-7bb4-4b30-bdd4-ea965b168eb7",
   "metadata": {},
   "source": [
    "### EcoCyc = \"E. Coli\" + \"Encycle\""
   ]
  },
  {
   "cell_type": "markdown",
   "id": "aa6422ca-d554-4e63-81f0-b6a3223c24ae",
   "metadata": {},
   "source": [
    "* [BioCyc Pathway/Genome Database Collection](https://biocyc.org/)\n",
    "  - [EcoCyc: Encyclopedia of E. coli Genes and Metabolism](https://ecocyc.org/)"
   ]
  },
  {
   "cell_type": "markdown",
   "id": "2c6f414b-f38a-4ecb-b5c4-99c2a43cb3a2",
   "metadata": {},
   "source": [
    "### Eco = \"Escherichia Coli\""
   ]
  },
  {
   "cell_type": "markdown",
   "id": "b085d5a9-f435-43fa-a1d7-093b7b7e377e",
   "metadata": {},
   "source": [
    "* (1886) [Theodor Escherich - Wikipedia](https://en.wikipedia.org/wiki/Theodor_Escherich)\n",
    "  - [Escherichia coli - Wikipedia](https://en.wikipedia.org/wiki/Escherichia_coli)\n",
    "    - (1972) [Recombinant DNA - Wikipedia](https://en.wikipedia.org/wiki/Recombinant_DNA)\n",
    "      - [Plasmid - Wikipedia](https://en.wikipedia.org/wiki/Plasmid)\n",
    "    - (1961) [lac operon - Wikipedia](https://en.wikipedia.org/wiki/Lac_operon)"
   ]
  },
  {
   "cell_type": "markdown",
   "id": "bb37b4e8-41a1-4128-b02d-b1efc11cc456",
   "metadata": {},
   "source": [
    "## E.coli MG1655の遺伝情報をダウンロードする"
   ]
  },
  {
   "cell_type": "code",
   "execution_count": 2,
   "id": "189a6ca3-9efe-4318-89f6-5edd0ad3edad",
   "metadata": {},
   "outputs": [],
   "source": [
    "from pydna.genbank import Genbank"
   ]
  },
  {
   "cell_type": "code",
   "execution_count": 3,
   "id": "12cea55f-f393-409e-8efa-85de9e7806a2",
   "metadata": {},
   "outputs": [],
   "source": [
    "gb = Genbank(\"u416528d@ecs.osaka-u.ac.jp\")"
   ]
  },
  {
   "cell_type": "code",
   "execution_count": 4,
   "id": "d3ae7487-8790-4bcf-b3dd-57efad7b667c",
   "metadata": {},
   "outputs": [],
   "source": [
    "MG1655 = gb.nucleotide(\"U00096.3\")"
   ]
  },
  {
   "cell_type": "code",
   "execution_count": 5,
   "id": "b29245fe-bd87-49a0-a50f-1dcc1742eaf1",
   "metadata": {},
   "outputs": [
    {
     "name": "stdout",
     "output_type": "stream",
     "text": [
      "Dseqrecord\n",
      "circular: True\n",
      "size: 4641652\n",
      "ID: U00096.3\n",
      "Name: U00096\n",
      "Description: Escherichia coli str. K-12 substr. MG1655, complete genome\n",
      "Database cross-references: BioProject:PRJNA225, BioSample:SAMN02604091\n",
      "Number of features: 9261\n",
      "/molecule_type=DNA\n",
      "/topology=circular\n",
      "/data_file_division=BCT\n",
      "/date=07-MAR-2022\n",
      "/accessions=['U00096']\n",
      "/sequence_version=3\n",
      "/keywords=['']\n",
      "/source=Escherichia coli str. K-12 substr. MG1655\n",
      "/organism=Escherichia coli str. K-12 substr. MG1655\n",
      "/taxonomy=['Bacteria', 'Proteobacteria', 'Gammaproteobacteria', 'Enterobacterales', 'Enterobacteriaceae', 'Escherichia']\n",
      "/references=[Reference(title='The complete genome sequence of Escherichia coli K-12', ...), Reference(title='Highly accurate genome sequences of Escherichia coli K-12 strains MG1655 and W3110', ...), Reference(title='Escherichia coli K-12: a cooperatively developed annotation snapshot--2005', ...), Reference(title='Workshop on Annotation of Escherichia coli K-12', ...), Reference(title='ASAP: Escherichia coli K-12 strain MG1655 version m56', ...), Reference(title='A more accurate sequence comparison between genomes of Escherichia coli K12 W3110 and MG1655 strains', ...), Reference(title='Escherichia coli K-12 MG1655 yqiK-rfaE intergenic region, genomic sequence correction', ...), Reference(title='A manual approach to accurate translation start site annotation: an E. coli K-12 case study', ...), Reference(title='Direct Submission', ...), Reference(title='Direct Submission', ...), Reference(title='Direct Submission', ...), Reference(title='Direct Submission', ...), Reference(title='Direct Submission', ...), Reference(title='Direct Submission', ...), Reference(title='Direct Submission', ...), Reference(title='Direct Submission', ...), Reference(title='Direct Submission', ...), Reference(title='Direct Submission', ...)]\n",
      "/comment=On Sep 26, 2013 this sequence version replaced U00096.2.\n",
      "Changes to proteins and annotation made on March 7, 2022.  Current\n",
      "U00096 annotation updates are derived from EcoCyc\n",
      "https://ecocyc.org/.  Suggestions for updates can be sent to\n",
      "biocyc-support@ai.sri.com. These updates are being generated from a\n",
      "collaboration  that includes EcoCyc, the University of Wisconsin,\n",
      "UniProtKB/Swiss-Prot, and the National Center for Biotechnology\n",
      "Information (NCBI).\n",
      "Dseq(o4641652)\n",
      "AGCT..TTTC\n",
      "TCGA..AAAG\n"
     ]
    }
   ],
   "source": [
    "print(MG1655)"
   ]
  },
  {
   "cell_type": "code",
   "execution_count": 6,
   "id": "579ea468-805e-47f9-8b62-4df1e7606990",
   "metadata": {},
   "outputs": [
    {
     "data": {
      "text/plain": [
       "4641652"
      ]
     },
     "execution_count": 6,
     "metadata": {},
     "output_type": "execute_result"
    }
   ],
   "source": [
    "len(MG1655.seq)"
   ]
  },
  {
   "cell_type": "markdown",
   "id": "5e59d3ec-285a-4d65-b9dd-d67dbc057339",
   "metadata": {},
   "source": [
    "## Find a Open Reading frame"
   ]
  },
  {
   "cell_type": "markdown",
   "id": "b0e23cff-67d0-4875-93aa-36e6996bb965",
   "metadata": {},
   "source": [
    "* [Reading frame - Wikipedia](https://en.wikipedia.org/wiki/Reading_frame)\n",
    "  - [Open reading frame - Wikipedia](https://en.wikipedia.org/wiki/Open_reading_frame)\n",
    "    - [Start codon - Wikipedia](https://en.wikipedia.org/wiki/Start_codon)\n",
    "    - [Stop codon - Wikipedia](https://en.wikipedia.org/wiki/Stop_codon)"
   ]
  },
  {
   "cell_type": "markdown",
   "id": "cb8095ac-0615-4caa-8f1c-a207966ce9f1",
   "metadata": {},
   "source": [
    "* [Beta-galactosidase - Wikipedia](https://en.wikipedia.org/wiki/Beta-galactosidase)\n",
    "* [Escherichia coli K-12 substr. MG1655 lacZ](https://ecocyc.org/ECOLI/NEW-IMAGE?type=LOCUS-POSITION&object=EG10527&chromosome=COLI-K12)\n",
    "\n",
    "```\n",
    ">gnl|ECOLI|EG10527 lacZ BETAGALACTOSID-MONOMER (complement(363231..366305)) Escherichia coli K-12 substr. MG1655\n",
    "```"
   ]
  },
  {
   "cell_type": "code",
   "execution_count": 8,
   "id": "6ee6debf-ce0f-4530-b16d-2be5b78a0dc1",
   "metadata": {},
   "outputs": [],
   "source": [
    "import orfipy_core "
   ]
  },
  {
   "cell_type": "code",
   "execution_count": 30,
   "id": "c8e601e4-30fa-4997-85c8-8dc1aca8b936",
   "metadata": {},
   "outputs": [],
   "source": [
    "sseq=MG1655.seq[360000:370000]"
   ]
  },
  {
   "cell_type": "code",
   "execution_count": 31,
   "id": "248128b7-2c9c-42e1-b306-e653516d72f6",
   "metadata": {},
   "outputs": [
    {
     "data": {
      "text/plain": [
       "10000"
      ]
     },
     "execution_count": 31,
     "metadata": {},
     "output_type": "execute_result"
    }
   ],
   "source": [
    "len(sseq)"
   ]
  },
  {
   "cell_type": "code",
   "execution_count": 41,
   "id": "d4ed3866-1c61-401a-85c6-81c7e11587d2",
   "metadata": {},
   "outputs": [],
   "source": [
    "orf=orfipy_core.orfs(str(sseq.reverse_complement()))"
   ]
  },
  {
   "cell_type": "code",
   "execution_count": 45,
   "id": "4a0370ee-151e-475c-8fbc-a0d8bed71807",
   "metadata": {},
   "outputs": [
    {
     "data": {
      "text/plain": [
       "[(3695,\n",
       "  6767,\n",
       "  '+',\n",
       "  'ID=Seq_ORF.134;ORF_type=complete;ORF_len=3072;ORF_frame=3;Start:ATG;Stop:TAA'),\n",
       " (6791,\n",
       "  8072,\n",
       "  '+',\n",
       "  'ID=Seq_ORF.135;ORF_type=complete;ORF_len=1281;ORF_frame=3;Start:CTG;Stop:TAA'),\n",
       " (8857,\n",
       "  9997,\n",
       "  '-',\n",
       "  'ID=Seq_ORF.153;ORF_type=complete;ORF_len=1140;ORF_frame=-1;Start:CTG;Stop:TGA'),\n",
       " (2613,\n",
       "  3570,\n",
       "  '+',\n",
       "  'ID=Seq_ORF.15;ORF_type=complete;ORF_len=957;ORF_frame=1;Start:ATG;Stop:TGA'),\n",
       " (1466,\n",
       "  2411,\n",
       "  '+',\n",
       "  'ID=Seq_ORF.126;ORF_type=complete;ORF_len=945;ORF_frame=3;Start:ATG;Stop:TGA')]"
      ]
     },
     "execution_count": 45,
     "metadata": {},
     "output_type": "execute_result"
    }
   ],
   "source": [
    "sorted(orf, \n",
    "       key=lambda x: int(x[3].split(\";\")[2].split(\"=\")[1]), \n",
    "       reverse=True)[:5]"
   ]
  },
  {
   "cell_type": "code",
   "execution_count": 46,
   "id": "bcacd6a4-c613-472c-bd9d-d50e2269704f",
   "metadata": {},
   "outputs": [
    {
     "data": {
      "text/plain": [
       "(3695,\n",
       " 6767,\n",
       " '+',\n",
       " 'ID=Seq_ORF.134;ORF_type=complete;ORF_len=3072;ORF_frame=3;Start:ATG;Stop:TAA')"
      ]
     },
     "execution_count": 46,
     "metadata": {},
     "output_type": "execute_result"
    }
   ],
   "source": [
    "orf[133]"
   ]
  },
  {
   "cell_type": "code",
   "execution_count": 49,
   "id": "3dacdd71-24e8-4ba4-9625-cad3f8dae7f7",
   "metadata": {},
   "outputs": [
    {
     "data": {
      "text/plain": [
       "(363230, 366305)"
      ]
     },
     "execution_count": 49,
     "metadata": {},
     "output_type": "execute_result"
    }
   ],
   "source": [
    "370000-orf[133][1]-3, 370000-orf[133][0]"
   ]
  },
  {
   "cell_type": "code",
   "execution_count": 52,
   "id": "72d94431-15df-487f-8003-ca43fdc3156c",
   "metadata": {},
   "outputs": [
    {
     "data": {
      "text/plain": [
       "'ATGACCATGATTACGGATTCACTGGCCGTCGTTTTACAACGTCGTGACTGGGAAAACCCTGGCGTTACCCAACTTAATCGCCTTGCAGCACATCCCCCTTTCGCCAGCTGGCGTAATAGCGAAGAGGCCCGCACCGATCGCCCTTCCCAACAGTTGCGCAGCCTGAATGGCGAATGGCGCTTTGCCTGGTTTCCGGCACCAGAAGCGGTGCCGGAAAGCTGGCTGGAGTGCGATCTTCCTGAGGCCGATACTGTCGTCGTCCCCTCAAACTGGCAGATGCACGGTTACGATGCGCCCATCTACACCAACGTGACCTATCCCATTACGGTCAATCCGCCGTTTGTTCCCACGGAGAATCCGACGGGTTGTTACTCGCTCACATTTAATGTTGATGAAAGCTGGCTACAGGAAGGCCAGACGCGAATTATTTTTGATGGCGTTAACTCGGCGTTTCATCTGTGGTGCAACGGGCGCTGGGTCGGTTACGGCCAGGACAGTCGTTTGCCGTCTGAATTTGACCTGAGCGCATTTTTACGCGCCGGAGAAAACCGCCTCGCGGTGATGGTGCTGCGCTGGAGTGACGGCAGTTATCTGGAAGATCAGGATATGTGGCGGATGAGCGGCATTTTCCGTGACGTCTCGTTGCTGCATAAACCGACTACACAAATCAGCGATTTCCATGTTGCCACTCGCTTTAATGATGATTTCAGCCGCGCTGTACTGGAGGCTGAAGTTCAGATGTGCGGCGAGTTGCGTGACTACCTACGGGTAACAGTTTCTTTATGGCAGGGTGAAACGCAGGTCGCCAGCGGCACCGCGCCTTTCGGCGGTGAAATTATCGATGAGCGTGGTGGTTATGCCGATCGCGTCACACTACGTCTGAACGTCGAAAACCCGAAACTGTGGAGCGCCGAAATCCCGAATCTCTATCGTGCGGTGGTTGAACTGCACACCGCCGACGGCACGCTGATTGAAGCAGAAGCCTGCGATGTCGGTTTCCGCGAGGTGCGGATTGAAAATGGTCTGCTGCTGCTGAACGGCAAGCCGTTGCTGATTCGAGGCGTTAACCGTCACGAGCATCATCCTCTGCATGGTCAGGTCATGGATGAGCAGACGATGGTGCAGGATATCCTGCTGATGAAGCAGAACAACTTTAACGCCGTGCGCTGTTCGCATTATCCGAACCATCCGCTGTGGTACACGCTGTGCGACCGCTACGGCCTGTATGTGGTGGATGAAGCCAATATTGAAACCCACGGCATGGTGCCAATGAATCGTCTGACCGATGATCCGCGCTGGCTACCGGCGATGAGCGAACGCGTAACGCGAATGGTGCAGCGCGATCGTAATCACCCGAGTGTGATCATCTGGTCGCTGGGGAATGAATCAGGCCACGGCGCTAATCACGACGCGCTGTATCGCTGGATCAAATCTGTCGATCCTTCCCGCCCGGTGCAGTATGAAGGCGGCGGAGCCGACACCACGGCCACCGATATTATTTGCCCGATGTACGCGCGCGTGGATGAAGACCAGCCCTTCCCGGCTGTGCCGAAATGGTCCATCAAAAAATGGCTTTCGCTACCTGGAGAGACGCGCCCGCTGATCCTTTGCGAATACGCCCACGCGATGGGTAACAGTCTTGGCGGTTTCGCTAAATACTGGCAGGCGTTTCGTCAGTATCCCCGTTTACAGGGCGGCTTCGTCTGGGACTGGGTGGATCAGTCGCTGATTAAATATGATGAAAACGGCAACCCGTGGTCGGCTTACGGCGGTGATTTTGGCGATACGCCGAACGATCGCCAGTTCTGTATGAACGGTCTGGTCTTTGCCGACCGCACGCCGCATCCAGCGCTGACGGAAGCAAAACACCAGCAGCAGTTTTTCCAGTTCCGTTTATCCGGGCAAACCATCGAAGTGACCAGCGAATACCTGTTCCGTCATAGCGATAACGAGCTCCTGCACTGGATGGTGGCGCTGGATGGTAAGCCGCTGGCAAGCGGTGAAGTGCCTCTGGATGTCGCTCCACAAGGTAAACAGTTGATTGAACTGCCTGAACTACCGCAGCCGGAGAGCGCCGGGCAACTCTGGCTCACAGTACGCGTAGTGCAACCGAACGCGACCGCATGGTCAGAAGCCGGGCACATCAGCGCCTGGCAGCAGTGGCGTCTGGCGGAAAACCTCAGTGTGACGCTCCCCGCCGCGTCCCACGCCATCCCGCATCTGACCACCAGCGAAATGGATTTTTGCATCGAGCTGGGTAATAAGCGTTGGCAATTTAACCGCCAGTCAGGCTTTCTTTCACAGATGTGGATTGGCGATAAAAAACAACTGCTGACGCCGCTGCGCGATCAGTTCACCCGTGCACCGCTGGATAACGACATTGGCGTAAGTGAAGCGACCCGCATTGACCCTAACGCCTGGGTCGAACGCTGGAAGGCGGCGGGCCATTACCAGGCCGAAGCAGCGTTGTTGCAGTGCACGGCAGATACACTTGCTGATGCGGTGCTGATTACGACCGCTCACGCGTGGCAGCATCAGGGGAAAACCTTATTTATCAGCCGGAAAACCTACCGGATTGATGGTAGTGGTCAAATGGCGATTACCGTTGATGTTGAAGTGGCGAGCGATACACCGCATCCGGCGCGGATTGGCCTGAACTGCCAGCTGGCGCAGGTAGCAGAGCGGGTAAACTGGCTCGGATTAGGGCCGCAAGAAAACTATCCCGACCGCCTTACTGCCGCCTGTTTTGACCGCTGGGATCTGCCATTGTCAGACATGTATACCCCGTACGTCTTCCCGAGCGAAAACGGTCTGCGCTGCGGGACGCGCGAATTGAATTATGGCCCACACCAGTGGCGCGGCGACTTCCAGTTCAACATCAGCCGCTACAGTCAACAGCAACTGATGGAAACCAGCCATCGCCATCTGCTGCACGCGGAAGAAGGCACATGGCTGAATATCGACGGTTTCCATATGGGGATTGGTGGCGACGACTCCTGGAGCCCGTCAGTATCGGCGGAATTCCAGCTGAGCGCCGGTCGCTACCATTACCAGTTGGTCTGGTGTCAAAAATAA'"
      ]
     },
     "execution_count": 52,
     "metadata": {},
     "output_type": "execute_result"
    }
   ],
   "source": [
    "str(MG1655.seq[363230:366305].reverse_complement())"
   ]
  },
  {
   "cell_type": "code",
   "execution_count": 53,
   "id": "aaeefd61-1667-4028-95ee-0843c3437743",
   "metadata": {},
   "outputs": [
    {
     "data": {
      "text/plain": [
       "3075"
      ]
     },
     "execution_count": 53,
     "metadata": {},
     "output_type": "execute_result"
    }
   ],
   "source": [
    "len(_)"
   ]
  },
  {
   "cell_type": "code",
   "execution_count": 50,
   "id": "7db6a2b8-1c44-44a2-86ce-22ee2874caa9",
   "metadata": {},
   "outputs": [
    {
     "data": {
      "text/plain": [
       "'MTMITDSLAVVLQRRDWENPGVTQLNRLAAHPPFASWRNSEEARTDRPSQQLRSLNGEWRFAWFPAPEAVPESWLECDLPEADTVVVPSNWQMHGYDAPIYTNVTYPITVNPPFVPTENPTGCYSLTFNVDESWLQEGQTRIIFDGVNSAFHLWCNGRWVGYGQDSRLPSEFDLSAFLRAGENRLAVMVLRWSDGSYLEDQDMWRMSGIFRDVSLLHKPTTQISDFHVATRFNDDFSRAVLEAEVQMCGELRDYLRVTVSLWQGETQVASGTAPFGGEIIDERGGYADRVTLRLNVENPKLWSAEIPNLYRAVVELHTADGTLIEAEACDVGFREVRIENGLLLLNGKPLLIRGVNRHEHHPLHGQVMDEQTMVQDILLMKQNNFNAVRCSHYPNHPLWYTLCDRYGLYVVDEANIETHGMVPMNRLTDDPRWLPAMSERVTRMVQRDRNHPSVIIWSLGNESGHGANHDALYRWIKSVDPSRPVQYEGGGADTTATDIICPMYARVDEDQPFPAVPKWSIKKWLSLPGETRPLILCEYAHAMGNSLGGFAKYWQAFRQYPRLQGGFVWDWVDQSLIKYDENGNPWSAYGGDFGDTPNDRQFCMNGLVFADRTPHPALTEAKHQQQFFQFRLSGQTIEVTSEYLFRHSDNELLHWMVALDGKPLASGEVPLDVAPQGKQLIELPELPQPESAGQLWLTVRVVQPNATAWSEAGHISAWQQWRLAENLSVTLPAASHAIPHLTTSEMDFCIELGNKRWQFNRQSGFLSQMWIGDKKQLLTPLRDQFTRAPLDNDIGVSEATRIDPNAWVERWKAAGHYQAEAALLQCTADTLADAVLITTAHAWQHQGKTLFISRKTYRIDGSGQMAITVDVEVASDTPHPARIGLNCQLAQVAERVNWLGLGPQENYPDRLTAACFDRWDLPLSDMYTPYVFPSENGLRCGTRELNYGPHQWRGDFQFNISRYSQQQLMETSHRHLLHAEEGTWLNIDGFHMGIGGDDSWSPSVSAEFQLSAGRYHYQLVWCQK*'"
      ]
     },
     "execution_count": 50,
     "metadata": {},
     "output_type": "execute_result"
    }
   ],
   "source": [
    "str(MG1655.seq[363230:366305].reverse_complement().translate())"
   ]
  },
  {
   "cell_type": "code",
   "execution_count": 51,
   "id": "5b5660ef-1162-4602-9465-3972e06d5b49",
   "metadata": {},
   "outputs": [
    {
     "data": {
      "text/plain": [
       "1025"
      ]
     },
     "execution_count": 51,
     "metadata": {},
     "output_type": "execute_result"
    }
   ],
   "source": [
    "len(_)"
   ]
  },
  {
   "cell_type": "markdown",
   "id": "cdca0572-b4ad-4b8d-858c-c0903b264e59",
   "metadata": {},
   "source": [
    "## Binding site (box)"
   ]
  },
  {
   "cell_type": "markdown",
   "id": "fd9f4530-f734-40ff-a65a-e2d9f68d090a",
   "metadata": {},
   "source": [
    "* [Consensus sequence - Wikipedia](https://en.wikipedia.org/wiki/Consensus_sequence)\n",
    "* [DNA binding site - Wikipedia](https://en.wikipedia.org/wiki/DNA_binding_site)\n",
    "  - [DNA-binding protein - Wikipedia](https://en.wikipedia.org/wiki/DNA-binding_protein)\n",
    "    - [Transcription factor - Wikipedia](https://en.wikipedia.org/wiki/Transcription_factor)\n",
    "      - [Gene expression - Wikipedia](https://en.wikipedia.org/wiki/Gene_expression)\n",
    "      - [Transcriptional regulation - Wikipedia](https://en.wikipedia.org/wiki/Transcriptional_regulation)\n",
    "      - [Downregulation and upregulation - Wikipedia](https://en.wikipedia.org/wiki/Downregulation_and_upregulation)\n",
    "        - activation, promotion\n",
    "        - repression, suppression"
   ]
  },
  {
   "cell_type": "markdown",
   "id": "aad71b35-a668-4c01-9dcb-2703d4b92ffe",
   "metadata": {},
   "source": [
    "![fig-20](https://upload.wikimedia.org/wikipedia/commons/8/80/Transcription_Factors.svg)"
   ]
  },
  {
   "cell_type": "markdown",
   "id": "2f07f8d7-72af-402a-87a1-c2f1c4fb5942",
   "metadata": {
    "tags": []
   },
   "source": [
    "## Find its promoter"
   ]
  },
  {
   "cell_type": "markdown",
   "id": "4d717832-4653-46ab-a671-e4173d6db7e8",
   "metadata": {},
   "source": [
    "* [RNA polymerase - Wikipedia](https://en.wikipedia.org/wiki/RNA_polymerase)\n",
    "  - [Promoter (genetics) - Wikipedia](https://en.wikipedia.org/wiki/Promoter_%28genetics%29)\n",
    "    - [Sigma factor - Wikipedia](https://en.wikipedia.org/wiki/Sigma_factor)"
   ]
  },
  {
   "cell_type": "markdown",
   "id": "b8b46b02-bec6-4383-a559-6dd672e93c0c",
   "metadata": {},
   "source": [
    "* [An Introduction to the Structure and Function of the catalytic core enzyme of Escherichia coli RNA polymerase - PMC](https://www.ncbi.nlm.nih.gov/pmc/articles/PMC6095464/)\n",
    "* [Sigma factor - Wikipedia](https://en.wikipedia.org/wiki/Sigma_factor)"
   ]
  },
  {
   "cell_type": "markdown",
   "id": "cb7a939c-6e8e-4774-bc0b-cb820090fbde",
   "metadata": {},
   "source": [
    "![fig-7](https://upload.wikimedia.org/wikipedia/commons/d/dd/Sigma_70_domains.png)"
   ]
  },
  {
   "cell_type": "markdown",
   "id": "53f40e76-e6fc-4eac-8bdd-f2fc948e6e4a",
   "metadata": {},
   "source": [
    "* EcoCyc\n",
    "  - [Escherichia coli K-12 substr. MG1655 lacZYA](https://ecocyc.org/ECOLI/NEW-IMAGE?type=OPERON&object=TU00036)"
   ]
  },
  {
   "cell_type": "markdown",
   "id": "cdccdd47-b2e4-470f-aeb2-12aff9917172",
   "metadata": {},
   "source": [
    "* Promoter:\n",
    "  - lacZp1\n",
    "    - Absolute Position of Transcription Start Site: 366343 base pairs\n",
    "    - Position relative to start of first gene (lacZ): -38\n",
    "      - $\\sigma^{70}$: -10, -35\n",
    "      - -10: \"TATGTT\"\n",
    "      - -35: \"TTTACA\"\n",
    "* Activator:\n",
    "  - Site 10 ($\\rm{Crp}^{10}$):\n",
    "    - Position of Site Center Relative to Transcription Start Site (bp): 61.5\n",
    "    - \"TAATGTGAGTTAGCTCACTCAT\"\n",
    "* Repressor:\n",
    "  - Site 1 ($\\rm{LacI}^{1}$):\n",
    "    - Position of Site Center Relative to Transcription Start Site (bp): 412\n",
    "    - \"GGTTGTTACTCGCTCACATTT\"\n",
    "  - Site 4 ($\\rm{LacI}^{4}$):\n",
    "    - Position of Site Center Relative to Transcription Start Site (bp): 11\n",
    "    - \"AATTGTGAGCGGATAACAATT\""
   ]
  },
  {
   "cell_type": "code",
   "execution_count": 62,
   "id": "21255b2f-72c1-49b1-acb6-56a54b6156bb",
   "metadata": {},
   "outputs": [
    {
     "data": {
      "text/plain": [
       "(3695,\n",
       " 6767,\n",
       " '+',\n",
       " 'ID=Seq_ORF.134;ORF_type=complete;ORF_len=3072;ORF_frame=3;Start:ATG;Stop:TAA')"
      ]
     },
     "execution_count": 62,
     "metadata": {},
     "output_type": "execute_result"
    }
   ],
   "source": [
    "orf[133]"
   ]
  },
  {
   "cell_type": "code",
   "execution_count": 106,
   "id": "11aa4084-9e28-46db-a376-35efcbaebc04",
   "metadata": {},
   "outputs": [],
   "source": [
    "import difflib\n",
    "from Bio.Seq import Seq\n",
    "\n",
    "def promotor(seq_orf, s_offset=0, m10=\"TATAAT\", m35=\"TTGACA\", reverse=370000):\n",
    "    st = orf[seq_orf-1][0]+s_offset\n",
    "    ed = orf[seq_orf-1][1]\n",
    "    pr = 80\n",
    "    gn = str(sseq.reverse_complement())[st-pr:ed]\n",
    "    sc = orf[seq_orf-1][3].split(\";\")[4].split(\":\")[1]\n",
    "    \n",
    "    for i in range(0,pr+10):\n",
    "        rto10 = difflib.SequenceMatcher(None, m10, gn[i:i+6]).ratio()\n",
    "        rto35 = difflib.SequenceMatcher(None, m35, gn[i:i+6]).ratio()\n",
    "        print(\"{:> 8d} \".format(reverse-(st-pr)-i), end=\"\")\n",
    "        print(\"{:> 4d} \".format(i-pr), end=\"\")\n",
    "        print(gn[i:i+6],end=\"\")\n",
    "        print(\" {:0.2f}\".format(rto10), end=\"\")\n",
    "        print(\"|{:<10s}\".format('='*int(rto10*10)), end=\"\")\n",
    "        print(\" {:0.2f}\".format(rto35), end=\"\")\n",
    "        print(\"|{:<10s}\".format('='*int(rto35*10)), end=\"\")\n",
    "        print()"
   ]
  },
  {
   "cell_type": "code",
   "execution_count": 107,
   "id": "ef02ad06-ff40-41d9-b1b6-94d162e905e3",
   "metadata": {},
   "outputs": [
    {
     "name": "stdout",
     "output_type": "stream",
     "text": [
      "  366385  -80 CCAGGC 0.17|=          0.33|===       \n",
      "  366384  -79 CAGGCT 0.17|=          0.33|===       \n",
      "  366383  -78 AGGCTT 0.33|===        0.33|===       \n",
      "  366382  -77 GGCTTT 0.50|=====      0.33|===       \n",
      "  366381  -76 GCTTTA 0.33|===        0.50|=====     \n",
      "  366380  -75 CTTTAC 0.33|===        0.67|======    \n",
      "  366379  -74 TTTACA 0.50|=====      0.83|========  \n",
      "  366378  -73 TTACAC 0.50|=====      0.83|========  \n",
      "  366377  -72 TACACT 0.50|=====      0.67|======    \n",
      "  366376  -71 ACACTT 0.33|===        0.50|=====     \n",
      "  366375  -70 CACTTT 0.50|=====      0.33|===       \n",
      "  366374  -69 ACTTTA 0.33|===        0.50|=====     \n",
      "  366373  -68 CTTTAT 0.50|=====      0.50|=====     \n",
      "  366372  -67 TTTATG 0.50|=====      0.50|=====     \n",
      "  366371  -66 TTATGC 0.50|=====      0.67|======    \n",
      "  366370  -65 TATGCT 0.67|======     0.67|======    \n",
      "  366369  -64 ATGCTT 0.50|=====      0.33|===       \n",
      "  366368  -63 TGCTTC 0.50|=====      0.50|=====     \n",
      "  366367  -62 GCTTCC 0.33|===        0.50|=====     \n",
      "  366366  -61 CTTCCG 0.33|===        0.50|=====     \n",
      "  366365  -60 TTCCGG 0.33|===        0.50|=====     \n",
      "  366364  -59 TCCGGC 0.17|=          0.50|=====     \n",
      "  366363  -58 CCGGCT 0.17|=          0.17|=         \n",
      "  366362  -57 CGGCTC 0.17|=          0.33|===       \n",
      "  366361  -56 GGCTCG 0.17|=          0.33|===       \n",
      "  366360  -55 GCTCGT 0.33|===        0.33|===       \n",
      "  366359  -54 CTCGTA 0.33|===        0.50|=====     \n",
      "  366358  -53 TCGTAT 0.50|=====      0.50|=====     \n",
      "  366357  -52 CGTATG 0.50|=====      0.50|=====     \n",
      "  366356  -51 GTATGT 0.67|======     0.50|=====     \n",
      "  366355  -50 TATGTT 0.67|======     0.33|===       \n",
      "  366354  -49 ATGTTG 0.50|=====      0.50|=====     \n",
      "  366353  -48 TGTTGT 0.50|=====      0.50|=====     \n",
      "  366352  -47 GTTGTG 0.50|=====      0.50|=====     \n",
      "  366351  -46 TTGTGT 0.50|=====      0.50|=====     \n",
      "  366350  -45 TGTGTG 0.50|=====      0.33|===       \n",
      "  366349  -44 GTGTGG 0.33|===        0.33|===       \n",
      "  366348  -43 TGTGGA 0.33|===        0.50|=====     \n",
      "  366347  -42 GTGGAA 0.50|=====      0.67|======    \n",
      "  366346  -41 TGGAAT 0.67|======     0.67|======    \n",
      "  366345  -40 GGAATT 0.50|=====      0.33|===       \n",
      "  366344  -39 GAATTG 0.50|=====      0.50|=====     \n",
      "  366343  -38 AATTGT 0.50|=====      0.50|=====     \n",
      "  366342  -37 ATTGTG 0.50|=====      0.50|=====     \n",
      "  366341  -36 TTGTGA 0.33|===        0.67|======    \n",
      "  366340  -35 TGTGAG 0.33|===        0.67|======    \n",
      "  366339  -34 GTGAGC 0.33|===        0.67|======    \n",
      "  366338  -33 TGAGCG 0.33|===        0.67|======    \n",
      "  366337  -32 GAGCGG 0.17|=          0.50|=====     \n",
      "  366336  -31 AGCGGA 0.33|===        0.33|===       \n",
      "  366335  -30 GCGGAT 0.33|===        0.33|===       \n",
      "  366334  -29 CGGATA 0.50|=====      0.50|=====     \n",
      "  366333  -28 GGATAA 0.67|======     0.50|=====     \n",
      "  366332  -27 GATAAC 0.67|======     0.50|=====     \n",
      "  366331  -26 ATAACA 0.67|======     0.67|======    \n",
      "  366330  -25 TAACAA 0.50|=====      0.67|======    \n",
      "  366329  -24 AACAAT 0.67|======     0.50|=====     \n",
      "  366328  -23 ACAATT 0.67|======     0.50|=====     \n",
      "  366327  -22 CAATTT 0.50|=====      0.33|===       \n",
      "  366326  -21 AATTTC 0.50|=====      0.50|=====     \n",
      "  366325  -20 ATTTCA 0.50|=====      0.67|======    \n",
      "  366324  -19 TTTCAC 0.33|===        0.67|======    \n",
      "  366323  -18 TTCACA 0.50|=====      0.83|========  \n",
      "  366322  -17 TCACAC 0.50|=====      0.67|======    \n",
      "  366321  -16 CACACA 0.50|=====      0.50|=====     \n",
      "  366320  -15 ACACAG 0.50|=====      0.50|=====     \n",
      "  366319  -14 CACAGG 0.33|===        0.50|=====     \n",
      "  366318  -13 ACAGGA 0.50|=====      0.50|=====     \n",
      "  366317  -12 CAGGAA 0.50|=====      0.50|=====     \n",
      "  366316  -11 AGGAAA 0.50|=====      0.50|=====     \n",
      "  366315  -10 GGAAAC 0.33|===        0.50|=====     \n",
      "  366314   -9 GAAACA 0.33|===        0.67|======    \n",
      "  366313   -8 AAACAG 0.33|===        0.50|=====     \n",
      "  366312   -7 AACAGC 0.33|===        0.50|=====     \n",
      "  366311   -6 ACAGCT 0.17|=          0.50|=====     \n",
      "  366310   -5 CAGCTA 0.33|===        0.33|===       \n",
      "  366309   -4 AGCTAT 0.50|=====      0.33|===       \n",
      "  366308   -3 GCTATG 0.50|=====      0.50|=====     \n",
      "  366307   -2 CTATGA 0.67|======     0.67|======    \n",
      "  366306   -1 TATGAC 0.67|======     0.83|========  \n",
      "  366305    0 ATGACC 0.50|=====      0.67|======    \n",
      "  366304    1 TGACCA 0.50|=====      0.83|========  \n",
      "  366303    2 GACCAT 0.33|===        0.67|======    \n",
      "  366302    3 ACCATG 0.33|===        0.33|===       \n",
      "  366301    4 CCATGA 0.50|=====      0.50|=====     \n",
      "  366300    5 CATGAT 0.67|======     0.50|=====     \n",
      "  366299    6 ATGATT 0.67|======     0.50|=====     \n",
      "  366298    7 TGATTA 0.33|===        0.67|======    \n",
      "  366297    8 GATTAC 0.33|===        0.67|======    \n",
      "  366296    9 ATTACG 0.33|===        0.67|======    \n"
     ]
    }
   ],
   "source": [
    "promotor(134, m10=\"TATAAT\", m35=\"TTGACA\")"
   ]
  },
  {
   "cell_type": "code",
   "execution_count": 109,
   "id": "d007e4bb-01c5-4b2f-ab45-5021f1c20b7c",
   "metadata": {},
   "outputs": [
    {
     "name": "stdout",
     "output_type": "stream",
     "text": [
      "  366385  -80 CCAGGC 0.33|===        0.33|===       \n",
      "  366384  -79 CAGGCT 0.17|=          0.33|===       \n",
      "  366383  -78 AGGCTT 0.67|======     0.33|===       \n",
      "  366382  -77 GGCTTT 0.50|=====      0.50|=====     \n",
      "  366381  -76 GCTTTA 0.33|===        0.67|======    \n",
      "  366380  -75 CTTTAC 0.33|===        0.83|========  \n",
      "  366379  -74 TTTACA 0.33|===        1.00|==========\n",
      "  366378  -73 TTACAC 0.33|===        0.83|========  \n",
      "  366377  -72 TACACT 0.50|=====      0.67|======    \n",
      "  366376  -71 ACACTT 0.50|=====      0.50|=====     \n",
      "  366375  -70 CACTTT 0.50|=====      0.50|=====     \n",
      "  366374  -69 ACTTTA 0.33|===        0.67|======    \n",
      "  366373  -68 CTTTAT 0.50|=====      0.67|======    \n",
      "  366372  -67 TTTATG 0.67|======     0.67|======    \n",
      "  366371  -66 TTATGC 0.67|======     0.67|======    \n",
      "  366370  -65 TATGCT 0.83|========   0.50|=====     \n",
      "  366369  -64 ATGCTT 0.83|========   0.33|===       \n",
      "  366368  -63 TGCTTC 0.67|======     0.50|=====     \n",
      "  366367  -62 GCTTCC 0.50|=====      0.50|=====     \n",
      "  366366  -61 CTTCCG 0.33|===        0.50|=====     \n",
      "  366365  -60 TTCCGG 0.33|===        0.50|=====     \n",
      "  366364  -59 TCCGGC 0.33|===        0.33|===       \n",
      "  366363  -58 CCGGCT 0.17|=          0.17|=         \n",
      "  366362  -57 CGGCTC 0.17|=          0.33|===       \n",
      "  366361  -56 GGCTCG 0.33|===        0.33|===       \n",
      "  366360  -55 GCTCGT 0.50|=====      0.33|===       \n",
      "  366359  -54 CTCGTA 0.33|===        0.50|=====     \n",
      "  366358  -53 TCGTAT 0.50|=====      0.50|=====     \n",
      "  366357  -52 CGTATG 0.67|======     0.33|===       \n",
      "  366356  -51 GTATGT 0.83|========   0.33|===       \n",
      "  366355  -50 TATGTT 1.00|========== 0.33|===       \n",
      "  366354  -49 ATGTTG 0.83|========   0.33|===       \n",
      "  366353  -48 TGTTGT 0.67|======     0.50|=====     \n",
      "  366352  -47 GTTGTG 0.67|======     0.50|=====     \n",
      "  366351  -46 TTGTGT 0.83|========   0.50|=====     \n",
      "  366350  -45 TGTGTG 0.67|======     0.50|=====     \n",
      "  366349  -44 GTGTGG 0.50|=====      0.33|===       \n",
      "  366348  -43 TGTGGA 0.50|=====      0.50|=====     \n",
      "  366347  -42 GTGGAA 0.33|===        0.50|=====     \n",
      "  366346  -41 TGGAAT 0.50|=====      0.33|===       \n",
      "  366345  -40 GGAATT 0.50|=====      0.33|===       \n",
      "  366344  -39 GAATTG 0.50|=====      0.33|===       \n",
      "  366343  -38 AATTGT 0.67|======     0.50|=====     \n",
      "  366342  -37 ATTGTG 0.67|======     0.50|=====     \n",
      "  366341  -36 TTGTGA 0.67|======     0.67|======    \n",
      "  366340  -35 TGTGAG 0.50|=====      0.50|=====     \n",
      "  366339  -34 GTGAGC 0.33|===        0.50|=====     \n",
      "  366338  -33 TGAGCG 0.33|===        0.50|=====     \n",
      "  366337  -32 GAGCGG 0.33|===        0.33|===       \n",
      "  366336  -31 AGCGGA 0.33|===        0.50|=====     \n",
      "  366335  -30 GCGGAT 0.33|===        0.17|=         \n",
      "  366334  -29 CGGATA 0.33|===        0.33|===       \n",
      "  366333  -28 GGATAA 0.33|===        0.50|=====     \n",
      "  366332  -27 GATAAC 0.33|===        0.50|=====     \n",
      "  366331  -26 ATAACA 0.33|===        0.67|======    \n",
      "  366330  -25 TAACAA 0.33|===        0.67|======    \n",
      "  366329  -24 AACAAT 0.33|===        0.50|=====     \n",
      "  366328  -23 ACAATT 0.50|=====      0.50|=====     \n",
      "  366327  -22 CAATTT 0.67|======     0.50|=====     \n",
      "  366326  -21 AATTTC 0.67|======     0.67|======    \n",
      "  366325  -20 ATTTCA 0.67|======     0.83|========  \n",
      "  366324  -19 TTTCAC 0.33|===        0.83|========  \n",
      "  366323  -18 TTCACA 0.33|===        0.83|========  \n",
      "  366322  -17 TCACAC 0.33|===        0.67|======    \n",
      "  366321  -16 CACACA 0.17|=          0.50|=====     \n",
      "  366320  -15 ACACAG 0.33|===        0.50|=====     \n",
      "  366319  -14 CACAGG 0.33|===        0.50|=====     \n",
      "  366318  -13 ACAGGA 0.33|===        0.50|=====     \n",
      "  366317  -12 CAGGAA 0.33|===        0.33|===       \n",
      "  366316  -11 AGGAAA 0.33|===        0.33|===       \n",
      "  366315  -10 GGAAAC 0.17|=          0.33|===       \n",
      "  366314   -9 GAAACA 0.17|=          0.50|=====     \n",
      "  366313   -8 AAACAG 0.33|===        0.50|=====     \n",
      "  366312   -7 AACAGC 0.33|===        0.50|=====     \n",
      "  366311   -6 ACAGCT 0.17|=          0.50|=====     \n",
      "  366310   -5 CAGCTA 0.33|===        0.33|===       \n",
      "  366309   -4 AGCTAT 0.50|=====      0.33|===       \n",
      "  366308   -3 GCTATG 0.67|======     0.33|===       \n",
      "  366307   -2 CTATGA 0.67|======     0.50|=====     \n",
      "  366306   -1 TATGAC 0.67|======     0.50|=====     \n",
      "  366305    0 ATGACC 0.50|=====      0.50|=====     \n",
      "  366304    1 TGACCA 0.33|===        0.67|======    \n",
      "  366303    2 GACCAT 0.33|===        0.50|=====     \n",
      "  366302    3 ACCATG 0.50|=====      0.50|=====     \n",
      "  366301    4 CCATGA 0.50|=====      0.33|===       \n",
      "  366300    5 CATGAT 0.67|======     0.33|===       \n",
      "  366299    6 ATGATT 0.83|========   0.33|===       \n",
      "  366298    7 TGATTA 0.33|===        0.67|======    \n",
      "  366297    8 GATTAC 0.33|===        0.67|======    \n",
      "  366296    9 ATTACG 0.50|=====      0.67|======    \n"
     ]
    }
   ],
   "source": [
    "promotor(134, m10=\"TATGTT\", m35=\"TTTACA\")"
   ]
  },
  {
   "cell_type": "code",
   "execution_count": null,
   "id": "1c65e8ff-aebc-4abc-8d23-4f0a652d19fa",
   "metadata": {},
   "outputs": [],
   "source": []
  },
  {
   "cell_type": "markdown",
   "id": "08a6d771-b644-4212-8401-98a9ff70331f",
   "metadata": {},
   "source": [
    "## Transcription factor\n",
    "\n",
    "- [Transcription factor - Wikipedia](https://en.wikipedia.org/wiki/Transcription_factor)\n",
    "  - [Gene expression - Wikipedia](https://en.wikipedia.org/wiki/Gene_expression)\n",
    "  - [Transcriptional regulation - Wikipedia](https://en.wikipedia.org/wiki/Transcriptional_regulation)\n",
    "  - [Downregulation and upregulation - Wikipedia](https://en.wikipedia.org/wiki/Downregulation_and_upregulation)\n",
    "    - activation, promotion\n",
    "    - repression, suppression"
   ]
  },
  {
   "cell_type": "markdown",
   "id": "5b455ad6-d4b7-4d02-985c-d3a540d43cb3",
   "metadata": {},
   "source": [
    "![fig-20](https://upload.wikimedia.org/wikipedia/commons/8/80/Transcription_Factors.svg)"
   ]
  },
  {
   "cell_type": "markdown",
   "id": "1058f7e6",
   "metadata": {},
   "source": [
    "* EcoCyc\n",
    "  - [Escherichia coli K-12 substr. MG1655 lacZYA](https://ecocyc.org/ECOLI/NEW-IMAGE?type=OPERON&object=TU00036)"
   ]
  },
  {
   "cell_type": "markdown",
   "id": "783db31c",
   "metadata": {},
   "source": [
    "* Activator:\n",
    "  - Site 10 ($\\rm{Crp}^{10}$):\n",
    "    - Position of Site Center Relative to Transcription Start Site (bp): 61.5\n",
    "    - \"TAATGTGAGTTAGCTCACTCAT\"\n",
    "* Repressor:\n",
    "  - Site 1 ($\\rm{LacI}^{1}$):\n",
    "    - Position of Site Center Relative to Transcription Start Site (bp): 412\n",
    "    - \"GGTTGTTACTCGCTCACATTT\"\n",
    "  - Site 4 ($\\rm{LacI}^{4}$):\n",
    "    - Position of Site Center Relative to Transcription Start Site (bp): 11\n",
    "    - \"AATTGTGAGCGGATAACAATT\""
   ]
  },
  {
   "cell_type": "markdown",
   "id": "10f71ffd-c11d-4d14-83d7-62f1be223c53",
   "metadata": {},
   "source": [
    "* [Activator (genetics) - Wikipedia](https://en.wikipedia.org/wiki/Activator_%28genetics%29)\n",
    "  - [Catabolite activator protein - Wikipedia](https://en.wikipedia.org/wiki/Catabolite_activator_protein)\n",
    "    - [PDB-101: Molecule of the Month: Catabolite Activator Protein](https://pdb101.rcsb.org/motm/48#:~:text=Catabolite%20activator%20protein%20%28CAP%29%2C,blue%20from%20PDB%20entry%201cgp%20.)\n",
    "  - [cAMP receptor protein - Wikipedia](https://en.wikipedia.org/wiki/CAMP_receptor_protein)\n",
    "    - [PDB-101: Molecule of the Month: cAMP-dependent Protein Kinase (PKA)](https://pdb101.rcsb.org/motm/152)"
   ]
  },
  {
   "cell_type": "markdown",
   "id": "cbd0303b-ae86-43eb-b31e-c1ddf6406533",
   "metadata": {},
   "source": [
    "* [Repressor - Wikipedia](https://en.wikipedia.org/wiki/Repressor)\n",
    "  - [PDB-101: Molecule of the Month: lac Repressor](https://pdb101.rcsb.org/motm/39)"
   ]
  },
  {
   "cell_type": "code",
   "execution_count": null,
   "id": "757c2fcc-385a-424a-a2ac-a380b8be4282",
   "metadata": {},
   "outputs": [],
   "source": []
  }
 ],
 "metadata": {
  "kernelspec": {
   "display_name": "Python 3 (ipykernel)",
   "language": "python",
   "name": "python3"
  },
  "language_info": {
   "codemirror_mode": {
    "name": "ipython",
    "version": 3
   },
   "file_extension": ".py",
   "mimetype": "text/x-python",
   "name": "python",
   "nbconvert_exporter": "python",
   "pygments_lexer": "ipython3",
   "version": "3.9.12"
  },
  "toc": {
   "base_numbering": 1,
   "nav_menu": {},
   "number_sections": true,
   "sideBar": true,
   "skip_h1_title": false,
   "title_cell": "Table of Contents",
   "title_sidebar": "Contents",
   "toc_cell": false,
   "toc_position": {},
   "toc_section_display": true,
   "toc_window_display": false
  }
 },
 "nbformat": 4,
 "nbformat_minor": 5
}
