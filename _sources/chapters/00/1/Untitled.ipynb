{
 "cells": [
  {
   "cell_type": "code",
   "execution_count": 1,
   "id": "ba2df486",
   "metadata": {},
   "outputs": [],
   "source": [
    "import pandas as pd"
   ]
  },
  {
   "cell_type": "code",
   "execution_count": 6,
   "id": "384a10dc",
   "metadata": {},
   "outputs": [],
   "source": [
    "data = {'time_stamp': ['2014-05-01 18:47:05.069', '2014-05-01 18:47:05.119', '2014-05-02 18:47:05.230',],\n",
    "        'col_a': [34, 25, 26],\n",
    "        'col_b' : [21,32,43]}\n",
    "df = pd.DataFrame(data, columns = ['time_stamp', 'col_a', 'col_b'])"
   ]
  },
  {
   "cell_type": "code",
   "execution_count": 7,
   "id": "bf5a39bb",
   "metadata": {},
   "outputs": [
    {
     "name": "stdout",
     "output_type": "stream",
     "text": [
      "                time_stamp  col_a  col_b\n",
      "0  2014-05-01 18:47:05.069     34     21\n",
      "1  2014-05-01 18:47:05.119     25     32\n",
      "2  2014-05-02 18:47:05.230     26     43\n"
     ]
    }
   ],
   "source": [
    "print(df)"
   ]
  },
  {
   "cell_type": "code",
   "execution_count": 5,
   "id": "24855501",
   "metadata": {},
   "outputs": [
    {
     "name": "stdout",
     "output_type": "stream",
     "text": [
      "                                         time_stamp  col_a  col_b\n",
      "0                           2014-05-01 18:47:05.069     34   21.0\n",
      "1                           2014-05-01 18:47:05.119     25   32.0\n",
      "2                           2014-05-02 18:47:05.230     26   43.0\n",
      "2014-05-04 18:47:05.487000                      NaN     11    NaN\n"
     ]
    }
   ],
   "source": [
    "ts = pd.to_datetime(\"2014-05-04 18:47:05.487\", format=\"%Y-%m-%d %H:%M:%S.%f\")\n",
    "new_row = pd.DataFrame([[11]], columns = [\"col_a\"], index=[ts])\n",
    "df1 = pd.concat([df, pd.DataFrame(new_row)], ignore_index=False)\n",
    "print(df1)"
   ]
  },
  {
   "cell_type": "code",
   "execution_count": 8,
   "id": "eaf00005",
   "metadata": {},
   "outputs": [],
   "source": [
    "tmpdf = pd.DataFrame({\"var\":[77,88,99]},index=pd.date_range(\"2020-03-10\",periods=3,freq='D'))\n",
    "for i in range(1,21):\n",
    "    idx = tmpdf.tail(1).index[0] + pd.Timedelta(days=1)\n",
    "    tmpdf.loc[idx] = i*i"
   ]
  },
  {
   "cell_type": "code",
   "execution_count": 9,
   "id": "26077588",
   "metadata": {},
   "outputs": [
    {
     "name": "stdout",
     "output_type": "stream",
     "text": [
      "            var\n",
      "2020-03-10   77\n",
      "2020-03-11   88\n",
      "2020-03-12   99\n",
      "2020-03-13    1\n",
      "2020-03-14    4\n",
      "2020-03-15    9\n",
      "2020-03-16   16\n",
      "2020-03-17   25\n",
      "2020-03-18   36\n",
      "2020-03-19   49\n",
      "2020-03-20   64\n",
      "2020-03-21   81\n",
      "2020-03-22  100\n",
      "2020-03-23  121\n",
      "2020-03-24  144\n",
      "2020-03-25  169\n",
      "2020-03-26  196\n",
      "2020-03-27  225\n",
      "2020-03-28  256\n",
      "2020-03-29  289\n",
      "2020-03-30  324\n",
      "2020-03-31  361\n",
      "2020-04-01  400\n"
     ]
    }
   ],
   "source": [
    "pd.DataFrame()"
   ]
  },
  {
   "cell_type": "code",
   "execution_count": 10,
   "id": "a06534b0",
   "metadata": {},
   "outputs": [
    {
     "data": {
      "text/html": [
       "<div>\n",
       "<style scoped>\n",
       "    .dataframe tbody tr th:only-of-type {\n",
       "        vertical-align: middle;\n",
       "    }\n",
       "\n",
       "    .dataframe tbody tr th {\n",
       "        vertical-align: top;\n",
       "    }\n",
       "\n",
       "    .dataframe thead th {\n",
       "        text-align: right;\n",
       "    }\n",
       "</style>\n",
       "<table border=\"1\" class=\"dataframe\">\n",
       "  <thead>\n",
       "    <tr style=\"text-align: right;\">\n",
       "      <th></th>\n",
       "      <th>col_a</th>\n",
       "    </tr>\n",
       "  </thead>\n",
       "  <tbody>\n",
       "    <tr>\n",
       "      <th>2014-05-04 18:47:05.487</th>\n",
       "      <td>11</td>\n",
       "    </tr>\n",
       "  </tbody>\n",
       "</table>\n",
       "</div>"
      ],
      "text/plain": [
       "                         col_a\n",
       "2014-05-04 18:47:05.487     11"
      ]
     },
     "execution_count": 10,
     "metadata": {},
     "output_type": "execute_result"
    }
   ],
   "source": [
    "new_row"
   ]
  },
  {
   "cell_type": "code",
   "execution_count": null,
   "id": "cb88a72b",
   "metadata": {},
   "outputs": [],
   "source": []
  }
 ],
 "metadata": {
  "kernelspec": {
   "display_name": "Python 3 (ipykernel)",
   "language": "python",
   "name": "python3"
  },
  "language_info": {
   "codemirror_mode": {
    "name": "ipython",
    "version": 3
   },
   "file_extension": ".py",
   "mimetype": "text/x-python",
   "name": "python",
   "nbconvert_exporter": "python",
   "pygments_lexer": "ipython3",
   "version": "3.9.12"
  },
  "toc": {
   "base_numbering": 1,
   "nav_menu": {},
   "number_sections": true,
   "sideBar": true,
   "skip_h1_title": false,
   "title_cell": "Table of Contents",
   "title_sidebar": "Contents",
   "toc_cell": false,
   "toc_position": {},
   "toc_section_display": true,
   "toc_window_display": false
  }
 },
 "nbformat": 4,
 "nbformat_minor": 5
}
