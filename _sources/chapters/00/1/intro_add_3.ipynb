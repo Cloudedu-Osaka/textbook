{
 "cells": [
  {
   "cell_type": "markdown",
   "id": "d1b3a4c1",
   "metadata": {},
   "source": [
    "# Event logging"
   ]
  },
  {
   "cell_type": "code",
   "execution_count": 1,
   "id": "48e55139",
   "metadata": {
    "init_cell": true,
    "tags": [
     "hide-input"
    ]
   },
   "outputs": [],
   "source": [
    "import os\n",
    "\n",
    "from datetime import date\n",
    "from datetime import time\n",
    "from datetime import datetime as dt"
   ]
  },
  {
   "cell_type": "code",
   "execution_count": 2,
   "id": "a17bc914",
   "metadata": {
    "init_cell": true,
    "tags": [
     "hide-input"
    ]
   },
   "outputs": [],
   "source": [
    "def logfile(user=os.environ.get('JUPYTERHUB_USER') or 'jovyan'):\n",
    "    prefix='/srv'\n",
    "    if os.path.isdir(prefix) and os.access(prefix, os.W_OK):\n",
    "        prefix+=('/'+user)\n",
    "        if not os.path.isdir(prefix):\n",
    "            os.makedirs(prefix)\n",
    "    else:\n",
    "        prefix='.'\n",
    "    return prefix+'/'+dt.now().strftime('%Y%m%d')+'.log'"
   ]
  },
  {
   "cell_type": "code",
   "execution_count": 9,
   "id": "8e9cd461",
   "metadata": {},
   "outputs": [
    {
     "data": {
      "text/plain": [
       "'./20220408.log'"
      ]
     },
     "execution_count": 9,
     "metadata": {},
     "output_type": "execute_result"
    }
   ],
   "source": [
    "logfile()"
   ]
  },
  {
   "cell_type": "code",
   "execution_count": 3,
   "id": "b9300d1a",
   "metadata": {
    "init_cell": true,
    "tags": [
     "hide-input"
    ]
   },
   "outputs": [],
   "source": [
    "path=logfile()\n",
    "%logstop\n",
    "%logstart -otq $path"
   ]
  },
  {
   "cell_type": "code",
   "execution_count": 11,
   "id": "f240767f",
   "metadata": {},
   "outputs": [
    {
     "name": "stdout",
     "output_type": "stream",
     "text": [
      "Filename       : ./20220408.log\n",
      "Mode           : backup\n",
      "Output logging : True\n",
      "Raw input log  : False\n",
      "Timestamping   : True\n",
      "State          : active\n"
     ]
    }
   ],
   "source": [
    "%logstate"
   ]
  },
  {
   "cell_type": "markdown",
   "id": "a96bcbd5",
   "metadata": {},
   "source": [
    "```{attention}\n",
    "この記録を次のようにグラフ化します。\n",
    "```"
   ]
  },
  {
   "cell_type": "code",
   "execution_count": 24,
   "id": "6068e1df",
   "metadata": {},
   "outputs": [],
   "source": [
    "import pandas as pd\n",
    "import numpy as np\n",
    "\n",
    "def activity(user=os.environ.get('JUPYTERHUB_USER') or 'jovyan'):\n",
    "    ds = np.empty(0)\n",
    "    with open(logfile(user), 'r') as f:\n",
    "        for line in f:\n",
    "            try:\n",
    "                d = dt.strptime(line, \"# %a, %d %b %Y %H:%M:%S \")\n",
    "                ds = np.append(ds,pd.Timestamp(d))\n",
    "            except:\n",
    "                pass\n",
    "    return pd.Series(np.ones(len(ds)), ds)\n",
    "\n",
    "\n",
    "from matplotlib import pyplot as plt\n",
    "import seaborn as sns\n",
    "\n",
    "sns.set()\n",
    "\n",
    "def plot_ax(ax, user=''):\n",
    "    sns.scatterplot(ax=ax, data = activity(user), alpha=0.2, s=1000, edgecolor='none')\n",
    "    ax.set_ylabel(user, rotation=0, ha=\"right\", va=\"center\")"
   ]
  },
  {
   "cell_type": "code",
   "execution_count": 30,
   "id": "804bf432",
   "metadata": {},
   "outputs": [
    {
     "data": {
      "image/png": "[encoded data removed]",
      "text/plain": [
       "<Figure size 720x72 with 1 Axes>"
      ]
     },
     "metadata": {},
     "output_type": "display_data"
    }
   ],
   "source": [
    "# single user\n",
    "fig = plt.figure(figsize=(10,1))\n",
    "ax = fig.add_subplot(1,1,1)\n",
    "\n",
    "plt.setp(ax, xlim=(pd.Timestamp(dt.combine(date.today(),time(19,))),pd.Timestamp(dt.combine(date.today(),time(20,)))))\n",
    "plt.setp(ax, ylim=(0,2))\n",
    "plt.setp(ax, xticklabels=[])\n",
    "plt.setp(ax, yticklabels=[])\n",
    "\n",
    "plot_ax(ax, user='jovyan')"
   ]
  },
  {
   "cell_type": "code",
   "execution_count": 294,
   "id": "9f4188e9",
   "metadata": {},
   "outputs": [],
   "source": [
    "ids='''\n",
    "u187337i\n",
    "u267723d\n",
    "u998138i\n",
    "u938910d\n",
    "u516373c\n",
    "u934432e\n",
    "u280226g\n",
    "u753942g\n",
    "u173931e\n",
    "u538415j\n",
    "u793727e\n",
    "u838422k\n",
    "u231298c\n",
    "u494246k\n",
    "u029695j\n",
    "u954207e\n",
    "u511882g\n",
    "'''\n",
    "users=ids.strip().splitlines()"
   ]
  },
  {
   "cell_type": "code",
   "execution_count": 27,
   "id": "dbe0b0cb",
   "metadata": {
    "scrolled": true
   },
   "outputs": [
    {
     "data": {
      "image/png": "[encoded data removed]",
      "text/plain": [
       "<Figure size 720x216 with 3 Axes>"
      ]
     },
     "metadata": {},
     "output_type": "display_data"
    }
   ],
   "source": [
    "# multiple users\n",
    "users=['jovyan', 'jovyan', 'jovyan']\n",
    "fig, axes = plt.subplots(len(users),1,figsize=(10,len(users)))\n",
    "\n",
    "plt.setp(axes, xlim=(pd.Timestamp(dt.combine(date.today(),time(19,))),pd.Timestamp(dt.combine(date.today(),time(20,)))))\n",
    "plt.setp(axes, ylim=(0,2))\n",
    "plt.setp(axes, xticklabels=[])\n",
    "plt.setp(axes, yticklabels=[])\n",
    "\n",
    "for i in range(len(users)):\n",
    "    plot_ax(axes[i], users[i])"
   ]
  },
  {
   "cell_type": "markdown",
   "id": "8a2afd6a",
   "metadata": {},
   "source": [
    "```{attention}\n",
    "この講義では、受講者の操作を記録し、授業進行の指標とします。\n",
    "そのためノートブックの最初に次のセルを追加しています。\n",
    "ノートブックを読み込んだときに、これらのセルが自動実行されるように付加情報を埋め込んでいますが、\n",
    "それが機能するように、もう一つの手順が必要です。\n",
    "\n",
    "ノートブックを最初に読み込んだときに、右肩に \"Not Trusted\" と表示されています。\n",
    "今回の授業で配信するノートブックを予め信頼し \"Trusted\" 状態にする必要があります。\n",
    "```"
   ]
  },
  {
   "cell_type": "code",
   "execution_count": null,
   "id": "908a588e",
   "metadata": {},
   "outputs": [],
   "source": []
  }
 ],
 "metadata": {
  "celltoolbar": "Tags",
  "kernelspec": {
   "display_name": "Python 3 (ipykernel)",
   "language": "python",
   "name": "python3"
  },
  "language_info": {
   "codemirror_mode": {
    "name": "ipython",
    "version": 3
   },
   "file_extension": ".py",
   "mimetype": "text/x-python",
   "name": "python",
   "nbconvert_exporter": "python",
   "pygments_lexer": "ipython3",
   "version": "3.9.12"
  },
  "toc": {
   "base_numbering": 1,
   "nav_menu": {},
   "number_sections": true,
   "sideBar": true,
   "skip_h1_title": false,
   "title_cell": "Table of Contents",
   "title_sidebar": "Contents",
   "toc_cell": false,
   "toc_position": {},
   "toc_section_display": true,
   "toc_window_display": false
  }
 },
 "nbformat": 4,
 "nbformat_minor": 5
}
