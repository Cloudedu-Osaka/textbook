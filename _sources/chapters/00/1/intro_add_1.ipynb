{
 "cells": [
  {
   "cell_type": "markdown",
   "id": "bee59e7e",
   "metadata": {},
   "source": [
    "# Notebook execution"
   ]
  },
  {
   "cell_type": "markdown",
   "id": "0d9d22fb",
   "metadata": {},
   "source": [
    "この講義で配布する資料 (ノートブック) は、この講義用に準備したJupyterHubで実行が可能です。\n",
    "ノートブックの実行手順は次の通りです:\n",
    "* ウィンドウ上列のアイコン列のロケットにマウスカーソルを合わせる\n",
    "* プルダウンから \"Launch JupyterHub\" を選択する"
   ]
  },
  {
   "cell_type": "markdown",
   "id": "4a9f7c0b",
   "metadata": {},
   "source": [
    "```{attention}\n",
    "初回の実行にはコンピュータ資源確保のために時間がかかります。\n",
    "* クラウド上に仮想コンピュータを起動する\n",
    "* 配付資料を記録するためのストレージ領域を確保する (初回のみ)\n",
    "* 個人用のプログラミング環境を起動する\n",
    "```"
   ]
  },
  {
   "cell_type": "markdown",
   "id": "ab0bdd0e",
   "metadata": {},
   "source": [
    "次のセルを選択し、コントロールキーを押しながらリターン・キーを押すとセルの内容が実行出来ます。\n",
    "````{note}\n",
    "ノートブックを開いてから最初回のセルの実行には、プログラミング環境が起動するまでに時間がかかります。セルの実行中は、セルの先頭の ```In [ ]: ``` という表示が ```In [*]: ```に変わります。セルの実行が終了すると、表示は ```In [1]: ```の用に、何回目の実行かを示す数字に変わります。出力がある場合はセルの下に ```Out[1]: ```のようなセルが追加され表示されます。\n",
    "````"
   ]
  },
  {
   "cell_type": "code",
   "execution_count": 2,
   "id": "8de145da",
   "metadata": {},
   "outputs": [
    {
     "data": {
      "text/plain": [
       "2"
      ]
     },
     "execution_count": 2,
     "metadata": {},
     "output_type": "execute_result"
    }
   ],
   "source": [
    "1+1"
   ]
  },
  {
   "cell_type": "markdown",
   "id": "4593f874",
   "metadata": {},
   "source": [
    "```{attention}\n",
    "ノートブックの実行から配付資料に戻るには、ブラウザの戻るボタンを押してください。\n",
    "ただし、Firefoxを使っている場合は、配付資料の転送画面に戻ってしまうことがあるので、\n",
    "戻るボタンを長押しして、それよりも前の画面に戻ってください。\n",
    "```\n",
    "```{note}\n",
    "JupyterHubでノートブックを起動する際に、コンテキスト・メニューで新しいタブでリンクを開くと良いでしょう。\n",
    "```"
   ]
  },
  {
   "cell_type": "markdown",
   "id": "9c485413",
   "metadata": {},
   "source": [
    "```{attention}\n",
    "戻るボタンを押したとき、未保存のフォームを放置しても良いか確認が出ることがありますが、\n",
    "この講義では、とくに気にせず戻って構いません。\n",
    "```"
   ]
  },
  {
   "cell_type": "code",
   "execution_count": null,
   "id": "d53a68dc",
   "metadata": {},
   "outputs": [],
   "source": []
  }
 ],
 "metadata": {
  "kernelspec": {
   "display_name": "Python 3 (ipykernel)",
   "language": "python",
   "name": "python3"
  },
  "language_info": {
   "codemirror_mode": {
    "name": "ipython",
    "version": 3
   },
   "file_extension": ".py",
   "mimetype": "text/x-python",
   "name": "python",
   "nbconvert_exporter": "python",
   "pygments_lexer": "ipython3",
   "version": "3.9.12"
  },
  "toc": {
   "base_numbering": 1,
   "nav_menu": {},
   "number_sections": true,
   "sideBar": true,
   "skip_h1_title": false,
   "title_cell": "Table of Contents",
   "title_sidebar": "Contents",
   "toc_cell": false,
   "toc_position": {},
   "toc_section_display": true,
   "toc_window_display": false
  }
 },
 "nbformat": 4,
 "nbformat_minor": 5
}
