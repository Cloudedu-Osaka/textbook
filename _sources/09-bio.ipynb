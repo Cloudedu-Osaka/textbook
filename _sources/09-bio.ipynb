{
 "cells": [
  {
   "cell_type": "code",
   "execution_count": null,
   "id": "169431f5",
   "metadata": {},
   "outputs": [],
   "source": []
  },
  {
   "cell_type": "markdown",
   "id": "e28c14c3-be9c-4b96-9877-6a3c0904dc26",
   "metadata": {},
   "source": [
    "# SRI International"
   ]
  },
  {
   "cell_type": "markdown",
   "id": "83e8ae46-b3d6-4b18-a9c6-8964d2347ac5",
   "metadata": {},
   "source": [
    "* [SRI International - Wikipedia](https://en.wikipedia.org/wiki/SRI_International)\n",
    "  - [Douglas Engelbart - Wikipedia](https://en.wikipedia.org/wiki/Douglas_Engelbart)\n",
    "    - [Computer mouse - Wikipedia](https://en.wikipedia.org/wiki/Computer_mouse)\n",
    "    - [List of Internet pioneers - Wikipedia](https://en.wikipedia.org/wiki/List_of_Internet_pioneers)"
   ]
  },
  {
   "cell_type": "markdown",
   "id": "7a1bfc62-2290-4ced-a552-d52fb657f069",
   "metadata": {},
   "source": [
    "* [1968 “Mother of All Demos” by SRI’s Doug Engelbart and Team - YouTube](https://www.youtube.com/watch?v=B6rKUf9DWRI)"
   ]
  },
  {
   "cell_type": "markdown",
   "id": "8a8a699c",
   "metadata": {},
   "source": [
    "# yamanaka\n",
    "\n",
    "* [NHKアカデミア 第１回 <生命科学者・山中伸弥> - NHKアカデミア - NHK](https://www.nhk.jp/p/ts/XW1RWRY45R/blog/bl/pEGA4e5nv7/bp/pEmqBn6p0E/)\n",
    "* [Mus musculus (ID 52) - Genome - NCBI](https://www.ncbi.nlm.nih.gov/genome/?term=txid10090%5Borgn%5D)\n",
    "* [Nat1 N-acetyl transferase 1 [Mus musculus (house mouse)] - Gene - NCBI](https://www.ncbi.nlm.nih.gov/gene/17960)\n",
    "* [Nat1はマウスES細胞の分化を誘導する特定のタンパク質の翻訳を促進する｜ニュース｜ニュース・イベント｜CiRA（サイラ） | 京都大学 iPS細胞研究所](https://www.cira.kyoto-u.ac.jp/j/pressrelease/news/161227-140000.html)\n",
    "* [N-acetyltransferase 1 - Wikipedia](https://en.wikipedia.org/wiki/N-acetyltransferase_1)"
   ]
  },
  {
   "cell_type": "markdown",
   "id": "9804583c-8e6d-4461-a26f-ca7356d5bb1d",
   "metadata": {
    "tags": []
   },
   "source": [
    "## BioPython"
   ]
  },
  {
   "cell_type": "markdown",
   "id": "4ac4b478-2a54-4b53-948f-27879fafaa42",
   "metadata": {},
   "source": [
    "* [Biopythonを使ったバイオインフォマティクス（主に構造バイオインフォについて） - Qiita](https://qiita.com/Ag_smith/items/94c4b97729b043fae0cb)\n",
    "* [NCBI EntrezからFastaファイルをダウンロード - ばいばいバイオ](https://www.kimoton.com/entry/20180913/1536799887)\n",
    "* [Biopython を利用したNCBIのEntrez データベースへのアクセス - Qiita](https://qiita.com/joemphilips/items/767c67524e4b7e328834)"
   ]
  },
  {
   "cell_type": "code",
   "execution_count": null,
   "id": "538488fc-a326-4c3f-ba93-af99fd48ec64",
   "metadata": {},
   "outputs": [],
   "source": []
  },
  {
   "cell_type": "markdown",
   "id": "0d4b4148-e740-43ee-99a9-8359cc18cdd0",
   "metadata": {
    "tags": []
   },
   "source": [
    "## E. coli K-12 MG1655"
   ]
  },
  {
   "cell_type": "markdown",
   "id": "42f9b78b-29b9-44a0-91d9-3b2486d96665",
   "metadata": {},
   "source": [
    "* [Taxonomy browser (Escherichia coli K-12)](https://www.ncbi.nlm.nih.gov/Taxonomy/Browser/wwwtax.cgi?lvl=0&amp;id=83333)\n",
    "  - [Escherichia coli str. K-12 substr. MG1655 genome assembly ASM584v2 - NCBI - NLM](https://www.ncbi.nlm.nih.gov/data-hub/genome/GCF_000005845.2/)\n",
    "* [SmartTable All polypeptides of E. coli K-12 substr. MG1655](https://biocyc.org/group?id=:ALL-PROTEINS-1&orgid=ECOLI)\n",
    "\n",
    "### Protein: Yfdl\n",
    "\n",
    "* [yfdL pseudo [Escherichia coli str. K-12 substr. MG1655] - Gene - NCBI](https://www.ncbi.nlm.nih.gov/gene/949099/)\n",
    "* [serotype-specific glucosyl transferase YfdI [Escherichia coli str. K-1 - Protein - NCBI](https://www.ncbi.nlm.nih.gov/protein/NP_416853.1?report=genbank&log$=protalign&blast_rank=1&RID=CWPUHYB1016)\n",
    "* [UniProt](https://www.uniprot.org/uniprotkb/P76508/entry) - P76508"
   ]
  },
  {
   "cell_type": "markdown",
   "id": "895fd50e-dc30-4c67-84a6-bfb4027ca354",
   "metadata": {},
   "source": [
    "## e. coli MG1655"
   ]
  },
  {
   "cell_type": "markdown",
   "id": "1be57d5c-f1b9-4e5b-bd74-7ec5afae5b40",
   "metadata": {},
   "source": [
    "* [Escherichia coli (ID 167) - Genome - NCBI](https://www.ncbi.nlm.nih.gov/genome/?term=MG1655)"
   ]
  }
 ],
 "metadata": {
  "kernelspec": {
   "display_name": "Python 3 (ipykernel)",
   "language": "python",
   "name": "python3"
  },
  "language_info": {
   "codemirror_mode": {
    "name": "ipython",
    "version": 3
   },
   "file_extension": ".py",
   "mimetype": "text/x-python",
   "name": "python",
   "nbconvert_exporter": "python",
   "pygments_lexer": "ipython3",
   "version": "3.9.12"
  },
  "toc": {
   "base_numbering": 1,
   "nav_menu": {},
   "number_sections": true,
   "sideBar": true,
   "skip_h1_title": false,
   "title_cell": "Table of Contents",
   "title_sidebar": "Contents",
   "toc_cell": false,
   "toc_position": {},
   "toc_section_display": true,
   "toc_window_display": false
  }
 },
 "nbformat": 4,
 "nbformat_minor": 5
}
