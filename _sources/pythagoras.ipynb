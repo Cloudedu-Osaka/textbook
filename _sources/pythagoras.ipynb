{
 "cells": [
  {
   "cell_type": "markdown",
   "id": "255027e8",
   "metadata": {},
   "source": [
    "* [Pythagorean triple - Wikipedia](https://en.wikipedia.org/wiki/Pythagorean_triple)"
   ]
  },
  {
   "cell_type": "markdown",
   "id": "efc89db9",
   "metadata": {},
   "source": [
    "![fig-1](https://upload.wikimedia.org/wikipedia/commons/4/4c/Pythagorean_theorem_-_Ani.gif)"
   ]
  },
  {
   "cell_type": "code",
   "execution_count": null,
   "id": "0489fc31",
   "metadata": {},
   "outputs": [],
   "source": []
  }
 ],
 "metadata": {
  "kernelspec": {
   "display_name": "Python 3 (ipykernel)",
   "language": "python",
   "name": "python3"
  },
  "language_info": {
   "codemirror_mode": {
    "name": "ipython",
    "version": 3
   },
   "file_extension": ".py",
   "mimetype": "text/x-python",
   "name": "python",
   "nbconvert_exporter": "python",
   "pygments_lexer": "ipython3",
   "version": "3.9.12"
  },
  "toc": {
   "base_numbering": 1,
   "nav_menu": {},
   "number_sections": true,
   "sideBar": true,
   "skip_h1_title": false,
   "title_cell": "Table of Contents",
   "title_sidebar": "Contents",
   "toc_cell": false,
   "toc_position": {},
   "toc_section_display": true,
   "toc_window_display": false
  }
 },
 "nbformat": 4,
 "nbformat_minor": 5
}
