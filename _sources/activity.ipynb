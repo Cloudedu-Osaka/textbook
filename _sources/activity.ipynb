{
 "cells": [
  {
   "cell_type": "code",
   "execution_count": 269,
   "id": "4d9cb3eb",
   "metadata": {},
   "outputs": [],
   "source": [
    "import os\n",
    "import re\n",
    "import sqlalchemy\n",
    "\n",
    "class Activity():\n",
    "    \n",
    "    def __init__(self):\n",
    "        self.prefix = '/srv'\n",
    "        self.user  = os.environ.get('JUPYTERHUB_USER') or 'jovyan'\n",
    "        self.users = list(self._users())\n",
    "        self.engine = sqlalchemy.create_engine('sqlite:///jovyan.db')\n",
    "        \n",
    "    def _users(self):\n",
    "        pat = re.compile(r\"^u\\d{6}\\w$\") # OUID\n",
    "        if os.path.isdir(self.prefix):\n",
    "            yield from filter(pat.match, os.listdir(self.prefix))\n",
    "        else:\n",
    "            yield from ()"
   ]
  },
  {
   "cell_type": "code",
   "execution_count": 270,
   "id": "8b8c569c",
   "metadata": {},
   "outputs": [],
   "source": [
    "act=Activity()"
   ]
  },
  {
   "cell_type": "code",
   "execution_count": 271,
   "id": "6c7719d8",
   "metadata": {},
   "outputs": [
    {
     "data": {
      "text/plain": [
       "'jovyan'"
      ]
     },
     "execution_count": 271,
     "metadata": {},
     "output_type": "execute_result"
    }
   ],
   "source": [
    "act.user"
   ]
  },
  {
   "cell_type": "code",
   "execution_count": 2,
   "id": "a35b9318",
   "metadata": {},
   "outputs": [],
   "source": [
    "from datetime import datetime as dt\n",
    "\n",
    "class Activity(Activity):\n",
    "    \n",
    "    def _logfile(self, \n",
    "                 user=os.environ.get('JUPYTERHUB_USER') or 'jovyan', \n",
    "                 date=dt.now().strftime('%Y%m%d')):\n",
    "        \n",
    "        if os.path.isdir(self.prefix) and os.access(self.prefix, os.W_OK):\n",
    "            prefix=self.prefix+('/'+user)\n",
    "            if not os.path.exists(prefix):\n",
    "                os.makedirs(prefix)\n",
    "        else:\n",
    "            prefix='.'\n",
    "        return prefix+'/'+date+'.log'\n",
    "    \n",
    "    def _logfiles(self, sfx=\"\", user=os.environ.get('JUPYTERHUB_USER') or 'jovyan'):\n",
    "        \n",
    "        if os.path.isdir(self.prefix):\n",
    "            prefix=self.prefix+('/'+user)\n",
    "        else:\n",
    "            prefix='.'\n",
    "        if os.path.isdir(prefix):\n",
    "            pat = re.compile(r\"^(\\d{8})\"+sfx+r\"\\.log$\")\n",
    "            for f in os.listdir(prefix):\n",
    "                r = pat.search(f)\n",
    "                if r:\n",
    "                    yield r.group(1)\n",
    "        yield from ()"
   ]
  },
  {
   "cell_type": "code",
   "execution_count": 3,
   "id": "96d5a401",
   "metadata": {},
   "outputs": [],
   "source": [
    "act=Activity()"
   ]
  },
  {
   "cell_type": "code",
   "execution_count": 4,
   "id": "e70c2b0d",
   "metadata": {},
   "outputs": [
    {
     "data": {
      "text/plain": [
       "[]"
      ]
     },
     "execution_count": 4,
     "metadata": {},
     "output_type": "execute_result"
    }
   ],
   "source": [
    "[user for user in act._users()]"
   ]
  },
  {
   "cell_type": "code",
   "execution_count": 5,
   "id": "663c0f98",
   "metadata": {},
   "outputs": [
    {
     "data": {
      "text/plain": [
       "'./20220529-exc.log'"
      ]
     },
     "execution_count": 5,
     "metadata": {},
     "output_type": "execute_result"
    }
   ],
   "source": [
    "act._logfile().replace('.log', '-exc.log')"
   ]
  },
  {
   "cell_type": "code",
   "execution_count": 6,
   "id": "f4e1a9e7",
   "metadata": {},
   "outputs": [
    {
     "data": {
      "text/plain": [
       "['20220527', '20220516', '20220517', '20220524']"
      ]
     },
     "execution_count": 6,
     "metadata": {},
     "output_type": "execute_result"
    }
   ],
   "source": [
    "list(set(act._logfiles(sfx='-nbg')))"
   ]
  },
  {
   "cell_type": "code",
   "execution_count": null,
   "id": "880f8c18",
   "metadata": {},
   "outputs": [],
   "source": []
  },
  {
   "cell_type": "markdown",
   "id": "ea12d9ba",
   "metadata": {},
   "source": [
    "* [sql - Passing table name as a function parameter in Python/Pandas/PostgreSQL - Stack Overflow](https://stackoverflow.com/questions/43889687/passing-table-name-as-a-function-parameter-in-python-pandas-postgresql)\n",
    "* [python - Pandas read_sql with parameters - Stack Overflow](https://stackoverflow.com/questions/24408557/pandas-read-sql-with-parameters)"
   ]
  },
  {
   "cell_type": "code",
   "execution_count": 237,
   "id": "eda82c00",
   "metadata": {},
   "outputs": [
    {
     "data": {
      "text/plain": [
       "'select * from {table}'"
      ]
     },
     "execution_count": 237,
     "metadata": {},
     "output_type": "execute_result"
    }
   ],
   "source": [
    "qry"
   ]
  },
  {
   "cell_type": "code",
   "execution_count": 259,
   "id": "90d1ff81",
   "metadata": {},
   "outputs": [],
   "source": [
    "import pandas as pd\n",
    "import datetime\n",
    "\n",
    "class Activity(Activity):\n",
    "    \n",
    "    def activity(self, user=os.environ.get('JUPYTERHUB_USER') or 'jovyan'):\n",
    "  \n",
    "        qry_tmpl = '''select * from {table}'''\n",
    "        qry = qry_tmpl.format(**dict(table='nbgrader'))\n",
    "\n",
    "        try:\n",
    "            df = pd.read_sql(qry, self.engine, \n",
    "                             parse_dates=['index'])\n",
    "            df.set_index('index', drop=True, inplace=True)\n",
    "            df.index.name = 'time'\n",
    "            latest_index = df.index.to_pydatetime()[-1]\n",
    "        except sqlalchemy.exc.SQLAlchemyError:\n",
    "            latest_index = dt.min\n",
    "        print(latest_index)\n",
    "\n",
    "        pat = re.compile(r'(\\d{4})-(\\d{2})-(\\d{2}) (\\d{2}):(\\d{2}):(\\d{2}).*:summary: \\((\\d+), (\\d+), (\\d+)\\)')\n",
    "\n",
    "        for d in sorted(list(set(act._logfiles(sfx='-nbg')))):\n",
    "            try:\n",
    "                with open(self._logfile(date=d).replace('.log','-nbg.log'), 'r') as f:\n",
    "                    for l in f:\n",
    "                        r = pat.search(l)\n",
    "                        if r:\n",
    "                            dy, dm, dd, th, tm, ts, c, p, f = (int(s) for s in r.groups())\n",
    "                            d = datetime.datetime(dy, dm, dd, th, tm, ts)\n",
    "                            #print(pd.Timestamp(d), c, p, f)\n",
    "                            if d > latest_index and (int(p)+int(f))> 0:\n",
    "                                #ts_data = np.array((1.,(3*p+f)/(p+f)))\n",
    "                                #df_new = pd.DataFrame([ts_data])\n",
    "                                #df_new.index = [pd.Timestamp(d)]\n",
    "                                df_new = pd.DataFrame([[1., (3*p+f)/(p+f)]], \n",
    "                                                      columns=[\"y\", \"pass\"],\n",
    "                                                      index=[pd.Timestamp(d)])\n",
    "                                df_new.to_sql('nbgrader', self.engine, if_exists='append')\n",
    "            except:\n",
    "                pass"
   ]
  },
  {
   "cell_type": "code",
   "execution_count": 260,
   "id": "a97d41c7",
   "metadata": {},
   "outputs": [],
   "source": [
    "act=Activity()"
   ]
  },
  {
   "cell_type": "code",
   "execution_count": 261,
   "id": "d22dedca",
   "metadata": {},
   "outputs": [
    {
     "data": {
      "text/plain": [
       "'./20220517-nbg.log'"
      ]
     },
     "execution_count": 261,
     "metadata": {},
     "output_type": "execute_result"
    }
   ],
   "source": [
    "act._logfile(date='20220517').replace('.log', '-nbg.log')"
   ]
  },
  {
   "cell_type": "code",
   "execution_count": 262,
   "id": "27a44d49",
   "metadata": {},
   "outputs": [
    {
     "name": "stdout",
     "output_type": "stream",
     "text": [
      "0001-01-01 00:00:00\n"
     ]
    }
   ],
   "source": [
    "act.activity()"
   ]
  },
  {
   "cell_type": "code",
   "execution_count": 263,
   "id": "a943badf",
   "metadata": {},
   "outputs": [],
   "source": [
    "from datetime import datetime"
   ]
  },
  {
   "cell_type": "code",
   "execution_count": 264,
   "id": "ac3400c9",
   "metadata": {},
   "outputs": [
    {
     "data": {
      "text/plain": [
       "datetime.datetime(2022, 5, 24, 0, 0)"
      ]
     },
     "execution_count": 264,
     "metadata": {},
     "output_type": "execute_result"
    }
   ],
   "source": [
    "datetime(2022,5,24,0,0,0)"
   ]
  },
  {
   "cell_type": "code",
   "execution_count": 268,
   "id": "a8d80b28",
   "metadata": {},
   "outputs": [
    {
     "data": {
      "text/html": [
       "<div>\n",
       "<style scoped>\n",
       "    .dataframe tbody tr th:only-of-type {\n",
       "        vertical-align: middle;\n",
       "    }\n",
       "\n",
       "    .dataframe tbody tr th {\n",
       "        vertical-align: top;\n",
       "    }\n",
       "\n",
       "    .dataframe thead th {\n",
       "        text-align: right;\n",
       "    }\n",
       "</style>\n",
       "<table border=\"1\" class=\"dataframe\">\n",
       "  <thead>\n",
       "    <tr style=\"text-align: right;\">\n",
       "      <th></th>\n",
       "      <th>y</th>\n",
       "      <th>pass</th>\n",
       "    </tr>\n",
       "    <tr>\n",
       "      <th>time</th>\n",
       "      <th></th>\n",
       "      <th></th>\n",
       "    </tr>\n",
       "  </thead>\n",
       "  <tbody>\n",
       "    <tr>\n",
       "      <th>2022-05-24 13:46:20</th>\n",
       "      <td>1.0</td>\n",
       "      <td>3.0</td>\n",
       "    </tr>\n",
       "    <tr>\n",
       "      <th>2022-05-24 14:29:54</th>\n",
       "      <td>1.0</td>\n",
       "      <td>3.0</td>\n",
       "    </tr>\n",
       "    <tr>\n",
       "      <th>2022-05-24 14:50:09</th>\n",
       "      <td>1.0</td>\n",
       "      <td>3.0</td>\n",
       "    </tr>\n",
       "    <tr>\n",
       "      <th>2022-05-24 14:50:18</th>\n",
       "      <td>1.0</td>\n",
       "      <td>3.0</td>\n",
       "    </tr>\n",
       "    <tr>\n",
       "      <th>2022-05-24 14:55:00</th>\n",
       "      <td>1.0</td>\n",
       "      <td>3.0</td>\n",
       "    </tr>\n",
       "  </tbody>\n",
       "</table>\n",
       "</div>"
      ],
      "text/plain": [
       "                       y  pass\n",
       "time                          \n",
       "2022-05-24 13:46:20  1.0   3.0\n",
       "2022-05-24 14:29:54  1.0   3.0\n",
       "2022-05-24 14:50:09  1.0   3.0\n",
       "2022-05-24 14:50:18  1.0   3.0\n",
       "2022-05-24 14:55:00  1.0   3.0"
      ]
     },
     "execution_count": 268,
     "metadata": {},
     "output_type": "execute_result"
    }
   ],
   "source": [
    "qry_tmpl = '''select * from {table} where \"index\" between :dstart and :dfinish'''\n",
    "qry = qry_tmpl.format(**dict(table='nbgrader'))\n",
    "\n",
    "df = pd.read_sql(qry, act.engine, \n",
    "                 parse_dates=['index'], \n",
    "                 params={'dstart':  datetime(2022,5,24,0,0,0),\n",
    "                         'dfinish': datetime(2022,5,24,23,59,59)})\n",
    "df.set_index('index', drop=True, inplace=True)\n",
    "df.index.name = 'time'\n",
    "df"
   ]
  },
  {
   "cell_type": "code",
   "execution_count": 251,
   "id": "97a50252",
   "metadata": {},
   "outputs": [
    {
     "data": {
      "text/plain": [
       "datetime.datetime(1, 1, 1, 0, 0)"
      ]
     },
     "execution_count": 251,
     "metadata": {},
     "output_type": "execute_result"
    }
   ],
   "source": [
    "dt.min"
   ]
  },
  {
   "cell_type": "code",
   "execution_count": 163,
   "id": "9c678eed",
   "metadata": {},
   "outputs": [],
   "source": [
    "class Activity(Activity):\n",
    "    \n",
    "    def activity2(self, user=os.environ.get('JUPYTERHUB_USER') or 'jovyan'):\n",
    "\n",
    "        pat = re.compile(r\"^#\\[Out\\]#\")\n",
    "        \n",
    "        def _register(d, r):\n",
    "            df = pd.DataFrame([r], \n",
    "                              columns = [\"user\",\"y\",\"script\"], \n",
    "                              index=[pd.Timestamp(d)])\n",
    "            #df.to_sql('nbgrader', self.engine, if_exists='append')\n",
    "            print(df)\n",
    "\n",
    "        for d in sorted(list(set(act._logfiles()))):\n",
    "            try:\n",
    "                with open(self._logfile(date=d), 'r') as f:\n",
    "                    lp, dp = \"\", dt.min\n",
    "                    for line in f:\n",
    "                        try:\n",
    "                            dc = dt.strptime(line, \"# %a, %d %b %Y %H:%M:%S \")\n",
    "                            if lp and dp > dt.min:\n",
    "                                _register(dp, [user,1.,lp])\n",
    "                            lp, dp = \"\", dc\n",
    "                        except:\n",
    "                            if not pat.match(line):\n",
    "                                lp+=line\n",
    "                    else:\n",
    "                        _register(dp, [user,1.,lp])\n",
    "                        #print('EOF')\n",
    "            except:\n",
    "                pass"
   ]
  },
  {
   "cell_type": "code",
   "execution_count": 164,
   "id": "ca859f88",
   "metadata": {},
   "outputs": [],
   "source": [
    "act=Activity()"
   ]
  },
  {
   "cell_type": "code",
   "execution_count": 165,
   "id": "0afec64c",
   "metadata": {},
   "outputs": [
    {
     "name": "stdout",
     "output_type": "stream",
     "text": [
      "                       user    y  script\n",
      "2022-04-25 14:52:08  jovyan  1.0  path\\n\n",
      "                       user    y                             script\n",
      "2022-04-25 14:53:43  jovyan  1.0  path.replace('.log','-exc.log')\\n\n",
      "                       user    y                              script\n",
      "2022-04-25 14:53:55  jovyan  1.0  path.replace('.log$','-exc.log')\\n\n",
      "                       user    y  \\\n",
      "2022-04-25 14:55:28  jovyan  1.0   \n",
      "\n",
      "                                                                script  \n",
      "2022-04-25 14:55:28  # [python - cannot override sys.excepthook - S...  \n",
      "                       user    y                       script\n",
      "2022-04-25 14:55:32  jovyan  1.0  _showtraceback.__module__\\n\n",
      "                       user    y  \\\n",
      "2022-04-25 14:55:32  jovyan  1.0   \n",
      "\n",
      "                                                                script  \n",
      "2022-04-25 14:55:32  IPython.core.interactiveshell.InteractiveShell...  \n",
      "                       user    y script\n",
      "2022-04-25 14:55:33  jovyan  1.0  1/0\\n\n",
      "                       user    y  \\\n",
      "2022-04-25 14:56:57  jovyan  1.0   \n",
      "\n",
      "                                                                script  \n",
      "2022-04-25 14:56:57  # [python - cannot override sys.excepthook - S...  \n",
      "                       user    y                       script\n",
      "2022-04-25 14:56:58  jovyan  1.0  _showtraceback.__module__\\n\n",
      "                       user    y  \\\n",
      "2022-04-25 14:56:59  jovyan  1.0   \n",
      "\n",
      "                                                                script  \n",
      "2022-04-25 14:56:59  IPython.core.interactiveshell.InteractiveShell...  \n",
      "                       user    y script\n",
      "2022-04-25 14:57:00  jovyan  1.0  1/0\\n\n",
      "                       user    y                             script\n",
      "2022-04-26 09:05:52  jovyan  1.0  path.replace('.log','-exc.log')\\n\n",
      "                       user    y  \\\n",
      "2022-04-26 09:05:53  jovyan  1.0   \n",
      "\n",
      "                                                                script  \n",
      "2022-04-26 09:05:53  # [python - cannot override sys.excepthook - S...  \n",
      "                       user    y                       script\n",
      "2022-04-26 09:05:54  jovyan  1.0  _showtraceback.__module__\\n\n",
      "                       user    y  \\\n",
      "2022-04-26 09:05:55  jovyan  1.0   \n",
      "\n",
      "                                                                script  \n",
      "2022-04-26 09:05:55  IPython.core.interactiveshell.InteractiveShell...  \n",
      "                       user    y script\n",
      "2022-04-26 09:05:56  jovyan  1.0  1/0\\n\n",
      "                       user    y                           script\n",
      "2022-05-27 16:20:50  jovyan  1.0  import math\\nimport itertools\\n\n",
      "                       user    y  \\\n",
      "2022-05-27 16:20:50  jovyan  1.0   \n",
      "\n",
      "                                                                script  \n",
      "2022-05-27 16:20:50  def generate_p(i_max=2, j_max=2, k_max=2):\\n  ...  \n",
      "                       user    y  \\\n",
      "2022-05-27 16:20:50  jovyan  1.0   \n",
      "\n",
      "                                                                script  \n",
      "2022-05-27 16:20:50  def generate_p(i_max=2, j_max=2, k_max=2):\\n  ...  \n",
      "                       user    y                  script\n",
      "2022-05-27 16:20:50  jovyan  1.0  sorted(generate_p())\\n\n",
      "                       user    y  \\\n",
      "2022-05-27 16:20:50  jovyan  1.0   \n",
      "\n",
      "                                                                script  \n",
      "2022-05-27 16:20:50  list(itertools.product(range(2),range(2),range...  \n",
      "                       user    y  \\\n",
      "2022-05-27 16:20:50  jovyan  1.0   \n",
      "\n",
      "                                                                script  \n",
      "2022-05-27 16:20:50  import itertools\\n\\ndef generate_p(i_max=2, j_...  \n",
      "                       user    y                  script\n",
      "2022-05-27 16:20:50  jovyan  1.0  sorted(generate_p())\\n\n",
      "                       user    y  \\\n",
      "2022-05-27 16:20:50  jovyan  1.0   \n",
      "\n",
      "                                                                script  \n",
      "2022-05-27 16:20:50  [2**i * 3**j * 5**k for i,j,k in itertools.pro...  \n",
      "                       user    y  \\\n",
      "2022-05-27 16:20:50  jovyan  1.0   \n",
      "\n",
      "                                                                script  \n",
      "2022-05-27 16:20:50  pp = itertools.product(generate_p(), generate_...  \n",
      "                       user    y  \\\n",
      "2022-05-27 16:20:50  jovyan  1.0   \n",
      "\n",
      "                                                                script  \n",
      "2022-05-27 16:20:50  pp = itertools.product(generate_p(), repeat=2)...  \n",
      "                       user    y  \\\n",
      "2022-05-27 16:20:50  jovyan  1.0   \n",
      "\n",
      "                                                                script  \n",
      "2022-05-27 16:20:50  pq = []\\nfor p, q in itertools.product(generat...  \n",
      "                       user    y  \\\n",
      "2022-05-27 16:20:50  jovyan  1.0   \n",
      "\n",
      "                                                                script  \n",
      "2022-05-27 16:20:50  pq = []\\nfor p, q in itertools.product(generat...  \n",
      "                       user    y  \\\n",
      "2022-05-27 16:20:50  jovyan  1.0   \n",
      "\n",
      "                                                                script  \n",
      "2022-05-27 16:20:50  sorted(pq, reverse=True, key=lambda x: x[0]/x[...  \n",
      "                       user    y  \\\n",
      "2022-05-27 16:20:50  jovyan  1.0   \n",
      "\n",
      "                                                                script  \n",
      "2022-05-27 16:20:50  len(list(itertools.product(generate_p(), repea...  \n",
      "                       user    y  \\\n",
      "2022-05-27 16:20:50  jovyan  1.0   \n",
      "\n",
      "                                                                script  \n",
      "2022-05-27 16:20:50  len(list(filter(lambda x: x[0]>x[1], itertools...  \n",
      "                       user    y  \\\n",
      "2022-05-27 16:20:50  jovyan  1.0   \n",
      "\n",
      "                                                                script  \n",
      "2022-05-27 16:20:50  import math\\nlen(list(filter(lambda x: x[0]>x[...  \n",
      "                       user    y  \\\n",
      "2022-05-27 16:20:50  jovyan  1.0   \n",
      "\n",
      "                                                                script  \n",
      "2022-05-27 16:20:50  len(list(itertools.product(generate_p(4,3,5), ...  \n",
      "                       user    y  \\\n",
      "2022-05-27 16:20:50  jovyan  1.0   \n",
      "\n",
      "                                                                script  \n",
      "2022-05-27 16:20:50  len(list(filter(lambda x: x[0]>x[1], itertools...  \n",
      "                       user    y  \\\n",
      "2022-05-27 16:20:50  jovyan  1.0   \n",
      "\n",
      "                                                                script  \n",
      "2022-05-27 16:20:50  import math\\nlen(list(filter(lambda x: x[0]>x[...  \n",
      "                       user    y  \\\n",
      "2022-05-27 16:20:50  jovyan  1.0   \n",
      "\n",
      "                                                                script  \n",
      "2022-05-27 16:20:50  import math\\nlen(list(filter(lambda x: x[0]/x[...  \n",
      "                       user    y  \\\n",
      "2022-05-27 16:20:50  jovyan  1.0   \n",
      "\n",
      "                                                                script  \n",
      "2022-05-27 16:20:50  import math\\nlist(filter(lambda x: x[0]/x[1] >...  \n",
      "                       user    y  \\\n",
      "2022-05-27 16:20:50  jovyan  1.0   \n",
      "\n",
      "                                                                script  \n",
      "2022-05-27 16:20:50  def plimpton322(i_max=2, j_max=2, k_max=2):\\n ...  \n",
      "                       user    y           script\n",
      "2022-05-27 16:20:50  jovyan  1.0  plimpton322()\\n\n",
      "                       user    y                script\n",
      "2022-05-27 16:20:50  jovyan  1.0  plimpton322(4,3,2)\\n\n",
      "                       user    y  \\\n",
      "2022-05-27 16:20:50  jovyan  1.0   \n",
      "\n",
      "                                                                script  \n",
      "2022-05-27 16:20:50  for p, q in plimpton322(4,3,2):\\n    a = 2 * p...  \n",
      "                       user    y  \\\n",
      "2022-05-27 16:20:50  jovyan  1.0   \n",
      "\n",
      "                                                                script  \n",
      "2022-05-27 16:20:50  import pandas as pd\\nimport requests\\n\\nres = ...  \n",
      "                       user    y  \\\n",
      "2022-05-27 16:20:53  jovyan  1.0   \n",
      "\n",
      "                                                                script  \n",
      "2022-05-27 16:20:53  import numpy as np\\nimport pandas as pd\\nfrom ...  \n",
      "                       user    y  \\\n",
      "2022-05-27 16:20:53  jovyan  1.0   \n",
      "\n",
      "                                                                script  \n",
      "2022-05-27 16:20:53  df = pd.DataFrame(l, columns=['(b+d)/a', '(b-d...  \n",
      "                       user    y script\n",
      "2022-05-27 16:20:53  jovyan  1.0   df\\n\n",
      "                       user    y  \\\n",
      "2022-05-27 16:20:53  jovyan  1.0   \n",
      "\n",
      "                                                                script  \n",
      "2022-05-27 16:20:53  from nose.tools import assert_equal, assert_tr...  \n",
      "                       user    y                                   script\n",
      "2022-05-27 16:20:53  jovyan  1.0  assert_equal(plimpton322(), [(2, 1)])\\n\n",
      "                       user    y  \\\n",
      "2022-05-27 16:20:53  jovyan  1.0   \n",
      "\n",
      "                                                                script  \n",
      "2022-05-27 16:20:53  assert_equal(plimpton322(4,3,2), [(12, 5), (9,...  \n",
      "                       user    y     script\n",
      "2022-05-27 16:21:12  jovyan  1.0  2 * * 3\\n\n",
      "                       user    y  \\\n",
      "2022-05-27 18:19:32  jovyan  1.0   \n",
      "\n",
      "                                                                script  \n",
      "2022-05-27 18:19:32  # initialization for my classroom\\nimport os\\n...  \n",
      "                       user    y  \\\n",
      "2022-05-27 19:21:04  jovyan  1.0   \n",
      "\n",
      "                                                                script  \n",
      "2022-05-27 19:21:04  # initialization for my classroom\\nimport os\\n...  \n",
      "                       user    y  \\\n",
      "2022-05-27 19:52:05  jovyan  1.0   \n",
      "\n",
      "                                                                script  \n",
      "2022-05-27 19:52:05  # initialization for my classroom\\nimport os\\n...  \n",
      "                       user    y  \\\n",
      "2022-05-27 22:04:49  jovyan  1.0   \n",
      "\n",
      "                                                                script  \n",
      "2022-05-27 22:04:49  # initialization for my classroom\\nimport os\\n...  \n",
      "                       user    y  \\\n",
      "2022-05-27 22:59:42  jovyan  1.0   \n",
      "\n",
      "                                                                script  \n",
      "2022-05-27 22:59:42  # initialization for my classroom\\nimport os\\n...  \n",
      "                       user    y  \\\n",
      "2022-05-27 23:44:30  jovyan  1.0   \n",
      "\n",
      "                                                                script  \n",
      "2022-05-27 23:44:30  # initialization for my classroom\\nimport os\\n...  \n",
      "                       user    y  \\\n",
      "2022-05-28 10:51:12  jovyan  1.0   \n",
      "\n",
      "                                                                script  \n",
      "2022-05-28 10:51:12  # initialization for my classroom\\nimport os\\n...  \n",
      "                       user    y  \\\n",
      "2022-05-28 11:26:41  jovyan  1.0   \n",
      "\n",
      "                                                                script  \n",
      "2022-05-28 11:26:41  # initialization for my classroom\\nimport os\\n...  \n",
      "                       user    y  \\\n",
      "2022-05-28 12:51:20  jovyan  1.0   \n",
      "\n",
      "                                                                script  \n",
      "2022-05-28 12:51:20  # initialization for my classroom\\nimport os\\n...  \n",
      "                       user    y  \\\n",
      "2022-05-28 13:48:21  jovyan  1.0   \n",
      "\n",
      "                                                                script  \n",
      "2022-05-28 13:48:21  # initialization for my classroom\\nimport os\\n...  \n",
      "                       user    y  \\\n",
      "2022-05-28 16:07:42  jovyan  1.0   \n",
      "\n",
      "                                                                script  \n",
      "2022-05-28 16:07:42  # initialization for my classroom\\nimport os\\n...  \n",
      "                       user    y  \\\n",
      "2022-05-28 18:19:33  jovyan  1.0   \n",
      "\n",
      "                                                                script  \n",
      "2022-05-28 18:19:33  # initialization for my classroom\\nimport os\\n...  \n",
      "                       user    y  \\\n",
      "2022-05-28 21:51:47  jovyan  1.0   \n",
      "\n",
      "                                                                script  \n",
      "2022-05-28 21:51:47  # initialization for my classroom\\nimport os\\n...  \n",
      "                       user    y  \\\n",
      "2022-05-28 22:54:48  jovyan  1.0   \n",
      "\n",
      "                                                                script  \n",
      "2022-05-28 22:54:48  # initialization for my classroom\\nimport os\\n...  \n",
      "                       user    y  \\\n",
      "2022-05-28 22:55:10  jovyan  1.0   \n",
      "\n",
      "                                                                script  \n",
      "2022-05-28 22:55:10  # initialization for my classroom\\nimport os\\n...  \n",
      "                       user    y  \\\n",
      "2022-05-29 10:09:44  jovyan  1.0   \n",
      "\n",
      "                                                                script  \n",
      "2022-05-29 10:09:44  # initialization for my classroom\\nimport os\\n...  \n",
      "                       user    y  \\\n",
      "2022-05-29 12:16:06  jovyan  1.0   \n",
      "\n",
      "                                                                script  \n",
      "2022-05-29 12:16:06  # initialization for my classroom\\nimport os\\n...  \n"
     ]
    }
   ],
   "source": [
    "act.activity2()"
   ]
  },
  {
   "cell_type": "code",
   "execution_count": 156,
   "id": "df39715a",
   "metadata": {},
   "outputs": [
    {
     "name": "stdout",
     "output_type": "stream",
     "text": [
      "   0     1\n",
      "0  1  tako\n"
     ]
    }
   ],
   "source": [
    "df_new = pd.DataFrame([[1, \"tako\"]])\n",
    "print(df_new)"
   ]
  },
  {
   "cell_type": "code",
   "execution_count": 157,
   "id": "dfacf550",
   "metadata": {},
   "outputs": [
    {
     "name": "stdout",
     "output_type": "stream",
     "text": [
      "ika\n"
     ]
    }
   ],
   "source": [
    "if len(\"tako\")>0:\n",
    "    print(\"ika\")"
   ]
  },
  {
   "cell_type": "code",
   "execution_count": 93,
   "id": "da9a2002",
   "metadata": {},
   "outputs": [
    {
     "data": {
      "text/plain": [
       "'./20220425.log'"
      ]
     },
     "execution_count": 93,
     "metadata": {},
     "output_type": "execute_result"
    }
   ],
   "source": [
    "act._logfile(date='20220425')"
   ]
  },
  {
   "cell_type": "code",
   "execution_count": 294,
   "id": "cf37e47b",
   "metadata": {},
   "outputs": [
    {
     "data": {
      "text/plain": [
       "0"
      ]
     },
     "execution_count": 294,
     "metadata": {},
     "output_type": "execute_result"
    }
   ],
   "source": [
    "len(\"\")"
   ]
  },
  {
   "cell_type": "code",
   "execution_count": null,
   "id": "e5d22376",
   "metadata": {},
   "outputs": [],
   "source": []
  },
  {
   "cell_type": "code",
   "execution_count": 171,
   "id": "72a882ba",
   "metadata": {},
   "outputs": [
    {
     "data": {
      "text/plain": [
       "['nbgrader']"
      ]
     },
     "execution_count": 171,
     "metadata": {},
     "output_type": "execute_result"
    }
   ],
   "source": [
    "inspector = sqlalchemy.inspect(act.engine)\n",
    "inspector.get_table_names()"
   ]
  },
  {
   "cell_type": "markdown",
   "id": "b0a9b81e",
   "metadata": {},
   "source": [
    "* [python - How to set a timer & clear a timer? - Stack Overflow](https://stackoverflow.com/questions/24968311/how-to-set-a-timer-clear-a-timer)"
   ]
  },
  {
   "cell_type": "code",
   "execution_count": 177,
   "id": "afe28504",
   "metadata": {},
   "outputs": [],
   "source": [
    "import asyncio\n",
    "\n",
    "async def handler(signum, frame):\n",
    "    print(\"helo\")\n"
   ]
  },
  {
   "cell_type": "code",
   "execution_count": 180,
   "id": "532a65d5",
   "metadata": {},
   "outputs": [],
   "source": [
    "from timeout_decorator import timeout, TimeoutError\n",
    "import time"
   ]
  },
  {
   "cell_type": "code",
   "execution_count": 182,
   "id": "04f5c0da",
   "metadata": {},
   "outputs": [
    {
     "name": "stdout",
     "output_type": "stream",
     "text": [
      "tick\n",
      "tick\n",
      "tick\n"
     ]
    }
   ],
   "source": [
    "\n",
    "@timeout(3)\n",
    "def l():\n",
    "    while True:\n",
    "        print('tick')\n",
    "        time.sleep(1)\n",
    "\n",
    "try:\n",
    "    l()\n",
    "except TimeoutError:\n",
    "    pass"
   ]
  },
  {
   "cell_type": "code",
   "execution_count": 195,
   "id": "64db9e99",
   "metadata": {},
   "outputs": [
    {
     "name": "stdout",
     "output_type": "stream",
     "text": [
      "tick\n",
      "tick\n",
      "tick\n",
      "tick\n",
      "tick\n",
      "tick\n",
      "tick\n",
      "tick\n",
      "tick\n",
      "tick\n",
      "Tick\n",
      "Tock\n"
     ]
    }
   ],
   "source": [
    "from time import sleep\n",
    "from threading import Timer\n",
    "\n",
    "def timeout():\n",
    "    print(\"Tick\")\n",
    "\n",
    "t = Timer(3.0, timeout)\n",
    "t.start()\n",
    "\n",
    "for _ in range(10):\n",
    "    t.cancel()\n",
    "    print('tick')\n",
    "    t = Timer(3.0, timeout)\n",
    "    t.start()\n",
    "\n",
    "sleep(5)\n",
    "print('Tock')"
   ]
  },
  {
   "cell_type": "code",
   "execution_count": 6,
   "id": "99964b31",
   "metadata": {},
   "outputs": [],
   "source": []
  },
  {
   "cell_type": "code",
   "execution_count": null,
   "id": "bdf21e9d",
   "metadata": {},
   "outputs": [],
   "source": []
  },
  {
   "cell_type": "code",
   "execution_count": null,
   "id": "92f942b1",
   "metadata": {},
   "outputs": [],
   "source": []
  },
  {
   "cell_type": "code",
   "execution_count": 17,
   "id": "9af2ec98",
   "metadata": {},
   "outputs": [],
   "source": []
  },
  {
   "cell_type": "code",
   "execution_count": 85,
   "id": "50ba6c9f",
   "metadata": {},
   "outputs": [
    {
     "data": {
      "text/plain": [
       "array([3., 3., 3., 3., 1., 3., 3., 3., 3.])"
      ]
     },
     "execution_count": 85,
     "metadata": {},
     "output_type": "execute_result"
    }
   ],
   "source": [
    "df.iloc[:,1].values"
   ]
  },
  {
   "cell_type": "code",
   "execution_count": 88,
   "id": "13f95b13",
   "metadata": {},
   "outputs": [],
   "source": [
    "import matplotlib.pyplot as plt\n",
    "import seaborn as sns\n",
    "\n",
    "sns.set()\n",
    "\n",
    "def plot_ax(ax, user=os.environ.get('JUPYTERHUB_USER') or 'jovyan'):\n",
    "    df = pd.read_sql('''select * from nbgrader''',\n",
    "                     act.engine, parse_dates=['index'])\n",
    "    df.set_index('index', drop=True, inplace=True)\n",
    "    df.index.name = 'time'\n",
    "    if len(df)>0:\n",
    "        cmap = plt.cm.Spectral\n",
    "        ax.scatter(\n",
    "            x=df.index, y=df['y'].values, \n",
    "            c=df['pass'].values, s=df['pass'].values*500,\n",
    "            cmap='Spectral',\n",
    "            alpha=0.4, edgecolor='none'\n",
    "        )\n",
    "    ax.set_ylabel(user, rotation=0, ha=\"right\", va=\"center\")"
   ]
  },
  {
   "cell_type": "code",
   "execution_count": 90,
   "id": "e4046a31",
   "metadata": {},
   "outputs": [
    {
     "data": {
      "image/png": "[encoded data removed]",
      "text/plain": [
       "<Figure size 720x72 with 1 Axes>"
      ]
     },
     "metadata": {},
     "output_type": "display_data"
    }
   ],
   "source": [
    "from datetime import date\n",
    "from datetime import time\n",
    "\n",
    "fig = plt.figure(figsize=(10,1))\n",
    "ax = fig.add_subplot(1,1,1)\n",
    "\n",
    "plt.setp(ax, xlim=(pd.Timestamp(dt.combine(date.today(),time(dt.now().hour-10,))), \n",
    "                   pd.Timestamp(dt.combine(date.today(),time(dt.now().hour,59,59)))))\n",
    "plt.setp(ax, ylim=(0,2))\n",
    "plt.setp(ax, xticklabels=[])\n",
    "plt.setp(ax, yticklabels=[])\n",
    "plot_ax(ax)"
   ]
  },
  {
   "cell_type": "code",
   "execution_count": null,
   "id": "3779e47a",
   "metadata": {},
   "outputs": [],
   "source": []
  }
 ],
 "metadata": {
  "kernelspec": {
   "display_name": "Python 3 (ipykernel)",
   "language": "python",
   "name": "python3"
  },
  "language_info": {
   "codemirror_mode": {
    "name": "ipython",
    "version": 3
   },
   "file_extension": ".py",
   "mimetype": "text/x-python",
   "name": "python",
   "nbconvert_exporter": "python",
   "pygments_lexer": "ipython3",
   "version": "3.9.12"
  },
  "toc": {
   "base_numbering": 1,
   "nav_menu": {},
   "number_sections": true,
   "sideBar": true,
   "skip_h1_title": false,
   "title_cell": "Table of Contents",
   "title_sidebar": "Contents",
   "toc_cell": false,
   "toc_position": {},
   "toc_section_display": true,
   "toc_window_display": false
  }
 },
 "nbformat": 4,
 "nbformat_minor": 5
}
