{
 "cells": [
  {
   "cell_type": "markdown",
   "id": "7ec6a29c",
   "metadata": {},
   "source": [
    "# Plimpton322 の解読"
   ]
  },
  {
   "cell_type": "markdown",
   "id": "f1888f40",
   "metadata": {},
   "source": [
    "古代メソポタミア (紀元前3千年紀から紀元前1千年紀まで) では楔形文字が使われていた. 数字の構成要素は単純で,  1 から 9 までの数を縦楔で表し,  10毎に横弓にまとめて漢字の編の位置に置く. この構成で 1 から 59 までを表す60進法を採用していた. ゼロはなく, 位取りで空位の桁はそのまま空欄で表現していたが, 時代が下ると, その位置に空位であることを表す記号が使われるようになったと言われている."
   ]
  },
  {
   "cell_type": "markdown",
   "id": "d618db20",
   "metadata": {},
   "source": []
  },
  {
   "cell_type": "markdown",
   "id": "ba82a90f",
   "metadata": {},
   "source": []
  },
  {
   "cell_type": "markdown",
   "id": "b8bb1dc5",
   "metadata": {},
   "source": []
  },
  {
   "cell_type": "markdown",
   "id": "4cf59d11",
   "metadata": {},
   "source": []
  },
  {
   "cell_type": "markdown",
   "id": "b1806096",
   "metadata": {},
   "source": [
    "Plimpton322は数字が整然と配置されており, 横罫も描かれているので, 数表であることは明らかだが, バビロニアの数学的背景がわからないと数学的解読は難しい. 右端は昇順で行番号が振られている. 左端は桁数の大きな数字が並んでいるが, 左上に大きな欠落があるため一貫した判読は難しい. 鮮明に残っていて判読可能な中程の二列を抜き出す."
   ]
  },
  {
   "cell_type": "markdown",
   "id": "73f7ea8c",
   "metadata": {},
   "source": []
  },
  {
   "cell_type": "code",
   "execution_count": 15,
   "id": "b45d081c",
   "metadata": {},
   "outputs": [],
   "source": [
    "\n",
    "import numpy as np"
   ]
  },
  {
   "cell_type": "code",
   "execution_count": 3,
   "id": "96f9e869",
   "metadata": {},
   "outputs": [],
   "source": []
  },
  {
   "cell_type": "code",
   "execution_count": 5,
   "id": "a67e0237",
   "metadata": {},
   "outputs": [],
   "source": [
    "res;"
   ]
  },
  {
   "cell_type": "code",
   "execution_count": null,
   "id": "add67ed7",
   "metadata": {},
   "outputs": [],
   "source": []
  },
  {
   "cell_type": "code",
   "execution_count": 8,
   "id": "af2e56cb",
   "metadata": {},
   "outputs": [
    {
     "data": {
      "text/plain": [
       "array(['1 59', '56 07', '1 16 41', '3 31 49', '1 05', '5 19', '38 11',\n",
       "       '13 19', '9 01 [8] 01', '1 22 41', '45', '27 59', '7 12 01 [2 41]',\n",
       "       '29 31', '56 56 [28] (alt.)'], dtype=object)"
      ]
     },
     "execution_count": 8,
     "metadata": {},
     "output_type": "execute_result"
    }
   ],
   "source": [
    "df0.iloc[:,1].values"
   ]
  },
  {
   "cell_type": "code",
   "execution_count": 36,
   "id": "c6a917b7",
   "metadata": {},
   "outputs": [
    {
     "data": {
      "text/plain": [
       "[[1, 59],\n",
       " [56, 7],\n",
       " [1, 16, 41],\n",
       " [3, 31, 49],\n",
       " [1, 5],\n",
       " [5, 19],\n",
       " [38, 11],\n",
       " [13, 19],\n",
       " [0],\n",
       " [1, 22, 41],\n",
       " [45],\n",
       " [27, 59],\n",
       " [0],\n",
       " [29, 31],\n",
       " [0]]"
      ]
     },
     "execution_count": 36,
     "metadata": {},
     "output_type": "execute_result"
    }
   ],
   "source": [
    "l1 = []\n",
    "for s in df0.iloc[:,1].values:\n",
    "    try:\n",
    "        l1.append(list(map(int, s.split())))\n",
    "    except:\n",
    "        l1.append([0])\n",
    "l1"
   ]
  },
  {
   "cell_type": "code",
   "execution_count": 37,
   "id": "f3380cf6",
   "metadata": {},
   "outputs": [
    {
     "data": {
      "text/plain": [
       "[[2, 49],\n",
       " [0],\n",
       " [1, 50, 49],\n",
       " [5, 9, 1],\n",
       " [1, 37],\n",
       " [8, 1],\n",
       " [59, 1],\n",
       " [20, 49],\n",
       " [12, 49],\n",
       " [2, 16, 1],\n",
       " [1, 15],\n",
       " [48, 49],\n",
       " [4, 49],\n",
       " [53, 49],\n",
       " [0]]"
      ]
     },
     "execution_count": 37,
     "metadata": {},
     "output_type": "execute_result"
    }
   ],
   "source": [
    "l2 = []\n",
    "for s in df0.iloc[:,2].values:\n",
    "    try:\n",
    "        l2.append(list(map(int, s.split())))\n",
    "    except:\n",
    "        l2.append([0])\n",
    "l2"
   ]
  },
  {
   "cell_type": "code",
   "execution_count": 34,
   "id": "f9de0d94",
   "metadata": {},
   "outputs": [],
   "source": [
    "def N_to_Dec(digits, base=60):\n",
    "    num = 0\n",
    "    for digit in digits:\n",
    "        num = num * base + digit\n",
    "    return num"
   ]
  },
  {
   "cell_type": "code",
   "execution_count": 29,
   "id": "8fdc96da",
   "metadata": {},
   "outputs": [],
   "source": [
    "from functools import reduce"
   ]
  },
  {
   "cell_type": "code",
   "execution_count": 30,
   "id": "747c4b4d",
   "metadata": {},
   "outputs": [
    {
     "data": {
      "text/plain": [
       "119"
      ]
     },
     "execution_count": 30,
     "metadata": {},
     "output_type": "execute_result"
    }
   ],
   "source": [
    "base=60\n",
    "reduce(lambda num, digit: num * base + digit, [1,59])"
   ]
  },
  {
   "cell_type": "code",
   "execution_count": 31,
   "id": "cf0a2bec",
   "metadata": {},
   "outputs": [
    {
     "data": {
      "text/plain": [
       "[119, 3367, 4601, 12709, 65, 319, 2291, 799, 0, 4961, 45, 1679, 0, 1771, 0]"
      ]
     },
     "execution_count": 31,
     "metadata": {},
     "output_type": "execute_result"
    }
   ],
   "source": [
    "[reduce(lambda num, digit: num * base + digit, n) for n in l]"
   ]
  },
  {
   "cell_type": "code",
   "execution_count": 39,
   "id": "1ee2859e",
   "metadata": {},
   "outputs": [
    {
     "data": {
      "text/plain": [
       "[(119, 169),\n",
       " (3367, 0),\n",
       " (4601, 6649),\n",
       " (12709, 18541),\n",
       " (65, 97),\n",
       " (319, 481),\n",
       " (2291, 3541),\n",
       " (799, 1249),\n",
       " (0, 769),\n",
       " (4961, 8161),\n",
       " (45, 75),\n",
       " (1679, 2929),\n",
       " (0, 289),\n",
       " (1771, 3229),\n",
       " (0, 0)]"
      ]
     },
     "execution_count": 39,
     "metadata": {},
     "output_type": "execute_result"
    }
   ],
   "source": [
    "list(zip([N_to_Dec(d) for d in l1], [N_to_Dec(d) for d in l2]))"
   ]
  },
  {
   "cell_type": "code",
   "execution_count": null,
   "id": "668f8e21",
   "metadata": {},
   "outputs": [],
   "source": []
  }
 ],
 "metadata": {
  "kernelspec": {
   "display_name": "Python 3 (ipykernel)",
   "language": "python",
   "name": "python3"
  },
  "language_info": {
   "codemirror_mode": {
    "name": "ipython",
    "version": 3
   },
   "file_extension": ".py",
   "mimetype": "text/x-python",
   "name": "python",
   "nbconvert_exporter": "python",
   "pygments_lexer": "ipython3",
   "version": "3.9.12"
  },
  "toc": {
   "base_numbering": 1,
   "nav_menu": {},
   "number_sections": true,
   "sideBar": true,
   "skip_h1_title": false,
   "title_cell": "Table of Contents",
   "title_sidebar": "Contents",
   "toc_cell": false,
   "toc_position": {},
   "toc_section_display": true,
   "toc_window_display": false
  }
 },
 "nbformat": 4,
 "nbformat_minor": 5
}
