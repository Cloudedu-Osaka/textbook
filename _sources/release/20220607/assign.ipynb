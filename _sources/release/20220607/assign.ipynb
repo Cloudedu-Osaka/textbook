{
 "cells": [
  {
   "cell_type": "code",
   "execution_count": null,
   "id": "2eadbfaf",
   "metadata": {
    "hide_input": true,
    "init_cell": true,
    "tags": [
     "remove-input"
    ]
   },
   "outputs": [],
   "source": [
    "# initialization for my classroom\n",
    "import os\n",
    "from datetime import datetime as dt\n",
    "\n",
    "def logfile(user=os.environ.get('JUPYTERHUB_USER') or 'jovyan'):\n",
    "    prefix='/srv'\n",
    "    if os.path.isdir(prefix) and os.access(prefix, os.W_OK):\n",
    "        prefix+=('/'+user)\n",
    "        if not os.path.isdir(prefix):\n",
    "            os.makedirs(prefix)\n",
    "    else:\n",
    "        prefix='.'\n",
    "    return prefix+'/'+dt.now().strftime('%Y%m%d')+'.log'\n",
    "\n",
    "path=logfile()\n",
    "#%logstop\n",
    "%logstart -otq $path append\n",
    "\n",
    "# [python - cannot override sys.excepthook - Stack Overflow](https://stackoverflow.com/questions/1261668/cannot-override-sys-excepthook/28758396)\n",
    "# https://github.com/ipython/ipython/blob/e6432249582e05f438303ce73d082a0351bb383e/IPython/core/interactiveshell.py#L1952\n",
    "\n",
    "import sys\n",
    "import traceback\n",
    "import IPython\n",
    "\n",
    "try:\n",
    "    _showtraceback\n",
    "except NameError:\n",
    "    _showtraceback=IPython.core.interactiveshell.InteractiveShell.showtraceback\n",
    "\n",
    "try:\n",
    "    _showsyntaxerror\n",
    "except NameError:\n",
    "    _showsyntaxerror=IPython.core.interactiveshell.InteractiveShell.showsyntaxerror\n",
    "\n",
    "import logging\n",
    "logging.basicConfig(filename=path.replace('.log','-exc.log'), format='%(asctime)s %(message)s', level=logging.ERROR, force=True)\n",
    "\n",
    "import sys\n",
    "import traceback\n",
    "import IPython\n",
    "\n",
    "def showtraceback(self, *args, **kwargs):\n",
    "    etype, value, tb = self._get_exc_info(kwargs.get('exc_tuple'))\n",
    "    stb = self.InteractiveTB.structured_traceback(\n",
    "        etype, value, tb, tb_offset=kwargs.get('tb_offset'))\n",
    "    logging.error(os.environ.get('JUPYTERHUB_USER') or 'jovyan')\n",
    "    logging.error(self.InteractiveTB.stb2text(stb))\n",
    "    _showtraceback(self, *args, **kwargs)\n",
    "\n",
    "def showsyntaxerror(self, *args, **kwargs):\n",
    "    etype, value, last_traceback = self._get_exc_info()\n",
    "    elist = traceback.extract_tb(last_traceback) if kwargs.get('running_compiled_code') else []\n",
    "    stb = self.SyntaxTB.structured_traceback(etype, value, elist)\n",
    "    logging.error(os.environ.get('JUPYTERHUB_USER') or 'jovyan')\n",
    "    logging.error(self.InteractiveTB.stb2text(stb))\n",
    "    _showsyntaxerror(self, *args, **kwargs)\n",
    "\n",
    "IPython.core.interactiveshell.InteractiveShell.showtraceback = showtraceback\n",
    "IPython.core.interactiveshell.InteractiveShell.showsyntaxerror = showsyntaxerror"
   ]
  },
  {
   "cell_type": "markdown",
   "id": "372e244d",
   "metadata": {
    "deletable": false,
    "editable": false,
    "hide_input": false,
    "nbgrader": {
     "cell_type": "markdown",
     "checksum": "491d3ec0391a4d42adbaa37cf3d709d6",
     "grade": false,
     "grade_id": "cell-9d90be964f5c82ce",
     "locked": true,
     "schema_version": 3,
     "solution": false,
     "task": false
    }
   },
   "source": [
    "# Assingment\n",
    "\n",
    "* [Addition - Wikipedia](https://en.wikipedia.org/wiki/Addition)"
   ]
  },
  {
   "cell_type": "markdown",
   "id": "558075a9",
   "metadata": {
    "deletable": false,
    "editable": false,
    "nbgrader": {
     "cell_type": "markdown",
     "checksum": "63a5bd2160f48e26288291876a7157e8",
     "grade": false,
     "grade_id": "cell-6265ecbdc14d661d",
     "locked": true,
     "schema_version": 3,
     "solution": false,
     "task": false
    }
   },
   "source": [
    "Step-1) 与えられた整数の桁を逆に並べたリストを作る"
   ]
  },
  {
   "cell_type": "code",
   "execution_count": null,
   "id": "d0042339",
   "metadata": {
    "deletable": false,
    "editable": false,
    "nbgrader": {
     "cell_type": "code",
     "checksum": "ad37562bf144aa5c4f7b4b0d786de143",
     "grade": false,
     "grade_id": "cell-f936a78d250f6839",
     "locked": true,
     "schema_version": 3,
     "solution": false,
     "task": false
    }
   },
   "outputs": [],
   "source": [
    "str(1024)"
   ]
  },
  {
   "cell_type": "code",
   "execution_count": null,
   "id": "e64b71bf",
   "metadata": {
    "deletable": false,
    "editable": false,
    "nbgrader": {
     "cell_type": "code",
     "checksum": "238e39b15bd71594db2369d0b7e6186f",
     "grade": false,
     "grade_id": "cell-b58f1dd1b1324533",
     "locked": true,
     "schema_version": 3,
     "solution": false,
     "task": false
    }
   },
   "outputs": [],
   "source": [
    "list(reversed(str(1024)))"
   ]
  },
  {
   "cell_type": "code",
   "execution_count": null,
   "id": "84deecb4",
   "metadata": {},
   "outputs": [],
   "source": [
    "list(map(int,reversed(str(1024))))"
   ]
  },
  {
   "cell_type": "code",
   "execution_count": null,
   "id": "b16b166b",
   "metadata": {},
   "outputs": [],
   "source": []
  },
  {
   "cell_type": "code",
   "execution_count": null,
   "id": "51d3f0ab",
   "metadata": {},
   "outputs": [],
   "source": []
  },
  {
   "cell_type": "code",
   "execution_count": null,
   "id": "1ac2e677",
   "metadata": {},
   "outputs": [],
   "source": []
  },
  {
   "cell_type": "markdown",
   "id": "b86f672b",
   "metadata": {
    "deletable": false,
    "editable": false,
    "nbgrader": {
     "cell_type": "markdown",
     "checksum": "f8cfc5809b03ed687e60577ff97d03c1",
     "grade": false,
     "grade_id": "cell-dc956afb8f922df6",
     "locked": true,
     "schema_version": 3,
     "solution": false,
     "task": false
    }
   },
   "source": [
    "Step-2) 与えられた２つの整数 $a$, $b$ の下桁から上桁までの順に並べる"
   ]
  },
  {
   "cell_type": "code",
   "execution_count": null,
   "id": "076965bb",
   "metadata": {
    "deletable": false,
    "editable": false,
    "nbgrader": {
     "cell_type": "code",
     "checksum": "49c6b07ca95745c004473d16d3d48694",
     "grade": false,
     "grade_id": "cell-6328856343b0cbf9",
     "locked": true,
     "schema_version": 3,
     "solution": false,
     "task": false
    }
   },
   "outputs": [],
   "source": [
    "a = list(map(int,reversed(str(256))))\n",
    "b = list(map(int,reversed(str(64))))\n",
    "a, b"
   ]
  },
  {
   "cell_type": "code",
   "execution_count": null,
   "id": "bc505b53",
   "metadata": {
    "deletable": false,
    "editable": false,
    "nbgrader": {
     "cell_type": "code",
     "checksum": "469fc2f8bf4832b7c8efda5447ca1bb7",
     "grade": false,
     "grade_id": "cell-86ab27ed3b406573",
     "locked": true,
     "schema_version": 3,
     "solution": false,
     "task": false
    }
   },
   "outputs": [],
   "source": [
    "from itertools import zip_longest"
   ]
  },
  {
   "cell_type": "code",
   "execution_count": null,
   "id": "10d0fd26",
   "metadata": {
    "deletable": false,
    "editable": false,
    "nbgrader": {
     "cell_type": "code",
     "checksum": "7c3eff59831f91c191a7400731f8bb63",
     "grade": false,
     "grade_id": "cell-9d3b4f91eeb8526a",
     "locked": true,
     "schema_version": 3,
     "solution": false,
     "task": false
    }
   },
   "outputs": [],
   "source": [
    "for n, m in zip_longest(a, b, fillvalue=0):\n",
    "    print(n, m)"
   ]
  },
  {
   "cell_type": "code",
   "execution_count": null,
   "id": "30a1cf27",
   "metadata": {
    "deletable": false,
    "editable": false,
    "nbgrader": {
     "cell_type": "code",
     "checksum": "c897a5bed9d6c8c4bd8732dda88a6393",
     "grade": false,
     "grade_id": "cell-7fe355ee9e3ea2d1",
     "locked": true,
     "schema_version": 3,
     "solution": false,
     "task": false
    }
   },
   "outputs": [],
   "source": [
    "for n, m in zip_longest(a, b, fillvalue=0):\n",
    "    print(n+m)"
   ]
  },
  {
   "cell_type": "code",
   "execution_count": null,
   "id": "fb1498cd",
   "metadata": {
    "deletable": false,
    "editable": false,
    "nbgrader": {
     "cell_type": "code",
     "checksum": "5c1c1ef5a1cf4a24dcaa898e3cb2d994",
     "grade": false,
     "grade_id": "cell-459c9783d5dce280",
     "locked": true,
     "schema_version": 3,
     "solution": false,
     "task": false
    }
   },
   "outputs": [],
   "source": [
    "for n, m in zip_longest(a, b, fillvalue=0):\n",
    "    print(divmod(n+m, 10))"
   ]
  },
  {
   "cell_type": "code",
   "execution_count": null,
   "id": "284b0fa7",
   "metadata": {},
   "outputs": [],
   "source": []
  },
  {
   "cell_type": "code",
   "execution_count": null,
   "id": "92bee2c3",
   "metadata": {},
   "outputs": [],
   "source": []
  },
  {
   "cell_type": "code",
   "execution_count": null,
   "id": "54e1f8d6",
   "metadata": {},
   "outputs": [],
   "source": []
  },
  {
   "cell_type": "markdown",
   "id": "59a915c7",
   "metadata": {
    "deletable": false,
    "editable": false,
    "nbgrader": {
     "cell_type": "markdown",
     "checksum": "6557f39afefc18b774e41c5169169bad",
     "grade": false,
     "grade_id": "cell-28447167b6d3d7ed",
     "locked": true,
     "schema_version": 3,
     "solution": false,
     "task": false
    }
   },
   "source": [
    "Step-3) 繰り上がりを処理する"
   ]
  },
  {
   "cell_type": "code",
   "execution_count": null,
   "id": "cd102b13",
   "metadata": {
    "deletable": false,
    "editable": false,
    "nbgrader": {
     "cell_type": "code",
     "checksum": "c2042de264ed91eb5b8ded0c8828527e",
     "grade": false,
     "grade_id": "cell-6d89a37713411f69",
     "locked": true,
     "schema_version": 3,
     "solution": false,
     "task": false
    }
   },
   "outputs": [],
   "source": [
    "q=0\n",
    "for n, m in zip_longest(a, b, fillvalue=0):\n",
    "    q,r = divmod(q+n+m, 10)\n",
    "    print(r)\n",
    "print(q)"
   ]
  },
  {
   "cell_type": "code",
   "execution_count": null,
   "id": "ccc19e80",
   "metadata": {},
   "outputs": [],
   "source": []
  },
  {
   "cell_type": "code",
   "execution_count": null,
   "id": "fc2a25d1",
   "metadata": {},
   "outputs": [],
   "source": []
  },
  {
   "cell_type": "code",
   "execution_count": null,
   "id": "07b4cff8",
   "metadata": {},
   "outputs": [],
   "source": []
  },
  {
   "cell_type": "markdown",
   "id": "fbd37a9f",
   "metadata": {
    "deletable": false,
    "editable": false,
    "nbgrader": {
     "cell_type": "markdown",
     "checksum": "c125649dfea2a72e833945fc24cf0726",
     "grade": false,
     "grade_id": "cell-e3744fdba398f7b0",
     "locked": true,
     "schema_version": 3,
     "solution": false,
     "task": false
    }
   },
   "source": [
    "Step-4) 戻り値を準備する"
   ]
  },
  {
   "cell_type": "code",
   "execution_count": null,
   "id": "afe70dec",
   "metadata": {
    "deletable": false,
    "editable": false,
    "nbgrader": {
     "cell_type": "code",
     "checksum": "2c010a87a96e2408c848f04c01008752",
     "grade": false,
     "grade_id": "cell-7f055f6512402a6c",
     "locked": true,
     "schema_version": 3,
     "solution": false,
     "task": false
    }
   },
   "outputs": [],
   "source": [
    "l=[]\n",
    "q=0\n",
    "for n, m in zip_longest(a, b, fillvalue=0):\n",
    "    q,r = divmod(q+n+m, 10)\n",
    "    l.append(r)\n",
    "l.append(q)\n",
    "l"
   ]
  },
  {
   "cell_type": "code",
   "execution_count": null,
   "id": "15678e19",
   "metadata": {},
   "outputs": [],
   "source": []
  },
  {
   "cell_type": "code",
   "execution_count": null,
   "id": "84d67c9a",
   "metadata": {},
   "outputs": [],
   "source": []
  },
  {
   "cell_type": "code",
   "execution_count": null,
   "id": "d93f4e88",
   "metadata": {},
   "outputs": [],
   "source": []
  },
  {
   "cell_type": "markdown",
   "id": "39d00026",
   "metadata": {
    "deletable": false,
    "editable": false,
    "nbgrader": {
     "cell_type": "markdown",
     "checksum": "263db5338459604442e0ee859aee18a9",
     "grade": false,
     "grade_id": "cell-3ac4634d97393f27",
     "locked": true,
     "schema_version": 3,
     "solution": false,
     "task": false
    }
   },
   "source": [
    "Step-4) 逆順にして10進法の位取り記法の整数に戻す"
   ]
  },
  {
   "cell_type": "code",
   "execution_count": null,
   "id": "ef59e826",
   "metadata": {
    "deletable": false,
    "editable": false,
    "nbgrader": {
     "cell_type": "code",
     "checksum": "85850d51aecea86e0cff6c472cd17c77",
     "grade": false,
     "grade_id": "cell-917fa48c97afb715",
     "locked": true,
     "schema_version": 3,
     "solution": false,
     "task": false
    }
   },
   "outputs": [],
   "source": [
    "l=[]\n",
    "q=0\n",
    "for n, m in zip_longest(a, b, fillvalue=0):\n",
    "    q,r = divmod(q+n+m, 10)\n",
    "    l.append(r)\n",
    "l.append(q)\n",
    "l"
   ]
  },
  {
   "cell_type": "code",
   "execution_count": null,
   "id": "f3bca243",
   "metadata": {
    "deletable": false,
    "editable": false,
    "nbgrader": {
     "cell_type": "code",
     "checksum": "16ec8e286632e4f1a73247a97880fbd8",
     "grade": false,
     "grade_id": "cell-21ebfe6b8d7fdee0",
     "locked": true,
     "schema_version": 3,
     "solution": false,
     "task": false
    }
   },
   "outputs": [],
   "source": [
    "list(reversed(l))"
   ]
  },
  {
   "cell_type": "code",
   "execution_count": null,
   "id": "385c149c",
   "metadata": {
    "deletable": false,
    "editable": false,
    "nbgrader": {
     "cell_type": "code",
     "checksum": "1563b8d2a6f2f2e7e12e56d5b1bc0306",
     "grade": false,
     "grade_id": "cell-f1b8130c94b9294c",
     "locked": true,
     "schema_version": 3,
     "solution": false,
     "task": false
    }
   },
   "outputs": [],
   "source": [
    "list(map(str,(reversed(l))))"
   ]
  },
  {
   "cell_type": "code",
   "execution_count": null,
   "id": "06a43342",
   "metadata": {
    "deletable": false,
    "editable": false,
    "nbgrader": {
     "cell_type": "code",
     "checksum": "baaf899f5d20117ae2272e3186f18fd0",
     "grade": false,
     "grade_id": "cell-acda26e43c7e6ee5",
     "locked": true,
     "schema_version": 3,
     "solution": false,
     "task": false
    }
   },
   "outputs": [],
   "source": [
    "''.join(map(str,(reversed(l))))"
   ]
  },
  {
   "cell_type": "code",
   "execution_count": null,
   "id": "24dd4d88",
   "metadata": {
    "deletable": false,
    "editable": false,
    "nbgrader": {
     "cell_type": "code",
     "checksum": "1e9856351e5cf48e4620c222b3d3e19c",
     "grade": false,
     "grade_id": "cell-9d6adda4190267bc",
     "locked": true,
     "schema_version": 3,
     "solution": false,
     "task": false
    }
   },
   "outputs": [],
   "source": [
    "int(''.join(map(str,(reversed(l)))))"
   ]
  },
  {
   "cell_type": "code",
   "execution_count": null,
   "id": "dc38faa6",
   "metadata": {},
   "outputs": [],
   "source": []
  },
  {
   "cell_type": "code",
   "execution_count": null,
   "id": "51df2e69",
   "metadata": {},
   "outputs": [],
   "source": []
  },
  {
   "cell_type": "code",
   "execution_count": null,
   "id": "74ee8855",
   "metadata": {},
   "outputs": [],
   "source": []
  },
  {
   "cell_type": "markdown",
   "id": "e7adb294",
   "metadata": {},
   "source": [
    "課題) 10進法の位取り記法で表される数を桁毎に計算するプログラムを作成せよ。"
   ]
  },
  {
   "cell_type": "code",
   "execution_count": null,
   "id": "34cb9470",
   "metadata": {
    "deletable": false,
    "nbgrader": {
     "cell_type": "code",
     "checksum": "a025a4758a54d63063016dbd7230c9bc",
     "grade": false,
     "grade_id": "cell-4a12ad3a538e7ec2",
     "locked": false,
     "schema_version": 3,
     "solution": true,
     "task": false
    }
   },
   "outputs": [],
   "source": [
    "from itertools import zip_longest\n",
    "\n",
    "def long_addition(a, b, base=10):\n",
    "    # YOUR CODE HERE\n",
    "    raise NotImplementedError()"
   ]
  },
  {
   "cell_type": "code",
   "execution_count": null,
   "id": "bc037dc0",
   "metadata": {
    "deletable": false,
    "editable": false,
    "nbgrader": {
     "cell_type": "code",
     "checksum": "13802f66c69f35d46101e160c51f2bbb",
     "grade": false,
     "grade_id": "cell-5393244a7fc9ce52",
     "locked": true,
     "schema_version": 3,
     "solution": false,
     "task": false
    }
   },
   "outputs": [],
   "source": [
    "long_addition(12345, 6789), 12345+6789"
   ]
  },
  {
   "cell_type": "code",
   "execution_count": null,
   "id": "7b77c904",
   "metadata": {},
   "outputs": [],
   "source": []
  },
  {
   "cell_type": "code",
   "execution_count": null,
   "id": "8084f69c",
   "metadata": {},
   "outputs": [],
   "source": []
  },
  {
   "cell_type": "code",
   "execution_count": null,
   "id": "49a8bde7",
   "metadata": {},
   "outputs": [],
   "source": []
  },
  {
   "cell_type": "markdown",
   "id": "4b70b269",
   "metadata": {
    "deletable": false,
    "editable": false,
    "nbgrader": {
     "cell_type": "markdown",
     "checksum": "1003a0c76ab6a63d85c822f443665032",
     "grade": false,
     "grade_id": "cell-35905f466de6d234",
     "locked": true,
     "schema_version": 3,
     "solution": false,
     "task": false
    }
   },
   "source": [
    "---\n",
    "以下、採点用のセルにつき編集できない:"
   ]
  },
  {
   "cell_type": "code",
   "execution_count": null,
   "id": "a55b7640",
   "metadata": {
    "deletable": false,
    "editable": false,
    "nbgrader": {
     "cell_type": "code",
     "checksum": "e7b6874c1620db346cc76ae0642339c5",
     "grade": false,
     "grade_id": "cell-cb547f61769233ec",
     "locked": true,
     "schema_version": 3,
     "solution": false,
     "task": false
    }
   },
   "outputs": [],
   "source": [
    "from nose.tools import assert_equal, assert_true"
   ]
  },
  {
   "cell_type": "code",
   "execution_count": null,
   "id": "3056ef87",
   "metadata": {
    "deletable": false,
    "editable": false,
    "nbgrader": {
     "cell_type": "code",
     "checksum": "fdff834f24d64e3dbd2247c2468577c2",
     "grade": true,
     "grade_id": "cell-079d68b98f2d72b7",
     "locked": true,
     "points": 1,
     "schema_version": 3,
     "solution": false,
     "task": false
    }
   },
   "outputs": [],
   "source": [
    "assert_equal(long_addition(345, 456), 345+456)"
   ]
  },
  {
   "cell_type": "code",
   "execution_count": null,
   "id": "494221b7",
   "metadata": {
    "deletable": false,
    "editable": false,
    "nbgrader": {
     "cell_type": "code",
     "checksum": "950bc7749ab17cc870b84f9ec88a98b7",
     "grade": true,
     "grade_id": "cell-71f69003f514f4d8",
     "locked": true,
     "points": 1,
     "schema_version": 3,
     "solution": false,
     "task": false
    }
   },
   "outputs": [],
   "source": [
    "assert_equal(long_addition(12345, 6789), 12345+6789)"
   ]
  }
 ],
 "metadata": {
  "kernelspec": {
   "display_name": "Python 3 (ipykernel)",
   "language": "python",
   "name": "python3"
  },
  "language_info": {
   "codemirror_mode": {
    "name": "ipython",
    "version": 3
   },
   "file_extension": ".py",
   "mimetype": "text/x-python",
   "name": "python",
   "nbconvert_exporter": "python",
   "pygments_lexer": "ipython3",
   "version": "3.9.12"
  },
  "toc": {
   "base_numbering": 1,
   "nav_menu": {},
   "number_sections": true,
   "sideBar": true,
   "skip_h1_title": false,
   "title_cell": "Table of Contents",
   "title_sidebar": "Contents",
   "toc_cell": false,
   "toc_position": {},
   "toc_section_display": true,
   "toc_window_display": false
  }
 },
 "nbformat": 4,
 "nbformat_minor": 5
}
