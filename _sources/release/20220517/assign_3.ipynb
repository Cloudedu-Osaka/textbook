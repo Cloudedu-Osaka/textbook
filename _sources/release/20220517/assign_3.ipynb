{
 "cells": [
  {
   "cell_type": "code",
   "execution_count": null,
   "id": "f4334f7a",
   "metadata": {
    "hide_input": true,
    "init_cell": true,
    "tags": [
     "remove-input"
    ]
   },
   "outputs": [],
   "source": [
    "# initialization for my classroom\n",
    "import os\n",
    "from datetime import datetime as dt\n",
    "\n",
    "def logfile(user=os.environ.get('JUPYTERHUB_USER') or 'jovyan'):\n",
    "    prefix='/srv'\n",
    "    if os.path.isdir(prefix) and os.access(prefix, os.W_OK):\n",
    "        prefix+=('/'+user)\n",
    "        if not os.path.isdir(prefix):\n",
    "            os.makedirs(prefix)\n",
    "    else:\n",
    "        prefix='.'\n",
    "    return prefix+'/'+dt.now().strftime('%Y%m%d')+'.log'\n",
    "\n",
    "path=logfile()\n",
    "#%logstop\n",
    "%logstart -otq $path append\n",
    "\n",
    "# [python - cannot override sys.excepthook - Stack Overflow](https://stackoverflow.com/questions/1261668/cannot-override-sys-excepthook/28758396)\n",
    "# https://github.com/ipython/ipython/blob/e6432249582e05f438303ce73d082a0351bb383e/IPython/core/interactiveshell.py#L1952\n",
    "\n",
    "import sys\n",
    "import traceback\n",
    "import IPython\n",
    "\n",
    "try:\n",
    "    _showtraceback\n",
    "except NameError:\n",
    "    _showtraceback=IPython.core.interactiveshell.InteractiveShell.showtraceback\n",
    "\n",
    "try:\n",
    "    _showsyntaxerror\n",
    "except NameError:\n",
    "    _showsyntaxerror=IPython.core.interactiveshell.InteractiveShell.showsyntaxerror\n",
    "\n",
    "import logging\n",
    "logging.basicConfig(filename=path.replace('.log','-exc.log'), format='%(asctime)s %(message)s', level=logging.ERROR, force=True)\n",
    "\n",
    "import sys\n",
    "import traceback\n",
    "import IPython\n",
    "\n",
    "def showtraceback(self, *args, **kwargs):\n",
    "    etype, value, tb = self._get_exc_info(kwargs.get('exc_tuple'))\n",
    "    stb = self.InteractiveTB.structured_traceback(\n",
    "        etype, value, tb, tb_offset=kwargs.get('tb_offset'))\n",
    "    logging.error(os.environ.get('JUPYTERHUB_USER') or 'jovyan')\n",
    "    logging.error(self.InteractiveTB.stb2text(stb))\n",
    "    _showtraceback(self, *args, **kwargs)\n",
    "\n",
    "def showsyntaxerror(self, *args, **kwargs):\n",
    "    etype, value, last_traceback = self._get_exc_info()\n",
    "    elist = traceback.extract_tb(last_traceback) if kwargs.get('running_compiled_code') else []\n",
    "    stb = self.SyntaxTB.structured_traceback(etype, value, elist)\n",
    "    logging.error(os.environ.get('JUPYTERHUB_USER') or 'jovyan')\n",
    "    logging.error(self.InteractiveTB.stb2text(stb))\n",
    "    _showsyntaxerror(self, *args, **kwargs)\n",
    "\n",
    "IPython.core.interactiveshell.InteractiveShell.showtraceback = showtraceback\n",
    "IPython.core.interactiveshell.InteractiveShell.showsyntaxerror = showsyntaxerror"
   ]
  },
  {
   "cell_type": "markdown",
   "id": "f1e093ea",
   "metadata": {},
   "source": [
    "# Assignment (3)"
   ]
  },
  {
   "cell_type": "code",
   "execution_count": null,
   "id": "8141d8c0",
   "metadata": {
    "deletable": false,
    "editable": false,
    "nbgrader": {
     "cell_type": "code",
     "checksum": "103031a3ef9d3ee2e2f1d72319384ef9",
     "grade": false,
     "grade_id": "cell-c7d13b9303020391",
     "locked": true,
     "schema_version": 3,
     "solution": false,
     "task": false
    }
   },
   "outputs": [],
   "source": [
    "def inverse(n, base=10):\n",
    "    remainder   = 1\n",
    "    denominator = n\n",
    "    l = []\n",
    "    for _ in range(10):\n",
    "        numerator = remainder * base\n",
    "        quotient, remainder = divmod(numerator, denominator)\n",
    "        l.append(quotient)\n",
    "    return l"
   ]
  },
  {
   "cell_type": "code",
   "execution_count": null,
   "id": "c91f41db",
   "metadata": {},
   "outputs": [],
   "source": [
    "inverse(4)"
   ]
  },
  {
   "cell_type": "code",
   "execution_count": null,
   "id": "051a0f0f",
   "metadata": {
    "deletable": false,
    "editable": false,
    "nbgrader": {
     "cell_type": "code",
     "checksum": "f64a4fb4847e504a760d628c304d4eec",
     "grade": false,
     "grade_id": "cell-81af685ac3f16a09",
     "locked": true,
     "schema_version": 3,
     "solution": false,
     "task": false
    }
   },
   "outputs": [],
   "source": [
    "def test():\n",
    "    for i in range(10):\n",
    "        if i > 2:\n",
    "            break\n",
    "        print(i)"
   ]
  },
  {
   "cell_type": "code",
   "execution_count": null,
   "id": "ad8f0323",
   "metadata": {},
   "outputs": [],
   "source": [
    "test()"
   ]
  },
  {
   "cell_type": "markdown",
   "id": "7cc1f133",
   "metadata": {
    "deletable": false,
    "editable": false,
    "nbgrader": {
     "cell_type": "markdown",
     "checksum": "a02228343fa30752313e5087497b86c6",
     "grade": false,
     "grade_id": "cell-9016a981ea6e2352",
     "locked": true,
     "schema_version": 3,
     "solution": false,
     "task": false
    }
   },
   "source": [
    "課題-3) ループは `break` で中断できる。`inverse()` 関数の `for` ループ内で求めている `remainder` が `0` の時、ループを中断するように改変せよ。\n",
    "中断に際して、有限小数であることを判定可能とするため、リストの末尾に `0` が付加されるように配慮すること。"
   ]
  },
  {
   "cell_type": "code",
   "execution_count": null,
   "id": "66bc5385",
   "metadata": {
    "deletable": false,
    "nbgrader": {
     "cell_type": "code",
     "checksum": "d41a52373cf3a111b7467c1d6fc43b88",
     "grade": false,
     "grade_id": "cell-3b430a715dc0a8aa",
     "locked": false,
     "schema_version": 3,
     "solution": true,
     "task": false
    }
   },
   "outputs": [],
   "source": [
    "def inverse(n, base=10):\n",
    "    # YOUR CODE HERE\n",
    "    raise NotImplementedError()"
   ]
  },
  {
   "cell_type": "code",
   "execution_count": null,
   "id": "36bf2d91",
   "metadata": {},
   "outputs": [],
   "source": [
    "inverse(4)"
   ]
  },
  {
   "cell_type": "code",
   "execution_count": null,
   "id": "7b83eb3b",
   "metadata": {},
   "outputs": [],
   "source": [
    "(inverse(4))[-1]"
   ]
  },
  {
   "cell_type": "code",
   "execution_count": null,
   "id": "991c9466",
   "metadata": {},
   "outputs": [],
   "source": [
    "for i in range(2,10):\n",
    "    print((inverse(i))[-1])"
   ]
  },
  {
   "cell_type": "code",
   "execution_count": null,
   "id": "e7bb67e1",
   "metadata": {},
   "outputs": [],
   "source": []
  },
  {
   "cell_type": "code",
   "execution_count": null,
   "id": "e091836e",
   "metadata": {},
   "outputs": [],
   "source": []
  },
  {
   "cell_type": "code",
   "execution_count": null,
   "id": "af0fc6b1",
   "metadata": {},
   "outputs": [],
   "source": []
  },
  {
   "cell_type": "markdown",
   "id": "42e3e251",
   "metadata": {
    "deletable": false,
    "editable": false,
    "nbgrader": {
     "cell_type": "markdown",
     "checksum": "a779d96575123ddc6b699ad4c743e35d",
     "grade": false,
     "grade_id": "cell-1adebb8281bb8da7",
     "locked": true,
     "schema_version": 3,
     "solution": false,
     "task": false
    }
   },
   "source": [
    "## 有限小数を判定する"
   ]
  },
  {
   "cell_type": "code",
   "execution_count": null,
   "id": "470cbb38",
   "metadata": {
    "deletable": false,
    "editable": false,
    "nbgrader": {
     "cell_type": "code",
     "checksum": "2219e52770d62de23bf266166b925458",
     "grade": false,
     "grade_id": "cell-5dcddc27c27548e0",
     "locked": true,
     "schema_version": 3,
     "solution": false,
     "task": false
    }
   },
   "outputs": [],
   "source": [
    "for i in range(2,10):\n",
    "    if (inverse(i))[-1] == 0:\n",
    "        print(\"1/\"+str(i)+\" is finite decimal\")"
   ]
  },
  {
   "cell_type": "code",
   "execution_count": null,
   "id": "35918c1c",
   "metadata": {
    "deletable": false,
    "editable": false,
    "nbgrader": {
     "cell_type": "code",
     "checksum": "39384ec2b8c0effdf02257e023d990c5",
     "grade": false,
     "grade_id": "cell-d82fde9deef601e7",
     "locked": true,
     "schema_version": 3,
     "solution": false,
     "task": false
    }
   },
   "outputs": [],
   "source": [
    "for i in range(2,60):\n",
    "    if (inverse(i,60))[-1] == 0:\n",
    "        print(\"1/\"+str(i)+\" is finite decimal\")"
   ]
  },
  {
   "cell_type": "code",
   "execution_count": null,
   "id": "5ddc21a8",
   "metadata": {},
   "outputs": [],
   "source": [
    "inverse(3)"
   ]
  },
  {
   "cell_type": "code",
   "execution_count": null,
   "id": "3fcf23a5",
   "metadata": {},
   "outputs": [],
   "source": [
    "inverse(3,60)"
   ]
  },
  {
   "cell_type": "code",
   "execution_count": null,
   "id": "f60353a2",
   "metadata": {},
   "outputs": [],
   "source": []
  },
  {
   "cell_type": "code",
   "execution_count": null,
   "id": "a14321b7",
   "metadata": {},
   "outputs": [],
   "source": []
  },
  {
   "cell_type": "code",
   "execution_count": null,
   "id": "8b2a8064",
   "metadata": {},
   "outputs": [],
   "source": []
  },
  {
   "cell_type": "markdown",
   "id": "936217f5",
   "metadata": {
    "deletable": false,
    "editable": false,
    "nbgrader": {
     "cell_type": "markdown",
     "checksum": "3c98ba6c0e70786f2f9203ec655b6790",
     "grade": false,
     "grade_id": "cell-e68c6638d284ba0c",
     "locked": true,
     "schema_version": 3,
     "solution": false,
     "task": false
    }
   },
   "source": [
    "---\n",
    "以下、採点用のセルにつき編集できない:"
   ]
  },
  {
   "cell_type": "code",
   "execution_count": null,
   "id": "5a199bfa",
   "metadata": {
    "deletable": false,
    "editable": false,
    "nbgrader": {
     "cell_type": "code",
     "checksum": "e5b8700b5727af179d656fcf9a7565bf",
     "grade": false,
     "grade_id": "cell-4d2503544ff6ee59",
     "locked": true,
     "schema_version": 3,
     "solution": false,
     "task": false
    }
   },
   "outputs": [],
   "source": [
    "from nose.tools import assert_equal, assert_true"
   ]
  },
  {
   "cell_type": "code",
   "execution_count": null,
   "id": "9c834832",
   "metadata": {
    "deletable": false,
    "editable": false,
    "nbgrader": {
     "cell_type": "code",
     "checksum": "dfade51a9e2203e7e565c977040e2f68",
     "grade": true,
     "grade_id": "cell-942b60b4f3cf0d30",
     "locked": true,
     "points": 1,
     "schema_version": 3,
     "solution": false,
     "task": false
    }
   },
   "outputs": [],
   "source": [
    "assert_equal(\n",
    "    inverse(4),\n",
    "    [2, 5, 0])"
   ]
  },
  {
   "cell_type": "code",
   "execution_count": null,
   "id": "073d0304",
   "metadata": {
    "deletable": false,
    "editable": false,
    "nbgrader": {
     "cell_type": "code",
     "checksum": "ff4a57e3548f01adb8effe2978e0dfe0",
     "grade": true,
     "grade_id": "cell-5f7ac7348e0f01fb",
     "locked": true,
     "points": 1,
     "schema_version": 3,
     "solution": false,
     "task": false
    }
   },
   "outputs": [],
   "source": [
    "assert_equal(\n",
    "    (inverse(4))[-1],\n",
    "    0)"
   ]
  },
  {
   "cell_type": "code",
   "execution_count": null,
   "id": "52a8f829",
   "metadata": {
    "deletable": false,
    "editable": false,
    "nbgrader": {
     "cell_type": "code",
     "checksum": "345d041cbfc75445cbb987c89279c132",
     "grade": true,
     "grade_id": "cell-d4fefd32d24c096c",
     "locked": true,
     "points": 1,
     "schema_version": 3,
     "solution": false,
     "task": false
    }
   },
   "outputs": [],
   "source": [
    "assert_equal(\n",
    "    inverse(7), \n",
    "    [1, 4, 2, 8, 5, 7, 1, 4, 2, 8])"
   ]
  }
 ],
 "metadata": {
  "kernelspec": {
   "display_name": "Python 3 (ipykernel)",
   "language": "python",
   "name": "python3"
  },
  "language_info": {
   "codemirror_mode": {
    "name": "ipython",
    "version": 3
   },
   "file_extension": ".py",
   "mimetype": "text/x-python",
   "name": "python",
   "nbconvert_exporter": "python",
   "pygments_lexer": "ipython3",
   "version": "3.9.12"
  },
  "toc": {
   "base_numbering": 1,
   "nav_menu": {},
   "number_sections": true,
   "sideBar": true,
   "skip_h1_title": false,
   "title_cell": "Table of Contents",
   "title_sidebar": "Contents",
   "toc_cell": false,
   "toc_position": {},
   "toc_section_display": true,
   "toc_window_display": false
  }
 },
 "nbformat": 4,
 "nbformat_minor": 5
}
