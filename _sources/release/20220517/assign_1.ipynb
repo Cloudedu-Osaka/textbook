{
 "cells": [
  {
   "cell_type": "code",
   "execution_count": null,
   "id": "a7abda42",
   "metadata": {
    "hide_input": true,
    "init_cell": true,
    "tags": [
     "remove-input"
    ]
   },
   "outputs": [],
   "source": [
    "# initialization for my classroom\n",
    "import os\n",
    "from datetime import datetime as dt\n",
    "\n",
    "def logfile(user=os.environ.get('JUPYTERHUB_USER') or 'jovyan'):\n",
    "    prefix='/srv'\n",
    "    if os.path.isdir(prefix) and os.access(prefix, os.W_OK):\n",
    "        prefix+=('/'+user)\n",
    "        if not os.path.isdir(prefix):\n",
    "            os.makedirs(prefix)\n",
    "    else:\n",
    "        prefix='.'\n",
    "    return prefix+'/'+dt.now().strftime('%Y%m%d')+'.log'\n",
    "\n",
    "path=logfile()\n",
    "#%logstop\n",
    "%logstart -otq $path append\n",
    "\n",
    "# [python - cannot override sys.excepthook - Stack Overflow](https://stackoverflow.com/questions/1261668/cannot-override-sys-excepthook/28758396)\n",
    "# https://github.com/ipython/ipython/blob/e6432249582e05f438303ce73d082a0351bb383e/IPython/core/interactiveshell.py#L1952\n",
    "\n",
    "import sys\n",
    "import traceback\n",
    "import IPython\n",
    "\n",
    "try:\n",
    "    _showtraceback\n",
    "except NameError:\n",
    "    _showtraceback=IPython.core.interactiveshell.InteractiveShell.showtraceback\n",
    "\n",
    "try:\n",
    "    _showsyntaxerror\n",
    "except NameError:\n",
    "    _showsyntaxerror=IPython.core.interactiveshell.InteractiveShell.showsyntaxerror\n",
    "\n",
    "import logging\n",
    "logging.basicConfig(filename=path.replace('.log','-exc.log'), format='%(asctime)s %(message)s', level=logging.ERROR, force=True)\n",
    "\n",
    "import sys\n",
    "import traceback\n",
    "import IPython\n",
    "\n",
    "def showtraceback(self, *args, **kwargs):\n",
    "    etype, value, tb = self._get_exc_info(kwargs.get('exc_tuple'))\n",
    "    stb = self.InteractiveTB.structured_traceback(\n",
    "        etype, value, tb, tb_offset=kwargs.get('tb_offset'))\n",
    "    logging.error(os.environ.get('JUPYTERHUB_USER') or 'jovyan')\n",
    "    logging.error(self.InteractiveTB.stb2text(stb))\n",
    "    _showtraceback(self, *args, **kwargs)\n",
    "\n",
    "def showsyntaxerror(self, *args, **kwargs):\n",
    "    etype, value, last_traceback = self._get_exc_info()\n",
    "    elist = traceback.extract_tb(last_traceback) if kwargs.get('running_compiled_code') else []\n",
    "    stb = self.SyntaxTB.structured_traceback(etype, value, elist)\n",
    "    logging.error(os.environ.get('JUPYTERHUB_USER') or 'jovyan')\n",
    "    logging.error(self.InteractiveTB.stb2text(stb))\n",
    "    _showsyntaxerror(self, *args, **kwargs)\n",
    "\n",
    "IPython.core.interactiveshell.InteractiveShell.showtraceback = showtraceback\n",
    "IPython.core.interactiveshell.InteractiveShell.showsyntaxerror = showsyntaxerror"
   ]
  },
  {
   "cell_type": "markdown",
   "id": "864ff5a9",
   "metadata": {
    "deletable": false,
    "editable": false,
    "hide_input": false,
    "nbgrader": {
     "cell_type": "markdown",
     "checksum": "6f8bdeee122de36f6abc527c8d9deae1",
     "grade": false,
     "grade_id": "cell-d80f6b2829b3e5cb",
     "locked": true,
     "schema_version": 3,
     "solution": false,
     "task": false
    }
   },
   "source": [
    "# Assignment (1)"
   ]
  },
  {
   "cell_type": "code",
   "execution_count": null,
   "id": "023084ed",
   "metadata": {
    "deletable": false,
    "editable": false,
    "nbgrader": {
     "cell_type": "code",
     "checksum": "9f8e0b4e42eef7310b8a299bca62acad",
     "grade": false,
     "grade_id": "cell-82055a4afbd8df18",
     "locked": true,
     "schema_version": 3,
     "solution": false,
     "task": false
    }
   },
   "outputs": [],
   "source": [
    "base = 10\n",
    "remainder   = 1\n",
    "denominator = 7\n",
    "for _ in range(10):\n",
    "    numerator = remainder * base\n",
    "    quotient, remainder = divmod(numerator, denominator)\n",
    "    print(quotient, end=\", \")\n",
    "print()"
   ]
  },
  {
   "cell_type": "markdown",
   "id": "0ca502a8",
   "metadata": {
    "deletable": false,
    "editable": false,
    "nbgrader": {
     "cell_type": "markdown",
     "checksum": "3b40a032469de5ae6cdd1d9342e8e0f7",
     "grade": false,
     "grade_id": "cell-57bc6705b32e7a02",
     "locked": true,
     "schema_version": 3,
     "solution": false,
     "task": false
    }
   },
   "source": [
    "課題-1) 上のセルをボディとする関数 `print_inverse()` を定義せよ。\n",
    "* 第1引数 `n` (逆数を求める数) と第2引数 `base` (基数) を持つ\n",
    "* 第2引数の `base` は省略可能で、省略時の値は `10` (10進数) とする\n",
    "* 上のセルの内容 (第1行以外の第2行から第8行まで) を下のセルの関数ボディ (コメント行 ```# YOUR CODE HERE``` 以下) へコピペし、適切にインデントする\n",
    "* コメント行 ```# YOUR CODE HERE``` は削除してもしなくてもよい\n",
    "* コメント行の下の ```raise NotImplementedError()``` は削除し、本文と置き換える\n",
    "* 上のセルの第1行 `base = 10` は関数の省略可能な引数として定義しているのでコピペしない\n",
    "* ボディでは、関数の第1引数 `n` を `denominator` に代入する\n",
    "* `for` ループの繰り返し回数は、何桁まで計算するかであり、基数 `base` とは関係ないことに注意"
   ]
  },
  {
   "cell_type": "code",
   "execution_count": null,
   "id": "e7af829f",
   "metadata": {
    "deletable": false,
    "nbgrader": {
     "cell_type": "code",
     "checksum": "b290f41f485e44e0204f9730316ca340",
     "grade": true,
     "grade_id": "cell-64114849c9fbcae5",
     "locked": false,
     "points": 1,
     "schema_version": 3,
     "solution": true,
     "task": false
    }
   },
   "outputs": [],
   "source": [
    "def print_inverse(n, base=10):\n",
    "    # YOUR CODE HERE\n",
    "    raise NotImplementedError()"
   ]
  },
  {
   "cell_type": "code",
   "execution_count": null,
   "id": "e867eb79",
   "metadata": {},
   "outputs": [],
   "source": [
    "type(print_inverse(4))"
   ]
  },
  {
   "cell_type": "code",
   "execution_count": null,
   "id": "c51f1582",
   "metadata": {},
   "outputs": [],
   "source": [
    "print_inverse(4)"
   ]
  },
  {
   "cell_type": "code",
   "execution_count": null,
   "id": "40975ec2",
   "metadata": {},
   "outputs": [],
   "source": [
    "print_inverse(7)"
   ]
  },
  {
   "cell_type": "code",
   "execution_count": null,
   "id": "dcfc2492",
   "metadata": {},
   "outputs": [],
   "source": []
  },
  {
   "cell_type": "code",
   "execution_count": null,
   "id": "87d32cfe",
   "metadata": {},
   "outputs": [],
   "source": []
  },
  {
   "cell_type": "code",
   "execution_count": null,
   "id": "ca720cec",
   "metadata": {},
   "outputs": [],
   "source": []
  },
  {
   "cell_type": "code",
   "execution_count": null,
   "id": "cd42e54e",
   "metadata": {
    "deletable": false,
    "editable": false,
    "nbgrader": {
     "cell_type": "code",
     "checksum": "b65094d5e14a1b6a0056433f0e0a3502",
     "grade": false,
     "grade_id": "cell-bd9ca56b4a18b214",
     "locked": true,
     "schema_version": 3,
     "solution": false,
     "task": false
    }
   },
   "outputs": [],
   "source": [
    "for n in range(2,10):\n",
    "    print_inverse(n)"
   ]
  },
  {
   "cell_type": "code",
   "execution_count": null,
   "id": "0addb5fd",
   "metadata": {
    "deletable": false,
    "editable": false,
    "nbgrader": {
     "cell_type": "code",
     "checksum": "a9dcc5fec753b39131079cc570180795",
     "grade": false,
     "grade_id": "cell-9a3b2af44977384a",
     "locked": true,
     "schema_version": 3,
     "solution": false,
     "task": false
    }
   },
   "outputs": [],
   "source": [
    "for n in range(2,10):\n",
    "    print(1/n)"
   ]
  },
  {
   "cell_type": "markdown",
   "id": "7e394ecb",
   "metadata": {
    "deletable": false,
    "editable": false,
    "nbgrader": {
     "cell_type": "markdown",
     "checksum": "57ac5d3fc7a266e760947bdfc4499a4a",
     "grade": false,
     "grade_id": "cell-a4ec41cf3a775392",
     "locked": true,
     "schema_version": 3,
     "solution": false,
     "task": false
    }
   },
   "source": [
    "---\n",
    "以下、採点用のセルにつき編集できない:"
   ]
  },
  {
   "cell_type": "code",
   "execution_count": null,
   "id": "b36aa642",
   "metadata": {
    "deletable": false,
    "editable": false,
    "nbgrader": {
     "cell_type": "code",
     "checksum": "7d21f04b356c50bd258919202b94e346",
     "grade": true,
     "grade_id": "cell-08e89639eaba656e",
     "locked": true,
     "points": 0,
     "schema_version": 3,
     "solution": false,
     "task": false
    }
   },
   "outputs": [],
   "source": [
    "from nose.tools import assert_equal, assert_true"
   ]
  },
  {
   "cell_type": "code",
   "execution_count": null,
   "id": "f2d2b15d",
   "metadata": {
    "deletable": false,
    "editable": false,
    "nbgrader": {
     "cell_type": "code",
     "checksum": "eb98050d42b25115916a6f33a54ca824",
     "grade": true,
     "grade_id": "cell-9585afce246c2e75",
     "locked": true,
     "points": 0,
     "schema_version": 3,
     "solution": false,
     "task": false
    }
   },
   "outputs": [],
   "source": [
    "assert_true(isinstance(print_inverse(4),type(None)))"
   ]
  }
 ],
 "metadata": {
  "kernelspec": {
   "display_name": "Python 3 (ipykernel)",
   "language": "python",
   "name": "python3"
  },
  "language_info": {
   "codemirror_mode": {
    "name": "ipython",
    "version": 3
   },
   "file_extension": ".py",
   "mimetype": "text/x-python",
   "name": "python",
   "nbconvert_exporter": "python",
   "pygments_lexer": "ipython3",
   "version": "3.9.12"
  },
  "toc": {
   "base_numbering": 1,
   "nav_menu": {},
   "number_sections": true,
   "sideBar": true,
   "skip_h1_title": false,
   "title_cell": "Table of Contents",
   "title_sidebar": "Contents",
   "toc_cell": false,
   "toc_position": {},
   "toc_section_display": true,
   "toc_window_display": false
  }
 },
 "nbformat": 4,
 "nbformat_minor": 5
}
