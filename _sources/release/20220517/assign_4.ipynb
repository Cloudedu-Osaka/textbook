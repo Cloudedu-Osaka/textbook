{
 "cells": [
  {
   "cell_type": "code",
   "execution_count": null,
   "id": "92d5ae5c",
   "metadata": {
    "hide_input": true,
    "init_cell": true,
    "tags": [
     "remove-input"
    ]
   },
   "outputs": [],
   "source": [
    "# initialization for my classroom\n",
    "import os\n",
    "from datetime import datetime as dt\n",
    "\n",
    "def logfile(user=os.environ.get('JUPYTERHUB_USER') or 'jovyan'):\n",
    "    prefix='/srv'\n",
    "    if os.path.isdir(prefix) and os.access(prefix, os.W_OK):\n",
    "        prefix+=('/'+user)\n",
    "        if not os.path.isdir(prefix):\n",
    "            os.makedirs(prefix)\n",
    "    else:\n",
    "        prefix='.'\n",
    "    return prefix+'/'+dt.now().strftime('%Y%m%d')+'.log'\n",
    "\n",
    "path=logfile()\n",
    "#%logstop\n",
    "%logstart -otq $path append\n",
    "\n",
    "# [python - cannot override sys.excepthook - Stack Overflow](https://stackoverflow.com/questions/1261668/cannot-override-sys-excepthook/28758396)\n",
    "# https://github.com/ipython/ipython/blob/e6432249582e05f438303ce73d082a0351bb383e/IPython/core/interactiveshell.py#L1952\n",
    "\n",
    "import sys\n",
    "import traceback\n",
    "import IPython\n",
    "\n",
    "try:\n",
    "    _showtraceback\n",
    "except NameError:\n",
    "    _showtraceback=IPython.core.interactiveshell.InteractiveShell.showtraceback\n",
    "\n",
    "try:\n",
    "    _showsyntaxerror\n",
    "except NameError:\n",
    "    _showsyntaxerror=IPython.core.interactiveshell.InteractiveShell.showsyntaxerror\n",
    "\n",
    "import logging\n",
    "logging.basicConfig(filename=path.replace('.log','-exc.log'), format='%(asctime)s %(message)s', level=logging.ERROR, force=True)\n",
    "\n",
    "import sys\n",
    "import traceback\n",
    "import IPython\n",
    "\n",
    "def showtraceback(self, *args, **kwargs):\n",
    "    etype, value, tb = self._get_exc_info(kwargs.get('exc_tuple'))\n",
    "    stb = self.InteractiveTB.structured_traceback(\n",
    "        etype, value, tb, tb_offset=kwargs.get('tb_offset'))\n",
    "    logging.error(os.environ.get('JUPYTERHUB_USER') or 'jovyan')\n",
    "    logging.error(self.InteractiveTB.stb2text(stb))\n",
    "    _showtraceback(self, *args, **kwargs)\n",
    "\n",
    "def showsyntaxerror(self, *args, **kwargs):\n",
    "    etype, value, last_traceback = self._get_exc_info()\n",
    "    elist = traceback.extract_tb(last_traceback) if kwargs.get('running_compiled_code') else []\n",
    "    stb = self.SyntaxTB.structured_traceback(etype, value, elist)\n",
    "    logging.error(os.environ.get('JUPYTERHUB_USER') or 'jovyan')\n",
    "    logging.error(self.InteractiveTB.stb2text(stb))\n",
    "    _showsyntaxerror(self, *args, **kwargs)\n",
    "\n",
    "IPython.core.interactiveshell.InteractiveShell.showtraceback = showtraceback\n",
    "IPython.core.interactiveshell.InteractiveShell.showsyntaxerror = showsyntaxerror"
   ]
  },
  {
   "cell_type": "markdown",
   "id": "fc25f904",
   "metadata": {
    "deletable": false,
    "editable": false,
    "nbgrader": {
     "cell_type": "markdown",
     "checksum": "75f989ca8b8163766778cd6d1ff58ffe",
     "grade": false,
     "grade_id": "cell-81fd5598ede3220d",
     "locked": true,
     "schema_version": 3,
     "solution": false,
     "task": false
    }
   },
   "source": [
    "# Assignment (4)"
   ]
  },
  {
   "cell_type": "markdown",
   "id": "a7cdea19",
   "metadata": {
    "deletable": false,
    "editable": false,
    "nbgrader": {
     "cell_type": "markdown",
     "checksum": "097b04e46b1e5fadf0db3ddaf3f61aae",
     "grade": false,
     "grade_id": "cell-fd7bd862aff34c27",
     "locked": true,
     "schema_version": 3,
     "solution": false,
     "task": false
    }
   },
   "source": [
    "次の `inverse()` は、有限小数の末尾に 0 を出力してループを停止するように改良したものである。さらに、循環小数は、循環を検出してループを停止している。その場合は末尾に 0 以外の数が出力される:"
   ]
  },
  {
   "cell_type": "code",
   "execution_count": null,
   "id": "f17fdbd2",
   "metadata": {
    "deletable": false,
    "editable": false,
    "nbgrader": {
     "cell_type": "code",
     "checksum": "c1758e57f8a92775246d1d5723fa3d7d",
     "grade": false,
     "grade_id": "cell-383fc2cd14469b0c",
     "locked": true,
     "schema_version": 3,
     "solution": false,
     "task": false
    }
   },
   "outputs": [],
   "source": [
    "def inverse(n, base=10):\n",
    "    denominator = n\n",
    "    remainder   = 1 # initial remainder\n",
    "    quotient    = 0 # dummy\n",
    "    repeat = set()\n",
    "    l = []\n",
    "    while not quotient in repeat:\n",
    "        repeat.add(quotient)\n",
    "        numerator = remainder * base\n",
    "        quotient, remainder = divmod(numerator, denominator)\n",
    "        l.append(quotient)\n",
    "        if remainder == 0:\n",
    "            l.append(0)\n",
    "            break\n",
    "    return l"
   ]
  },
  {
   "cell_type": "code",
   "execution_count": null,
   "id": "affc57d5",
   "metadata": {},
   "outputs": [],
   "source": [
    "inverse(4)"
   ]
  },
  {
   "cell_type": "code",
   "execution_count": null,
   "id": "f81f0890",
   "metadata": {},
   "outputs": [],
   "source": [
    "(inverse(4))[-1]"
   ]
  },
  {
   "cell_type": "code",
   "execution_count": null,
   "id": "c4dbb053",
   "metadata": {},
   "outputs": [],
   "source": [
    "inverse(7)"
   ]
  },
  {
   "cell_type": "code",
   "execution_count": null,
   "id": "6694fdc0",
   "metadata": {},
   "outputs": [],
   "source": [
    "(inverse(7))[-1]"
   ]
  },
  {
   "cell_type": "code",
   "execution_count": null,
   "id": "a2751260",
   "metadata": {},
   "outputs": [],
   "source": [
    "[(inverse(n))[-1] for n in range(2,10)]"
   ]
  },
  {
   "cell_type": "code",
   "execution_count": null,
   "id": "845f1017",
   "metadata": {},
   "outputs": [],
   "source": [
    "[0, 3, 0, 0, 6, 1, 0, 1].count(0)"
   ]
  },
  {
   "cell_type": "code",
   "execution_count": null,
   "id": "fd924207",
   "metadata": {},
   "outputs": [],
   "source": [
    "[(inverse(n,60))[-1] for n in range(2,60)]"
   ]
  },
  {
   "cell_type": "code",
   "execution_count": null,
   "id": "8b312e37",
   "metadata": {},
   "outputs": [],
   "source": [
    "[(inverse(n,60))[-1] for n in range(2,60)].count(0)"
   ]
  },
  {
   "cell_type": "markdown",
   "id": "17af9499",
   "metadata": {
    "deletable": false,
    "editable": false,
    "nbgrader": {
     "cell_type": "markdown",
     "checksum": "40396232ce81a5865f6fd5032739d1f8",
     "grade": false,
     "grade_id": "cell-3057bcfed8b37cf3",
     "locked": true,
     "schema_version": 3,
     "solution": false,
     "task": false
    }
   },
   "source": [
    "課題-4) 上の関数 `inverse()` は、有限小数の末尾に `0` を出力してループを停止するように改良したものである。さらに、循環小数は、循環を検出してループを停止している。その場合は末尾に `0` 以外の数が出力される。\n",
    "\n",
    "課題-4.1) 10進数の有限小数で $\\frac{1}{n} \\ (1 < n < 10)$ で表される8個の数の内、有限小数を数えよ。\n",
    "\n",
    "課題-4.2) 30進数の有限小数で $\\frac{1}{n} \\ (1 < n < 30)$ で表される28個の数の内、有限小数を数えよ。\n",
    "\n",
    "課題-4.3) 60進数の有限小数で $\\frac{1}{n} \\ (1 < n < 60)$ で表される58個の数の内、有限小数を数えよ。\n",
    "\n",
    "課題-6.4) 360進数の有限小数で $\\frac{1}{n} \\ (1 < n < 360)$ で表される358個の数の内、有限小数を数えよ。"
   ]
  },
  {
   "cell_type": "code",
   "execution_count": null,
   "id": "75f3baee",
   "metadata": {
    "deletable": false,
    "nbgrader": {
     "cell_type": "code",
     "checksum": "827e74b0a503c34fe580cdb2a5796f14",
     "grade": true,
     "grade_id": "cell-572674e6b04017ee",
     "locked": false,
     "points": 1,
     "schema_version": 3,
     "solution": true,
     "task": false
    }
   },
   "outputs": [],
   "source": [
    "def count_finite_decimal(base=10):\n",
    "    # YOUR CODE HERE\n",
    "    raise NotImplementedError()"
   ]
  },
  {
   "cell_type": "code",
   "execution_count": null,
   "id": "e7297a17",
   "metadata": {},
   "outputs": [],
   "source": []
  },
  {
   "cell_type": "code",
   "execution_count": null,
   "id": "6cf4bc82",
   "metadata": {},
   "outputs": [],
   "source": []
  },
  {
   "cell_type": "code",
   "execution_count": null,
   "id": "7b311685",
   "metadata": {},
   "outputs": [],
   "source": []
  },
  {
   "cell_type": "markdown",
   "id": "63b131d6",
   "metadata": {
    "deletable": false,
    "editable": false,
    "nbgrader": {
     "cell_type": "markdown",
     "checksum": "e466f48d4531c0dc557577ceeaad8d66",
     "grade": false,
     "grade_id": "cell-42091f9232c5e0bb",
     "locked": true,
     "schema_version": 3,
     "solution": false,
     "task": false
    }
   },
   "source": [
    "---\n",
    "以下、採点用のセルにつき編集できない:"
   ]
  },
  {
   "cell_type": "code",
   "execution_count": null,
   "id": "d7cda3d9",
   "metadata": {
    "deletable": false,
    "editable": false,
    "nbgrader": {
     "cell_type": "code",
     "checksum": "5f7b11faa7a01edcf72ca54b2c9a0fbc",
     "grade": true,
     "grade_id": "cell-91377f1eb231ac37",
     "locked": true,
     "points": 0,
     "schema_version": 3,
     "solution": false,
     "task": false
    }
   },
   "outputs": [],
   "source": [
    "from nose.tools import assert_equal\n",
    "assert_equal(count_finite_decimal(10),4)"
   ]
  },
  {
   "cell_type": "code",
   "execution_count": null,
   "id": "52245e30",
   "metadata": {
    "deletable": false,
    "editable": false,
    "nbgrader": {
     "cell_type": "code",
     "checksum": "e62b86ad546d74a5f17c7c141bd4443d",
     "grade": true,
     "grade_id": "cell-deb94c1a9aea39e6",
     "locked": true,
     "points": 1,
     "schema_version": 3,
     "solution": false,
     "task": false
    }
   },
   "outputs": [],
   "source": [
    "assert_equal(count_finite_decimal(30),16)"
   ]
  },
  {
   "cell_type": "code",
   "execution_count": null,
   "id": "ee843cb3",
   "metadata": {
    "deletable": false,
    "editable": false,
    "nbgrader": {
     "cell_type": "code",
     "checksum": "c4db4681fb9e8045d7f5796198081068",
     "grade": true,
     "grade_id": "cell-4eb6c6d19766c45a",
     "locked": true,
     "points": 1,
     "schema_version": 3,
     "solution": false,
     "task": false
    }
   },
   "outputs": [],
   "source": [
    "assert_equal(count_finite_decimal(60),24)"
   ]
  },
  {
   "cell_type": "code",
   "execution_count": null,
   "id": "9fa48cf2",
   "metadata": {
    "deletable": false,
    "editable": false,
    "nbgrader": {
     "cell_type": "code",
     "checksum": "f70836ac7699f9574b34846fecd5c61e",
     "grade": true,
     "grade_id": "cell-438037b7d72f0579",
     "locked": true,
     "points": 1,
     "schema_version": 3,
     "solution": false,
     "task": false
    }
   },
   "outputs": [],
   "source": [
    "assert_equal(count_finite_decimal(360),56)"
   ]
  }
 ],
 "metadata": {
  "kernelspec": {
   "display_name": "Python 3 (ipykernel)",
   "language": "python",
   "name": "python3"
  },
  "language_info": {
   "codemirror_mode": {
    "name": "ipython",
    "version": 3
   },
   "file_extension": ".py",
   "mimetype": "text/x-python",
   "name": "python",
   "nbconvert_exporter": "python",
   "pygments_lexer": "ipython3",
   "version": "3.9.12"
  },
  "toc": {
   "base_numbering": 1,
   "nav_menu": {},
   "number_sections": true,
   "sideBar": true,
   "skip_h1_title": false,
   "title_cell": "Table of Contents",
   "title_sidebar": "Contents",
   "toc_cell": false,
   "toc_position": {},
   "toc_section_display": true,
   "toc_window_display": false
  }
 },
 "nbformat": 4,
 "nbformat_minor": 5
}
