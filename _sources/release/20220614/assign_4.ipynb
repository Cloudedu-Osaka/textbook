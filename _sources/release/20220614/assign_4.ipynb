{
 "cells": [
  {
   "cell_type": "code",
   "execution_count": null,
   "id": "d2844b6f",
   "metadata": {
    "hide_input": true,
    "init_cell": true
   },
   "outputs": [],
   "source": [
    "# initialization for my classroom\n",
    "import os\n",
    "from datetime import datetime as dt\n",
    "\n",
    "def logfile(user=os.environ.get('JUPYTERHUB_USER') or 'jovyan'):\n",
    "    prefix='/srv'\n",
    "    if os.path.isdir(prefix) and os.access(prefix, os.W_OK):\n",
    "        prefix+=('/'+user)\n",
    "        if not os.path.isdir(prefix):\n",
    "            os.makedirs(prefix)\n",
    "    else:\n",
    "        prefix='.'\n",
    "    return prefix+'/'+dt.now().strftime('%Y%m%d')+'.log'\n",
    "\n",
    "path=logfile()\n",
    "#%logstop\n",
    "%logstart -otq $path append\n",
    "\n",
    "# [python - cannot override sys.excepthook - Stack Overflow](https://stackoverflow.com/questions/1261668/cannot-override-sys-excepthook/28758396)\n",
    "# https://github.com/ipython/ipython/blob/e6432249582e05f438303ce73d082a0351bb383e/IPython/core/interactiveshell.py#L1952\n",
    "\n",
    "import sys\n",
    "import traceback\n",
    "import IPython\n",
    "\n",
    "try:\n",
    "    _showtraceback\n",
    "except NameError:\n",
    "    _showtraceback=IPython.core.interactiveshell.InteractiveShell.showtraceback\n",
    "\n",
    "try:\n",
    "    _showsyntaxerror\n",
    "except NameError:\n",
    "    _showsyntaxerror=IPython.core.interactiveshell.InteractiveShell.showsyntaxerror\n",
    "\n",
    "import logging\n",
    "logging.basicConfig(filename=path.replace('.log','-exc.log'), format='%(asctime)s %(message)s', level=logging.ERROR, force=True)\n",
    "\n",
    "import sys\n",
    "import traceback\n",
    "import IPython\n",
    "\n",
    "def showtraceback(self, *args, **kwargs):\n",
    "    etype, value, tb = self._get_exc_info(kwargs.get('exc_tuple'))\n",
    "    stb = self.InteractiveTB.structured_traceback(\n",
    "        etype, value, tb, tb_offset=kwargs.get('tb_offset'))\n",
    "    logging.error(os.environ.get('JUPYTERHUB_USER') or 'jovyan')\n",
    "    logging.error(self.InteractiveTB.stb2text(stb))\n",
    "    _showtraceback(self, *args, **kwargs)\n",
    "\n",
    "def showsyntaxerror(self, *args, **kwargs):\n",
    "    etype, value, last_traceback = self._get_exc_info()\n",
    "    elist = traceback.extract_tb(last_traceback) if kwargs.get('running_compiled_code') else []\n",
    "    stb = self.SyntaxTB.structured_traceback(etype, value, elist)\n",
    "    logging.error(os.environ.get('JUPYTERHUB_USER') or 'jovyan')\n",
    "    logging.error(self.InteractiveTB.stb2text(stb))\n",
    "    _showsyntaxerror(self, *args, **kwargs)\n",
    "\n",
    "IPython.core.interactiveshell.InteractiveShell.showtraceback = showtraceback\n",
    "IPython.core.interactiveshell.InteractiveShell.showsyntaxerror = showsyntaxerror"
   ]
  },
  {
   "cell_type": "markdown",
   "id": "aee820b8",
   "metadata": {},
   "source": [
    "# 近代数学とプログラミング"
   ]
  },
  {
   "cell_type": "markdown",
   "id": "80c67781",
   "metadata": {},
   "source": [
    "## ブール代数と論理演算"
   ]
  },
  {
   "cell_type": "markdown",
   "id": "5533327c",
   "metadata": {},
   "source": [
    "* (1815&ndash;1864) [George Boole - Wikipedia](https://en.wikipedia.org/wiki/George_Boole)\n",
    "  - [Boolean algebra - Wikipedia](https://en.wikipedia.org/wiki/Boolean_algebra)"
   ]
  },
  {
   "cell_type": "code",
   "execution_count": null,
   "id": "df548a9a",
   "metadata": {},
   "outputs": [],
   "source": [
    "type(False), type(True)"
   ]
  },
  {
   "cell_type": "code",
   "execution_count": null,
   "id": "d12db7e2",
   "metadata": {},
   "outputs": [],
   "source": [
    "bool(0), bool(1)"
   ]
  },
  {
   "cell_type": "code",
   "execution_count": null,
   "id": "7db7f793",
   "metadata": {},
   "outputs": [],
   "source": [
    "int(False), int(True)"
   ]
  },
  {
   "cell_type": "code",
   "execution_count": null,
   "id": "293e725b",
   "metadata": {},
   "outputs": [],
   "source": []
  },
  {
   "cell_type": "code",
   "execution_count": null,
   "id": "b761a11b",
   "metadata": {},
   "outputs": [],
   "source": []
  },
  {
   "cell_type": "markdown",
   "id": "f86b9b2c",
   "metadata": {},
   "source": [
    "``0`` 以外にもBoole値が ``False`` になるオブジェクト (これら以外は``True``):"
   ]
  },
  {
   "cell_type": "code",
   "execution_count": null,
   "id": "6fcea86a",
   "metadata": {},
   "outputs": [],
   "source": [
    "bool(0), bool(.0), bool(int(0)), bool(float(0))"
   ]
  },
  {
   "cell_type": "code",
   "execution_count": null,
   "id": "0b3b65df",
   "metadata": {},
   "outputs": [],
   "source": [
    "bool(''), bool(()), bool([]), bool({}), bool(set()), bool(range(0))"
   ]
  },
  {
   "cell_type": "code",
   "execution_count": null,
   "id": "913c98ea",
   "metadata": {},
   "outputs": [],
   "source": [
    "if not '':\n",
    "    print('empty')"
   ]
  },
  {
   "cell_type": "code",
   "execution_count": null,
   "id": "e3e1f874",
   "metadata": {},
   "outputs": [],
   "source": [
    "if not ():\n",
    "    print('empty')"
   ]
  },
  {
   "cell_type": "code",
   "execution_count": null,
   "id": "60ec8f37",
   "metadata": {},
   "outputs": [],
   "source": [
    "if not []:\n",
    "    print('empty')"
   ]
  },
  {
   "cell_type": "code",
   "execution_count": null,
   "id": "cd7715cf",
   "metadata": {},
   "outputs": [],
   "source": [
    "if not {}:\n",
    "    print('empty')"
   ]
  },
  {
   "cell_type": "code",
   "execution_count": null,
   "id": "57a4169e",
   "metadata": {},
   "outputs": [],
   "source": [
    "if not set():\n",
    "    print('empty')"
   ]
  },
  {
   "cell_type": "code",
   "execution_count": null,
   "id": "11f10c27",
   "metadata": {},
   "outputs": [],
   "source": []
  },
  {
   "cell_type": "code",
   "execution_count": null,
   "id": "51b7584a",
   "metadata": {},
   "outputs": [],
   "source": []
  },
  {
   "cell_type": "code",
   "execution_count": null,
   "id": "0a20601a",
   "metadata": {},
   "outputs": [],
   "source": []
  },
  {
   "cell_type": "markdown",
   "id": "0a3b84da",
   "metadata": {},
   "source": [
    "### 演算を保つ写像\n",
    "* [Homomorphism - Wikipedia](https://en.wikipedia.org/wiki/Homomorphism)"
   ]
  },
  {
   "cell_type": "code",
   "execution_count": null,
   "id": "72b126b4",
   "metadata": {},
   "outputs": [],
   "source": [
    "n0 = set()\n",
    "n1 = set({0})\n",
    "n0, n1"
   ]
  },
  {
   "cell_type": "code",
   "execution_count": null,
   "id": "dea829aa",
   "metadata": {},
   "outputs": [],
   "source": [
    "type(n0), type(n1)"
   ]
  },
  {
   "cell_type": "code",
   "execution_count": null,
   "id": "9b09bbbf",
   "metadata": {},
   "outputs": [],
   "source": [
    "bool(n0), bool(n1)"
   ]
  },
  {
   "cell_type": "code",
   "execution_count": null,
   "id": "262ae861",
   "metadata": {},
   "outputs": [],
   "source": [
    "import itertools\n",
    "\n",
    "list(itertools.product([n0,n1],repeat=2))"
   ]
  },
  {
   "cell_type": "code",
   "execution_count": null,
   "id": "97e8ddd4",
   "metadata": {},
   "outputs": [],
   "source": [
    "for i,j in itertools.product([n0,n1],repeat=2):\n",
    "    print(i&j, bool(i&j), bool(i)&bool(j))"
   ]
  },
  {
   "cell_type": "code",
   "execution_count": null,
   "id": "88b0c0ea",
   "metadata": {},
   "outputs": [],
   "source": [
    "for i,j in itertools.product([n0,n1],repeat=2):\n",
    "    print(i|j, bool(i|j), bool(i)|bool(j))"
   ]
  },
  {
   "cell_type": "code",
   "execution_count": null,
   "id": "38eccc8f",
   "metadata": {},
   "outputs": [],
   "source": [
    "for i,j in itertools.product([n0,n1],repeat=2):\n",
    "    print(i^j, bool(i^j), bool(i)^bool(j))"
   ]
  },
  {
   "cell_type": "code",
   "execution_count": null,
   "id": "569effc0",
   "metadata": {},
   "outputs": [],
   "source": []
  },
  {
   "cell_type": "code",
   "execution_count": null,
   "id": "0859c8dd",
   "metadata": {},
   "outputs": [],
   "source": []
  },
  {
   "cell_type": "code",
   "execution_count": null,
   "id": "3b80eb77",
   "metadata": {},
   "outputs": [],
   "source": []
  },
  {
   "cell_type": "markdown",
   "id": "61a00033",
   "metadata": {},
   "source": [
    "ブール値から整数への変換は可能だが、ブール値に変換できる対象全てを整数に変換できるわけではない"
   ]
  },
  {
   "cell_type": "code",
   "execution_count": null,
   "id": "6da312b5",
   "metadata": {},
   "outputs": [],
   "source": [
    "n0, n1"
   ]
  },
  {
   "cell_type": "code",
   "execution_count": null,
   "id": "fb57d493",
   "metadata": {},
   "outputs": [],
   "source": [
    "bool(n0), bool(n1)"
   ]
  },
  {
   "cell_type": "code",
   "execution_count": null,
   "id": "7ab83275",
   "metadata": {},
   "outputs": [],
   "source": [
    "int(bool(n0)), int(bool(n1))"
   ]
  },
  {
   "cell_type": "code",
   "execution_count": null,
   "id": "6480b9ff",
   "metadata": {},
   "outputs": [],
   "source": [
    "int(n0), int(n1)"
   ]
  },
  {
   "cell_type": "code",
   "execution_count": null,
   "id": "3d12bb3e",
   "metadata": {},
   "outputs": [],
   "source": []
  },
  {
   "cell_type": "code",
   "execution_count": null,
   "id": "f0dc5c45",
   "metadata": {},
   "outputs": [],
   "source": []
  },
  {
   "cell_type": "code",
   "execution_count": null,
   "id": "c8386033",
   "metadata": {},
   "outputs": [],
   "source": []
  },
  {
   "cell_type": "markdown",
   "id": "0ca1b805",
   "metadata": {
    "deletable": false,
    "editable": false,
    "nbgrader": {
     "cell_type": "markdown",
     "checksum": "156301ef23171783a0cd67d9ae27618f",
     "grade": false,
     "grade_id": "cell-07ae8ca5cedaa0ad",
     "locked": true,
     "schema_version": 3,
     "solution": false,
     "task": false
    }
   },
   "source": [
    "課題-4) 引数が空か否かを判定する関数 ``is_not_empty`` を定義せよ。ただし、空以外の時にBoole値 ``True`` を返すこと。"
   ]
  },
  {
   "cell_type": "code",
   "execution_count": null,
   "id": "fd39893e",
   "metadata": {
    "deletable": false,
    "nbgrader": {
     "cell_type": "code",
     "checksum": "d2f7d2627bbcaf9d930f0315b9254e8b",
     "grade": false,
     "grade_id": "cell-c60238923b4d98f0",
     "locked": false,
     "schema_version": 3,
     "solution": true,
     "task": false
    }
   },
   "outputs": [],
   "source": [
    "def is_not_empty(x):\n",
    "    # YOUR CODE HERE\n",
    "    raise NotImplementedError()"
   ]
  },
  {
   "cell_type": "code",
   "execution_count": null,
   "id": "d4dc1ad4",
   "metadata": {},
   "outputs": [],
   "source": [
    "list(map(is_not_empty, ('', {}, set(), [])))"
   ]
  },
  {
   "cell_type": "code",
   "execution_count": null,
   "id": "419f7e6a",
   "metadata": {},
   "outputs": [],
   "source": []
  },
  {
   "cell_type": "code",
   "execution_count": null,
   "id": "61fa5007",
   "metadata": {},
   "outputs": [],
   "source": []
  },
  {
   "cell_type": "markdown",
   "id": "f1e00906",
   "metadata": {
    "deletable": false,
    "editable": false,
    "nbgrader": {
     "cell_type": "markdown",
     "checksum": "6922da5dd04721e397b89503eb21f5ea",
     "grade": false,
     "grade_id": "cell-07e8bb59b33c651e",
     "locked": true,
     "schema_version": 3,
     "solution": false,
     "task": false
    }
   },
   "source": [
    "---\n",
    "以下、採点用のセルにつき編集できない:"
   ]
  },
  {
   "cell_type": "code",
   "execution_count": null,
   "id": "dcac8764",
   "metadata": {
    "deletable": false,
    "editable": false,
    "nbgrader": {
     "cell_type": "code",
     "checksum": "8366f7bf34f8645c6d4046a00321a5be",
     "grade": false,
     "grade_id": "cell-46358d5dec99c9b8",
     "locked": true,
     "schema_version": 3,
     "solution": false,
     "task": false
    }
   },
   "outputs": [],
   "source": [
    "from nose.tools import assert_equal, assert_true"
   ]
  },
  {
   "cell_type": "code",
   "execution_count": null,
   "id": "5a1daa6d",
   "metadata": {
    "deletable": false,
    "editable": false,
    "nbgrader": {
     "cell_type": "code",
     "checksum": "07d6d4158644621705134a3221e30169",
     "grade": true,
     "grade_id": "cell-30244504f92d3607",
     "locked": true,
     "points": 1,
     "schema_version": 3,
     "solution": false,
     "task": false
    }
   },
   "outputs": [],
   "source": [
    "assert_equal(is_not_empty(''), False)"
   ]
  }
 ],
 "metadata": {
  "kernelspec": {
   "display_name": "Python 3 (ipykernel)",
   "language": "python",
   "name": "python3"
  },
  "language_info": {
   "codemirror_mode": {
    "name": "ipython",
    "version": 3
   },
   "file_extension": ".py",
   "mimetype": "text/x-python",
   "name": "python",
   "nbconvert_exporter": "python",
   "pygments_lexer": "ipython3",
   "version": "3.9.12"
  },
  "toc": {
   "base_numbering": 1,
   "nav_menu": {},
   "number_sections": true,
   "sideBar": true,
   "skip_h1_title": false,
   "title_cell": "Table of Contents",
   "title_sidebar": "Contents",
   "toc_cell": false,
   "toc_position": {},
   "toc_section_display": true,
   "toc_window_display": false
  }
 },
 "nbformat": 4,
 "nbformat_minor": 5
}
