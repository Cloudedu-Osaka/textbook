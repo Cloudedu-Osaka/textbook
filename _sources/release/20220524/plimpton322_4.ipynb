{
 "cells": [
  {
   "cell_type": "code",
   "execution_count": null,
   "id": "5bf021ff",
   "metadata": {
    "hide_input": true,
    "init_cell": true,
    "tags": [
     "remove-input"
    ]
   },
   "outputs": [],
   "source": [
    "# initialization for my classroom\n",
    "import os\n",
    "from datetime import datetime as dt\n",
    "\n",
    "def logfile(user=os.environ.get('JUPYTERHUB_USER') or 'jovyan'):\n",
    "    prefix='/srv'\n",
    "    if os.path.isdir(prefix) and os.access(prefix, os.W_OK):\n",
    "        prefix+=('/'+user)\n",
    "        if not os.path.isdir(prefix):\n",
    "            os.makedirs(prefix)\n",
    "    else:\n",
    "        prefix='.'\n",
    "    return prefix+'/'+dt.now().strftime('%Y%m%d')+'.log'\n",
    "\n",
    "path=logfile()\n",
    "#%logstop\n",
    "%logstart -otq $path append\n",
    "\n",
    "# [python - cannot override sys.excepthook - Stack Overflow](https://stackoverflow.com/questions/1261668/cannot-override-sys-excepthook/28758396)\n",
    "# https://github.com/ipython/ipython/blob/e6432249582e05f438303ce73d082a0351bb383e/IPython/core/interactiveshell.py#L1952\n",
    "\n",
    "import sys\n",
    "import traceback\n",
    "import IPython\n",
    "\n",
    "try:\n",
    "    _showtraceback\n",
    "except NameError:\n",
    "    _showtraceback=IPython.core.interactiveshell.InteractiveShell.showtraceback\n",
    "\n",
    "try:\n",
    "    _showsyntaxerror\n",
    "except NameError:\n",
    "    _showsyntaxerror=IPython.core.interactiveshell.InteractiveShell.showsyntaxerror\n",
    "\n",
    "import logging\n",
    "logging.basicConfig(filename=path.replace('.log','-exc.log'), format='%(asctime)s %(message)s', level=logging.ERROR, force=True)\n",
    "\n",
    "import sys\n",
    "import traceback\n",
    "import IPython\n",
    "\n",
    "def showtraceback(self, *args, **kwargs):\n",
    "    etype, value, tb = self._get_exc_info(kwargs.get('exc_tuple'))\n",
    "    stb = self.InteractiveTB.structured_traceback(\n",
    "        etype, value, tb, tb_offset=kwargs.get('tb_offset'))\n",
    "    logging.error(os.environ.get('JUPYTERHUB_USER') or 'jovyan')\n",
    "    logging.error(self.InteractiveTB.stb2text(stb))\n",
    "    _showtraceback(self, *args, **kwargs)\n",
    "\n",
    "def showsyntaxerror(self, *args, **kwargs):\n",
    "    etype, value, last_traceback = self._get_exc_info()\n",
    "    elist = traceback.extract_tb(last_traceback) if kwargs.get('running_compiled_code') else []\n",
    "    stb = self.SyntaxTB.structured_traceback(etype, value, elist)\n",
    "    logging.error(os.environ.get('JUPYTERHUB_USER') or 'jovyan')\n",
    "    logging.error(self.InteractiveTB.stb2text(stb))\n",
    "    _showsyntaxerror(self, *args, **kwargs)\n",
    "\n",
    "IPython.core.interactiveshell.InteractiveShell.showtraceback = showtraceback\n",
    "IPython.core.interactiveshell.InteractiveShell.showsyntaxerror = showsyntaxerror"
   ]
  },
  {
   "cell_type": "markdown",
   "id": "987171cf",
   "metadata": {},
   "source": [
    "# Plimpton 322 を解読する (2)"
   ]
  },
  {
   "cell_type": "markdown",
   "id": "8a4ed9e6",
   "metadata": {},
   "source": [
    "正の整数 $p$, $q$ $(p>q)$ に対して、\n",
    "\n",
    "$$\n",
    "  \\begin{align}\n",
    "    a & =  2 p q \\\\\n",
    "    b & =  p^2 - q^2\\\\\n",
    "    d & =  p^2 + q^2\\\\\n",
    "  \\end{align}\n",
    "$$\n",
    "\n",
    "とおくと、$a$, $b$, $d$ はピタゴラスの三数となり、$a^2+b^2 = d^2$ を満たす。"
   ]
  },
  {
   "cell_type": "markdown",
   "id": "c3f43b15",
   "metadata": {},
   "source": [
    "解) 恒等式\n",
    "\n",
    "$$\n",
    "  (x-y)^2 = (x+y)^2 - 4xy\n",
    "$$\n",
    "\n",
    "に対して $x=p^2$, $y=q^2$ とおいて $p$, $q$ を消去する。\n",
    "\n",
    "$$\n",
    "  \\begin{align}\n",
    "    (p^2-q^2)^2 &= (p^2+q^2)^2 - 4p^2q^2 \\\\\n",
    "    b^2 &= d^2 - a^2\n",
    "  \\end{align}\n",
    "$$"
   ]
  },
  {
   "cell_type": "code",
   "execution_count": null,
   "id": "fc7a39cc",
   "metadata": {
    "hide_input": true
   },
   "outputs": [],
   "source": [
    "from matplotlib.patches import Polygon\n",
    "import matplotlib.pyplot as plt\n",
    "\n",
    "p0 = Polygon([(0,0), (3,0), (3,1), (0,1), ], fill=False)\n",
    "p1 = Polygon([(3,0), (4,0), (4,3), (3,3), ], fill=False)\n",
    "p2 = Polygon([(4,3), (4,4), (1,4), (1,3), ], fill=False)\n",
    "p3 = Polygon([(1,1), (1,4), (0,4), (0,1), ], fill=False)\n",
    "\n",
    "fig, ax = plt.subplots(1,1)\n",
    "\n",
    "ax.add_patch(p0)\n",
    "ax.add_patch(p1)\n",
    "ax.add_patch(p2)\n",
    "ax.add_patch(p3)\n",
    "ax.axis('equal')\n",
    "ax.set(xlim=(0,4),ylim=(-1,5))\n",
    "\n",
    "plt.text(1.5,-0.3,'x')\n",
    "plt.text(3.5,-0.3,'y')\n",
    "plt.text(-0.3,2.5,'x')\n",
    "plt.text(-0.3,0.5,'y')\n",
    "plt.text(1.8,1.2, 'x - y')\n",
    "plt.show()"
   ]
  },
  {
   "cell_type": "markdown",
   "id": "ecce1010",
   "metadata": {
    "hide_input": false
   },
   "source": [
    "* [ピタゴラス数の求め方とその証明 | 高校数学の美しい物語](https://manabitimes.jp/math/661)"
   ]
  },
  {
   "cell_type": "markdown",
   "id": "30b54285",
   "metadata": {},
   "source": [
    "Plimpton 322との対応は次の表の通りである:"
   ]
  },
  {
   "cell_type": "markdown",
   "id": "c6b20e8b",
   "metadata": {},
   "source": [
    "|#1 |#2 |#3 |\n",
    "|:-:|:-:|:-:|\n",
    "|$$\\left(\\frac{d}{a}\\right)^2$$|$$b$$      |$$d$$      |\n",
    "|$$\\frac{1}{4}\\left(\\frac{p}{q}+\\frac{q}{p}\\right)^2$$|$$p^2-q^2$$|$$p^2+q^2$$|"
   ]
  },
  {
   "cell_type": "code",
   "execution_count": null,
   "id": "feeab44f",
   "metadata": {
    "hide_input": true
   },
   "outputs": [],
   "source": [
    "import pandas as pd\n",
    "import requests\n",
    "\n",
    "res = requests.get(\"https://en.wikipedia.org/wiki/Plimpton_322\").text\n",
    "\n",
    "df2=pd.read_html(res)[1]\n",
    "df2"
   ]
  },
  {
   "cell_type": "markdown",
   "id": "9ccd14a8",
   "metadata": {},
   "source": [
    "命題) Plimpton 322は、互いに素な正の整数 $p$, $q$ のうち、\n",
    "\n",
    "$$\n",
    "  \\frac{9}{5} \\leq \\frac{p}{q} \\leq \\frac{12}{5}\n",
    "$$\n",
    "\n",
    "を満たす組み合わせについて、\n",
    "\n",
    "$$\n",
    "\\frac{d}{a} = \\frac{1}{2}\\left(\\frac{p}{q}+\\frac{q}{p}\\right)\n",
    "$$\n",
    "\n",
    "をキーとして降順に並べたものである。"
   ]
  },
  {
   "cell_type": "markdown",
   "id": "3737cd1f",
   "metadata": {},
   "source": [
    "補足: \n",
    "\n",
    "|#1 |#2 |#3 |\n",
    "|:-:|:-:|:-:|\n",
    "|$$\\left(\\frac{d}{a}\\right)^2$$|$$b$$      |$$d$$      |\n",
    "|$$\\frac{1}{4}\\left(\\frac{p}{q}+\\frac{q}{p}\\right)^2$$|$$p^2-q^2$$|$$p^2+q^2$$|\n",
    "|$$1+{v_{1}}^2 = {v_{4}}^2$$|$$a\\cdot v_{1}$$|$$a\\cdot v_{4}$$|\n",
    "|$$1+\\left(\\frac{c}{2}\\right)^2$$|$$\\frac{a}{2}\\left(x-\\frac{1}{x}\\right)$$|$$\\frac{a}{2}\\left(x+\\frac{1}{x}\\right)$$|"
   ]
  },
  {
   "cell_type": "markdown",
   "id": "eb3b6e3b",
   "metadata": {},
   "source": [
    "補足2: Plimpton 322の欠落?\n",
    "\n",
    "|.  |.  |.  |.  |\n",
    "|:-:|:-:|:-:|:-:|\n",
    "|$$\\frac{d+b}{a}$$|$$\\frac{d-b}{a}$$|$$2 \\frac{b}{a}$$|$$a$$|\n",
    "|$$\\frac{p}{q}$$|$$\\frac{q}{p}$$|$$\\frac{p}{q}-\\frac{q}{p}$$|$$2qp$$|\n",
    "|$$v_{4}+v_{1}$$|$$v_{4}-v_{1}$$|$$2\\cdot v_{1}$$|$$a$$|\n",
    "|$$x$$|$$\\frac{1}{x}$$|$$c=x-\\frac{1}{x}$$|$$a$$|"
   ]
  },
  {
   "cell_type": "code",
   "execution_count": null,
   "id": "f7b3db37",
   "metadata": {},
   "outputs": [],
   "source": []
  }
 ],
 "metadata": {
  "kernelspec": {
   "display_name": "Python 3 (ipykernel)",
   "language": "python",
   "name": "python3"
  },
  "language_info": {
   "codemirror_mode": {
    "name": "ipython",
    "version": 3
   },
   "file_extension": ".py",
   "mimetype": "text/x-python",
   "name": "python",
   "nbconvert_exporter": "python",
   "pygments_lexer": "ipython3",
   "version": "3.9.12"
  },
  "toc": {
   "base_numbering": 1,
   "nav_menu": {},
   "number_sections": true,
   "sideBar": true,
   "skip_h1_title": false,
   "title_cell": "Table of Contents",
   "title_sidebar": "Contents",
   "toc_cell": false,
   "toc_position": {},
   "toc_section_display": true,
   "toc_window_display": false
  }
 },
 "nbformat": 4,
 "nbformat_minor": 5
}
