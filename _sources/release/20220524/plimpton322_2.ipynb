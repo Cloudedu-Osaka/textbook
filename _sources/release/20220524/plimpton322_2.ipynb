{
 "cells": [
  {
   "cell_type": "code",
   "execution_count": null,
   "id": "cb805500",
   "metadata": {
    "hide_input": true,
    "init_cell": true,
    "tags": [
     "remove-input"
    ]
   },
   "outputs": [],
   "source": [
    "# initialization for my classroom\n",
    "import os\n",
    "from datetime import datetime as dt\n",
    "\n",
    "def logfile(user=os.environ.get('JUPYTERHUB_USER') or 'jovyan'):\n",
    "    prefix='/srv'\n",
    "    if os.path.isdir(prefix) and os.access(prefix, os.W_OK):\n",
    "        prefix+=('/'+user)\n",
    "        if not os.path.isdir(prefix):\n",
    "            os.makedirs(prefix)\n",
    "    else:\n",
    "        prefix='.'\n",
    "    return prefix+'/'+dt.now().strftime('%Y%m%d')+'.log'\n",
    "\n",
    "path=logfile()\n",
    "#%logstop\n",
    "%logstart -otq $path append\n",
    "\n",
    "# [python - cannot override sys.excepthook - Stack Overflow](https://stackoverflow.com/questions/1261668/cannot-override-sys-excepthook/28758396)\n",
    "# https://github.com/ipython/ipython/blob/e6432249582e05f438303ce73d082a0351bb383e/IPython/core/interactiveshell.py#L1952\n",
    "\n",
    "import sys\n",
    "import traceback\n",
    "import IPython\n",
    "\n",
    "try:\n",
    "    _showtraceback\n",
    "except NameError:\n",
    "    _showtraceback=IPython.core.interactiveshell.InteractiveShell.showtraceback\n",
    "\n",
    "try:\n",
    "    _showsyntaxerror\n",
    "except NameError:\n",
    "    _showsyntaxerror=IPython.core.interactiveshell.InteractiveShell.showsyntaxerror\n",
    "\n",
    "import logging\n",
    "logging.basicConfig(filename=path.replace('.log','-exc.log'), format='%(asctime)s %(message)s', level=logging.ERROR, force=True)\n",
    "\n",
    "import sys\n",
    "import traceback\n",
    "import IPython\n",
    "\n",
    "def showtraceback(self, *args, **kwargs):\n",
    "    etype, value, tb = self._get_exc_info(kwargs.get('exc_tuple'))\n",
    "    stb = self.InteractiveTB.structured_traceback(\n",
    "        etype, value, tb, tb_offset=kwargs.get('tb_offset'))\n",
    "    logging.error(os.environ.get('JUPYTERHUB_USER') or 'jovyan')\n",
    "    logging.error(self.InteractiveTB.stb2text(stb))\n",
    "    _showtraceback(self, *args, **kwargs)\n",
    "\n",
    "def showsyntaxerror(self, *args, **kwargs):\n",
    "    etype, value, last_traceback = self._get_exc_info()\n",
    "    elist = traceback.extract_tb(last_traceback) if kwargs.get('running_compiled_code') else []\n",
    "    stb = self.SyntaxTB.structured_traceback(etype, value, elist)\n",
    "    logging.error(os.environ.get('JUPYTERHUB_USER') or 'jovyan')\n",
    "    logging.error(self.InteractiveTB.stb2text(stb))\n",
    "    _showsyntaxerror(self, *args, **kwargs)\n",
    "\n",
    "IPython.core.interactiveshell.InteractiveShell.showtraceback = showtraceback\n",
    "IPython.core.interactiveshell.InteractiveShell.showsyntaxerror = showsyntaxerror"
   ]
  },
  {
   "cell_type": "markdown",
   "id": "c46a45a9",
   "metadata": {},
   "source": [
    "# Plimton 322 の解読 (1)"
   ]
  },
  {
   "cell_type": "markdown",
   "id": "808cfef7",
   "metadata": {},
   "source": [
    "## 粘土板に楔形文字を書く\n",
    "* [Writing Cuneiform (video) | Khan Academy](https://www.khanacademy.org/humanities/ancient-art-civilizations/ancient-near-east1/the-ancient-near-east-an-introduction/v/cuneiform)"
   ]
  },
  {
   "cell_type": "markdown",
   "id": "cf0a8330",
   "metadata": {},
   "source": [
    "## Plimpton 322 の外観\n",
    "* [Mathematicians Crack Mystery of Babylonian Clay Tablet ‘Plimpton 322’ | Archaeology, Mathematics | Sci-News.com](http://www.sci-news.com/archaeology/babylonian-clay-tablet-plimpton-322-05163.html)"
   ]
  },
  {
   "cell_type": "markdown",
   "id": "b44cba8d",
   "metadata": {},
   "source": [
    "![fig-2](http://cdn.sci-news.com/images/enlarge4/image_5163_1e-Plimpton-322.jpg)"
   ]
  },
  {
   "cell_type": "markdown",
   "id": "2d435ba0",
   "metadata": {},
   "source": [
    "![fig-3](http://cdn.sci-news.com/images/enlarge4/image_5163_2e-Plimpton-322.jpg)"
   ]
  },
  {
   "cell_type": "markdown",
   "id": "d56eb925",
   "metadata": {},
   "source": [
    "## Plimpton 322 の数表を読み込む\n",
    "* [Plimpton 322 - Wikipedia](https://en.wikipedia.org/wiki/Plimpton_322)\n",
    "  - 数表-1: 60進法\n",
    "    - 異なる推定値を括弧で示し、1番目と4番目のコラムのうち内容が推定される破損部分を斜体で示し、6つの推定誤りを太字で示し、その下の角括弧に一般に提案されている訂正を示す\n",
    "    - 3列目の53を2倍の値である1 46に置き換えるか、2列目の56を半分の値である28に置き換えるか\n",
    "  - 数表-2: 10進法\n",
    "    - 11行目の2列目と3列目には、15行目を除く他の行とは異なり、共通因子が含まれている。$45$ と$1 15$はバビロニア数学では$3/4$と$5/4$と解釈される可能性があり、これはおなじみの標準的な直角三角形 $(3,4,5)$ を縮小した$(0.75, 1, 1.25)$ と一致するものです\n",
    "    - 15行目も2列目が28、3列目が53と修正される可能性がある"
   ]
  },
  {
   "cell_type": "code",
   "execution_count": null,
   "id": "18a6cc1f",
   "metadata": {},
   "outputs": [],
   "source": [
    "import pandas as pd\n",
    "import requests"
   ]
  },
  {
   "cell_type": "code",
   "execution_count": null,
   "id": "768be2d6",
   "metadata": {},
   "outputs": [],
   "source": [
    "res = requests.get(\"https://en.wikipedia.org/wiki/Plimpton_322\").text"
   ]
  },
  {
   "cell_type": "code",
   "execution_count": null,
   "id": "9ddc7339",
   "metadata": {},
   "outputs": [],
   "source": [
    "df1=pd.read_html(res)[0]\n",
    "df1"
   ]
  },
  {
   "cell_type": "code",
   "execution_count": null,
   "id": "b423d7da",
   "metadata": {},
   "outputs": [],
   "source": [
    "import pandas as pd\n",
    "import requests\n",
    "\n",
    "res = requests.get(\"https://en.wikipedia.org/wiki/Plimpton_322\").text\n",
    "\n",
    "df2=pd.read_html(res)[1]\n",
    "df2"
   ]
  },
  {
   "cell_type": "markdown",
   "id": "1da62afd",
   "metadata": {},
   "source": [
    "### 11行目に着目する"
   ]
  },
  {
   "cell_type": "code",
   "execution_count": null,
   "id": "473463bd",
   "metadata": {},
   "outputs": [],
   "source": [
    "df1.take([10])"
   ]
  },
  {
   "cell_type": "code",
   "execution_count": null,
   "id": "15a34ecf",
   "metadata": {},
   "outputs": [],
   "source": [
    "df2.take([10])"
   ]
  },
  {
   "cell_type": "code",
   "execution_count": null,
   "id": "80058285",
   "metadata": {},
   "outputs": [],
   "source": [
    "b,d=df2.iloc[10,[1,2]]\n",
    "b,d"
   ]
  },
  {
   "cell_type": "code",
   "execution_count": null,
   "id": "90f7443c",
   "metadata": {
    "hide_input": true
   },
   "outputs": [],
   "source": [
    "from matplotlib.patches import Polygon\n",
    "import matplotlib.pyplot as plt\n",
    "p0 = Polygon([(0,0), (3,0), (3,4),], alpha=0.3)\n",
    "p1 = Polygon([(0,0), (45,0), (45,60),], fill=False)\n",
    "fig, ax = plt.subplots(1,1)\n",
    "\n",
    "ax.add_patch(p0)\n",
    "ax.add_patch(p1)\n",
    "ax.axis('equal')\n",
    "ax.set(xlim=(0,45),ylim=(-1,61))\n",
    "plt.show()"
   ]
  },
  {
   "cell_type": "code",
   "execution_count": null,
   "id": "11191be6",
   "metadata": {
    "hide_input": true
   },
   "outputs": [],
   "source": [
    "from matplotlib.patches import Polygon\n",
    "import matplotlib.pyplot as plt\n",
    "p0 = Polygon([(0,0), (3,0), (3,4),], alpha=0.3)\n",
    "p1 = Polygon([(0,0), (45/60,0), (45/60,60/60),], fill=False)\n",
    "fig, ax = plt.subplots(1,1)\n",
    "\n",
    "ax.add_patch(p0)\n",
    "ax.add_patch(p1)\n",
    "ax.axis('equal')\n",
    "ax.set(xlim=(0,3),ylim=(-1,5))\n",
    "plt.show()"
   ]
  },
  {
   "cell_type": "code",
   "execution_count": null,
   "id": "c7772ab4",
   "metadata": {},
   "outputs": [],
   "source": [
    "(75/60)**2, (45/60)**2"
   ]
  },
  {
   "cell_type": "code",
   "execution_count": null,
   "id": "f20d25dd",
   "metadata": {},
   "outputs": [],
   "source": [
    "df2.take([10])"
   ]
  }
 ],
 "metadata": {
  "kernelspec": {
   "display_name": "Python 3 (ipykernel)",
   "language": "python",
   "name": "python3"
  },
  "language_info": {
   "codemirror_mode": {
    "name": "ipython",
    "version": 3
   },
   "file_extension": ".py",
   "mimetype": "text/x-python",
   "name": "python",
   "nbconvert_exporter": "python",
   "pygments_lexer": "ipython3",
   "version": "3.9.12"
  },
  "toc": {
   "base_numbering": 1,
   "nav_menu": {},
   "number_sections": true,
   "sideBar": true,
   "skip_h1_title": false,
   "title_cell": "Table of Contents",
   "title_sidebar": "Contents",
   "toc_cell": false,
   "toc_position": {},
   "toc_section_display": true,
   "toc_window_display": false
  }
 },
 "nbformat": 4,
 "nbformat_minor": 5
}
