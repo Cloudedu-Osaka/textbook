{
 "cells": [
  {
   "cell_type": "code",
   "execution_count": 1,
   "id": "3a2fe8d0",
   "metadata": {},
   "outputs": [],
   "source": [
    "using Cxx"
   ]
  },
  {
   "cell_type": "code",
   "execution_count": 2,
   "id": "ad48b2da",
   "metadata": {},
   "outputs": [
    {
     "data": {
      "text/plain": [
       "true"
      ]
     },
     "execution_count": 2,
     "metadata": {},
     "output_type": "execute_result"
    }
   ],
   "source": [
    "cxx\"\"\" #include<iostream> \"\"\""
   ]
  },
  {
   "cell_type": "code",
   "execution_count": 3,
   "id": "83d480f0",
   "metadata": {},
   "outputs": [
    {
     "data": {
      "text/plain": [
       "true"
      ]
     },
     "execution_count": 3,
     "metadata": {},
     "output_type": "execute_result"
    }
   ],
   "source": [
    "cxx\"\"\"  \n",
    "         void mycppfunction() {   \n",
    "            int z = 0;\n",
    "            int y = 5;\n",
    "            int x = 10;\n",
    "            z = x*y + 2;\n",
    "            std::cout << \"The number is \" << z << std::endl;\n",
    "         }\n",
    "       \"\"\""
   ]
  },
  {
   "cell_type": "code",
   "execution_count": 4,
   "id": "52c39327",
   "metadata": {},
   "outputs": [
    {
     "data": {
      "text/plain": [
       "julia_function (generic function with 1 method)"
      ]
     },
     "execution_count": 4,
     "metadata": {},
     "output_type": "execute_result"
    }
   ],
   "source": [
    "julia_function() = @cxx mycppfunction()"
   ]
  },
  {
   "cell_type": "code",
   "execution_count": 5,
   "id": "47b0b3ef",
   "metadata": {},
   "outputs": [
    {
     "name": "stdout",
     "output_type": "stream",
     "text": [
      "The number is 52\n"
     ]
    },
    {
     "name": "stderr",
     "output_type": "stream",
     "text": [
      "In file included from /Cxx.h:1:\n",
      "\u001b[1m/Users/manabu/.julia/packages/Cxx/cr4BV/src/std.jl:112:38: \u001b[0m\u001b[0;1;35mwarning: \u001b[0m\u001b[1mexpression result unused\u001b[0m\n",
      "std::vector<bool> &vr = __juliavar1; vr;\n",
      "\u001b[0;1;32m                                     ^~\n",
      "\u001b[0m\u001b[1m/Users/manabu/.julia/packages/Cxx/cr4BV/src/std.jl:43:12: \u001b[0m\u001b[0;1;31merror: \u001b[0m\u001b[1mimplicit instantiation of undefined template 'std::vector<bool>'\u001b[0m\n",
      "__juliavar1.size();\n",
      "\u001b[0;1;32m           ^\n",
      "\u001b[0m\u001b[1m/Users/manabu/.julia/artifacts/8571aac530057acc3f32ffab9003dc3e00b24723/x86_64-apple-darwin14/sys-root/usr/include/c++/v1/iosfwd:217:28: \u001b[0m\u001b[0;1;30mnote: \u001b[0mtemplate is declared here\u001b[0m\n",
      "class _LIBCPP_TEMPLATE_VIS vector;\n",
      "\u001b[0;1;32m                           ^\n",
      "\u001b[0mIn file included from /Cxx.h:1:\n",
      "\u001b[1m/Users/manabu/.julia/packages/Cxx/cr4BV/src/std.jl:112:38: \u001b[0m\u001b[0;1;35mwarning: \u001b[0m\u001b[1mexpression result unused\u001b[0m\n",
      "std::vector<bool> &vr = __juliavar1; vr;\n",
      "\u001b[0;1;32m                                     ^~\n",
      "\u001b[0m"
     ]
    }
   ],
   "source": [
    "julia_function()"
   ]
  },
  {
   "cell_type": "code",
   "execution_count": null,
   "id": "06287dea",
   "metadata": {},
   "outputs": [],
   "source": []
  }
 ],
 "metadata": {
  "kernelspec": {
   "display_name": "Julia 1.7.3",
   "language": "julia",
   "name": "julia-1.7"
  },
  "language_info": {
   "file_extension": ".jl",
   "mimetype": "application/julia",
   "name": "julia",
   "version": "1.7.3"
  },
  "toc": {
   "base_numbering": 1,
   "nav_menu": {},
   "number_sections": true,
   "sideBar": true,
   "skip_h1_title": false,
   "title_cell": "Table of Contents",
   "title_sidebar": "Contents",
   "toc_cell": false,
   "toc_position": {},
   "toc_section_display": true,
   "toc_window_display": false
  }
 },
 "nbformat": 4,
 "nbformat_minor": 5
}
