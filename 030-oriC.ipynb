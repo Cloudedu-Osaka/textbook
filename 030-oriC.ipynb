{
 "cells": [
  {
   "cell_type": "code",
   "execution_count": null,
   "id": "a532d74d",
   "metadata": {},
   "outputs": [],
   "source": []
  },
  {
   "cell_type": "code",
   "execution_count": null,
   "id": "d832bba9",
   "metadata": {},
   "outputs": [],
   "source": []
  },
  {
   "cell_type": "code",
   "execution_count": null,
   "id": "3e05f5ec",
   "metadata": {},
   "outputs": [],
   "source": []
  },
  {
   "cell_type": "code",
   "execution_count": null,
   "id": "13465f17-be26-4ae8-b93c-de683210ea35",
   "metadata": {},
   "outputs": [],
   "source": [
    "import difflib\n",
    "box = Seq(\"TTATCCACA\").complement()\n",
    "for i in range(len(oriC)-9):\n",
    "    frg = Seq(oriC[i:i+9])\n",
    "    rtp = difflib.SequenceMatcher(None, box, frg).ratio()\n",
    "    rtm = difflib.SequenceMatcher(None, box, frg[::-1]).ratio()\n",
    "    print(frg, \"{:.2f} {:.2f}\".format(rtm,rtp), end=\"\")\n",
    "    print(\"{:>20s}|{:<20s}\".format('='*int(rtm*10),'='*int(rtp*10)))"
   ]
  },
  {
   "cell_type": "code",
   "execution_count": null,
   "id": "d15a0d57-be24-43dd-ae11-d6bac774c166",
   "metadata": {},
   "outputs": [],
   "source": []
  },
  {
   "cell_type": "code",
   "execution_count": 19,
   "id": "8d07975a",
   "metadata": {},
   "outputs": [
    {
     "name": "stdout",
     "output_type": "stream",
     "text": [
      "GATCTATTT 0.44 0.56                ====|=====               \n",
      "ATCTATTTA 0.56 0.56               =====|=====               \n",
      "TCTATTTAT 0.56 0.44               =====|====                \n",
      "CTATTTATT 0.44 0.56                ====|=====               \n",
      "TATTTATTT 0.44 0.56                ====|=====               \n",
      "ATTTATTTA 0.56 0.56               =====|=====               \n",
      "TTTATTTAG 0.56 0.44               =====|====                \n",
      "TTATTTAGA 0.67 0.44              ======|====                \n",
      "TATTTAGAG 0.56 0.56               =====|=====               \n",
      "ATTTAGAGA 0.44 0.56                ====|=====               \n",
      "TTTAGAGAT 0.67 0.56              ======|=====               \n",
      "TTAGAGATC 0.67 0.56              ======|=====               \n",
      "TAGAGATCT 0.56 0.67               =====|======              \n",
      "AGAGATCTG 0.44 0.56                ====|=====               \n",
      "GAGATCTGT 0.44 0.67                ====|======              \n",
      "AGATCTGTT 0.33 0.67                 ===|======              \n",
      "GATCTGTTC 0.33 0.56                 ===|=====               \n",
      "ATCTGTTCT 0.44 0.56                ====|=====               \n",
      "TCTGTTCTA 0.56 0.44               =====|====                \n",
      "CTGTTCTAT 0.56 0.33               =====|===                 \n",
      "TGTTCTATT 0.56 0.33               =====|===                 \n",
      "GTTCTATTG 0.44 0.44                ====|====                \n",
      "TTCTATTGT 0.33 0.56                 ===|=====               \n",
      "TCTATTGTG 0.44 0.56                ====|=====               \n",
      "CTATTGTGA 0.56 0.56               =====|=====               \n",
      "TATTGTGAT 0.67 0.67              ======|======              \n",
      "ATTGTGATC 0.67 0.67              ======|======              \n",
      "TTGTGATCT 0.67 0.56              ======|=====               \n",
      "TGTGATCTC 0.67 0.56              ======|=====               \n",
      "GTGATCTCT 0.56 0.44               =====|====                \n",
      "TGATCTCTT 0.44 0.44                ====|====                \n",
      "GATCTCTTA 0.44 0.33                ====|===                 \n",
      "ATCTCTTAT 0.33 0.44                 ===|====                \n",
      "TCTCTTATT 0.44 0.33                ====|===                 \n",
      "CTCTTATTA 0.56 0.33               =====|===                 \n",
      "TCTTATTAG 0.56 0.44               =====|====                \n",
      "CTTATTAGG 0.56 0.56               =====|=====               \n",
      "TTATTAGGA 0.56 0.56               =====|=====               \n",
      "TATTAGGAT 0.67 0.67              ======|======              \n",
      "ATTAGGATC 0.67 0.67              ======|======              \n",
      "TTAGGATCG 0.67 0.67              ======|======              \n",
      "TAGGATCGC 0.56 0.67               =====|======              \n",
      "AGGATCGCA 0.56 0.56               =====|=====               \n",
      "GGATCGCAC 0.56 0.33               =====|===                 \n",
      "GATCGCACT 0.44 0.44                ====|====                \n",
      "ATCGCACTG 0.33 0.56                 ===|=====               \n",
      "TCGCACTGC 0.44 0.33                ====|===                 \n",
      "CGCACTGCC 0.33 0.33                 ===|===                 \n",
      "GCACTGCCC 0.33 0.33                 ===|===                 \n",
      "CACTGCCCT 0.33 0.44                 ===|====                \n",
      "ACTGCCCTG 0.44 0.44                ====|====                \n",
      "CTGCCCTGT 0.33 0.56                 ===|=====               \n",
      "TGCCCTGTG 0.44 0.56                ====|=====               \n",
      "GCCCTGTGG 0.56 0.44               =====|====                \n",
      "CCCTGTGGA 0.67 0.44              ======|====                \n",
      "CCTGTGGAT 0.78 0.56             =======|=====               \n",
      "CTGTGGATA 0.89 0.33            ========|===                 \n",
      "TGTGGATAA 1.00 0.33          ==========|===                 \n",
      "GTGGATAAC 0.89 0.33            ========|===                 \n",
      "TGGATAACA 0.78 0.33             =======|===                 \n",
      "GGATAACAA 0.67 0.33              ======|===                 \n",
      "GATAACAAG 0.56 0.44               =====|====                \n",
      "ATAACAAGG 0.44 0.56                ====|=====               \n",
      "TAACAAGGA 0.33 0.56                 ===|=====               \n",
      "AACAAGGAT 0.44 0.67                ====|======              \n",
      "ACAAGGATC 0.44 0.67                ====|======              \n",
      "CAAGGATCC 0.44 0.56                ====|=====               \n",
      "AAGGATCCG 0.44 0.67                ====|======              \n",
      "AGGATCCGG 0.44 0.56                ====|=====               \n",
      "GGATCCGGC 0.44 0.44                ====|====                \n",
      "GATCCGGCT 0.33 0.56                 ===|=====               \n",
      "ATCCGGCTT 0.22 0.67                  ==|======              \n",
      "TCCGGCTTT 0.44 0.56                ====|=====               \n",
      "CCGGCTTTT 0.33 0.44                 ===|====                \n",
      "CGGCTTTTA 0.44 0.22                ====|==                  \n",
      "GGCTTTTAA 0.56 0.22               =====|==                  \n",
      "GCTTTTAAG 0.44 0.33                ====|===                 \n",
      "CTTTTAAGA 0.56 0.33               =====|===                 \n",
      "TTTTAAGAT 0.56 0.33               =====|===                 \n",
      "TTTAAGATC 0.56 0.33               =====|===                 \n",
      "TTAAGATCA 0.44 0.44                ====|====                \n",
      "TAAGATCAA 0.33 0.44                 ===|====                \n",
      "AAGATCAAC 0.56 0.44               =====|====                \n",
      "AGATCAACA 0.56 0.33               =====|===                 \n",
      "GATCAACAA 0.56 0.33               =====|===                 \n",
      "ATCAACAAC 0.44 0.33                ====|===                 \n",
      "TCAACAACC 0.33 0.33                 ===|===                 \n",
      "CAACAACCT 0.33 0.33                 ===|===                 \n",
      "AACAACCTG 0.33 0.56                 ===|=====               \n",
      "ACAACCTGG 0.33 0.56                 ===|=====               \n",
      "CAACCTGGA 0.44 0.56                ====|=====               \n",
      "AACCTGGAA 0.56 0.56               =====|=====               \n",
      "ACCTGGAAA 0.67 0.33              ======|===                 \n",
      "CCTGGAAAG 0.67 0.44              ======|====                \n",
      "CTGGAAAGG 0.67 0.56              ======|=====               \n",
      "TGGAAAGGA 0.67 0.56              ======|=====               \n",
      "GGAAAGGAT 0.56 0.67               =====|======              \n",
      "GAAAGGATC 0.56 0.67               =====|======              \n",
      "AAAGGATCA 0.56 0.67               =====|======              \n",
      "AAGGATCAT 0.56 0.67               =====|======              \n",
      "AGGATCATT 0.56 0.56               =====|=====               \n",
      "GGATCATTA 0.67 0.56              ======|=====               \n",
      "GATCATTAA 0.56 0.22               =====|==                  \n",
      "ATCATTAAC 0.56 0.22               =====|==                  \n",
      "TCATTAACT 0.56 0.33               =====|===                 \n",
      "CATTAACTG 0.44 0.44                ====|====                \n",
      "ATTAACTGT 0.44 0.56                ====|=====               \n",
      "TTAACTGTG 0.44 0.67                ====|======              \n",
      "TAACTGTGA 0.56 0.67               =====|======              \n",
      "AACTGTGAA 0.67 0.67              ======|======              \n",
      "ACTGTGAAT 0.67 0.33              ======|===                 \n",
      "CTGTGAATG 0.67 0.44              ======|====                \n",
      "TGTGAATGA 0.67 0.44              ======|====                \n",
      "GTGAATGAT 0.67 0.56              ======|=====               \n",
      "TGAATGATC 0.56 0.56               =====|=====               \n",
      "GAATGATCG 0.44 0.56                ====|=====               \n",
      "AATGATCGG 0.44 0.67                ====|======              \n",
      "ATGATCGGT 0.44 0.67                ====|======              \n",
      "TGATCGGTG 0.44 0.67                ====|======              \n",
      "GATCGGTGA 0.44 0.67                ====|======              \n",
      "ATCGGTGAT 0.67 0.78              ======|=======             \n",
      "TCGGTGATC 0.67 0.67              ======|======              \n",
      "CGGTGATCC 0.56 0.56               =====|=====               \n",
      "GGTGATCCT 0.56 0.56               =====|=====               \n",
      "GTGATCCTG 0.56 0.44               =====|====                \n",
      "TGATCCTGG 0.44 0.44                ====|====                \n",
      "GATCCTGGA 0.56 0.44               =====|====                \n",
      "ATCCTGGAC 0.56 0.44               =====|====                \n",
      "TCCTGGACC 0.56 0.33               =====|===                 \n",
      "CCTGGACCG 0.44 0.44                ====|====                \n",
      "CTGGACCGT 0.56 0.56               =====|=====               \n",
      "TGGACCGTA 0.67 0.33              ======|===                 \n",
      "GGACCGTAT 0.56 0.33               =====|===                 \n",
      "GACCGTATA 0.56 0.44               =====|====                \n",
      "ACCGTATAA 0.67 0.44              ======|====                \n",
      "CCGTATAAG 0.67 0.44              ======|====                \n",
      "CGTATAAGC 0.67 0.44              ======|====                \n",
      "GTATAAGCT 0.67 0.56              ======|=====               \n",
      "TATAAGCTG 0.56 0.67               =====|======              \n",
      "ATAAGCTGG 0.44 0.56                ====|=====               \n",
      "TAAGCTGGG 0.33 0.67                 ===|======              \n",
      "AAGCTGGGA 0.56 0.67               =====|======              \n",
      "AGCTGGGAT 0.67 0.33              ======|===                 \n",
      "GCTGGGATC 0.67 0.22              ======|==                  \n",
      "CTGGGATCA 0.78 0.33             =======|===                 \n",
      "TGGGATCAG 0.78 0.44             =======|====                \n",
      "GGGATCAGA 0.78 0.44             =======|====                \n",
      "GGATCAGAA 0.67 0.22              ======|==                  \n",
      "GATCAGAAT 0.56 0.33               =====|===                 \n",
      "ATCAGAATG 0.44 0.44                ====|====                \n",
      "TCAGAATGA 0.33 0.44                 ===|====                \n",
      "CAGAATGAG 0.33 0.56                 ===|=====               \n",
      "AGAATGAGG 0.33 0.67                 ===|======              \n",
      "GAATGAGGG 0.33 0.78                 ===|=======             \n",
      "AATGAGGGG 0.22 0.78                  ==|=======             \n",
      "ATGAGGGGT 0.33 0.78                 ===|=======             \n",
      "TGAGGGGTT 0.44 0.67                ====|======              \n",
      "GAGGGGTTA 0.44 0.56                ====|=====               \n",
      "AGGGGTTAT 0.56 0.56               =====|=====               \n",
      "GGGGTTATA 0.67 0.33              ======|===                 \n",
      "GGGTTATAC 0.67 0.33              ======|===                 \n",
      "GGTTATACA 0.67 0.33              ======|===                 \n",
      "GTTATACAC 0.67 0.33              ======|===                 \n",
      "TTATACACA 0.67 0.33              ======|===                 \n",
      "TATACACAA 0.56 0.33               =====|===                 \n",
      "ATACACAAC 0.44 0.33                ====|===                 \n",
      "TACACAACT 0.33 0.33                 ===|===                 \n",
      "ACACAACTC 0.33 0.33                 ===|===                 \n",
      "CACAACTCA 0.33 0.44                 ===|====                \n",
      "ACAACTCAA 0.44 0.44                ====|====                \n",
      "CAACTCAAA 0.44 0.44                ====|====                \n",
      "AACTCAAAA 0.44 0.44                ====|====                \n",
      "ACTCAAAAA 0.44 0.33                ====|===                 \n",
      "CTCAAAAAC 0.33 0.33                 ===|===                 \n",
      "TCAAAAACT 0.33 0.33                 ===|===                 \n",
      "CAAAAACTG 0.33 0.56                 ===|=====               \n",
      "AAAAACTGA 0.33 0.56                 ===|=====               \n",
      "AAAACTGAA 0.44 0.56                ====|=====               \n",
      "AAACTGAAC 0.44 0.56                ====|=====               \n",
      "AACTGAACA 0.44 0.44                ====|====                \n",
      "ACTGAACAA 0.56 0.33               =====|===                 \n",
      "CTGAACAAC 0.56 0.33               =====|===                 \n",
      "TGAACAACA 0.56 0.33               =====|===                 \n",
      "GAACAACAG 0.44 0.44                ====|====                \n",
      "AACAACAGT 0.33 0.56                 ===|=====               \n",
      "ACAACAGTT 0.33 0.67                 ===|======              \n",
      "CAACAGTTG 0.22 0.67                  ==|======              \n",
      "AACAGTTGT 0.33 0.78                 ===|=======             \n",
      "ACAGTTGTT 0.44 0.67                ====|======              \n",
      "CAGTTGTTC 0.44 0.56                ====|=====               \n",
      "AGTTGTTCT 0.44 0.56                ====|=====               \n",
      "GTTGTTCTT 0.44 0.44                ====|====                \n",
      "TTGTTCTTT 0.44 0.44                ====|====                \n",
      "TGTTCTTTG 0.44 0.33                ====|===                 \n",
      "GTTCTTTGG 0.44 0.33                ====|===                 \n",
      "TTCTTTGGA 0.56 0.33               =====|===                 \n",
      "TCTTTGGAT 0.67 0.22              ======|==                  \n",
      "CTTTGGATA 0.78 0.33             =======|===                 \n",
      "TTTGGATAA 0.89 0.33            ========|===                 \n",
      "TTGGATAAC 0.89 0.33            ========|===                 \n",
      "TGGATAACT 0.78 0.44             =======|====                \n",
      "GGATAACTA 0.67 0.44              ======|====                \n",
      "GATAACTAC 0.56 0.44               =====|====                \n",
      "ATAACTACC 0.44 0.44                ====|====                \n",
      "TAACTACCG 0.33 0.56                 ===|=====               \n",
      "AACTACCGG 0.22 0.67                  ==|======              \n",
      "ACTACCGGT 0.33 0.67                 ===|======              \n",
      "CTACCGGTT 0.22 0.67                  ==|======              \n",
      "TACCGGTTG 0.22 0.67                  ==|======              \n",
      "ACCGGTTGA 0.44 0.56                ====|=====               \n",
      "CCGGTTGAT 0.56 0.56               =====|=====               \n",
      "CGGTTGATC 0.56 0.56               =====|=====               \n",
      "GGTTGATCC 0.56 0.56               =====|=====               \n",
      "GTTGATCCA 0.67 0.33              ======|===                 \n",
      "TTGATCCAA 0.78 0.22             =======|==                  \n",
      "TGATCCAAG 0.67 0.33              ======|===                 \n",
      "GATCCAAGC 0.56 0.33               =====|===                 \n",
      "ATCCAAGCT 0.44 0.33                ====|===                 \n",
      "TCCAAGCTT 0.33 0.44                 ===|====                \n",
      "CCAAGCTTC 0.22 0.44                  ==|====                \n",
      "CAAGCTTCC 0.22 0.44                  ==|====                \n",
      "AAGCTTCCT 0.22 0.56                  ==|=====               \n",
      "AGCTTCCTG 0.33 0.44                 ===|====                \n"
     ]
    }
   ],
   "source": []
  },
  {
   "cell_type": "code",
   "execution_count": null,
   "id": "d9dd90f7",
   "metadata": {},
   "outputs": [],
   "source": []
  },
  {
   "cell_type": "code",
   "execution_count": 55,
   "id": "2ebbbb8f",
   "metadata": {},
   "outputs": [
    {
     "name": "stdout",
     "output_type": "stream",
     "text": [
      "  168399 ACACCTATT 1.00 0.33\n",
      "  984231 TTATCCACA 0.33 1.00\n",
      " 1478111 TTATCCACA 0.33 1.00\n",
      " 1526905 TTATCCACA 0.33 1.00\n",
      " 1544606 TTATCCACA 0.33 1.00\n",
      " 2144379 ACACCTATT 1.00 0.33\n",
      " 2303999 TTATCCACA 0.33 1.00\n",
      " 2331358 TTATCCACA 0.33 1.00\n",
      " 2344702 TTATCCACA 0.33 1.00\n",
      " 2969345 TTATCCACA 0.33 1.00\n",
      " 2995467 TTATCCACA 0.33 1.00\n",
      " 3105552 TTATCCACA 0.33 1.00\n",
      " 3181556 TTATCCACA 0.33 1.00\n",
      " 3204644 TTATCCACA 0.33 1.00\n",
      " 3333932 TTATCCACA 0.33 1.00\n",
      " 3600889 TTATCCACA 0.33 1.00\n",
      " 3648423 ACACCTATT 1.00 0.33\n",
      " 3664727 TTATCCACA 0.33 1.00\n",
      " 3883938 TTATCCACA 0.33 1.00\n",
      " 3925980 TTATCCACA 0.33 1.00\n",
      " 4046833 TTATCCACA 0.33 1.00\n",
      " 4313474 TTATCCACA 0.33 1.00\n",
      " 4392743 TTATCCACA 0.33 1.00\n",
      " 4462686 TTATCCACA 0.33 1.00\n",
      " 4462763 TTATCCACA 0.33 1.00\n",
      "  316722 AATAGGTGT 0.33 1.00\n",
      "  577510 AATAGGTGT 0.33 1.00\n",
      "  736273 AATAGGTGT 0.33 1.00\n",
      "  813120 TGTGGATAA 1.00 0.33\n",
      " 1316696 AATAGGTGT 0.33 1.00\n",
      " 1424343 TGTGGATAA 1.00 0.33\n",
      " 1486407 TGTGGATAA 1.00 0.33\n",
      " 2410809 AATAGGTGT 0.33 1.00\n",
      " 2633856 TGTGGATAA 1.00 0.33\n",
      " 2969464 TGTGGATAA 1.00 0.33\n",
      " 2999417 AATAGGTGT 0.33 1.00\n",
      " 3925800 TGTGGATAA 1.00 0.33\n",
      " 3968657 TGTGGATAA 1.00 0.33\n",
      " 4138317 AATAGGTGT 0.33 1.00\n",
      " 4174391 TGTGGATAA 1.00 0.33\n",
      " 4207741 TGTGGATAA 1.00 0.33\n",
      " 4322789 TGTGGATAA 1.00 0.33\n",
      " 4373687 AATAGGTGT 0.33 1.00\n",
      "CPU times: user 12min 18s, sys: 5.88 s, total: 12min 24s\n",
      "Wall time: 13min 2s\n"
     ]
    }
   ],
   "source": [
    "%%time\n",
    "import difflib\n",
    "gen = seq0.seq\n",
    "l = []\n",
    "for box in (\"TTATCCACA\", Seq(\"TTATCCACA\").complement()):\n",
    "    for i in range(len(gen)-9):\n",
    "        frg = Seq(gen[i:i+9])\n",
    "        rtp = difflib.SequenceMatcher(None, box, frg).ratio()\n",
    "        rtm = difflib.SequenceMatcher(None, box, frg[::-1]).ratio()\n",
    "        if max(rtp,rtm) >= 1.:\n",
    "            print(\"{:>8d}\".format(i), frg, \"{:.2f} {:.2f}\".format(rtm,rtp))\n",
    "            l.append(i)"
   ]
  },
  {
   "cell_type": "code",
   "execution_count": 54,
   "id": "e3253a2a",
   "metadata": {},
   "outputs": [
    {
     "data": {
      "text/plain": [
       "[]"
      ]
     },
     "execution_count": 54,
     "metadata": {},
     "output_type": "execute_result"
    }
   ],
   "source": [
    "l"
   ]
  },
  {
   "cell_type": "code",
   "execution_count": null,
   "id": "30188249",
   "metadata": {},
   "outputs": [],
   "source": [
    "l.append"
   ]
  },
  {
   "cell_type": "code",
   "execution_count": null,
   "id": "a6cbb280",
   "metadata": {},
   "outputs": [],
   "source": []
  },
  {
   "cell_type": "markdown",
   "id": "20cc5f40",
   "metadata": {},
   "source": [
    "## 5箇所?"
   ]
  },
  {
   "cell_type": "code",
   "execution_count": 9,
   "id": "5a8e5715",
   "metadata": {},
   "outputs": [],
   "source": [
    "import difflib"
   ]
  },
  {
   "cell_type": "code",
   "execution_count": 10,
   "id": "e56bd1ea",
   "metadata": {
    "scrolled": true
   },
   "outputs": [
    {
     "name": "stdout",
     "output_type": "stream",
     "text": [
      "0.3333333333333333\n",
      "0.3333333333333333\n",
      "0.8888888888888888\n",
      "0.35294117647058826\n",
      "0.9411764705882353\n"
     ]
    }
   ],
   "source": [
    "for seq in ['AATAGGTGT', 'AGTAAGTGT', 'TTATACACA', 'AATAGTTT', 'TTATCCAC']:\n",
    "    print(difflib.SequenceMatcher(None, \"TTATCCACA\", seq).ratio())"
   ]
  },
  {
   "cell_type": "code",
   "execution_count": 11,
   "id": "d61462f8",
   "metadata": {},
   "outputs": [
    {
     "name": "stdout",
     "output_type": "stream",
     "text": [
      "0.6666666666666666\n",
      "0.5555555555555556\n",
      "0.5555555555555556\n",
      "0.7058823529411765\n",
      "0.47058823529411764\n"
     ]
    }
   ],
   "source": [
    "for seq in ['AATAGGTGT', 'AGTAAGTGT', 'TTATACACA', 'AATAGTTT', 'TTATCCAC']:\n",
    "    print(difflib.SequenceMatcher(None, \"TTATCCACA\"[::-1], seq).ratio())"
   ]
  },
  {
   "cell_type": "code",
   "execution_count": 12,
   "id": "3ab12e8b",
   "metadata": {},
   "outputs": [
    {
     "name": "stdout",
     "output_type": "stream",
     "text": [
      "1.0\n",
      "0.6666666666666666\n",
      "0.3333333333333333\n",
      "0.8235294117647058\n",
      "0.35294117647058826\n"
     ]
    }
   ],
   "source": [
    "for seq in ['AATAGGTGT', 'AGTAAGTGT', 'TTATACACA', 'AATAGTTT', 'TTATCCAC']:\n",
    "    print(difflib.SequenceMatcher(None, Seq(\"TTATCCACA\").complement(), seq).ratio())"
   ]
  },
  {
   "cell_type": "code",
   "execution_count": 13,
   "id": "4ea2d78d",
   "metadata": {},
   "outputs": [
    {
     "name": "stdout",
     "output_type": "stream",
     "text": [
      "0.3333333333333333\n",
      "0.3333333333333333\n",
      "0.6666666666666666\n",
      "0.35294117647058826\n",
      "0.5882352941176471\n"
     ]
    }
   ],
   "source": [
    "for seq in ['AATAGGTGT', 'AGTAAGTGT', 'TTATACACA', 'AATAGTTT', 'TTATCCAC']:\n",
    "    print(difflib.SequenceMatcher(None, Seq(\"TTATCCACA\"[::-1]).complement(), seq).ratio())"
   ]
  },
  {
   "cell_type": "code",
   "execution_count": null,
   "id": "ebb242c1",
   "metadata": {},
   "outputs": [],
   "source": []
  },
  {
   "cell_type": "code",
   "execution_count": null,
   "id": "f2ab8e38",
   "metadata": {},
   "outputs": [],
   "source": []
  },
  {
   "cell_type": "code",
   "execution_count": null,
   "id": "11ec20e2",
   "metadata": {},
   "outputs": [],
   "source": []
  },
  {
   "cell_type": "code",
   "execution_count": null,
   "id": "ce2d316d",
   "metadata": {},
   "outputs": [],
   "source": []
  },
  {
   "cell_type": "code",
   "execution_count": null,
   "id": "69a1b7ec",
   "metadata": {},
   "outputs": [],
   "source": []
  }
 ],
 "metadata": {
  "kernelspec": {
   "display_name": "Python 3 (ipykernel)",
   "language": "python",
   "name": "python3"
  },
  "language_info": {
   "codemirror_mode": {
    "name": "ipython",
    "version": 3
   },
   "file_extension": ".py",
   "mimetype": "text/x-python",
   "name": "python",
   "nbconvert_exporter": "python",
   "pygments_lexer": "ipython3",
   "version": "3.9.12"
  },
  "toc": {
   "base_numbering": 1,
   "nav_menu": {},
   "number_sections": true,
   "sideBar": true,
   "skip_h1_title": false,
   "title_cell": "Table of Contents",
   "title_sidebar": "Contents",
   "toc_cell": false,
   "toc_position": {},
   "toc_section_display": true,
   "toc_window_display": false
  }
 },
 "nbformat": 4,
 "nbformat_minor": 5
}
