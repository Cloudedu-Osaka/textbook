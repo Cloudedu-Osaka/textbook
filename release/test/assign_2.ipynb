{
 "cells": [
  {
   "cell_type": "code",
   "execution_count": null,
   "id": "daea8a6d",
   "metadata": {},
   "outputs": [],
   "source": [
    "def print_inverse(n, base=10):\n",
    "    remainder   = 1\n",
    "    denominator = n\n",
    "    for _ in range(10):\n",
    "        numerator = remainder * base\n",
    "        quotient, remainder = divmod(numerator, denominator)\n",
    "        print(quotient, end=\", \")\n",
    "    print()"
   ]
  },
  {
   "cell_type": "code",
   "execution_count": null,
   "id": "e054191e",
   "metadata": {},
   "outputs": [],
   "source": [
    "print_inverse(7)"
   ]
  },
  {
   "cell_type": "code",
   "execution_count": null,
   "id": "2c61b8d9",
   "metadata": {},
   "outputs": [],
   "source": [
    "type(print_inverse(7))"
   ]
  },
  {
   "cell_type": "markdown",
   "id": "c5217048",
   "metadata": {},
   "source": [
    "課題-2) 課題-1で定義した `print_inverse()` は、組み込みの `print()` 関数を遣って画面出力をしており、関数の戻り値を返していない。次の例を参考にして、数列 (`int`値を要素とする`list`) を戻り値とするように改変せよ。\n",
    "\n",
    "```\n",
    "def test():\n",
    "    l = []\n",
    "    for i in range(10):\n",
    "        l.append(i)\n",
    "    return l\n",
    "```"
   ]
  },
  {
   "cell_type": "code",
   "execution_count": null,
   "id": "975afa90",
   "metadata": {},
   "outputs": [],
   "source": [
    "def test():\n",
    "    l = []\n",
    "    for i in range(10):\n",
    "        l.append(i)\n",
    "    return l\n",
    "\n",
    "test()"
   ]
  },
  {
   "cell_type": "code",
   "execution_count": null,
   "id": "2e5909c8",
   "metadata": {
    "deletable": false,
    "nbgrader": {
     "cell_type": "code",
     "checksum": "2f8789bb91f306bef8fcf5430b773c38",
     "grade": true,
     "grade_id": "cell-9a90b3445b15156e",
     "locked": false,
     "points": 1,
     "schema_version": 3,
     "solution": true,
     "task": false
    }
   },
   "outputs": [],
   "source": [
    "def inverse(n, base=10):\n",
    "    # YOUR CODE HERE\n",
    "    raise NotImplementedError()"
   ]
  },
  {
   "cell_type": "code",
   "execution_count": null,
   "id": "203a443d",
   "metadata": {
    "hide_input": false
   },
   "outputs": [],
   "source": [
    "type(inverse(4))"
   ]
  },
  {
   "cell_type": "code",
   "execution_count": null,
   "id": "da4c00ed",
   "metadata": {},
   "outputs": [],
   "source": [
    "inverse(4)"
   ]
  },
  {
   "cell_type": "code",
   "execution_count": null,
   "id": "9c25e492",
   "metadata": {},
   "outputs": [],
   "source": [
    "inverse(7)"
   ]
  },
  {
   "cell_type": "code",
   "execution_count": null,
   "id": "36077002",
   "metadata": {},
   "outputs": [],
   "source": []
  },
  {
   "cell_type": "markdown",
   "id": "8dd87e7f",
   "metadata": {},
   "source": [
    "---\n",
    "以下、採点用のセルにつき編集しないようにして下さい:"
   ]
  },
  {
   "cell_type": "code",
   "execution_count": null,
   "id": "36115b7f",
   "metadata": {
    "deletable": false,
    "editable": false,
    "nbgrader": {
     "cell_type": "code",
     "checksum": "d4071c7da65ef15e096b1ddb3771f700",
     "grade": false,
     "grade_id": "cell-9954545377a64ed3",
     "locked": true,
     "schema_version": 3,
     "solution": false,
     "task": false
    }
   },
   "outputs": [],
   "source": [
    "from nose.tools import assert_equal, assert_true"
   ]
  },
  {
   "cell_type": "code",
   "execution_count": null,
   "id": "86a6b03c",
   "metadata": {
    "deletable": false,
    "editable": false,
    "nbgrader": {
     "cell_type": "code",
     "checksum": "b35f5a1a53dff4fc64095a735de4f324",
     "grade": true,
     "grade_id": "cell-b698c617121292c0",
     "locked": true,
     "points": 1,
     "schema_version": 3,
     "solution": false,
     "task": false
    }
   },
   "outputs": [],
   "source": [
    "assert_true(isinstance(inverse(4), list))"
   ]
  },
  {
   "cell_type": "code",
   "execution_count": null,
   "id": "5ae58153",
   "metadata": {
    "deletable": false,
    "editable": false,
    "nbgrader": {
     "cell_type": "code",
     "checksum": "04b85b293b9446e137c604a9b4b83fd6",
     "grade": true,
     "grade_id": "cell-19f3ab02a131a394",
     "locked": true,
     "points": 1,
     "schema_version": 3,
     "solution": false,
     "task": false
    }
   },
   "outputs": [],
   "source": [
    "assert_equal(\n",
    "    list(inverse(4)),\n",
    "    [2, 5, 0, 0, 0, 0, 0, 0, 0, 0])"
   ]
  },
  {
   "cell_type": "code",
   "execution_count": null,
   "id": "aef2a721",
   "metadata": {
    "deletable": false,
    "editable": false,
    "nbgrader": {
     "cell_type": "code",
     "checksum": "4a0e91d071c2734e76ce64d8a86bd952",
     "grade": true,
     "grade_id": "cell-9cda36647da9df56",
     "locked": true,
     "points": 1,
     "schema_version": 3,
     "solution": false,
     "task": false
    }
   },
   "outputs": [],
   "source": [
    "assert_equal(\n",
    "    list(inverse(7)), \n",
    "    [1, 4, 2, 8, 5, 7, 1, 4, 2, 8])"
   ]
  },
  {
   "cell_type": "code",
   "execution_count": null,
   "id": "e9e94adf",
   "metadata": {
    "deletable": false,
    "editable": false,
    "nbgrader": {
     "cell_type": "code",
     "checksum": "a0a8323a9f677da1bf05f47d3a128efc",
     "grade": true,
     "grade_id": "cell-3e385a01c8ce864f",
     "locked": true,
     "points": 1,
     "schema_version": 3,
     "solution": false,
     "task": false
    }
   },
   "outputs": [],
   "source": [
    "assert_equal(\n",
    "    list(inverse(3,60)),\n",
    "    [20, 0, 0, 0, 0, 0, 0, 0, 0, 0])"
   ]
  }
 ],
 "metadata": {
  "kernelspec": {
   "display_name": "Python 3 (ipykernel)",
   "language": "python",
   "name": "python3"
  },
  "language_info": {
   "codemirror_mode": {
    "name": "ipython",
    "version": 3
   },
   "file_extension": ".py",
   "mimetype": "text/x-python",
   "name": "python",
   "nbconvert_exporter": "python",
   "pygments_lexer": "ipython3",
   "version": "3.9.12"
  },
  "toc": {
   "base_numbering": 1,
   "nav_menu": {},
   "number_sections": true,
   "sideBar": true,
   "skip_h1_title": false,
   "title_cell": "Table of Contents",
   "title_sidebar": "Contents",
   "toc_cell": false,
   "toc_position": {},
   "toc_section_display": true,
   "toc_window_display": false
  }
 },
 "nbformat": 4,
 "nbformat_minor": 5
}
