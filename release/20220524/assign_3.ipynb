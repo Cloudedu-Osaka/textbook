{
 "cells": [
  {
   "cell_type": "code",
   "execution_count": null,
   "id": "47dc649a",
   "metadata": {
    "hide_input": true,
    "init_cell": true,
    "tags": [
     "remove-input"
    ]
   },
   "outputs": [],
   "source": [
    "# initialization for my classroom\n",
    "import os\n",
    "from datetime import datetime as dt\n",
    "\n",
    "def logfile(user=os.environ.get('JUPYTERHUB_USER') or 'jovyan'):\n",
    "    prefix='/srv'\n",
    "    if os.path.isdir(prefix) and os.access(prefix, os.W_OK):\n",
    "        prefix+=('/'+user)\n",
    "        if not os.path.isdir(prefix):\n",
    "            os.makedirs(prefix)\n",
    "    else:\n",
    "        prefix='.'\n",
    "    return prefix+'/'+dt.now().strftime('%Y%m%d')+'.log'\n",
    "\n",
    "path=logfile()\n",
    "#%logstop\n",
    "%logstart -otq $path append\n",
    "\n",
    "# [python - cannot override sys.excepthook - Stack Overflow](https://stackoverflow.com/questions/1261668/cannot-override-sys-excepthook/28758396)\n",
    "# https://github.com/ipython/ipython/blob/e6432249582e05f438303ce73d082a0351bb383e/IPython/core/interactiveshell.py#L1952\n",
    "\n",
    "import sys\n",
    "import traceback\n",
    "import IPython\n",
    "\n",
    "try:\n",
    "    _showtraceback\n",
    "except NameError:\n",
    "    _showtraceback=IPython.core.interactiveshell.InteractiveShell.showtraceback\n",
    "\n",
    "try:\n",
    "    _showsyntaxerror\n",
    "except NameError:\n",
    "    _showsyntaxerror=IPython.core.interactiveshell.InteractiveShell.showsyntaxerror\n",
    "\n",
    "import logging\n",
    "logging.basicConfig(filename=path.replace('.log','-exc.log'), format='%(asctime)s %(message)s', level=logging.ERROR, force=True)\n",
    "\n",
    "import sys\n",
    "import traceback\n",
    "import IPython\n",
    "\n",
    "def showtraceback(self, *args, **kwargs):\n",
    "    etype, value, tb = self._get_exc_info(kwargs.get('exc_tuple'))\n",
    "    stb = self.InteractiveTB.structured_traceback(\n",
    "        etype, value, tb, tb_offset=kwargs.get('tb_offset'))\n",
    "    logging.error(os.environ.get('JUPYTERHUB_USER') or 'jovyan')\n",
    "    logging.error(self.InteractiveTB.stb2text(stb))\n",
    "    _showtraceback(self, *args, **kwargs)\n",
    "\n",
    "def showsyntaxerror(self, *args, **kwargs):\n",
    "    etype, value, last_traceback = self._get_exc_info()\n",
    "    elist = traceback.extract_tb(last_traceback) if kwargs.get('running_compiled_code') else []\n",
    "    stb = self.SyntaxTB.structured_traceback(etype, value, elist)\n",
    "    logging.error(os.environ.get('JUPYTERHUB_USER') or 'jovyan')\n",
    "    logging.error(self.InteractiveTB.stb2text(stb))\n",
    "    _showsyntaxerror(self, *args, **kwargs)\n",
    "\n",
    "IPython.core.interactiveshell.InteractiveShell.showtraceback = showtraceback\n",
    "IPython.core.interactiveshell.InteractiveShell.showsyntaxerror = showsyntaxerror"
   ]
  },
  {
   "cell_type": "markdown",
   "id": "74823c1c",
   "metadata": {},
   "source": [
    "# 課題-3) Plimpton 322 に記載された数表を補完する"
   ]
  },
  {
   "cell_type": "code",
   "execution_count": null,
   "id": "b9050a52",
   "metadata": {
    "deletable": false,
    "editable": false,
    "nbgrader": {
     "cell_type": "code",
     "checksum": "81d6497fc86e9669c45b971fd97f30d5",
     "grade": false,
     "grade_id": "cell-66b28bfa7fc91a88",
     "locked": true,
     "schema_version": 3,
     "solution": false,
     "task": false
    }
   },
   "outputs": [],
   "source": [
    "import math\n",
    "import itertools"
   ]
  },
  {
   "cell_type": "code",
   "execution_count": null,
   "id": "fd9e1420",
   "metadata": {
    "deletable": false,
    "editable": false,
    "nbgrader": {
     "cell_type": "code",
     "checksum": "f56c7aed5c9e68027e57e743f7b53d0a",
     "grade": false,
     "grade_id": "cell-2ba5e5e7553d9f7b",
     "locked": true,
     "schema_version": 3,
     "solution": false,
     "task": false
    }
   },
   "outputs": [],
   "source": [
    "def generate_p(i_max=2, j_max=2, k_max=2):\n",
    "    l = []\n",
    "    for i in range(i_max):\n",
    "        for j in range(j_max):\n",
    "            for k in range(k_max):\n",
    "                l.append(2**i * 3**j * 5**k)\n",
    "    return sorted(l)\n",
    "\n",
    "generate_p()"
   ]
  },
  {
   "cell_type": "code",
   "execution_count": null,
   "id": "171e2f6c",
   "metadata": {
    "deletable": false,
    "editable": false,
    "nbgrader": {
     "cell_type": "code",
     "checksum": "2d8b0b20445b3a34decdbb4cf5bea4cb",
     "grade": false,
     "grade_id": "cell-a9b722764d00e9fe",
     "locked": true,
     "schema_version": 3,
     "solution": false,
     "task": false
    }
   },
   "outputs": [],
   "source": [
    "def plimpton322(i_max=2, j_max=2, k_max=2):\n",
    "    pq = []\n",
    "    for p, q in itertools.product(generate_p(i_max,j_max,k_max), repeat=2):\n",
    "        if p > q and math.gcd(p,q) ==1:\n",
    "            if p/q >= 9/5 and p/q <= 12/5:\n",
    "                pq.append((p,q))\n",
    "\n",
    "    return sorted(pq, reverse=True, key=lambda x: x[0]/x[1])"
   ]
  },
  {
   "cell_type": "code",
   "execution_count": null,
   "id": "df71c963",
   "metadata": {
    "deletable": false,
    "editable": false,
    "nbgrader": {
     "cell_type": "code",
     "checksum": "bef28af5ca432ac5f593ecf99be4cd10",
     "grade": false,
     "grade_id": "cell-49bfba61f5c156e7",
     "locked": true,
     "schema_version": 3,
     "solution": false,
     "task": false
    }
   },
   "outputs": [],
   "source": [
    "plimpton322()"
   ]
  },
  {
   "cell_type": "code",
   "execution_count": null,
   "id": "b1aa6ac0",
   "metadata": {
    "deletable": false,
    "editable": false,
    "nbgrader": {
     "cell_type": "code",
     "checksum": "55c280ff7d0daa11ac587b3153783082",
     "grade": false,
     "grade_id": "cell-c7d650211906a802",
     "locked": true,
     "schema_version": 3,
     "solution": false,
     "task": false
    }
   },
   "outputs": [],
   "source": [
    "plimpton322(4,3,2)"
   ]
  },
  {
   "cell_type": "code",
   "execution_count": null,
   "id": "a83bf86b",
   "metadata": {},
   "outputs": [],
   "source": []
  },
  {
   "cell_type": "code",
   "execution_count": null,
   "id": "75d85555",
   "metadata": {},
   "outputs": [],
   "source": []
  },
  {
   "cell_type": "code",
   "execution_count": null,
   "id": "4d1a487c",
   "metadata": {},
   "outputs": [],
   "source": []
  },
  {
   "cell_type": "code",
   "execution_count": null,
   "id": "5bddac83",
   "metadata": {
    "deletable": false,
    "editable": false,
    "nbgrader": {
     "cell_type": "code",
     "checksum": "81a2298d674f9ba79a88c61553b63fb1",
     "grade": false,
     "grade_id": "cell-b7e8e658bc4e001e",
     "locked": true,
     "schema_version": 3,
     "solution": false,
     "task": false
    }
   },
   "outputs": [],
   "source": [
    "import numpy as np\n",
    "import pandas as pd\n",
    "\n",
    "l = []\n",
    "for p, q in plimpton322(4,3,2):\n",
    "    a = 2 * p * q\n",
    "    b = p**2 - q**2\n",
    "    d = p**2 + q**2\n",
    "    l.append(((d/a)**2, b, d))\n",
    "l"
   ]
  },
  {
   "cell_type": "code",
   "execution_count": null,
   "id": "e9cce07e",
   "metadata": {
    "deletable": false,
    "editable": false,
    "nbgrader": {
     "cell_type": "code",
     "checksum": "6eb526b441a463a4268a19d3e54d3cd5",
     "grade": false,
     "grade_id": "cell-ab2975018b61d072",
     "locked": true,
     "schema_version": 3,
     "solution": false,
     "task": false
    }
   },
   "outputs": [],
   "source": [
    "df = pd.DataFrame(l, columns=['(d/a)**2', 'b', 'd'])\n",
    "df"
   ]
  },
  {
   "cell_type": "code",
   "execution_count": null,
   "id": "9febaed4",
   "metadata": {
    "deletable": false,
    "editable": false,
    "hide_input": false,
    "nbgrader": {
     "cell_type": "code",
     "checksum": "59b1d300633bdb5dc8aee4486929b68e",
     "grade": false,
     "grade_id": "cell-389a24bfa3cd0e76",
     "locked": true,
     "schema_version": 3,
     "solution": false,
     "task": false
    }
   },
   "outputs": [],
   "source": [
    "import pandas as pd\n",
    "import requests\n",
    "\n",
    "res = requests.get(\"https://en.wikipedia.org/wiki/Plimpton_322\").text\n",
    "\n",
    "df2=pd.read_html(res)[1]\n",
    "df2"
   ]
  },
  {
   "cell_type": "code",
   "execution_count": null,
   "id": "6b5d0788",
   "metadata": {},
   "outputs": [],
   "source": []
  },
  {
   "cell_type": "code",
   "execution_count": null,
   "id": "2b7aeb4b",
   "metadata": {},
   "outputs": [],
   "source": []
  },
  {
   "cell_type": "code",
   "execution_count": null,
   "id": "f54d1e10",
   "metadata": {},
   "outputs": [],
   "source": []
  },
  {
   "cell_type": "markdown",
   "id": "057980ba",
   "metadata": {
    "deletable": false,
    "editable": false,
    "nbgrader": {
     "cell_type": "markdown",
     "checksum": "a59c9b2ce8e7053bc80c007797dfbba3",
     "grade": false,
     "grade_id": "cell-b2c44f423f7eb303",
     "locked": true,
     "schema_version": 3,
     "solution": false,
     "task": false
    }
   },
   "source": [
    "## YBC 6967 に基づく解釈\n",
    "\n",
    "$c$を定数とする二次方程式\n",
    "\n",
    "$$\n",
    "x - \\frac{1}{x} = c\n",
    "$$\n",
    "\n",
    "について、\n",
    "$v_{1} = \\frac{c}{2}$、\n",
    "$v_{3} = 1 + {v_{1}}^2 = 1 + (\\frac{c}{2})^2$、\n",
    "$v_{4} = \\sqrt{v_{3}} = \\sqrt{1 + (\\frac{c}{2})^2}$ と置くと、次の連立方程式が成り立つ:\n",
    "\n",
    "$$\n",
    "  \\begin{align}\n",
    "    x &= v_{4} + v_{1} \\\\\n",
    "    \\frac{1}{x} &= v_{4} - v_{1}\n",
    "  \\end{align}\n",
    "$$"
   ]
  },
  {
   "cell_type": "markdown",
   "id": "32e452bd",
   "metadata": {
    "deletable": false,
    "editable": false,
    "nbgrader": {
     "cell_type": "markdown",
     "checksum": "899a29f45a57ac9d7cce1df73620f886",
     "grade": false,
     "grade_id": "cell-bee60f2891ea619b",
     "locked": true,
     "schema_version": 3,
     "solution": false,
     "task": false
    }
   },
   "source": [
    "補足) これまで出てきた関係式をすべて一覧表に追加 \n",
    "\n",
    "|#1 |#2 |#3 |\n",
    "|:-:|:-:|:-:|\n",
    "|$$\\left(\\frac{d}{a}\\right)^2$$|$$b$$      |$$d$$      |\n",
    "|$$\\frac{1}{4}\\left(\\frac{p}{q}+\\frac{q}{p}\\right)^2$$|$$p^2-q^2$$|$$p^2+q^2$$|\n",
    "|$$1+{v_{1}}^2 = {v_{4}}^2$$|$$a\\cdot v_{1}$$|$$a\\cdot v_{4}$$|\n",
    "|$$1+\\left(\\frac{c}{2}\\right)^2$$|$$\\frac{a}{2}\\left(x-\\frac{1}{x}\\right)$$|$$\\frac{a}{2}\\left(x+\\frac{1}{x}\\right)$$|"
   ]
  },
  {
   "cell_type": "markdown",
   "id": "627497e5",
   "metadata": {
    "deletable": false,
    "editable": false,
    "nbgrader": {
     "cell_type": "markdown",
     "checksum": "863f4863aaca550e5c53e80db36ec67d",
     "grade": false,
     "grade_id": "cell-153b85e0146d30cf",
     "locked": true,
     "schema_version": 3,
     "solution": false,
     "task": false
    }
   },
   "source": [
    "補足2) Plimpton 322の左側の欠落を想像してみる\n",
    "\n",
    "|.  |.  |.  |.  |\n",
    "|:-:|:-:|:-:|:-:|\n",
    "|$$\\frac{d+b}{a}$$|$$\\frac{d-b}{a}$$|$$2 \\frac{b}{a}$$|$$a$$|\n",
    "|$$\\frac{p}{q}$$|$$\\frac{q}{p}$$|$$\\frac{p}{q}-\\frac{q}{p}$$|$$2qp$$|\n",
    "|$$v_{4}+v_{1}$$|$$v_{4}-v_{1}$$|$$2\\cdot v_{1}$$|$$a$$|\n",
    "|$$x$$|$$\\frac{1}{x}$$|$$c=x-\\frac{1}{x}$$|$$a$$|"
   ]
  },
  {
   "cell_type": "code",
   "execution_count": null,
   "id": "a164e04a",
   "metadata": {
    "deletable": false,
    "editable": false,
    "nbgrader": {
     "cell_type": "code",
     "checksum": "20ce0054f9af68ce3fd554b00ac1d460",
     "grade": false,
     "grade_id": "cell-0999b9f4d560186e",
     "locked": true,
     "schema_version": 3,
     "solution": false,
     "task": false
    }
   },
   "outputs": [],
   "source": [
    "import numpy as np\n",
    "import pandas as pd\n",
    "from fractions import Fraction\n",
    "l = []\n",
    "for p, q in plimpton322(4,3,2):\n",
    "    a = 2 * p * q\n",
    "    b = p**2 - q**2\n",
    "    d = p**2 + q**2\n",
    "    l.append((Fraction(b+d,a), Fraction(d-b,a), Fraction(2*b,a), a, b, d))\n",
    "l"
   ]
  },
  {
   "cell_type": "code",
   "execution_count": null,
   "id": "0a63ffb7",
   "metadata": {
    "deletable": false,
    "editable": false,
    "nbgrader": {
     "cell_type": "code",
     "checksum": "0c2dbd0c7c031d1c67e826af9b9befb2",
     "grade": false,
     "grade_id": "cell-82997e680984fad1",
     "locked": true,
     "schema_version": 3,
     "solution": false,
     "task": false
    }
   },
   "outputs": [],
   "source": [
    "df = pd.DataFrame(l, columns=['x', '1/x', 'c', 'a', 'b', 'd'])\n",
    "df"
   ]
  },
  {
   "cell_type": "code",
   "execution_count": null,
   "id": "75916e53",
   "metadata": {},
   "outputs": [],
   "source": [
    "import numpy as np\n",
    "import pandas as pd\n",
    "from fractions import Fraction\n",
    "l = []\n",
    "for p, q in plimpton322(7,6,4):\n",
    "    a = 2 * p * q\n",
    "    b = p**2 - q**2\n",
    "    d = p**2 + q**2\n",
    "    l.append((Fraction(b+d,a), Fraction(d-b,a), Fraction(2*b,a), a, b, d))\n",
    "l;"
   ]
  },
  {
   "cell_type": "code",
   "execution_count": null,
   "id": "6408468d",
   "metadata": {},
   "outputs": [],
   "source": [
    "df = pd.DataFrame(l, columns=['x', '1/x', 'c', 'a', 'b', 'd'])\n",
    "df"
   ]
  },
  {
   "cell_type": "code",
   "execution_count": null,
   "id": "5310eca5",
   "metadata": {},
   "outputs": [],
   "source": []
  },
  {
   "cell_type": "code",
   "execution_count": null,
   "id": "6123d06a",
   "metadata": {},
   "outputs": [],
   "source": []
  },
  {
   "cell_type": "code",
   "execution_count": null,
   "id": "d4c4db0d",
   "metadata": {},
   "outputs": [],
   "source": []
  },
  {
   "cell_type": "markdown",
   "id": "f0a33088",
   "metadata": {
    "deletable": false,
    "editable": false,
    "nbgrader": {
     "cell_type": "markdown",
     "checksum": "b0eb5ffaac5e913ca7989e3de3225242",
     "grade": false,
     "grade_id": "cell-e61778e91e4ca1c8",
     "locked": true,
     "schema_version": 3,
     "solution": false,
     "task": false
    }
   },
   "source": [
    "---\n",
    "以下、採点用のセルにつき編集できない:"
   ]
  },
  {
   "cell_type": "code",
   "execution_count": null,
   "id": "5c710261",
   "metadata": {
    "deletable": false,
    "editable": false,
    "nbgrader": {
     "cell_type": "code",
     "checksum": "f916d02c89a4fe9e3ba06d245569177c",
     "grade": false,
     "grade_id": "cell-802a8ae943ee2c54",
     "locked": true,
     "schema_version": 3,
     "solution": false,
     "task": false
    }
   },
   "outputs": [],
   "source": [
    "from nose.tools import assert_equal, assert_true"
   ]
  }
 ],
 "metadata": {
  "kernelspec": {
   "display_name": "Python 3 (ipykernel)",
   "language": "python",
   "name": "python3"
  },
  "language_info": {
   "codemirror_mode": {
    "name": "ipython",
    "version": 3
   },
   "file_extension": ".py",
   "mimetype": "text/x-python",
   "name": "python",
   "nbconvert_exporter": "python",
   "pygments_lexer": "ipython3",
   "version": "3.9.12"
  },
  "toc": {
   "base_numbering": 1,
   "nav_menu": {},
   "number_sections": true,
   "sideBar": true,
   "skip_h1_title": false,
   "title_cell": "Table of Contents",
   "title_sidebar": "Contents",
   "toc_cell": false,
   "toc_position": {},
   "toc_section_display": true,
   "toc_window_display": false
  }
 },
 "nbformat": 4,
 "nbformat_minor": 5
}
