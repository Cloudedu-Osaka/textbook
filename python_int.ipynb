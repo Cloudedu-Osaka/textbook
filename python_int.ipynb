{
 "cells": [
  {
   "cell_type": "markdown",
   "id": "02d565b6",
   "metadata": {},
   "source": [
    "# 何故Pythonを使うのか"
   ]
  },
  {
   "cell_type": "markdown",
   "id": "c1d84252",
   "metadata": {},
   "source": [
    "## 整数の大きさに制限がない"
   ]
  },
  {
   "cell_type": "code",
   "execution_count": 8,
   "id": "74ac8a18",
   "metadata": {},
   "outputs": [
    {
     "data": {
      "text/plain": [
       "(16,\n",
       " 256,\n",
       " 65536,\n",
       " 4294967296,\n",
       " 18446744073709551616,\n",
       " 340282366920938463463374607431768211456)"
      ]
     },
     "execution_count": 8,
     "metadata": {},
     "output_type": "execute_result"
    }
   ],
   "source": [
    "(2**4, 2**8, 2**16, 2**32, 2**64, 2**128)"
   ]
  },
  {
   "cell_type": "code",
   "execution_count": 9,
   "id": "b7451da1",
   "metadata": {},
   "outputs": [
    {
     "data": {
      "text/plain": [
       "(4, 8, 16, 32, 64, 128)"
      ]
     },
     "execution_count": 9,
     "metadata": {},
     "output_type": "execute_result"
    }
   ],
   "source": [
    "tuple(2**n for n in range(2,8))"
   ]
  },
  {
   "cell_type": "code",
   "execution_count": 10,
   "id": "15b08816",
   "metadata": {},
   "outputs": [
    {
     "data": {
      "text/plain": [
       "(16,\n",
       " 256,\n",
       " 65536,\n",
       " 4294967296,\n",
       " 18446744073709551616,\n",
       " 340282366920938463463374607431768211456)"
      ]
     },
     "execution_count": 10,
     "metadata": {},
     "output_type": "execute_result"
    }
   ],
   "source": [
    "tuple(2**(2**n) for n in range(2,8))"
   ]
  },
  {
   "cell_type": "code",
   "execution_count": 15,
   "id": "0aacd57a",
   "metadata": {},
   "outputs": [
    {
     "data": {
      "text/plain": [
       "(int, int, int, int, int, int)"
      ]
     },
     "execution_count": 15,
     "metadata": {},
     "output_type": "execute_result"
    }
   ],
   "source": [
    "tuple(type(x) for x in (2**(2**n) for n in range(2,8)))"
   ]
  },
  {
   "cell_type": "code",
   "execution_count": 18,
   "id": "e95763c5",
   "metadata": {},
   "outputs": [
    {
     "data": {
      "text/plain": [
       "(int, int, int, int, int, int)"
      ]
     },
     "execution_count": 18,
     "metadata": {},
     "output_type": "execute_result"
    }
   ],
   "source": [
    "tuple(map(type, (2**(2**n) for n in range(2,8))))"
   ]
  },
  {
   "cell_type": "code",
   "execution_count": 16,
   "id": "a70e2345",
   "metadata": {},
   "outputs": [
    {
     "data": {
      "text/plain": [
       "36893488147419103232"
      ]
     },
     "execution_count": 16,
     "metadata": {},
     "output_type": "execute_result"
    }
   ],
   "source": [
    "2**64 + 2**64"
   ]
  },
  {
   "cell_type": "markdown",
   "id": "d007bf40",
   "metadata": {},
   "source": [
    "## 整数の大きさに制限がある場合 (固定長)"
   ]
  },
  {
   "cell_type": "code",
   "execution_count": 21,
   "id": "7acd75db",
   "metadata": {},
   "outputs": [],
   "source": [
    "import numpy as np"
   ]
  },
  {
   "cell_type": "code",
   "execution_count": 19,
   "id": "b5bc8bcb",
   "metadata": {},
   "outputs": [
    {
     "data": {
      "text/plain": [
       "iinfo(min=-9223372036854775808, max=9223372036854775807, dtype=int64)"
      ]
     },
     "execution_count": 19,
     "metadata": {},
     "output_type": "execute_result"
    }
   ],
   "source": [
    "np.iinfo(np.int64(1))"
   ]
  },
  {
   "cell_type": "code",
   "execution_count": 15,
   "id": "e07f93cf",
   "metadata": {},
   "outputs": [
    {
     "data": {
      "text/plain": [
       "iinfo(min=0, max=18446744073709551615, dtype=uint64)"
      ]
     },
     "execution_count": 15,
     "metadata": {},
     "output_type": "execute_result"
    }
   ],
   "source": [
    "np.iinfo(np.uint(1))"
   ]
  },
  {
   "cell_type": "code",
   "execution_count": 38,
   "id": "d76ad6b8",
   "metadata": {},
   "outputs": [
    {
     "data": {
      "text/plain": [
       "18446744073709551615"
      ]
     },
     "execution_count": 38,
     "metadata": {},
     "output_type": "execute_result"
    }
   ],
   "source": [
    "np.uint64(2**64-1)"
   ]
  },
  {
   "cell_type": "code",
   "execution_count": 92,
   "id": "77e8c62f",
   "metadata": {},
   "outputs": [
    {
     "ename": "OverflowError",
     "evalue": "Python int too large to convert to C long",
     "output_type": "error",
     "traceback": [
      "\u001b[0;31m---------------------------------------------------------------------------\u001b[0m",
      "\u001b[0;31mOverflowError\u001b[0m                             Traceback (most recent call last)",
      "Input \u001b[0;32mIn [92]\u001b[0m, in \u001b[0;36m<cell line: 1>\u001b[0;34m()\u001b[0m\n\u001b[0;32m----> 1\u001b[0m \u001b[43mnp\u001b[49m\u001b[38;5;241;43m.\u001b[39;49m\u001b[43muint64\u001b[49m\u001b[43m(\u001b[49m\u001b[38;5;241;43m2\u001b[39;49m\u001b[38;5;241;43m*\u001b[39;49m\u001b[38;5;241;43m*\u001b[39;49m\u001b[38;5;241;43m64\u001b[39;49m\u001b[43m)\u001b[49m\n",
      "\u001b[0;31mOverflowError\u001b[0m: Python int too large to convert to C long"
     ]
    }
   ],
   "source": [
    "np.uint64(2**64)"
   ]
  },
  {
   "cell_type": "code",
   "execution_count": 66,
   "id": "d2ee0a69",
   "metadata": {},
   "outputs": [
    {
     "data": {
      "text/plain": [
       "9223372036854775807"
      ]
     },
     "execution_count": 66,
     "metadata": {},
     "output_type": "execute_result"
    }
   ],
   "source": [
    "np.int64(int(2**64/2)-1)"
   ]
  },
  {
   "cell_type": "code",
   "execution_count": 39,
   "id": "7968a8c1",
   "metadata": {},
   "outputs": [
    {
     "data": {
      "text/plain": [
       "numpy.uint64"
      ]
     },
     "execution_count": 39,
     "metadata": {},
     "output_type": "execute_result"
    }
   ],
   "source": [
    "type(np.uint64(2**64-1))"
   ]
  },
  {
   "cell_type": "code",
   "execution_count": 93,
   "id": "be9f9c20",
   "metadata": {},
   "outputs": [
    {
     "data": {
      "text/plain": [
       "numpy.float64"
      ]
     },
     "execution_count": 93,
     "metadata": {},
     "output_type": "execute_result"
    }
   ],
   "source": [
    "type(np.uint64(2**64-1)+1)"
   ]
  },
  {
   "cell_type": "code",
   "execution_count": 41,
   "id": "d7684737",
   "metadata": {},
   "outputs": [
    {
     "name": "stderr",
     "output_type": "stream",
     "text": [
      "/var/folders/s8/67tp1kjd0pq2lymz2y_34fg00000gn/T/ipykernel_89685/3505940746.py:1: RuntimeWarning: overflow encountered in ulong_scalars\n",
      "  type(np.uint64(2**64-1)+np.uint64(1))\n"
     ]
    },
    {
     "data": {
      "text/plain": [
       "numpy.uint64"
      ]
     },
     "execution_count": 41,
     "metadata": {},
     "output_type": "execute_result"
    }
   ],
   "source": [
    "type(np.uint64(2**64-1)+np.uint64(1))"
   ]
  },
  {
   "cell_type": "code",
   "execution_count": 42,
   "id": "af35c55e",
   "metadata": {},
   "outputs": [
    {
     "data": {
      "text/plain": [
       "numpy.float64"
      ]
     },
     "execution_count": 42,
     "metadata": {},
     "output_type": "execute_result"
    }
   ],
   "source": [
    "type(np.uint64(2**64-1)+np.int64(1))"
   ]
  },
  {
   "cell_type": "code",
   "execution_count": 24,
   "id": "9bbe868d",
   "metadata": {},
   "outputs": [
    {
     "data": {
      "text/plain": [
       "(numpy.int64, numpy.uint64, numpy.float64)"
      ]
     },
     "execution_count": 24,
     "metadata": {},
     "output_type": "execute_result"
    }
   ],
   "source": [
    "(type(np.int64(1) + np.int64(1)),\n",
    " type(np.uint64(1)+ np.uint64(1)),\n",
    " type(np.int64(1) + np.uint64(1)))"
   ]
  },
  {
   "cell_type": "markdown",
   "id": "ec4af93c",
   "metadata": {},
   "source": [
    "* [Python numpy uint64 gets converted to float on division - Stack Overflow](https://stackoverflow.com/questions/36993422/python-numpy-uint64-gets-converted-to-float-on-division)"
   ]
  },
  {
   "cell_type": "markdown",
   "id": "9b182272",
   "metadata": {},
   "source": [
    "---"
   ]
  },
  {
   "cell_type": "code",
   "execution_count": 1,
   "id": "2a615032",
   "metadata": {},
   "outputs": [
    {
     "data": {
      "text/plain": [
       "float"
      ]
     },
     "execution_count": 1,
     "metadata": {},
     "output_type": "execute_result"
    }
   ],
   "source": [
    "import math\n",
    "type(math.inf)"
   ]
  },
  {
   "cell_type": "code",
   "execution_count": 2,
   "id": "7eb341d0",
   "metadata": {},
   "outputs": [
    {
     "data": {
      "text/plain": [
       "sys.float_info(max=1.7976931348623157e+308, max_exp=1024, max_10_exp=308, min=2.2250738585072014e-308, min_exp=-1021, min_10_exp=-307, dig=15, mant_dig=53, epsilon=2.220446049250313e-16, radix=2, rounds=1)"
      ]
     },
     "execution_count": 2,
     "metadata": {},
     "output_type": "execute_result"
    }
   ],
   "source": [
    "import sys\n",
    "sys.float_info"
   ]
  },
  {
   "cell_type": "code",
   "execution_count": 4,
   "id": "5772ff6f",
   "metadata": {},
   "outputs": [
    {
     "data": {
      "text/plain": [
       "inf"
      ]
     },
     "execution_count": 4,
     "metadata": {},
     "output_type": "execute_result"
    }
   ],
   "source": [
    "1.7976931348623157e+308*2"
   ]
  },
  {
   "cell_type": "code",
   "execution_count": null,
   "id": "3b4431bd",
   "metadata": {},
   "outputs": [],
   "source": []
  }
 ],
 "metadata": {
  "kernelspec": {
   "display_name": "Python 3 (ipykernel)",
   "language": "python",
   "name": "python3"
  },
  "language_info": {
   "codemirror_mode": {
    "name": "ipython",
    "version": 3
   },
   "file_extension": ".py",
   "mimetype": "text/x-python",
   "name": "python",
   "nbconvert_exporter": "python",
   "pygments_lexer": "ipython3",
   "version": "3.9.12"
  },
  "toc": {
   "base_numbering": 1,
   "nav_menu": {},
   "number_sections": true,
   "sideBar": true,
   "skip_h1_title": false,
   "title_cell": "Table of Contents",
   "title_sidebar": "Contents",
   "toc_cell": false,
   "toc_position": {},
   "toc_section_display": true,
   "toc_window_display": false
  }
 },
 "nbformat": 4,
 "nbformat_minor": 5
}
