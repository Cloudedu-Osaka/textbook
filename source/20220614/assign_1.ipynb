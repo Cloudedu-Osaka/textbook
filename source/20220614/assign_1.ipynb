{
 "cells": [
  {
   "cell_type": "code",
   "execution_count": 1,
   "id": "d2844b6f",
   "metadata": {
    "hide_input": true,
    "init_cell": true,
    "tags": [
     "remove-input"
    ]
   },
   "outputs": [],
   "source": [
    "# initialization for my classroom\n",
    "import os\n",
    "from datetime import datetime as dt\n",
    "\n",
    "def logfile(user=os.environ.get('JUPYTERHUB_USER') or 'jovyan'):\n",
    "    prefix='/srv'\n",
    "    if os.path.isdir(prefix) and os.access(prefix, os.W_OK):\n",
    "        prefix+=('/'+user)\n",
    "        if not os.path.isdir(prefix):\n",
    "            os.makedirs(prefix)\n",
    "    else:\n",
    "        prefix='.'\n",
    "    return prefix+'/'+dt.now().strftime('%Y%m%d')+'.log'\n",
    "\n",
    "path=logfile()\n",
    "#%logstop\n",
    "%logstart -otq $path append\n",
    "\n",
    "# [python - cannot override sys.excepthook - Stack Overflow](https://stackoverflow.com/questions/1261668/cannot-override-sys-excepthook/28758396)\n",
    "# https://github.com/ipython/ipython/blob/e6432249582e05f438303ce73d082a0351bb383e/IPython/core/interactiveshell.py#L1952\n",
    "\n",
    "import sys\n",
    "import traceback\n",
    "import IPython\n",
    "\n",
    "try:\n",
    "    _showtraceback\n",
    "except NameError:\n",
    "    _showtraceback=IPython.core.interactiveshell.InteractiveShell.showtraceback\n",
    "\n",
    "try:\n",
    "    _showsyntaxerror\n",
    "except NameError:\n",
    "    _showsyntaxerror=IPython.core.interactiveshell.InteractiveShell.showsyntaxerror\n",
    "\n",
    "import logging\n",
    "logging.basicConfig(filename=path.replace('.log','-exc.log'), format='%(asctime)s %(message)s', level=logging.ERROR, force=True)\n",
    "\n",
    "import sys\n",
    "import traceback\n",
    "import IPython\n",
    "\n",
    "def showtraceback(self, *args, **kwargs):\n",
    "    etype, value, tb = self._get_exc_info(kwargs.get('exc_tuple'))\n",
    "    stb = self.InteractiveTB.structured_traceback(\n",
    "        etype, value, tb, tb_offset=kwargs.get('tb_offset'))\n",
    "    logging.error(os.environ.get('JUPYTERHUB_USER') or 'jovyan')\n",
    "    logging.error(self.InteractiveTB.stb2text(stb))\n",
    "    _showtraceback(self, *args, **kwargs)\n",
    "\n",
    "def showsyntaxerror(self, *args, **kwargs):\n",
    "    etype, value, last_traceback = self._get_exc_info()\n",
    "    elist = traceback.extract_tb(last_traceback) if kwargs.get('running_compiled_code') else []\n",
    "    stb = self.SyntaxTB.structured_traceback(etype, value, elist)\n",
    "    logging.error(os.environ.get('JUPYTERHUB_USER') or 'jovyan')\n",
    "    logging.error(self.InteractiveTB.stb2text(stb))\n",
    "    _showsyntaxerror(self, *args, **kwargs)\n",
    "\n",
    "IPython.core.interactiveshell.InteractiveShell.showtraceback = showtraceback\n",
    "IPython.core.interactiveshell.InteractiveShell.showsyntaxerror = showsyntaxerror"
   ]
  },
  {
   "cell_type": "markdown",
   "id": "aee820b8",
   "metadata": {},
   "source": [
    "# 近代数学とプログラミング (1)"
   ]
  },
  {
   "cell_type": "markdown",
   "id": "a1ddb31e",
   "metadata": {},
   "source": [
    "無限の対象を扱います。プログラムが無限ループに陥ることがあるかもしれません。実行したセルが ``In [*]: `` の状態から戻らないときは、メニューの ``Kernel`` から ``Interrupt`` を選択して下さい。"
   ]
  },
  {
   "cell_type": "markdown",
   "id": "66345299",
   "metadata": {},
   "source": [
    "## natural number: $\\mathbb{Z}$"
   ]
  },
  {
   "cell_type": "markdown",
   "id": "d2570d49",
   "metadata": {},
   "source": [
    "* [Natural number - Wikipedia](https://en.wikipedia.org/wiki/Natural_number)"
   ]
  },
  {
   "cell_type": "markdown",
   "id": "c56dc552",
   "metadata": {},
   "source": [
    "* (1858&ndash;1932) [Giuseppe Peano - Wikipedia](https://en.wikipedia.org/wiki/Giuseppe_Peano)\n",
    "  - [Peano axioms - Wikipedia](https://en.wikipedia.org/wiki/Peano_axioms)"
   ]
  },
  {
   "cell_type": "markdown",
   "id": "a876ea02",
   "metadata": {},
   "source": [
    "### ペアノによる自然数の定義\n",
    "\n",
    "1. $0$ is a natural number.\n",
    "1. For every natural number $x$, $x = x$. That is, equality is *reflexive*. ([Reflexive relation - Wikipedia](https://en.wikipedia.org/wiki/Reflexive_relation))\n",
    "1. For all natural numbers $x$ and $y$, if $x = y$, then $y = x$. That is, equality is *symmetric*. ([Symmetric relation - Wikipedia](https://en.wikipedia.org/wiki/Symmetric_relation))\n",
    "1. For all natural numbers $x$, $y$ and $z$, if $x = y$ and $y = z$, then $x = z$. That is, equality is *transitive*. ([Transitive relation - Wikipedia](https://en.wikipedia.org/wiki/Transitive_relation))\n",
    "1. For all $a$ and $b$, if $b$ is a natural number and $a = b$, then $a$ is also a natural number. That is, the natural numbers are closed under equality."
   ]
  },
  {
   "cell_type": "markdown",
   "id": "10430885",
   "metadata": {},
   "source": [
    "### 後者関数: $S$\n",
    "* [Successor function - Wikipedia](https://en.wikipedia.org/wiki/Successor_function)"
   ]
  },
  {
   "cell_type": "markdown",
   "id": "fdff051a",
   "metadata": {},
   "source": [
    "$$\n",
    "  \\begin{align}\n",
    "    1 &= S(0) \\\\\n",
    "    m + 0\t &= m \\\\\n",
    "    m + S(n) &= S(m + n)\n",
    "  \\end{align}\n",
    "$$"
   ]
  },
  {
   "cell_type": "markdown",
   "id": "2fa2aebf",
   "metadata": {},
   "source": [
    "$$\n",
    "  \\begin{align}\n",
    "    1+1 &= 1+S(0) = S(1+0) = S(1) = 2 \\\\\n",
    "    1+2 &= 1+S(1) = S(1+1) = S(1+S(0)) = S(S(1+0)) = S(S(1)) = 3\n",
    "  \\end{align}\n",
    "$$"
   ]
  },
  {
   "cell_type": "markdown",
   "id": "f70baabb",
   "metadata": {},
   "source": [
    "1. For every natural number $n$, $S(n)$ is a natural number. That is, the natural numbers are closed under $S$.\n",
    "1. For all natural numbers $m$ and $n$, $m = n$ if and only if $S(m) = S(n)$. That is, $S$ is an *injection*.\n",
    "1. For every natural number $n$, $S(n) = 0$ is false. That is, there is no natural number whose successor is $0$."
   ]
  },
  {
   "cell_type": "markdown",
   "id": "8a088956",
   "metadata": {},
   "source": [
    "後者関数 ``succ`` で自然数を生成する:\n",
    "* 関数外では参照しないので、関数内で定義する。\n",
    "* 関数の戻り値を ``return`` ではなく ``yield`` で返す。\n",
    "  - 関数は生成子 (generator) を返す。\n",
    "  - 関数 ``next()`` で繰り返して次の値を取り出せるようになる。"
   ]
  },
  {
   "cell_type": "code",
   "execution_count": 39,
   "id": "4edaf8d0",
   "metadata": {},
   "outputs": [],
   "source": [
    "def natural_numbers():\n",
    "\n",
    "    def succ(n):\n",
    "        return n+1\n",
    "\n",
    "    n = 0\n",
    "    while True:\n",
    "        yield n\n",
    "        n = succ(n)"
   ]
  },
  {
   "cell_type": "code",
   "execution_count": 40,
   "id": "b5ad2c04",
   "metadata": {},
   "outputs": [
    {
     "data": {
      "text/plain": [
       "<generator object natural_numbers at 0x105578ba0>"
      ]
     },
     "execution_count": 40,
     "metadata": {},
     "output_type": "execute_result"
    }
   ],
   "source": [
    "n= natural_numbers()\n",
    "n"
   ]
  },
  {
   "cell_type": "code",
   "execution_count": 41,
   "id": "72ca5bd4",
   "metadata": {},
   "outputs": [
    {
     "data": {
      "text/plain": [
       "0"
      ]
     },
     "execution_count": 41,
     "metadata": {},
     "output_type": "execute_result"
    }
   ],
   "source": [
    "next(n)"
   ]
  },
  {
   "cell_type": "code",
   "execution_count": 42,
   "id": "ab0465be",
   "metadata": {},
   "outputs": [
    {
     "data": {
      "text/plain": [
       "(1, 2, 3)"
      ]
     },
     "execution_count": 42,
     "metadata": {},
     "output_type": "execute_result"
    }
   ],
   "source": [
    "next(n), next(n), next(n)"
   ]
  },
  {
   "cell_type": "code",
   "execution_count": 43,
   "id": "0819fba8",
   "metadata": {},
   "outputs": [
    {
     "name": "stdout",
     "output_type": "stream",
     "text": [
      "4\n",
      "5\n",
      "6\n",
      "7\n",
      "8\n",
      "9\n",
      "10\n",
      "11\n",
      "12\n",
      "13\n"
     ]
    }
   ],
   "source": [
    "for i in range(10):\n",
    "    print(next(n))"
   ]
  },
  {
   "cell_type": "code",
   "execution_count": 44,
   "id": "bc03606c",
   "metadata": {},
   "outputs": [
    {
     "name": "stdout",
     "output_type": "stream",
     "text": [
      "14\n",
      "15\n",
      "16\n",
      "17\n",
      "18\n",
      "19\n",
      "20\n",
      "21\n",
      "22\n",
      "23\n"
     ]
    }
   ],
   "source": [
    "for i in range(10):\n",
    "    print(next(n))"
   ]
  },
  {
   "cell_type": "code",
   "execution_count": 45,
   "id": "60fd1abf",
   "metadata": {
    "scrolled": true
   },
   "outputs": [
    {
     "name": "stdout",
     "output_type": "stream",
     "text": [
      "24\n",
      "25\n",
      "26\n",
      "27\n",
      "28\n",
      "29\n",
      "30\n",
      "31\n",
      "32\n",
      "33\n"
     ]
    }
   ],
   "source": [
    "for i in range(10):\n",
    "    print(next(n))"
   ]
  },
  {
   "cell_type": "code",
   "execution_count": null,
   "id": "bc236cc4",
   "metadata": {},
   "outputs": [],
   "source": []
  },
  {
   "cell_type": "code",
   "execution_count": null,
   "id": "e2fdcae2",
   "metadata": {},
   "outputs": [],
   "source": []
  },
  {
   "cell_type": "code",
   "execution_count": null,
   "id": "a28204a1",
   "metadata": {},
   "outputs": [],
   "source": []
  },
  {
   "cell_type": "markdown",
   "id": "a9fb9208",
   "metadata": {},
   "source": [
    "### 匿名関数を使う\n",
    "\n",
    "* [Anonymous function - Wikipedia](https://en.wikipedia.org/wiki/Anonymous_function)\n",
    "  * [Lambda calculus - Wikipedia](https://en.wikipedia.org/wiki/Lambda_calculus)\n",
    "    - [Church encoding - Wikipedia](https://en.wikipedia.org/wiki/Church_encoding)"
   ]
  },
  {
   "cell_type": "markdown",
   "id": "8062cce5",
   "metadata": {},
   "source": [
    "* [Functional Programming HOWTO — Python 3.10.5 documentation](https://docs.python.org/3/howto/functional.html)\n",
    "\n",
    "``lambda`` 式を使うと、変数に格納可能な匿名関数を定義することができる。``lambda`` 式は、関数に式を渡して、関数の実行時にその振る舞いを変えるときに使う。\n",
    "* Pythonの匿名関数の本文は、ひとつの式しか持つことがず、その式の戻り値を返す。\n",
    "* ``return`` は使えない。"
   ]
  },
  {
   "cell_type": "code",
   "execution_count": 46,
   "id": "9f1bda34",
   "metadata": {},
   "outputs": [],
   "source": [
    "def natural_numbers(succ = lambda n: n+1):\n",
    "    n = 0\n",
    "    while True:\n",
    "        yield n\n",
    "        n = succ(n)"
   ]
  },
  {
   "cell_type": "code",
   "execution_count": 47,
   "id": "c1fdc003",
   "metadata": {},
   "outputs": [
    {
     "data": {
      "text/plain": [
       "<generator object natural_numbers at 0x105578f90>"
      ]
     },
     "execution_count": 47,
     "metadata": {},
     "output_type": "execute_result"
    }
   ],
   "source": [
    "n= natural_numbers()\n",
    "n"
   ]
  },
  {
   "cell_type": "code",
   "execution_count": 48,
   "id": "2201dce0",
   "metadata": {},
   "outputs": [
    {
     "data": {
      "text/plain": [
       "{0, 1, 2, 3, 4, 5, 6, 7, 8, 9}"
      ]
     },
     "execution_count": 48,
     "metadata": {},
     "output_type": "execute_result"
    }
   ],
   "source": [
    "{next(n) for i in range(10)}"
   ]
  },
  {
   "cell_type": "code",
   "execution_count": 49,
   "id": "21bb9147",
   "metadata": {},
   "outputs": [
    {
     "data": {
      "text/plain": [
       "<generator object natural_numbers at 0x10557d2e0>"
      ]
     },
     "execution_count": 49,
     "metadata": {},
     "output_type": "execute_result"
    }
   ],
   "source": [
    "e = natural_numbers(succ = lambda n: n+2)\n",
    "e"
   ]
  },
  {
   "cell_type": "code",
   "execution_count": 51,
   "id": "7e45d3bd",
   "metadata": {},
   "outputs": [
    {
     "data": {
      "text/plain": [
       "{0, 2, 4, 6, 8, 10, 12, 14, 16, 18}"
      ]
     },
     "execution_count": 51,
     "metadata": {},
     "output_type": "execute_result"
    }
   ],
   "source": [
    "{next(e) for i in range(10)}"
   ]
  },
  {
   "cell_type": "code",
   "execution_count": null,
   "id": "94fe68af",
   "metadata": {},
   "outputs": [],
   "source": []
  },
  {
   "cell_type": "markdown",
   "id": "8f1bf896",
   "metadata": {
    "nbgrader": {
     "grade": false,
     "grade_id": "cell-9367b9df1d9c11ae",
     "locked": true,
     "schema_version": 3,
     "solution": false,
     "task": false
    }
   },
   "source": [
    "課題-1) 上で定義した ``natural_numbers()`` を奇数を生成できるように改変せよ。"
   ]
  },
  {
   "cell_type": "code",
   "execution_count": 58,
   "id": "1521f218",
   "metadata": {
    "nbgrader": {
     "grade": false,
     "grade_id": "cell-bda90f759bf4b665",
     "locked": false,
     "schema_version": 3,
     "solution": true,
     "task": false
    }
   },
   "outputs": [],
   "source": [
    "def natural_numbers(n=0, succ = lambda n: n+2):\n",
    "    ### BEGIN SOLUTION\n",
    "    while True:\n",
    "        yield n\n",
    "        n = succ(n)\n",
    "    ### END SOLUTION"
   ]
  },
  {
   "cell_type": "code",
   "execution_count": 59,
   "id": "0e4ebe3f",
   "metadata": {},
   "outputs": [
    {
     "data": {
      "text/plain": [
       "<generator object natural_numbers at 0x10557dcf0>"
      ]
     },
     "execution_count": 59,
     "metadata": {},
     "output_type": "execute_result"
    }
   ],
   "source": [
    "o = natural_numbers(n=1, succ = lambda n: n+2)\n",
    "o"
   ]
  },
  {
   "cell_type": "code",
   "execution_count": 60,
   "id": "674168de",
   "metadata": {},
   "outputs": [
    {
     "data": {
      "text/plain": [
       "{1, 3, 5, 7, 9, 11, 13, 15, 17, 19}"
      ]
     },
     "execution_count": 60,
     "metadata": {},
     "output_type": "execute_result"
    }
   ],
   "source": [
    "{next(o) for i in range(10)}"
   ]
  },
  {
   "cell_type": "code",
   "execution_count": null,
   "id": "3942763a",
   "metadata": {},
   "outputs": [],
   "source": []
  },
  {
   "cell_type": "code",
   "execution_count": null,
   "id": "53aa4511",
   "metadata": {},
   "outputs": [],
   "source": []
  },
  {
   "cell_type": "code",
   "execution_count": null,
   "id": "ce47de57",
   "metadata": {},
   "outputs": [],
   "source": []
  },
  {
   "cell_type": "markdown",
   "id": "d4314c95",
   "metadata": {
    "nbgrader": {
     "grade": false,
     "grade_id": "cell-609b541dd898f68e",
     "locked": true,
     "schema_version": 3,
     "solution": false,
     "task": false
    }
   },
   "source": [
    "---\n",
    "以下、採点用のセルにつき編集できない:"
   ]
  },
  {
   "cell_type": "code",
   "execution_count": null,
   "id": "6e1cacce",
   "metadata": {
    "nbgrader": {
     "grade": false,
     "grade_id": "cell-d612042044142fd2",
     "locked": true,
     "schema_version": 3,
     "solution": false,
     "task": false
    }
   },
   "outputs": [],
   "source": [
    "from nose.tools import assert_equal, assert_true"
   ]
  },
  {
   "cell_type": "code",
   "execution_count": null,
   "id": "2b924309",
   "metadata": {
    "nbgrader": {
     "grade": true,
     "grade_id": "cell-3a26ef49e3b99d74",
     "locked": true,
     "points": 1,
     "schema_version": 3,
     "solution": false,
     "task": false
    }
   },
   "outputs": [],
   "source": [
    "assert_equal(next(natural_numbers(n=1, succ = lambda n: n+2)), 1)"
   ]
  }
 ],
 "metadata": {
  "celltoolbar": "Create Assignment",
  "kernelspec": {
   "display_name": "Python 3 (ipykernel)",
   "language": "python",
   "name": "python3"
  },
  "language_info": {
   "codemirror_mode": {
    "name": "ipython",
    "version": 3
   },
   "file_extension": ".py",
   "mimetype": "text/x-python",
   "name": "python",
   "nbconvert_exporter": "python",
   "pygments_lexer": "ipython3",
   "version": "3.9.12"
  },
  "toc": {
   "base_numbering": 1,
   "nav_menu": {},
   "number_sections": true,
   "sideBar": true,
   "skip_h1_title": false,
   "title_cell": "Table of Contents",
   "title_sidebar": "Contents",
   "toc_cell": false,
   "toc_position": {},
   "toc_section_display": true,
   "toc_window_display": false
  }
 },
 "nbformat": 4,
 "nbformat_minor": 5
}
