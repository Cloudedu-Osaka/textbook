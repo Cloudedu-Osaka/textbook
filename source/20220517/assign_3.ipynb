{
 "cells": [
  {
   "cell_type": "code",
   "execution_count": null,
   "id": "f4334f7a",
   "metadata": {
    "hide_input": true,
    "init_cell": true,
    "tags": [
     "remove-input"
    ]
   },
   "outputs": [],
   "source": [
    "# initialization for my classroom\n",
    "import os\n",
    "from datetime import datetime as dt\n",
    "\n",
    "def logfile(user=os.environ.get('JUPYTERHUB_USER') or 'jovyan'):\n",
    "    prefix='/srv'\n",
    "    if os.path.isdir(prefix) and os.access(prefix, os.W_OK):\n",
    "        prefix+=('/'+user)\n",
    "        if not os.path.isdir(prefix):\n",
    "            os.makedirs(prefix)\n",
    "    else:\n",
    "        prefix='.'\n",
    "    return prefix+'/'+dt.now().strftime('%Y%m%d')+'.log'\n",
    "\n",
    "path=logfile()\n",
    "#%logstop\n",
    "%logstart -otq $path append\n",
    "\n",
    "# [python - cannot override sys.excepthook - Stack Overflow](https://stackoverflow.com/questions/1261668/cannot-override-sys-excepthook/28758396)\n",
    "# https://github.com/ipython/ipython/blob/e6432249582e05f438303ce73d082a0351bb383e/IPython/core/interactiveshell.py#L1952\n",
    "\n",
    "import sys\n",
    "import traceback\n",
    "import IPython\n",
    "\n",
    "try:\n",
    "    _showtraceback\n",
    "except NameError:\n",
    "    _showtraceback=IPython.core.interactiveshell.InteractiveShell.showtraceback\n",
    "\n",
    "try:\n",
    "    _showsyntaxerror\n",
    "except NameError:\n",
    "    _showsyntaxerror=IPython.core.interactiveshell.InteractiveShell.showsyntaxerror\n",
    "\n",
    "import logging\n",
    "logging.basicConfig(filename=path.replace('.log','-exc.log'), format='%(asctime)s %(message)s', level=logging.ERROR, force=True)\n",
    "\n",
    "import sys\n",
    "import traceback\n",
    "import IPython\n",
    "\n",
    "def showtraceback(self, *args, **kwargs):\n",
    "    etype, value, tb = self._get_exc_info(kwargs.get('exc_tuple'))\n",
    "    stb = self.InteractiveTB.structured_traceback(\n",
    "        etype, value, tb, tb_offset=kwargs.get('tb_offset'))\n",
    "    logging.error(os.environ.get('JUPYTERHUB_USER') or 'jovyan')\n",
    "    logging.error(self.InteractiveTB.stb2text(stb))\n",
    "    _showtraceback(self, *args, **kwargs)\n",
    "\n",
    "def showsyntaxerror(self, *args, **kwargs):\n",
    "    etype, value, last_traceback = self._get_exc_info()\n",
    "    elist = traceback.extract_tb(last_traceback) if kwargs.get('running_compiled_code') else []\n",
    "    stb = self.SyntaxTB.structured_traceback(etype, value, elist)\n",
    "    logging.error(os.environ.get('JUPYTERHUB_USER') or 'jovyan')\n",
    "    logging.error(self.InteractiveTB.stb2text(stb))\n",
    "    _showsyntaxerror(self, *args, **kwargs)\n",
    "\n",
    "IPython.core.interactiveshell.InteractiveShell.showtraceback = showtraceback\n",
    "IPython.core.interactiveshell.InteractiveShell.showsyntaxerror = showsyntaxerror"
   ]
  },
  {
   "cell_type": "markdown",
   "id": "f1e093ea",
   "metadata": {},
   "source": [
    "# Assignment (3)"
   ]
  },
  {
   "cell_type": "code",
   "execution_count": 1,
   "id": "8141d8c0",
   "metadata": {
    "nbgrader": {
     "grade": false,
     "grade_id": "cell-c7d13b9303020391",
     "locked": true,
     "schema_version": 3,
     "solution": false,
     "task": false
    }
   },
   "outputs": [],
   "source": [
    "def inverse(n, base=10):\n",
    "    remainder   = 1\n",
    "    denominator = n\n",
    "    l = []\n",
    "    for _ in range(10):\n",
    "        numerator = remainder * base\n",
    "        quotient, remainder = divmod(numerator, denominator)\n",
    "        l.append(quotient)\n",
    "    return l"
   ]
  },
  {
   "cell_type": "code",
   "execution_count": 2,
   "id": "c91f41db",
   "metadata": {},
   "outputs": [
    {
     "data": {
      "text/plain": [
       "[2, 5, 0, 0, 0, 0, 0, 0, 0, 0]"
      ]
     },
     "execution_count": 2,
     "metadata": {},
     "output_type": "execute_result"
    }
   ],
   "source": [
    "inverse(4)"
   ]
  },
  {
   "cell_type": "code",
   "execution_count": 5,
   "id": "051a0f0f",
   "metadata": {
    "nbgrader": {
     "grade": false,
     "grade_id": "cell-81af685ac3f16a09",
     "locked": true,
     "schema_version": 3,
     "solution": false,
     "task": false
    }
   },
   "outputs": [],
   "source": [
    "def test():\n",
    "    for i in range(10):\n",
    "        if i > 2:\n",
    "            break\n",
    "        print(i)"
   ]
  },
  {
   "cell_type": "code",
   "execution_count": 6,
   "id": "ad8f0323",
   "metadata": {},
   "outputs": [
    {
     "name": "stdout",
     "output_type": "stream",
     "text": [
      "0\n",
      "1\n",
      "2\n"
     ]
    }
   ],
   "source": [
    "test()"
   ]
  },
  {
   "cell_type": "markdown",
   "id": "7cc1f133",
   "metadata": {
    "nbgrader": {
     "grade": false,
     "grade_id": "cell-9016a981ea6e2352",
     "locked": true,
     "schema_version": 3,
     "solution": false,
     "task": false
    }
   },
   "source": [
    "課題-3) ループは `break` で中断できる。`inverse()` 関数の `for` ループ内で求めている `remainder` が `0` の時、ループを中断するように改変せよ。\n",
    "中断に際して、有限小数であることを判定可能とするため、リストの末尾に `0` が付加されるように配慮すること。"
   ]
  },
  {
   "cell_type": "code",
   "execution_count": 10,
   "id": "66bc5385",
   "metadata": {
    "nbgrader": {
     "grade": false,
     "grade_id": "cell-3b430a715dc0a8aa",
     "locked": false,
     "schema_version": 3,
     "solution": true,
     "task": false
    }
   },
   "outputs": [],
   "source": [
    "def inverse(n, base=10):\n",
    "    ### BEGIN SOLUTION\n",
    "    remainder   = 1\n",
    "    denominator = n\n",
    "    l = []\n",
    "    for _ in range(10):\n",
    "        numerator = remainder * base\n",
    "        quotient, remainder = divmod(numerator, denominator)\n",
    "        l.append(quotient)\n",
    "        if remainder == 0:\n",
    "            l.append(0)\n",
    "            break\n",
    "    return l\n",
    "    ### END SOLUTION"
   ]
  },
  {
   "cell_type": "code",
   "execution_count": 11,
   "id": "36bf2d91",
   "metadata": {},
   "outputs": [
    {
     "data": {
      "text/plain": [
       "[2, 5, 0]"
      ]
     },
     "execution_count": 11,
     "metadata": {},
     "output_type": "execute_result"
    }
   ],
   "source": [
    "inverse(4)"
   ]
  },
  {
   "cell_type": "code",
   "execution_count": 12,
   "id": "7b83eb3b",
   "metadata": {},
   "outputs": [
    {
     "data": {
      "text/plain": [
       "0"
      ]
     },
     "execution_count": 12,
     "metadata": {},
     "output_type": "execute_result"
    }
   ],
   "source": [
    "(inverse(4))[-1]"
   ]
  },
  {
   "cell_type": "code",
   "execution_count": 13,
   "id": "991c9466",
   "metadata": {},
   "outputs": [
    {
     "name": "stdout",
     "output_type": "stream",
     "text": [
      "0\n",
      "3\n",
      "0\n",
      "0\n",
      "6\n",
      "8\n",
      "0\n",
      "1\n"
     ]
    }
   ],
   "source": [
    "for i in range(2,10):\n",
    "    print((inverse(i))[-1])"
   ]
  },
  {
   "cell_type": "code",
   "execution_count": null,
   "id": "e7bb67e1",
   "metadata": {},
   "outputs": [],
   "source": []
  },
  {
   "cell_type": "code",
   "execution_count": null,
   "id": "e091836e",
   "metadata": {},
   "outputs": [],
   "source": []
  },
  {
   "cell_type": "code",
   "execution_count": null,
   "id": "af0fc6b1",
   "metadata": {},
   "outputs": [],
   "source": []
  },
  {
   "cell_type": "markdown",
   "id": "42e3e251",
   "metadata": {
    "nbgrader": {
     "grade": false,
     "grade_id": "cell-1adebb8281bb8da7",
     "locked": true,
     "schema_version": 3,
     "solution": false,
     "task": false
    }
   },
   "source": [
    "## 有限小数を判定する"
   ]
  },
  {
   "cell_type": "code",
   "execution_count": 14,
   "id": "470cbb38",
   "metadata": {
    "nbgrader": {
     "grade": false,
     "grade_id": "cell-5dcddc27c27548e0",
     "locked": true,
     "schema_version": 3,
     "solution": false,
     "task": false
    }
   },
   "outputs": [
    {
     "name": "stdout",
     "output_type": "stream",
     "text": [
      "1/2 is finite decimal\n",
      "1/4 is finite decimal\n",
      "1/5 is finite decimal\n",
      "1/8 is finite decimal\n"
     ]
    }
   ],
   "source": [
    "for i in range(2,10):\n",
    "    if (inverse(i))[-1] == 0:\n",
    "        print(\"1/\"+str(i)+\" is finite decimal\")"
   ]
  },
  {
   "cell_type": "code",
   "execution_count": 15,
   "id": "35918c1c",
   "metadata": {
    "nbgrader": {
     "grade": false,
     "grade_id": "cell-d82fde9deef601e7",
     "locked": true,
     "schema_version": 3,
     "solution": false,
     "task": false
    }
   },
   "outputs": [
    {
     "name": "stdout",
     "output_type": "stream",
     "text": [
      "1/2 is finite decimal\n",
      "1/3 is finite decimal\n",
      "1/4 is finite decimal\n",
      "1/5 is finite decimal\n",
      "1/6 is finite decimal\n",
      "1/8 is finite decimal\n",
      "1/9 is finite decimal\n",
      "1/10 is finite decimal\n",
      "1/12 is finite decimal\n",
      "1/15 is finite decimal\n",
      "1/16 is finite decimal\n",
      "1/18 is finite decimal\n",
      "1/20 is finite decimal\n",
      "1/24 is finite decimal\n",
      "1/25 is finite decimal\n",
      "1/27 is finite decimal\n",
      "1/30 is finite decimal\n",
      "1/32 is finite decimal\n",
      "1/36 is finite decimal\n",
      "1/40 is finite decimal\n",
      "1/45 is finite decimal\n",
      "1/48 is finite decimal\n",
      "1/50 is finite decimal\n",
      "1/54 is finite decimal\n"
     ]
    }
   ],
   "source": [
    "for i in range(2,60):\n",
    "    if (inverse(i,60))[-1] == 0:\n",
    "        print(\"1/\"+str(i)+\" is finite decimal\")"
   ]
  },
  {
   "cell_type": "code",
   "execution_count": 16,
   "id": "5ddc21a8",
   "metadata": {},
   "outputs": [
    {
     "data": {
      "text/plain": [
       "[3, 3, 3, 3, 3, 3, 3, 3, 3, 3]"
      ]
     },
     "execution_count": 16,
     "metadata": {},
     "output_type": "execute_result"
    }
   ],
   "source": [
    "inverse(3)"
   ]
  },
  {
   "cell_type": "code",
   "execution_count": 17,
   "id": "3fcf23a5",
   "metadata": {},
   "outputs": [
    {
     "data": {
      "text/plain": [
       "[20, 0]"
      ]
     },
     "execution_count": 17,
     "metadata": {},
     "output_type": "execute_result"
    }
   ],
   "source": [
    "inverse(3,60)"
   ]
  },
  {
   "cell_type": "code",
   "execution_count": null,
   "id": "f60353a2",
   "metadata": {},
   "outputs": [],
   "source": []
  },
  {
   "cell_type": "code",
   "execution_count": null,
   "id": "a14321b7",
   "metadata": {},
   "outputs": [],
   "source": []
  },
  {
   "cell_type": "code",
   "execution_count": null,
   "id": "8b2a8064",
   "metadata": {},
   "outputs": [],
   "source": []
  },
  {
   "cell_type": "markdown",
   "id": "936217f5",
   "metadata": {
    "nbgrader": {
     "grade": false,
     "grade_id": "cell-e68c6638d284ba0c",
     "locked": true,
     "schema_version": 3,
     "solution": false,
     "task": false
    }
   },
   "source": [
    "---\n",
    "以下、採点用のセルにつき編集できない:"
   ]
  },
  {
   "cell_type": "code",
   "execution_count": 9,
   "id": "5a199bfa",
   "metadata": {
    "nbgrader": {
     "grade": false,
     "grade_id": "cell-4d2503544ff6ee59",
     "locked": true,
     "schema_version": 3,
     "solution": false,
     "task": false
    }
   },
   "outputs": [],
   "source": [
    "from nose.tools import assert_equal, assert_true"
   ]
  },
  {
   "cell_type": "code",
   "execution_count": 10,
   "id": "9c834832",
   "metadata": {
    "nbgrader": {
     "grade": true,
     "grade_id": "cell-942b60b4f3cf0d30",
     "locked": true,
     "points": 1,
     "schema_version": 3,
     "solution": false,
     "task": false
    }
   },
   "outputs": [],
   "source": [
    "assert_equal(\n",
    "    inverse(4),\n",
    "    [2, 5, 0])"
   ]
  },
  {
   "cell_type": "code",
   "execution_count": 12,
   "id": "073d0304",
   "metadata": {
    "nbgrader": {
     "grade": true,
     "grade_id": "cell-5f7ac7348e0f01fb",
     "locked": true,
     "points": 1,
     "schema_version": 3,
     "solution": false,
     "task": false
    }
   },
   "outputs": [],
   "source": [
    "assert_equal(\n",
    "    (inverse(4))[-1],\n",
    "    0)"
   ]
  },
  {
   "cell_type": "code",
   "execution_count": 13,
   "id": "52a8f829",
   "metadata": {
    "nbgrader": {
     "grade": true,
     "grade_id": "cell-d4fefd32d24c096c",
     "locked": true,
     "points": 1,
     "schema_version": 3,
     "solution": false,
     "task": false
    }
   },
   "outputs": [],
   "source": [
    "assert_equal(\n",
    "    inverse(7), \n",
    "    [1, 4, 2, 8, 5, 7, 1, 4, 2, 8])"
   ]
  }
 ],
 "metadata": {
  "celltoolbar": "Create Assignment",
  "kernelspec": {
   "display_name": "Python 3 (ipykernel)",
   "language": "python",
   "name": "python3"
  },
  "language_info": {
   "codemirror_mode": {
    "name": "ipython",
    "version": 3
   },
   "file_extension": ".py",
   "mimetype": "text/x-python",
   "name": "python",
   "nbconvert_exporter": "python",
   "pygments_lexer": "ipython3",
   "version": "3.9.12"
  },
  "toc": {
   "base_numbering": 1,
   "nav_menu": {},
   "number_sections": true,
   "sideBar": true,
   "skip_h1_title": false,
   "title_cell": "Table of Contents",
   "title_sidebar": "Contents",
   "toc_cell": false,
   "toc_position": {},
   "toc_section_display": true,
   "toc_window_display": false
  }
 },
 "nbformat": 4,
 "nbformat_minor": 5
}
