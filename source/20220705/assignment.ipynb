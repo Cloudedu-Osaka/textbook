{
 "cells": [
  {
   "cell_type": "code",
   "execution_count": 1,
   "id": "e06990e9",
   "metadata": {
    "hide_input": true,
    "init_cell": true,
    "tags": [
     "remove-input"
    ]
   },
   "outputs": [],
   "source": [
    "# initialization for my classroom\n",
    "import os\n",
    "from datetime import datetime as dt\n",
    "\n",
    "def logfile(user=os.environ.get('JUPYTERHUB_USER') or 'jovyan'):\n",
    "    prefix='/srv'\n",
    "    if os.path.isdir(prefix) and os.access(prefix, os.W_OK):\n",
    "        prefix+=('/'+user)\n",
    "        if not os.path.isdir(prefix):\n",
    "            os.makedirs(prefix)\n",
    "    else:\n",
    "        prefix='.'\n",
    "    return prefix+'/'+dt.now().strftime('%Y%m%d')+'.log'\n",
    "\n",
    "path=logfile()\n",
    "#%logstop\n",
    "%logstart -otq $path append\n",
    "\n",
    "# [python - cannot override sys.excepthook - Stack Overflow](https://stackoverflow.com/questions/1261668/cannot-override-sys-excepthook/28758396)\n",
    "# https://github.com/ipython/ipython/blob/e6432249582e05f438303ce73d082a0351bb383e/IPython/core/interactiveshell.py#L1952\n",
    "\n",
    "import sys\n",
    "import traceback\n",
    "import IPython\n",
    "\n",
    "try:\n",
    "    _showtraceback\n",
    "except NameError:\n",
    "    _showtraceback=IPython.core.interactiveshell.InteractiveShell.showtraceback\n",
    "\n",
    "try:\n",
    "    _showsyntaxerror\n",
    "except NameError:\n",
    "    _showsyntaxerror=IPython.core.interactiveshell.InteractiveShell.showsyntaxerror\n",
    "\n",
    "import logging\n",
    "logging.basicConfig(filename=path.replace('.log','-exc.log'), format='%(asctime)s %(message)s', level=logging.ERROR, force=True)\n",
    "\n",
    "import sys\n",
    "import traceback\n",
    "import IPython\n",
    "\n",
    "def showtraceback(self, *args, **kwargs):\n",
    "    etype, value, tb = self._get_exc_info(kwargs.get('exc_tuple'))\n",
    "    stb = self.InteractiveTB.structured_traceback(\n",
    "        etype, value, tb, tb_offset=kwargs.get('tb_offset'))\n",
    "    logging.error(os.environ.get('JUPYTERHUB_USER') or 'jovyan')\n",
    "    logging.error(self.InteractiveTB.stb2text(stb))\n",
    "    _showtraceback(self, *args, **kwargs)\n",
    "\n",
    "def showsyntaxerror(self, *args, **kwargs):\n",
    "    etype, value, last_traceback = self._get_exc_info()\n",
    "    elist = traceback.extract_tb(last_traceback) if kwargs.get('running_compiled_code') else []\n",
    "    stb = self.SyntaxTB.structured_traceback(etype, value, elist)\n",
    "    logging.error(os.environ.get('JUPYTERHUB_USER') or 'jovyan')\n",
    "    logging.error(self.InteractiveTB.stb2text(stb))\n",
    "    _showsyntaxerror(self, *args, **kwargs)\n",
    "\n",
    "IPython.core.interactiveshell.InteractiveShell.showtraceback = showtraceback\n",
    "IPython.core.interactiveshell.InteractiveShell.showsyntaxerror = showsyntaxerror"
   ]
  },
  {
   "cell_type": "markdown",
   "id": "fd8107dc",
   "metadata": {},
   "source": [
    "# 課題: Napierによる乗算のない世界"
   ]
  },
  {
   "cell_type": "markdown",
   "id": "a47c9282",
   "metadata": {},
   "source": [
    "Step-1) `nest_list()` を使って $R=10^5=10000$ の時のNapierの対数表の元リストを作成する:"
   ]
  },
  {
   "cell_type": "code",
   "execution_count": 4,
   "id": "92a0ed42",
   "metadata": {},
   "outputs": [],
   "source": [
    "import numpy as np\n",
    "\n",
    "def nest_list(f, x, c=1):\n",
    "    while True:\n",
    "        yield x\n",
    "        x = f(x)\n",
    "        if x < c:\n",
    "            break\n",
    "    yield x"
   ]
  },
  {
   "cell_type": "code",
   "execution_count": 5,
   "id": "45081919",
   "metadata": {},
   "outputs": [],
   "source": [
    "napier5=np.array(list(nest_list(lambda l: l*(1-10**(-5)), 10**5, 1)))"
   ]
  },
  {
   "cell_type": "code",
   "execution_count": 6,
   "id": "63e96676",
   "metadata": {},
   "outputs": [
    {
     "data": {
      "text/plain": [
       "(1151288, 0.9999979002909413)"
      ]
     },
     "execution_count": 6,
     "metadata": {},
     "output_type": "execute_result"
    }
   ],
   "source": [
    "napier5.size, napier5[-1]"
   ]
  },
  {
   "cell_type": "code",
   "execution_count": 7,
   "id": "ad39366a",
   "metadata": {},
   "outputs": [
    {
     "data": {
      "text/plain": [
       "array([100000.        ,  99999.        ,  99998.00001   ,  99997.00003   ,\n",
       "        99996.00006   ,  99995.0001    ,  99994.00015   ,  99993.00021   ,\n",
       "        99992.00027999,  99991.00035999,  99990.00044999,  99989.00054998,\n",
       "        99988.00065998,  99987.00077997,  99986.00090996,  99985.00104995,\n",
       "        99984.00119994,  99983.00135993,  99982.00152992,  99981.0017099 ,\n",
       "        99980.00189989,  99979.00209987,  99978.00230985,  99977.00252982,\n",
       "        99976.0027598 ,  99975.00299977,  99974.00324974,  99973.00350971,\n",
       "        99972.00377967,  99971.00405963,  99970.00434959,  99969.00464955,\n",
       "        99968.0049595 ,  99967.00527945,  99966.0056094 ,  99965.00594935,\n",
       "        99964.00629929,  99963.00665922,  99962.00702916,  99961.00740909,\n",
       "        99960.00779901,  99959.00819893,  99958.00860885,  99957.00902877,\n",
       "        99956.00945868,  99955.00989858,  99954.01034848,  99953.01080838,\n",
       "        99952.01127827,  99951.01175816,  99950.01224804,  99949.01274792,\n",
       "        99948.01325779,  99947.01377766,  99946.01430752,  99945.01484738,\n",
       "        99944.01539723,  99943.01595707,  99942.01652692,  99941.01710675,\n",
       "        99940.01769658,  99939.0182964 ,  99938.01890622,  99937.01952603,\n",
       "        99936.02015583,  99935.02079563,  99934.02144543,  99933.02210521,\n",
       "        99932.02277499,  99931.02345476,  99930.02414453,  99929.02484429,\n",
       "        99928.02555404,  99927.02627378,  99926.02700352,  99925.02774325,\n",
       "        99924.02849297,  99923.02925269,  99922.03002239,  99921.03080209,\n",
       "        99920.03159179,  99919.03239147,  99918.03320115,  99917.03402081,\n",
       "        99916.03485047,  99915.03569013,  99914.03653977,  99913.0373994 ,\n",
       "        99912.03826903,  99911.03914865,  99910.04003825,  99909.04093785,\n",
       "        99908.04184745,  99907.04276703,  99906.0436966 ,  99905.04463616,\n",
       "        99904.04558572,  99903.04654526,  99902.04751479,  99901.04849432])"
      ]
     },
     "execution_count": 7,
     "metadata": {},
     "output_type": "execute_result"
    }
   ],
   "source": [
    "napier5[:100]"
   ]
  },
  {
   "cell_type": "code",
   "execution_count": 8,
   "id": "7a22dc31",
   "metadata": {
    "scrolled": true
   },
   "outputs": [
    {
     "data": {
      "text/plain": [
       "[<matplotlib.lines.Line2D at 0x10b12d610>]"
      ]
     },
     "execution_count": 8,
     "metadata": {},
     "output_type": "execute_result"
    },
    {
     "data": {
      "image/png": "[encoded data removed]",
      "text/plain": [
       "<Figure size 432x288 with 1 Axes>"
      ]
     },
     "metadata": {
      "needs_background": "light"
     },
     "output_type": "display_data"
    }
   ],
   "source": [
    "import matplotlib.pyplot as plt\n",
    "\n",
    "x = np.linspace(0,napier5.size,num=napier5.size)\n",
    "plt.plot(x,napier5)"
   ]
  },
  {
   "cell_type": "code",
   "execution_count": null,
   "id": "d112553e",
   "metadata": {},
   "outputs": [],
   "source": []
  },
  {
   "cell_type": "code",
   "execution_count": null,
   "id": "249af1dc",
   "metadata": {},
   "outputs": [],
   "source": []
  },
  {
   "cell_type": "code",
   "execution_count": null,
   "id": "7eaf86f1",
   "metadata": {},
   "outputs": [],
   "source": []
  },
  {
   "cell_type": "markdown",
   "id": "6777e06d",
   "metadata": {},
   "source": [
    "Step-2) 上で求めた配列 ```napier5``` を検索し、$R=5$ のときの Napier の対数を求める:\n",
    "\n",
    "$$\n",
    "n = \\log_{1-10^{-5}}\\left( \\frac{p_{n}}{10^5} \\right)\n",
    "$$"
   ]
  },
  {
   "cell_type": "markdown",
   "id": "01d29f7c",
   "metadata": {},
   "source": [
    "* [numpy.searchsorted — NumPy v1.23 Manual](https://numpy.org/doc/stable/reference/generated/numpy.searchsorted.html)"
   ]
  },
  {
   "cell_type": "markdown",
   "id": "ba1d4330",
   "metadata": {},
   "source": [
    "昇順に並べ替える (この場合は、逆順にする)"
   ]
  },
  {
   "cell_type": "code",
   "execution_count": 9,
   "id": "129d08cf",
   "metadata": {},
   "outputs": [
    {
     "data": {
      "text/plain": [
       "array([0.9999979 , 1.0000079 , 1.0000179 , 1.0000279 , 1.0000379 ,\n",
       "       1.0000479 , 1.0000579 , 1.0000679 , 1.0000779 , 1.0000879 ,\n",
       "       1.00009791, 1.00010791, 1.00011791, 1.00012791, 1.00013791,\n",
       "       1.00014791, 1.00015791, 1.00016792, 1.00017792, 1.00018792,\n",
       "       1.00019792, 1.00020792, 1.00021793, 1.00022793, 1.00023793,\n",
       "       1.00024793, 1.00025793, 1.00026794, 1.00027794, 1.00028794,\n",
       "       1.00029795, 1.00030795, 1.00031795, 1.00032796, 1.00033796,\n",
       "       1.00034796, 1.00035797, 1.00036797, 1.00037797, 1.00038798,\n",
       "       1.00039798, 1.00040799, 1.00041799, 1.00042799, 1.000438  ,\n",
       "       1.000448  , 1.00045801, 1.00046801, 1.00047802, 1.00048802,\n",
       "       1.00049803, 1.00050803, 1.00051804, 1.00052804, 1.00053805,\n",
       "       1.00054805, 1.00055806, 1.00056806, 1.00057807, 1.00058808,\n",
       "       1.00059808, 1.00060809, 1.00061809, 1.0006281 , 1.00063811,\n",
       "       1.00064811, 1.00065812, 1.00066813, 1.00067813, 1.00068814,\n",
       "       1.00069815, 1.00070815, 1.00071816, 1.00072817, 1.00073818,\n",
       "       1.00074818, 1.00075819, 1.0007682 , 1.00077821, 1.00078821,\n",
       "       1.00079822, 1.00080823, 1.00081824, 1.00082825, 1.00083826,\n",
       "       1.00084826, 1.00085827, 1.00086828, 1.00087829, 1.0008883 ,\n",
       "       1.00089831, 1.00090832, 1.00091833, 1.00092834, 1.00093834,\n",
       "       1.00094835, 1.00095836, 1.00096837, 1.00097838, 1.00098839])"
      ]
     },
     "execution_count": 9,
     "metadata": {},
     "output_type": "execute_result"
    }
   ],
   "source": [
    "napier5[::-1][:100]"
   ]
  },
  {
   "cell_type": "markdown",
   "id": "eb698201",
   "metadata": {},
   "source": [
    "`numpy.searchsorted()`を使い、指定した値になる添字 (index) を求める"
   ]
  },
  {
   "cell_type": "code",
   "execution_count": 10,
   "id": "d2f854d0",
   "metadata": {},
   "outputs": [
    {
     "data": {
      "text/plain": [
       "(711799, 864432)"
      ]
     },
     "execution_count": 10,
     "metadata": {},
     "output_type": "execute_result"
    }
   ],
   "source": [
    "np.searchsorted(napier5[::-1], 1234), np.searchsorted(napier5[::-1], 5678)"
   ]
  },
  {
   "cell_type": "markdown",
   "id": "f4b23e6f",
   "metadata": {},
   "source": [
    "リストを逆順にしたので、正順の際の添字に戻す:"
   ]
  },
  {
   "cell_type": "code",
   "execution_count": 11,
   "id": "39beca95",
   "metadata": {},
   "outputs": [
    {
     "data": {
      "text/plain": [
       "(439489, 56583)"
      ]
     },
     "execution_count": 11,
     "metadata": {},
     "output_type": "execute_result"
    }
   ],
   "source": [
    "napier5.size-np.searchsorted(napier5[::-1], 1234), napier5.size-np.searchsorted(napier5[::-1], 56789)"
   ]
  },
  {
   "cell_type": "markdown",
   "id": "c2aa4639",
   "metadata": {},
   "source": [
    "変換がいちいち煩わしいので、正負逆転した配列 (この場合、昇順になる) で `numpy.searchsorted()` を使う"
   ]
  },
  {
   "cell_type": "code",
   "execution_count": 12,
   "id": "f9ddbf5d",
   "metadata": {},
   "outputs": [
    {
     "data": {
      "text/plain": [
       "(439489, 56583)"
      ]
     },
     "execution_count": 12,
     "metadata": {},
     "output_type": "execute_result"
    }
   ],
   "source": [
    "np.searchsorted(-napier5, -1234), np.searchsorted(-napier5, -56789)"
   ]
  },
  {
   "cell_type": "markdown",
   "id": "1bd9ee11",
   "metadata": {},
   "source": [
    "以上をプログラム `napier5_log()` に反映する:"
   ]
  },
  {
   "cell_type": "code",
   "execution_count": 13,
   "id": "c4330f2f",
   "metadata": {},
   "outputs": [
    {
     "data": {
      "text/plain": [
       "(100000.0, 0.9999979002909413)"
      ]
     },
     "execution_count": 13,
     "metadata": {},
     "output_type": "execute_result"
    }
   ],
   "source": [
    "napier5[0], napier5[-1]"
   ]
  },
  {
   "cell_type": "code",
   "execution_count": 14,
   "id": "65f6fab4",
   "metadata": {},
   "outputs": [],
   "source": [
    "def napier5_log(x):\n",
    "    if x < napier5[0] and x > napier5[-1]:\n",
    "        return np.searchsorted(-napier5, -x)\n",
    "    else:\n",
    "        raise IndexError"
   ]
  },
  {
   "cell_type": "code",
   "execution_count": 15,
   "id": "d805e84a",
   "metadata": {},
   "outputs": [
    {
     "data": {
      "text/plain": [
       "(439489, 56583)"
      ]
     },
     "execution_count": 15,
     "metadata": {},
     "output_type": "execute_result"
    }
   ],
   "source": [
    "napier5_log(1234), napier5_log(56789)"
   ]
  },
  {
   "cell_type": "code",
   "execution_count": 16,
   "id": "7047c2d2",
   "metadata": {},
   "outputs": [
    {
     "data": {
      "text/plain": [
       "(1233.9966508401064, 56788.699690421614)"
      ]
     },
     "execution_count": 16,
     "metadata": {},
     "output_type": "execute_result"
    }
   ],
   "source": [
    "napier5[439489], napier5[56583]"
   ]
  },
  {
   "cell_type": "code",
   "execution_count": 17,
   "id": "89d1559a",
   "metadata": {},
   "outputs": [
    {
     "data": {
      "text/plain": [
       "(0.012339966508401898, 0.5678869969042134)"
      ]
     },
     "execution_count": 17,
     "metadata": {},
     "output_type": "execute_result"
    }
   ],
   "source": [
    "((1-10**-5)**439489), ((1-10**-5)**56583)"
   ]
  },
  {
   "cell_type": "code",
   "execution_count": 18,
   "id": "ed139cb0",
   "metadata": {},
   "outputs": [
    {
     "data": {
      "text/plain": [
       "(439489.00000000675, 56582.99999999951)"
      ]
     },
     "execution_count": 18,
     "metadata": {},
     "output_type": "execute_result"
    }
   ],
   "source": [
    "import math\n",
    "math.log(napier5[439489]/10**5, 1-10**-5), math.log(napier5[56583]/10**5, 1-10**-5)"
   ]
  },
  {
   "cell_type": "code",
   "execution_count": null,
   "id": "b81234c0",
   "metadata": {},
   "outputs": [],
   "source": []
  },
  {
   "cell_type": "code",
   "execution_count": null,
   "id": "7cc6d090",
   "metadata": {},
   "outputs": [],
   "source": []
  },
  {
   "cell_type": "code",
   "execution_count": null,
   "id": "2d0ac0df",
   "metadata": {},
   "outputs": [],
   "source": []
  },
  {
   "cell_type": "markdown",
   "id": "f5a54e42",
   "metadata": {},
   "source": [
    "Step-3) 指数法則: $\\log(x \\times y) = \\log(x) + \\log(y)$ を使って、掛け算を足け算に変換して計算するプログラムを記述せよ:"
   ]
  },
  {
   "cell_type": "code",
   "execution_count": 19,
   "id": "e93691a3",
   "metadata": {},
   "outputs": [
    {
     "data": {
      "text/plain": [
       "(439489, 56583)"
      ]
     },
     "execution_count": 19,
     "metadata": {},
     "output_type": "execute_result"
    }
   ],
   "source": [
    "napier5_log(1234), napier5_log(56789)"
   ]
  },
  {
   "cell_type": "code",
   "execution_count": 20,
   "id": "e3fdc883",
   "metadata": {},
   "outputs": [
    {
     "data": {
      "text/plain": [
       "496072"
      ]
     },
     "execution_count": 20,
     "metadata": {},
     "output_type": "execute_result"
    }
   ],
   "source": [
    "napier5_log(1234) + napier5_log(56789)"
   ]
  },
  {
   "cell_type": "code",
   "execution_count": 21,
   "id": "b161d931",
   "metadata": {},
   "outputs": [
    {
     "data": {
      "text/plain": [
       "(70077065.22354518, 70077626)"
      ]
     },
     "execution_count": 21,
     "metadata": {},
     "output_type": "execute_result"
    }
   ],
   "source": [
    "napier5[496072]*10**5, 1234*56789"
   ]
  },
  {
   "cell_type": "code",
   "execution_count": 22,
   "id": "e5ee2649",
   "metadata": {
    "nbgrader": {
     "grade": true,
     "grade_id": "cell-2f47e3a72c40b9b9",
     "locked": false,
     "points": 1,
     "schema_version": 3,
     "solution": true,
     "task": false
    }
   },
   "outputs": [],
   "source": [
    "def napier5_times(x, y):\n",
    "    ### BEGIN SOLUTION\n",
    "    return napier5[napier5_log(x)+napier5_log(y)] * 10**5\n",
    "    ### END SOLUTION"
   ]
  },
  {
   "cell_type": "code",
   "execution_count": 46,
   "id": "0ce20289",
   "metadata": {},
   "outputs": [
    {
     "data": {
      "text/plain": [
       "(70077065.22354518, 70077626)"
      ]
     },
     "execution_count": 46,
     "metadata": {},
     "output_type": "execute_result"
    }
   ],
   "source": [
    "napier5_times(1234, 56789), 1234*56789"
   ]
  },
  {
   "cell_type": "code",
   "execution_count": 45,
   "id": "7858b37c",
   "metadata": {},
   "outputs": [
    {
     "data": {
      "text/plain": [
       "True"
      ]
     },
     "execution_count": 45,
     "metadata": {},
     "output_type": "execute_result"
    }
   ],
   "source": [
    "math.isclose(napier5_times(1234, 56789), 1234*56789, rel_tol=10**-5)"
   ]
  },
  {
   "cell_type": "code",
   "execution_count": null,
   "id": "f6b6a21e",
   "metadata": {},
   "outputs": [],
   "source": []
  },
  {
   "cell_type": "code",
   "execution_count": null,
   "id": "d6827745",
   "metadata": {},
   "outputs": [],
   "source": []
  },
  {
   "cell_type": "code",
   "execution_count": null,
   "id": "dbd43745",
   "metadata": {},
   "outputs": [],
   "source": []
  },
  {
   "cell_type": "markdown",
   "id": "27a6d46e",
   "metadata": {
    "nbgrader": {
     "grade": false,
     "grade_id": "cell-1f53b7d3e65bc886",
     "locked": true,
     "schema_version": 3,
     "solution": false,
     "task": false
    }
   },
   "source": [
    "---\n",
    "以下、採点用のセルにつき編集できない:"
   ]
  },
  {
   "cell_type": "code",
   "execution_count": 2,
   "id": "75ef63ab",
   "metadata": {
    "nbgrader": {
     "grade": false,
     "grade_id": "cell-5d77e5de11bb3b5e",
     "locked": true,
     "schema_version": 3,
     "solution": false,
     "task": false
    }
   },
   "outputs": [],
   "source": [
    "from nose.tools import assert_equal, assert_true"
   ]
  },
  {
   "cell_type": "code",
   "execution_count": 48,
   "id": "c7eefeaf",
   "metadata": {
    "nbgrader": {
     "grade": true,
     "grade_id": "cell-bad10c4dd659e945",
     "locked": true,
     "points": 0,
     "schema_version": 3,
     "solution": false,
     "task": false
    }
   },
   "outputs": [],
   "source": [
    "assert_true(math.isclose(1234*56789,  napier5_times(1234, 56789) , rel_tol=10**-5))"
   ]
  },
  {
   "cell_type": "code",
   "execution_count": null,
   "id": "16387efb",
   "metadata": {},
   "outputs": [],
   "source": []
  }
 ],
 "metadata": {
  "celltoolbar": "Create Assignment",
  "kernelspec": {
   "display_name": "Python 3 (ipykernel)",
   "language": "python",
   "name": "python3"
  },
  "language_info": {
   "codemirror_mode": {
    "name": "ipython",
    "version": 3
   },
   "file_extension": ".py",
   "mimetype": "text/x-python",
   "name": "python",
   "nbconvert_exporter": "python",
   "pygments_lexer": "ipython3",
   "version": "3.9.12"
  },
  "toc": {
   "base_numbering": 1,
   "nav_menu": {},
   "number_sections": true,
   "sideBar": true,
   "skip_h1_title": false,
   "title_cell": "Table of Contents",
   "title_sidebar": "Contents",
   "toc_cell": false,
   "toc_position": {},
   "toc_section_display": true,
   "toc_window_display": false
  }
 },
 "nbformat": 4,
 "nbformat_minor": 5
}
