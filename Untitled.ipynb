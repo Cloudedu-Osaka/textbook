{
 "cells": [
  {
   "cell_type": "code",
   "execution_count": 1,
   "id": "125bf2ec",
   "metadata": {},
   "outputs": [],
   "source": [
    "def inverse(n, base=10):\n",
    "    denominator = n\n",
    "    remainder   = 1 # initial remainder\n",
    "    quotient    = 0 # dummy\n",
    "    repeat = set()\n",
    "    l = []\n",
    "    while not quotient in repeat:\n",
    "        repeat.add(quotient)\n",
    "        numerator = remainder * base\n",
    "        quotient, remainder = divmod(numerator, denominator)\n",
    "        l.append(quotient)\n",
    "        if remainder == 0:\n",
    "            l.append(0)\n",
    "            break\n",
    "    return l"
   ]
  },
  {
   "cell_type": "code",
   "execution_count": 3,
   "id": "b46f9988",
   "metadata": {},
   "outputs": [
    {
     "data": {
      "text/plain": [
       "[5, 0]"
      ]
     },
     "execution_count": 3,
     "metadata": {},
     "output_type": "execute_result"
    }
   ],
   "source": [
    "inverse(2)"
   ]
  },
  {
   "cell_type": "code",
   "execution_count": 4,
   "id": "7ff08050",
   "metadata": {},
   "outputs": [
    {
     "name": "stdout",
     "output_type": "stream",
     "text": [
      "3\n"
     ]
    }
   ],
   "source": [
    "lst = [1,2,3,4,5]\n",
    "print(next(filter(lambda x: x%3==0, lst)))"
   ]
  },
  {
   "cell_type": "code",
   "execution_count": 10,
   "id": "8e7a5664",
   "metadata": {},
   "outputs": [],
   "source": [
    "test=[1,2,3,6,58,78,50,65,36,79,100]\n",
    "g=(x for x in test if x%5==0)"
   ]
  },
  {
   "cell_type": "code",
   "execution_count": 11,
   "id": "6681e0ba",
   "metadata": {},
   "outputs": [
    {
     "data": {
      "text/plain": [
       "50"
      ]
     },
     "execution_count": 11,
     "metadata": {},
     "output_type": "execute_result"
    }
   ],
   "source": [
    "next(g)"
   ]
  },
  {
   "cell_type": "code",
   "execution_count": null,
   "id": "78948961",
   "metadata": {},
   "outputs": [],
   "source": []
  },
  {
   "cell_type": "code",
   "execution_count": 14,
   "id": "5ec95c29",
   "metadata": {},
   "outputs": [
    {
     "data": {
      "text/plain": [
       "[1, 4, 2, 8, 5, 7, 1]"
      ]
     },
     "execution_count": 14,
     "metadata": {},
     "output_type": "execute_result"
    }
   ],
   "source": [
    "base = 10\n",
    "denominator = 7\n",
    "remainder   = 1 # initial remainder\n",
    "quotient    = 0 # dummy\n",
    "repeat = set()\n",
    "l = []\n",
    "while not quotient in repeat:\n",
    "    repeat.add(quotient)\n",
    "    numerator = remainder * base\n",
    "    quotient, remainder = divmod(numerator, denominator)\n",
    "    l.append(quotient)\n",
    "    if remainder == 0:\n",
    "        l.append(0)\n",
    "        break\n",
    "l"
   ]
  },
  {
   "cell_type": "code",
   "execution_count": 102,
   "id": "531e0add",
   "metadata": {},
   "outputs": [],
   "source": [
    "def inverse(n, base=10):\n",
    "    denominator = n\n",
    "    remainder   = 1 # initial remainder\n",
    "    quotient    = 0 # dummy\n",
    "    #rpt = set()\n",
    "    #while not quotient in rpt:\n",
    "    while True: \n",
    "        #rpt.add(quotient)\n",
    "        numerator = remainder * base\n",
    "        quotient, remainder = divmod(numerator, denominator)\n",
    "        yield quotient\n",
    "        #if remainder == 0:\n",
    "        #    yield 0\n",
    "        #    break"
   ]
  },
  {
   "cell_type": "code",
   "execution_count": 101,
   "id": "1b6f550c",
   "metadata": {},
   "outputs": [
    {
     "data": {
      "text/plain": [
       "[2, 0]"
      ]
     },
     "execution_count": 101,
     "metadata": {},
     "output_type": "execute_result"
    }
   ],
   "source": [
    "list(inverse(5))"
   ]
  },
  {
   "cell_type": "code",
   "execution_count": null,
   "id": "66fba499",
   "metadata": {},
   "outputs": [],
   "source": []
  },
  {
   "cell_type": "code",
   "execution_count": 53,
   "id": "8cccf4da",
   "metadata": {},
   "outputs": [
    {
     "data": {
      "text/plain": [
       "[5]"
      ]
     },
     "execution_count": 53,
     "metadata": {},
     "output_type": "execute_result"
    }
   ],
   "source": [
    "list(takewhile(lambda x: x!=0, inverse(2)))"
   ]
  },
  {
   "cell_type": "code",
   "execution_count": 104,
   "id": "ba8a6271",
   "metadata": {},
   "outputs": [
    {
     "data": {
      "text/plain": [
       "[5, 0]"
      ]
     },
     "execution_count": 104,
     "metadata": {},
     "output_type": "execute_result"
    }
   ],
   "source": [
    "rpt = set()\n",
    "list(takewhile(lambda x: not(x in rpt or (rpt.add(x) is not None)), inverse(2)))"
   ]
  },
  {
   "cell_type": "code",
   "execution_count": 55,
   "id": "fe545c66",
   "metadata": {},
   "outputs": [],
   "source": [
    "rpt = set(range(10))"
   ]
  },
  {
   "cell_type": "code",
   "execution_count": 85,
   "id": "c82af2fe",
   "metadata": {},
   "outputs": [],
   "source": [
    "rpt.remove(0)"
   ]
  },
  {
   "cell_type": "code",
   "execution_count": 87,
   "id": "55fec6b3",
   "metadata": {},
   "outputs": [
    {
     "data": {
      "text/plain": [
       "True"
      ]
     },
     "execution_count": 87,
     "metadata": {},
     "output_type": "execute_result"
    }
   ],
   "source": [
    "0 in rpt or (rpt.add(0) is not None)"
   ]
  },
  {
   "cell_type": "code",
   "execution_count": 79,
   "id": "872b0008",
   "metadata": {},
   "outputs": [
    {
     "data": {
      "text/plain": [
       "NoneType"
      ]
     },
     "execution_count": 79,
     "metadata": {},
     "output_type": "execute_result"
    }
   ],
   "source": [
    "type(rpt.add(0))"
   ]
  },
  {
   "cell_type": "code",
   "execution_count": null,
   "id": "7cd070e0",
   "metadata": {},
   "outputs": [],
   "source": []
  },
  {
   "cell_type": "code",
   "execution_count": 48,
   "id": "044f14c0",
   "metadata": {},
   "outputs": [],
   "source": [
    "g=inverse(7)"
   ]
  },
  {
   "cell_type": "code",
   "execution_count": 49,
   "id": "421f71de",
   "metadata": {},
   "outputs": [
    {
     "data": {
      "text/plain": [
       "1"
      ]
     },
     "execution_count": 49,
     "metadata": {},
     "output_type": "execute_result"
    }
   ],
   "source": [
    "next(g)"
   ]
  },
  {
   "cell_type": "code",
   "execution_count": 50,
   "id": "ad9840af",
   "metadata": {},
   "outputs": [
    {
     "data": {
      "text/plain": [
       "[4, 2, 8, 5, 7, 1]"
      ]
     },
     "execution_count": 50,
     "metadata": {},
     "output_type": "execute_result"
    }
   ],
   "source": [
    "list(g)"
   ]
  },
  {
   "cell_type": "code",
   "execution_count": null,
   "id": "fa13c2a7",
   "metadata": {},
   "outputs": [],
   "source": []
  },
  {
   "cell_type": "code",
   "execution_count": 17,
   "id": "dfc0f349",
   "metadata": {},
   "outputs": [],
   "source": [
    "from itertools import accumulate, repeat, takewhile"
   ]
  },
  {
   "cell_type": "code",
   "execution_count": 20,
   "id": "b45b6367",
   "metadata": {},
   "outputs": [],
   "source": [
    "r=repeat(1)"
   ]
  },
  {
   "cell_type": "code",
   "execution_count": 21,
   "id": "7415755e",
   "metadata": {},
   "outputs": [
    {
     "data": {
      "text/plain": [
       "1"
      ]
     },
     "execution_count": 21,
     "metadata": {},
     "output_type": "execute_result"
    }
   ],
   "source": [
    "next(r)"
   ]
  },
  {
   "cell_type": "code",
   "execution_count": 23,
   "id": "4e6b6c2e",
   "metadata": {},
   "outputs": [
    {
     "data": {
      "text/plain": [
       "1"
      ]
     },
     "execution_count": 23,
     "metadata": {},
     "output_type": "execute_result"
    }
   ],
   "source": [
    "next(r)"
   ]
  },
  {
   "cell_type": "code",
   "execution_count": 35,
   "id": "366f9bc7",
   "metadata": {},
   "outputs": [
    {
     "data": {
      "text/plain": [
       "[1, 2, 3, 4, 5, 6, 7, 8, 9, 10]"
      ]
     },
     "execution_count": 35,
     "metadata": {},
     "output_type": "execute_result"
    }
   ],
   "source": [
    "list(accumulate(repeat(1,10)))"
   ]
  },
  {
   "cell_type": "code",
   "execution_count": 45,
   "id": "0628e245",
   "metadata": {},
   "outputs": [
    {
     "data": {
      "text/plain": [
       "[1, 1, 1, 1, 1, 1, 1, 1, 1, 1]"
      ]
     },
     "execution_count": 45,
     "metadata": {},
     "output_type": "execute_result"
    }
   ],
   "source": [
    "list(accumulate(repeat(1,10), lambda x, y: x//y))"
   ]
  },
  {
   "cell_type": "code",
   "execution_count": 32,
   "id": "df28c795",
   "metadata": {},
   "outputs": [],
   "source": [
    "import operator"
   ]
  },
  {
   "cell_type": "code",
   "execution_count": null,
   "id": "0b10698c",
   "metadata": {},
   "outputs": [],
   "source": []
  }
 ],
 "metadata": {
  "kernelspec": {
   "display_name": "Python 3 (ipykernel)",
   "language": "python",
   "name": "python3"
  },
  "language_info": {
   "codemirror_mode": {
    "name": "ipython",
    "version": 3
   },
   "file_extension": ".py",
   "mimetype": "text/x-python",
   "name": "python",
   "nbconvert_exporter": "python",
   "pygments_lexer": "ipython3",
   "version": "3.9.12"
  },
  "toc": {
   "base_numbering": 1,
   "nav_menu": {},
   "number_sections": true,
   "sideBar": true,
   "skip_h1_title": false,
   "title_cell": "Table of Contents",
   "title_sidebar": "Contents",
   "toc_cell": false,
   "toc_position": {},
   "toc_section_display": true,
   "toc_window_display": false
  }
 },
 "nbformat": 4,
 "nbformat_minor": 5
}
