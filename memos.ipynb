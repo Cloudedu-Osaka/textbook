{
 "cells": [
  {
   "cell_type": "code",
   "execution_count": null,
   "id": "4d4a1ffa",
   "metadata": {},
   "outputs": [],
   "source": []
  },
  {
   "cell_type": "markdown",
   "id": "3a84af94",
   "metadata": {},
   "source": [
    "## Z3 Solver\n",
    "* [Z3Prover/z3: The Z3 Theorem Prover](https://github.com/z3prover/z3)\n",
    "* [CTF/Toolkit/z3py - 電気通信大学MMA](https://wiki.mma.club.uec.ac.jp/CTF/Toolkit/z3py#A.2Be5eIU28Ue5c-)\n",
    "* [PythonでSMTソルバ (z3py) 入門](https://zenn.dev/ochamikan/articles/42ef29b944ed57)"
   ]
  },
  {
   "cell_type": "markdown",
   "id": "24e6c996",
   "metadata": {},
   "source": [
    "## Plotting\n",
    "* [ipywidgets — Jupyter Widgets 7.7.0 documentation](https://ipywidgets.readthedocs.io/en/stable/)\n",
    "* [Dash Documentation & User Guide | Plotly](https://dash.plotly.com/)"
   ]
  },
  {
   "cell_type": "markdown",
   "id": "ec9d91e0",
   "metadata": {},
   "source": [
    "## other activities\n",
    "* [Jupyter Notebook の利用法 - HEROIC 2021](https://home.hirosaki-u.ac.jp/heroic-2020/jupyter/)"
   ]
  },
  {
   "cell_type": "markdown",
   "id": "448f6923",
   "metadata": {},
   "source": [
    "### Plotting\n",
    "* [Matplotlib tutorial](https://www.stat.berkeley.edu/~nelle/teaching/2017-visualization/README.html)"
   ]
  },
  {
   "cell_type": "markdown",
   "id": "b6772a54",
   "metadata": {},
   "source": [
    "### scoping\n",
    "* [scoping · PyPI](https://pypi.org/project/scoping/)\n",
    "* [GitHub - l74d/scoping: Probably the best solution to Python block scoping](https://github.com/l74d/scoping)"
   ]
  },
  {
   "cell_type": "markdown",
   "id": "102edb9c",
   "metadata": {},
   "source": [
    "* [PEP 3113 – Removal of Tuple Parameter Unpacking | peps.python.org](https://peps.python.org/pep-3113/)"
   ]
  },
  {
   "cell_type": "markdown",
   "id": "2d370556",
   "metadata": {},
   "source": [
    "* HoMI: History of Mathematics in India\n",
    "  * [Home](https://sites.iitgn.ac.in/homi/index.html) \n",
    "  * [GitHub - HrushikeshPawar/Sexagesimal-Calculator: This was built as a summer project for the HoMI initiative at the Indian Institute of Technology, Gandhinagar](https://github.com/HrushikeshPawar/Sexagesimal-Calculator)"
   ]
  },
  {
   "cell_type": "markdown",
   "id": "326ed58b",
   "metadata": {},
   "source": [
    "* [【Python】記数法の変換（10進数⇔n進数） - 理系のための備忘録](https://science-log.com/python%E3%83%97%E3%83%AD%E3%82%B0%E3%83%A9%E3%83%9F%E3%83%B3%E3%82%B0tips%E9%9B%86/%E3%80%90python%E3%80%91%E8%A8%98%E6%95%B0%E6%B3%95%E3%81%AE%E5%A4%89%E6%8F%9B/)"
   ]
  },
  {
   "cell_type": "markdown",
   "id": "d4a9e428",
   "metadata": {},
   "source": [
    "* [History of Mathematics | Mathematical Association of America](https://www.maa.org/tags/history-of-mathematics)\n",
    "  * [Logarithms: The Early History of a Familiar Function - John Napier Introduces Logarithms | Mathematical Association of America](https://www.maa.org/press/periodicals/convergence/logarithms-the-early-history-of-a-familiar-function-john-napier-introduces-logarithms)\n",
    "* [math history - Motivation for Napier's Logarithms - Mathematics Stack Exchange](https://math.stackexchange.com/questions/47927/motivation-for-napiers-logarithms)\n",
    "* [Benjamin Banneker's Trigonometry Puzzle - Conclusion ](https://www.maa.org/book/export/html/116025)"
   ]
  },
  {
   "cell_type": "markdown",
   "id": "d504d71e",
   "metadata": {},
   "source": [
    "# DD, DMS, DDM\n",
    "\n",
    "* [Decimal degrees - Wikipedia](https://en.wikipedia.org/wiki/Decimal_degrees)\n",
    "* [Geographic coordinate conversion - Wikipedia](https://en.wikipedia.org/wiki/Geographic_coordinate_conversion)"
   ]
  },
  {
   "cell_type": "markdown",
   "id": "477d2bdd",
   "metadata": {},
   "source": [
    "# R=10,000,000\n",
    "\n",
    "* [The Rise of “the Mathematicals”: Placing Maths into the Hands of Practitioners—The Invention and Popularization of Sectors and Scales | SpringerLink](https://link.springer.com/chapter/10.1007/978-3-319-22258-5_3)\n",
    "* Sinus Totus (the total Sine: R)\n",
    "  * [Indian Values of the Sinus Totus | SpringerLink](https://link.springer.com/chapter/10.1007/978-981-13-1229-8_39)\n",
    "  \n",
    "$$\n",
    "  R = \\frac{C}{2 \\pi}\n",
    "$$"
   ]
  },
  {
   "cell_type": "markdown",
   "id": "feecf3df",
   "metadata": {},
   "source": [
    "$$\n",
    "  \\pi = \\frac{62832}{20000} = \\frac{2^4 \\cdot 3 \\cdot 7 \\cdot 11 \\cdot 17}{2 00 00} = \\frac{2^4 \\cdot 3 \\cdot 1309}{20000} = 3.1416\n",
    "$$"
   ]
  },
  {
   "cell_type": "code",
   "execution_count": 1,
   "id": "98a08812",
   "metadata": {},
   "outputs": [
    {
     "data": {
      "text/plain": [
       "3.1416"
      ]
     },
     "execution_count": 1,
     "metadata": {},
     "output_type": "execute_result"
    }
   ],
   "source": [
    "62832/20000"
   ]
  },
  {
   "cell_type": "markdown",
   "id": "9863188f",
   "metadata": {},
   "source": [
    "$$\n",
    "  R = \\frac{360}{2 \\pi} = \\frac{360 \\cdot 20000}{2 \\cdot 62832} = \\frac{75000}{1309} = 57 + \\frac{387}{1309}\n",
    "$$"
   ]
  },
  {
   "cell_type": "code",
   "execution_count": 5,
   "id": "d7e688c1",
   "metadata": {},
   "outputs": [
    {
     "data": {
      "text/plain": [
       "0.838670567945424"
      ]
     },
     "execution_count": 5,
     "metadata": {},
     "output_type": "execute_result"
    }
   ],
   "source": [
    "import math\n",
    "math.sin(math.radians(57))"
   ]
  },
  {
   "cell_type": "code",
   "execution_count": 14,
   "id": "5be2ef12",
   "metadata": {},
   "outputs": [
    {
     "data": {
      "text/plain": [
       "[0.0,\n",
       " 0.009948212638374358,\n",
       " 0.01989544070827764,\n",
       " 0.029840699738680886,\n",
       " 0.03978300545342979,\n",
       " 0.04972137386865786,\n",
       " 0.0596548213901707,\n",
       " 0.06958236491079174,\n",
       " 0.07950302190765976,\n",
       " 0.08941581053946852,\n",
       " 0.09931974974363902,\n",
       " 0.10921385933341468,\n",
       " 0.11909716009486973,\n",
       " 0.1289686738838216,\n",
       " 0.138827423722637,\n",
       " 0.148672433896923,\n",
       " 0.1585027300520927,\n",
       " 0.16831733928979672,\n",
       " 0.17811529026421014,\n",
       " 0.1878956132781661,\n",
       " 0.1976573403791262,\n",
       " 0.20739950545497787,\n",
       " 0.21712114432965043,\n",
       " 0.22682129485853836,\n",
       " 0.23649899702372468,\n",
       " 0.24615329302899305,\n",
       " 0.2557832273946203,\n",
       " 0.2653878470519398,\n",
       " 0.274966201437666,\n",
       " 0.28451734258797096,\n",
       " 0.294040325232304,\n",
       " 0.3035342068869443,\n",
       " 0.3129980479482782,\n",
       " 0.3224309117857909,\n",
       " 0.33183186483476446,\n",
       " 0.34119997668867186,\n",
       " 0.350534320191259,\n",
       " 0.35983397152830476,\n",
       " 0.36909801031905004,\n",
       " 0.3783255197072878,\n",
       " 0.38751558645210304,\n",
       " 0.3966673010182564,\n",
       " 0.40577975766619995,\n",
       " 0.4148520545417177,\n",
       " 0.42388329376518163,\n",
       " 0.43287258152041397,\n",
       " 0.44181902814314816,\n",
       " 0.45072174820907807,\n",
       " 0.45957986062148787,\n",
       " 0.46839248869845374,\n",
       " 0.47715876025960846,\n",
       " 0.48587780771246053,\n",
       " 0.4945487681382596,\n",
       " 0.5031707833773985,\n",
       " 0.5117430001143449,\n",
       " 0.5202645699620939,\n",
       " 0.5287346495461317,\n",
       " 0.5371524005879043,\n",
       " 0.5455169899877811,\n",
       " 0.5538275899075065,\n",
       " 0.5620833778521306,\n",
       " 0.5702835367514107,\n",
       " 0.5784272550406766,\n",
       " 0.5865137267411502,\n",
       " 0.5945421515397132,\n",
       " 0.6025117348681135,\n",
       " 0.6104216879816026,\n",
       " 0.618271228036998,\n",
       " 0.6260595781701602,\n",
       " 0.6337859675728788,\n",
       " 0.6414496315691579,\n",
       " 0.6490498116908974,\n",
       " 0.6565857557529565,\n",
       " 0.6640567179275978,\n",
       " 0.6714619588183013,\n",
       " 0.6788007455329417,\n",
       " 0.686072351756323,\n",
       " 0.6932760578220604,\n",
       " 0.7004111507838064,\n",
       " 0.7074769244858096,\n",
       " 0.7144726796328034,\n",
       " 0.7213977238592142,\n",
       " 0.7282513717976846,\n",
       " 0.735032945146904,\n",
       " 0.7417417727387392,\n",
       " 0.7483771906046599,\n",
       " 0.7549385420414512,\n",
       " 0.7614251776762069,\n",
       " 0.7678364555305975,\n",
       " 0.7741717410844068,\n",
       " 0.7804304073383297,\n",
       " 0.786611834876026,\n",
       " 0.7927154119254235,\n",
       " 0.7987405344192648,\n",
       " 0.8046866060548918,\n",
       " 0.8105530383532606,\n",
       " 0.8163392507171839,\n",
       " 0.8220446704887916,\n",
       " 0.8276687330062065,\n",
       " 0.833210881659429]"
      ]
     },
     "execution_count": 14,
     "metadata": {},
     "output_type": "execute_result"
    }
   ],
   "source": [
    "import numpy as np\n",
    "[math.sin(math.radians(57)*i/100) for i in range(0,100)]"
   ]
  },
  {
   "cell_type": "code",
   "execution_count": 26,
   "id": "564523df",
   "metadata": {},
   "outputs": [
    {
     "data": {
      "text/plain": [
       "[<matplotlib.lines.Line2D at 0x7f815a20b5b0>,\n",
       " <matplotlib.lines.Line2D at 0x7f815a20b5e0>]"
      ]
     },
     "execution_count": 26,
     "metadata": {},
     "output_type": "execute_result"
    },
    {
     "data": {
      "image/png": "[encoded data removed]",
      "text/plain": [
       "<Figure size 432x288 with 1 Axes>"
      ]
     },
     "metadata": {
      "needs_background": "light"
     },
     "output_type": "display_data"
    }
   ],
   "source": [
    "import matplotlib.pyplot as plt\n",
    "\n",
    "t = np.arange(0., math.radians(57), 0.1)\n",
    "plt.figure()\n",
    "plt.subplot(211)\n",
    "plt.plot(t, t, 'k', t, np.sin(t), 'k')\n",
    "\n",
    "#[math.sin(math.radians(57)*i/100) for i in range(0,100)]"
   ]
  },
  {
   "cell_type": "code",
   "execution_count": 21,
   "id": "a3e2e12a",
   "metadata": {},
   "outputs": [
    {
     "data": {
      "text/plain": [
       "0.0"
      ]
     },
     "execution_count": 21,
     "metadata": {},
     "output_type": "execute_result"
    }
   ],
   "source": [
    "math.sin(0)"
   ]
  },
  {
   "cell_type": "code",
   "execution_count": 22,
   "id": "8afab6b7",
   "metadata": {},
   "outputs": [
    {
     "ename": "TypeError",
     "evalue": "only size-1 arrays can be converted to Python scalars",
     "output_type": "error",
     "traceback": [
      "\u001b[0;31m---------------------------------------------------------------------------\u001b[0m",
      "\u001b[0;31mTypeError\u001b[0m                                 Traceback (most recent call last)",
      "\u001b[0;32m/var/folders/s8/67tp1kjd0pq2lymz2y_34fg00000gn/T/ipykernel_60395/2157244225.py\u001b[0m in \u001b[0;36m<module>\u001b[0;34m\u001b[0m\n\u001b[0;32m----> 1\u001b[0;31m \u001b[0mf\u001b[0m\u001b[0;34m(\u001b[0m\u001b[0mt\u001b[0m\u001b[0;34m)\u001b[0m\u001b[0;34m\u001b[0m\u001b[0;34m\u001b[0m\u001b[0m\n\u001b[0m",
      "\u001b[0;32m/var/folders/s8/67tp1kjd0pq2lymz2y_34fg00000gn/T/ipykernel_60395/634106987.py\u001b[0m in \u001b[0;36mf\u001b[0;34m(x)\u001b[0m\n\u001b[1;32m      2\u001b[0m \u001b[0;34m\u001b[0m\u001b[0m\n\u001b[1;32m      3\u001b[0m \u001b[0;32mdef\u001b[0m \u001b[0mf\u001b[0m\u001b[0;34m(\u001b[0m\u001b[0mx\u001b[0m\u001b[0;34m)\u001b[0m\u001b[0;34m:\u001b[0m\u001b[0;34m\u001b[0m\u001b[0;34m\u001b[0m\u001b[0m\n\u001b[0;32m----> 4\u001b[0;31m     \u001b[0;32mreturn\u001b[0m \u001b[0mmath\u001b[0m\u001b[0;34m.\u001b[0m\u001b[0msin\u001b[0m\u001b[0;34m(\u001b[0m\u001b[0mx\u001b[0m\u001b[0;34m)\u001b[0m\u001b[0;34m\u001b[0m\u001b[0;34m\u001b[0m\u001b[0m\n\u001b[0m\u001b[1;32m      5\u001b[0m \u001b[0;34m\u001b[0m\u001b[0m\n\u001b[1;32m      6\u001b[0m \u001b[0mt\u001b[0m \u001b[0;34m=\u001b[0m \u001b[0mnp\u001b[0m\u001b[0;34m.\u001b[0m\u001b[0marange\u001b[0m\u001b[0;34m(\u001b[0m\u001b[0;36m0.\u001b[0m\u001b[0;34m,\u001b[0m \u001b[0mmath\u001b[0m\u001b[0;34m.\u001b[0m\u001b[0mradians\u001b[0m\u001b[0;34m(\u001b[0m\u001b[0;36m57\u001b[0m\u001b[0;34m)\u001b[0m\u001b[0;34m,\u001b[0m \u001b[0;36m0.1\u001b[0m\u001b[0;34m)\u001b[0m\u001b[0;34m\u001b[0m\u001b[0;34m\u001b[0m\u001b[0m\n",
      "\u001b[0;31mTypeError\u001b[0m: only size-1 arrays can be converted to Python scalars"
     ]
    }
   ],
   "source": [
    "f(t)"
   ]
  },
  {
   "cell_type": "markdown",
   "id": "beb25d60",
   "metadata": {},
   "source": [
    "# DD to DMS\n",
    "\n",
    "* [GIS in Python: Intro to Coordinate Reference Systems in Python | Earth Data Science - Earth Lab](https://www.earthdatascience.org/courses/use-data-open-source-python/intro-vector-data-python/spatial-data-vector-shapefiles/intro-to-coordinate-reference-systems-python/)\n",
    "* [dms2dec · PyPI](https://pypi.org/project/dms2dec/)\n",
    "* [angle - Convert DD (decimal degrees) to DMS (degrees minutes seconds) in Python? - Stack Overflow](https://stackoverflow.com/questions/2579535/convert-dd-decimal-degrees-to-dms-degrees-minutes-seconds-in-python)\n",
    "* [python - How to convert degree minute second to degree decimal - Stack Overflow](https://stackoverflow.com/questions/33997361/how-to-convert-degree-minute-second-to-degree-decimal)"
   ]
  },
  {
   "cell_type": "code",
   "execution_count": null,
   "id": "1f097bb0",
   "metadata": {},
   "outputs": [],
   "source": []
  }
 ],
 "metadata": {
  "kernelspec": {
   "display_name": "Python 3 (ipykernel)",
   "language": "python",
   "name": "python3"
  },
  "language_info": {
   "codemirror_mode": {
    "name": "ipython",
    "version": 3
   },
   "file_extension": ".py",
   "mimetype": "text/x-python",
   "name": "python",
   "nbconvert_exporter": "python",
   "pygments_lexer": "ipython3",
   "version": "3.9.12"
  },
  "toc": {
   "base_numbering": 1,
   "nav_menu": {},
   "number_sections": true,
   "sideBar": true,
   "skip_h1_title": false,
   "title_cell": "Table of Contents",
   "title_sidebar": "Contents",
   "toc_cell": false,
   "toc_position": {},
   "toc_section_display": true,
   "toc_window_display": false
  }
 },
 "nbformat": 4,
 "nbformat_minor": 5
}
