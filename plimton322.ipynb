{
 "cells": [
  {
   "cell_type": "markdown",
   "id": "eec1c8f5",
   "metadata": {},
   "source": [
    "# Plimpton 322 (1)"
   ]
  },
  {
   "cell_type": "markdown",
   "id": "093352ac",
   "metadata": {},
   "source": [
    "* [A Remarkable Collection of Babylonian Mathematical Texts: Manuscripts in the Schøyen Collection: Cuneiform Texts I (Sources and Studies in the History of Mathematics and Physical Sciences): Friberg, Jöran: 9780387345437: Books - Amazon](https://www.amazon.com/Remarkable-Collection-Babylonian-Mathematical-Texts-dp-0387345434/dp/0387345434/ref=mt_other?_encoding=UTF8&me=&qid=)"
   ]
  },
  {
   "cell_type": "code",
   "execution_count": 26,
   "id": "240236bb",
   "metadata": {},
   "outputs": [],
   "source": [
    "import pandas as pd\n",
    "import requests"
   ]
  },
  {
   "cell_type": "code",
   "execution_count": 27,
   "id": "24547ad0",
   "metadata": {},
   "outputs": [],
   "source": [
    "res = requests.get(\"https://en.wikipedia.org/wiki/Plimpton_322\").text"
   ]
  },
  {
   "cell_type": "code",
   "execution_count": 28,
   "id": "821b2861",
   "metadata": {},
   "outputs": [
    {
     "data": {
      "text/plain": [
       "'<!DOCTYPE html>\\n<html class=\"client-nojs\" lang=\"en\" dir=\"ltr\">\\n<head>\\n<meta charset=\"UTF-8\"/>\\n<title>Plimpton 322 - Wikipedia</title>\\n<script>document.documentElement.className=\"client-js\";RLCONF={\"wgBreakFrames\":false,\"wgSeparatorTransformTable\":[\"\",\"\"],\"wgDigitTransformTable\":[\"\",\"\"],\"wgDefaultDateFormat\":\"dmy\",\"wgMonthNames\":[\"\",\"January\",\"February\",\"March\",\"April\",\"May\",\"June\",\"July\",\"August\",\"September\",\"October\",\"November\",\"December\"],\"wgRequestId\":\"142db0a1-ae7c-409c-ae3c-8355b1b1179e\",\"wgCSPNonce\":false,\"wgCanonicalNamespace\":\"\",\"wgCanonicalSpecialPageName\":false,\"wgNamespaceNumber\":0,\"wgPageName\":\"Plimpton_322\",\"wgTitle\":\"Plimpton 322\",\"wgCurRevisionId\":1075466054,\"wgRevisionId\":1075466054,\"wgArticleId\":2983547,\"wgIsArticle\":true,\"wgIsRedirect\":false,\"wgAction\":\"view\",\"wgUserName\":null,\"wgUserGroups\":[\"*\"],\"wgCategories\":[\"Articles with short description\",\"Short description is different from Wikidata\",\"Babylonian mathematics\",\"Mathematics manuscripts\",\"Clay tablets\",\"18th-century BC works\",\"1922 in Iraq\",\"1922 archaeological discoveries\",\"Columbia University Libraries\",\"Dhi Qar Governorate\"],\"wgPageContentLanguage\":\\n\"en\",\"wgPageContentModel\":\"wikitext\",\"wgRelevantPageName\":\"Plimpton_322\",\"wgRelevantArticleId\":2983547,\"wgIsProbablyEditable\":true,\"wgRelevantPageIsProbablyEditable\":true,\"wgRestrictionEdit\":[],\"wgRestrictionMove\":[],\"wgFlaggedRevsParams\":{\"tags\":{\"status\":{\"levels\":1}}},\"wgVisualEditor\":{\"pageLanguageCode\":\"en\",\"pageLanguageDir\":\"ltr\",\"pageVariantFallbacks\":\"en\"},\"wgMFDisplayWikibaseDescriptions\":{\"search\":true,\"nearby\":true,\"watchlist\":true,\"tagline\":false},\"wgWMESchemaEditAttemptStepOversample\":false,\"wgWMEPageLength\":40000,\"wgNoticeProject\":\"wikipedia\",\"wgMediaViewerOnClick\":true,\"wgMediaViewerEnabledByDefault\":true,\"wgPopupsFlags\":10,\"wgULSCurrentAutonym\":\"English\",\"wgEditSubmitButtonLabelPublish\":true,\"wgCentralAuthMobileDomain\":false,\"wgULSPosition\":\"interlanguage\",\"wgULSisCompactLinksEnabled\":true,\"wgWikibaseItemId\":\"Q1470425\"};RLSTATE={\"ext.globalCssJs.user.styles\":\"ready\",\"site.styles\":\"ready\",\"user.styles\":\"ready\",\"ext.globalCssJs.user\":\"ready\",\"user\":\"ready\",\"user.options\":\\n\"loading\",\"ext.cite.styles\":\"ready\",\"ext.math.styles\":\"ready\",\"skins.vector.styles.legacy\":\"ready\",\"ext.visualEditor.desktopArticleTarget.noscript\":\"ready\",\"ext.wikimediaBadges\":\"ready\",\"ext.uls.interlanguage\":\"ready\",\"wikibase.client.init\":\"ready\"};RLPAGEMODULES=[\"ext.cite.ux-enhancements\",\"ext.math.scripts\",\"ext.scribunto.logs\",\"site\",\"mediawiki.page.ready\",\"mediawiki.toc\",\"skins.vector.legacy.js\",\"mmv.head\",\"mmv.bootstrap.autostart\",\"ext.visualEditor.desktopArticleTarget.init\",\"ext.visualEditor.targetLoader\",\"ext.eventLogging\",\"ext.wikimediaEvents\",\"ext.navigationTiming\",\"ext.cx.eventlogging.campaigns\",\"ext.centralNotice.geoIP\",\"ext.centralNotice.startUp\",\"ext.gadget.ReferenceTooltips\",\"ext.gadget.charinsert\",\"ext.gadget.extra-toolbar-buttons\",\"ext.gadget.refToolbar\",\"ext.gadget.switcher\",\"ext.centralauth.centralautologin\",\"ext.popups\",\"ext.uls.compactlinks\",\"ext.uls.interface\",\"ext.growthExperiments.SuggestedEditSession\"];</script>\\n<script>(RLQ=window.RLQ||[]).push(function(){mw.loader.implement(\"user.options@1i9g4\",function($,jQuery,require,module){mw.user.tokens.set({\"patrolToken\":\"+\\\\\\\\\",\"watchToken\":\"+\\\\\\\\\",\"csrfToken\":\"+\\\\\\\\\"});});});</script>\\n<link rel=\"stylesheet\" href=\"/w/load.php?lang=en&amp;modules=ext.cite.styles%7Cext.math.styles%7Cext.uls.interlanguage%7Cext.visualEditor.desktopArticleTarget.noscript%7Cext.wikimediaBadges%7Cskins.vector.styles.legacy%7Cwikibase.client.init&amp;only=styles&amp;skin=vector\"/>\\n<script async=\"\" src=\"/w/load.php?lang=en&amp;modules=startup&amp;only=scripts&amp;raw=1&amp;skin=vector\"></script>\\n<meta name=\"ResourceLoaderDynamicStyles\" content=\"\"/>\\n<link rel=\"stylesheet\" href=\"/w/load.php?lang=en&amp;modules=site.styles&amp;only=styles&amp;skin=vector\"/>\\n<meta name=\"generator\" content=\"MediaWiki 1.39.0-wmf.10\"/>\\n<meta name=\"referrer\" content=\"origin\"/>\\n<meta name=\"referrer\" content=\"origin-when-crossorigin\"/>\\n<meta name=\"referrer\" content=\"origin-when-cross-origin\"/>\\n<meta name=\"format-detection\" content=\"telephone=no\"/>\\n<meta property=\"og:image\" content=\"https://upload.wikimedia.org/wikipedia/commons/c/c2/Plimpton_322.jpg\"/>\\n<meta property=\"og:image:width\" content=\"1200\"/>\\n<meta property=\"og:image:height\" content=\"832\"/>\\n<meta property=\"og:image\" content=\"https://upload.wikimedia.org/wikipedia/commons/thumb/c/c2/Plimpton_322.jpg/800px-Plimpton_322.jpg\"/>\\n<meta property=\"og:image:width\" content=\"800\"/>\\n<meta property=\"og:image:height\" content=\"555\"/>\\n<meta property=\"og:image\" content=\"https://upload.wikimedia.org/wikipedia/commons/thumb/c/c2/Plimpton_322.jpg/640px-Plimpton_322.jpg\"/>\\n<meta property=\"og:image:width\" content=\"640\"/>\\n<meta property=\"og:image:height\" content=\"444\"/>\\n<meta property=\"og:title\" content=\"Plimpton 322 - Wikipedia\"/>\\n<meta property=\"og:type\" content=\"website\"/>\\n<link rel=\"preconnect\" href=\"//upload.wikimedia.org\"/>\\n<link rel=\"alternate\" media=\"only screen and (max-width: 720px)\" href=\"//en.m.wikipedia.org/wiki/Plimpton_322\"/>\\n<link rel=\"alternate\" type=\"application/x-wiki\" title=\"Edit this page\" href=\"/w/index.php?title=Plimpton_322&amp;action=edit\"/>\\n<link rel=\"apple-touch-icon\" href=\"/static/apple-touch/wikipedia.png\"/>\\n<link rel=\"shortcut icon\" href=\"/static/favicon/wikipedia.ico\"/>\\n<link rel=\"search\" type=\"application/opensearchdescription+xml\" href=\"/w/opensearch_desc.php\" title=\"Wikipedia (en)\"/>\\n<link rel=\"EditURI\" type=\"application/rsd+xml\" href=\"//en.wikipedia.org/w/api.php?action=rsd\"/>\\n<link rel=\"license\" href=\"https://creativecommons.org/licenses/by-sa/3.0/\"/>\\n<link rel=\"canonical\" href=\"https://en.wikipedia.org/wiki/Plimpton_322\"/>\\n<link rel=\"dns-prefetch\" href=\"//meta.wikimedia.org\" />\\n<link rel=\"dns-prefetch\" href=\"//login.wikimedia.org\"/>\\n</head>\\n<body class=\"mediawiki ltr sitedir-ltr mw-hide-empty-elt ns-0 ns-subject mw-editable page-Plimpton_322 rootpage-Plimpton_322 skin-vector action-view skin-vector-legacy\"><div id=\"mw-page-base\" class=\"noprint\"></div>\\n<div id=\"mw-head-base\" class=\"noprint\"></div>\\n<div id=\"content\" class=\"mw-body\" role=\"main\">\\n\\t<a id=\"top\"></a>\\n\\t<div id=\"siteNotice\"><!-- CentralNotice --></div>\\n\\t<div class=\"mw-indicators\">\\n\\t</div>\\n\\t<h1 id=\"firstHeading\" class=\"firstHeading mw-first-heading\">Plimpton 322</h1>\\n\\t<div id=\"bodyContent\" class=\"vector-body\">\\n\\t\\t<div id=\"siteSub\" class=\"noprint\">From Wikipedia, the free encyclopedia</div>\\n\\t\\t<div id=\"contentSub\"></div>\\n\\t\\t<div id=\"contentSub2\"></div>\\n\\t\\t\\n\\t\\t<div id=\"jump-to-nav\"></div>\\n\\t\\t<a class=\"mw-jump-link\" href=\"#mw-head\">Jump to navigation</a>\\n\\t\\t<a class=\"mw-jump-link\" href=\"#searchInput\">Jump to search</a>\\n\\t\\t<div id=\"mw-content-text\" class=\"mw-body-content mw-content-ltr\" lang=\"en\" dir=\"ltr\"><div class=\"mw-parser-output\"><div class=\"shortdescription nomobile noexcerpt noprint searchaux\" style=\"display:none\">Babylonian clay tablet of numbers in Pythagorean triples</div>\\n<div class=\"thumb tright\"><div class=\"thumbinner\" style=\"width:332px;\"><a href=\"/wiki/File:Plimpton_322.jpg\" class=\"image\"><img alt=\"\" src=\"//upload.wikimedia.org/wikipedia/commons/thumb/c/c2/Plimpton_322.jpg/330px-Plimpton_322.jpg\" decoding=\"async\" width=\"330\" height=\"229\" class=\"thumbimage\" srcset=\"//upload.wikimedia.org/wikipedia/commons/thumb/c/c2/Plimpton_322.jpg/495px-Plimpton_322.jpg 1.5x, //upload.wikimedia.org/wikipedia/commons/thumb/c/c2/Plimpton_322.jpg/660px-Plimpton_322.jpg 2x\" data-file-width=\"907\" data-file-height=\"629\" /></a>  <div class=\"thumbcaption\"><div class=\"magnify\"><a href=\"/wiki/File:Plimpton_322.jpg\" class=\"internal\" title=\"Enlarge\"></a></div>The Plimpton 322 clay tablet, with numbers written in cuneiform script.</div></div></div>\\n<p><b>Plimpton 322</b> is a  <a href=\"/wiki/Babylonia\" title=\"Babylonia\">Babylonian</a> <a href=\"/wiki/Clay_tablet\" title=\"Clay tablet\">clay tablet</a>, notable as containing an example of <a href=\"/wiki/Babylonian_mathematics\" title=\"Babylonian mathematics\">Babylonian mathematics</a>. It has number 322 in the G.A. Plimpton Collection at <a href=\"/wiki/Columbia_University\" title=\"Columbia University\">Columbia University</a>.<sup id=\"cite_ref-1\" class=\"reference\"><a href=\"#cite_note-1\">&#91;1&#93;</a></sup>  This tablet, believed to have been written about 1800 BC, has a table of four columns and 15 rows of numbers in the <a href=\"/wiki/Cuneiform_script\" class=\"mw-redirect\" title=\"Cuneiform script\">cuneiform script</a> of the period.\\n</p><p>This table lists two of the three numbers in what are now called <a href=\"/wiki/Pythagorean_triples\" class=\"mw-redirect\" title=\"Pythagorean triples\">Pythagorean triples</a>, i.e., integers <span class=\"texhtml mvar\" style=\"font-style:italic;\">a</span>, <span class=\"texhtml mvar\" style=\"font-style:italic;\">b</span>, and <span class=\"texhtml mvar\" style=\"font-style:italic;\">c</span> satisfying <span class=\"texhtml\"><i>a</i><sup>2</sup> + <i>b</i><sup>2</sup> = <i>c</i><sup>2</sup></span>. From a modern perspective, a method for constructing such triples is a significant early achievement, known long before the <a href=\"/wiki/Greek_Mathematics\" class=\"mw-redirect\" title=\"Greek Mathematics\">Greek</a> and <a href=\"/wiki/Indian_Mathematics\" class=\"mw-redirect\" title=\"Indian Mathematics\">Indian</a> mathematicians discovered solutions to this problem. At the same time, one should recall the tablet\\'s author was a scribe, rather than a professional mathematician; it has been suggested that one of his goals may have been to produce examples for school problems.\\n</p><p>There has been significant scholarly debate on the nature and purpose of the tablet. For readable popular treatments of this tablet see <a href=\"#CITEREFRobson2002\">Robson (2002)</a> recipient of the <a href=\"/wiki/Paul_R._Halmos_%E2%80%93_Lester_R._Ford_Award\" title=\"Paul R. Halmos – Lester R. Ford Award\">Lester R. Ford Award</a> for expository excellence in mathematics or, more briefly, <a href=\"#CITEREFConwayGuy1996\">Conway &amp; Guy (1996)</a>. <a href=\"#CITEREFRobson2001\">Robson (2001)</a> is a more detailed and technical discussion of the interpretation of the tablet\\'s numbers, with an extensive bibliography.\\n</p>\\n<div id=\"toc\" class=\"toc\" role=\"navigation\" aria-labelledby=\"mw-toc-heading\"><input type=\"checkbox\" role=\"button\" id=\"toctogglecheckbox\" class=\"toctogglecheckbox\" style=\"display:none\" /><div class=\"toctitle\" lang=\"en\" dir=\"ltr\"><h2 id=\"mw-toc-heading\">Contents</h2><span class=\"toctogglespan\"><label class=\"toctogglelabel\" for=\"toctogglecheckbox\"></label></span></div>\\n<ul>\\n<li class=\"toclevel-1 tocsection-1\"><a href=\"#Provenance_and_dating\"><span class=\"tocnumber\">1</span> <span class=\"toctext\">Provenance and dating</span></a></li>\\n<li class=\"toclevel-1 tocsection-2\"><a href=\"#Content\"><span class=\"tocnumber\">2</span> <span class=\"toctext\">Content</span></a>\\n<ul>\\n<li class=\"toclevel-2 tocsection-3\"><a href=\"#Column_headings\"><span class=\"tocnumber\">2.1</span> <span class=\"toctext\">Column headings</span></a></li>\\n<li class=\"toclevel-2 tocsection-4\"><a href=\"#Errors\"><span class=\"tocnumber\">2.2</span> <span class=\"toctext\">Errors</span></a></li>\\n</ul>\\n</li>\\n<li class=\"toclevel-1 tocsection-5\"><a href=\"#Construction_of_the_table\"><span class=\"tocnumber\">3</span> <span class=\"toctext\">Construction of the table</span></a>\\n<ul>\\n<li class=\"toclevel-2 tocsection-6\"><a href=\"#Generating_pairs\"><span class=\"tocnumber\">3.1</span> <span class=\"toctext\">Generating pairs</span></a></li>\\n<li class=\"toclevel-2 tocsection-7\"><a href=\"#Reciprocal_pairs\"><span class=\"tocnumber\">3.2</span> <span class=\"toctext\">Reciprocal pairs</span></a></li>\\n<li class=\"toclevel-2 tocsection-8\"><a href=\"#Comparison_of_the_proposals\"><span class=\"tocnumber\">3.3</span> <span class=\"toctext\">Comparison of the proposals</span></a></li>\\n<li class=\"toclevel-2 tocsection-9\"><a href=\"#Selection_of_pairs\"><span class=\"tocnumber\">3.4</span> <span class=\"toctext\">Selection of pairs</span></a></li>\\n</ul>\\n</li>\\n<li class=\"toclevel-1 tocsection-10\"><a href=\"#Purpose_and_authorship\"><span class=\"tocnumber\">4</span> <span class=\"toctext\">Purpose and authorship</span></a></li>\\n<li class=\"toclevel-1 tocsection-11\"><a href=\"#See_also\"><span class=\"tocnumber\">5</span> <span class=\"toctext\">See also</span></a></li>\\n<li class=\"toclevel-1 tocsection-12\"><a href=\"#Notes\"><span class=\"tocnumber\">6</span> <span class=\"toctext\">Notes</span></a></li>\\n<li class=\"toclevel-1 tocsection-13\"><a href=\"#References\"><span class=\"tocnumber\">7</span> <span class=\"toctext\">References</span></a></li>\\n<li class=\"toclevel-1 tocsection-14\"><a href=\"#External_links\"><span class=\"tocnumber\">8</span> <span class=\"toctext\">External links</span></a></li>\\n<li class=\"toclevel-1 tocsection-15\"><a href=\"#Further_reading\"><span class=\"tocnumber\">9</span> <span class=\"toctext\">Further reading</span></a>\\n<ul>\\n<li class=\"toclevel-2 tocsection-16\"><a href=\"#Exhibitions\"><span class=\"tocnumber\">9.1</span> <span class=\"toctext\">Exhibitions</span></a></li>\\n</ul>\\n</li>\\n</ul>\\n</div>\\n\\n<h2><span class=\"mw-headline\" id=\"Provenance_and_dating\">Provenance and dating</span><span class=\"mw-editsection\"><span class=\"mw-editsection-bracket\">[</span><a href=\"/w/index.php?title=Plimpton_322&amp;action=edit&amp;section=1\" title=\"Edit section: Provenance and dating\">edit</a><span class=\"mw-editsection-bracket\">]</span></span></h2>\\n<p>Plimpton 322 is partly broken, approximately 13&#160;cm wide, 9&#160;cm tall, and 2&#160;cm thick. New York publisher <a href=\"/wiki/George_Arthur_Plimpton\" title=\"George Arthur Plimpton\">George Arthur Plimpton</a> purchased the tablet from an archaeological dealer, <a href=\"/wiki/Edgar_James_Banks\" title=\"Edgar James Banks\">Edgar J. Banks</a>, in about 1922, and bequeathed it with the rest of his collection to <a href=\"/wiki/Columbia_University\" title=\"Columbia University\">Columbia University</a> in the mid-1930s. According to Banks, the tablet came from Senkereh, a site in southern Iraq corresponding to the ancient city of <a href=\"/wiki/Larsa\" title=\"Larsa\">Larsa</a>.<sup id=\"cite_ref-2\" class=\"reference\"><a href=\"#cite_note-2\">&#91;2&#93;</a></sup>\\n</p><p>The tablet is believed to have been written about 1800 BC, using the <a href=\"/wiki/Middle_chronology\" class=\"mw-redirect\" title=\"Middle chronology\">middle chronology</a>,<sup id=\"cite_ref-3\" class=\"reference\"><a href=\"#cite_note-3\">&#91;3&#93;</a></sup> based in part on the style of handwriting used for its <a href=\"/wiki/Cuneiform_script\" class=\"mw-redirect\" title=\"Cuneiform script\">cuneiform script</a>: <a href=\"#CITEREFRobson2002\">Robson (2002)</a> writes that this handwriting \"is typical of documents from southern Iraq of 4000–3500 years ago.\" More specifically, based on formatting similarities with other tablets from Larsa that have explicit dates written on them, Plimpton 322 might well be from the period 1822–1784 BC.<sup id=\"cite_ref-4\" class=\"reference\"><a href=\"#cite_note-4\">&#91;4&#93;</a></sup>  <a href=\"/wiki/Eleanor_Robson\" title=\"Eleanor Robson\">Robson</a> points out that Plimpton 322 was written in the same format as other administrative, rather than mathematical, documents of the period.<sup id=\"cite_ref-5\" class=\"reference\"><a href=\"#cite_note-5\">&#91;5&#93;</a></sup>\\n</p>\\n<h2><span class=\"mw-headline\" id=\"Content\">Content</span><span class=\"mw-editsection\"><span class=\"mw-editsection-bracket\">[</span><a href=\"/w/index.php?title=Plimpton_322&amp;action=edit&amp;section=2\" title=\"Edit section: Content\">edit</a><span class=\"mw-editsection-bracket\">]</span></span></h2>\\n<p>The main content of Plimpton 322 is a table of numbers, with four columns and fifteen rows, in Babylonian <a href=\"/wiki/Sexagesimal\" title=\"Sexagesimal\">sexagesimal</a> notation. The fourth column is just a row number, in order from 1 to 15. The second and third columns are completely visible in the surviving tablet. However, the edge of the first column has been broken off, and there are two consistent extrapolations for what the missing digits could be; these interpretations differ only in whether or not each number starts with an additional digit equal to 1. With the differing extrapolations shown in parentheses, damaged portions of the first and fourth columns whose content is surmised shown in italics, and six presumed errors shown in boldface along with the generally proposed corrections in square brackets underneath, these numbers are\\n</p>\\n<div align=\"center\">\\n<table class=\"wikitable\">\\n\\n<tbody><tr style=\"vertical-align: top;\">\\n<th><i>ta</i>kiltum of the diagonal<br /> <i>from which 1 is</i> torn<br />out so that the<br />width <i>comes up</i>\\n</th>\\n<th>ÍB.SI<sub>8</sub> of the<br /> width\\n</th>\\n<th>ÍB.SI<sub>8</sub> of the<br /> diagonal\\n</th>\\n<th>its<br /> line\\n</th></tr>\\n<tr>\\n<td>(1) <i>59 00</i> 15</td>\\n<td>1 59</td>\\n<td>2 49</td>\\n<td>1st\\n</td></tr>\\n<tr style=\"vertical-align: top;\">\\n<td>(1) <i>56 56</i> 58 14 <b>56</b> 15<br /> (1) <i>56 56</i> 58 14 [50 06] 15</td>\\n<td>56 07</td>\\n<td><b>3 12 01</b><br /> [1 20 25]</td>\\n<td>2nd\\n</td></tr>\\n<tr>\\n<td>(1) <i>55 07</i> 41 15 33 45</td>\\n<td>1 16 41</td>\\n<td>1 50 49</td>\\n<td>3rd\\n</td></tr>\\n<tr>\\n<td>(1) 5<i>3</i> 10 29 32 52 16</td>\\n<td>3 31 49</td>\\n<td>5 09 01</td>\\n<td>4th\\n</td></tr>\\n<tr>\\n<td>(1) 48 54 01 40</td>\\n<td>1 05</td>\\n<td>1 37</td>\\n<td><i>5</i>th\\n</td></tr>\\n<tr>\\n<td>(1) 47 06 41 40</td>\\n<td>5 19</td>\\n<td>8 01</td>\\n<td><i>6th</i>\\n</td></tr>\\n<tr>\\n<td>(1) 43 11 56 28 26 40</td>\\n<td>38 11</td>\\n<td>59 01</td>\\n<td>7th\\n</td></tr>\\n<tr style=\"vertical-align: top;\">\\n<td>(1) 41 33 <b>59</b> 03 45<br /> (1) 41 33 [45 14] 03 45</td>\\n<td>13 19</td>\\n<td>20 49</td>\\n<td>8th\\n</td></tr>\\n<tr style=\"vertical-align: top;\">\\n<td>(1) 38 33 36 36</td>\\n<td><b>9</b> 01<br /> [8] 01</td>\\n<td>12 49</td>\\n<td>9th\\n</td></tr>\\n<tr>\\n<td>(1) 35 10 02 28 27 24 26 40</td>\\n<td>1 22 41</td>\\n<td>2 16 01</td>\\n<td>10th\\n</td></tr>\\n<tr>\\n<td>(1) 33 45</td>\\n<td>45</td>\\n<td>1 15</td>\\n<td>11th\\n</td></tr>\\n<tr>\\n<td>(1) 29 21 54 02 15</td>\\n<td>27 59</td>\\n<td>48 49</td>\\n<td>12th\\n</td></tr>\\n<tr style=\"vertical-align: top;\">\\n<td>(1) 27 00 03 45</td>\\n<td><b>7 12 01</b><br /> [2 41]</td>\\n<td>4 49</td>\\n<td>13th\\n</td></tr>\\n<tr>\\n<td>(1) 25 48 51 35 06 40</td>\\n<td>29 31</td>\\n<td>53 49</td>\\n<td>14th\\n</td></tr>\\n<tr style=\"vertical-align: top;\">\\n<td>(1) 23 13 46 40</td>\\n<td><b>56</b><br /> 56<br /> [28] (alt.)</td>\\n<td><b>53</b><br /> [1 46]<br /> 53 (alt.)</td>\\n<td><i>15</i>th\\n</td></tr></tbody></table>\\n</div>\\n<p>Note that two possible alternatives for the correction in Row 15 are shown: either 53 in the third column should be replaced with twice its value, 1&#160;46, or 56 in the second column should be replaced with half its value, 28.\\n</p><p>It is possible that additional columns were present in the broken-off part of the tablet to the left of these columns.  Babylonian sexagesimal notation did not specify the power of 60 multiplying each number, which makes the interpretation of these numbers ambiguous.  The numbers in the second and third columns are generally taken to be integers.  The numbers in the first column can only be understood as fractions, and their values all lie between 1 and 2 (assuming the initial 1 is present—they lie between 0 and 1 if it is absent).  These fractions are exact, not truncations or rounded off approximations.  The decimal translation of the tablet under these assumptions is shown below.  Most of the exact sexagesimal fractions in the first column do not have terminating decimal expansions and have been rounded to seven decimal places.\\n</p>\\n<div align=\"center\">\\n<table class=\"wikitable\">\\n\\n<tbody><tr>\\n<th><span class=\"mwe-math-element\"><span class=\"mwe-math-mathml-inline mwe-math-mathml-a11y\" style=\"display: none;\"><math xmlns=\"http://www.w3.org/1998/Math/MathML\"  alttext=\"{\\\\displaystyle d^{2}/l^{2}}\">\\n  <semantics>\\n    <mrow class=\"MJX-TeXAtom-ORD\">\\n      <mstyle displaystyle=\"true\" scriptlevel=\"0\">\\n        <msup>\\n          <mi>d</mi>\\n          <mrow class=\"MJX-TeXAtom-ORD\">\\n            <mn>2</mn>\\n          </mrow>\\n        </msup>\\n        <mrow class=\"MJX-TeXAtom-ORD\">\\n          <mo>/</mo>\\n        </mrow>\\n        <msup>\\n          <mi>l</mi>\\n          <mrow class=\"MJX-TeXAtom-ORD\">\\n            <mn>2</mn>\\n          </mrow>\\n        </msup>\\n      </mstyle>\\n    </mrow>\\n    <annotation encoding=\"application/x-tex\">{\\\\displaystyle d^{2}/l^{2}}</annotation>\\n  </semantics>\\n</math></span><img src=\"https://wikimedia.org/api/rest_v1/media/math/render/svg/9aae61b97636fda60002e4fe968883f625f70c05\" class=\"mwe-math-fallback-image-inline\" aria-hidden=\"true\" style=\"vertical-align: -0.838ex; width:5.182ex; height:3.176ex;\" alt=\"{\\\\displaystyle d^{2}/l^{2}}\"/></span> or <span class=\"mwe-math-element\"><span class=\"mwe-math-mathml-inline mwe-math-mathml-a11y\" style=\"display: none;\"><math xmlns=\"http://www.w3.org/1998/Math/MathML\"  alttext=\"{\\\\displaystyle s^{2}/l^{2}}\">\\n  <semantics>\\n    <mrow class=\"MJX-TeXAtom-ORD\">\\n      <mstyle displaystyle=\"true\" scriptlevel=\"0\">\\n        <msup>\\n          <mi>s</mi>\\n          <mrow class=\"MJX-TeXAtom-ORD\">\\n            <mn>2</mn>\\n          </mrow>\\n        </msup>\\n        <mrow class=\"MJX-TeXAtom-ORD\">\\n          <mo>/</mo>\\n        </mrow>\\n        <msup>\\n          <mi>l</mi>\\n          <mrow class=\"MJX-TeXAtom-ORD\">\\n            <mn>2</mn>\\n          </mrow>\\n        </msup>\\n      </mstyle>\\n    </mrow>\\n    <annotation encoding=\"application/x-tex\">{\\\\displaystyle s^{2}/l^{2}}</annotation>\\n  </semantics>\\n</math></span><img src=\"https://wikimedia.org/api/rest_v1/media/math/render/svg/f9978c31ca76c5ff3edee70011de8565e9201bca\" class=\"mwe-math-fallback-image-inline\" aria-hidden=\"true\" style=\"vertical-align: -0.838ex; width:5.055ex; height:3.176ex;\" alt=\"{\\\\displaystyle s^{2}/l^{2}}\"/></span>\\n</th>\\n<th>Short Side <span class=\"mwe-math-element\"><span class=\"mwe-math-mathml-inline mwe-math-mathml-a11y\" style=\"display: none;\"><math xmlns=\"http://www.w3.org/1998/Math/MathML\"  alttext=\"{\\\\displaystyle s}\">\\n  <semantics>\\n    <mrow class=\"MJX-TeXAtom-ORD\">\\n      <mstyle displaystyle=\"true\" scriptlevel=\"0\">\\n        <mi>s</mi>\\n      </mstyle>\\n    </mrow>\\n    <annotation encoding=\"application/x-tex\">{\\\\displaystyle s}</annotation>\\n  </semantics>\\n</math></span><img src=\"https://wikimedia.org/api/rest_v1/media/math/render/svg/01d131dfd7673938b947072a13a9744fe997e632\" class=\"mwe-math-fallback-image-inline\" aria-hidden=\"true\" style=\"vertical-align: -0.338ex; width:1.09ex; height:1.676ex;\" alt=\"s\"/></span>\\n</th>\\n<th>Diagonal <span class=\"mwe-math-element\"><span class=\"mwe-math-mathml-inline mwe-math-mathml-a11y\" style=\"display: none;\"><math xmlns=\"http://www.w3.org/1998/Math/MathML\"  alttext=\"{\\\\displaystyle d}\">\\n  <semantics>\\n    <mrow class=\"MJX-TeXAtom-ORD\">\\n      <mstyle displaystyle=\"true\" scriptlevel=\"0\">\\n        <mi>d</mi>\\n      </mstyle>\\n    </mrow>\\n    <annotation encoding=\"application/x-tex\">{\\\\displaystyle d}</annotation>\\n  </semantics>\\n</math></span><img src=\"https://wikimedia.org/api/rest_v1/media/math/render/svg/e85ff03cbe0c7341af6b982e47e9f90d235c66ab\" class=\"mwe-math-fallback-image-inline\" aria-hidden=\"true\" style=\"vertical-align: -0.338ex; width:1.216ex; height:2.176ex;\" alt=\"d\"/></span>\\n</th>\\n<th>Row #\\n</th></tr>\\n<tr>\\n<td>(1).9834028</td>\\n<td>119</td>\\n<td>169</td>\\n<td>1\\n</td></tr>\\n<tr>\\n<td>(1).9491586</td>\\n<td>3,367</td>\\n<td>4,825</td>\\n<td>2\\n</td></tr>\\n<tr>\\n<td>(1).9188021</td>\\n<td>4,601</td>\\n<td>6,649</td>\\n<td>3\\n</td></tr>\\n<tr>\\n<td>(1).8862479</td>\\n<td>12,709</td>\\n<td>18,541</td>\\n<td>4\\n</td></tr>\\n<tr>\\n<td>(1).8150077</td>\\n<td>65</td>\\n<td>97</td>\\n<td>5\\n</td></tr>\\n<tr>\\n<td>(1).7851929</td>\\n<td>319</td>\\n<td>481</td>\\n<td>6\\n</td></tr>\\n<tr>\\n<td>(1).7199837</td>\\n<td>2,291</td>\\n<td>3,541</td>\\n<td>7\\n</td></tr>\\n<tr>\\n<td>(1).6927094</td>\\n<td>799</td>\\n<td>1,249</td>\\n<td>8\\n</td></tr>\\n<tr>\\n<td>(1).6426694</td>\\n<td>481</td>\\n<td>769</td>\\n<td>9\\n</td></tr>\\n<tr>\\n<td>(1).5861226</td>\\n<td>4,961</td>\\n<td>8,161</td>\\n<td>10\\n</td></tr>\\n<tr>\\n<td>(1).5625</td>\\n<td>45<sup>*</sup></td>\\n<td>75<sup>*</sup></td>\\n<td>11\\n</td></tr>\\n<tr>\\n<td>(1).4894168</td>\\n<td>1,679</td>\\n<td>2,929</td>\\n<td>12\\n</td></tr>\\n<tr>\\n<td>(1).4500174</td>\\n<td>161</td>\\n<td>289</td>\\n<td>13\\n</td></tr>\\n<tr>\\n<td>(1).4302388</td>\\n<td>1,771</td>\\n<td>3,229</td>\\n<td>14\\n</td></tr>\\n<tr>\\n<td>(1).3871605</td>\\n<td>56<sup>*</sup></td>\\n<td>106<sup>*</sup></td>\\n<td>15\\n</td></tr></tbody></table>\\n</div>\\n<p><sup>*</sup>As before, an alternative possible correction to Row 15 has 28 in the second column and 53 in the third column.  The entries in the second and third columns of Row 11, unlike those of all other rows except possibly Row 15, contain a common factor.  It is possible that 45 and 1&#160;15 are to be understood as 3/4 and 5/4, which is consistent with the standard (0.75,1,1.25) scaling of the familiar <a href=\"/wiki/Special_right_triangles\" class=\"mw-redirect\" title=\"Special right triangles\">(3,4,5) right triangle</a> in Babylonian mathematics.\\n</p><p>In each row, the number in the second column can be interpreted as the shorter side <span class=\"mwe-math-element\"><span class=\"mwe-math-mathml-inline mwe-math-mathml-a11y\" style=\"display: none;\"><math xmlns=\"http://www.w3.org/1998/Math/MathML\"  alttext=\"{\\\\displaystyle s}\">\\n  <semantics>\\n    <mrow class=\"MJX-TeXAtom-ORD\">\\n      <mstyle displaystyle=\"true\" scriptlevel=\"0\">\\n        <mi>s</mi>\\n      </mstyle>\\n    </mrow>\\n    <annotation encoding=\"application/x-tex\">{\\\\displaystyle s}</annotation>\\n  </semantics>\\n</math></span><img src=\"https://wikimedia.org/api/rest_v1/media/math/render/svg/01d131dfd7673938b947072a13a9744fe997e632\" class=\"mwe-math-fallback-image-inline\" aria-hidden=\"true\" style=\"vertical-align: -0.338ex; width:1.09ex; height:1.676ex;\" alt=\"s\"/></span> of a right triangle, and the number in the third column can be interpreted as the <a href=\"/wiki/Hypotenuse\" title=\"Hypotenuse\">hypotenuse</a> <span class=\"mwe-math-element\"><span class=\"mwe-math-mathml-inline mwe-math-mathml-a11y\" style=\"display: none;\"><math xmlns=\"http://www.w3.org/1998/Math/MathML\"  alttext=\"{\\\\displaystyle d}\">\\n  <semantics>\\n    <mrow class=\"MJX-TeXAtom-ORD\">\\n      <mstyle displaystyle=\"true\" scriptlevel=\"0\">\\n        <mi>d</mi>\\n      </mstyle>\\n    </mrow>\\n    <annotation encoding=\"application/x-tex\">{\\\\displaystyle d}</annotation>\\n  </semantics>\\n</math></span><img src=\"https://wikimedia.org/api/rest_v1/media/math/render/svg/e85ff03cbe0c7341af6b982e47e9f90d235c66ab\" class=\"mwe-math-fallback-image-inline\" aria-hidden=\"true\" style=\"vertical-align: -0.338ex; width:1.216ex; height:2.176ex;\" alt=\"d\"/></span> of the triangle.  In all cases, the longer side <span class=\"mwe-math-element\"><span class=\"mwe-math-mathml-inline mwe-math-mathml-a11y\" style=\"display: none;\"><math xmlns=\"http://www.w3.org/1998/Math/MathML\"  alttext=\"{\\\\displaystyle l}\">\\n  <semantics>\\n    <mrow class=\"MJX-TeXAtom-ORD\">\\n      <mstyle displaystyle=\"true\" scriptlevel=\"0\">\\n        <mi>l</mi>\\n      </mstyle>\\n    </mrow>\\n    <annotation encoding=\"application/x-tex\">{\\\\displaystyle l}</annotation>\\n  </semantics>\\n</math></span><img src=\"https://wikimedia.org/api/rest_v1/media/math/render/svg/829091f745070b9eb97a80244129025440a1cfac\" class=\"mwe-math-fallback-image-inline\" aria-hidden=\"true\" style=\"vertical-align: -0.338ex; width:0.693ex; height:2.176ex;\" alt=\"l\"/></span> is also an integer, making <span class=\"mwe-math-element\"><span class=\"mwe-math-mathml-inline mwe-math-mathml-a11y\" style=\"display: none;\"><math xmlns=\"http://www.w3.org/1998/Math/MathML\"  alttext=\"{\\\\displaystyle s}\">\\n  <semantics>\\n    <mrow class=\"MJX-TeXAtom-ORD\">\\n      <mstyle displaystyle=\"true\" scriptlevel=\"0\">\\n        <mi>s</mi>\\n      </mstyle>\\n    </mrow>\\n    <annotation encoding=\"application/x-tex\">{\\\\displaystyle s}</annotation>\\n  </semantics>\\n</math></span><img src=\"https://wikimedia.org/api/rest_v1/media/math/render/svg/01d131dfd7673938b947072a13a9744fe997e632\" class=\"mwe-math-fallback-image-inline\" aria-hidden=\"true\" style=\"vertical-align: -0.338ex; width:1.09ex; height:1.676ex;\" alt=\"s\"/></span> and <span class=\"mwe-math-element\"><span class=\"mwe-math-mathml-inline mwe-math-mathml-a11y\" style=\"display: none;\"><math xmlns=\"http://www.w3.org/1998/Math/MathML\"  alttext=\"{\\\\displaystyle d}\">\\n  <semantics>\\n    <mrow class=\"MJX-TeXAtom-ORD\">\\n      <mstyle displaystyle=\"true\" scriptlevel=\"0\">\\n        <mi>d</mi>\\n      </mstyle>\\n    </mrow>\\n    <annotation encoding=\"application/x-tex\">{\\\\displaystyle d}</annotation>\\n  </semantics>\\n</math></span><img src=\"https://wikimedia.org/api/rest_v1/media/math/render/svg/e85ff03cbe0c7341af6b982e47e9f90d235c66ab\" class=\"mwe-math-fallback-image-inline\" aria-hidden=\"true\" style=\"vertical-align: -0.338ex; width:1.216ex; height:2.176ex;\" alt=\"d\"/></span> two elements of a <a href=\"/wiki/Pythagorean_triple\" title=\"Pythagorean triple\">Pythagorean triple</a>.  The number in the first column is either the fraction <span class=\"mwe-math-element\"><span class=\"mwe-math-mathml-inline mwe-math-mathml-a11y\" style=\"display: none;\"><math xmlns=\"http://www.w3.org/1998/Math/MathML\" alttext=\"{\\\\textstyle s^{2}/l^{2}}\">\\n  <semantics>\\n    <mrow class=\"MJX-TeXAtom-ORD\">\\n      <mstyle displaystyle=\"false\" scriptlevel=\"0\">\\n        <msup>\\n          <mi>s</mi>\\n          <mrow class=\"MJX-TeXAtom-ORD\">\\n            <mn>2</mn>\\n          </mrow>\\n        </msup>\\n        <mrow class=\"MJX-TeXAtom-ORD\">\\n          <mo>/</mo>\\n        </mrow>\\n        <msup>\\n          <mi>l</mi>\\n          <mrow class=\"MJX-TeXAtom-ORD\">\\n            <mn>2</mn>\\n          </mrow>\\n        </msup>\\n      </mstyle>\\n    </mrow>\\n    <annotation encoding=\"application/x-tex\">{\\\\textstyle s^{2}/l^{2}}</annotation>\\n  </semantics>\\n</math></span><img src=\"https://wikimedia.org/api/rest_v1/media/math/render/svg/dc956558a64c6f47f43f50f4436e3d894fd802d8\" class=\"mwe-math-fallback-image-inline\" aria-hidden=\"true\" style=\"vertical-align: -0.838ex; width:5.055ex; height:3.009ex;\" alt=\"{\\\\textstyle s^{2}/l^{2}}\"/></span> (if the \"1\" is not included) or <span class=\"mwe-math-element\"><span class=\"mwe-math-mathml-inline mwe-math-mathml-a11y\" style=\"display: none;\"><math xmlns=\"http://www.w3.org/1998/Math/MathML\" alttext=\"{\\\\textstyle {\\\\tfrac {d^{2}}{l^{2}}}\\\\,=\\\\,1+{\\\\tfrac {s^{2}}{l^{2}}}}\">\\n  <semantics>\\n    <mrow class=\"MJX-TeXAtom-ORD\">\\n      <mstyle displaystyle=\"false\" scriptlevel=\"0\">\\n        <mrow class=\"MJX-TeXAtom-ORD\">\\n          <mstyle displaystyle=\"false\" scriptlevel=\"0\">\\n            <mfrac>\\n              <msup>\\n                <mi>d</mi>\\n                <mrow class=\"MJX-TeXAtom-ORD\">\\n                  <mn>2</mn>\\n                </mrow>\\n              </msup>\\n              <msup>\\n                <mi>l</mi>\\n                <mrow class=\"MJX-TeXAtom-ORD\">\\n                  <mn>2</mn>\\n                </mrow>\\n              </msup>\\n            </mfrac>\\n          </mstyle>\\n        </mrow>\\n        <mspace width=\"thinmathspace\" />\\n        <mo>=</mo>\\n        <mspace width=\"thinmathspace\" />\\n        <mn>1</mn>\\n        <mo>+</mo>\\n        <mrow class=\"MJX-TeXAtom-ORD\">\\n          <mstyle displaystyle=\"false\" scriptlevel=\"0\">\\n            <mfrac>\\n              <msup>\\n                <mi>s</mi>\\n                <mrow class=\"MJX-TeXAtom-ORD\">\\n                  <mn>2</mn>\\n                </mrow>\\n              </msup>\\n              <msup>\\n                <mi>l</mi>\\n                <mrow class=\"MJX-TeXAtom-ORD\">\\n                  <mn>2</mn>\\n                </mrow>\\n              </msup>\\n            </mfrac>\\n          </mstyle>\\n        </mrow>\\n      </mstyle>\\n    </mrow>\\n    <annotation encoding=\"application/x-tex\">{\\\\textstyle {\\\\tfrac {d^{2}}{l^{2}}}\\\\,=\\\\,1+{\\\\tfrac {s^{2}}{l^{2}}}}</annotation>\\n  </semantics>\\n</math></span><img src=\"https://wikimedia.org/api/rest_v1/media/math/render/svg/f2510699e81b60dd12ffa400a153ee473555b1b0\" class=\"mwe-math-fallback-image-inline\" aria-hidden=\"true\" style=\"vertical-align: -1.671ex; width:12.843ex; height:4.509ex;\" alt=\"{\\\\textstyle {\\\\tfrac {d^{2}}{l^{2}}}\\\\,=\\\\,1+{\\\\tfrac {s^{2}}{l^{2}}}}\"/></span> (if the \"1\" is included).  In every case, the long side <span class=\"mwe-math-element\"><span class=\"mwe-math-mathml-inline mwe-math-mathml-a11y\" style=\"display: none;\"><math xmlns=\"http://www.w3.org/1998/Math/MathML\"  alttext=\"{\\\\displaystyle l}\">\\n  <semantics>\\n    <mrow class=\"MJX-TeXAtom-ORD\">\\n      <mstyle displaystyle=\"true\" scriptlevel=\"0\">\\n        <mi>l</mi>\\n      </mstyle>\\n    </mrow>\\n    <annotation encoding=\"application/x-tex\">{\\\\displaystyle l}</annotation>\\n  </semantics>\\n</math></span><img src=\"https://wikimedia.org/api/rest_v1/media/math/render/svg/829091f745070b9eb97a80244129025440a1cfac\" class=\"mwe-math-fallback-image-inline\" aria-hidden=\"true\" style=\"vertical-align: -0.338ex; width:0.693ex; height:2.176ex;\" alt=\"l\"/></span> is a <a href=\"/wiki/Regular_number\" title=\"Regular number\">regular number</a>, that is, an integer divisor of a power of 60 or, equivalently, a product of powers of 2, 3, and 5.  It is for this reason that the numbers in the first column are exact, as dividing an integer by a regular number produces a terminating sexagesimal number.  For instance, line 1 of the table can be interpreted as describing a triangle with short side 119 and hypotenuse 169, implying long side <span class=\"mwe-math-element\"><span class=\"mwe-math-mathml-inline mwe-math-mathml-a11y\" style=\"display: none;\"><math xmlns=\"http://www.w3.org/1998/Math/MathML\"  alttext=\"{\\\\displaystyle {\\\\sqrt {169^{2}-119^{2}}}=120}\">\\n  <semantics>\\n    <mrow class=\"MJX-TeXAtom-ORD\">\\n      <mstyle displaystyle=\"true\" scriptlevel=\"0\">\\n        <mrow class=\"MJX-TeXAtom-ORD\">\\n          <msqrt>\\n            <msup>\\n              <mn>169</mn>\\n              <mrow class=\"MJX-TeXAtom-ORD\">\\n                <mn>2</mn>\\n              </mrow>\\n            </msup>\\n            <mo>&#x2212;<!-- − --></mo>\\n            <msup>\\n              <mn>119</mn>\\n              <mrow class=\"MJX-TeXAtom-ORD\">\\n                <mn>2</mn>\\n              </mrow>\\n            </msup>\\n          </msqrt>\\n        </mrow>\\n        <mo>=</mo>\\n        <mn>120</mn>\\n      </mstyle>\\n    </mrow>\\n    <annotation encoding=\"application/x-tex\">{\\\\displaystyle {\\\\sqrt {169^{2}-119^{2}}}=120}</annotation>\\n  </semantics>\\n</math></span><img src=\"https://wikimedia.org/api/rest_v1/media/math/render/svg/c7e0252c698a9ed8b618b3c0e389aa4aecb5e322\" class=\"mwe-math-fallback-image-inline\" aria-hidden=\"true\" style=\"vertical-align: -0.838ex; width:20.833ex; height:3.509ex;\" alt=\"{\\\\displaystyle {\\\\sqrt {169^{2}-119^{2}}}=120}\"/></span>, which is a regular number (2<sup>3</sup>·3·5).  The number in Column 1 is either (169/120)<sup>2</sup> or (119/120)<sup>2</sup>.\\n</p>\\n<h3><span class=\"mw-headline\" id=\"Column_headings\">Column headings</span><span class=\"mw-editsection\"><span class=\"mw-editsection-bracket\">[</span><a href=\"/w/index.php?title=Plimpton_322&amp;action=edit&amp;section=3\" title=\"Edit section: Column headings\">edit</a><span class=\"mw-editsection-bracket\">]</span></span></h3>\\n<p>Each column has a heading, written in the <a href=\"/wiki/Akkadian_language\" title=\"Akkadian language\">Akkadian language</a>.  Some words are <a href=\"/wiki/Sumerogram\" title=\"Sumerogram\">Sumerian logograms</a>, which would have been understood by readers as standing for Akkadian words.  These include ÍB.SI<sub>8</sub>, for Akkadian <i>mithartum</i> (\"square\"), MU.BI.IM, for Akkadian <i>šumšu</i> (\"its line\"), and SAG, for Akkadian <i>pūtum</i> (\"width\").  Each number in the fourth column is preceded by the Sumerogram KI, which, according to <a href=\"#CITEREFNeugebauerSachs1945\">Neugebauer &amp; Sachs (1945)</a>, \"gives them the character of ordinal numbers.\"  In the sexagesimal table above, italicized words and parts of words represent portions of the text that are unreadable due to damage to the tablet or illegibility, and that have been reconstructed by modern scholars.  The terms ÍB.SI<sub>8</sub> and takiltum have been left untranslated as there is ongoing debate about their precise meaning.\\n</p><p>The headings of Columns 2 and 3 could be translated as \"square of the width\" and \"square of the diagonal\", but <a href=\"#CITEREFRobson2001\">Robson (2001)</a> (pp.&#160;173–174) argues that the term ÍB.SI<sub>8</sub> can refer either to the area of the square or the side of the square, and that in this case it should be understood as \"\\'square-side\\' or perhaps \\'square root\\'\".  Similarly <a href=\"#CITEREFBrittonProustShnider2011\">Britton, Proust &amp; Shnider (2011)</a> (p.&#160;526) observe that the term often appears in the problems where completing the square is used to solve what would now be understood as quadratic equations, in which context it refers to the side of the completed square, but that it might also serve to indicate \"that a linear dimension or line segment is meant\".  <a href=\"#CITEREFNeugebauerSachs1945\">Neugebauer &amp; Sachs (1945)</a> (pp.&#160;35, 39), on the other hand, exhibit instances where the term refers to outcomes of a wide variety of different mathematical operations and propose the translation \"\\'solving number of the width (or the diagonal).\\'\"  Similarly, <a href=\"#CITEREFFriberg1981\">Friberg (1981)</a> (p.&#160;300) proposes the translation \"root\".\\n</p><p>In Column 1, the first parts of both lines of the heading are damaged.  <a href=\"#CITEREFNeugebauerSachs1945\">Neugebauer &amp; Sachs (1945)</a> reconstructed the first word as <i>takilti</i> (a form of <i>takiltum</i>), a reading that has been accepted by most subsequent researchers.  The heading was generally regarded as untranslatable until <a href=\"#CITEREFRobson2001\">Robson (2001)</a> proposed inserting a 1 in the broken-off part of line 2 and succeeded in deciphering the illegible final word, producing the reading given in the table above.  Based on a detailed linguistic analysis, Robson proposes translating <i>takiltum</i> as \"holding square\".<sup id=\"cite_ref-6\" class=\"reference\"><a href=\"#cite_note-6\">&#91;6&#93;</a></sup>  <a href=\"#CITEREFBrittonProustShnider2011\">Britton, Proust &amp; Shnider (2011)</a> survey the relatively few known occurrences of the word in Old Babylonian mathematics.  While they note that, in almost all cases, it refers to the linear dimension of the auxiliary square added to a figure in the process of completing the square, and is the quantity subtracted in the last step of solving a quadratic, they agree with Robson that in this instance it is to be understood as referring to the area of a square.  <a href=\"#CITEREFFriberg2007\">Friberg (2007)</a>, on the other hand, proposes that in the broken-off portion of the heading <i>takiltum</i> may have been preceded by <i>a-ša</i> (\"area\").  There is now widespread agreement that the heading describes the relationship between the squares on the width (short side) and diagonal of a rectangle with length (long side) 1: subtracting (\"tearing out\") area 1 from the square on the diagonal leaves the area of the square on the width.\\n</p>\\n<h3><span class=\"mw-headline\" id=\"Errors\">Errors</span><span class=\"mw-editsection\"><span class=\"mw-editsection-bracket\">[</span><a href=\"/w/index.php?title=Plimpton_322&amp;action=edit&amp;section=4\" title=\"Edit section: Errors\">edit</a><span class=\"mw-editsection-bracket\">]</span></span></h3>\\n<p>As indicated in the table above, most scholars believe that the tablet contains six errors, and, with the exception of the two possible corrections in Row 15, there is widespread agreement as to what the correct values should be.  There is less agreement about how the errors occurred and what they imply with regard to the method of the tablet\\'s computation.  A summary of the errors follows.\\n</p><p>The errors in Row 2, Column 1 (neglecting to leave spaces between 50 and 6 for absent 1s and 10s) and Row 9, Column 2 (writing 9 for 8) are universally regarded as minor errors in copying from a work tablet (or possibly from an earlier copy of the table).  The error in Row 8, Column 1 (replacing the two sexagesimal digits 45 14 by their sum, 59) appears not to have been noticed in some of the early papers on the tablet.  It has sometimes been regarded (for example in <a href=\"#CITEREFRobson2001\">Robson (2001)</a>) as a simple mistake made by the scribe in the process of copying from a work tablet.  As discussed in <a href=\"#CITEREFBrittonProustShnider2011\">Britton, Proust &amp; Shnider (2011)</a>, however, a number of scholars have proposed that this error is much more plausibly explained as an error in the calculation leading up to the number, for example, the scribe\\'s overlooking a medial zero (blank space representing a zero digit) when performing a multiplication.  This explanation of the error is compatible with both of the main proposals for the method of construction of the table.  (See below.)\\n</p><p>The remaining three errors have implications for the manner in which the tablet was computed.  The number 7&#160;12&#160;1 in Row 13, Column 2, is the square of the correct value, 2&#160;41.  Assuming either that the lengths in Column 2 were computed by taking the square root of the area of the corresponding square, or that the length and the area were computed together, this error might be explained either as neglecting to take the square root, or copying the wrong number from a work tablet.<sup id=\"cite_ref-7\" class=\"reference\"><a href=\"#cite_note-7\">&#91;7&#93;</a></sup>\\n</p><p>If the error in Row 15 is understood as having written 56 instead of 28 in Column 2, then the error can be explained as a result of improper application of the trailing part algorithm, which is required if the table was computed by means of reciprocal pairs as described below.  This error amounts to applying an iterative procedure for removing regular factors common to the numbers in Columns 2 and 3 an improper number of times in one of the columns.<sup id=\"cite_ref-8\" class=\"reference\"><a href=\"#cite_note-8\">&#91;8&#93;</a></sup>\\n</p><p>The number in Row 2, Column 3 has no obvious relationship to the correct number, and all explanations of how this number was obtained postulate multiple errors.  <a href=\"#CITEREFBruins1957\">Bruins (1957)</a> observed that 3&#160;12&#160;01 might have been a simple miscopying of 3&#160;13.  If this were the case, then the explanation for the incorrect number 3&#160;13 is similar to the explanation of the error in Row 15.<sup id=\"cite_ref-9\" class=\"reference\"><a href=\"#cite_note-9\">&#91;9&#93;</a></sup>\\n</p><p>An exception to the general consensus is <a href=\"#CITEREFFriberg2007\">Friberg (2007)</a>, where, in a departure from the earlier analysis by the same author (<a href=\"#CITEREFFriberg1981\">Friberg (1981)</a>), it is hypothesized that the numbers in Row 15 are not in error, but were written as intended, and that the only error in Row 2, Column 3 was miswriting 3&#160;13 as 3&#160;12&#160;01.  Under this hypothesis, it is necessary to reinterpret Columns 2 and 3 as \"the factor-reduced cores of the front and diagonal\".  The factor-reduced core of a number is the number with perfect-square regular factors removed; computing the factor-reduced core was part of the process of calculating square roots in Old Babylonian mathematics.  According to Friberg, \"it was never the intention of the author of Plimpton 322 to reduce his series of <i>normalized</i> diagonal triples (with length equal to 1 in each triple) to a corresponding series of <i>primitive</i> diagonal triples (wth the front, length, and the diagonal equal to integers without common factors).\"<sup id=\"cite_ref-10\" class=\"reference\"><a href=\"#cite_note-10\">&#91;10&#93;</a></sup>\\n</p>\\n<h2><span class=\"mw-headline\" id=\"Construction_of_the_table\">Construction of the table</span><span class=\"mw-editsection\"><span class=\"mw-editsection-bracket\">[</span><a href=\"/w/index.php?title=Plimpton_322&amp;action=edit&amp;section=5\" title=\"Edit section: Construction of the table\">edit</a><span class=\"mw-editsection-bracket\">]</span></span></h2>\\n<p>Scholars still differ on how these numbers were generated.  <a href=\"#CITEREFBuck1980\">Buck (1980)</a> and <a href=\"#CITEREFRobson2001\">Robson (2001)</a> both identify two main proposals for the method of construction of the table: the method of generating pairs, proposed in <a href=\"#CITEREFNeugebauerSachs1945\">Neugebauer &amp; Sachs (1945)</a>, and the method of reciprocal pairs, proposed by Bruins<sup id=\"cite_ref-11\" class=\"reference\"><a href=\"#cite_note-11\">&#91;11&#93;</a></sup> and elaborated on by Voils,<sup id=\"cite_ref-12\" class=\"reference\"><a href=\"#cite_note-12\">&#91;12&#93;</a></sup> <a href=\"#CITEREFSchmidt1980\">Schmidt (1980)</a>, and Friberg.<sup id=\"cite_ref-13\" class=\"reference\"><a href=\"#cite_note-13\">&#91;13&#93;</a></sup>\\n</p>\\n<h3><span class=\"mw-headline\" id=\"Generating_pairs\">Generating pairs</span><span class=\"mw-editsection\"><span class=\"mw-editsection-bracket\">[</span><a href=\"/w/index.php?title=Plimpton_322&amp;action=edit&amp;section=6\" title=\"Edit section: Generating pairs\">edit</a><span class=\"mw-editsection-bracket\">]</span></span></h3>\\n<p>To use modern terminology, if <i>p</i> and <i>q</i> are natural numbers such that <i>p</i>&gt;<i>q</i> then (<i>p</i><sup>2</sup> − <i>q</i><sup>2</sup>, 2<i>pq</i>, <i>p</i><sup>2</sup> + <i>q</i><sup>2</sup>) forms a Pythagorean triple.  The triple is primitive, that is the three triangle sides have no common factor, if <i>p</i> and <i>q</i> are <a href=\"/wiki/Coprime\" class=\"mw-redirect\" title=\"Coprime\">coprime</a> and not both odd.  Neugebauer and Sachs propose the tablet was generated by choosing <i>p</i> and <i>q</i> to be coprime regular numbers (but both may be odd—see Row 15) and computing <i>d</i> = <i>p</i><sup>2</sup> + <i>q</i><sup>2</sup>, <i>s</i> = <i>p</i><sup>2</sup> − <i>q</i><sup>2</sup>, and <i>l</i> = 2<i>pq</i> (so that <i>l</i> is also a regular number).  For example, line 1 would be generated by setting <i>p</i> = 12 and <i>q</i> = 5.  Buck and Robson both note that the presence of Column 1 is mysterious in this proposal, as it plays no role in the construction, and that the proposal does not explain why the rows of the table are ordered as they are, rather than, say, according to the value of <span class=\"mwe-math-element\"><span class=\"mwe-math-mathml-inline mwe-math-mathml-a11y\" style=\"display: none;\"><math xmlns=\"http://www.w3.org/1998/Math/MathML\"  alttext=\"{\\\\displaystyle p}\">\\n  <semantics>\\n    <mrow class=\"MJX-TeXAtom-ORD\">\\n      <mstyle displaystyle=\"true\" scriptlevel=\"0\">\\n        <mi>p</mi>\\n      </mstyle>\\n    </mrow>\\n    <annotation encoding=\"application/x-tex\">{\\\\displaystyle p}</annotation>\\n  </semantics>\\n</math></span><img src=\"https://wikimedia.org/api/rest_v1/media/math/render/svg/81eac1e205430d1f40810df36a0edffdc367af36\" class=\"mwe-math-fallback-image-inline\" aria-hidden=\"true\" style=\"vertical-align: -0.671ex; margin-left: -0.089ex; width:1.259ex; height:2.009ex;\" alt=\"p\"/></span> or <span class=\"mwe-math-element\"><span class=\"mwe-math-mathml-inline mwe-math-mathml-a11y\" style=\"display: none;\"><math xmlns=\"http://www.w3.org/1998/Math/MathML\"  alttext=\"{\\\\displaystyle q}\">\\n  <semantics>\\n    <mrow class=\"MJX-TeXAtom-ORD\">\\n      <mstyle displaystyle=\"true\" scriptlevel=\"0\">\\n        <mi>q</mi>\\n      </mstyle>\\n    </mrow>\\n    <annotation encoding=\"application/x-tex\">{\\\\displaystyle q}</annotation>\\n  </semantics>\\n</math></span><img src=\"https://wikimedia.org/api/rest_v1/media/math/render/svg/06809d64fa7c817ffc7e323f85997f783dbdf71d\" class=\"mwe-math-fallback-image-inline\" aria-hidden=\"true\" style=\"vertical-align: -0.671ex; width:1.07ex; height:2.009ex;\" alt=\"q\"/></span>, which, under this hypothesis, might have been listed on columns to the left in the broken-off portion of the tablet.  Robson also argues that the proposal does not explain how the errors in the table could have plausibly arisen and is not in keeping with the mathematical culture of the time.\\n</p>\\n<h3><span class=\"mw-headline\" id=\"Reciprocal_pairs\">Reciprocal pairs</span><span class=\"mw-editsection\"><span class=\"mw-editsection-bracket\">[</span><a href=\"/w/index.php?title=Plimpton_322&amp;action=edit&amp;section=7\" title=\"Edit section: Reciprocal pairs\">edit</a><span class=\"mw-editsection-bracket\">]</span></span></h3>\\n<p>In the reciprocal-pair proposal, the starting point is a single regular sexagesimal fraction <i>x</i> along with its reciprocal, 1/<i>x</i>.  \"Regular sexagesimal fraction\" means that <i>x</i> is a product of (possibly negative) powers of 2, 3, and 5.  The quantities (<i>x</i>−1/<i>x</i>)/2, 1, and (<i>x</i>+1/<i>x</i>)/2 then form what would now be called a rational Pythagorean triple.  Moreover, the three sides all have finite sexagesimal representations.\\n</p><p>Advocates of this proposal point out that regular reciprocal pairs (<i>x</i>,1/<i>x</i>) show up in a different problem from roughly the same time and place as Plimpton 322, namely the problem of finding the sides of a rectangle of area 1 whose long side exceeds its short side by a given length <i>c</i> (which nowadays might be computed as the solutions to the <a href=\"/wiki/Quadratic_equation\" title=\"Quadratic equation\">quadratic equation</a> <span class=\"mwe-math-element\"><span class=\"mwe-math-mathml-inline mwe-math-mathml-a11y\" style=\"display: none;\"><math xmlns=\"http://www.w3.org/1998/Math/MathML\" alttext=\"{\\\\textstyle x-{\\\\tfrac {1}{x}}=c}\">\\n  <semantics>\\n    <mrow class=\"MJX-TeXAtom-ORD\">\\n      <mstyle displaystyle=\"false\" scriptlevel=\"0\">\\n        <mi>x</mi>\\n        <mo>&#x2212;<!-- − --></mo>\\n        <mrow class=\"MJX-TeXAtom-ORD\">\\n          <mstyle displaystyle=\"false\" scriptlevel=\"0\">\\n            <mfrac>\\n              <mn>1</mn>\\n              <mi>x</mi>\\n            </mfrac>\\n          </mstyle>\\n        </mrow>\\n        <mo>=</mo>\\n        <mi>c</mi>\\n      </mstyle>\\n    </mrow>\\n    <annotation encoding=\"application/x-tex\">{\\\\textstyle x-{\\\\tfrac {1}{x}}=c}</annotation>\\n  </semantics>\\n</math></span><img src=\"https://wikimedia.org/api/rest_v1/media/math/render/svg/9189d4aad19906449baddc5142e75e5d72674066\" class=\"mwe-math-fallback-image-inline\" aria-hidden=\"true\" style=\"vertical-align: -1.005ex; width:10.052ex; height:3.343ex;\" alt=\"{\\\\textstyle x-{\\\\tfrac {1}{x}}=c}\"/></span>).  <a href=\"#CITEREFRobson2002\">Robson (2002)</a> analyzes the tablet, YBC 6967, in which such a problem is solved by calculating a sequence of intermediate values <i>v</i><sub>1</sub> = <i>c</i>/2, <i>v</i><sub>2</sub> = <i>v</i><sub>1</sub><sup>2</sup>, <i>v</i><sub>3</sub> = 1 + <i>v</i><sub>2</sub>, and <i>v</i><sub>4</sub> = <i>v</i><sub>3</sub><sup>1/2</sup>, from which one can calculate <i>x</i> = <i>v</i><sub>4</sub> + <i>v</i><sub>1</sub> and 1/<i>x</i> = <i>v</i><sub>4</sub> − <i>v</i><sub>1</sub>.  While the need to compute the square root of <i>v</i><sub>3</sub> will, in general result in answers that do not have finite sexagesimal representations, the problem on YBC 6967 was set up—meaning the value of <i>c</i> was suitably chosen—to give a nice answer.  This is, in fact, the origin of the specification above that <i>x</i> be a regular sexagesimal fraction:  choosing <i>x</i> in this way ensures that both <i>x</i> and 1/<i>x</i> have finite sexagesimal representations.  To engineer a problem with a nice answer, the problem setter would simply need to choose such an <i>x</i> and let the initial datum <i>c</i> equal <i>x</i> − 1/<i>x</i>.  As a side effect, this produces a rational Pythagorean triple, with legs <i>v</i><sub>1</sub> and 1 and hypotenuse <i>v</i><sub>4</sub>.\\n</p><p>It should be pointed out that the problem on YBC 6967 actually solves the equation <span class=\"mwe-math-element\"><span class=\"mwe-math-mathml-inline mwe-math-mathml-a11y\" style=\"display: none;\"><math xmlns=\"http://www.w3.org/1998/Math/MathML\" alttext=\"{\\\\textstyle x-{\\\\tfrac {1\\\\ 00}{x}}=x-{\\\\tfrac {60}{x}}=c}\">\\n  <semantics>\\n    <mrow class=\"MJX-TeXAtom-ORD\">\\n      <mstyle displaystyle=\"false\" scriptlevel=\"0\">\\n        <mi>x</mi>\\n        <mo>&#x2212;<!-- − --></mo>\\n        <mrow class=\"MJX-TeXAtom-ORD\">\\n          <mstyle displaystyle=\"false\" scriptlevel=\"0\">\\n            <mfrac>\\n              <mrow>\\n                <mn>1</mn>\\n                <mtext>&#xA0;</mtext>\\n                <mn>00</mn>\\n              </mrow>\\n              <mi>x</mi>\\n            </mfrac>\\n          </mstyle>\\n        </mrow>\\n        <mo>=</mo>\\n        <mi>x</mi>\\n        <mo>&#x2212;<!-- − --></mo>\\n        <mrow class=\"MJX-TeXAtom-ORD\">\\n          <mstyle displaystyle=\"false\" scriptlevel=\"0\">\\n            <mfrac>\\n              <mn>60</mn>\\n              <mi>x</mi>\\n            </mfrac>\\n          </mstyle>\\n        </mrow>\\n        <mo>=</mo>\\n        <mi>c</mi>\\n      </mstyle>\\n    </mrow>\\n    <annotation encoding=\"application/x-tex\">{\\\\textstyle x-{\\\\tfrac {1\\\\ 00}{x}}=x-{\\\\tfrac {60}{x}}=c}</annotation>\\n  </semantics>\\n</math></span><img src=\"https://wikimedia.org/api/rest_v1/media/math/render/svg/961be7fee44c9472e3188088ef3afde9ad523751\" class=\"mwe-math-fallback-image-inline\" aria-hidden=\"true\" style=\"vertical-align: -1.005ex; width:21.907ex; height:3.343ex;\" alt=\"{\\\\textstyle x-{\\\\tfrac {1\\\\ 00}{x}}=x-{\\\\tfrac {60}{x}}=c}\"/></span>, which entails replacing the expression for <i>v</i><sub>3</sub> above with <i>v</i><sub>3</sub> = 60 + <i>v</i><sub>2</sub>.  The side effect of obtaining a rational triple is thereby lost as the sides become <i>v</i><sub>1</sub>, <span class=\"mwe-math-element\"><span class=\"mwe-math-mathml-inline mwe-math-mathml-a11y\" style=\"display: none;\"><math xmlns=\"http://www.w3.org/1998/Math/MathML\"  alttext=\"{\\\\displaystyle {\\\\sqrt {60}}}\">\\n  <semantics>\\n    <mrow class=\"MJX-TeXAtom-ORD\">\\n      <mstyle displaystyle=\"true\" scriptlevel=\"0\">\\n        <mrow class=\"MJX-TeXAtom-ORD\">\\n          <msqrt>\\n            <mn>60</mn>\\n          </msqrt>\\n        </mrow>\\n      </mstyle>\\n    </mrow>\\n    <annotation encoding=\"application/x-tex\">{\\\\displaystyle {\\\\sqrt {60}}}</annotation>\\n  </semantics>\\n</math></span><img src=\"https://wikimedia.org/api/rest_v1/media/math/render/svg/0ca503d0ee0c6ca4f67c4f04ed2f5eab5e5bbc63\" class=\"mwe-math-fallback-image-inline\" aria-hidden=\"true\" style=\"vertical-align: -0.671ex; width:4.261ex; height:2.843ex;\" alt=\"{\\\\displaystyle {\\\\sqrt {60}}}\"/></span>, and <i>v</i><sub>4</sub>.  In this proposal it must be assumed that the Babylonians were familiar with both variants of the problem.\\n</p><p>Robson argues that the columns of Plimpton 322 can be interpreted as:\\n</p>\\n<dl><dd><dl><dd><i>v</i><sub>3</sub> = ((<i>x</i> + 1/<i>x</i>)/2)<sup>2</sup> = 1 + (<i>c</i>/2)<sup>2</sup> in the first column,</dd>\\n<dd><i>a</i>·<i>v</i><sub>1</sub> = <i>a</i>·(<i>x</i> − 1/<i>x</i>)/2 for a suitable multiplier <i>a</i> in the second column, and</dd>\\n<dd><i>a</i>·<i>v</i><sub>4</sub> = <i>a</i>·(<i>x</i> + 1/<i>x</i>)/2 in the third column.</dd></dl></dd></dl>\\n<p>In this interpretation, <i>x</i> and 1/<i>x</i> (or possibly <i>v</i><sub>1</sub> and <i>v</i><sub>4</sub>) would have appeared on the tablet in the broken-off portion to the left of the first column.  The presence of Column 1 is therefore explained as an intermediate step in the calculation, and the ordering of rows is by descending values of <i>x</i> (or <i>v</i><sub>1</sub>).  The multiplier <i>a</i> used to compute the values in columns 2 and 3, which can be thought of as a rescaling of the side lengths, arises from application of the \"trailing part algorithm\", in which both values are repeatedly multiplied by the reciprocal of any regular factor common to the last sexagesimal digits of both, until no such common factor remains.<sup id=\"cite_ref-14\" class=\"reference\"><a href=\"#cite_note-14\">&#91;14&#93;</a></sup>  As discussed above, the errors in the tablet all have natural explanations in the reciprocal-pair proposal.  On the other, Robson points out that the role of Columns 2 and 3 and the need for the multiplier <i>a</i> remain unexplained by this proposal, and suggests that the goal of the tablet\\'s author was to provide parameters not for quadratic problems of the type solved on YBC 6967, but rather \"for some sort of right-triangle problems.\"  She also notes that the method used to generate the table and the use for which it was intended need not be the same.<sup id=\"cite_ref-15\" class=\"reference\"><a href=\"#cite_note-15\">&#91;15&#93;</a></sup>\\n</p><p>Strong additional support for the idea that the numbers on the tablet were generated using reciprocal pairs comes from two tablets, MS 3052 and MS 3971, from the <a href=\"/wiki/Sch%C3%B8yen_Collection\" title=\"Schøyen Collection\">Schøyen Collection</a>.  Jöran Friberg translated and analyzed the two tablets and discovered that both contain examples of the calculation of the diagonal and side lengths of a rectangle using reciprocal pairs as the starting point.  The two tablets are both Old Babylonian, of approximately the same age as Plimpton 322, and both are believed to come from Uruk, near Larsa.<sup id=\"cite_ref-16\" class=\"reference\"><a href=\"#cite_note-16\">&#91;16&#93;</a></sup>  Further analysis of the two tablets was carried out in <a href=\"#CITEREFBrittonProustShnider2011\">Britton, Proust &amp; Shnider (2011)</a>.  MS 3971 contains a list of five problems, the third of which begins with \"In order for you to see five diagonals\" and concludes with \"five diagonals\".  The given data for each of the five parts of the problem consist of a reciprocal pair.  For each part the lengths of both the diagonal and the width (short side) of a rectangle are computed.  The length (long side) is not stated but the calculation implies that it is taken to be 1.  In modern terms, the calculation proceeds as follows: given <i>x</i> and 1/<i>x</i>, first compute (<i>x</i>+1/<i>x</i>)/2, the diagonal.  Then compute\\n</p>\\n<dl><dd><span class=\"mwe-math-element\"><span class=\"mwe-math-mathml-inline mwe-math-mathml-a11y\" style=\"display: none;\"><math xmlns=\"http://www.w3.org/1998/Math/MathML\"  alttext=\"{\\\\displaystyle {\\\\sqrt {\\\\left[{\\\\frac {1}{2}}\\\\left(x+{\\\\frac {1}{x}}\\\\right)\\\\right]^{2}-1}},}\">\\n  <semantics>\\n    <mrow class=\"MJX-TeXAtom-ORD\">\\n      <mstyle displaystyle=\"true\" scriptlevel=\"0\">\\n        <mrow class=\"MJX-TeXAtom-ORD\">\\n          <msqrt>\\n            <msup>\\n              <mrow>\\n                <mo>[</mo>\\n                <mrow>\\n                  <mrow class=\"MJX-TeXAtom-ORD\">\\n                    <mfrac>\\n                      <mn>1</mn>\\n                      <mn>2</mn>\\n                    </mfrac>\\n                  </mrow>\\n                  <mrow>\\n                    <mo>(</mo>\\n                    <mrow>\\n                      <mi>x</mi>\\n                      <mo>+</mo>\\n                      <mrow class=\"MJX-TeXAtom-ORD\">\\n                        <mfrac>\\n                          <mn>1</mn>\\n                          <mi>x</mi>\\n                        </mfrac>\\n                      </mrow>\\n                    </mrow>\\n                    <mo>)</mo>\\n                  </mrow>\\n                </mrow>\\n                <mo>]</mo>\\n              </mrow>\\n              <mrow class=\"MJX-TeXAtom-ORD\">\\n                <mn>2</mn>\\n              </mrow>\\n            </msup>\\n            <mo>&#x2212;<!-- − --></mo>\\n            <mn>1</mn>\\n          </msqrt>\\n        </mrow>\\n        <mo>,</mo>\\n      </mstyle>\\n    </mrow>\\n    <annotation encoding=\"application/x-tex\">{\\\\displaystyle {\\\\sqrt {\\\\left[{\\\\frac {1}{2}}\\\\left(x+{\\\\frac {1}{x}}\\\\right)\\\\right]^{2}-1}},}</annotation>\\n  </semantics>\\n</math></span><img src=\"https://wikimedia.org/api/rest_v1/media/math/render/svg/14d3b25ad6aaaf2f3ed5d6e9805646cd8f0d5954\" class=\"mwe-math-fallback-image-inline\" aria-hidden=\"true\" style=\"vertical-align: -3.005ex; width:22.625ex; height:7.676ex;\" alt=\"{\\\\displaystyle {\\\\sqrt {\\\\left[{\\\\frac {1}{2}}\\\\left(x+{\\\\frac {1}{x}}\\\\right)\\\\right]^{2}-1}},}\"/></span></dd></dl>\\n<p>the width.  Due to damage to the part of the tablet containing the first of the five parts, the statement of the problem for this part, apart from traces of the initial data, and the solution have been lost.  The other four parts are, for the most part intact, and all contain very similar text.   The reason for taking the diagonal to be half the sum of the reciprocal pair is not stated in the intact text.  Note that the computation of the width is equivalent to (<i>x</i>−1/<i>x</i>)/2, but that this more direct method of computation has not been used, the rule relating the square of the diagonal to the sum of the squares of the sides having been preferred.\\n</p><p>The text of the second problem of MS 3052 has also been badly damaged, but what remains is structured similarly to the five parts of MS 3971, Problem 3.  The problem contains a figure, which, according to Friberg, is likely a \"rectangle <i>without</i> any diagonals\".<sup id=\"cite_ref-17\" class=\"reference\"><a href=\"#cite_note-17\">&#91;17&#93;</a></sup>  <a href=\"#CITEREFBrittonProustShnider2011\">Britton, Proust &amp; Shnider (2011)</a> emphasize that the preserved portions of the text explicitly state the length to be 1 and explicitly compute the 1 that gets subtracted from the square of the diagonal in the process of calculating the width as the square of the length.  The initial data and computed width and diagonal for the six problems on the two tablets are given in the table below.\\n</p>\\n<table class=\"wikitable\">\\n\\n<tbody><tr>\\n<th>Problem</th>\\n<th><i>x</i></th>\\n<th>1/<i>x</i></th>\\n<th>width</th>\\n<th>length</th>\\n<th>diagonal\\n</th></tr>\\n<tr>\\n<td>MS 3052 § 2</td>\\n<td>2</td>\\n<td>1/2</td>\\n<td>3/4</td>\\n<td>1</td>\\n<td>5/4\\n</td></tr>\\n<tr>\\n<td>MS 3971 § 3a</td>\\n<td>16/15(?)</td>\\n<td>15/16(?)</td>\\n<td>31/480(?)</td>\\n<td>1</td>\\n<td>481/480(?)\\n</td></tr>\\n<tr>\\n<td>MS 3971 § 3b</td>\\n<td>5/3</td>\\n<td>3/5</td>\\n<td>8/15</td>\\n<td>1</td>\\n<td>17/15\\n</td></tr>\\n<tr>\\n<td>MS 3971 § 3c</td>\\n<td>3/2</td>\\n<td>2/3</td>\\n<td>5/12</td>\\n<td>1</td>\\n<td>13/12\\n</td></tr>\\n<tr>\\n<td>MS 3971 § 3d</td>\\n<td>4/3</td>\\n<td>3/4</td>\\n<td>7/24</td>\\n<td>1</td>\\n<td>25/24\\n</td></tr>\\n<tr>\\n<td>MS 3971 § 3e</td>\\n<td>6/5</td>\\n<td>5/6</td>\\n<td>11/60</td>\\n<td>1</td>\\n<td>61/60\\n</td></tr></tbody></table>\\n<p>The parameters of MS 3971 § 3a are uncertain due to damage to the tablet.  Note that the parameters of the problem from MS 3052 correspond to a rescaling of the standard (3,4,5) right triangle, which appears as Row 11 of Plimpton 322.  None of the parameters in the problems from MS 3971 match any of the rows of Plimpton 322.  As discussed below, all of the rows of Plimpton 322 have <i>x</i>≥9/5, while all the problems on MS 3971 have <i>x</i>&lt;9/5.  The parameters of MS 3971 do, however, all correspond to rows of de Solla Price\\'s proposed extension of the table of Plimpton 322, also discussed below.\\n</p><p>It must be emphasized that the role of the reciprocal pair is different in the problem on YBC 6967 than on MS 3052 and MS 3971 (and by extension, on Plimpton 322).  In the problem of YBC 6967, the members of the reciprocal pair are the lengths of the sides of a rectangle of area 1.  The geometric meaning of <i>x</i> and 1/<i>x</i> is not stated in the surviving text of the problems on MS 3052 and MS 3971.  The goal appears to have been to apply a known procedure for producing rectangles with finite sexagesimal width and diagonal.<sup id=\"cite_ref-18\" class=\"reference\"><a href=\"#cite_note-18\">&#91;18&#93;</a></sup>  It should also be pointed out that the trailing point algorithm was not used to rescale the side lengths in these problems.\\n</p>\\n<h3><span class=\"mw-headline\" id=\"Comparison_of_the_proposals\">Comparison of the proposals</span><span class=\"mw-editsection\"><span class=\"mw-editsection-bracket\">[</span><a href=\"/w/index.php?title=Plimpton_322&amp;action=edit&amp;section=8\" title=\"Edit section: Comparison of the proposals\">edit</a><span class=\"mw-editsection-bracket\">]</span></span></h3>\\n<p>The quantity <i>x</i> in the reciprocal-pair proposal corresponds to the ratio <i>p</i>&#160;/&#160;<i>q</i> in the generating-pair proposal.  Indeed, while the two proposals differ in calculation method, there is little mathematical difference between the results as both produce the same triples, apart from an overall factor of 2 in the case where <i>p</i> and <i>q</i> are both odd.  (Unfortunately, the only place where this occurs in the tablet is in Row 15, which contains an error and cannot therefore be used to distinguish between the proposals.)  Proponents of the reciprocal-pair proposal differ on whether <i>x</i> was computed from an underlying <i>p</i> and <i>q</i>, but with only the combinations <i>p</i>&#160;/&#160;<i>q</i> and <i>q</i>&#160;/&#160;<i>p</i> used in tablet computations<sup id=\"cite_ref-19\" class=\"reference\"><a href=\"#cite_note-19\">&#91;19&#93;</a></sup> or whether <i>x</i> was obtained directly from other sources, such as reciprocal tables.<sup id=\"cite_ref-20\" class=\"reference\"><a href=\"#cite_note-20\">&#91;20&#93;</a></sup>  One difficulty with the latter hypothesis is that some of the needed values of <i>x</i> or 1/<i>x</i> are four-place sexagesimal numbers, and no four-place reciprocal tables are known.  Neugebauer and Sachs had, in fact, noted the possibility of using reciprocal pairs in their original work, and rejected it for this reason.  Robson, however, argues that known sources and computational methods of the Old Babylonian period can account for all values of <i>x</i> used.\\n</p>\\n<h3><span class=\"mw-headline\" id=\"Selection_of_pairs\">Selection of pairs</span><span class=\"mw-editsection\"><span class=\"mw-editsection-bracket\">[</span><a href=\"/w/index.php?title=Plimpton_322&amp;action=edit&amp;section=9\" title=\"Edit section: Selection of pairs\">edit</a><span class=\"mw-editsection-bracket\">]</span></span></h3>\\n<p>Neugebauer and Sachs note that the triangle dimensions in the tablet range from those of a nearly isosceles right triangle (with short leg, 119, nearly equal to long leg, 120) to those of a right triangle with acute angles close to 30° and 60°, and that the angle decreases in a fairly uniform fashion in steps of approximately 1°.  They suggest that the pairs <i>p</i>, <i>q</i> were chosen deliberately with this goal in mind.\\n</p><p>It was observed by <a href=\"#CITEREFde_Solla_Price1964\">de Solla Price (1964)</a>, working within the generating-pair framework, that every row of the table is generated by a <i>q</i> that satisfies 1&#160;≤&#160;<i>q</i>&lt;60, that is, that <i>q</i> is always a single-digit sexagesimal number.  The ratio <i>p</i>/<i>q</i> takes its greatest value, 12/5=2.4, in Row 1 of the table, and is therefore always less than <span class=\"mwe-math-element\"><span class=\"mwe-math-mathml-inline mwe-math-mathml-a11y\" style=\"display: none;\"><math xmlns=\"http://www.w3.org/1998/Math/MathML\"  alttext=\"{\\\\displaystyle {\\\\sqrt {2}}+1\\\\approx 2.414}\">\\n  <semantics>\\n    <mrow class=\"MJX-TeXAtom-ORD\">\\n      <mstyle displaystyle=\"true\" scriptlevel=\"0\">\\n        <mrow class=\"MJX-TeXAtom-ORD\">\\n          <msqrt>\\n            <mn>2</mn>\\n          </msqrt>\\n        </mrow>\\n        <mo>+</mo>\\n        <mn>1</mn>\\n        <mo>&#x2248;<!-- ≈ --></mo>\\n        <mn>2.414</mn>\\n      </mstyle>\\n    </mrow>\\n    <annotation encoding=\"application/x-tex\">{\\\\displaystyle {\\\\sqrt {2}}+1\\\\approx 2.414}</annotation>\\n  </semantics>\\n</math></span><img src=\"https://wikimedia.org/api/rest_v1/media/math/render/svg/ee0b9f6b3a71b40d297978dcbd0458d3e980f33a\" class=\"mwe-math-fallback-image-inline\" aria-hidden=\"true\" style=\"vertical-align: -0.671ex; width:15.496ex; height:3.009ex;\" alt=\"{\\\\displaystyle {\\\\sqrt {2}}+1\\\\approx 2.414}\"/></span>, a condition which guarantees that <i>p</i><sup>2</sup>&#160;−&#160;<i>q</i><sup>2</sup> is the long leg and 2<i>pq</i> is the short leg of the triangle and which, in modern terms, implies that the angle opposite the leg of length <i>p</i><sup>2</sup>&#160;−&#160;<i>q</i><sup>2</sup>\\nis less than 45°.  The ratio is least in Row 15 where <i>p</i>/<i>q</i>=9/5 for an angle of about 31.9°.  Furthermore, there are exactly 15 regular ratios between 9/5 and 12/5 inclusive for which <i>q</i> is a single-digit sexagesimal number, and these are in one-to-one correspondence with the rows of the tablet.  He also points out that the even spacing of the numbers might not have been by design: it could also have arisen merely from the density of regular-number ratios in the range of numbers considered in the table.\\n</p><p>It was argued by de Solla Price that the natural lower bound for the ratio would be 1, which corresponds to an angle of 0°.  He found that, maintaining the requirement that <i>q</i> be a single-digit sexagesimal number, there are 23 pairs in addition to the ones represented by the tablet, for a total of 38 pairs.  He notes that the vertical scoring between columns on the tablet has been continued onto the back, suggesting that the scribe might have intended to extend the table.  He claims that the available space would correctly accommodate 23 additional rows.  Proponents of the reciprocal-pair proposal have also advocated this scheme.<sup id=\"cite_ref-21\" class=\"reference\"><a href=\"#cite_note-21\">&#91;21&#93;</a></sup>\\n</p><p><a href=\"#CITEREFRobson2001\">Robson (2001)</a> does not directly address this proposal, but does agree that the table was not \"full\".  She notes that in the reciprocal-pair proposal, every <i>x</i> represented in the tablet is at most a four-place sexagesimal number with at most a four-place reciprocal, and that the total number of places in <i>x</i> and 1/<i>x</i> together is never more than 7.  If these properties are taken as requirements, there are exactly three values of <i>x</i> \"missing\" from the tablet, which she argues might have been omitted because they are unappealing in various ways.  She admits the \"shockingly <i>ad hoc</i>\" nature of this scheme, which serves mainly as a rhetorical device for criticizing all attempts at divining the selection criteria of the tablet\\'s author.<sup id=\"cite_ref-22\" class=\"reference\"><a href=\"#cite_note-22\">&#91;22&#93;</a></sup>\\n</p>\\n<h2><span class=\"mw-headline\" id=\"Purpose_and_authorship\">Purpose and authorship</span><span class=\"mw-editsection\"><span class=\"mw-editsection-bracket\">[</span><a href=\"/w/index.php?title=Plimpton_322&amp;action=edit&amp;section=10\" title=\"Edit section: Purpose and authorship\">edit</a><span class=\"mw-editsection-bracket\">]</span></span></h2>\\n<p><a href=\"/wiki/Otto_E._Neugebauer\" title=\"Otto E. Neugebauer\">Otto E.&#32;Neugebauer</a>&#160;(<a href=\"#CITEREFNeugebauer1957\">1957</a>) argued for a <a href=\"/wiki/Number_theory\" title=\"Number theory\">number-theoretic</a> interpretation, but also believed that the entries in the table were the result of a deliberate selection process aimed at achieving the fairly regular decrease of the values in Column 1 within some specified bounds.\\n</p><p><a href=\"#CITEREFBuck1980\">Buck (1980)</a> and <a href=\"#CITEREFRobson2002\">Robson (2002)</a> both mention the existence of a <a href=\"/wiki/Trigonometry\" title=\"Trigonometry\">trigonometric</a> explanation, which Robson attributes to the authors of various general histories and unpublished works, but which may derive from the observation in <a href=\"#CITEREFNeugebauerSachs1945\">Neugebauer &amp; Sachs (1945)</a> that the values of the first column can be interpreted as the squared <a href=\"/wiki/Trigonometric_function\" class=\"mw-redirect\" title=\"Trigonometric function\">secant or tangent</a> (depending on the missing digit) of the angle opposite the short side of the right triangle described by each row, and the rows are sorted by these angles in roughly one-degree increments. In other words, if you take the number in the first column, discounting the (1), and derive its square root, and then divide this into the number in column two, the result will be the length of the long side of the triangle. Consequently, the square root of the number (minus the one) in the first column is what we would today call the <a href=\"/wiki/Tangent\" title=\"Tangent\">tangent</a> of the angle opposite the short side. If the (1) is included, the square root of that number is the <a href=\"/wiki/Secant_(trigonometry)\" class=\"mw-redirect\" title=\"Secant (trigonometry)\">secant</a>.<sup id=\"cite_ref-23\" class=\"reference\"><a href=\"#cite_note-23\">&#91;23&#93;</a></sup>\\n</p><p>In contraposition with these earlier explanations of the tablet,\\n<a href=\"#CITEREFRobson2002\">Robson (2002)</a> claims that historical, cultural and linguistic evidence all reveal the tablet to be more likely constructed from <i>\"a list of <a href=\"/wiki/Regular_number\" title=\"Regular number\">regular</a> <a href=\"/wiki/Multiplicative_inverse\" title=\"Multiplicative inverse\">reciprocal</a> <a href=\"/wiki/Ordered_pair\" title=\"Ordered pair\">pairs</a>.\"</i><sup id=\"cite_ref-24\" class=\"reference\"><a href=\"#cite_note-24\">&#91;24&#93;</a></sup>  Robson argues on linguistic grounds that the trigonometric theory is \"conceptually anachronistic\": it depends on too many other ideas not present in the record of Babylonian mathematics from that time. In 2003, the MAA awarded Robson with the <a href=\"/wiki/Lester_R._Ford_Award\" class=\"mw-redirect\" title=\"Lester R. Ford Award\">Lester R. Ford Award</a> for her work, stating it is <i>\"unlikely that the author of Plimpton 322 was either a professional or amateur mathematician.  More likely he seems to have been a teacher and Plimpton 322 a set of exercises.\"</i><sup id=\"cite_ref-25\" class=\"reference\"><a href=\"#cite_note-25\">&#91;25&#93;</a></sup>  Robson takes an approach that in modern terms would be characterized as <a href=\"/wiki/Algebra\" title=\"Algebra\">algebraic</a>, though she describes it in concrete <a href=\"/wiki/Geometry\" title=\"Geometry\">geometric</a> terms and argues that the Babylonians would also have interpreted this approach geometrically.\\n</p><p>Thus, the tablet can be interpreted as giving a sequence of worked-out exercises.  It makes use of mathematical methods typical of <a href=\"/wiki/Scribe\" title=\"Scribe\">scribal</a> schools of the time, and it is written in a document format used by administrators in that period.<sup id=\"cite_ref-26\" class=\"reference\"><a href=\"#cite_note-26\">&#91;26&#93;</a></sup>  Therefore, Robson argues that the author was probably a scribe, a bureaucrat in Larsa.<sup id=\"cite_ref-Robson118_27-0\" class=\"reference\"><a href=\"#cite_note-Robson118-27\">&#91;27&#93;</a></sup>\\nThe repetitive mathematical set-up of the tablet, and of similar tablets such as BM 80209, would have been useful in allowing a teacher to set problems in the same format as each other but with different data.\\n</p><p><br />\\n</p>\\n<h2><span class=\"mw-headline\" id=\"See_also\">See also</span><span class=\"mw-editsection\"><span class=\"mw-editsection-bracket\">[</span><a href=\"/w/index.php?title=Plimpton_322&amp;action=edit&amp;section=11\" title=\"Edit section: See also\">edit</a><span class=\"mw-editsection-bracket\">]</span></span></h2>\\n<ul><li><a href=\"/wiki/IM_67118\" title=\"IM 67118\">IM 67118</a></li>\\n<li><a href=\"/wiki/Moscow_Mathematical_Papyrus\" title=\"Moscow Mathematical Papyrus\">Moscow Mathematical Papyrus</a></li>\\n<li><a href=\"/wiki/Rhind_Mathematical_Papyrus\" title=\"Rhind Mathematical Papyrus\">Rhind Mathematical Papyrus</a></li>\\n<li><a href=\"/wiki/YBC_7289\" title=\"YBC 7289\">YBC 7289</a></li></ul>\\n<h2><span class=\"mw-headline\" id=\"Notes\">Notes</span><span class=\"mw-editsection\"><span class=\"mw-editsection-bracket\">[</span><a href=\"/w/index.php?title=Plimpton_322&amp;action=edit&amp;section=12\" title=\"Edit section: Notes\">edit</a><span class=\"mw-editsection-bracket\">]</span></span></h2>\\n<style data-mw-deduplicate=\"TemplateStyles:r1011085734\">.mw-parser-output .reflist{font-size:90%;margin-bottom:0.5em;list-style-type:decimal}.mw-parser-output .reflist .references{font-size:100%;margin-bottom:0;list-style-type:inherit}.mw-parser-output .reflist-columns-2{column-width:30em}.mw-parser-output .reflist-columns-3{column-width:25em}.mw-parser-output .reflist-columns{margin-top:0.3em}.mw-parser-output .reflist-columns ol{margin-top:0}.mw-parser-output .reflist-columns li{page-break-inside:avoid;break-inside:avoid-column}.mw-parser-output .reflist-upper-alpha{list-style-type:upper-alpha}.mw-parser-output .reflist-upper-roman{list-style-type:upper-roman}.mw-parser-output .reflist-lower-alpha{list-style-type:lower-alpha}.mw-parser-output .reflist-lower-greek{list-style-type:lower-greek}.mw-parser-output .reflist-lower-roman{list-style-type:lower-roman}</style><div class=\"reflist reflist-columns references-column-width\" style=\"column-width: 30em;\">\\n<ol class=\"references\">\\n<li id=\"cite_note-1\"><span class=\"mw-cite-backlink\"><b><a href=\"#cite_ref-1\">^</a></b></span> <span class=\"reference-text\"><style data-mw-deduplicate=\"TemplateStyles:r1067248974\">.mw-parser-output cite.citation{font-style:inherit;word-wrap:break-word}.mw-parser-output .citation q{quotes:\"\\\\\"\"\"\\\\\"\"\"\\'\"\"\\'\"}.mw-parser-output .citation:target{background-color:rgba(0,127,255,0.133)}.mw-parser-output .id-lock-free a,.mw-parser-output .citation .cs1-lock-free a{background:linear-gradient(transparent,transparent),url(\"//upload.wikimedia.org/wikipedia/commons/6/65/Lock-green.svg\")right 0.1em center/9px no-repeat}.mw-parser-output .id-lock-limited a,.mw-parser-output .id-lock-registration a,.mw-parser-output .citation .cs1-lock-limited a,.mw-parser-output .citation .cs1-lock-registration a{background:linear-gradient(transparent,transparent),url(\"//upload.wikimedia.org/wikipedia/commons/d/d6/Lock-gray-alt-2.svg\")right 0.1em center/9px no-repeat}.mw-parser-output .id-lock-subscription a,.mw-parser-output .citation .cs1-lock-subscription a{background:linear-gradient(transparent,transparent),url(\"//upload.wikimedia.org/wikipedia/commons/a/aa/Lock-red-alt-2.svg\")right 0.1em center/9px no-repeat}.mw-parser-output .cs1-ws-icon a{background:linear-gradient(transparent,transparent),url(\"//upload.wikimedia.org/wikipedia/commons/4/4c/Wikisource-logo.svg\")right 0.1em center/12px no-repeat}.mw-parser-output .cs1-code{color:inherit;background:inherit;border:none;padding:inherit}.mw-parser-output .cs1-hidden-error{display:none;color:#d33}.mw-parser-output .cs1-visible-error{color:#d33}.mw-parser-output .cs1-maint{display:none;color:#3a3;margin-left:0.3em}.mw-parser-output .cs1-format{font-size:95%}.mw-parser-output .cs1-kern-left{padding-left:0.2em}.mw-parser-output .cs1-kern-right{padding-right:0.2em}.mw-parser-output .citation .mw-selflink{font-weight:inherit}</style><cite class=\"citation cs2\">\"158. Cuneiform Tablet. Larsa (Tell Senkereh), Iraq, ca. 1820-1762 BCE. -- RBML, <i>Plimpton Cuneiform</i> 322\", <a rel=\"nofollow\" class=\"external text\" href=\"http://www.columbia.edu/cu/lweb/eresources/exhibitions/treasures/html/158.html\"><i>Jewels in Her Crown: Treasures of Columbia University Libraries Special Collections</i></a>, <a href=\"/wiki/Columbia_University\" title=\"Columbia University\">Columbia University</a>, 2004</cite><span title=\"ctx_ver=Z39.88-2004&amp;rft_val_fmt=info%3Aofi%2Ffmt%3Akev%3Amtx%3Abook&amp;rft.genre=bookitem&amp;rft.atitle=158.+Cuneiform+Tablet.+Larsa+%28Tell+Senkereh%29%2C+Iraq%2C+ca.+1820-1762+BCE.+--+RBML%2C+Plimpton+Cuneiform+322&amp;rft.btitle=Jewels+in+Her+Crown%3A+Treasures+of+Columbia+University+Libraries+Special+Collections&amp;rft.pub=Columbia+University&amp;rft.date=2004&amp;rft_id=http%3A%2F%2Fwww.columbia.edu%2Fcu%2Flweb%2Feresources%2Fexhibitions%2Ftreasures%2Fhtml%2F158.html&amp;rfr_id=info%3Asid%2Fen.wikipedia.org%3APlimpton+322\" class=\"Z3988\"></span>.</span>\\n</li>\\n<li id=\"cite_note-2\"><span class=\"mw-cite-backlink\"><b><a href=\"#cite_ref-2\">^</a></b></span> <span class=\"reference-text\"><a href=\"#CITEREFRobson2002\">Robson (2002)</a>, p. 109.</span>\\n</li>\\n<li id=\"cite_note-3\"><span class=\"mw-cite-backlink\"><b><a href=\"#cite_ref-3\">^</a></b></span> <span class=\"reference-text\">When comparing dates given by different sources, note that many of Wikipedia\\'s articles on the ancient world use the short chronology, while much of the history of mathematics literature uses the middle chronology.  An exception is <a href=\"#CITEREFBrittonProustShnider2011\">Britton, Proust &amp; Shnider (2011)</a>, which uses the long chronology.</span>\\n</li>\\n<li id=\"cite_note-4\"><span class=\"mw-cite-backlink\"><b><a href=\"#cite_ref-4\">^</a></b></span> <span class=\"reference-text\"><a href=\"#CITEREFRobson2002\">Robson (2002)</a>, p. 111.</span>\\n</li>\\n<li id=\"cite_note-5\"><span class=\"mw-cite-backlink\"><b><a href=\"#cite_ref-5\">^</a></b></span> <span class=\"reference-text\"><a href=\"#CITEREFRobson2002\">Robson (2002)</a>, p. 110.</span>\\n</li>\\n<li id=\"cite_note-6\"><span class=\"mw-cite-backlink\"><b><a href=\"#cite_ref-6\">^</a></b></span> <span class=\"reference-text\"><a href=\"#CITEREFRobson2001\">Robson (2001)</a>, p. 191}}</span>\\n</li>\\n<li id=\"cite_note-7\"><span class=\"mw-cite-backlink\"><b><a href=\"#cite_ref-7\">^</a></b></span> <span class=\"reference-text\"><a href=\"#CITEREFFriberg1981\">Friberg (1981)</a>, p. 298; <a href=\"#CITEREFRobson2001\">Robson (2001)</a>, p. 192; <a href=\"#CITEREFBrittonProustShnider2011\">Britton, Proust &amp; Shnider (2011)</a>, p, 538</span>\\n</li>\\n<li id=\"cite_note-8\"><span class=\"mw-cite-backlink\"><b><a href=\"#cite_ref-8\">^</a></b></span> <span class=\"reference-text\"><a href=\"#CITEREFFriberg1981\">Friberg (1981)</a>, p. 298; <a href=\"#CITEREFRobson2001\">Robson (2001)</a>, p. 193; <a href=\"#CITEREFBrittonProustShnider2011\">Britton, Proust &amp; Shnider (2011)</a>, p, 538</span>\\n</li>\\n<li id=\"cite_note-9\"><span class=\"mw-cite-backlink\"><b><a href=\"#cite_ref-9\">^</a></b></span> <span class=\"reference-text\">See also <a href=\"#CITEREFFriberg1981\">Friberg (1981)</a>, pp. 298–299; <a href=\"#CITEREFRobson2001\">Robson (2001)</a>, p. 193; <a href=\"#CITEREFBrittonProustShnider2011\">Britton, Proust &amp; Shnider (2011)</a>, p, 537–538.</span>\\n</li>\\n<li id=\"cite_note-10\"><span class=\"mw-cite-backlink\"><b><a href=\"#cite_ref-10\">^</a></b></span> <span class=\"reference-text\"><a href=\"#CITEREFFriberg2007\">Friberg (2007)</a>, p. 449}}</span>\\n</li>\\n<li id=\"cite_note-11\"><span class=\"mw-cite-backlink\"><b><a href=\"#cite_ref-11\">^</a></b></span> <span class=\"reference-text\"><a href=\"#CITEREFBruins1949\">Bruins (1949)</a>, <a href=\"#CITEREFBruins1951\">Bruins (1951)</a>, <a href=\"#CITEREFBruins1957\">Bruins (1957)</a></span>\\n</li>\\n<li id=\"cite_note-12\"><span class=\"mw-cite-backlink\"><b><a href=\"#cite_ref-12\">^</a></b></span> <span class=\"reference-text\">unpublished, but described in <a href=\"#CITEREFBuck1980\">Buck (1980)</a></span>\\n</li>\\n<li id=\"cite_note-13\"><span class=\"mw-cite-backlink\"><b><a href=\"#cite_ref-13\">^</a></b></span> <span class=\"reference-text\"><a href=\"#CITEREFFriberg1981\">Friberg (1981)</a>, <a href=\"#CITEREFFriberg2007\">Friberg (2007)</a></span>\\n</li>\\n<li id=\"cite_note-14\"><span class=\"mw-cite-backlink\"><b><a href=\"#cite_ref-14\">^</a></b></span> <span class=\"reference-text\"><a href=\"#CITEREFFriberg2007\">Friberg (2007)</a>, p. 24</span>\\n</li>\\n<li id=\"cite_note-15\"><span class=\"mw-cite-backlink\"><b><a href=\"#cite_ref-15\">^</a></b></span> <span class=\"reference-text\"><a href=\"#CITEREFRobson2001\">Robson (2001)</a>, pp. 201–202}}</span>\\n</li>\\n<li id=\"cite_note-16\"><span class=\"mw-cite-backlink\"><b><a href=\"#cite_ref-16\">^</a></b></span> <span class=\"reference-text\"><a href=\"#CITEREFFriberg2007\">Friberg (2007)</a>, pp. 245, 255</span>\\n</li>\\n<li id=\"cite_note-17\"><span class=\"mw-cite-backlink\"><b><a href=\"#cite_ref-17\">^</a></b></span> <span class=\"reference-text\"><a href=\"#CITEREFFriberg2007\">Friberg (2007)</a>, p. 275</span>\\n</li>\\n<li id=\"cite_note-18\"><span class=\"mw-cite-backlink\"><b><a href=\"#cite_ref-18\">^</a></b></span> <span class=\"reference-text\"><a href=\"#CITEREFBrittonProustShnider2011\">Britton, Proust &amp; Shnider (2011)</a>, p. 559</span>\\n</li>\\n<li id=\"cite_note-19\"><span class=\"mw-cite-backlink\"><b><a href=\"#cite_ref-19\">^</a></b></span> <span class=\"reference-text\"><a href=\"#CITEREFFriberg1981\">Friberg (1981)</a>, <a href=\"#CITEREFBrittonProustShnider2011\">Britton, Proust &amp; Shnider (2011)</a></span>\\n</li>\\n<li id=\"cite_note-20\"><span class=\"mw-cite-backlink\"><b><a href=\"#cite_ref-20\">^</a></b></span> <span class=\"reference-text\"><a href=\"#CITEREFBruins1957\">Bruins (1957)</a>, <a href=\"#CITEREFRobson2001\">Robson (2001)</a></span>\\n</li>\\n<li id=\"cite_note-21\"><span class=\"mw-cite-backlink\"><b><a href=\"#cite_ref-21\">^</a></b></span> <span class=\"reference-text\"><a href=\"#CITEREFFriberg1981\">Friberg (1981)</a>, <a href=\"#CITEREFBrittonProustShnider2011\">Britton, Proust &amp; Shnider (2011)</a></span>\\n</li>\\n<li id=\"cite_note-22\"><span class=\"mw-cite-backlink\"><b><a href=\"#cite_ref-22\">^</a></b></span> <span class=\"reference-text\"><a href=\"#CITEREFRobson2001\">Robson (2001)</a>, p. 199</span>\\n</li>\\n<li id=\"cite_note-23\"><span class=\"mw-cite-backlink\"><b><a href=\"#cite_ref-23\">^</a></b></span> <span class=\"reference-text\">See also <link rel=\"mw-deduplicated-inline-style\" href=\"mw-data:TemplateStyles:r1067248974\"/><cite id=\"CITEREFJoyce1995\" class=\"citation cs2\">Joyce, David E. (1995), <a rel=\"nofollow\" class=\"external text\" href=\"http://aleph0.clarku.edu/~djoyce/mathhist/plimpnote.html\"><i>Plimpton 322</i></a></cite><span title=\"ctx_ver=Z39.88-2004&amp;rft_val_fmt=info%3Aofi%2Ffmt%3Akev%3Amtx%3Abook&amp;rft.genre=book&amp;rft.btitle=Plimpton+322&amp;rft.date=1995&amp;rft.aulast=Joyce&amp;rft.aufirst=David+E.&amp;rft_id=http%3A%2F%2Faleph0.clarku.edu%2F~djoyce%2Fmathhist%2Fplimpnote.html&amp;rfr_id=info%3Asid%2Fen.wikipedia.org%3APlimpton+322\" class=\"Z3988\"></span> and <link rel=\"mw-deduplicated-inline-style\" href=\"mw-data:TemplateStyles:r1067248974\"/><cite id=\"CITEREFMaor1993\" class=\"citation cs2\">Maor, Eli (1993), <a rel=\"nofollow\" class=\"external text\" href=\"https://web.archive.org/web/20100805230810/http://press.princeton.edu/titles/6287.html\">\"Plimpton 322: The Earliest Trigonometric Table?\"</a>, <i>Trigonometric Delights</i>, Princeton University Press, pp.&#160;30–34, <a href=\"/wiki/ISBN_(identifier)\" class=\"mw-redirect\" title=\"ISBN (identifier)\">ISBN</a>&#160;<a href=\"/wiki/Special:BookSources/978-0-691-09541-7\" title=\"Special:BookSources/978-0-691-09541-7\"><bdi>978-0-691-09541-7</bdi></a>, archived from <a rel=\"nofollow\" class=\"external text\" href=\"http://press.princeton.edu/titles/6287.html\">the original</a> on 5 August 2010<span class=\"reference-accessdate\">, retrieved <span class=\"nowrap\">November 28,</span> 2010</span></cite><span title=\"ctx_ver=Z39.88-2004&amp;rft_val_fmt=info%3Aofi%2Ffmt%3Akev%3Amtx%3Abook&amp;rft.genre=bookitem&amp;rft.atitle=Plimpton+322%3A+The+Earliest+Trigonometric+Table%3F&amp;rft.btitle=Trigonometric+Delights&amp;rft.pages=30-34&amp;rft.pub=Princeton+University+Press&amp;rft.date=1993&amp;rft.isbn=978-0-691-09541-7&amp;rft.aulast=Maor&amp;rft.aufirst=Eli&amp;rft_id=http%3A%2F%2Fpress.princeton.edu%2Ftitles%2F6287.html&amp;rfr_id=info%3Asid%2Fen.wikipedia.org%3APlimpton+322\" class=\"Z3988\"></span>.</span>\\n</li>\\n<li id=\"cite_note-24\"><span class=\"mw-cite-backlink\"><b><a href=\"#cite_ref-24\">^</a></b></span> <span class=\"reference-text\"><a href=\"#CITEREFRobson2002\">Robson (2002)</a>, p. 116.</span>\\n</li>\\n<li id=\"cite_note-25\"><span class=\"mw-cite-backlink\"><b><a href=\"#cite_ref-25\">^</a></b></span> <span class=\"reference-text\"><link rel=\"mw-deduplicated-inline-style\" href=\"mw-data:TemplateStyles:r1067248974\"/><cite class=\"citation cs2\"><a rel=\"nofollow\" class=\"external text\" href=\"http://www.maa.org/features/080503_writingprize.html\"><i>MathFest 2003 Prizes and Awards</i></a>, <a href=\"/wiki/Mathematical_Association_of_America\" title=\"Mathematical Association of America\">Mathematical Association of America</a>, 2003</cite><span title=\"ctx_ver=Z39.88-2004&amp;rft_val_fmt=info%3Aofi%2Ffmt%3Akev%3Amtx%3Abook&amp;rft.genre=book&amp;rft.btitle=MathFest+2003+Prizes+and+Awards&amp;rft.pub=Mathematical+Association+of+America&amp;rft.date=2003&amp;rft_id=http%3A%2F%2Fwww.maa.org%2Ffeatures%2F080503_writingprize.html&amp;rfr_id=info%3Asid%2Fen.wikipedia.org%3APlimpton+322\" class=\"Z3988\"></span>.</span>\\n</li>\\n<li id=\"cite_note-26\"><span class=\"mw-cite-backlink\"><b><a href=\"#cite_ref-26\">^</a></b></span> <span class=\"reference-text\"><a href=\"#CITEREFRobson2002\">Robson (2002)</a>, pp. 117–118.</span>\\n</li>\\n<li id=\"cite_note-Robson118-27\"><span class=\"mw-cite-backlink\"><b><a href=\"#cite_ref-Robson118_27-0\">^</a></b></span> <span class=\"reference-text\"><a href=\"#CITEREFRobson2002\">Robson (2002)</a>, p. 118.</span>\\n</li>\\n</ol></div>\\n<h2><span class=\"mw-headline\" id=\"References\">References</span><span class=\"mw-editsection\"><span class=\"mw-editsection-bracket\">[</span><a href=\"/w/index.php?title=Plimpton_322&amp;action=edit&amp;section=13\" title=\"Edit section: References\">edit</a><span class=\"mw-editsection-bracket\">]</span></span></h2>\\n<style data-mw-deduplicate=\"TemplateStyles:r1054258005\">.mw-parser-output .refbegin{font-size:90%;margin-bottom:0.5em}.mw-parser-output .refbegin-hanging-indents>ul{margin-left:0}.mw-parser-output .refbegin-hanging-indents>ul>li{margin-left:0;padding-left:3.2em;text-indent:-3.2em}.mw-parser-output .refbegin-hanging-indents ul,.mw-parser-output .refbegin-hanging-indents ul li{list-style:none}@media(max-width:720px){.mw-parser-output .refbegin-hanging-indents>ul>li{padding-left:1.6em;text-indent:-1.6em}}.mw-parser-output .refbegin-columns{margin-top:0.3em}.mw-parser-output .refbegin-columns ul{margin-top:0}.mw-parser-output .refbegin-columns li{page-break-inside:avoid;break-inside:avoid-column}</style><div class=\"refbegin refbegin-columns references-column-count references-column-count-2\" style=\"column-count: 2;\">\\n<ul><li><link rel=\"mw-deduplicated-inline-style\" href=\"mw-data:TemplateStyles:r1067248974\"/><cite id=\"CITEREFBrittonProustShnider2011\" class=\"citation cs2\">Britton, John P.; <a href=\"/wiki/Christine_Proust\" title=\"Christine Proust\">Proust, Christine</a>; Shnider, Steve (2011), \"Plimpton 322: a review and a different perspective\", <i>Archive for History of Exact Sciences</i>, <b>65</b> (5): 519–566, <a href=\"/wiki/Doi_(identifier)\" class=\"mw-redirect\" title=\"Doi (identifier)\">doi</a>:<a rel=\"nofollow\" class=\"external text\" href=\"https://doi.org/10.1007%2Fs00407-011-0083-4\">10.1007/s00407-011-0083-4</a>, <a href=\"/wiki/S2CID_(identifier)\" class=\"mw-redirect\" title=\"S2CID (identifier)\">S2CID</a>&#160;<a rel=\"nofollow\" class=\"external text\" href=\"https://api.semanticscholar.org/CorpusID:120417550\">120417550</a></cite><span title=\"ctx_ver=Z39.88-2004&amp;rft_val_fmt=info%3Aofi%2Ffmt%3Akev%3Amtx%3Ajournal&amp;rft.genre=article&amp;rft.jtitle=Archive+for+History+of+Exact+Sciences&amp;rft.atitle=Plimpton+322%3A+a+review+and+a+different+perspective&amp;rft.volume=65&amp;rft.issue=5&amp;rft.pages=519-566&amp;rft.date=2011&amp;rft_id=info%3Adoi%2F10.1007%2Fs00407-011-0083-4&amp;rft_id=https%3A%2F%2Fapi.semanticscholar.org%2FCorpusID%3A120417550%23id-name%3DS2CID&amp;rft.aulast=Britton&amp;rft.aufirst=John+P.&amp;rft.au=Proust%2C+Christine&amp;rft.au=Shnider%2C+Steve&amp;rfr_id=info%3Asid%2Fen.wikipedia.org%3APlimpton+322\" class=\"Z3988\"></span>.</li>\\n<li><link rel=\"mw-deduplicated-inline-style\" href=\"mw-data:TemplateStyles:r1067248974\"/><cite id=\"CITEREFBruins1949\" class=\"citation cs2\">Bruins, Evert M. (1949), \"On Plimpton 322, Pythagorean numbers in Babylonian mathematics\", <i>Koninklijke Nederlandse Akademie van Wetenschappen Proceedings</i>, <b>52</b>: 629–632</cite><span title=\"ctx_ver=Z39.88-2004&amp;rft_val_fmt=info%3Aofi%2Ffmt%3Akev%3Amtx%3Ajournal&amp;rft.genre=article&amp;rft.jtitle=Koninklijke+Nederlandse+Akademie+van+Wetenschappen+Proceedings&amp;rft.atitle=On+Plimpton+322%2C+Pythagorean+numbers+in+Babylonian+mathematics&amp;rft.volume=52&amp;rft.pages=629-632&amp;rft.date=1949&amp;rft.aulast=Bruins&amp;rft.aufirst=Evert+M.&amp;rfr_id=info%3Asid%2Fen.wikipedia.org%3APlimpton+322\" class=\"Z3988\"></span>.</li>\\n<li><link rel=\"mw-deduplicated-inline-style\" href=\"mw-data:TemplateStyles:r1067248974\"/><cite id=\"CITEREFBruins1951\" class=\"citation cs2\">Bruins, Evert M. (1951), \"Pythagorean triads in Babylonian mathematics: The errors on Plimpton 322\", <i>Sumer</i>, <b>11</b>: 117–121</cite><span title=\"ctx_ver=Z39.88-2004&amp;rft_val_fmt=info%3Aofi%2Ffmt%3Akev%3Amtx%3Ajournal&amp;rft.genre=article&amp;rft.jtitle=Sumer&amp;rft.atitle=Pythagorean+triads+in+Babylonian+mathematics%3A+The+errors+on+Plimpton+322&amp;rft.volume=11&amp;rft.pages=117-121&amp;rft.date=1951&amp;rft.aulast=Bruins&amp;rft.aufirst=Evert+M.&amp;rfr_id=info%3Asid%2Fen.wikipedia.org%3APlimpton+322\" class=\"Z3988\"></span>.</li>\\n<li><link rel=\"mw-deduplicated-inline-style\" href=\"mw-data:TemplateStyles:r1067248974\"/><cite id=\"CITEREFBruins1957\" class=\"citation cs2\">Bruins, E. M. (1957), \"Pythagorean Triads in Babylonian Mathematics\", <i><a href=\"/wiki/The_Mathematical_Gazette\" title=\"The Mathematical Gazette\">The Mathematical Gazette</a></i>, <b>41</b> (335): 25–28, <a href=\"/wiki/Doi_(identifier)\" class=\"mw-redirect\" title=\"Doi (identifier)\">doi</a>:<a rel=\"nofollow\" class=\"external text\" href=\"https://doi.org/10.2307%2F3611533\">10.2307/3611533</a>, <a href=\"/wiki/JSTOR_(identifier)\" class=\"mw-redirect\" title=\"JSTOR (identifier)\">JSTOR</a>&#160;<a rel=\"nofollow\" class=\"external text\" href=\"//www.jstor.org/stable/3611533\">3611533</a></cite><span title=\"ctx_ver=Z39.88-2004&amp;rft_val_fmt=info%3Aofi%2Ffmt%3Akev%3Amtx%3Ajournal&amp;rft.genre=article&amp;rft.jtitle=The+Mathematical+Gazette&amp;rft.atitle=Pythagorean+Triads+in+Babylonian+Mathematics&amp;rft.volume=41&amp;rft.issue=335&amp;rft.pages=25-28&amp;rft.date=1957&amp;rft_id=info%3Adoi%2F10.2307%2F3611533&amp;rft_id=%2F%2Fwww.jstor.org%2Fstable%2F3611533%23id-name%3DJSTOR&amp;rft.aulast=Bruins&amp;rft.aufirst=E.+M.&amp;rfr_id=info%3Asid%2Fen.wikipedia.org%3APlimpton+322\" class=\"Z3988\"></span>.</li>\\n<li><link rel=\"mw-deduplicated-inline-style\" href=\"mw-data:TemplateStyles:r1067248974\"/><cite id=\"CITEREFBuck1980\" class=\"citation cs2\">Buck, R. Creighton (1980), <a rel=\"nofollow\" class=\"external text\" href=\"https://www.maa.org/sites/default/files/pdf/upload_library/22/Ford/Buck335-345.pdf\">\"Sherlock Holmes in Babylon\"</a> <span class=\"cs1-format\">(PDF)</span>, <i><a href=\"/wiki/American_Mathematical_Monthly\" class=\"mw-redirect\" title=\"American Mathematical Monthly\">American Mathematical Monthly</a></i>, Mathematical Association of America, <b>87</b> (5): 335–345, <a href=\"/wiki/Doi_(identifier)\" class=\"mw-redirect\" title=\"Doi (identifier)\">doi</a>:<a rel=\"nofollow\" class=\"external text\" href=\"https://doi.org/10.2307%2F2321200\">10.2307/2321200</a>, <a href=\"/wiki/JSTOR_(identifier)\" class=\"mw-redirect\" title=\"JSTOR (identifier)\">JSTOR</a>&#160;<a rel=\"nofollow\" class=\"external text\" href=\"//www.jstor.org/stable/2321200\">2321200</a></cite><span title=\"ctx_ver=Z39.88-2004&amp;rft_val_fmt=info%3Aofi%2Ffmt%3Akev%3Amtx%3Ajournal&amp;rft.genre=article&amp;rft.jtitle=American+Mathematical+Monthly&amp;rft.atitle=Sherlock+Holmes+in+Babylon&amp;rft.volume=87&amp;rft.issue=5&amp;rft.pages=335-345&amp;rft.date=1980&amp;rft_id=info%3Adoi%2F10.2307%2F2321200&amp;rft_id=%2F%2Fwww.jstor.org%2Fstable%2F2321200%23id-name%3DJSTOR&amp;rft.aulast=Buck&amp;rft.aufirst=R.+Creighton&amp;rft_id=https%3A%2F%2Fwww.maa.org%2Fsites%2Fdefault%2Ffiles%2Fpdf%2Fupload_library%2F22%2FFord%2FBuck335-345.pdf&amp;rfr_id=info%3Asid%2Fen.wikipedia.org%3APlimpton+322\" class=\"Z3988\"></span>.</li>\\n<li><link rel=\"mw-deduplicated-inline-style\" href=\"mw-data:TemplateStyles:r1067248974\"/><cite id=\"CITEREFConwayGuy1996\" class=\"citation cs2\"><a href=\"/wiki/John_H._Conway\" class=\"mw-redirect\" title=\"John H. Conway\">Conway, John H.</a>; <a href=\"/wiki/Richard_K._Guy\" title=\"Richard K. Guy\">Guy, Richard K.</a> (1996), <a rel=\"nofollow\" class=\"external text\" href=\"https://archive.org/details/bookofnumbers0000conw/page/172\"><i>The Book of Numbers</i></a>, Copernicus, pp.&#160;<a rel=\"nofollow\" class=\"external text\" href=\"https://archive.org/details/bookofnumbers0000conw/page/172\">172–176</a>, <a href=\"/wiki/ISBN_(identifier)\" class=\"mw-redirect\" title=\"ISBN (identifier)\">ISBN</a>&#160;<a href=\"/wiki/Special:BookSources/0-387-97993-X\" title=\"Special:BookSources/0-387-97993-X\"><bdi>0-387-97993-X</bdi></a></cite><span title=\"ctx_ver=Z39.88-2004&amp;rft_val_fmt=info%3Aofi%2Ffmt%3Akev%3Amtx%3Abook&amp;rft.genre=book&amp;rft.btitle=The+Book+of+Numbers&amp;rft.pages=172-176&amp;rft.pub=Copernicus&amp;rft.date=1996&amp;rft.isbn=0-387-97993-X&amp;rft.aulast=Conway&amp;rft.aufirst=John+H.&amp;rft.au=Guy%2C+Richard+K.&amp;rft_id=https%3A%2F%2Farchive.org%2Fdetails%2Fbookofnumbers0000conw%2Fpage%2F172&amp;rfr_id=info%3Asid%2Fen.wikipedia.org%3APlimpton+322\" class=\"Z3988\"></span>.</li>\\n<li><link rel=\"mw-deduplicated-inline-style\" href=\"mw-data:TemplateStyles:r1067248974\"/><cite id=\"CITEREFFriberg1981\" class=\"citation cs2\">Friberg, Jöran (1981), \"Methods and traditions of Babylonian mathematics: Plimpton 322. Pythagorean triples and the Babylonian triangle parameter equations\", <i>Historia Mathematica</i>, <b>8</b>: 277–318, <a href=\"/wiki/Doi_(identifier)\" class=\"mw-redirect\" title=\"Doi (identifier)\">doi</a>:<span class=\"cs1-lock-free\" title=\"Freely accessible\"><a rel=\"nofollow\" class=\"external text\" href=\"https://doi.org/10.1016%2F0315-0860%2881%2990069-0\">10.1016/0315-0860(81)90069-0</a></span></cite><span title=\"ctx_ver=Z39.88-2004&amp;rft_val_fmt=info%3Aofi%2Ffmt%3Akev%3Amtx%3Ajournal&amp;rft.genre=article&amp;rft.jtitle=Historia+Mathematica&amp;rft.atitle=Methods+and+traditions+of+Babylonian+mathematics%3A+Plimpton+322.+Pythagorean+triples+and+the+Babylonian+triangle+parameter+equations&amp;rft.volume=8&amp;rft.pages=277-318&amp;rft.date=1981&amp;rft_id=info%3Adoi%2F10.1016%2F0315-0860%2881%2990069-0&amp;rft.aulast=Friberg&amp;rft.aufirst=J%C3%B6ran&amp;rfr_id=info%3Asid%2Fen.wikipedia.org%3APlimpton+322\" class=\"Z3988\"></span>.</li>\\n<li><link rel=\"mw-deduplicated-inline-style\" href=\"mw-data:TemplateStyles:r1067248974\"/><cite id=\"CITEREFFriberg2007\" class=\"citation cs2\">Friberg, Jöran (2007), <i>A Remarkable Collection of Babylonian Mathematical Texts: Manuscripts in the Schøyen Collection, Cuneiform Texts I</i>, Sources and Studies in the History of Mathematics and Physical Sciences, Berlin: Springer</cite><span title=\"ctx_ver=Z39.88-2004&amp;rft_val_fmt=info%3Aofi%2Ffmt%3Akev%3Amtx%3Abook&amp;rft.genre=book&amp;rft.btitle=A+Remarkable+Collection+of+Babylonian+Mathematical+Texts%3A+Manuscripts+in+the+Sch%C3%B8yen+Collection%2C+Cuneiform+Texts+I&amp;rft.place=Berlin&amp;rft.series=Sources+and+Studies+in+the+History+of+Mathematics+and+Physical+Sciences&amp;rft.pub=Springer&amp;rft.date=2007&amp;rft.aulast=Friberg&amp;rft.aufirst=J%C3%B6ran&amp;rfr_id=info%3Asid%2Fen.wikipedia.org%3APlimpton+322\" class=\"Z3988\"></span>.</li>\\n<li><link rel=\"mw-deduplicated-inline-style\" href=\"mw-data:TemplateStyles:r1067248974\"/><cite id=\"CITEREFNeugebauer1957\" class=\"citation cs2\"><a href=\"/wiki/Otto_E._Neugebauer\" title=\"Otto E. Neugebauer\">Neugebauer, Otto</a> (1957), <a rel=\"nofollow\" class=\"external text\" href=\"https://books.google.com/books?id=JVhTtVA2zr8C&amp;pg=PA36\">\"The Exact Sciences in Antiquity\"</a>, <i>Acta Historica Scientiarum Naturalium et Medicinalium</i>, Dover Publications, <b>9</b>: 36–40, <a href=\"/wiki/ISBN_(identifier)\" class=\"mw-redirect\" title=\"ISBN (identifier)\">ISBN</a>&#160;<a href=\"/wiki/Special:BookSources/978-0-486-22332-2\" title=\"Special:BookSources/978-0-486-22332-2\"><bdi>978-0-486-22332-2</bdi></a>, <a href=\"/wiki/PMID_(identifier)\" class=\"mw-redirect\" title=\"PMID (identifier)\">PMID</a>&#160;<a rel=\"nofollow\" class=\"external text\" href=\"//pubmed.ncbi.nlm.nih.gov/14884919\">14884919</a></cite><span title=\"ctx_ver=Z39.88-2004&amp;rft_val_fmt=info%3Aofi%2Ffmt%3Akev%3Amtx%3Ajournal&amp;rft.genre=article&amp;rft.jtitle=Acta+Historica+Scientiarum+Naturalium+et+Medicinalium&amp;rft.atitle=The+Exact+Sciences+in+Antiquity&amp;rft.volume=9&amp;rft.pages=36-40&amp;rft.date=1957&amp;rft_id=info%3Apmid%2F14884919&amp;rft.isbn=978-0-486-22332-2&amp;rft.aulast=Neugebauer&amp;rft.aufirst=Otto&amp;rft_id=https%3A%2F%2Fbooks.google.com%2Fbooks%3Fid%3DJVhTtVA2zr8C%26pg%3DPA36&amp;rfr_id=info%3Asid%2Fen.wikipedia.org%3APlimpton+322\" class=\"Z3988\"></span>.</li>\\n<li><link rel=\"mw-deduplicated-inline-style\" href=\"mw-data:TemplateStyles:r1067248974\"/><cite id=\"CITEREFNeugebauerSachs1945\" class=\"citation cs2\"><a href=\"/wiki/Otto_E._Neugebauer\" title=\"Otto E. Neugebauer\">Neugebauer, O.</a>; Sachs, A. J. (1945), <a rel=\"nofollow\" class=\"external text\" href=\"https://books.google.com/books?id=i-juAAAAMAAJ&amp;pg=PA38\"><i>Mathematical Cuneiform Texts</i></a>, American Oriental Series, vol.&#160;29, New Haven: American Oriental Society and the American Schools of Oriental Research, pp.&#160;38–41</cite><span title=\"ctx_ver=Z39.88-2004&amp;rft_val_fmt=info%3Aofi%2Ffmt%3Akev%3Amtx%3Abook&amp;rft.genre=book&amp;rft.btitle=Mathematical+Cuneiform+Texts&amp;rft.place=New+Haven&amp;rft.series=American+Oriental+Series&amp;rft.pages=38-41&amp;rft.pub=American+Oriental+Society+and+the+American+Schools+of+Oriental+Research&amp;rft.date=1945&amp;rft.aulast=Neugebauer&amp;rft.aufirst=O.&amp;rft.au=Sachs%2C+A.+J.&amp;rft_id=https%3A%2F%2Fbooks.google.com%2Fbooks%3Fid%3Di-juAAAAMAAJ%26pg%3DPA38&amp;rfr_id=info%3Asid%2Fen.wikipedia.org%3APlimpton+322\" class=\"Z3988\"></span>.</li>\\n<li><link rel=\"mw-deduplicated-inline-style\" href=\"mw-data:TemplateStyles:r1067248974\"/><cite id=\"CITEREFRobson2001\" class=\"citation cs2\"><a href=\"/wiki/Eleanor_Robson\" title=\"Eleanor Robson\">Robson, Eleanor</a> (August 2001), <a rel=\"nofollow\" class=\"external text\" href=\"https://ora.ox.ac.uk/objects/uuid:e3d8eedb-e745-45b3-8612-71f8951599aa\">\"Neither Sherlock Holmes nor Babylon: a reassessment of Plimpton 322\"</a>, <i>Historia Math.</i>, <b>28</b> (3): 167–206, <a href=\"/wiki/Doi_(identifier)\" class=\"mw-redirect\" title=\"Doi (identifier)\">doi</a>:<a rel=\"nofollow\" class=\"external text\" href=\"https://doi.org/10.1006%2Fhmat.2001.2317\">10.1006/hmat.2001.2317</a>, <a href=\"/wiki/MR_(identifier)\" class=\"mw-redirect\" title=\"MR (identifier)\">MR</a>&#160;<a rel=\"nofollow\" class=\"external text\" href=\"//www.ams.org/mathscinet-getitem?mr=1849797\">1849797</a></cite><span title=\"ctx_ver=Z39.88-2004&amp;rft_val_fmt=info%3Aofi%2Ffmt%3Akev%3Amtx%3Ajournal&amp;rft.genre=article&amp;rft.jtitle=Historia+Math.&amp;rft.atitle=Neither+Sherlock+Holmes+nor+Babylon%3A+a+reassessment+of+Plimpton+322&amp;rft.volume=28&amp;rft.issue=3&amp;rft.pages=167-206&amp;rft.date=2001-08&amp;rft_id=info%3Adoi%2F10.1006%2Fhmat.2001.2317&amp;rft_id=%2F%2Fwww.ams.org%2Fmathscinet-getitem%3Fmr%3D1849797%23id-name%3DMR&amp;rft.aulast=Robson&amp;rft.aufirst=Eleanor&amp;rft_id=https%3A%2F%2Fora.ox.ac.uk%2Fobjects%2Fuuid%3Ae3d8eedb-e745-45b3-8612-71f8951599aa&amp;rfr_id=info%3Asid%2Fen.wikipedia.org%3APlimpton+322\" class=\"Z3988\"></span>.</li>\\n<li><link rel=\"mw-deduplicated-inline-style\" href=\"mw-data:TemplateStyles:r1067248974\"/><cite id=\"CITEREFRobson2002\" class=\"citation cs2\"><a href=\"/wiki/Eleanor_Robson\" title=\"Eleanor Robson\">Robson, Eleanor</a> (February 2002), <a rel=\"nofollow\" class=\"external text\" href=\"http://www.maa.org/sites/default/files/pdf/upload_library/22/Ford/Robson105-120.pdf\">\"Words and pictures: new light on Plimpton 322\"</a> <span class=\"cs1-format\">(PDF)</span>, <i><a href=\"/wiki/American_Mathematical_Monthly\" class=\"mw-redirect\" title=\"American Mathematical Monthly\">American Mathematical Monthly</a></i>, Mathematical Association of America, <b>109</b> (2): 105–120, <a href=\"/wiki/Doi_(identifier)\" class=\"mw-redirect\" title=\"Doi (identifier)\">doi</a>:<a rel=\"nofollow\" class=\"external text\" href=\"https://doi.org/10.2307%2F2695324\">10.2307/2695324</a>, <a href=\"/wiki/JSTOR_(identifier)\" class=\"mw-redirect\" title=\"JSTOR (identifier)\">JSTOR</a>&#160;<a rel=\"nofollow\" class=\"external text\" href=\"//www.jstor.org/stable/2695324\">2695324</a>, <a href=\"/wiki/MR_(identifier)\" class=\"mw-redirect\" title=\"MR (identifier)\">MR</a>&#160;<a rel=\"nofollow\" class=\"external text\" href=\"//www.ams.org/mathscinet-getitem?mr=1903149\">1903149</a></cite><span title=\"ctx_ver=Z39.88-2004&amp;rft_val_fmt=info%3Aofi%2Ffmt%3Akev%3Amtx%3Ajournal&amp;rft.genre=article&amp;rft.jtitle=American+Mathematical+Monthly&amp;rft.atitle=Words+and+pictures%3A+new+light+on+Plimpton+322&amp;rft.volume=109&amp;rft.issue=2&amp;rft.pages=105-120&amp;rft.date=2002-02&amp;rft_id=%2F%2Fwww.ams.org%2Fmathscinet-getitem%3Fmr%3D1903149%23id-name%3DMR&amp;rft_id=%2F%2Fwww.jstor.org%2Fstable%2F2695324%23id-name%3DJSTOR&amp;rft_id=info%3Adoi%2F10.2307%2F2695324&amp;rft.aulast=Robson&amp;rft.aufirst=Eleanor&amp;rft_id=http%3A%2F%2Fwww.maa.org%2Fsites%2Fdefault%2Ffiles%2Fpdf%2Fupload_library%2F22%2FFord%2FRobson105-120.pdf&amp;rfr_id=info%3Asid%2Fen.wikipedia.org%3APlimpton+322\" class=\"Z3988\"></span>.</li>\\n<li><link rel=\"mw-deduplicated-inline-style\" href=\"mw-data:TemplateStyles:r1067248974\"/><cite id=\"CITEREFde_Solla_Price1964\" class=\"citation cs2\"><a href=\"/wiki/Derek_J._de_Solla_Price\" title=\"Derek J. de Solla Price\">de Solla Price, Derek J.</a> (September 1964), \"The Babylonian \"Pythagorean triangle\" tablet\", <i>Centaurus</i>, <b>10</b> (1): 1–13, <a href=\"/wiki/Bibcode_(identifier)\" class=\"mw-redirect\" title=\"Bibcode (identifier)\">Bibcode</a>:<a rel=\"nofollow\" class=\"external text\" href=\"https://ui.adsabs.harvard.edu/abs/1964Cent...10....1D\">1964Cent...10....1D</a>, <a href=\"/wiki/Doi_(identifier)\" class=\"mw-redirect\" title=\"Doi (identifier)\">doi</a>:<a rel=\"nofollow\" class=\"external text\" href=\"https://doi.org/10.1111%2Fj.1600-0498.1964.tb00385.x\">10.1111/j.1600-0498.1964.tb00385.x</a>, <a href=\"/wiki/MR_(identifier)\" class=\"mw-redirect\" title=\"MR (identifier)\">MR</a>&#160;<a rel=\"nofollow\" class=\"external text\" href=\"//www.ams.org/mathscinet-getitem?mr=0172779\">0172779</a></cite><span title=\"ctx_ver=Z39.88-2004&amp;rft_val_fmt=info%3Aofi%2Ffmt%3Akev%3Amtx%3Ajournal&amp;rft.genre=article&amp;rft.jtitle=Centaurus&amp;rft.atitle=The+Babylonian+%22Pythagorean+triangle%22+tablet&amp;rft.volume=10&amp;rft.issue=1&amp;rft.pages=1-13&amp;rft.date=1964-09&amp;rft_id=%2F%2Fwww.ams.org%2Fmathscinet-getitem%3Fmr%3D0172779%23id-name%3DMR&amp;rft_id=info%3Adoi%2F10.1111%2Fj.1600-0498.1964.tb00385.x&amp;rft_id=info%3Abibcode%2F1964Cent...10....1D&amp;rft.aulast=de+Solla+Price&amp;rft.aufirst=Derek+J.&amp;rfr_id=info%3Asid%2Fen.wikipedia.org%3APlimpton+322\" class=\"Z3988\"></span>.</li>\\n<li><link rel=\"mw-deduplicated-inline-style\" href=\"mw-data:TemplateStyles:r1067248974\"/><cite id=\"CITEREFSchmidt1980\" class=\"citation cs2\">Schmidt, Olaf (1980), \"On Plimpton 322. Pythagorean numbers in Babylonian mathematics\", <i>Centaurus</i>, <b>24</b> (1): 4–13, <a href=\"/wiki/Bibcode_(identifier)\" class=\"mw-redirect\" title=\"Bibcode (identifier)\">Bibcode</a>:<a rel=\"nofollow\" class=\"external text\" href=\"https://ui.adsabs.harvard.edu/abs/1980Cent...24....4S\">1980Cent...24....4S</a>, <a href=\"/wiki/Doi_(identifier)\" class=\"mw-redirect\" title=\"Doi (identifier)\">doi</a>:<a rel=\"nofollow\" class=\"external text\" href=\"https://doi.org/10.1111%2Fj.1600-0498.1980.tb00363.x\">10.1111/j.1600-0498.1980.tb00363.x</a></cite><span title=\"ctx_ver=Z39.88-2004&amp;rft_val_fmt=info%3Aofi%2Ffmt%3Akev%3Amtx%3Ajournal&amp;rft.genre=article&amp;rft.jtitle=Centaurus&amp;rft.atitle=On+Plimpton+322.+Pythagorean+numbers+in+Babylonian+mathematics&amp;rft.volume=24&amp;rft.issue=1&amp;rft.pages=4-13&amp;rft.date=1980&amp;rft_id=info%3Adoi%2F10.1111%2Fj.1600-0498.1980.tb00363.x&amp;rft_id=info%3Abibcode%2F1980Cent...24....4S&amp;rft.aulast=Schmidt&amp;rft.aufirst=Olaf&amp;rfr_id=info%3Asid%2Fen.wikipedia.org%3APlimpton+322\" class=\"Z3988\"></span>.</li></ul>\\n</div>\\n<h2><span class=\"mw-headline\" id=\"External_links\">External links</span><span class=\"mw-editsection\"><span class=\"mw-editsection-bracket\">[</span><a href=\"/w/index.php?title=Plimpton_322&amp;action=edit&amp;section=14\" title=\"Edit section: External links\">edit</a><span class=\"mw-editsection-bracket\">]</span></span></h2>\\n<ul><li>Entries in the <a href=\"/wiki/Cuneiform_Digital_Library_Initiative\" title=\"Cuneiform Digital Library Initiative\">Cuneiform Digital Library Initiative</a> (CDLI) catalog, including high-quality digital images:\\n<ul><li><a rel=\"nofollow\" class=\"external text\" href=\"https://cdli.ucla.edu/search/search_results.php?SearchMode=Text&amp;ObjectID=P254790\">Plimpton 322</a>,  <a rel=\"nofollow\" class=\"external text\" href=\"http://cdli.ox.ac.uk/wiki/doku.php?id=plimpton322\">CDLI wiki article</a></li>\\n<li><a rel=\"nofollow\" class=\"external text\" href=\"https://cdli.ucla.edu/search/search_results.php?SearchMode=Text&amp;ObjectID=P255041\">YBC 6967</a></li>\\n<li><a rel=\"nofollow\" class=\"external text\" href=\"https://cdli.ucla.edu/search/search_results.php?SearchMode=Text&amp;ObjectID=P252064\">MS 3052</a></li>\\n<li><a rel=\"nofollow\" class=\"external text\" href=\"https://cdli.ucla.edu/search/search_results.php?SearchMode=Text&amp;ObjectID=P253067\">MS 3971</a></li></ul></li></ul>\\n<h2><span class=\"mw-headline\" id=\"Further_reading\">Further reading</span><span class=\"mw-editsection\"><span class=\"mw-editsection-bracket\">[</span><a href=\"/w/index.php?title=Plimpton_322&amp;action=edit&amp;section=15\" title=\"Edit section: Further reading\">edit</a><span class=\"mw-editsection-bracket\">]</span></span></h2>\\n<ul><li><link rel=\"mw-deduplicated-inline-style\" href=\"mw-data:TemplateStyles:r1067248974\"/><cite id=\"CITEREFAbdulaziz2010\" class=\"citation cs2\">Abdulaziz, Abdulrahman Ali (2010), <i>The Plimpton 322 Tablet and the Babylonian Method of Generating Pythagorean Triples</i>, <a href=\"/wiki/ArXiv_(identifier)\" class=\"mw-redirect\" title=\"ArXiv (identifier)\">arXiv</a>:<span class=\"cs1-lock-free\" title=\"Freely accessible\"><a rel=\"nofollow\" class=\"external text\" href=\"//arxiv.org/abs/1004.0025\">1004.0025</a></span>, <a href=\"/wiki/Bibcode_(identifier)\" class=\"mw-redirect\" title=\"Bibcode (identifier)\">Bibcode</a>:<a rel=\"nofollow\" class=\"external text\" href=\"https://ui.adsabs.harvard.edu/abs/2010arXiv1004.0025A\">2010arXiv1004.0025A</a></cite><span title=\"ctx_ver=Z39.88-2004&amp;rft_val_fmt=info%3Aofi%2Ffmt%3Akev%3Amtx%3Abook&amp;rft.genre=book&amp;rft.btitle=The+Plimpton+322+Tablet+and+the+Babylonian+Method+of+Generating+Pythagorean+Triples&amp;rft.date=2010&amp;rft_id=info%3Aarxiv%2F1004.0025&amp;rft_id=info%3Abibcode%2F2010arXiv1004.0025A&amp;rft.aulast=Abdulaziz&amp;rft.aufirst=Abdulrahman+Ali&amp;rfr_id=info%3Asid%2Fen.wikipedia.org%3APlimpton+322\" class=\"Z3988\"></span>.</li>\\n<li><link rel=\"mw-deduplicated-inline-style\" href=\"mw-data:TemplateStyles:r1067248974\"/><cite id=\"CITEREFCasselman2003\" class=\"citation cs2\">Casselman, Bill (2003), <a rel=\"nofollow\" class=\"external text\" href=\"http://www.math.ubc.ca/~cass/courses/m446-03/pl322/pl322.html\"><i>The Babylonian tablet Plimpton 322</i></a>, <a href=\"/wiki/University_of_British_Columbia\" title=\"University of British Columbia\">University of British Columbia</a></cite><span title=\"ctx_ver=Z39.88-2004&amp;rft_val_fmt=info%3Aofi%2Ffmt%3Akev%3Amtx%3Abook&amp;rft.genre=book&amp;rft.btitle=The+Babylonian+tablet+Plimpton+322&amp;rft.pub=University+of+British+Columbia&amp;rft.date=2003&amp;rft.aulast=Casselman&amp;rft.aufirst=Bill&amp;rft_id=http%3A%2F%2Fwww.math.ubc.ca%2F~cass%2Fcourses%2Fm446-03%2Fpl322%2Fpl322.html&amp;rfr_id=info%3Asid%2Fen.wikipedia.org%3APlimpton+322\" class=\"Z3988\"></span>.</li>\\n<li><link rel=\"mw-deduplicated-inline-style\" href=\"mw-data:TemplateStyles:r1067248974\"/><cite id=\"CITEREFKirby2011\" class=\"citation cs2\">Kirby, Laurence (2011), <a rel=\"nofollow\" class=\"external text\" href=\"http://faculty.baruch.cuny.edu/lkirby/\"><i>Plimpton 322: The Ancient Roots of Modern Mathematics</i></a> <span class=\"cs1-format\">(Half-hour video documentary)</span>, <a href=\"/wiki/Baruch_College\" title=\"Baruch College\">Baruch College</a>, <a href=\"/wiki/City_University_of_New_York\" title=\"City University of New York\">City University of New York</a></cite><span title=\"ctx_ver=Z39.88-2004&amp;rft_val_fmt=info%3Aofi%2Ffmt%3Akev%3Amtx%3Abook&amp;rft.genre=book&amp;rft.btitle=Plimpton+322%3A+The+Ancient+Roots+of+Modern+Mathematics&amp;rft.pub=Baruch+College%2C+City+University+of+New+York&amp;rft.date=2011&amp;rft.aulast=Kirby&amp;rft.aufirst=Laurence&amp;rft_id=http%3A%2F%2Ffaculty.baruch.cuny.edu%2Flkirby%2F&amp;rfr_id=info%3Asid%2Fen.wikipedia.org%3APlimpton+322\" class=\"Z3988\"></span>.</li></ul>\\n<h3><span class=\"mw-headline\" id=\"Exhibitions\">Exhibitions</span><span class=\"mw-editsection\"><span class=\"mw-editsection-bracket\">[</span><a href=\"/w/index.php?title=Plimpton_322&amp;action=edit&amp;section=16\" title=\"Edit section: Exhibitions\">edit</a><span class=\"mw-editsection-bracket\">]</span></span></h3>\\n<ul><li><a rel=\"nofollow\" class=\"external text\" href=\"http://www.nyu.edu/isaw/exhibitions/before-pythagoras/\">\"Before Pythagoras: The Culture of Old Babylonian Mathematics\"</a>, <a href=\"/wiki/Institute_for_the_Study_of_the_Ancient_World\" title=\"Institute for the Study of the Ancient World\">Institute for the Study of the Ancient World</a>, <a href=\"/wiki/New_York_University\" title=\"New York University\">New York University</a>, November 12 - December 17, 2010.  Includes photo and description of   <a rel=\"nofollow\" class=\"external text\" href=\"http://www.nyu.edu/isaw/exhibitions/before-pythagoras/items/plimpton-322/\">Plimpton 322</a>).</li>\\n<li><link rel=\"mw-deduplicated-inline-style\" href=\"mw-data:TemplateStyles:r1067248974\"/><cite id=\"CITEREFRothstein2010\" class=\"citation news cs1\">Rothstein, Edward (November 27, 2010). <a rel=\"nofollow\" class=\"external text\" href=\"https://www.nytimes.com/2010/11/27/arts/design/27tablets.html\">\"Masters of Math, From Old Babylon\"</a>. <i>New York Times</i><span class=\"reference-accessdate\">. Retrieved <span class=\"nowrap\">28 November</span> 2010</span>.</cite><span title=\"ctx_ver=Z39.88-2004&amp;rft_val_fmt=info%3Aofi%2Ffmt%3Akev%3Amtx%3Ajournal&amp;rft.genre=article&amp;rft.jtitle=New+York+Times&amp;rft.atitle=Masters+of+Math%2C+From+Old+Babylon&amp;rft.date=2010-11-27&amp;rft.aulast=Rothstein&amp;rft.aufirst=Edward&amp;rft_id=https%3A%2F%2Fwww.nytimes.com%2F2010%2F11%2F27%2Farts%2Fdesign%2F27tablets.html&amp;rfr_id=info%3Asid%2Fen.wikipedia.org%3APlimpton+322\" class=\"Z3988\"></span>.  Review of \"Before Pythagoras\" exhibit, mentioning controversy over Plimpton 322.</li>\\n<li><a rel=\"nofollow\" class=\"external text\" href=\"http://www.columbia.edu/cu/lweb/eresources/exhibitions/treasures/about.html\">\"Jewels in Her Crown: Treasures from the Special                Collections of Columbia’s Libraries\"</a>, Rare Book &amp; Manuscript Library, <a href=\"/wiki/Columbia_University\" title=\"Columbia University\">Columbia University</a>, October 8, 2004 - January 28, 2005.  of <a rel=\"nofollow\" class=\"external text\" href=\"https://exhibitions.library.columbia.edu/exhibits/show/jewels/themes/science/158\">Photo and description</a> of Item 158: Plimpton Cuneiform 322.</li></ul>\\n<!-- \\nNewPP limit report\\nParsed by mw1331\\nCached time: 20220418152240\\nCache expiry: 1814400\\nReduced expiry: false\\nComplications: [vary‐revision‐sha1]\\nCPU time usage: 0.738 seconds\\nReal time usage: 0.834 seconds\\nPreprocessor visited node count: 3608/1000000\\nPost‐expand include size: 47563/2097152 bytes\\nTemplate argument size: 920/2097152 bytes\\nHighest expansion depth: 8/100\\nExpensive parser function count: 0/500\\nUnstrip recursion depth: 1/20\\nUnstrip post‐expand size: 53951/5000000 bytes\\nLua time usage: 0.376/10.000 seconds\\nLua memory usage: 7461040/52428800 bytes\\nNumber of Wikibase entities loaded: 0/400\\n-->\\n<!--\\nTransclusion expansion time report (%,ms,calls,template)\\n100.00%  623.364      1 -total\\n 38.89%  242.445     21 Template:Citation\\n 38.48%  239.858      1 Template:Reflist\\n 29.24%  182.256     67 Template:Harvtxt\\n 12.43%   77.472      1 Template:Short_description\\n  6.84%   42.658      1 Template:Pagetype\\n  2.96%   18.459      4 Template:Main_other\\n  2.37%   14.785      1 Template:SDcat\\n  2.30%   14.362      1 Template:Harvs\\n  1.87%   11.630      1 Template:Cite_news\\n-->\\n\\n<!-- Saved in parser cache with key enwiki:pcache:idhash:2983547-0!canonical and timestamp 20220418152240 and revision id 1075466054. Serialized with JSON.\\n -->\\n</div><noscript><img src=\"//en.wikipedia.org/wiki/Special:CentralAutoLogin/start?type=1x1\" alt=\"\" title=\"\" width=\"1\" height=\"1\" style=\"border: none; position: absolute;\" /></noscript>\\n<div class=\"printfooter\">Retrieved from \"<a dir=\"ltr\" href=\"https://en.wikipedia.org/w/index.php?title=Plimpton_322&amp;oldid=1075466054\">https://en.wikipedia.org/w/index.php?title=Plimpton_322&amp;oldid=1075466054</a>\"</div></div>\\n\\t\\t<div id=\"catlinks\" class=\"catlinks\" data-mw=\"interface\"><div id=\"mw-normal-catlinks\" class=\"mw-normal-catlinks\"><a href=\"/wiki/Help:Category\" title=\"Help:Category\">Categories</a>: <ul><li><a href=\"/wiki/Category:Babylonian_mathematics\" title=\"Category:Babylonian mathematics\">Babylonian mathematics</a></li><li><a href=\"/wiki/Category:Mathematics_manuscripts\" title=\"Category:Mathematics manuscripts\">Mathematics manuscripts</a></li><li><a href=\"/wiki/Category:Clay_tablets\" title=\"Category:Clay tablets\">Clay tablets</a></li><li><a href=\"/wiki/Category:18th-century_BC_works\" title=\"Category:18th-century BC works\">18th-century BC works</a></li><li><a href=\"/wiki/Category:1922_in_Iraq\" title=\"Category:1922 in Iraq\">1922 in Iraq</a></li><li><a href=\"/wiki/Category:1922_archaeological_discoveries\" title=\"Category:1922 archaeological discoveries\">1922 archaeological discoveries</a></li><li><a href=\"/wiki/Category:Columbia_University_Libraries\" title=\"Category:Columbia University Libraries\">Columbia University Libraries</a></li><li><a href=\"/wiki/Category:Dhi_Qar_Governorate\" title=\"Category:Dhi Qar Governorate\">Dhi Qar Governorate</a></li></ul></div><div id=\"mw-hidden-catlinks\" class=\"mw-hidden-catlinks mw-hidden-cats-hidden\">Hidden categories: <ul><li><a href=\"/wiki/Category:Articles_with_short_description\" title=\"Category:Articles with short description\">Articles with short description</a></li><li><a href=\"/wiki/Category:Short_description_is_different_from_Wikidata\" title=\"Category:Short description is different from Wikidata\">Short description is different from Wikidata</a></li></ul></div></div>\\n\\t</div>\\n</div>\\n<div id=\\'mw-data-after-content\\'>\\n\\t<div class=\"read-more-container\"></div>\\n</div>\\n\\n<div id=\"mw-navigation\">\\n\\t<h2>Navigation menu</h2>\\n\\t<div id=\"mw-head\">\\n\\t\\t\\n<nav id=\"p-personal\" class=\"mw-portlet mw-portlet-personal vector-user-menu-legacy vector-menu\" aria-labelledby=\"p-personal-label\" role=\"navigation\" \\n\\t >\\n\\t<label id=\"p-personal-label\" aria-label=\"\" class=\"vector-menu-heading \"  >\\n\\t\\t<span class=\"vector-menu-heading-label\">Personal tools</span>\\n\\t</label>\\n\\t<div class=\"vector-menu-content\">\\n\\t\\t\\n\\t\\t<ul class=\"vector-menu-content-list\"><li id=\"pt-anonuserpage\" class=\"mw-list-item\"><span title=\"The user page for the IP address you are editing as\">Not logged in</span></li><li id=\"pt-anontalk\" class=\"mw-list-item\"><a href=\"/wiki/Special:MyTalk\" title=\"Discussion about edits from this IP address [n]\" accesskey=\"n\"><span>Talk</span></a></li><li id=\"pt-anoncontribs\" class=\"mw-list-item\"><a href=\"/wiki/Special:MyContributions\" title=\"A list of edits made from this IP address [y]\" accesskey=\"y\"><span>Contributions</span></a></li><li id=\"pt-createaccount\" class=\"mw-list-item\"><a href=\"/w/index.php?title=Special:CreateAccount&amp;returnto=Plimpton+322\" title=\"You are encouraged to create an account and log in; however, it is not mandatory\"><span>Create account</span></a></li><li id=\"pt-login\" class=\"mw-list-item\"><a href=\"/w/index.php?title=Special:UserLogin&amp;returnto=Plimpton+322\" title=\"You&#039;re encouraged to log in; however, it&#039;s not mandatory. [o]\" accesskey=\"o\"><span>Log in</span></a></li></ul>\\n\\t\\t\\n\\t</div>\\n</nav>\\n\\n\\t\\t<div id=\"left-navigation\">\\n\\t\\t\\t\\n<nav id=\"p-namespaces\" class=\"mw-portlet mw-portlet-namespaces vector-menu vector-menu-tabs\" aria-labelledby=\"p-namespaces-label\" role=\"navigation\" \\n\\t >\\n\\t<label id=\"p-namespaces-label\" aria-label=\"\" class=\"vector-menu-heading \"  >\\n\\t\\t<span class=\"vector-menu-heading-label\">Namespaces</span>\\n\\t</label>\\n\\t<div class=\"vector-menu-content\">\\n\\t\\t\\n\\t\\t<ul class=\"vector-menu-content-list\"><li id=\"ca-nstab-main\" class=\"selected mw-list-item\"><a href=\"/wiki/Plimpton_322\" title=\"View the content page [c]\" accesskey=\"c\"><span>Article</span></a></li><li id=\"ca-talk\" class=\"mw-list-item\"><a href=\"/wiki/Talk:Plimpton_322\" rel=\"discussion\" title=\"Discuss improvements to the content page [t]\" accesskey=\"t\"><span>Talk</span></a></li></ul>\\n\\t\\t\\n\\t</div>\\n</nav>\\n\\n\\t\\t\\t\\n<nav id=\"p-variants\" class=\"mw-portlet mw-portlet-variants emptyPortlet vector-menu-dropdown-noicon vector-menu vector-menu-dropdown\" aria-labelledby=\"p-variants-label\" role=\"navigation\" \\n\\t >\\n\\t<input type=\"checkbox\"\\n\\t\\tid=\"p-variants-checkbox\"\\n\\t\\trole=\"button\"\\n\\t\\taria-haspopup=\"true\"\\n\\t\\tdata-event-name=\"ui.dropdown-p-variants\"\\n\\t\\tclass=\"vector-menu-checkbox\" aria-labelledby=\"p-variants-label\" />\\n\\t<label id=\"p-variants-label\" aria-label=\"Change language variant\" class=\"vector-menu-heading \"  >\\n\\t\\t<span class=\"vector-menu-heading-label\">English</span>\\n\\t</label>\\n\\t<div class=\"vector-menu-content\">\\n\\t\\t\\n\\t\\t<ul class=\"vector-menu-content-list\"></ul>\\n\\t\\t\\n\\t</div>\\n</nav>\\n\\n\\t\\t</div>\\n\\t\\t<div id=\"right-navigation\">\\n\\t\\t\\t\\n<nav id=\"p-views\" class=\"mw-portlet mw-portlet-views vector-menu vector-menu-tabs\" aria-labelledby=\"p-views-label\" role=\"navigation\" \\n\\t >\\n\\t<label id=\"p-views-label\" aria-label=\"\" class=\"vector-menu-heading \"  >\\n\\t\\t<span class=\"vector-menu-heading-label\">Views</span>\\n\\t</label>\\n\\t<div class=\"vector-menu-content\">\\n\\t\\t\\n\\t\\t<ul class=\"vector-menu-content-list\"><li id=\"ca-view\" class=\"selected mw-list-item\"><a href=\"/wiki/Plimpton_322\"><span>Read</span></a></li><li id=\"ca-edit\" class=\"mw-list-item\"><a href=\"/w/index.php?title=Plimpton_322&amp;action=edit\" title=\"Edit this page [e]\" accesskey=\"e\"><span>Edit</span></a></li><li id=\"ca-history\" class=\"mw-list-item\"><a href=\"/w/index.php?title=Plimpton_322&amp;action=history\" title=\"Past revisions of this page [h]\" accesskey=\"h\"><span>View history</span></a></li></ul>\\n\\t\\t\\n\\t</div>\\n</nav>\\n\\n\\t\\t\\t\\n<nav id=\"p-cactions\" class=\"mw-portlet mw-portlet-cactions emptyPortlet vector-menu-dropdown-noicon vector-menu vector-menu-dropdown\" aria-labelledby=\"p-cactions-label\" role=\"navigation\"  title=\"More options\"\\n\\t >\\n\\t<input type=\"checkbox\"\\n\\t\\tid=\"p-cactions-checkbox\"\\n\\t\\trole=\"button\"\\n\\t\\taria-haspopup=\"true\"\\n\\t\\tdata-event-name=\"ui.dropdown-p-cactions\"\\n\\t\\tclass=\"vector-menu-checkbox\" aria-labelledby=\"p-cactions-label\" />\\n\\t<label id=\"p-cactions-label\" aria-label=\"\" class=\"vector-menu-heading \"  >\\n\\t\\t<span class=\"vector-menu-heading-label\">More</span>\\n\\t</label>\\n\\t<div class=\"vector-menu-content\">\\n\\t\\t\\n\\t\\t<ul class=\"vector-menu-content-list\"></ul>\\n\\t\\t\\n\\t</div>\\n</nav>\\n\\n\\t\\t\\t\\n<div id=\"p-search\" role=\"search\" class=\"vector-search-box-vue  vector-search-box-show-thumbnail vector-search-box-auto-expand-width vector-search-box\">\\n\\t<div>\\n\\t\\t\\t<h3 >\\n\\t\\t\\t\\t<label for=\"searchInput\">Search</label>\\n\\t\\t\\t</h3>\\n\\t\\t<form action=\"/w/index.php\" id=\"searchform\"\\n\\t\\t\\tclass=\"vector-search-box-form\">\\n\\t\\t\\t<div id=\"simpleSearch\"\\n\\t\\t\\t\\tclass=\"vector-search-box-inner\"\\n\\t\\t\\t\\t data-search-loc=\"header-navigation\">\\n\\t\\t\\t\\t<input class=\"vector-search-box-input\"\\n\\t\\t\\t\\t\\t type=\"search\" name=\"search\" placeholder=\"Search Wikipedia\" aria-label=\"Search Wikipedia\" autocapitalize=\"sentences\" title=\"Search Wikipedia [f]\" accesskey=\"f\" id=\"searchInput\"\\n\\t\\t\\t\\t/>\\n\\t\\t\\t\\t<input type=\"hidden\" name=\"title\" value=\"Special:Search\"/>\\n\\t\\t\\t\\t<input id=\"mw-searchButton\"\\n\\t\\t\\t\\t\\t class=\"searchButton mw-fallbackSearchButton\" type=\"submit\" name=\"fulltext\" title=\"Search Wikipedia for this text\" value=\"Search\" />\\n\\t\\t\\t\\t<input id=\"searchButton\"\\n\\t\\t\\t\\t\\t class=\"searchButton\" type=\"submit\" name=\"go\" title=\"Go to a page with this exact name if it exists\" value=\"Go\" />\\n\\t\\t\\t</div>\\n\\t\\t</form>\\n\\t</div>\\n</div>\\n\\n\\t\\t</div>\\n\\t</div>\\n\\t\\n\\n<div id=\"mw-panel\">\\n\\t<div id=\"p-logo\" role=\"banner\">\\n\\t\\t<a class=\"mw-wiki-logo\" href=\"/wiki/Main_Page\"\\n\\t\\t\\ttitle=\"Visit the main page\"></a>\\n\\t</div>\\n\\t\\n<nav id=\"p-navigation\" class=\"mw-portlet mw-portlet-navigation vector-menu vector-menu-portal portal\" aria-labelledby=\"p-navigation-label\" role=\"navigation\" \\n\\t >\\n\\t<label id=\"p-navigation-label\" aria-label=\"\" class=\"vector-menu-heading \"  >\\n\\t\\t<span class=\"vector-menu-heading-label\">Navigation</span>\\n\\t</label>\\n\\t<div class=\"vector-menu-content\">\\n\\t\\t\\n\\t\\t<ul class=\"vector-menu-content-list\"><li id=\"n-mainpage-description\" class=\"mw-list-item\"><a href=\"/wiki/Main_Page\" icon=\"home\" title=\"Visit the main page [z]\" accesskey=\"z\"><span>Main page</span></a></li><li id=\"n-contents\" class=\"mw-list-item\"><a href=\"/wiki/Wikipedia:Contents\" title=\"Guides to browsing Wikipedia\"><span>Contents</span></a></li><li id=\"n-currentevents\" class=\"mw-list-item\"><a href=\"/wiki/Portal:Current_events\" title=\"Articles related to current events\"><span>Current events</span></a></li><li id=\"n-randompage\" class=\"mw-list-item\"><a href=\"/wiki/Special:Random\" icon=\"die\" title=\"Visit a randomly selected article [x]\" accesskey=\"x\"><span>Random article</span></a></li><li id=\"n-aboutsite\" class=\"mw-list-item\"><a href=\"/wiki/Wikipedia:About\" title=\"Learn about Wikipedia and how it works\"><span>About Wikipedia</span></a></li><li id=\"n-contactpage\" class=\"mw-list-item\"><a href=\"//en.wikipedia.org/wiki/Wikipedia:Contact_us\" title=\"How to contact Wikipedia\"><span>Contact us</span></a></li><li id=\"n-sitesupport\" class=\"mw-list-item\"><a href=\"https://donate.wikimedia.org/wiki/Special:FundraiserRedirector?utm_source=donate&amp;utm_medium=sidebar&amp;utm_campaign=C13_en.wikipedia.org&amp;uselang=en\" title=\"Support us by donating to the Wikimedia Foundation\"><span>Donate</span></a></li></ul>\\n\\t\\t\\n\\t</div>\\n</nav>\\n\\n\\t\\n<nav id=\"p-interaction\" class=\"mw-portlet mw-portlet-interaction vector-menu vector-menu-portal portal\" aria-labelledby=\"p-interaction-label\" role=\"navigation\" \\n\\t >\\n\\t<label id=\"p-interaction-label\" aria-label=\"\" class=\"vector-menu-heading \"  >\\n\\t\\t<span class=\"vector-menu-heading-label\">Contribute</span>\\n\\t</label>\\n\\t<div class=\"vector-menu-content\">\\n\\t\\t\\n\\t\\t<ul class=\"vector-menu-content-list\"><li id=\"n-help\" class=\"mw-list-item\"><a href=\"/wiki/Help:Contents\" icon=\"help\" title=\"Guidance on how to use and edit Wikipedia\"><span>Help</span></a></li><li id=\"n-introduction\" class=\"mw-list-item\"><a href=\"/wiki/Help:Introduction\" title=\"Learn how to edit Wikipedia\"><span>Learn to edit</span></a></li><li id=\"n-portal\" class=\"mw-list-item\"><a href=\"/wiki/Wikipedia:Community_portal\" title=\"The hub for editors\"><span>Community portal</span></a></li><li id=\"n-recentchanges\" class=\"mw-list-item\"><a href=\"/wiki/Special:RecentChanges\" icon=\"recentChanges\" title=\"A list of recent changes to Wikipedia [r]\" accesskey=\"r\"><span>Recent changes</span></a></li><li id=\"n-upload\" class=\"mw-list-item\"><a href=\"/wiki/Wikipedia:File_Upload_Wizard\" title=\"Add images or other media for use on Wikipedia\"><span>Upload file</span></a></li></ul>\\n\\t\\t\\n\\t</div>\\n</nav>\\n\\n<nav id=\"p-tb\" class=\"mw-portlet mw-portlet-tb vector-menu vector-menu-portal portal\" aria-labelledby=\"p-tb-label\" role=\"navigation\" \\n\\t >\\n\\t<label id=\"p-tb-label\" aria-label=\"\" class=\"vector-menu-heading \"  >\\n\\t\\t<span class=\"vector-menu-heading-label\">Tools</span>\\n\\t</label>\\n\\t<div class=\"vector-menu-content\">\\n\\t\\t\\n\\t\\t<ul class=\"vector-menu-content-list\"><li id=\"t-whatlinkshere\" class=\"mw-list-item\"><a href=\"/wiki/Special:WhatLinksHere/Plimpton_322\" title=\"List of all English Wikipedia pages containing links to this page [j]\" accesskey=\"j\"><span>What links here</span></a></li><li id=\"t-recentchangeslinked\" class=\"mw-list-item\"><a href=\"/wiki/Special:RecentChangesLinked/Plimpton_322\" rel=\"nofollow\" title=\"Recent changes in pages linked from this page [k]\" accesskey=\"k\"><span>Related changes</span></a></li><li id=\"t-upload\" class=\"mw-list-item\"><a href=\"/wiki/Wikipedia:File_Upload_Wizard\" title=\"Upload files [u]\" accesskey=\"u\"><span>Upload file</span></a></li><li id=\"t-specialpages\" class=\"mw-list-item\"><a href=\"/wiki/Special:SpecialPages\" title=\"A list of all special pages [q]\" accesskey=\"q\"><span>Special pages</span></a></li><li id=\"t-permalink\" class=\"mw-list-item\"><a href=\"/w/index.php?title=Plimpton_322&amp;oldid=1075466054\" title=\"Permanent link to this revision of this page\"><span>Permanent link</span></a></li><li id=\"t-info\" class=\"mw-list-item\"><a href=\"/w/index.php?title=Plimpton_322&amp;action=info\" title=\"More information about this page\"><span>Page information</span></a></li><li id=\"t-cite\" class=\"mw-list-item\"><a href=\"/w/index.php?title=Special:CiteThisPage&amp;page=Plimpton_322&amp;id=1075466054&amp;wpFormIdentifier=titleform\" title=\"Information on how to cite this page\"><span>Cite this page</span></a></li><li id=\"t-wikibase\" class=\"mw-list-item\"><a href=\"https://www.wikidata.org/wiki/Special:EntityPage/Q1470425\" title=\"Structured data on this page hosted by Wikidata [g]\" accesskey=\"g\"><span>Wikidata item</span></a></li></ul>\\n\\t\\t\\n\\t</div>\\n</nav>\\n\\n<nav id=\"p-coll-print_export\" class=\"mw-portlet mw-portlet-coll-print_export vector-menu vector-menu-portal portal\" aria-labelledby=\"p-coll-print_export-label\" role=\"navigation\" \\n\\t >\\n\\t<label id=\"p-coll-print_export-label\" aria-label=\"\" class=\"vector-menu-heading \"  >\\n\\t\\t<span class=\"vector-menu-heading-label\">Print/export</span>\\n\\t</label>\\n\\t<div class=\"vector-menu-content\">\\n\\t\\t\\n\\t\\t<ul class=\"vector-menu-content-list\"><li id=\"coll-download-as-rl\" class=\"mw-list-item\"><a href=\"/w/index.php?title=Special:DownloadAsPdf&amp;page=Plimpton_322&amp;action=show-download-screen\" title=\"Download this page as a PDF file\"><span>Download as PDF</span></a></li><li id=\"t-print\" class=\"mw-list-item\"><a href=\"/w/index.php?title=Plimpton_322&amp;printable=yes\" title=\"Printable version of this page [p]\" accesskey=\"p\"><span>Printable version</span></a></li></ul>\\n\\t\\t\\n\\t</div>\\n</nav>\\n\\n<nav id=\"p-wikibase-otherprojects\" class=\"mw-portlet mw-portlet-wikibase-otherprojects vector-menu vector-menu-portal portal\" aria-labelledby=\"p-wikibase-otherprojects-label\" role=\"navigation\" \\n\\t >\\n\\t<label id=\"p-wikibase-otherprojects-label\" aria-label=\"\" class=\"vector-menu-heading \"  >\\n\\t\\t<span class=\"vector-menu-heading-label\">In other projects</span>\\n\\t</label>\\n\\t<div class=\"vector-menu-content\">\\n\\t\\t\\n\\t\\t<ul class=\"vector-menu-content-list\"><li class=\"wb-otherproject-link wb-otherproject-commons mw-list-item\"><a href=\"https://commons.wikimedia.org/wiki/Category:Plimpton_322\" hreflang=\"en\"><span>Wikimedia Commons</span></a></li></ul>\\n\\t\\t\\n\\t</div>\\n</nav>\\n\\n\\t\\n<nav id=\"p-lang\" class=\"mw-portlet mw-portlet-lang vector-menu vector-menu-portal portal\" aria-labelledby=\"p-lang-label\" role=\"navigation\" \\n\\t >\\n\\t<label id=\"p-lang-label\" aria-label=\"\" class=\"vector-menu-heading \"  >\\n\\t\\t<span class=\"vector-menu-heading-label\">Languages</span>\\n\\t</label>\\n\\t<div class=\"vector-menu-content\">\\n\\t\\t\\n\\t\\t<ul class=\"vector-menu-content-list\"><li class=\"interlanguage-link interwiki-ar mw-list-item\"><a href=\"https://ar.wikipedia.org/wiki/%D8%A8%D9%84%D9%8A%D9%85%D8%A8%D8%AA%D9%88%D9%86_322\" title=\"بليمبتون 322 – Arabic\" lang=\"ar\" hreflang=\"ar\" class=\"interlanguage-link-target\"><span>العربية</span></a></li><li class=\"interlanguage-link interwiki-ca mw-list-item\"><a href=\"https://ca.wikipedia.org/wiki/Plimpton_322\" title=\"Plimpton 322 – Catalan\" lang=\"ca\" hreflang=\"ca\" class=\"interlanguage-link-target\"><span>Català</span></a></li><li class=\"interlanguage-link interwiki-de mw-list-item\"><a href=\"https://de.wikipedia.org/wiki/Plimpton_322\" title=\"Plimpton 322 – German\" lang=\"de\" hreflang=\"de\" class=\"interlanguage-link-target\"><span>Deutsch</span></a></li><li class=\"interlanguage-link interwiki-es mw-list-item\"><a href=\"https://es.wikipedia.org/wiki/Plimpton_322\" title=\"Plimpton 322 – Spanish\" lang=\"es\" hreflang=\"es\" class=\"interlanguage-link-target\"><span>Español</span></a></li><li class=\"interlanguage-link interwiki-fa mw-list-item\"><a href=\"https://fa.wikipedia.org/wiki/%D9%BE%D9%84%DB%8C%D9%85%D9%BE%D8%AA%D9%86_%DB%B3%DB%B2%DB%B2\" title=\"پلیمپتن ۳۲۲ – Persian\" lang=\"fa\" hreflang=\"fa\" class=\"interlanguage-link-target\"><span>فارسی</span></a></li><li class=\"interlanguage-link interwiki-fr mw-list-item\"><a href=\"https://fr.wikipedia.org/wiki/Plimpton_322\" title=\"Plimpton 322 – French\" lang=\"fr\" hreflang=\"fr\" class=\"interlanguage-link-target\"><span>Français</span></a></li><li class=\"interlanguage-link interwiki-ko mw-list-item\"><a href=\"https://ko.wikipedia.org/wiki/%ED%94%8C%EB%A6%BC%ED%86%A4_322\" title=\"플림톤 322 – Korean\" lang=\"ko\" hreflang=\"ko\" class=\"interlanguage-link-target\"><span>한국어</span></a></li><li class=\"interlanguage-link interwiki-it mw-list-item\"><a href=\"https://it.wikipedia.org/wiki/Plimpton_322\" title=\"Plimpton 322 – Italian\" lang=\"it\" hreflang=\"it\" class=\"interlanguage-link-target\"><span>Italiano</span></a></li><li class=\"interlanguage-link interwiki-he mw-list-item\"><a href=\"https://he.wikipedia.org/wiki/%D7%A4%D7%9C%D7%99%D7%9E%D7%A4%D7%98%D7%95%D7%9F_322\" title=\"פלימפטון 322 – Hebrew\" lang=\"he\" hreflang=\"he\" class=\"interlanguage-link-target\"><span>עברית</span></a></li><li class=\"interlanguage-link interwiki-nl mw-list-item\"><a href=\"https://nl.wikipedia.org/wiki/Plimpton_322\" title=\"Plimpton 322 – Dutch\" lang=\"nl\" hreflang=\"nl\" class=\"interlanguage-link-target\"><span>Nederlands</span></a></li><li class=\"interlanguage-link interwiki-ja mw-list-item\"><a href=\"https://ja.wikipedia.org/wiki/%E3%83%97%E3%83%AA%E3%83%B3%E3%83%97%E3%83%88%E3%83%B3322\" title=\"プリンプトン322 – Japanese\" lang=\"ja\" hreflang=\"ja\" class=\"interlanguage-link-target\"><span>日本語</span></a></li><li class=\"interlanguage-link interwiki-no mw-list-item\"><a href=\"https://no.wikipedia.org/wiki/Plimpton_322\" title=\"Plimpton 322 – Norwegian Bokmål\" lang=\"nb\" hreflang=\"nb\" class=\"interlanguage-link-target\"><span>Norsk bokmål</span></a></li><li class=\"interlanguage-link interwiki-pt mw-list-item\"><a href=\"https://pt.wikipedia.org/wiki/Plimpton_322\" title=\"Plimpton 322 – Portuguese\" lang=\"pt\" hreflang=\"pt\" class=\"interlanguage-link-target\"><span>Português</span></a></li><li class=\"interlanguage-link interwiki-ru mw-list-item\"><a href=\"https://ru.wikipedia.org/wiki/Plimpton_322\" title=\"Plimpton 322 – Russian\" lang=\"ru\" hreflang=\"ru\" class=\"interlanguage-link-target\"><span>Русский</span></a></li><li class=\"interlanguage-link interwiki-sk mw-list-item\"><a href=\"https://sk.wikipedia.org/wiki/Plimpton_322\" title=\"Plimpton 322 – Slovak\" lang=\"sk\" hreflang=\"sk\" class=\"interlanguage-link-target\"><span>Slovenčina</span></a></li><li class=\"interlanguage-link interwiki-ckb mw-list-item\"><a href=\"https://ckb.wikipedia.org/wiki/%D9%BE%D9%84%DB%8C%D9%85%D9%BE%D8%AA%DB%86%D9%86_%D9%A3%D9%A2%D9%A2\" title=\"پلیمپتۆن ٣٢٢ – Central Kurdish\" lang=\"ckb\" hreflang=\"ckb\" class=\"interlanguage-link-target\"><span>کوردی</span></a></li><li class=\"interlanguage-link interwiki-ta mw-list-item\"><a href=\"https://ta.wikipedia.org/wiki/%E0%AE%AA%E0%AE%BF%E0%AE%B2%E0%AE%BF%E0%AE%AE%E0%AF%8D%E0%AE%AA%E0%AF%8D%E0%AE%9F%E0%AE%A9%E0%AF%8D_322\" title=\"பிலிம்ப்டன் 322 – Tamil\" lang=\"ta\" hreflang=\"ta\" class=\"interlanguage-link-target\"><span>தமிழ்</span></a></li><li class=\"interlanguage-link interwiki-tr mw-list-item\"><a href=\"https://tr.wikipedia.org/wiki/Plimpton_322\" title=\"Plimpton 322 – Turkish\" lang=\"tr\" hreflang=\"tr\" class=\"interlanguage-link-target\"><span>Türkçe</span></a></li><li class=\"interlanguage-link interwiki-uk mw-list-item\"><a href=\"https://uk.wikipedia.org/wiki/Plimpton_322\" title=\"Plimpton 322 – Ukrainian\" lang=\"uk\" hreflang=\"uk\" class=\"interlanguage-link-target\"><span>Українська</span></a></li><li class=\"interlanguage-link interwiki-zh mw-list-item\"><a href=\"https://zh.wikipedia.org/wiki/%E6%99%AE%E6%9E%97%E9%A0%93_322\" title=\"普林頓 322 – Chinese\" lang=\"zh\" hreflang=\"zh\" class=\"interlanguage-link-target\"><span>中文</span></a></li></ul>\\n\\t\\t<div class=\"after-portlet after-portlet-lang\"><span class=\"wb-langlinks-edit wb-langlinks-link\"><a href=\"https://www.wikidata.org/wiki/Special:EntityPage/Q1470425#sitelinks-wikipedia\" title=\"Edit interlanguage links\" class=\"wbc-editpage\">Edit links</a></span></div>\\n\\t</div>\\n</nav>\\n\\n</div>\\n\\n</div>\\n\\n<footer id=\"footer\" class=\"mw-footer\" role=\"contentinfo\" >\\n\\t<ul id=\"footer-info\">\\n\\t<li id=\"footer-info-lastmod\"> This page was last edited on 5 March 2022, at 23:25<span class=\"anonymous-show\">&#160;(UTC)</span>.</li>\\n\\t<li id=\"footer-info-copyright\">Text is available under the <a rel=\"license\" href=\"//en.wikipedia.org/wiki/Wikipedia:Text_of_Creative_Commons_Attribution-ShareAlike_3.0_Unported_License\">Creative Commons Attribution-ShareAlike License 3.0</a><a rel=\"license\" href=\"//creativecommons.org/licenses/by-sa/3.0/\" style=\"display:none;\"></a>;\\nadditional terms may apply.  By using this site, you agree to the <a href=\"//foundation.wikimedia.org/wiki/Terms_of_Use\">Terms of Use</a> and <a href=\"//foundation.wikimedia.org/wiki/Privacy_policy\">Privacy Policy</a>. Wikipedia® is a registered trademark of the <a href=\"//www.wikimediafoundation.org/\">Wikimedia Foundation, Inc.</a>, a non-profit organization.</li>\\n</ul>\\n\\n\\t<ul id=\"footer-places\">\\n\\t<li id=\"footer-places-privacy\"><a href=\"https://foundation.wikimedia.org/wiki/Privacy_policy\" class=\"extiw\" title=\"wmf:Privacy policy\">Privacy policy</a></li>\\n\\t<li id=\"footer-places-about\"><a href=\"/wiki/Wikipedia:About\" title=\"Wikipedia:About\">About Wikipedia</a></li>\\n\\t<li id=\"footer-places-disclaimer\"><a href=\"/wiki/Wikipedia:General_disclaimer\" title=\"Wikipedia:General disclaimer\">Disclaimers</a></li>\\n\\t<li id=\"footer-places-contact\"><a href=\"//en.wikipedia.org/wiki/Wikipedia:Contact_us\">Contact Wikipedia</a></li>\\n\\t<li id=\"footer-places-mobileview\"><a href=\"//en.m.wikipedia.org/w/index.php?title=Plimpton_322&amp;mobileaction=toggle_view_mobile\" class=\"noprint stopMobileRedirectToggle\">Mobile view</a></li>\\n\\t<li id=\"footer-places-developers\"><a href=\"https://www.mediawiki.org/wiki/Special:MyLanguage/How_to_contribute\">Developers</a></li>\\n\\t<li id=\"footer-places-statslink\"><a href=\"https://stats.wikimedia.org/#/en.wikipedia.org\">Statistics</a></li>\\n\\t<li id=\"footer-places-cookiestatement\"><a href=\"https://foundation.wikimedia.org/wiki/Cookie_statement\">Cookie statement</a></li>\\n</ul>\\n\\n\\t<ul id=\"footer-icons\" class=\"noprint\">\\n\\t<li id=\"footer-copyrightico\"><a href=\"https://wikimediafoundation.org/\"><img src=\"/static/images/footer/wikimedia-button.png\" srcset=\"/static/images/footer/wikimedia-button-1.5x.png 1.5x, /static/images/footer/wikimedia-button-2x.png 2x\" width=\"88\" height=\"31\" alt=\"Wikimedia Foundation\" loading=\"lazy\" /></a></li>\\n\\t<li id=\"footer-poweredbyico\"><a href=\"https://www.mediawiki.org/\"><img src=\"/static/images/footer/poweredby_mediawiki_88x31.png\" alt=\"Powered by MediaWiki\" srcset=\"/static/images/footer/poweredby_mediawiki_132x47.png 1.5x, /static/images/footer/poweredby_mediawiki_176x62.png 2x\" width=\"88\" height=\"31\" loading=\"lazy\"/></a></li>\\n</ul>\\n\\n</footer>\\n\\n<script>(RLQ=window.RLQ||[]).push(function(){mw.config.set({\"wgPageParseReport\":{\"limitreport\":{\"cputime\":\"0.738\",\"walltime\":\"0.834\",\"ppvisitednodes\":{\"value\":3608,\"limit\":1000000},\"postexpandincludesize\":{\"value\":47563,\"limit\":2097152},\"templateargumentsize\":{\"value\":920,\"limit\":2097152},\"expansiondepth\":{\"value\":8,\"limit\":100},\"expensivefunctioncount\":{\"value\":0,\"limit\":500},\"unstrip-depth\":{\"value\":1,\"limit\":20},\"unstrip-size\":{\"value\":53951,\"limit\":5000000},\"entityaccesscount\":{\"value\":0,\"limit\":400},\"timingprofile\":[\"100.00%  623.364      1 -total\",\" 38.89%  242.445     21 Template:Citation\",\" 38.48%  239.858      1 Template:Reflist\",\" 29.24%  182.256     67 Template:Harvtxt\",\" 12.43%   77.472      1 Template:Short_description\",\"  6.84%   42.658      1 Template:Pagetype\",\"  2.96%   18.459      4 Template:Main_other\",\"  2.37%   14.785      1 Template:SDcat\",\"  2.30%   14.362      1 Template:Harvs\",\"  1.87%   11.630      1 Template:Cite_news\"]},\"scribunto\":{\"limitreport-timeusage\":{\"value\":\"0.376\",\"limit\":\"10.000\"},\"limitreport-memusage\":{\"value\":7461040,\"limit\":52428800},\"limitreport-logs\":\"anchor_id_list = table#1 {\\\\n  [\\\\\"CITEREFAbdulaziz2010\\\\\"] = 1,\\\\n  [\\\\\"CITEREFBrittonProustShnider2011\\\\\"] = 1,\\\\n  [\\\\\"CITEREFBruins1949\\\\\"] = 1,\\\\n  [\\\\\"CITEREFBruins1951\\\\\"] = 1,\\\\n  [\\\\\"CITEREFBruins1957\\\\\"] = 1,\\\\n  [\\\\\"CITEREFBuck1980\\\\\"] = 1,\\\\n  [\\\\\"CITEREFCasselman2003\\\\\"] = 1,\\\\n  [\\\\\"CITEREFConwayGuy1996\\\\\"] = 1,\\\\n  [\\\\\"CITEREFFriberg1981\\\\\"] = 1,\\\\n  [\\\\\"CITEREFFriberg2007\\\\\"] = 1,\\\\n  [\\\\\"CITEREFJoyce1995\\\\\"] = 1,\\\\n  [\\\\\"CITEREFKirby2011\\\\\"] = 1,\\\\n  [\\\\\"CITEREFMaor1993\\\\\"] = 1,\\\\n  [\\\\\"CITEREFNeugebauer1957\\\\\"] = 1,\\\\n  [\\\\\"CITEREFNeugebauerSachs1945\\\\\"] = 1,\\\\n  [\\\\\"CITEREFRobson2001\\\\\"] = 1,\\\\n  [\\\\\"CITEREFRobson2002\\\\\"] = 1,\\\\n  [\\\\\"CITEREFRothstein2010\\\\\"] = 1,\\\\n  [\\\\\"CITEREFSchmidt1980\\\\\"] = 1,\\\\n  [\\\\\"CITEREFde_Solla_Price1964\\\\\"] = 1,\\\\n}\\\\ntemplate_list = table#1 {\\\\n  [\\\\\"Citation\\\\\"] = 21,\\\\n  [\\\\\"Cite news\\\\\"] = 1,\\\\n  [\\\\\"Harvs\\\\\"] = 1,\\\\n  [\\\\\"Harvtxt\\\\\"] = 67,\\\\n  [\\\\\"Math\\\\\"] = 1,\\\\n  [\\\\\"Mvar\\\\\"] = 3,\\\\n  [\\\\\"Refbegin\\\\\"] = 1,\\\\n  [\\\\\"Refend\\\\\"] = 1,\\\\n  [\\\\\"Reflist\\\\\"] = 1,\\\\n  [\\\\\"Short description\\\\\"] = 1,\\\\n}\\\\narticle_whitelist = table#1 {\\\\n}\\\\n\"},\"cachereport\":{\"origin\":\"mw1331\",\"timestamp\":\"20220418152240\",\"ttl\":1814400,\"transientcontent\":false}}});});</script>\\n<script type=\"application/ld+json\">{\"@context\":\"https:\\\\/\\\\/schema.org\",\"@type\":\"Article\",\"name\":\"Plimpton 322\",\"url\":\"https:\\\\/\\\\/en.wikipedia.org\\\\/wiki\\\\/Plimpton_322\",\"sameAs\":\"http:\\\\/\\\\/www.wikidata.org\\\\/entity\\\\/Q1470425\",\"mainEntity\":\"http:\\\\/\\\\/www.wikidata.org\\\\/entity\\\\/Q1470425\",\"author\":{\"@type\":\"Organization\",\"name\":\"Contributors to Wikimedia projects\"},\"publisher\":{\"@type\":\"Organization\",\"name\":\"Wikimedia Foundation, Inc.\",\"logo\":{\"@type\":\"ImageObject\",\"url\":\"https:\\\\/\\\\/www.wikimedia.org\\\\/static\\\\/images\\\\/wmf-hor-googpub.png\"}},\"datePublished\":\"2005-10-24T01:10:12Z\",\"dateModified\":\"2022-03-05T23:25:25Z\",\"image\":\"https:\\\\/\\\\/upload.wikimedia.org\\\\/wikipedia\\\\/commons\\\\/c\\\\/c2\\\\/Plimpton_322.jpg\",\"headline\":\"Babylonian clay tablet\"}</script><script type=\"application/ld+json\">{\"@context\":\"https:\\\\/\\\\/schema.org\",\"@type\":\"Article\",\"name\":\"Plimpton 322\",\"url\":\"https:\\\\/\\\\/en.wikipedia.org\\\\/wiki\\\\/Plimpton_322\",\"sameAs\":\"http:\\\\/\\\\/www.wikidata.org\\\\/entity\\\\/Q1470425\",\"mainEntity\":\"http:\\\\/\\\\/www.wikidata.org\\\\/entity\\\\/Q1470425\",\"author\":{\"@type\":\"Organization\",\"name\":\"Contributors to Wikimedia projects\"},\"publisher\":{\"@type\":\"Organization\",\"name\":\"Wikimedia Foundation, Inc.\",\"logo\":{\"@type\":\"ImageObject\",\"url\":\"https:\\\\/\\\\/www.wikimedia.org\\\\/static\\\\/images\\\\/wmf-hor-googpub.png\"}},\"datePublished\":\"2005-10-24T01:10:12Z\",\"dateModified\":\"2022-03-05T23:25:25Z\",\"image\":\"https:\\\\/\\\\/upload.wikimedia.org\\\\/wikipedia\\\\/commons\\\\/c\\\\/c2\\\\/Plimpton_322.jpg\",\"headline\":\"Babylonian clay tablet\"}</script>\\n<script>(RLQ=window.RLQ||[]).push(function(){mw.config.set({\"wgBackendResponseTime\":140,\"wgHostname\":\"mw1403\"});});</script>\\n</body>\\n</html>'"
      ]
     },
     "execution_count": 28,
     "metadata": {},
     "output_type": "execute_result"
    }
   ],
   "source": [
    "res"
   ]
  },
  {
   "cell_type": "code",
   "execution_count": 32,
   "id": "0f263580",
   "metadata": {},
   "outputs": [
    {
     "data": {
      "text/html": [
       "<div>\n",
       "<style scoped>\n",
       "    .dataframe tbody tr th:only-of-type {\n",
       "        vertical-align: middle;\n",
       "    }\n",
       "\n",
       "    .dataframe tbody tr th {\n",
       "        vertical-align: top;\n",
       "    }\n",
       "\n",
       "    .dataframe thead th {\n",
       "        text-align: right;\n",
       "    }\n",
       "</style>\n",
       "<table border=\"1\" class=\"dataframe\">\n",
       "  <thead>\n",
       "    <tr style=\"text-align: right;\">\n",
       "      <th></th>\n",
       "      <th>or</th>\n",
       "      <th>Short Side</th>\n",
       "      <th>Diagonal</th>\n",
       "      <th>Row #</th>\n",
       "    </tr>\n",
       "  </thead>\n",
       "  <tbody>\n",
       "    <tr>\n",
       "      <th>0</th>\n",
       "      <td>(1).9834028</td>\n",
       "      <td>119</td>\n",
       "      <td>169</td>\n",
       "      <td>1</td>\n",
       "    </tr>\n",
       "    <tr>\n",
       "      <th>1</th>\n",
       "      <td>(1).9491586</td>\n",
       "      <td>3367</td>\n",
       "      <td>4825</td>\n",
       "      <td>2</td>\n",
       "    </tr>\n",
       "    <tr>\n",
       "      <th>2</th>\n",
       "      <td>(1).9188021</td>\n",
       "      <td>4601</td>\n",
       "      <td>6649</td>\n",
       "      <td>3</td>\n",
       "    </tr>\n",
       "    <tr>\n",
       "      <th>3</th>\n",
       "      <td>(1).8862479</td>\n",
       "      <td>12709</td>\n",
       "      <td>18541</td>\n",
       "      <td>4</td>\n",
       "    </tr>\n",
       "    <tr>\n",
       "      <th>4</th>\n",
       "      <td>(1).8150077</td>\n",
       "      <td>65</td>\n",
       "      <td>97</td>\n",
       "      <td>5</td>\n",
       "    </tr>\n",
       "    <tr>\n",
       "      <th>5</th>\n",
       "      <td>(1).7851929</td>\n",
       "      <td>319</td>\n",
       "      <td>481</td>\n",
       "      <td>6</td>\n",
       "    </tr>\n",
       "    <tr>\n",
       "      <th>6</th>\n",
       "      <td>(1).7199837</td>\n",
       "      <td>2291</td>\n",
       "      <td>3541</td>\n",
       "      <td>7</td>\n",
       "    </tr>\n",
       "    <tr>\n",
       "      <th>7</th>\n",
       "      <td>(1).6927094</td>\n",
       "      <td>799</td>\n",
       "      <td>1249</td>\n",
       "      <td>8</td>\n",
       "    </tr>\n",
       "    <tr>\n",
       "      <th>8</th>\n",
       "      <td>(1).6426694</td>\n",
       "      <td>481</td>\n",
       "      <td>769</td>\n",
       "      <td>9</td>\n",
       "    </tr>\n",
       "    <tr>\n",
       "      <th>9</th>\n",
       "      <td>(1).5861226</td>\n",
       "      <td>4961</td>\n",
       "      <td>8161</td>\n",
       "      <td>10</td>\n",
       "    </tr>\n",
       "    <tr>\n",
       "      <th>10</th>\n",
       "      <td>(1).5625</td>\n",
       "      <td>45*</td>\n",
       "      <td>75*</td>\n",
       "      <td>11</td>\n",
       "    </tr>\n",
       "    <tr>\n",
       "      <th>11</th>\n",
       "      <td>(1).4894168</td>\n",
       "      <td>1679</td>\n",
       "      <td>2929</td>\n",
       "      <td>12</td>\n",
       "    </tr>\n",
       "    <tr>\n",
       "      <th>12</th>\n",
       "      <td>(1).4500174</td>\n",
       "      <td>161</td>\n",
       "      <td>289</td>\n",
       "      <td>13</td>\n",
       "    </tr>\n",
       "    <tr>\n",
       "      <th>13</th>\n",
       "      <td>(1).4302388</td>\n",
       "      <td>1771</td>\n",
       "      <td>3229</td>\n",
       "      <td>14</td>\n",
       "    </tr>\n",
       "    <tr>\n",
       "      <th>14</th>\n",
       "      <td>(1).3871605</td>\n",
       "      <td>56*</td>\n",
       "      <td>106*</td>\n",
       "      <td>15</td>\n",
       "    </tr>\n",
       "  </tbody>\n",
       "</table>\n",
       "</div>"
      ],
      "text/plain": [
       "             or Short Side Diagonal  Row #\n",
       "0   (1).9834028        119      169      1\n",
       "1   (1).9491586       3367     4825      2\n",
       "2   (1).9188021       4601     6649      3\n",
       "3   (1).8862479      12709    18541      4\n",
       "4   (1).8150077         65       97      5\n",
       "5   (1).7851929        319      481      6\n",
       "6   (1).7199837       2291     3541      7\n",
       "7   (1).6927094        799     1249      8\n",
       "8   (1).6426694        481      769      9\n",
       "9   (1).5861226       4961     8161     10\n",
       "10     (1).5625        45*      75*     11\n",
       "11  (1).4894168       1679     2929     12\n",
       "12  (1).4500174        161      289     13\n",
       "13  (1).4302388       1771     3229     14\n",
       "14  (1).3871605        56*     106*     15"
      ]
     },
     "execution_count": 32,
     "metadata": {},
     "output_type": "execute_result"
    }
   ],
   "source": [
    "df1=pd.read_html(res)[1]\n",
    "df1"
   ]
  },
  {
   "cell_type": "code",
   "execution_count": 31,
   "id": "47b9e2ec",
   "metadata": {
    "scrolled": true
   },
   "outputs": [
    {
     "data": {
      "text/html": [
       "<div>\n",
       "<style scoped>\n",
       "    .dataframe tbody tr th:only-of-type {\n",
       "        vertical-align: middle;\n",
       "    }\n",
       "\n",
       "    .dataframe tbody tr th {\n",
       "        vertical-align: top;\n",
       "    }\n",
       "\n",
       "    .dataframe thead th {\n",
       "        text-align: right;\n",
       "    }\n",
       "</style>\n",
       "<table border=\"1\" class=\"dataframe\">\n",
       "  <thead>\n",
       "    <tr style=\"text-align: right;\">\n",
       "      <th></th>\n",
       "      <th>takiltum of the diagonal from which 1 is tornout so that thewidth comes up</th>\n",
       "      <th>ÍB.SI8 of the width</th>\n",
       "      <th>ÍB.SI8 of the diagonal</th>\n",
       "      <th>its line</th>\n",
       "    </tr>\n",
       "  </thead>\n",
       "  <tbody>\n",
       "    <tr>\n",
       "      <th>0</th>\n",
       "      <td>(1) 59 00 15</td>\n",
       "      <td>1 59</td>\n",
       "      <td>2 49</td>\n",
       "      <td>1st</td>\n",
       "    </tr>\n",
       "    <tr>\n",
       "      <th>1</th>\n",
       "      <td>(1) 56 56 58 14 56 15 (1) 56 56 58 14 [50 06] 15</td>\n",
       "      <td>56 07</td>\n",
       "      <td>3 12 01 [1 20 25]</td>\n",
       "      <td>2nd</td>\n",
       "    </tr>\n",
       "    <tr>\n",
       "      <th>2</th>\n",
       "      <td>(1) 55 07 41 15 33 45</td>\n",
       "      <td>1 16 41</td>\n",
       "      <td>1 50 49</td>\n",
       "      <td>3rd</td>\n",
       "    </tr>\n",
       "    <tr>\n",
       "      <th>3</th>\n",
       "      <td>(1) 53 10 29 32 52 16</td>\n",
       "      <td>3 31 49</td>\n",
       "      <td>5 09 01</td>\n",
       "      <td>4th</td>\n",
       "    </tr>\n",
       "    <tr>\n",
       "      <th>4</th>\n",
       "      <td>(1) 48 54 01 40</td>\n",
       "      <td>1 05</td>\n",
       "      <td>1 37</td>\n",
       "      <td>5th</td>\n",
       "    </tr>\n",
       "    <tr>\n",
       "      <th>5</th>\n",
       "      <td>(1) 47 06 41 40</td>\n",
       "      <td>5 19</td>\n",
       "      <td>8 01</td>\n",
       "      <td>6th</td>\n",
       "    </tr>\n",
       "    <tr>\n",
       "      <th>6</th>\n",
       "      <td>(1) 43 11 56 28 26 40</td>\n",
       "      <td>38 11</td>\n",
       "      <td>59 01</td>\n",
       "      <td>7th</td>\n",
       "    </tr>\n",
       "    <tr>\n",
       "      <th>7</th>\n",
       "      <td>(1) 41 33 59 03 45 (1) 41 33 [45 14] 03 45</td>\n",
       "      <td>13 19</td>\n",
       "      <td>20 49</td>\n",
       "      <td>8th</td>\n",
       "    </tr>\n",
       "    <tr>\n",
       "      <th>8</th>\n",
       "      <td>(1) 38 33 36 36</td>\n",
       "      <td>9 01 [8] 01</td>\n",
       "      <td>12 49</td>\n",
       "      <td>9th</td>\n",
       "    </tr>\n",
       "    <tr>\n",
       "      <th>9</th>\n",
       "      <td>(1) 35 10 02 28 27 24 26 40</td>\n",
       "      <td>1 22 41</td>\n",
       "      <td>2 16 01</td>\n",
       "      <td>10th</td>\n",
       "    </tr>\n",
       "    <tr>\n",
       "      <th>10</th>\n",
       "      <td>(1) 33 45</td>\n",
       "      <td>45</td>\n",
       "      <td>1 15</td>\n",
       "      <td>11th</td>\n",
       "    </tr>\n",
       "    <tr>\n",
       "      <th>11</th>\n",
       "      <td>(1) 29 21 54 02 15</td>\n",
       "      <td>27 59</td>\n",
       "      <td>48 49</td>\n",
       "      <td>12th</td>\n",
       "    </tr>\n",
       "    <tr>\n",
       "      <th>12</th>\n",
       "      <td>(1) 27 00 03 45</td>\n",
       "      <td>7 12 01 [2 41]</td>\n",
       "      <td>4 49</td>\n",
       "      <td>13th</td>\n",
       "    </tr>\n",
       "    <tr>\n",
       "      <th>13</th>\n",
       "      <td>(1) 25 48 51 35 06 40</td>\n",
       "      <td>29 31</td>\n",
       "      <td>53 49</td>\n",
       "      <td>14th</td>\n",
       "    </tr>\n",
       "    <tr>\n",
       "      <th>14</th>\n",
       "      <td>(1) 23 13 46 40</td>\n",
       "      <td>56 56 [28] (alt.)</td>\n",
       "      <td>53 [1 46] 53 (alt.)</td>\n",
       "      <td>15th</td>\n",
       "    </tr>\n",
       "  </tbody>\n",
       "</table>\n",
       "</div>"
      ],
      "text/plain": [
       "   takiltum of the diagonal from which 1 is tornout so that thewidth comes up  \\\n",
       "0                                        (1) 59 00 15                           \n",
       "1    (1) 56 56 58 14 56 15 (1) 56 56 58 14 [50 06] 15                           \n",
       "2                               (1) 55 07 41 15 33 45                           \n",
       "3                               (1) 53 10 29 32 52 16                           \n",
       "4                                     (1) 48 54 01 40                           \n",
       "5                                     (1) 47 06 41 40                           \n",
       "6                               (1) 43 11 56 28 26 40                           \n",
       "7          (1) 41 33 59 03 45 (1) 41 33 [45 14] 03 45                           \n",
       "8                                     (1) 38 33 36 36                           \n",
       "9                         (1) 35 10 02 28 27 24 26 40                           \n",
       "10                                          (1) 33 45                           \n",
       "11                                 (1) 29 21 54 02 15                           \n",
       "12                                    (1) 27 00 03 45                           \n",
       "13                              (1) 25 48 51 35 06 40                           \n",
       "14                                    (1) 23 13 46 40                           \n",
       "\n",
       "   ÍB.SI8 of the width ÍB.SI8 of the diagonal its line  \n",
       "0                 1 59                   2 49      1st  \n",
       "1                56 07      3 12 01 [1 20 25]      2nd  \n",
       "2              1 16 41                1 50 49      3rd  \n",
       "3              3 31 49                5 09 01      4th  \n",
       "4                 1 05                   1 37      5th  \n",
       "5                 5 19                   8 01      6th  \n",
       "6                38 11                  59 01      7th  \n",
       "7                13 19                  20 49      8th  \n",
       "8          9 01 [8] 01                  12 49      9th  \n",
       "9              1 22 41                2 16 01     10th  \n",
       "10                  45                   1 15     11th  \n",
       "11               27 59                  48 49     12th  \n",
       "12      7 12 01 [2 41]                   4 49     13th  \n",
       "13               29 31                  53 49     14th  \n",
       "14   56 56 [28] (alt.)    53 [1 46] 53 (alt.)     15th  "
      ]
     },
     "execution_count": 31,
     "metadata": {},
     "output_type": "execute_result"
    }
   ],
   "source": [
    "df0=pd.read_html(res)[0]\n",
    "df0"
   ]
  },
  {
   "cell_type": "code",
   "execution_count": 33,
   "id": "cea16876",
   "metadata": {
    "scrolled": true
   },
   "outputs": [
    {
     "data": {
      "text/plain": [
       "0                  1 59\n",
       "1                 56 07\n",
       "2               1 16 41\n",
       "3               3 31 49\n",
       "4                  1 05\n",
       "5                  5 19\n",
       "6                 38 11\n",
       "7                 13 19\n",
       "8           9 01 [8] 01\n",
       "9               1 22 41\n",
       "10                   45\n",
       "11                27 59\n",
       "12       7 12 01 [2 41]\n",
       "13                29 31\n",
       "14    56 56 [28] (alt.)\n",
       "Name: ÍB.SI8 of the width, dtype: object"
      ]
     },
     "execution_count": 33,
     "metadata": {},
     "output_type": "execute_result"
    }
   ],
   "source": [
    "df0.iloc[:,1]"
   ]
  },
  {
   "cell_type": "code",
   "execution_count": 34,
   "id": "2ff3bc53",
   "metadata": {},
   "outputs": [
    {
     "data": {
      "text/plain": [
       "(1, 59)"
      ]
     },
     "execution_count": 34,
     "metadata": {},
     "output_type": "execute_result"
    }
   ],
   "source": [
    "tuple(map(int,df.iloc[:,1][0].split()))"
   ]
  },
  {
   "cell_type": "code",
   "execution_count": 35,
   "id": "5489fe70",
   "metadata": {},
   "outputs": [
    {
     "data": {
      "text/plain": [
       "(2, 49)"
      ]
     },
     "execution_count": 35,
     "metadata": {},
     "output_type": "execute_result"
    }
   ],
   "source": [
    "tuple(map(int,df.iloc[:,2][0].split()))"
   ]
  },
  {
   "cell_type": "code",
   "execution_count": 43,
   "id": "3c47029a",
   "metadata": {},
   "outputs": [
    {
     "data": {
      "text/html": [
       "<div>\n",
       "<style scoped>\n",
       "    .dataframe tbody tr th:only-of-type {\n",
       "        vertical-align: middle;\n",
       "    }\n",
       "\n",
       "    .dataframe tbody tr th {\n",
       "        vertical-align: top;\n",
       "    }\n",
       "\n",
       "    .dataframe thead th {\n",
       "        text-align: right;\n",
       "    }\n",
       "</style>\n",
       "<table border=\"1\" class=\"dataframe\">\n",
       "  <thead>\n",
       "    <tr style=\"text-align: right;\">\n",
       "      <th></th>\n",
       "      <th>takiltum of the diagonal from which 1 is tornout so that thewidth comes up</th>\n",
       "      <th>ÍB.SI8 of the width</th>\n",
       "      <th>ÍB.SI8 of the diagonal</th>\n",
       "      <th>its line</th>\n",
       "    </tr>\n",
       "  </thead>\n",
       "  <tbody>\n",
       "    <tr>\n",
       "      <th>0</th>\n",
       "      <td>(1) 59 00 15</td>\n",
       "      <td>1 59</td>\n",
       "      <td>2 49</td>\n",
       "      <td>1st</td>\n",
       "    </tr>\n",
       "  </tbody>\n",
       "</table>\n",
       "</div>"
      ],
      "text/plain": [
       "  takiltum of the diagonal from which 1 is tornout so that thewidth comes up  \\\n",
       "0                                       (1) 59 00 15                           \n",
       "\n",
       "  ÍB.SI8 of the width ÍB.SI8 of the diagonal its line  \n",
       "0                1 59                   2 49      1st  "
      ]
     },
     "execution_count": 43,
     "metadata": {},
     "output_type": "execute_result"
    }
   ],
   "source": [
    "df0.take([0])"
   ]
  },
  {
   "cell_type": "markdown",
   "id": "4e00fbf5",
   "metadata": {},
   "source": [
    "* [【Python】記数法の変換（10進数⇔n進数） - 理系のための備忘録](https://science-log.com/python%E3%83%97%E3%83%AD%E3%82%B0%E3%83%A9%E3%83%9F%E3%83%B3%E3%82%B0tips%E9%9B%86/%E3%80%90python%E3%80%91%E8%A8%98%E6%95%B0%E6%B3%95%E3%81%AE%E5%A4%89%E6%8F%9B/)"
   ]
  },
  {
   "cell_type": "code",
   "execution_count": 37,
   "id": "6611b277",
   "metadata": {},
   "outputs": [],
   "source": [
    "def Dec_to_N(num, base):\n",
    "    if num >= base:\n",
    "        yield from Dec_to_N(num // base, base)\n",
    "    yield num % base"
   ]
  },
  {
   "cell_type": "code",
   "execution_count": 38,
   "id": "bda82dbc",
   "metadata": {},
   "outputs": [],
   "source": [
    "def N_to_Dec(digits, base):\n",
    "    num = 0\n",
    "    for digit in digits:\n",
    "        num = num * base + digit\n",
    "    return num"
   ]
  },
  {
   "cell_type": "code",
   "execution_count": 50,
   "id": "9f3a5370",
   "metadata": {},
   "outputs": [
    {
     "data": {
      "text/plain": [
       "119"
      ]
     },
     "execution_count": 50,
     "metadata": {},
     "output_type": "execute_result"
    }
   ],
   "source": [
    "N_to_Dec(map(int,df.iloc[:,1][0].split()), 60)"
   ]
  },
  {
   "cell_type": "code",
   "execution_count": 51,
   "id": "1eec33d4",
   "metadata": {},
   "outputs": [
    {
     "data": {
      "text/plain": [
       "169"
      ]
     },
     "execution_count": 51,
     "metadata": {},
     "output_type": "execute_result"
    }
   ],
   "source": [
    "N_to_Dec(map(int,df.iloc[:,2][0].split()), 60)"
   ]
  },
  {
   "cell_type": "code",
   "execution_count": 44,
   "id": "a7cbd024",
   "metadata": {
    "scrolled": false
   },
   "outputs": [
    {
     "data": {
      "text/html": [
       "<div>\n",
       "<style scoped>\n",
       "    .dataframe tbody tr th:only-of-type {\n",
       "        vertical-align: middle;\n",
       "    }\n",
       "\n",
       "    .dataframe tbody tr th {\n",
       "        vertical-align: top;\n",
       "    }\n",
       "\n",
       "    .dataframe thead th {\n",
       "        text-align: right;\n",
       "    }\n",
       "</style>\n",
       "<table border=\"1\" class=\"dataframe\">\n",
       "  <thead>\n",
       "    <tr style=\"text-align: right;\">\n",
       "      <th></th>\n",
       "      <th>or</th>\n",
       "      <th>Short Side</th>\n",
       "      <th>Diagonal</th>\n",
       "      <th>Row #</th>\n",
       "    </tr>\n",
       "  </thead>\n",
       "  <tbody>\n",
       "    <tr>\n",
       "      <th>0</th>\n",
       "      <td>(1).9834028</td>\n",
       "      <td>119</td>\n",
       "      <td>169</td>\n",
       "      <td>1</td>\n",
       "    </tr>\n",
       "  </tbody>\n",
       "</table>\n",
       "</div>"
      ],
      "text/plain": [
       "            or Short Side Diagonal  Row #\n",
       "0  (1).9834028        119      169      1"
      ]
     },
     "execution_count": 44,
     "metadata": {},
     "output_type": "execute_result"
    }
   ],
   "source": [
    "df1.take([0])"
   ]
  },
  {
   "cell_type": "markdown",
   "id": "5d8c11ca",
   "metadata": {},
   "source": [
    "## 11行目に着目"
   ]
  },
  {
   "cell_type": "code",
   "execution_count": 45,
   "id": "78636584",
   "metadata": {
    "scrolled": false
   },
   "outputs": [
    {
     "data": {
      "text/html": [
       "<div>\n",
       "<style scoped>\n",
       "    .dataframe tbody tr th:only-of-type {\n",
       "        vertical-align: middle;\n",
       "    }\n",
       "\n",
       "    .dataframe tbody tr th {\n",
       "        vertical-align: top;\n",
       "    }\n",
       "\n",
       "    .dataframe thead th {\n",
       "        text-align: right;\n",
       "    }\n",
       "</style>\n",
       "<table border=\"1\" class=\"dataframe\">\n",
       "  <thead>\n",
       "    <tr style=\"text-align: right;\">\n",
       "      <th></th>\n",
       "      <th>takiltum of the diagonal from which 1 is tornout so that thewidth comes up</th>\n",
       "      <th>ÍB.SI8 of the width</th>\n",
       "      <th>ÍB.SI8 of the diagonal</th>\n",
       "      <th>its line</th>\n",
       "    </tr>\n",
       "  </thead>\n",
       "  <tbody>\n",
       "    <tr>\n",
       "      <th>10</th>\n",
       "      <td>(1) 33 45</td>\n",
       "      <td>45</td>\n",
       "      <td>1 15</td>\n",
       "      <td>11th</td>\n",
       "    </tr>\n",
       "  </tbody>\n",
       "</table>\n",
       "</div>"
      ],
      "text/plain": [
       "   takiltum of the diagonal from which 1 is tornout so that thewidth comes up  \\\n",
       "10                                          (1) 33 45                           \n",
       "\n",
       "   ÍB.SI8 of the width ÍB.SI8 of the diagonal its line  \n",
       "10                  45                   1 15     11th  "
      ]
     },
     "execution_count": 45,
     "metadata": {},
     "output_type": "execute_result"
    }
   ],
   "source": [
    "df0.take([10])"
   ]
  },
  {
   "cell_type": "code",
   "execution_count": 48,
   "id": "29988121",
   "metadata": {},
   "outputs": [
    {
     "data": {
      "text/plain": [
       "45"
      ]
     },
     "execution_count": 48,
     "metadata": {},
     "output_type": "execute_result"
    }
   ],
   "source": [
    "N_to_Dec(map(int,df.iloc[:,1][10].split()), 60)"
   ]
  },
  {
   "cell_type": "code",
   "execution_count": 49,
   "id": "cd2ef208",
   "metadata": {},
   "outputs": [
    {
     "data": {
      "text/plain": [
       "75"
      ]
     },
     "execution_count": 49,
     "metadata": {},
     "output_type": "execute_result"
    }
   ],
   "source": [
    "N_to_Dec(map(int,df.iloc[:,2][10].split()), 60)"
   ]
  },
  {
   "cell_type": "code",
   "execution_count": 119,
   "id": "c6af0db0",
   "metadata": {
    "scrolled": true
   },
   "outputs": [
    {
     "data": {
      "text/html": [
       "<div>\n",
       "<style scoped>\n",
       "    .dataframe tbody tr th:only-of-type {\n",
       "        vertical-align: middle;\n",
       "    }\n",
       "\n",
       "    .dataframe tbody tr th {\n",
       "        vertical-align: top;\n",
       "    }\n",
       "\n",
       "    .dataframe thead th {\n",
       "        text-align: right;\n",
       "    }\n",
       "</style>\n",
       "<table border=\"1\" class=\"dataframe\">\n",
       "  <thead>\n",
       "    <tr style=\"text-align: right;\">\n",
       "      <th></th>\n",
       "      <th>or</th>\n",
       "      <th>Short Side</th>\n",
       "      <th>Diagonal</th>\n",
       "      <th>Row #</th>\n",
       "    </tr>\n",
       "  </thead>\n",
       "  <tbody>\n",
       "    <tr>\n",
       "      <th>10</th>\n",
       "      <td>(1).5625</td>\n",
       "      <td>45*</td>\n",
       "      <td>75*</td>\n",
       "      <td>11</td>\n",
       "    </tr>\n",
       "  </tbody>\n",
       "</table>\n",
       "</div>"
      ],
      "text/plain": [
       "          or Short Side Diagonal  Row #\n",
       "10  (1).5625        45*      75*     11"
      ]
     },
     "execution_count": 119,
     "metadata": {},
     "output_type": "execute_result"
    }
   ],
   "source": [
    "pd.read_html(res)[1].take([10])"
   ]
  },
  {
   "cell_type": "code",
   "execution_count": 53,
   "id": "3bcbf7e9",
   "metadata": {},
   "outputs": [
    {
     "data": {
      "text/plain": [
       "3.0"
      ]
     },
     "execution_count": 53,
     "metadata": {},
     "output_type": "execute_result"
    }
   ],
   "source": [
    "N_to_Dec(list(map(int,df0.iloc[:,1][10].split())), 60)/15"
   ]
  },
  {
   "cell_type": "code",
   "execution_count": 52,
   "id": "a8a4cf95",
   "metadata": {},
   "outputs": [
    {
     "data": {
      "text/plain": [
       "5.0"
      ]
     },
     "execution_count": 52,
     "metadata": {},
     "output_type": "execute_result"
    }
   ],
   "source": [
    "N_to_Dec(list(map(int,df0.iloc[:,2][10].split())), 60)/15"
   ]
  },
  {
   "cell_type": "code",
   "execution_count": 54,
   "id": "13720c11",
   "metadata": {},
   "outputs": [
    {
     "data": {
      "text/plain": [
       "4.0"
      ]
     },
     "execution_count": 54,
     "metadata": {},
     "output_type": "execute_result"
    }
   ],
   "source": [
    "60/15"
   ]
  },
  {
   "cell_type": "code",
   "execution_count": 55,
   "id": "d412eee0",
   "metadata": {},
   "outputs": [
    {
     "data": {
      "image/png": "[encoded data removed]",
      "text/plain": [
       "<Figure size 432x288 with 1 Axes>"
      ]
     },
     "metadata": {
      "needs_background": "light"
     },
     "output_type": "display_data"
    }
   ],
   "source": [
    "from matplotlib.patches import Polygon\n",
    "import matplotlib.pyplot as plt\n",
    "p = Polygon([(0,0), (3,0), (3,4),], fill=False)\n",
    "fig, ax = plt.subplots(1,1)\n",
    "\n",
    "ax.add_patch(p)\n",
    "ax.axis('equal')\n",
    "ax.set(xlim=(0,3),ylim=(-1,5))\n",
    "plt.show()"
   ]
  },
  {
   "cell_type": "code",
   "execution_count": 57,
   "id": "c45d6f1c",
   "metadata": {},
   "outputs": [],
   "source": [
    "import math"
   ]
  },
  {
   "cell_type": "code",
   "execution_count": 58,
   "id": "ccc8e733",
   "metadata": {},
   "outputs": [
    {
     "data": {
      "text/plain": [
       "60.0"
      ]
     },
     "execution_count": 58,
     "metadata": {},
     "output_type": "execute_result"
    }
   ],
   "source": [
    "math.sqrt(75**2 - 45**2)"
   ]
  },
  {
   "cell_type": "code",
   "execution_count": 59,
   "id": "473d06d2",
   "metadata": {},
   "outputs": [
    {
     "data": {
      "text/plain": [
       "0.5625"
      ]
     },
     "execution_count": 59,
     "metadata": {},
     "output_type": "execute_result"
    }
   ],
   "source": [
    "45**2 / 60**2"
   ]
  },
  {
   "cell_type": "code",
   "execution_count": 60,
   "id": "ee51a5e2",
   "metadata": {},
   "outputs": [
    {
     "data": {
      "text/plain": [
       "1.5625"
      ]
     },
     "execution_count": 60,
     "metadata": {},
     "output_type": "execute_result"
    }
   ],
   "source": [
    "75**2 / 60**2"
   ]
  },
  {
   "cell_type": "code",
   "execution_count": 61,
   "id": "c5135282",
   "metadata": {},
   "outputs": [
    {
     "data": {
      "text/plain": [
       "(0.5625, 1.5625)"
      ]
     },
     "execution_count": 61,
     "metadata": {},
     "output_type": "execute_result"
    }
   ],
   "source": [
    "(3**2 / 4**2, 5**2 / 4**2)"
   ]
  },
  {
   "cell_type": "code",
   "execution_count": 62,
   "id": "9d39b0e9",
   "metadata": {},
   "outputs": [],
   "source": [
    "def _modf(x):\n",
    "    f, _ = math.modf(x)\n",
    "    return int(f*(10**str(f)[::-1].find('.')))"
   ]
  },
  {
   "cell_type": "code",
   "execution_count": 63,
   "id": "8e2e306a",
   "metadata": {},
   "outputs": [
    {
     "data": {
      "text/plain": [
       "5625"
      ]
     },
     "execution_count": 63,
     "metadata": {},
     "output_type": "execute_result"
    }
   ],
   "source": [
    "_modf(1.5625)"
   ]
  },
  {
   "cell_type": "code",
   "execution_count": 64,
   "id": "b40d5018",
   "metadata": {},
   "outputs": [
    {
     "data": {
      "text/plain": [
       "(1, 33, 45)"
      ]
     },
     "execution_count": 64,
     "metadata": {},
     "output_type": "execute_result"
    }
   ],
   "source": [
    "tuple(Dec_to_N(_modf(1.5625),60))"
   ]
  },
  {
   "cell_type": "code",
   "execution_count": 65,
   "id": "7a64d183",
   "metadata": {
    "scrolled": true
   },
   "outputs": [
    {
     "data": {
      "text/html": [
       "<div>\n",
       "<style scoped>\n",
       "    .dataframe tbody tr th:only-of-type {\n",
       "        vertical-align: middle;\n",
       "    }\n",
       "\n",
       "    .dataframe tbody tr th {\n",
       "        vertical-align: top;\n",
       "    }\n",
       "\n",
       "    .dataframe thead th {\n",
       "        text-align: right;\n",
       "    }\n",
       "</style>\n",
       "<table border=\"1\" class=\"dataframe\">\n",
       "  <thead>\n",
       "    <tr style=\"text-align: right;\">\n",
       "      <th></th>\n",
       "      <th>takiltum of the diagonal from which 1 is tornout so that thewidth comes up</th>\n",
       "      <th>ÍB.SI8 of the width</th>\n",
       "      <th>ÍB.SI8 of the diagonal</th>\n",
       "      <th>its line</th>\n",
       "    </tr>\n",
       "  </thead>\n",
       "  <tbody>\n",
       "    <tr>\n",
       "      <th>10</th>\n",
       "      <td>(1) 33 45</td>\n",
       "      <td>45</td>\n",
       "      <td>1 15</td>\n",
       "      <td>11th</td>\n",
       "    </tr>\n",
       "  </tbody>\n",
       "</table>\n",
       "</div>"
      ],
      "text/plain": [
       "   takiltum of the diagonal from which 1 is tornout so that thewidth comes up  \\\n",
       "10                                          (1) 33 45                           \n",
       "\n",
       "   ÍB.SI8 of the width ÍB.SI8 of the diagonal its line  \n",
       "10                  45                   1 15     11th  "
      ]
     },
     "execution_count": 65,
     "metadata": {},
     "output_type": "execute_result"
    }
   ],
   "source": [
    "df0.take([10])"
   ]
  },
  {
   "cell_type": "markdown",
   "id": "0b0cf373",
   "metadata": {},
   "source": [
    "## Plimpton 322の用途"
   ]
  },
  {
   "cell_type": "markdown",
   "id": "7049a072",
   "metadata": {},
   "source": [
    "問: 次の等式を満たす $x$ を求めよ:\n",
    "$$x - \\frac{1}{x} = 1.5$$"
   ]
  },
  {
   "cell_type": "markdown",
   "id": "abb96fc8",
   "metadata": {},
   "source": [
    "解: $x = 2$"
   ]
  },
  {
   "cell_type": "markdown",
   "id": "a5a0af3a",
   "metadata": {},
   "source": [
    "$x - \\frac{1}{x} = c$ としたとき、$v_{1} = \\frac{c}{2}$、$v_{3} = 1 + {v_{1}}^2 = 1 + (\\frac{c}{2})^2$、$v_{4} = \\sqrt{v_{3}} = \\sqrt{1 + (\\frac{c}{2})^2}$ と置くと、次の公式が成り立つ:\n",
    "\\begin{eqnarray}\n",
    "x &=& v_{4} + v_{1} \\\\\n",
    "\\frac{1}{x} &=& v_{4} - v_{1}\n",
    "\\end{eqnarray}"
   ]
  },
  {
   "cell_type": "markdown",
   "id": "7d57eb0a",
   "metadata": {},
   "source": [
    "$v_{3} = 1 + (\\frac{1.5}{2})^2 = 1.5625$、$v_{4} = \\sqrt{v_{3}} = 1.25$、$v_{1} = \\frac{1.5}{2} = 0.75$ なので、$x = v_{4} + v_{1} = 2$ が成り立つ。なお、このとき $\\frac{1}{x} = v_{4} - v_{1} = 0.5$ も成り立っている。"
   ]
  },
  {
   "cell_type": "markdown",
   "id": "fccec05e",
   "metadata": {},
   "source": [
    "なお、$v_{3}$ はPlimpton 322の1カラム目、$v_{1}$ は2カラム目、$v_{4}$ は3カラム目に対応する。"
   ]
  },
  {
   "cell_type": "markdown",
   "id": "57dc0183",
   "metadata": {},
   "source": [
    "$v_{1} = \\frac{1}{2}(x-\\frac{1}{x})$, $1$, $v_{4} = \\frac{1}{2}(x+\\frac{1}{x})$ はピタゴラスの三数である。"
   ]
  },
  {
   "cell_type": "code",
   "execution_count": 67,
   "id": "2465e4b5",
   "metadata": {},
   "outputs": [
    {
     "data": {
      "text/plain": [
       "0.75"
      ]
     },
     "execution_count": 67,
     "metadata": {},
     "output_type": "execute_result"
    }
   ],
   "source": [
    "# v1\n",
    "1.5/2"
   ]
  },
  {
   "cell_type": "code",
   "execution_count": 205,
   "id": "8a58c4a8",
   "metadata": {},
   "outputs": [
    {
     "data": {
      "text/plain": [
       "1.5625"
      ]
     },
     "execution_count": 205,
     "metadata": {},
     "output_type": "execute_result"
    }
   ],
   "source": [
    "# v3\n",
    "1+(1.5/2)**2"
   ]
  },
  {
   "cell_type": "code",
   "execution_count": 66,
   "id": "14bea9e0",
   "metadata": {},
   "outputs": [
    {
     "data": {
      "text/plain": [
       "1.25"
      ]
     },
     "execution_count": 66,
     "metadata": {},
     "output_type": "execute_result"
    }
   ],
   "source": [
    "# v4\n",
    "math.sqrt(1.5625)"
   ]
  },
  {
   "cell_type": "code",
   "execution_count": 68,
   "id": "7354dc79",
   "metadata": {},
   "outputs": [
    {
     "data": {
      "text/html": [
       "<div>\n",
       "<style scoped>\n",
       "    .dataframe tbody tr th:only-of-type {\n",
       "        vertical-align: middle;\n",
       "    }\n",
       "\n",
       "    .dataframe tbody tr th {\n",
       "        vertical-align: top;\n",
       "    }\n",
       "\n",
       "    .dataframe thead th {\n",
       "        text-align: right;\n",
       "    }\n",
       "</style>\n",
       "<table border=\"1\" class=\"dataframe\">\n",
       "  <thead>\n",
       "    <tr style=\"text-align: right;\">\n",
       "      <th></th>\n",
       "      <th>takiltum of the diagonal from which 1 is tornout so that thewidth comes up</th>\n",
       "      <th>ÍB.SI8 of the width</th>\n",
       "      <th>ÍB.SI8 of the diagonal</th>\n",
       "      <th>its line</th>\n",
       "    </tr>\n",
       "  </thead>\n",
       "  <tbody>\n",
       "    <tr>\n",
       "      <th>10</th>\n",
       "      <td>(1) 33 45</td>\n",
       "      <td>45</td>\n",
       "      <td>1 15</td>\n",
       "      <td>11th</td>\n",
       "    </tr>\n",
       "  </tbody>\n",
       "</table>\n",
       "</div>"
      ],
      "text/plain": [
       "   takiltum of the diagonal from which 1 is tornout so that thewidth comes up  \\\n",
       "10                                          (1) 33 45                           \n",
       "\n",
       "   ÍB.SI8 of the width ÍB.SI8 of the diagonal its line  \n",
       "10                  45                   1 15     11th  "
      ]
     },
     "execution_count": 68,
     "metadata": {},
     "output_type": "execute_result"
    }
   ],
   "source": [
    "df0.take([10])"
   ]
  },
  {
   "cell_type": "code",
   "execution_count": 64,
   "id": "e21f01a3",
   "metadata": {},
   "outputs": [
    {
     "data": {
      "text/plain": [
       "(1, 33, 45)"
      ]
     },
     "execution_count": 64,
     "metadata": {},
     "output_type": "execute_result"
    }
   ],
   "source": [
    "tuple(Dec_to_N(_modf(1.5625),60))"
   ]
  },
  {
   "cell_type": "code",
   "execution_count": 73,
   "id": "c009a9a3",
   "metadata": {},
   "outputs": [
    {
     "data": {
      "text/plain": [
       "45"
      ]
     },
     "execution_count": 73,
     "metadata": {},
     "output_type": "execute_result"
    }
   ],
   "source": [
    "N_to_Dec(list(map(int,df0.iloc[:,1][10].split())), 60) "
   ]
  },
  {
   "cell_type": "code",
   "execution_count": 74,
   "id": "07037597",
   "metadata": {},
   "outputs": [
    {
     "data": {
      "text/plain": [
       "75"
      ]
     },
     "execution_count": 74,
     "metadata": {},
     "output_type": "execute_result"
    }
   ],
   "source": [
    "N_to_Dec(list(map(int,df0.iloc[:,2][10].split())), 60) "
   ]
  },
  {
   "cell_type": "code",
   "execution_count": 75,
   "id": "fe3fb3ec",
   "metadata": {},
   "outputs": [
    {
     "data": {
      "text/plain": [
       "60.0"
      ]
     },
     "execution_count": 75,
     "metadata": {},
     "output_type": "execute_result"
    }
   ],
   "source": [
    "math.sqrt(75**2 - 45**2)"
   ]
  },
  {
   "cell_type": "code",
   "execution_count": 78,
   "id": "f9bf6b01",
   "metadata": {},
   "outputs": [
    {
     "data": {
      "text/plain": [
       "(0.75, 1.0, 1.25)"
      ]
     },
     "execution_count": 78,
     "metadata": {},
     "output_type": "execute_result"
    }
   ],
   "source": [
    "# v1, 1, v4\n",
    "(45/60, 60/60, 75/60)"
   ]
  },
  {
   "cell_type": "code",
   "execution_count": 79,
   "id": "eb2d73d4",
   "metadata": {},
   "outputs": [
    {
     "data": {
      "text/plain": [
       "1.25"
      ]
     },
     "execution_count": 79,
     "metadata": {},
     "output_type": "execute_result"
    }
   ],
   "source": [
    "math.sqrt(0.75**2 + 1**2)"
   ]
  },
  {
   "cell_type": "code",
   "execution_count": 80,
   "id": "2714ae11",
   "metadata": {},
   "outputs": [
    {
     "data": {
      "text/html": [
       "<div>\n",
       "<style scoped>\n",
       "    .dataframe tbody tr th:only-of-type {\n",
       "        vertical-align: middle;\n",
       "    }\n",
       "\n",
       "    .dataframe tbody tr th {\n",
       "        vertical-align: top;\n",
       "    }\n",
       "\n",
       "    .dataframe thead th {\n",
       "        text-align: right;\n",
       "    }\n",
       "</style>\n",
       "<table border=\"1\" class=\"dataframe\">\n",
       "  <thead>\n",
       "    <tr style=\"text-align: right;\">\n",
       "      <th></th>\n",
       "      <th>or</th>\n",
       "      <th>Short Side</th>\n",
       "      <th>Diagonal</th>\n",
       "      <th>Row #</th>\n",
       "    </tr>\n",
       "  </thead>\n",
       "  <tbody>\n",
       "    <tr>\n",
       "      <th>0</th>\n",
       "      <td>(1).9834028</td>\n",
       "      <td>119</td>\n",
       "      <td>169</td>\n",
       "      <td>1</td>\n",
       "    </tr>\n",
       "    <tr>\n",
       "      <th>1</th>\n",
       "      <td>(1).9491586</td>\n",
       "      <td>3367</td>\n",
       "      <td>4825</td>\n",
       "      <td>2</td>\n",
       "    </tr>\n",
       "    <tr>\n",
       "      <th>2</th>\n",
       "      <td>(1).9188021</td>\n",
       "      <td>4601</td>\n",
       "      <td>6649</td>\n",
       "      <td>3</td>\n",
       "    </tr>\n",
       "    <tr>\n",
       "      <th>3</th>\n",
       "      <td>(1).8862479</td>\n",
       "      <td>12709</td>\n",
       "      <td>18541</td>\n",
       "      <td>4</td>\n",
       "    </tr>\n",
       "    <tr>\n",
       "      <th>4</th>\n",
       "      <td>(1).8150077</td>\n",
       "      <td>65</td>\n",
       "      <td>97</td>\n",
       "      <td>5</td>\n",
       "    </tr>\n",
       "    <tr>\n",
       "      <th>5</th>\n",
       "      <td>(1).7851929</td>\n",
       "      <td>319</td>\n",
       "      <td>481</td>\n",
       "      <td>6</td>\n",
       "    </tr>\n",
       "    <tr>\n",
       "      <th>6</th>\n",
       "      <td>(1).7199837</td>\n",
       "      <td>2291</td>\n",
       "      <td>3541</td>\n",
       "      <td>7</td>\n",
       "    </tr>\n",
       "    <tr>\n",
       "      <th>7</th>\n",
       "      <td>(1).6927094</td>\n",
       "      <td>799</td>\n",
       "      <td>1249</td>\n",
       "      <td>8</td>\n",
       "    </tr>\n",
       "    <tr>\n",
       "      <th>8</th>\n",
       "      <td>(1).6426694</td>\n",
       "      <td>481</td>\n",
       "      <td>769</td>\n",
       "      <td>9</td>\n",
       "    </tr>\n",
       "    <tr>\n",
       "      <th>9</th>\n",
       "      <td>(1).5861226</td>\n",
       "      <td>4961</td>\n",
       "      <td>8161</td>\n",
       "      <td>10</td>\n",
       "    </tr>\n",
       "    <tr>\n",
       "      <th>10</th>\n",
       "      <td>(1).5625</td>\n",
       "      <td>45*</td>\n",
       "      <td>75*</td>\n",
       "      <td>11</td>\n",
       "    </tr>\n",
       "    <tr>\n",
       "      <th>11</th>\n",
       "      <td>(1).4894168</td>\n",
       "      <td>1679</td>\n",
       "      <td>2929</td>\n",
       "      <td>12</td>\n",
       "    </tr>\n",
       "    <tr>\n",
       "      <th>12</th>\n",
       "      <td>(1).4500174</td>\n",
       "      <td>161</td>\n",
       "      <td>289</td>\n",
       "      <td>13</td>\n",
       "    </tr>\n",
       "    <tr>\n",
       "      <th>13</th>\n",
       "      <td>(1).4302388</td>\n",
       "      <td>1771</td>\n",
       "      <td>3229</td>\n",
       "      <td>14</td>\n",
       "    </tr>\n",
       "    <tr>\n",
       "      <th>14</th>\n",
       "      <td>(1).3871605</td>\n",
       "      <td>56*</td>\n",
       "      <td>106*</td>\n",
       "      <td>15</td>\n",
       "    </tr>\n",
       "  </tbody>\n",
       "</table>\n",
       "</div>"
      ],
      "text/plain": [
       "             or Short Side Diagonal  Row #\n",
       "0   (1).9834028        119      169      1\n",
       "1   (1).9491586       3367     4825      2\n",
       "2   (1).9188021       4601     6649      3\n",
       "3   (1).8862479      12709    18541      4\n",
       "4   (1).8150077         65       97      5\n",
       "5   (1).7851929        319      481      6\n",
       "6   (1).7199837       2291     3541      7\n",
       "7   (1).6927094        799     1249      8\n",
       "8   (1).6426694        481      769      9\n",
       "9   (1).5861226       4961     8161     10\n",
       "10     (1).5625        45*      75*     11\n",
       "11  (1).4894168       1679     2929     12\n",
       "12  (1).4500174        161      289     13\n",
       "13  (1).4302388       1771     3229     14\n",
       "14  (1).3871605        56*     106*     15"
      ]
     },
     "execution_count": 80,
     "metadata": {},
     "output_type": "execute_result"
    }
   ],
   "source": [
    "df1"
   ]
  },
  {
   "cell_type": "markdown",
   "id": "03a12a89",
   "metadata": {},
   "source": [
    "$v_{3} = 1 + {v_{1}}^2 = 1 + (\\frac{c}{2})^2$"
   ]
  },
  {
   "cell_type": "code",
   "execution_count": 81,
   "id": "4d2ab4db",
   "metadata": {},
   "outputs": [
    {
     "data": {
      "text/plain": [
       "0.5625"
      ]
     },
     "execution_count": 81,
     "metadata": {},
     "output_type": "execute_result"
    }
   ],
   "source": [
    "(1.5/2)**2"
   ]
  },
  {
   "cell_type": "markdown",
   "id": "8513ac4c",
   "metadata": {},
   "source": [
    "タブレットでは肝心の $x$ の値のカラムが欠けているのではないか!?"
   ]
  },
  {
   "cell_type": "markdown",
   "id": "dd265f11",
   "metadata": {},
   "source": [
    "課題 1: Plimton 322の数の表の各列に対応する $x$ の値を求めよ。"
   ]
  },
  {
   "cell_type": "markdown",
   "id": "cbddfa43",
   "metadata": {},
   "source": [
    "課題2: Plimpton 322の数表の左端にカラムを追加し、$x$ の値を計算して埋めよ。"
   ]
  },
  {
   "cell_type": "code",
   "execution_count": null,
   "id": "e3e33317",
   "metadata": {},
   "outputs": [],
   "source": []
  }
 ],
 "metadata": {
  "kernelspec": {
   "display_name": "Python 3 (ipykernel)",
   "language": "python",
   "name": "python3"
  },
  "language_info": {
   "codemirror_mode": {
    "name": "ipython",
    "version": 3
   },
   "file_extension": ".py",
   "mimetype": "text/x-python",
   "name": "python",
   "nbconvert_exporter": "python",
   "pygments_lexer": "ipython3",
   "version": "3.9.12"
  },
  "toc": {
   "base_numbering": 1,
   "nav_menu": {},
   "number_sections": true,
   "sideBar": true,
   "skip_h1_title": false,
   "title_cell": "Table of Contents",
   "title_sidebar": "Contents",
   "toc_cell": false,
   "toc_position": {},
   "toc_section_display": true,
   "toc_window_display": false
  }
 },
 "nbformat": 4,
 "nbformat_minor": 5
}
