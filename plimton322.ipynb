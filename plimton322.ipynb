{
 "cells": [
  {
   "cell_type": "markdown",
   "id": "eec1c8f5",
   "metadata": {},
   "source": [
    "# Plimpton 322 (1)"
   ]
  },
  {
   "cell_type": "markdown",
   "id": "093352ac",
   "metadata": {},
   "source": [
    "* [A Remarkable Collection of Babylonian Mathematical Texts: Manuscripts in the Schøyen Collection: Cuneiform Texts I (Sources and Studies in the History of Mathematics and Physical Sciences): Friberg, Jöran: 9780387345437: Books - Amazon](https://www.amazon.com/Remarkable-Collection-Babylonian-Mathematical-Texts-dp-0387345434/dp/0387345434/ref=mt_other?_encoding=UTF8&me=&qid=)"
   ]
  },
  {
   "cell_type": "code",
   "execution_count": 2,
   "id": "240236bb",
   "metadata": {
    "scrolled": true
   },
   "outputs": [],
   "source": []
  },
  {
   "cell_type": "code",
   "execution_count": 3,
   "id": "24547ad0",
   "metadata": {
    "scrolled": true
   },
   "outputs": [],
   "source": []
  },
  {
   "cell_type": "code",
   "execution_count": 20,
   "id": "a48558b6",
   "metadata": {
    "scrolled": true
   },
   "outputs": [
    {
     "data": {
      "text/plain": [
       "array([  119,  3367,  4601, 12709,    65,   319,  2291,   799,   481,\n",
       "        4961,  1679,   161,  1771])"
      ]
     },
     "execution_count": 20,
     "metadata": {},
     "output_type": "execute_result"
    }
   ],
   "source": [
    "df1.drop(df1.index[[10,14]]).iloc[:,1].values.astype(int)"
   ]
  },
  {
   "cell_type": "code",
   "execution_count": 21,
   "id": "a4c68b77",
   "metadata": {
    "scrolled": true
   },
   "outputs": [
    {
     "data": {
      "text/plain": [
       "array([  169,  4825,  6649, 18541,    97,   481,  3541,  1249,   769,\n",
       "        8161,  2929,   289,  3229])"
      ]
     },
     "execution_count": 21,
     "metadata": {},
     "output_type": "execute_result"
    }
   ],
   "source": [
    "df1.drop(df1.index[[10,14]]).iloc[:,2].values.astype(int)"
   ]
  },
  {
   "cell_type": "code",
   "execution_count": 24,
   "id": "11928094",
   "metadata": {
    "scrolled": true
   },
   "outputs": [],
   "source": [
    "import numpy as np"
   ]
  },
  {
   "cell_type": "code",
   "execution_count": 29,
   "id": "ebafffe6",
   "metadata": {
    "scrolled": true
   },
   "outputs": [
    {
     "data": {
      "text/plain": [
       "array([[  119,   169],\n",
       "       [ 3367,  4825],\n",
       "       [ 4601,  6649],\n",
       "       [12709, 18541],\n",
       "       [   65,    97],\n",
       "       [  319,   481],\n",
       "       [ 2291,  3541],\n",
       "       [  799,  1249],\n",
       "       [  481,   769],\n",
       "       [ 4961,  8161],\n",
       "       [ 1679,  2929],\n",
       "       [  161,   289],\n",
       "       [ 1771,  3229]])"
      ]
     },
     "execution_count": 29,
     "metadata": {},
     "output_type": "execute_result"
    }
   ],
   "source": [
    "np.array(list(zip(df1.drop(df1.index[[10,14]]).iloc[:,1].values.astype(int),\n",
    "                  df1.drop(df1.index[[10,14]]).iloc[:,2].values.astype(int))))"
   ]
  },
  {
   "cell_type": "code",
   "execution_count": null,
   "id": "6185211c",
   "metadata": {
    "scrolled": true
   },
   "outputs": [],
   "source": []
  },
  {
   "cell_type": "code",
   "execution_count": null,
   "id": "e74986be",
   "metadata": {
    "scrolled": true
   },
   "outputs": [],
   "source": []
  },
  {
   "cell_type": "code",
   "execution_count": null,
   "id": "16ca17e2",
   "metadata": {
    "scrolled": true
   },
   "outputs": [],
   "source": []
  },
  {
   "cell_type": "code",
   "execution_count": 33,
   "id": "cea16876",
   "metadata": {
    "scrolled": false
   },
   "outputs": [
    {
     "data": {
      "text/plain": [
       "0                  1 59\n",
       "1                 56 07\n",
       "2               1 16 41\n",
       "3               3 31 49\n",
       "4                  1 05\n",
       "5                  5 19\n",
       "6                 38 11\n",
       "7                 13 19\n",
       "8           9 01 [8] 01\n",
       "9               1 22 41\n",
       "10                   45\n",
       "11                27 59\n",
       "12       7 12 01 [2 41]\n",
       "13                29 31\n",
       "14    56 56 [28] (alt.)\n",
       "Name: ÍB.SI8 of the width, dtype: object"
      ]
     },
     "execution_count": 33,
     "metadata": {},
     "output_type": "execute_result"
    }
   ],
   "source": [
    "df0.iloc[:,1]"
   ]
  },
  {
   "cell_type": "code",
   "execution_count": 34,
   "id": "2ff3bc53",
   "metadata": {
    "scrolled": true
   },
   "outputs": [
    {
     "data": {
      "text/plain": [
       "(1, 59)"
      ]
     },
     "execution_count": 34,
     "metadata": {},
     "output_type": "execute_result"
    }
   ],
   "source": [
    "tuple(map(int,df.iloc[:,1][0].split()))"
   ]
  },
  {
   "cell_type": "code",
   "execution_count": 35,
   "id": "5489fe70",
   "metadata": {
    "scrolled": true
   },
   "outputs": [
    {
     "data": {
      "text/plain": [
       "(2, 49)"
      ]
     },
     "execution_count": 35,
     "metadata": {},
     "output_type": "execute_result"
    }
   ],
   "source": [
    "tuple(map(int,df.iloc[:,2][0].split()))"
   ]
  },
  {
   "cell_type": "code",
   "execution_count": 43,
   "id": "3c47029a",
   "metadata": {
    "scrolled": true
   },
   "outputs": [
    {
     "data": {
      "text/html": [
       "<div>\n",
       "<style scoped>\n",
       "    .dataframe tbody tr th:only-of-type {\n",
       "        vertical-align: middle;\n",
       "    }\n",
       "\n",
       "    .dataframe tbody tr th {\n",
       "        vertical-align: top;\n",
       "    }\n",
       "\n",
       "    .dataframe thead th {\n",
       "        text-align: right;\n",
       "    }\n",
       "</style>\n",
       "<table border=\"1\" class=\"dataframe\">\n",
       "  <thead>\n",
       "    <tr style=\"text-align: right;\">\n",
       "      <th></th>\n",
       "      <th>takiltum of the diagonal from which 1 is tornout so that thewidth comes up</th>\n",
       "      <th>ÍB.SI8 of the width</th>\n",
       "      <th>ÍB.SI8 of the diagonal</th>\n",
       "      <th>its line</th>\n",
       "    </tr>\n",
       "  </thead>\n",
       "  <tbody>\n",
       "    <tr>\n",
       "      <th>0</th>\n",
       "      <td>(1) 59 00 15</td>\n",
       "      <td>1 59</td>\n",
       "      <td>2 49</td>\n",
       "      <td>1st</td>\n",
       "    </tr>\n",
       "  </tbody>\n",
       "</table>\n",
       "</div>"
      ],
      "text/plain": [
       "  takiltum of the diagonal from which 1 is tornout so that thewidth comes up  \\\n",
       "0                                       (1) 59 00 15                           \n",
       "\n",
       "  ÍB.SI8 of the width ÍB.SI8 of the diagonal its line  \n",
       "0                1 59                   2 49      1st  "
      ]
     },
     "execution_count": 43,
     "metadata": {},
     "output_type": "execute_result"
    }
   ],
   "source": [
    "df0.take([0])"
   ]
  },
  {
   "cell_type": "markdown",
   "id": "4e00fbf5",
   "metadata": {},
   "source": [
    "* [【Python】記数法の変換（10進数⇔n進数） - 理系のための備忘録](https://science-log.com/python%E3%83%97%E3%83%AD%E3%82%B0%E3%83%A9%E3%83%9F%E3%83%B3%E3%82%B0tips%E9%9B%86/%E3%80%90python%E3%80%91%E8%A8%98%E6%95%B0%E6%B3%95%E3%81%AE%E5%A4%89%E6%8F%9B/)"
   ]
  },
  {
   "cell_type": "code",
   "execution_count": 37,
   "id": "6611b277",
   "metadata": {
    "scrolled": true
   },
   "outputs": [],
   "source": [
    "def Dec_to_N(num, base):\n",
    "    if num >= base:\n",
    "        yield from Dec_to_N(num // base, base)\n",
    "    yield num % base"
   ]
  },
  {
   "cell_type": "code",
   "execution_count": 38,
   "id": "bda82dbc",
   "metadata": {
    "scrolled": true
   },
   "outputs": [],
   "source": [
    "def N_to_Dec(digits, base):\n",
    "    num = 0\n",
    "    for digit in digits:\n",
    "        num = num * base + digit\n",
    "    return num"
   ]
  },
  {
   "cell_type": "code",
   "execution_count": 50,
   "id": "9f3a5370",
   "metadata": {
    "scrolled": true
   },
   "outputs": [
    {
     "data": {
      "text/plain": [
       "119"
      ]
     },
     "execution_count": 50,
     "metadata": {},
     "output_type": "execute_result"
    }
   ],
   "source": [
    "N_to_Dec(map(int,df.iloc[:,1][0].split()), 60)"
   ]
  },
  {
   "cell_type": "code",
   "execution_count": 51,
   "id": "1eec33d4",
   "metadata": {
    "scrolled": true
   },
   "outputs": [
    {
     "data": {
      "text/plain": [
       "169"
      ]
     },
     "execution_count": 51,
     "metadata": {},
     "output_type": "execute_result"
    }
   ],
   "source": [
    "N_to_Dec(map(int,df.iloc[:,2][0].split()), 60)"
   ]
  },
  {
   "cell_type": "code",
   "execution_count": 44,
   "id": "a7cbd024",
   "metadata": {
    "scrolled": true
   },
   "outputs": [
    {
     "data": {
      "text/html": [
       "<div>\n",
       "<style scoped>\n",
       "    .dataframe tbody tr th:only-of-type {\n",
       "        vertical-align: middle;\n",
       "    }\n",
       "\n",
       "    .dataframe tbody tr th {\n",
       "        vertical-align: top;\n",
       "    }\n",
       "\n",
       "    .dataframe thead th {\n",
       "        text-align: right;\n",
       "    }\n",
       "</style>\n",
       "<table border=\"1\" class=\"dataframe\">\n",
       "  <thead>\n",
       "    <tr style=\"text-align: right;\">\n",
       "      <th></th>\n",
       "      <th>or</th>\n",
       "      <th>Short Side</th>\n",
       "      <th>Diagonal</th>\n",
       "      <th>Row #</th>\n",
       "    </tr>\n",
       "  </thead>\n",
       "  <tbody>\n",
       "    <tr>\n",
       "      <th>0</th>\n",
       "      <td>(1).9834028</td>\n",
       "      <td>119</td>\n",
       "      <td>169</td>\n",
       "      <td>1</td>\n",
       "    </tr>\n",
       "  </tbody>\n",
       "</table>\n",
       "</div>"
      ],
      "text/plain": [
       "            or Short Side Diagonal  Row #\n",
       "0  (1).9834028        119      169      1"
      ]
     },
     "execution_count": 44,
     "metadata": {},
     "output_type": "execute_result"
    }
   ],
   "source": [
    "df1.take([0])"
   ]
  },
  {
   "cell_type": "markdown",
   "id": "5d8c11ca",
   "metadata": {},
   "source": [
    "## 11行目に着目"
   ]
  },
  {
   "cell_type": "code",
   "execution_count": 45,
   "id": "78636584",
   "metadata": {
    "scrolled": true
   },
   "outputs": [
    {
     "data": {
      "text/html": [
       "<div>\n",
       "<style scoped>\n",
       "    .dataframe tbody tr th:only-of-type {\n",
       "        vertical-align: middle;\n",
       "    }\n",
       "\n",
       "    .dataframe tbody tr th {\n",
       "        vertical-align: top;\n",
       "    }\n",
       "\n",
       "    .dataframe thead th {\n",
       "        text-align: right;\n",
       "    }\n",
       "</style>\n",
       "<table border=\"1\" class=\"dataframe\">\n",
       "  <thead>\n",
       "    <tr style=\"text-align: right;\">\n",
       "      <th></th>\n",
       "      <th>takiltum of the diagonal from which 1 is tornout so that thewidth comes up</th>\n",
       "      <th>ÍB.SI8 of the width</th>\n",
       "      <th>ÍB.SI8 of the diagonal</th>\n",
       "      <th>its line</th>\n",
       "    </tr>\n",
       "  </thead>\n",
       "  <tbody>\n",
       "    <tr>\n",
       "      <th>10</th>\n",
       "      <td>(1) 33 45</td>\n",
       "      <td>45</td>\n",
       "      <td>1 15</td>\n",
       "      <td>11th</td>\n",
       "    </tr>\n",
       "  </tbody>\n",
       "</table>\n",
       "</div>"
      ],
      "text/plain": [
       "   takiltum of the diagonal from which 1 is tornout so that thewidth comes up  \\\n",
       "10                                          (1) 33 45                           \n",
       "\n",
       "   ÍB.SI8 of the width ÍB.SI8 of the diagonal its line  \n",
       "10                  45                   1 15     11th  "
      ]
     },
     "execution_count": 45,
     "metadata": {},
     "output_type": "execute_result"
    }
   ],
   "source": [
    "df0.take([10])"
   ]
  },
  {
   "cell_type": "code",
   "execution_count": 48,
   "id": "29988121",
   "metadata": {
    "scrolled": true
   },
   "outputs": [
    {
     "data": {
      "text/plain": [
       "45"
      ]
     },
     "execution_count": 48,
     "metadata": {},
     "output_type": "execute_result"
    }
   ],
   "source": [
    "N_to_Dec(map(int,df.iloc[:,1][10].split()), 60)"
   ]
  },
  {
   "cell_type": "code",
   "execution_count": 49,
   "id": "cd2ef208",
   "metadata": {
    "scrolled": true
   },
   "outputs": [
    {
     "data": {
      "text/plain": [
       "75"
      ]
     },
     "execution_count": 49,
     "metadata": {},
     "output_type": "execute_result"
    }
   ],
   "source": [
    "N_to_Dec(map(int,df.iloc[:,2][10].split()), 60)"
   ]
  },
  {
   "cell_type": "code",
   "execution_count": 119,
   "id": "c6af0db0",
   "metadata": {
    "scrolled": false
   },
   "outputs": [
    {
     "data": {
      "text/html": [
       "<div>\n",
       "<style scoped>\n",
       "    .dataframe tbody tr th:only-of-type {\n",
       "        vertical-align: middle;\n",
       "    }\n",
       "\n",
       "    .dataframe tbody tr th {\n",
       "        vertical-align: top;\n",
       "    }\n",
       "\n",
       "    .dataframe thead th {\n",
       "        text-align: right;\n",
       "    }\n",
       "</style>\n",
       "<table border=\"1\" class=\"dataframe\">\n",
       "  <thead>\n",
       "    <tr style=\"text-align: right;\">\n",
       "      <th></th>\n",
       "      <th>or</th>\n",
       "      <th>Short Side</th>\n",
       "      <th>Diagonal</th>\n",
       "      <th>Row #</th>\n",
       "    </tr>\n",
       "  </thead>\n",
       "  <tbody>\n",
       "    <tr>\n",
       "      <th>10</th>\n",
       "      <td>(1).5625</td>\n",
       "      <td>45*</td>\n",
       "      <td>75*</td>\n",
       "      <td>11</td>\n",
       "    </tr>\n",
       "  </tbody>\n",
       "</table>\n",
       "</div>"
      ],
      "text/plain": [
       "          or Short Side Diagonal  Row #\n",
       "10  (1).5625        45*      75*     11"
      ]
     },
     "execution_count": 119,
     "metadata": {},
     "output_type": "execute_result"
    }
   ],
   "source": [
    "pd.read_html(res)[1].take([10])"
   ]
  },
  {
   "cell_type": "code",
   "execution_count": 53,
   "id": "3bcbf7e9",
   "metadata": {
    "scrolled": true
   },
   "outputs": [
    {
     "data": {
      "text/plain": [
       "3.0"
      ]
     },
     "execution_count": 53,
     "metadata": {},
     "output_type": "execute_result"
    }
   ],
   "source": [
    "N_to_Dec(list(map(int,df0.iloc[:,1][10].split())), 60)/15"
   ]
  },
  {
   "cell_type": "code",
   "execution_count": 52,
   "id": "a8a4cf95",
   "metadata": {
    "scrolled": true
   },
   "outputs": [
    {
     "data": {
      "text/plain": [
       "5.0"
      ]
     },
     "execution_count": 52,
     "metadata": {},
     "output_type": "execute_result"
    }
   ],
   "source": [
    "N_to_Dec(list(map(int,df0.iloc[:,2][10].split())), 60)/15"
   ]
  },
  {
   "cell_type": "code",
   "execution_count": 54,
   "id": "13720c11",
   "metadata": {
    "scrolled": true
   },
   "outputs": [
    {
     "data": {
      "text/plain": [
       "4.0"
      ]
     },
     "execution_count": 54,
     "metadata": {},
     "output_type": "execute_result"
    }
   ],
   "source": [
    "60/15"
   ]
  },
  {
   "cell_type": "code",
   "execution_count": 57,
   "id": "c45d6f1c",
   "metadata": {
    "scrolled": true
   },
   "outputs": [],
   "source": [
    "import math"
   ]
  },
  {
   "cell_type": "code",
   "execution_count": 58,
   "id": "ccc8e733",
   "metadata": {
    "scrolled": true
   },
   "outputs": [
    {
     "data": {
      "text/plain": [
       "60.0"
      ]
     },
     "execution_count": 58,
     "metadata": {},
     "output_type": "execute_result"
    }
   ],
   "source": [
    "math.sqrt(75**2 - 45**2)"
   ]
  },
  {
   "cell_type": "code",
   "execution_count": 59,
   "id": "473d06d2",
   "metadata": {
    "scrolled": true
   },
   "outputs": [
    {
     "data": {
      "text/plain": [
       "0.5625"
      ]
     },
     "execution_count": 59,
     "metadata": {},
     "output_type": "execute_result"
    }
   ],
   "source": [
    "45**2 / 60**2"
   ]
  },
  {
   "cell_type": "code",
   "execution_count": 60,
   "id": "ee51a5e2",
   "metadata": {
    "scrolled": true
   },
   "outputs": [
    {
     "data": {
      "text/plain": [
       "1.5625"
      ]
     },
     "execution_count": 60,
     "metadata": {},
     "output_type": "execute_result"
    }
   ],
   "source": [
    "75**2 / 60**2"
   ]
  },
  {
   "cell_type": "code",
   "execution_count": 61,
   "id": "c5135282",
   "metadata": {
    "scrolled": true
   },
   "outputs": [
    {
     "data": {
      "text/plain": [
       "(0.5625, 1.5625)"
      ]
     },
     "execution_count": 61,
     "metadata": {},
     "output_type": "execute_result"
    }
   ],
   "source": [
    "(3**2 / 4**2, 5**2 / 4**2)"
   ]
  },
  {
   "cell_type": "code",
   "execution_count": 62,
   "id": "9d39b0e9",
   "metadata": {
    "scrolled": true
   },
   "outputs": [],
   "source": [
    "def _modf(x):\n",
    "    f, _ = math.modf(x)\n",
    "    return int(f*(10**str(f)[::-1].find('.')))"
   ]
  },
  {
   "cell_type": "code",
   "execution_count": 63,
   "id": "8e2e306a",
   "metadata": {
    "scrolled": true
   },
   "outputs": [
    {
     "data": {
      "text/plain": [
       "5625"
      ]
     },
     "execution_count": 63,
     "metadata": {},
     "output_type": "execute_result"
    }
   ],
   "source": [
    "_modf(1.5625)"
   ]
  },
  {
   "cell_type": "code",
   "execution_count": 64,
   "id": "b40d5018",
   "metadata": {
    "scrolled": true
   },
   "outputs": [
    {
     "data": {
      "text/plain": [
       "(1, 33, 45)"
      ]
     },
     "execution_count": 64,
     "metadata": {},
     "output_type": "execute_result"
    }
   ],
   "source": [
    "tuple(Dec_to_N(_modf(1.5625),60))"
   ]
  },
  {
   "cell_type": "code",
   "execution_count": 65,
   "id": "7a64d183",
   "metadata": {
    "scrolled": false
   },
   "outputs": [
    {
     "data": {
      "text/html": [
       "<div>\n",
       "<style scoped>\n",
       "    .dataframe tbody tr th:only-of-type {\n",
       "        vertical-align: middle;\n",
       "    }\n",
       "\n",
       "    .dataframe tbody tr th {\n",
       "        vertical-align: top;\n",
       "    }\n",
       "\n",
       "    .dataframe thead th {\n",
       "        text-align: right;\n",
       "    }\n",
       "</style>\n",
       "<table border=\"1\" class=\"dataframe\">\n",
       "  <thead>\n",
       "    <tr style=\"text-align: right;\">\n",
       "      <th></th>\n",
       "      <th>takiltum of the diagonal from which 1 is tornout so that thewidth comes up</th>\n",
       "      <th>ÍB.SI8 of the width</th>\n",
       "      <th>ÍB.SI8 of the diagonal</th>\n",
       "      <th>its line</th>\n",
       "    </tr>\n",
       "  </thead>\n",
       "  <tbody>\n",
       "    <tr>\n",
       "      <th>10</th>\n",
       "      <td>(1) 33 45</td>\n",
       "      <td>45</td>\n",
       "      <td>1 15</td>\n",
       "      <td>11th</td>\n",
       "    </tr>\n",
       "  </tbody>\n",
       "</table>\n",
       "</div>"
      ],
      "text/plain": [
       "   takiltum of the diagonal from which 1 is tornout so that thewidth comes up  \\\n",
       "10                                          (1) 33 45                           \n",
       "\n",
       "   ÍB.SI8 of the width ÍB.SI8 of the diagonal its line  \n",
       "10                  45                   1 15     11th  "
      ]
     },
     "execution_count": 65,
     "metadata": {},
     "output_type": "execute_result"
    }
   ],
   "source": [
    "df0.take([10])"
   ]
  },
  {
   "cell_type": "markdown",
   "id": "0b0cf373",
   "metadata": {},
   "source": [
    "## Plimpton 322の用途"
   ]
  },
  {
   "cell_type": "markdown",
   "id": "7049a072",
   "metadata": {},
   "source": [
    "問: 次の等式を満たす $x$ を求めよ:\n",
    "$$x - \\frac{1}{x} = 1.5$$"
   ]
  },
  {
   "cell_type": "markdown",
   "id": "abb96fc8",
   "metadata": {},
   "source": [
    "解: $x = 2$"
   ]
  },
  {
   "cell_type": "markdown",
   "id": "a5a0af3a",
   "metadata": {},
   "source": [
    "$x - \\frac{1}{x} = c$ としたとき、$v_{1} = \\frac{c}{2}$、$v_{3} = 1 + {v_{1}}^2 = 1 + (\\frac{c}{2})^2$、$v_{4} = \\sqrt{v_{3}} = \\sqrt{1 + (\\frac{c}{2})^2}$ と置くと、次の公式が成り立つ:\n",
    "\\begin{eqnarray}\n",
    "x &=& v_{4} + v_{1} \\\\\n",
    "\\frac{1}{x} &=& v_{4} - v_{1}\n",
    "\\end{eqnarray}"
   ]
  },
  {
   "cell_type": "markdown",
   "id": "7d57eb0a",
   "metadata": {},
   "source": [
    "$v_{3} = 1 + (\\frac{1.5}{2})^2 = 1.5625$、$v_{4} = \\sqrt{v_{3}} = 1.25$、$v_{1} = \\frac{1.5}{2} = 0.75$ なので、$x = v_{4} + v_{1} = 2$ が成り立つ。なお、このとき $\\frac{1}{x} = v_{4} - v_{1} = 0.5$ も成り立っている。"
   ]
  },
  {
   "cell_type": "markdown",
   "id": "fccec05e",
   "metadata": {},
   "source": [
    "なお、$v_{3}$ はPlimpton 322の1カラム目、$v_{1}$ は2カラム目、$v_{4}$ は3カラム目に対応する。"
   ]
  },
  {
   "cell_type": "markdown",
   "id": "57dc0183",
   "metadata": {},
   "source": [
    "$v_{1} = \\frac{1}{2}(x-\\frac{1}{x})$, $1$, $v_{4} = \\frac{1}{2}(x+\\frac{1}{x})$ はピタゴラスの三数である。"
   ]
  },
  {
   "cell_type": "code",
   "execution_count": 67,
   "id": "2465e4b5",
   "metadata": {
    "scrolled": true
   },
   "outputs": [
    {
     "data": {
      "text/plain": [
       "0.75"
      ]
     },
     "execution_count": 67,
     "metadata": {},
     "output_type": "execute_result"
    }
   ],
   "source": [
    "# v1\n",
    "1.5/2"
   ]
  },
  {
   "cell_type": "code",
   "execution_count": 205,
   "id": "8a58c4a8",
   "metadata": {
    "scrolled": true
   },
   "outputs": [
    {
     "data": {
      "text/plain": [
       "1.5625"
      ]
     },
     "execution_count": 205,
     "metadata": {},
     "output_type": "execute_result"
    }
   ],
   "source": [
    "# v3\n",
    "1+(1.5/2)**2"
   ]
  },
  {
   "cell_type": "code",
   "execution_count": 66,
   "id": "14bea9e0",
   "metadata": {
    "scrolled": true
   },
   "outputs": [
    {
     "data": {
      "text/plain": [
       "1.25"
      ]
     },
     "execution_count": 66,
     "metadata": {},
     "output_type": "execute_result"
    }
   ],
   "source": [
    "# v4\n",
    "math.sqrt(1.5625)"
   ]
  },
  {
   "cell_type": "code",
   "execution_count": 68,
   "id": "7354dc79",
   "metadata": {
    "scrolled": true
   },
   "outputs": [
    {
     "data": {
      "text/html": [
       "<div>\n",
       "<style scoped>\n",
       "    .dataframe tbody tr th:only-of-type {\n",
       "        vertical-align: middle;\n",
       "    }\n",
       "\n",
       "    .dataframe tbody tr th {\n",
       "        vertical-align: top;\n",
       "    }\n",
       "\n",
       "    .dataframe thead th {\n",
       "        text-align: right;\n",
       "    }\n",
       "</style>\n",
       "<table border=\"1\" class=\"dataframe\">\n",
       "  <thead>\n",
       "    <tr style=\"text-align: right;\">\n",
       "      <th></th>\n",
       "      <th>takiltum of the diagonal from which 1 is tornout so that thewidth comes up</th>\n",
       "      <th>ÍB.SI8 of the width</th>\n",
       "      <th>ÍB.SI8 of the diagonal</th>\n",
       "      <th>its line</th>\n",
       "    </tr>\n",
       "  </thead>\n",
       "  <tbody>\n",
       "    <tr>\n",
       "      <th>10</th>\n",
       "      <td>(1) 33 45</td>\n",
       "      <td>45</td>\n",
       "      <td>1 15</td>\n",
       "      <td>11th</td>\n",
       "    </tr>\n",
       "  </tbody>\n",
       "</table>\n",
       "</div>"
      ],
      "text/plain": [
       "   takiltum of the diagonal from which 1 is tornout so that thewidth comes up  \\\n",
       "10                                          (1) 33 45                           \n",
       "\n",
       "   ÍB.SI8 of the width ÍB.SI8 of the diagonal its line  \n",
       "10                  45                   1 15     11th  "
      ]
     },
     "execution_count": 68,
     "metadata": {},
     "output_type": "execute_result"
    }
   ],
   "source": [
    "df0.take([10])"
   ]
  },
  {
   "cell_type": "code",
   "execution_count": 64,
   "id": "e21f01a3",
   "metadata": {
    "scrolled": true
   },
   "outputs": [
    {
     "data": {
      "text/plain": [
       "(1, 33, 45)"
      ]
     },
     "execution_count": 64,
     "metadata": {},
     "output_type": "execute_result"
    }
   ],
   "source": [
    "tuple(Dec_to_N(_modf(1.5625),60))"
   ]
  },
  {
   "cell_type": "code",
   "execution_count": 73,
   "id": "c009a9a3",
   "metadata": {
    "scrolled": true
   },
   "outputs": [
    {
     "data": {
      "text/plain": [
       "45"
      ]
     },
     "execution_count": 73,
     "metadata": {},
     "output_type": "execute_result"
    }
   ],
   "source": [
    "N_to_Dec(list(map(int,df0.iloc[:,1][10].split())), 60) "
   ]
  },
  {
   "cell_type": "code",
   "execution_count": 74,
   "id": "07037597",
   "metadata": {
    "scrolled": true
   },
   "outputs": [
    {
     "data": {
      "text/plain": [
       "75"
      ]
     },
     "execution_count": 74,
     "metadata": {},
     "output_type": "execute_result"
    }
   ],
   "source": [
    "N_to_Dec(list(map(int,df0.iloc[:,2][10].split())), 60) "
   ]
  },
  {
   "cell_type": "code",
   "execution_count": 75,
   "id": "fe3fb3ec",
   "metadata": {
    "scrolled": true
   },
   "outputs": [
    {
     "data": {
      "text/plain": [
       "60.0"
      ]
     },
     "execution_count": 75,
     "metadata": {},
     "output_type": "execute_result"
    }
   ],
   "source": [
    "math.sqrt(75**2 - 45**2)"
   ]
  },
  {
   "cell_type": "code",
   "execution_count": 78,
   "id": "f9bf6b01",
   "metadata": {
    "scrolled": true
   },
   "outputs": [
    {
     "data": {
      "text/plain": [
       "(0.75, 1.0, 1.25)"
      ]
     },
     "execution_count": 78,
     "metadata": {},
     "output_type": "execute_result"
    }
   ],
   "source": [
    "# v1, 1, v4\n",
    "(45/60, 60/60, 75/60)"
   ]
  },
  {
   "cell_type": "code",
   "execution_count": 79,
   "id": "eb2d73d4",
   "metadata": {
    "scrolled": true
   },
   "outputs": [
    {
     "data": {
      "text/plain": [
       "1.25"
      ]
     },
     "execution_count": 79,
     "metadata": {},
     "output_type": "execute_result"
    }
   ],
   "source": [
    "math.sqrt(0.75**2 + 1**2)"
   ]
  },
  {
   "cell_type": "code",
   "execution_count": 80,
   "id": "2714ae11",
   "metadata": {
    "scrolled": true
   },
   "outputs": [
    {
     "data": {
      "text/html": [
       "<div>\n",
       "<style scoped>\n",
       "    .dataframe tbody tr th:only-of-type {\n",
       "        vertical-align: middle;\n",
       "    }\n",
       "\n",
       "    .dataframe tbody tr th {\n",
       "        vertical-align: top;\n",
       "    }\n",
       "\n",
       "    .dataframe thead th {\n",
       "        text-align: right;\n",
       "    }\n",
       "</style>\n",
       "<table border=\"1\" class=\"dataframe\">\n",
       "  <thead>\n",
       "    <tr style=\"text-align: right;\">\n",
       "      <th></th>\n",
       "      <th>or</th>\n",
       "      <th>Short Side</th>\n",
       "      <th>Diagonal</th>\n",
       "      <th>Row #</th>\n",
       "    </tr>\n",
       "  </thead>\n",
       "  <tbody>\n",
       "    <tr>\n",
       "      <th>0</th>\n",
       "      <td>(1).9834028</td>\n",
       "      <td>119</td>\n",
       "      <td>169</td>\n",
       "      <td>1</td>\n",
       "    </tr>\n",
       "    <tr>\n",
       "      <th>1</th>\n",
       "      <td>(1).9491586</td>\n",
       "      <td>3367</td>\n",
       "      <td>4825</td>\n",
       "      <td>2</td>\n",
       "    </tr>\n",
       "    <tr>\n",
       "      <th>2</th>\n",
       "      <td>(1).9188021</td>\n",
       "      <td>4601</td>\n",
       "      <td>6649</td>\n",
       "      <td>3</td>\n",
       "    </tr>\n",
       "    <tr>\n",
       "      <th>3</th>\n",
       "      <td>(1).8862479</td>\n",
       "      <td>12709</td>\n",
       "      <td>18541</td>\n",
       "      <td>4</td>\n",
       "    </tr>\n",
       "    <tr>\n",
       "      <th>4</th>\n",
       "      <td>(1).8150077</td>\n",
       "      <td>65</td>\n",
       "      <td>97</td>\n",
       "      <td>5</td>\n",
       "    </tr>\n",
       "    <tr>\n",
       "      <th>5</th>\n",
       "      <td>(1).7851929</td>\n",
       "      <td>319</td>\n",
       "      <td>481</td>\n",
       "      <td>6</td>\n",
       "    </tr>\n",
       "    <tr>\n",
       "      <th>6</th>\n",
       "      <td>(1).7199837</td>\n",
       "      <td>2291</td>\n",
       "      <td>3541</td>\n",
       "      <td>7</td>\n",
       "    </tr>\n",
       "    <tr>\n",
       "      <th>7</th>\n",
       "      <td>(1).6927094</td>\n",
       "      <td>799</td>\n",
       "      <td>1249</td>\n",
       "      <td>8</td>\n",
       "    </tr>\n",
       "    <tr>\n",
       "      <th>8</th>\n",
       "      <td>(1).6426694</td>\n",
       "      <td>481</td>\n",
       "      <td>769</td>\n",
       "      <td>9</td>\n",
       "    </tr>\n",
       "    <tr>\n",
       "      <th>9</th>\n",
       "      <td>(1).5861226</td>\n",
       "      <td>4961</td>\n",
       "      <td>8161</td>\n",
       "      <td>10</td>\n",
       "    </tr>\n",
       "    <tr>\n",
       "      <th>10</th>\n",
       "      <td>(1).5625</td>\n",
       "      <td>45*</td>\n",
       "      <td>75*</td>\n",
       "      <td>11</td>\n",
       "    </tr>\n",
       "    <tr>\n",
       "      <th>11</th>\n",
       "      <td>(1).4894168</td>\n",
       "      <td>1679</td>\n",
       "      <td>2929</td>\n",
       "      <td>12</td>\n",
       "    </tr>\n",
       "    <tr>\n",
       "      <th>12</th>\n",
       "      <td>(1).4500174</td>\n",
       "      <td>161</td>\n",
       "      <td>289</td>\n",
       "      <td>13</td>\n",
       "    </tr>\n",
       "    <tr>\n",
       "      <th>13</th>\n",
       "      <td>(1).4302388</td>\n",
       "      <td>1771</td>\n",
       "      <td>3229</td>\n",
       "      <td>14</td>\n",
       "    </tr>\n",
       "    <tr>\n",
       "      <th>14</th>\n",
       "      <td>(1).3871605</td>\n",
       "      <td>56*</td>\n",
       "      <td>106*</td>\n",
       "      <td>15</td>\n",
       "    </tr>\n",
       "  </tbody>\n",
       "</table>\n",
       "</div>"
      ],
      "text/plain": [
       "             or Short Side Diagonal  Row #\n",
       "0   (1).9834028        119      169      1\n",
       "1   (1).9491586       3367     4825      2\n",
       "2   (1).9188021       4601     6649      3\n",
       "3   (1).8862479      12709    18541      4\n",
       "4   (1).8150077         65       97      5\n",
       "5   (1).7851929        319      481      6\n",
       "6   (1).7199837       2291     3541      7\n",
       "7   (1).6927094        799     1249      8\n",
       "8   (1).6426694        481      769      9\n",
       "9   (1).5861226       4961     8161     10\n",
       "10     (1).5625        45*      75*     11\n",
       "11  (1).4894168       1679     2929     12\n",
       "12  (1).4500174        161      289     13\n",
       "13  (1).4302388       1771     3229     14\n",
       "14  (1).3871605        56*     106*     15"
      ]
     },
     "execution_count": 80,
     "metadata": {},
     "output_type": "execute_result"
    }
   ],
   "source": [
    "df1"
   ]
  },
  {
   "cell_type": "markdown",
   "id": "03a12a89",
   "metadata": {},
   "source": [
    "$v_{3} = 1 + {v_{1}}^2 = 1 + (\\frac{c}{2})^2$"
   ]
  },
  {
   "cell_type": "code",
   "execution_count": 81,
   "id": "4d2ab4db",
   "metadata": {
    "scrolled": true
   },
   "outputs": [
    {
     "data": {
      "text/plain": [
       "0.5625"
      ]
     },
     "execution_count": 81,
     "metadata": {},
     "output_type": "execute_result"
    }
   ],
   "source": [
    "(1.5/2)**2"
   ]
  },
  {
   "cell_type": "markdown",
   "id": "8513ac4c",
   "metadata": {},
   "source": [
    "タブレットでは肝心の $x$ の値のカラムが欠けているのではないか!?"
   ]
  },
  {
   "cell_type": "markdown",
   "id": "dd265f11",
   "metadata": {},
   "source": [
    "課題 1: Plimton 322の数の表の各列に対応する $x$ の値を求めよ。"
   ]
  },
  {
   "cell_type": "markdown",
   "id": "cbddfa43",
   "metadata": {},
   "source": [
    "課題2: Plimpton 322の数表の左端にカラムを追加し、$x$ の値を計算して埋めよ。"
   ]
  },
  {
   "cell_type": "code",
   "execution_count": null,
   "id": "e3e33317",
   "metadata": {
    "scrolled": true
   },
   "outputs": [],
   "source": []
  }
 ],
 "metadata": {
  "kernelspec": {
   "display_name": "Python 3 (ipykernel)",
   "language": "python",
   "name": "python3"
  },
  "language_info": {
   "codemirror_mode": {
    "name": "ipython",
    "version": 3
   },
   "file_extension": ".py",
   "mimetype": "text/x-python",
   "name": "python",
   "nbconvert_exporter": "python",
   "pygments_lexer": "ipython3",
   "version": "3.9.12"
  },
  "toc": {
   "base_numbering": 1,
   "nav_menu": {},
   "number_sections": true,
   "sideBar": true,
   "skip_h1_title": false,
   "title_cell": "Table of Contents",
   "title_sidebar": "Contents",
   "toc_cell": false,
   "toc_position": {},
   "toc_section_display": true,
   "toc_window_display": false
  }
 },
 "nbformat": 4,
 "nbformat_minor": 5
}
