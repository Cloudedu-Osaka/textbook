{
 "cells": [
  {
   "cell_type": "code",
   "execution_count": null,
   "id": "925d3649",
   "metadata": {},
   "outputs": [],
   "source": []
  },
  {
   "cell_type": "code",
   "execution_count": null,
   "id": "94b5c89c",
   "metadata": {},
   "outputs": [],
   "source": []
  },
  {
   "cell_type": "code",
   "execution_count": 233,
   "id": "8d47e087",
   "metadata": {
    "scrolled": true
   },
   "outputs": [
    {
     "name": "stdout",
     "output_type": "stream",
     "text": [
      "512 0\n",
      "256 0\n",
      "128 0\n",
      "64 0\n",
      "32 0\n",
      "16 0\n",
      "8 0\n",
      "4 0\n",
      "2 0\n",
      "1 0\n",
      "0 1\n"
     ]
    }
   ],
   "source": [
    "q = 1024\n",
    "while q > 0:\n",
    "    q,r=divmod(q,2)\n",
    "    print(q,r)"
   ]
  },
  {
   "cell_type": "code",
   "execution_count": 4,
   "id": "f07d5c07",
   "metadata": {},
   "outputs": [
    {
     "data": {
      "text/plain": [
       "5"
      ]
     },
     "execution_count": 4,
     "metadata": {},
     "output_type": "execute_result"
    }
   ],
   "source": [
    "int(\"101\", 2)"
   ]
  },
  {
   "cell_type": "code",
   "execution_count": 181,
   "id": "34ca4f4a",
   "metadata": {},
   "outputs": [
    {
     "data": {
      "text/plain": [
       "'0b1111111111'"
      ]
     },
     "execution_count": 181,
     "metadata": {},
     "output_type": "execute_result"
    }
   ],
   "source": [
    "bin(1023)"
   ]
  },
  {
   "cell_type": "code",
   "execution_count": 182,
   "id": "b9c17b48",
   "metadata": {
    "scrolled": true
   },
   "outputs": [
    {
     "data": {
      "text/plain": [
       "'1111111111'"
      ]
     },
     "execution_count": 182,
     "metadata": {},
     "output_type": "execute_result"
    }
   ],
   "source": [
    "bin(1023)[2:]"
   ]
  },
  {
   "cell_type": "code",
   "execution_count": null,
   "id": "9db6facf",
   "metadata": {},
   "outputs": [],
   "source": []
  },
  {
   "cell_type": "code",
   "execution_count": 228,
   "id": "077a5746",
   "metadata": {},
   "outputs": [
    {
     "data": {
      "text/plain": [
       "10"
      ]
     },
     "execution_count": 228,
     "metadata": {},
     "output_type": "execute_result"
    }
   ],
   "source": [
    "(1023).bit_length()"
   ]
  },
  {
   "cell_type": "code",
   "execution_count": 227,
   "id": "6a55ae59",
   "metadata": {},
   "outputs": [
    {
     "data": {
      "text/plain": [
       "1024"
      ]
     },
     "execution_count": 227,
     "metadata": {},
     "output_type": "execute_result"
    }
   ],
   "source": [
    "1<<(1023).bit_length()"
   ]
  },
  {
   "cell_type": "code",
   "execution_count": null,
   "id": "8e86aa58",
   "metadata": {},
   "outputs": [],
   "source": []
  },
  {
   "cell_type": "code",
   "execution_count": null,
   "id": "4bccc7d6",
   "metadata": {},
   "outputs": [],
   "source": []
  },
  {
   "cell_type": "code",
   "execution_count": null,
   "id": "9c9cf411",
   "metadata": {},
   "outputs": [],
   "source": []
  },
  {
   "cell_type": "code",
   "execution_count": 232,
   "id": "4aba4a79",
   "metadata": {},
   "outputs": [
    {
     "name": "stdout",
     "output_type": "stream",
     "text": [
      "0b1\n",
      "0b11\n",
      "0b111\n",
      "0b1111\n",
      "0b11111\n",
      "0b111111\n",
      "0b1111111\n",
      "0b11111111\n",
      "0b111111111\n",
      "0b1111111111\n"
     ]
    },
    {
     "data": {
      "text/plain": [
       "1023"
      ]
     },
     "execution_count": 232,
     "metadata": {},
     "output_type": "execute_result"
    }
   ],
   "source": [
    "d = 0\n",
    "for b in bin(1023)[2:]:\n",
    "    d = d*2+int(b)\n",
    "    print(bin(d))\n",
    "d"
   ]
  },
  {
   "cell_type": "code",
   "execution_count": null,
   "id": "5342b093",
   "metadata": {},
   "outputs": [],
   "source": []
  },
  {
   "cell_type": "code",
   "execution_count": 26,
   "id": "9efb650b",
   "metadata": {},
   "outputs": [
    {
     "data": {
      "text/plain": [
       "[1, 0, 0, 0, 0, 0, 0, 0, 0, 0, 0]"
      ]
     },
     "execution_count": 26,
     "metadata": {},
     "output_type": "execute_result"
    }
   ],
   "source": [
    "list(map(int,list(bin(1024)[2:])))"
   ]
  },
  {
   "cell_type": "code",
   "execution_count": 27,
   "id": "57fa412d",
   "metadata": {},
   "outputs": [
    {
     "data": {
      "text/plain": [
       "[1, 0, 0, 0, 0, 0, 0, 0, 0, 0, 0]"
      ]
     },
     "execution_count": 27,
     "metadata": {},
     "output_type": "execute_result"
    }
   ],
   "source": [
    "[int(x) for x in bin(1024)[2:]]"
   ]
  },
  {
   "cell_type": "code",
   "execution_count": null,
   "id": "9d588534",
   "metadata": {},
   "outputs": [],
   "source": []
  },
  {
   "cell_type": "code",
   "execution_count": 183,
   "id": "c40c2ffc",
   "metadata": {},
   "outputs": [
    {
     "data": {
      "text/plain": [
       "1023"
      ]
     },
     "execution_count": 183,
     "metadata": {},
     "output_type": "execute_result"
    }
   ],
   "source": [
    "int(bin(1023)[2:],2)"
   ]
  },
  {
   "cell_type": "code",
   "execution_count": 185,
   "id": "33cd8925",
   "metadata": {},
   "outputs": [
    {
     "data": {
      "text/plain": [
       "1023"
      ]
     },
     "execution_count": 185,
     "metadata": {},
     "output_type": "execute_result"
    }
   ],
   "source": [
    "int(bin(1023),2)"
   ]
  },
  {
   "cell_type": "code",
   "execution_count": 190,
   "id": "57099f30",
   "metadata": {},
   "outputs": [
    {
     "name": "stdout",
     "output_type": "stream",
     "text": [
      "1\n",
      "3\n",
      "7\n",
      "15\n",
      "31\n",
      "63\n",
      "127\n",
      "255\n",
      "511\n",
      "1023\n"
     ]
    }
   ],
   "source": [
    "x = 0\n",
    "i = 0\n",
    "for b in reversed([int(x) for x in bin(1023)[2:]]):\n",
    "    x+=b*2**i\n",
    "    print(x)\n",
    "    i+=1"
   ]
  },
  {
   "cell_type": "code",
   "execution_count": 207,
   "id": "c3f4cca8",
   "metadata": {},
   "outputs": [],
   "source": [
    "x = np.array(list(reversed([int(x) for x in bin(1023)[2:]])))"
   ]
  },
  {
   "cell_type": "code",
   "execution_count": 208,
   "id": "48ddb7a7",
   "metadata": {},
   "outputs": [
    {
     "data": {
      "text/plain": [
       "(10,)"
      ]
     },
     "execution_count": 208,
     "metadata": {},
     "output_type": "execute_result"
    }
   ],
   "source": [
    "x.shape"
   ]
  },
  {
   "cell_type": "code",
   "execution_count": 210,
   "id": "fb6c9d50",
   "metadata": {},
   "outputs": [],
   "source": [
    "a = 2**np.arange(10)"
   ]
  },
  {
   "cell_type": "code",
   "execution_count": 213,
   "id": "2e7748e4",
   "metadata": {},
   "outputs": [
    {
     "data": {
      "text/plain": [
       "array([  1,   2,   4,   8,  16,  32,  64, 128, 256, 512])"
      ]
     },
     "execution_count": 213,
     "metadata": {},
     "output_type": "execute_result"
    }
   ],
   "source": [
    "2**np.arange(10)"
   ]
  },
  {
   "cell_type": "code",
   "execution_count": 211,
   "id": "671f96ed",
   "metadata": {},
   "outputs": [
    {
     "data": {
      "text/plain": [
       "1023"
      ]
     },
     "execution_count": 211,
     "metadata": {},
     "output_type": "execute_result"
    }
   ],
   "source": [
    "x@a"
   ]
  },
  {
   "cell_type": "code",
   "execution_count": null,
   "id": "a885df07",
   "metadata": {},
   "outputs": [],
   "source": []
  },
  {
   "cell_type": "code",
   "execution_count": 191,
   "id": "2332cd72",
   "metadata": {},
   "outputs": [],
   "source": [
    "import numpy as np"
   ]
  },
  {
   "cell_type": "code",
   "execution_count": 193,
   "id": "e3c260e9",
   "metadata": {},
   "outputs": [
    {
     "data": {
      "text/plain": [
       "array([1, 2, 4])"
      ]
     },
     "execution_count": 193,
     "metadata": {},
     "output_type": "execute_result"
    }
   ],
   "source": [
    "2**np.arange(3)"
   ]
  },
  {
   "cell_type": "code",
   "execution_count": 201,
   "id": "c0573b2a",
   "metadata": {},
   "outputs": [
    {
     "data": {
      "text/plain": [
       "255"
      ]
     },
     "execution_count": 201,
     "metadata": {},
     "output_type": "execute_result"
    }
   ],
   "source": [
    "np.array(list(map(int,list('11111111')))) @ 2**np.arange(8)"
   ]
  },
  {
   "cell_type": "code",
   "execution_count": null,
   "id": "2d1282e4",
   "metadata": {},
   "outputs": [],
   "source": []
  },
  {
   "cell_type": "code",
   "execution_count": 28,
   "id": "e9858f74",
   "metadata": {},
   "outputs": [
    {
     "data": {
      "text/plain": [
       "1"
      ]
     },
     "execution_count": 28,
     "metadata": {},
     "output_type": "execute_result"
    }
   ],
   "source": [
    "1 and 1"
   ]
  },
  {
   "cell_type": "code",
   "execution_count": 29,
   "id": "b622a4f8",
   "metadata": {},
   "outputs": [
    {
     "data": {
      "text/plain": [
       "0"
      ]
     },
     "execution_count": 29,
     "metadata": {},
     "output_type": "execute_result"
    }
   ],
   "source": [
    "1 and 0"
   ]
  },
  {
   "cell_type": "code",
   "execution_count": 32,
   "id": "4ae406f5",
   "metadata": {},
   "outputs": [
    {
     "data": {
      "text/plain": [
       "0"
      ]
     },
     "execution_count": 32,
     "metadata": {},
     "output_type": "execute_result"
    }
   ],
   "source": [
    "1 ^ 1"
   ]
  },
  {
   "cell_type": "code",
   "execution_count": 34,
   "id": "43d50319",
   "metadata": {},
   "outputs": [],
   "source": [
    "import itertools"
   ]
  },
  {
   "cell_type": "code",
   "execution_count": 37,
   "id": "7580c41e",
   "metadata": {},
   "outputs": [
    {
     "data": {
      "text/plain": [
       "[0, 1, 1, 0]"
      ]
     },
     "execution_count": 37,
     "metadata": {},
     "output_type": "execute_result"
    }
   ],
   "source": [
    "[p ^ q for p, q in itertools.product((0,1), repeat=2)]"
   ]
  },
  {
   "cell_type": "code",
   "execution_count": 38,
   "id": "5c295750",
   "metadata": {},
   "outputs": [],
   "source": [
    "from operator import xor"
   ]
  },
  {
   "cell_type": "code",
   "execution_count": 39,
   "id": "a8763e9e",
   "metadata": {},
   "outputs": [
    {
     "ename": "SyntaxError",
     "evalue": "invalid syntax (3645866244.py, line 1)",
     "output_type": "error",
     "traceback": [
      "\u001b[0;36m  Input \u001b[0;32mIn [39]\u001b[0;36m\u001b[0m\n\u001b[0;31m    1 xor 1\u001b[0m\n\u001b[0m      ^\u001b[0m\n\u001b[0;31mSyntaxError\u001b[0m\u001b[0;31m:\u001b[0m invalid syntax\n"
     ]
    }
   ],
   "source": [
    "1 xor 1"
   ]
  },
  {
   "cell_type": "code",
   "execution_count": 41,
   "id": "58c1261c",
   "metadata": {},
   "outputs": [
    {
     "data": {
      "text/plain": [
       "0"
      ]
     },
     "execution_count": 41,
     "metadata": {},
     "output_type": "execute_result"
    }
   ],
   "source": [
    "3 ^ 3"
   ]
  },
  {
   "cell_type": "code",
   "execution_count": 42,
   "id": "ea951612",
   "metadata": {},
   "outputs": [
    {
     "data": {
      "text/plain": [
       "0"
      ]
     },
     "execution_count": 42,
     "metadata": {},
     "output_type": "execute_result"
    }
   ],
   "source": [
    "xor(3,3)"
   ]
  },
  {
   "cell_type": "code",
   "execution_count": 43,
   "id": "44760564",
   "metadata": {},
   "outputs": [
    {
     "data": {
      "text/plain": [
       "1"
      ]
     },
     "execution_count": 43,
     "metadata": {},
     "output_type": "execute_result"
    }
   ],
   "source": [
    "1&1"
   ]
  },
  {
   "cell_type": "code",
   "execution_count": 44,
   "id": "b126db34",
   "metadata": {},
   "outputs": [
    {
     "data": {
      "text/plain": [
       "False"
      ]
     },
     "execution_count": 44,
     "metadata": {},
     "output_type": "execute_result"
    }
   ],
   "source": [
    "True & False"
   ]
  },
  {
   "cell_type": "code",
   "execution_count": 53,
   "id": "be54859a",
   "metadata": {},
   "outputs": [
    {
     "data": {
      "text/plain": [
       "-2"
      ]
     },
     "execution_count": 53,
     "metadata": {},
     "output_type": "execute_result"
    }
   ],
   "source": [
    "~True"
   ]
  },
  {
   "cell_type": "code",
   "execution_count": 57,
   "id": "fa74445a",
   "metadata": {},
   "outputs": [
    {
     "data": {
      "text/plain": [
       "'0b1111111110'"
      ]
     },
     "execution_count": 57,
     "metadata": {},
     "output_type": "execute_result"
    }
   ],
   "source": [
    "bin(~1&1023)"
   ]
  },
  {
   "cell_type": "code",
   "execution_count": 59,
   "id": "b7c349fa",
   "metadata": {},
   "outputs": [
    {
     "data": {
      "text/plain": [
       "['1', '2', '3', '4']"
      ]
     },
     "execution_count": 59,
     "metadata": {},
     "output_type": "execute_result"
    }
   ],
   "source": [
    "[n for n in str(int(1234))]"
   ]
  },
  {
   "cell_type": "code",
   "execution_count": 63,
   "id": "2151deec",
   "metadata": {},
   "outputs": [
    {
     "data": {
      "text/plain": [
       "<reversed at 0x10ce1f1c0>"
      ]
     },
     "execution_count": 63,
     "metadata": {},
     "output_type": "execute_result"
    }
   ],
   "source": [
    "reversed(\"1234\")"
   ]
  },
  {
   "cell_type": "code",
   "execution_count": 69,
   "id": "4e4c2bc0",
   "metadata": {},
   "outputs": [
    {
     "data": {
      "text/plain": [
       "[('4', '7'), ('3', '6'), ('2', '5'), ('1', '0')]"
      ]
     },
     "execution_count": 69,
     "metadata": {},
     "output_type": "execute_result"
    }
   ],
   "source": [
    "from itertools import zip_longest\n",
    "[(n,m) for n,m in zip_longest(reversed(\"1234\"), reversed(\"567\"), fillvalue='0')]"
   ]
  },
  {
   "cell_type": "code",
   "execution_count": 159,
   "id": "8229ee4f",
   "metadata": {},
   "outputs": [],
   "source": [
    "def long_addition(a,b):\n",
    "    a = map(int,reversed(str(a)))\n",
    "    b = map(int,reversed(str(b)))\n",
    "    q=0\n",
    "    for n,m in zip_longest(a, b, fillvalue=0):\n",
    "        q, r = divmod(q+n+m,10)\n",
    "        yield str(r)\n",
    "    if q:\n",
    "        yield str(q)"
   ]
  },
  {
   "cell_type": "code",
   "execution_count": 160,
   "id": "af47e01b",
   "metadata": {},
   "outputs": [
    {
     "data": {
      "text/plain": [
       "15308"
      ]
     },
     "execution_count": 160,
     "metadata": {},
     "output_type": "execute_result"
    }
   ],
   "source": [
    "int(''.join(reversed(list(long_addition(9876,5432)))))"
   ]
  },
  {
   "cell_type": "markdown",
   "id": "a24023d8",
   "metadata": {},
   "source": [
    "machikane-312#1"
   ]
  },
  {
   "cell_type": "code",
   "execution_count": 179,
   "id": "9746a443",
   "metadata": {},
   "outputs": [],
   "source": [
    "def long_addition2(a,b):\n",
    "    a = map(int,reversed(bin(a)[2:]))\n",
    "    b = map(int,reversed(bin(b)[2:]))\n",
    "    q=0\n",
    "    for n,m in zip_longest(a, b, fillvalue=0):\n",
    "        print(n,m)\n",
    "        #q, r = divmod(q+n+m,2)\n",
    "        r = q ^ n ^ m\n",
    "        q = q & n | q & m | n & m\n",
    "        yield str(r)\n",
    "    if q:\n",
    "        yield str(q)"
   ]
  },
  {
   "cell_type": "code",
   "execution_count": 180,
   "id": "9ff9c0ee",
   "metadata": {
    "scrolled": true
   },
   "outputs": [
    {
     "name": "stdout",
     "output_type": "stream",
     "text": [
      "0 0\n",
      "0 0\n",
      "1 0\n",
      "0 1\n",
      "1 1\n",
      "0 1\n",
      "0 0\n",
      "1 0\n",
      "0 1\n",
      "1 0\n",
      "1 1\n",
      "0 0\n",
      "0 1\n",
      "1 0\n"
     ]
    },
    {
     "data": {
      "text/plain": [
       "15308"
      ]
     },
     "execution_count": 180,
     "metadata": {},
     "output_type": "execute_result"
    }
   ],
   "source": [
    "int(''.join(reversed(list(long_addition2(9876,5432)))),2)"
   ]
  },
  {
   "cell_type": "code",
   "execution_count": 174,
   "id": "156d8d05",
   "metadata": {},
   "outputs": [
    {
     "data": {
      "text/plain": [
       "[4, 3, 2, 1]"
      ]
     },
     "execution_count": 174,
     "metadata": {},
     "output_type": "execute_result"
    }
   ],
   "source": [
    "list(map(int,str(1234)[::-1]))"
   ]
  },
  {
   "cell_type": "code",
   "execution_count": 176,
   "id": "527e696f",
   "metadata": {},
   "outputs": [
    {
     "data": {
      "text/plain": [
       "'4321'"
      ]
     },
     "execution_count": 176,
     "metadata": {},
     "output_type": "execute_result"
    }
   ],
   "source": [
    "''.join(map(str,[4,3,2,1]))"
   ]
  },
  {
   "cell_type": "code",
   "execution_count": null,
   "id": "6b855360",
   "metadata": {},
   "outputs": [],
   "source": []
  }
 ],
 "metadata": {
  "kernelspec": {
   "display_name": "Python 3 (ipykernel)",
   "language": "python",
   "name": "python3"
  },
  "language_info": {
   "codemirror_mode": {
    "name": "ipython",
    "version": 3
   },
   "file_extension": ".py",
   "mimetype": "text/x-python",
   "name": "python",
   "nbconvert_exporter": "python",
   "pygments_lexer": "ipython3",
   "version": "3.9.12"
  },
  "toc": {
   "base_numbering": 1,
   "nav_menu": {},
   "number_sections": true,
   "sideBar": true,
   "skip_h1_title": false,
   "title_cell": "Table of Contents",
   "title_sidebar": "Contents",
   "toc_cell": false,
   "toc_position": {},
   "toc_section_display": true,
   "toc_window_display": false
  }
 },
 "nbformat": 4,
 "nbformat_minor": 5
}
